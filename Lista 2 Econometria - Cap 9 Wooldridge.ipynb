{
 "metadata": {
  "language_info": {
   "codemirror_mode": {
    "name": "ipython",
    "version": 3
   },
   "file_extension": ".py",
   "mimetype": "text/x-python",
   "name": "python",
   "nbconvert_exporter": "python",
   "pygments_lexer": "ipython3",
   "version": "3.7.7-final"
  },
  "orig_nbformat": 2,
  "kernelspec": {
   "name": "python3",
   "display_name": "Python 3",
   "language": "python"
  }
 },
 "nbformat": 4,
 "nbformat_minor": 2,
 "cells": [
  {
   "cell_type": "code",
   "execution_count": 1,
   "metadata": {},
   "outputs": [],
   "source": [
    "##Importando os pacotes e módulos necessários\n",
    "import pandas as pd\n",
    "import numpy as np\n",
    "import math\n",
    "\n",
    "#Para Regressão Linear Simples e Teste F\n",
    "from scipy import stats\n",
    "#Para Regressão Linear Múltipla (OLS, GLS e WLS) e Testes Estatísticos\n",
    "import statsmodels.api as sm\n",
    "import econtools\n",
    "import econtools.metrics as mt\n",
    "#Para Regressão em Painel\n",
    "from linearmodels import PanelOLS, FirstDifferenceOLS, PooledOLS, RandomEffects\n",
    "\n",
    "#Pacotes para gráficos (caso precise)\n",
    "import matplotlib\n",
    "import matplotlib.pyplot as plt\n",
    "import seaborn as sns\n",
    "import plotly.express as px\n",
    "import plotly.graph_objects as go\n",
    "\n",
    "#Pacotes para fazer a coleta dos dados armazenados no mesmo diretório e outros pacotes gerais\n",
    "import os\n",
    "import pathlib\n",
    "import glob\n",
    "from IPython.display import clear_output\n",
    "\n",
    "####################################### Criando as Funções ###############################################################\n",
    "\n",
    "def coletar_dados(nome = \"\"):\n",
    "    '''\n",
    "    Função que le os arquivos do Stata (.dta) - NÃO COLOQUE A EXTENSÃO NA HORA DE NOMEAR O \"NOME\"!\n",
    "    O arquivo deve estar na mesma pasta do arquivo de Python ou do notebook do jupyter.\n",
    "    Deixe em branco para ler o arquivo mais recentemente adicionado à pasta.\n",
    "    '''\n",
    "\n",
    "    global df\n",
    "\n",
    "    #Pegando qual a pasta do arquivo que está sendo usado pra programar\n",
    "    caminho = pathlib.Path().absolute()\n",
    "\n",
    "    #No meu caso específico:\n",
    "    caminho_vinicius = f\"{caminho}/datasets\"\n",
    "\n",
    "    #checando se o nome foi inserido ou não; caso não, pegar o arquivo .dta mais recente\n",
    "    if nome == \"\":\n",
    "        try:\n",
    "            arquivo = max(glob.glob(f\"{str(caminho)}/*.dta\"), key=os.path.getctime)\n",
    "            df = pd.read_stata(arquivo)\n",
    "            print(f\"{arquivo}.dta foi lido com sucesso!\")\n",
    "            return df\n",
    "        except:\n",
    "            arquivo = max(glob.glob(f\"{str(caminho_vinicius)}/*.dta\"), key=os.path.getctime)\n",
    "            df = pd.read_stata(arquivo)\n",
    "            print(f\"{arquivo}.dta foi lido com sucesso!\")\n",
    "            return df\n",
    "    else:\n",
    "        try:\n",
    "            arquivo = f\"{str(caminho)}/{str(nome)}.dta\"\n",
    "            df = pd.read_stata(arquivo)\n",
    "            print(f\"{nome}.dta foi lido com sucesso!\")\n",
    "            return df\n",
    "        except:\n",
    "            try:\n",
    "                arquivo = f\"{str(caminho_vinicius)}/{str(nome)}.dta\"\n",
    "                df = pd.read_stata(arquivo)\n",
    "                print(f\"{nome}.dta foi lido com sucesso!\")\n",
    "                return df\n",
    "            except: #caso não tenha sido encontrado o arquivo com o nome inserido\n",
    "                print('''\n",
    "                Não foi possível achar o arquivo :(\\n\n",
    "                Verifique se seu nome está correto (sem a extensão) e se ele está no mesmo diretório do programa!\n",
    "                ''')\n",
    "\n",
    "def Regressao_Multipla(x, y, constante = \"S\", robusta = \"N\"):\n",
    "    '''\n",
    "    Função que calcula uma regressão múltipla, sendo, por default, computada com um intercepto e com erros padrões não robustos.\n",
    "\n",
    "    x: lista ou array com os valores das variáveis independentes;\n",
    "    y: lista ou array com os valores da variável dependente;\n",
    "    constante: \"S\" para regressão com intercepto e qualquer outro valor para sem intercepto. Caso em branco, a regressão é computada com intercepto;\n",
    "    robusta: \"N\" para regressão com erros-padrão tradicionais e qualquer outro valor para erros-padrões robustos. Caso em branco, a regressão é computada com erros-padrão comuns.\n",
    "    '''\n",
    "\n",
    "    global Resultado, Lista_ychapeu, Resíduos, SQR, EPR\n",
    "\n",
    "    #adicionando uma constante ao modelo de Ordinary Least Squares (OLS)\n",
    "    if constante == \"S\":\n",
    "        X = sm.add_constant(x)\n",
    "    else:\n",
    "        X = x\n",
    "\n",
    "    #Criando o Modelo levando em conta a opção de ser uma regressão robusta p/ heteroscedasticidade ou não\n",
    "    Modelo = sm.OLS(y,X)\n",
    "\n",
    "    if robusta == \"N\":\n",
    "        Resultado = Modelo.fit()\n",
    "    else:\n",
    "        Resultado = Modelo.fit(cov_type = 'HC1', use_t = True)\n",
    "    \n",
    "    Lista_ychapeu = Resultado.predict()\n",
    "    Resíduos = y - Lista_ychapeu\n",
    "\n",
    "    #Calculando o Erro Padrão da Regressão (EPR)\n",
    "    SQR =sum([i**2 for i in Resíduos])\n",
    "    Número_de_Observações = len(y)\n",
    "    GL = Número_de_Observações - len(Resultado.params)\n",
    "    VarianciaReg = SQR/GL\n",
    "    EPR = math.sqrt(VarianciaReg)\n",
    "    \n",
    "    ##Printando o Resultado\n",
    "    print(Resultado.summary())\n",
    "\n",
    "    print(f\"O erro padrão da regressão é {round(EPR,5)} e a SQR é {round(SQR,5)}\")\n",
    "    print(\"\\nPara ver os valores previstos ou os resídudos, basta chamar 'Lista_ychapeu' e 'Resíduos'.\")\n",
    "    print(\"Os resultados do modelo podem ser obtidos através de métodos usando a variável 'Resultado'.\")\n",
    "    print(\"\"\"\n",
    "    Valores de condição maiores que 20 indicam problemas de multicolinearidade.\n",
    "    Para ver como achar esse número, entre em https://www.statsmodels.org/dev/examples/notebooks/generated/ols.html\"\"\"\n",
    "    )\n",
    "\n",
    "def Regressao_MQP(x, y, pesos, constante = \"S\", robusta = \"N\"):\n",
    "    '''\n",
    "    Função que calcula uma regressão múltipla usando mínimos quadrados ponderados, ou seja,\n",
    "    recomendada quando o erro é heteroscedástico E se sabe a função da constante. Ela é, por default, computada com um intercepto e com erros padrões não robustos.\n",
    "    multiplicativa da variância do erro.\n",
    "\n",
    "    x: lista ou array com os valores das variáveis independentes;\n",
    "    y: lista ou array com os valores da variável dependente;\n",
    "    pesos: 1/h, sendo h a constante multiplicativa da variância do erro;\n",
    "    constante: \"S\" para regressão com intercepto e qualquer outro valor para sem intercepto. Caso em branco, a regressão é computada com intercepto;\n",
    "    robusta: \"N\" para regressão com erros-padrão tradicionais e qualquer outro valor para erros-padrões robustos. Caso em branco, a regressão é computada com erros-padrão comuns.\n",
    "    '''\n",
    "\n",
    "    global Resultado, Lista_ychapeu, Resíduos, SQR, EPR\n",
    "\n",
    "    #adicionando uma constante ao modelo de Ordinary Least Squares(OLS)\n",
    "    if constante == \"S\":\n",
    "        X = sm.add_constant(x)\n",
    "    else:\n",
    "        X = x\n",
    "    #Criando o Modelo levando em conta a opção de ser uma regressão robusta p/ heteroscedasticidade ou não\n",
    "    Modelo = sm.WLS(y,X, weights = pesos)\n",
    "    if robusta == \"N\":\n",
    "        Resultado = Modelo.fit()\n",
    "    else:\n",
    "        Resultado = Modelo.fit(cov_type = 'HC1', use_t = True)\n",
    "    \n",
    "    Lista_ychapeu = Resultado.predict()\n",
    "    Resíduos = y - Lista_ychapeu\n",
    "\n",
    "    #Calculando o Erro Padrão da Regressão (EPR)\n",
    "    SQR =sum([i**2 for i in Resíduos])\n",
    "    Número_de_Observações = len(y)\n",
    "    GL = Número_de_Observações - len(Resultado.params)\n",
    "    VarianciaReg = SQR/GL\n",
    "    EPR = math.sqrt(VarianciaReg)\n",
    "    \n",
    "    ##Printando o Resultado\n",
    "    print(f\"O erro padrão da regressão é {round(EPR,5)} e a SQR é {round(SQR,5)}\\n\")\n",
    "    print(Resultado.summary())\n",
    "\n",
    "    print(\"\\nPara ver os valores previstos ou os resídudos, basta chamar 'Lista_ychapeu' e 'Resíduos'.\")\n",
    "    print(\"Os resultados do modelo podem ser obtidos através de métodos usando a variável 'Resultado'.\")\n",
    "    print(\"\"\"\n",
    "    Valores de condição maiores que 20 indicam problemas de multicolinearidade\n",
    "    Para ver como achar esse número, entre em https://www.statsmodels.org/dev/examples/notebooks/generated/ols.html\"\"\"\n",
    "    )\n",
    "    \n",
    "def Regressao_MQGF(x, y, constante = \"S\", robusta = \"N\"):\n",
    "    '''\n",
    "    Função que calcula uma regressão múltipla usando mínimos quadrados generalizados factíveis, ou seja,\n",
    "    recomendada quando o erro é heteroscedástico E NÃO se sabe a função da constante multiplicativa da variância do erro, sendo os pesos estimados\n",
    "    regridindo o log dos quadrados dos resíduos sobre as variáveis explicativas. Os estimadores MQP são gerados com o peso estimado.\n",
    "    Ela é, por default, computada com um intercepto e com erros padrões não robustos.\n",
    "\n",
    "    x: lista ou array com os valores das variáveis independentes;\n",
    "    y: lista ou array com os valores da variável dependente;\n",
    "    constante: \"S\" para regressão com intercepto e qualquer outro valor para sem intercepto. Caso em branco, a regressão é computada com intercepto;\n",
    "    robusta: \"N\" para regressão com erros-padrão tradicionais e qualquer outro valor para erros-padrões robustos. Caso em branco, a regressão é computada com erros-padrão comuns.\n",
    "    '''\n",
    "\n",
    "    global Resultado, Lista_ychapeu, Resíduos, SQR, EPR\n",
    "\n",
    "    #Regredindo os valores normalmente a fim de pegar os resíduos\n",
    "    Regressao_Multipla(x,y, constante, robusta)\n",
    "    clear_output()\n",
    "\n",
    "    #Coletando o log dos quadrados dos resíduos\n",
    "    Log_Res_Quad = np.log(Resíduos**2)\n",
    "\n",
    "    #Regredindo Log_Res_Quad sobre as variáveis explicativas\n",
    "    Regressao_Multipla(x,Log_Res_Quad, constante, robusta)\n",
    "    clear_output()\n",
    "\n",
    "    #Estimando os pesos\n",
    "    Pesos = np.exp(Lista_ychapeu)\n",
    "\n",
    "    #Fazendo uma Regressão MQP\n",
    "    Regressao_MQP(x,y, 1/Pesos, constante, robusta)\n",
    "\n",
    "def Teste_LM(x, y, Restrições, Nivel_de_Significância = 0.05):\n",
    "    '''\n",
    "    Função que calcula um teste LM e dá o resultado teste de hipótese para o caso de todas as restrições serem conjuntamente estatisticamente não-significantes.\n",
    "\n",
    "    x: lista ou array com os valores das variáveis independentes;\n",
    "    y: lista ou array com os valores da variável dependente;\n",
    "    Restrições: lista ou array com os valores a serem tirados do modelo restrito;\n",
    "    Nivel_de_Significância: nível de significância do teste. Caso branco, o nível de significancia padrão é de 5%.\n",
    "    '''\n",
    "\n",
    "    ##Definindo as variáveis de cada modelo\n",
    "    ModeloIrrestrito = list(x)\n",
    "    ModeloRestrito = []\n",
    "    Restrições = list(Restrições)\n",
    "\n",
    "    Numero_de_Observações = len(y)\n",
    "    GL_ir = Numero_de_Observações - (len(ModeloIrrestrito) + 1)\n",
    "    GL_r = len(Restrições)\n",
    "\n",
    "    for i in ModeloIrrestrito:\n",
    "        if i not in Restrições:\n",
    "            ModeloRestrito.append(i)\n",
    "    \n",
    "    #Fazendo a regressão do modelo restrito e armazenando os resíduos\n",
    "    Regressao_Multipla(df[ModeloRestrito], y)\n",
    "    Resíduos_r = Resíduos\n",
    "\n",
    "    #Fazendo a regressão dos resíduos sobre as variáveis independentes e armazenando o R2\n",
    "    Regressao_Multipla(x, Resíduos_r)\n",
    "    Ru = Resultado.rsquared\n",
    "\n",
    "    #Calculando a estatística LM\n",
    "    LM = Numero_de_Observações*Ru\n",
    "\n",
    "    #Calculando o p-valor\n",
    "    ##Calculando o P-valor de F\n",
    "    P_valor = stats.chi2.sf(LM,GL_r)\n",
    "\n",
    "    #Limpando a tela\n",
    "    clear_output()\n",
    "\n",
    "    #Printando o resultado\n",
    "    if Nivel_de_Significância > P_valor:\n",
    "        print(f\"O valor de LM é {round(LM,3)} e seu p-valor é {round(P_valor,7)}. Portanto, rejeita-se Ho a um nível de significância de {Nivel_de_Significância*100}%.\")\n",
    "    else:\n",
    "        print(f\"O valor de LM é {round(LM,3)} e seu p-valor é {round(P_valor,7)}. Portanto, não se rejeita Ho a um nível de significância de {Nivel_de_Significância*100}%.\")\n",
    "\n",
    "\n",
    "def Teste_F(x, y, Restrições, Nivel_de_Significância = 0.05):\n",
    "    '''\n",
    "    Função que calcula um teste F e dá o resultado teste de hipótese para o caso de todas as restrições serem conjuntamente estatisticamente não-significantes.\n",
    "\n",
    "    x: lista ou array com os valores das variáveis independentes;\n",
    "    y: lista ou array com os valores da variável dependente;\n",
    "    Restrições: lista ou array com os valores a serem tirados do modelo restrito;\n",
    "    Nivel_de_Significância: nível de significância do teste. Caso branco, o nível de significancia padrão é de 5%.\n",
    "    '''\n",
    "\n",
    "    ##Definindo as variáveis de cada modelo\n",
    "    #para testar igualdade dos coeficientes, F2, p_valueF2 = results.Ftest(['ACT', 'skipped'], equal=True)\n",
    "    ModeloIrrestrito = list(x)\n",
    "    ModeloRestrito = []\n",
    "    Restrições = list(Restrições)\n",
    "\n",
    "    Numero_de_Observações = len(y)\n",
    "    GL_ir = Numero_de_Observações - (len(ModeloIrrestrito) + 1)\n",
    "    GL_r = len(Restrições)\n",
    "\n",
    "    for i in ModeloIrrestrito:\n",
    "        if i not in Restrições:\n",
    "            ModeloRestrito.append(i)\n",
    "\n",
    "    ##Fazendo as regressões de cada modelo\n",
    "    Regressao_Multipla(x, y)\n",
    "    SQR_ir = SQR\n",
    "    VarianciaReg_ir = EPR**2\n",
    "\n",
    "    Regressao_Multipla(df[ModeloRestrito], y)\n",
    "    SQR_r = SQR\n",
    "\n",
    "    #Limpando a tela\n",
    "    clear_output()\n",
    "    \n",
    "    ##Calculando F\n",
    "    F = (SQR_r - SQR_ir)/(len(Restrições)*VarianciaReg_ir)\n",
    "\n",
    "    ##Calculando o P-valor de F\n",
    "    P_valor = stats.f.sf(F,GL_r,GL_ir)\n",
    "\n",
    "    if Nivel_de_Significância > P_valor:\n",
    "        print(f\"O valor de F é {round(F,3)} e seu p-valor é {round(P_valor,7)}. Portanto, rejeita-se Ho à significância de {Nivel_de_Significância*100}%.\")\n",
    "    else:\n",
    "        print(f\"O valor de F é {round(F,3)} e seu p-valor é {round(P_valor,7)}. Portanto, não se rejeita Ho à significância de {Nivel_de_Significância*100}%.\")\n",
    "\n",
    "def Teste_t_Dois_Coeficientes_Iguais(x, y, Coeficientes_Testados_para_serem_iguais, Nivel_de_Significância = 0.05):\n",
    "    '''\n",
    "    Função que executa um teste t para verificar se dois coeficientes são iguais.\n",
    "\n",
    "    x: lista ou array com os valores das variáveis independentes;\n",
    "    y: lista ou array com os valores da variável dependente;\n",
    "    Coeficientes_Testados_para_serem_iguais: array com os valores dos coeficientes que querem ser testados;\n",
    "    Nivel_de_Significância: nível de significância do teste. Caso branco, o nível de significancia padrão é de 5%.\n",
    "    '''\n",
    "    \n",
    "    ##Fazendo a regressão do modelo irrestrito\n",
    "    Regressao_Multipla(x, y)\n",
    "    clear_output()\n",
    "\n",
    "    #Fazendo o objeto de lista que será usado no teste\n",
    "    Teste =[0]\n",
    "    Num_de_Variaveis = 1\n",
    "\n",
    "    for i in list(x):\n",
    "        if i not in list(Coeficientes_Testados_para_serem_iguais):\n",
    "            Teste.append(0)\n",
    "        elif (Num_de_Variaveis % 2 == 0):\n",
    "            Teste.append(-1)\n",
    "        else:\n",
    "            Teste.append(1)\n",
    "            Num_de_Variaveis += 1\n",
    "\n",
    "    Teste_t = Resultado.t_test(Teste)\n",
    "    print(f\"A estatística do teste é {Teste_t.tvalue}, o que resulta em um p-valor de {Teste_t.pvalue,6}\")\n",
    "\n",
    "def Teste_Heteroscedasticidade_BP(x, y, constante = \"S\", Nivel_de_Significância = 0.05, Estatística = \"LM\"):\n",
    "    '''\n",
    "    Função que executa o teste de Breusch-Pagan para a heteroscedasticidade.\n",
    "\n",
    "    x: lista ou array com os valores das variáveis independentes;\n",
    "    y: lista ou array com os valores da variável dependente;\n",
    "    constante: \"S\" para regressão com intercepto e qualquer outro valor para sem intercepto. Caso em branco, a regressão é computada com intercepto;\n",
    "    Nivel_de_Significância: nível de significância do teste. Caso branco, o nível de significancia padrão é de 5%.\n",
    "    Estatística = LM ou F\n",
    "    '''\n",
    "\n",
    "    #Fazendo a regressão e limpando a tela\n",
    "    Regressao_Multipla(x,y,constante)\n",
    "    clear_output()\n",
    "\n",
    "    #Calculando o quadrado dos resíduos\n",
    "    Res_Quad = Resíduos**2\n",
    "\n",
    "    #Realizando o teste F ou LM de Res_Quad sobre as variaveis dependentes para ver se há correlação\n",
    "    if Estatística == \"LM\":\n",
    "        Teste_LM(x, Res_Quad, x, Nivel_de_Significância)\n",
    "        print(\"Ho: O erro é homoscedástico\")\n",
    "    else:\n",
    "        Teste_F(x, Res_Quad, x, Nivel_de_Significância)\n",
    "        print(\"Ho: O erro é homoscedástico\")\n",
    "\n",
    "def Teste_Heteroscedasticidade_White(x, y, constante = \"S\", Nivel_de_Significância = 0.05, Estatística = \"LM\"):\n",
    "    '''\n",
    "    Função que executa o teste de White (modificado por Wooldridge) para a heteroscedasticidade.\n",
    "\n",
    "    x: lista ou array com os valores das variáveis independentes;\n",
    "    y: lista ou array com os valores da variável dependente;\n",
    "    constante: \"S\" para regressão com intercepto e qualquer outro valor para sem intercepto. Caso em branco, a regressão é computada com intercepto;\n",
    "    Nivel_de_Significância: nível de significância do teste. Caso branco, o nível de significancia padrão é de 5%.\n",
    "    Estatística: LM ou F\n",
    "    '''\n",
    "\n",
    "    #Fazendo a regressão e limpando a tela\n",
    "    Regressao_Multipla(x,y,constante)\n",
    "    clear_output()\n",
    "\n",
    "    #Calculando o quadrado dos resíduos\n",
    "    Res_Quad = Resultado.resid**2\n",
    "\n",
    "    #Calculando o quadrado dos valores previstos\n",
    "    Previstos = Lista_ychapeu\n",
    "    Previstos2 = Previstos**2\n",
    "\n",
    "    #Criando um dataframe pra armazenar esses valores\n",
    "    dfy_y2 = pd.DataFrame({\"y\":Previstos,\"y2\":Previstos2})\n",
    "    y_y2 = dfy_y2[['y','y2']]\n",
    "\n",
    "    #Realizando o teste F ou LM de Res_Quad sobre y e y^2\n",
    "    if Estatística == \"LM\":\n",
    "        Teste_LM(y_y2, Res_Quad, y_y2, Nivel_de_Significância)\n",
    "        print(\"Ho: O erro é homoscedástico\")\n",
    "    else:\n",
    "        Teste_F(y_y2, Res_Quad, y_y2, Nivel_de_Significância)\n",
    "        print(\"Ho: O erro é homoscedástico\")\n",
    "\n",
    "def RESET(x, y, constante = \"S\", robusta = \"N\", Nivel_de_Significância = 0.05):\n",
    "    '''\n",
    "    Função que executa um teste RESET para verificar a adequação das formas funcionais.\n",
    "    Ho: o modelo está bem especificado.\n",
    "\n",
    "    x: lista ou array com os valores das variáveis independentes;\n",
    "    y: lista ou array com os valores da variável dependente;\n",
    "    constante: \"S\" para regressão com intercepto e qualquer outro valor para sem intercepto. Caso em branco, a regressão é computada com intercepto;\n",
    "    robusta: \"N\" para regressão com erros-padrão tradicionais e qualquer outro valor para erros-padrões robustos. Caso em branco, a regressão é computada com erros-padrão comuns;\n",
    "    Nivel_de_Significância: nível de significância do teste. Caso branco, o nível de significancia padrão é de 5%.\n",
    "    '''\n",
    "    #Fazendo uma regressão múltipla e limpando a tela\n",
    "    Regressao_Multipla(x, y, constante)\n",
    "    clear_output()\n",
    "\n",
    "    #Verificando o tipo da covariância selecionada\n",
    "    if robusta == \"N\":\n",
    "        tipo = 'nonrobust'\n",
    "    else:\n",
    "        tipo = 'HC1'\n",
    "\n",
    "    Teste = sm.stats.diagnostic.linear_reset(Resultado, power = 2, use_f = False, cov_type = tipo)\n",
    "    \n",
    "    if Teste.pvalue < Nivel_de_Significância:\n",
    "        print(f\"\"\"\n",
    "        O p-valor do teste foi de {np.around(Teste.pvalue,6)}, menor que o nível de significância de {Nivel_de_Significância*100}%.\\n\n",
    "        Assim, rejeita-se Ho (o modelo está MAL especificado).\"\"\"\n",
    "        )\n",
    "    else:\n",
    "        print(f\"\"\"\n",
    "        O p-valor do teste foi de {np.around(Teste.pvalue,6)}, maior que o nível de significância de {Nivel_de_Significância*100}%.\\n\n",
    "        Assim, não se rejeita Ho (o modelo NÃO está MAL especificado)\"\"\"\n",
    "        )\n",
    "\n",
    "def Teste_J_Davidson_MacKinnon(x1,x2, y, constante = \"S\", robusta = \"N\", Nivel_de_Significância = 0.05):\n",
    "    '''\n",
    "    Função que executa um teste J para verificar qual o modelo mais adequado (dentre os dois colocados).\n",
    "    Ho: o modelo 1 é preferível (ver o p-valor do último coeficiente).\n",
    "\n",
    "    x1: lista ou array com os valores das variáveis independentes do primeiro modelo;\n",
    "    x2: lista ou array com os valores das variáveis independentes do segundo modelo;\n",
    "    y: lista ou array com os valores da variável dependente;\n",
    "    constante: \"S\" para regressão com intercepto e qualquer outro valor para sem intercepto. Caso em branco, a regressão é computada com intercepto;\n",
    "    robusta: \"N\" para regressão com erros-padrão tradicionais e qualquer outro valor para erros-padrões robustos. Caso em branco, a regressão é computada com erros-padrão comuns;\n",
    "    Nivel_de_Significância: nível de significância do teste. Caso branco, o nível de significancia padrão é de 5%.\n",
    "    '''\n",
    "    \n",
    "    #Fazendo a regressão do segundo modelo\n",
    "    Regressao_Multipla(x2, y, constante, robusta)\n",
    "    clear_output()\n",
    "\n",
    "    #Criando um novo dataframe e adicionando os valores previstos do modelo 2 à x\n",
    "    Valores_Previstos_2 = pd.DataFrame({'Previsão M1':Lista_ychapeu})\n",
    "    x = pd.concat([x1, Valores_Previstos_2], axis=1, sort=False)\n",
    "\n",
    "    #Fazendo a regressão do primeiro modelo sobre x\n",
    "    Regressao_Multipla(x, y, constante, robusta)\n",
    "    clear_output()\n",
    "\n",
    "    #Pegando o p-valor do teste\n",
    "    P_valor = Resultado.pvalues[-1]\n",
    "\n",
    "    if P_valor < Nivel_de_Significância:\n",
    "        print(f\"\"\"\n",
    "        O p-valor do teste foi de {np.around(P_valor,6)}, menor que o nível de significância de {Nivel_de_Significância*100}%.\\n\n",
    "        Assim, rejeita-se Ho (ou seja, o modelo 2 ({list(x2)}) é mais bem especificado).\"\"\"\n",
    "        )\n",
    "    else:\n",
    "        print(f\"\"\"\n",
    "        O p-valor do teste foi de {np.around(P_valor,6)}, menor que o nível de significância de {Nivel_de_Significância*100}%.\\n\n",
    "        Assim, não se rejeita Ho (ou seja, o modelo 1 ({list(x1)}) é mais bem especificado).\"\"\"\n",
    "        )\n",
    "\n",
    "######### Funções de Dados em Painel #########\n",
    "def Arrumar_Painel():\n",
    "    '''\n",
    "    Função que transforma o painel num formato que o PanelOLS consegue ler (index multinível e coluna do tipo categoria para os anos)\n",
    "    '''\n",
    "    global df\n",
    "\n",
    "    # pedir a coluna com os indivíduos; se o nome for inválido, sair da função.\n",
    "    coluna_individuos = str(input('Qual o rótulo da coluna de indivíduos/observações?\\n'))\n",
    "    if coluna_individuos not in df.columns:\n",
    "        print(\"Coluna de indivíduos não está no dataframe. Insira uma coluna válida e tente novamente!\")\n",
    "        return None\n",
    "    \n",
    "    # pedir a coluna com os períodos de tempo; se o valor for inválido, sair da função.\n",
    "    coluna_tempo = str(input('Qual o rótulo da coluna de tempo?\\n'))\n",
    "    if coluna_tempo not in df.columns:\n",
    "        print(\"Coluna de tempo não está no dataframe. Insira uma coluna válida e tente novamente!\")\n",
    "        return None\n",
    "\n",
    "    ## arrumando o painel\n",
    "    periodos = pd.Categorical(df[coluna_tempo])\n",
    "    df = df.set_index([coluna_individuos,coluna_tempo])\n",
    "    df[coluna_tempo] = periodos\n",
    "    return df\n",
    "\n",
    "def Reg_Painel_Primeiras_Diferenças (x,y, robusta = \"N\"):\n",
    "    '''\n",
    "    Função que calcula uma regressão de primeiras diferenças SEM um intercepto, sendo, por default, computada com erros padrões não robustos.\n",
    "    Para calcular a regressão com um intercepto, ver o notebook \"Cap 13 e 14\".\n",
    "    **IMPORTANTE: para o painel estar arrumado, os dados devem estar multi-indexados por indíviduo e por tempo, nesta ordem.\n",
    "    Caso contrário, transformar o dataframe usando a função 'Arrumar Painel'\n",
    "    x: lista ou array com os valores das variáveis independentes;\n",
    "    y: lista ou array com os valores da variável dependente;\n",
    "    robusta: \"N\" para regressão com erros-padrão tradicionais e qualquer outro valor para erros-padrões robustos. Caso em branco, a regressão é computada com erros-padrão comuns.\n",
    "    '''\n",
    "    Modelo = FirstDifferenceOLS(y, x)\n",
    "    Resultado = Modelo.fit()\n",
    "    print(Resultado)\n",
    "\n",
    "def Reg_Painel_Efeitos_Fixos(x, y, constante = \"S\", robusta = \"N\"):\n",
    "    '''\n",
    "    Função que calcula uma regressão de efeitos fixos, sendo, por default, computada com um intercepto e com erros padrões não robustos.\n",
    "    **IMPORTANTE: para o painel estar arrumado, os dados devem estar multi-indexados por indíviduo e por tempo, nesta ordem.\n",
    "    Caso contrário, transformar o dataframe usando a função 'Arrumar Painel'\n",
    "    x: lista ou array com os valores das variáveis independentes;\n",
    "    y: lista ou array com os valores da variável dependente;\n",
    "    constante: \"S\" para regressão com intercepto e qualquer outro valor para sem intercepto. Caso em branco, a regressão é computada com intercepto;\n",
    "    robusta: \"N\" para regressão com erros-padrão tradicionais e qualquer outro valor para erros-padrões robustos. Caso em branco, a regressão é computada com erros-padrão comuns.\n",
    "    '''\n",
    "    global df, Resultado\n",
    "    \n",
    "    # formando o vetor de variáveis independentes\n",
    "    if constante == \"S\":\n",
    "        X = sm.add_constant(x)\n",
    "    else:\n",
    "        X = x\n",
    "    \n",
    "    #Criando o Modelo levando em conta a opção de ser uma regressão robusta p/ heteroscedasticidade ou não\n",
    "    Modelo = PanelOLS(y,X, entity_effects=True)\n",
    "    if robusta == \"N\":\n",
    "        Resultado = Modelo.fit()\n",
    "    else:\n",
    "        Resultado = Modelo.fit(cov_type = 'robust')\n",
    "    print(Resultado)\n",
    "\n",
    "def Reg_Painel_MQO_Agrupado(x, y, constante = \"S\", robusta = \"S\"):\n",
    "    '''\n",
    "    Função que calcula uma regressão por MQO agrupado, sendo, por default, computada com um intercepto e com erros padrões  robustos.\n",
    "    **IMPORTANTE: para o painel estar arrumado, os dados devem estar multi-indexados por indíviduo e por tempo, nesta ordem.\n",
    "    Caso contrário, transformar o dataframe usando a função 'Arrumar Painel'\n",
    "    x: lista ou array com os valores das variáveis independentes;\n",
    "    y: lista ou array com os valores da variável dependente;\n",
    "    constante: \"S\" para regressão com intercepto e qualquer outro valor para sem intercepto. Caso em branco, a regressão é computada com intercepto;\n",
    "    robusta: \"N\" para regressão com erros-padrão tradicionais e qualquer outro valor para erros-padrões robustos. Caso em branco, a regressão é computada com erros-padrão robustos.\n",
    "    '''\n",
    "    global df, Resultado\n",
    "    \n",
    "    # formando o vetor de variáveis independentes\n",
    "    if constante == \"S\":\n",
    "        X = sm.add_constant(x)\n",
    "    else:\n",
    "        X = x\n",
    "    \n",
    "    #Criando o Modelo levando em conta a opção de ser uma regressão robusta p/ heteroscedasticidade ou não\n",
    "    Modelo = PooledOLS(y,X)\n",
    "    if robusta == \"N\":\n",
    "        Resultado = Modelo.fit()\n",
    "    else:\n",
    "        Resultado = Modelo.fit(cov_type = 'robust')\n",
    "    print(Resultado)\n",
    "\n",
    "def Reg_Painel_Efeitos_Aleatórios(x, y, constante = \"S\"):\n",
    "    '''\n",
    "    Função que calcula uma regressão de efeitos fixos, sendo, por default, computada com um intercepto e com erros padrões  robustos.\n",
    "    **IMPORTANTE: para o painel estar arrumado, os dados devem estar multi-indexados por indíviduo e por tempo, nesta ordem.\n",
    "    Caso contrário, transformar o dataframe usando a função 'Arrumar Painel'\n",
    "    x: lista ou array com os valores das variáveis independentes;\n",
    "    y: lista ou array com os valores da variável dependente;\n",
    "    constante: \"S\" para regressão com intercepto e qualquer outro valor para sem intercepto. Caso em branco, a regressão é computada com intercepto;\n",
    "    robusta: \"N\" para regressão com erros-padrão tradicionais e qualquer outro valor para erros-padrões robustos. Caso em branco, a regressão é computada com erros-padrão robustos.\n",
    "    '''\n",
    "    global df, Resultado\n",
    "    \n",
    "    # formando o vetor de variáveis independentes\n",
    "    if constante == \"S\":\n",
    "        X = sm.add_constant(x)\n",
    "    else:\n",
    "        X = x\n",
    "    \n",
    "    #Criando o Modelo\n",
    "    Modelo = RandomEffects(y,X)\n",
    "    Resultado = Modelo.fit()\n",
    "    print(Resultado)"
   ]
  },
  {
   "source": [
    "### Exercício C2"
   ],
   "cell_type": "markdown",
   "metadata": {}
  },
  {
   "cell_type": "code",
   "execution_count": 2,
   "metadata": {},
   "outputs": [
    {
     "output_type": "stream",
     "name": "stdout",
     "text": [
      "WAGE2.dta foi lido com sucesso!\n"
     ]
    },
    {
     "output_type": "display_data",
     "data": {
      "text/plain": "     wage  hours   IQ  KWW  educ  exper  tenure  age  married  black  south  \\\n0     769     40   93   35    12     11       2   31        1      0      0   \n1     808     50  119   41    18     11      16   37        1      0      0   \n2     825     40  108   46    14     11       9   33        1      0      0   \n3     650     40   96   32    12     13       7   32        1      0      0   \n4     562     40   74   27    11     14       5   34        1      0      0   \n..    ...    ...  ...  ...   ...    ...     ...  ...      ...    ...    ...   \n930   520     40   79   28    16      6       1   30        1      1      1   \n931  1202     40  102   32    13     10       3   31        1      0      1   \n932   538     45   77   22    12     12      10   28        1      1      1   \n933   873     44  109   25    12     12      12   28        1      0      1   \n934  1000     40  107   32    12     17      18   35        1      0      1   \n\n     urban  sibs  brthord  meduc  feduc     lwage  educ_IQ  \n0        1     1      2.0    8.0    8.0  6.645091     1116  \n1        1     1      NaN   14.0   14.0  6.694562     2142  \n2        1     1      2.0   14.0   14.0  6.715384     1512  \n3        1     4      3.0   12.0   12.0  6.476973     1152  \n4        1    10      6.0    6.0   11.0  6.331502      814  \n..     ...   ...      ...    ...    ...       ...      ...  \n930      0     0      1.0   11.0    NaN  6.253829     1264  \n931      1     7      7.0    8.0    6.0  7.091742     1326  \n932      0     9      NaN    7.0    NaN  6.287858      924  \n933      0     1      1.0    NaN   11.0  6.771935     1308  \n934      0     5      1.0    NaN    NaN  6.907755     1284  \n\n[935 rows x 18 columns]",
      "text/html": "<div>\n<style scoped>\n    .dataframe tbody tr th:only-of-type {\n        vertical-align: middle;\n    }\n\n    .dataframe tbody tr th {\n        vertical-align: top;\n    }\n\n    .dataframe thead th {\n        text-align: right;\n    }\n</style>\n<table border=\"1\" class=\"dataframe\">\n  <thead>\n    <tr style=\"text-align: right;\">\n      <th></th>\n      <th>wage</th>\n      <th>hours</th>\n      <th>IQ</th>\n      <th>KWW</th>\n      <th>educ</th>\n      <th>exper</th>\n      <th>tenure</th>\n      <th>age</th>\n      <th>married</th>\n      <th>black</th>\n      <th>south</th>\n      <th>urban</th>\n      <th>sibs</th>\n      <th>brthord</th>\n      <th>meduc</th>\n      <th>feduc</th>\n      <th>lwage</th>\n      <th>educ_IQ</th>\n    </tr>\n  </thead>\n  <tbody>\n    <tr>\n      <th>0</th>\n      <td>769</td>\n      <td>40</td>\n      <td>93</td>\n      <td>35</td>\n      <td>12</td>\n      <td>11</td>\n      <td>2</td>\n      <td>31</td>\n      <td>1</td>\n      <td>0</td>\n      <td>0</td>\n      <td>1</td>\n      <td>1</td>\n      <td>2.0</td>\n      <td>8.0</td>\n      <td>8.0</td>\n      <td>6.645091</td>\n      <td>1116</td>\n    </tr>\n    <tr>\n      <th>1</th>\n      <td>808</td>\n      <td>50</td>\n      <td>119</td>\n      <td>41</td>\n      <td>18</td>\n      <td>11</td>\n      <td>16</td>\n      <td>37</td>\n      <td>1</td>\n      <td>0</td>\n      <td>0</td>\n      <td>1</td>\n      <td>1</td>\n      <td>NaN</td>\n      <td>14.0</td>\n      <td>14.0</td>\n      <td>6.694562</td>\n      <td>2142</td>\n    </tr>\n    <tr>\n      <th>2</th>\n      <td>825</td>\n      <td>40</td>\n      <td>108</td>\n      <td>46</td>\n      <td>14</td>\n      <td>11</td>\n      <td>9</td>\n      <td>33</td>\n      <td>1</td>\n      <td>0</td>\n      <td>0</td>\n      <td>1</td>\n      <td>1</td>\n      <td>2.0</td>\n      <td>14.0</td>\n      <td>14.0</td>\n      <td>6.715384</td>\n      <td>1512</td>\n    </tr>\n    <tr>\n      <th>3</th>\n      <td>650</td>\n      <td>40</td>\n      <td>96</td>\n      <td>32</td>\n      <td>12</td>\n      <td>13</td>\n      <td>7</td>\n      <td>32</td>\n      <td>1</td>\n      <td>0</td>\n      <td>0</td>\n      <td>1</td>\n      <td>4</td>\n      <td>3.0</td>\n      <td>12.0</td>\n      <td>12.0</td>\n      <td>6.476973</td>\n      <td>1152</td>\n    </tr>\n    <tr>\n      <th>4</th>\n      <td>562</td>\n      <td>40</td>\n      <td>74</td>\n      <td>27</td>\n      <td>11</td>\n      <td>14</td>\n      <td>5</td>\n      <td>34</td>\n      <td>1</td>\n      <td>0</td>\n      <td>0</td>\n      <td>1</td>\n      <td>10</td>\n      <td>6.0</td>\n      <td>6.0</td>\n      <td>11.0</td>\n      <td>6.331502</td>\n      <td>814</td>\n    </tr>\n    <tr>\n      <th>...</th>\n      <td>...</td>\n      <td>...</td>\n      <td>...</td>\n      <td>...</td>\n      <td>...</td>\n      <td>...</td>\n      <td>...</td>\n      <td>...</td>\n      <td>...</td>\n      <td>...</td>\n      <td>...</td>\n      <td>...</td>\n      <td>...</td>\n      <td>...</td>\n      <td>...</td>\n      <td>...</td>\n      <td>...</td>\n      <td>...</td>\n    </tr>\n    <tr>\n      <th>930</th>\n      <td>520</td>\n      <td>40</td>\n      <td>79</td>\n      <td>28</td>\n      <td>16</td>\n      <td>6</td>\n      <td>1</td>\n      <td>30</td>\n      <td>1</td>\n      <td>1</td>\n      <td>1</td>\n      <td>0</td>\n      <td>0</td>\n      <td>1.0</td>\n      <td>11.0</td>\n      <td>NaN</td>\n      <td>6.253829</td>\n      <td>1264</td>\n    </tr>\n    <tr>\n      <th>931</th>\n      <td>1202</td>\n      <td>40</td>\n      <td>102</td>\n      <td>32</td>\n      <td>13</td>\n      <td>10</td>\n      <td>3</td>\n      <td>31</td>\n      <td>1</td>\n      <td>0</td>\n      <td>1</td>\n      <td>1</td>\n      <td>7</td>\n      <td>7.0</td>\n      <td>8.0</td>\n      <td>6.0</td>\n      <td>7.091742</td>\n      <td>1326</td>\n    </tr>\n    <tr>\n      <th>932</th>\n      <td>538</td>\n      <td>45</td>\n      <td>77</td>\n      <td>22</td>\n      <td>12</td>\n      <td>12</td>\n      <td>10</td>\n      <td>28</td>\n      <td>1</td>\n      <td>1</td>\n      <td>1</td>\n      <td>0</td>\n      <td>9</td>\n      <td>NaN</td>\n      <td>7.0</td>\n      <td>NaN</td>\n      <td>6.287858</td>\n      <td>924</td>\n    </tr>\n    <tr>\n      <th>933</th>\n      <td>873</td>\n      <td>44</td>\n      <td>109</td>\n      <td>25</td>\n      <td>12</td>\n      <td>12</td>\n      <td>12</td>\n      <td>28</td>\n      <td>1</td>\n      <td>0</td>\n      <td>1</td>\n      <td>0</td>\n      <td>1</td>\n      <td>1.0</td>\n      <td>NaN</td>\n      <td>11.0</td>\n      <td>6.771935</td>\n      <td>1308</td>\n    </tr>\n    <tr>\n      <th>934</th>\n      <td>1000</td>\n      <td>40</td>\n      <td>107</td>\n      <td>32</td>\n      <td>12</td>\n      <td>17</td>\n      <td>18</td>\n      <td>35</td>\n      <td>1</td>\n      <td>0</td>\n      <td>1</td>\n      <td>0</td>\n      <td>5</td>\n      <td>1.0</td>\n      <td>NaN</td>\n      <td>NaN</td>\n      <td>6.907755</td>\n      <td>1284</td>\n    </tr>\n  </tbody>\n</table>\n<p>935 rows × 18 columns</p>\n</div>"
     },
     "metadata": {}
    }
   ],
   "source": [
    "coletar_dados('WAGE2')\n",
    "df['educ_IQ'] = df['educ']*df['IQ']\n",
    "display(df)"
   ]
  },
  {
   "source": [
    "O exemplo 9.3 usa como variáveis exógenas a lista 'educ','exper','tenure','married','south','urban','black','IQ','educ_IQ' e 'lwage' como variável endógena."
   ],
   "cell_type": "markdown",
   "metadata": {}
  },
  {
   "cell_type": "code",
   "execution_count": 3,
   "metadata": {},
   "outputs": [
    {
     "output_type": "stream",
     "name": "stdout",
     "text": [
      "                            OLS Regression Results                            \n==============================================================================\nDep. Variable:                  lwage   R-squared:                       0.263\nModel:                            OLS   Adj. R-squared:                  0.256\nMethod:                 Least Squares   F-statistic:                     41.27\nDate:                Thu, 18 Feb 2021   Prob (F-statistic):           1.52e-56\nTime:                        16:06:52   Log-Likelihood:                -375.09\nNo. Observations:                 935   AIC:                             768.2\nDf Residuals:                     926   BIC:                             811.7\nDf Model:                           8                                         \nCovariance Type:            nonrobust                                         \n==============================================================================\n                 coef    std err          t      P>|t|      [0.025      0.975]\n------------------------------------------------------------------------------\nconst          5.1764      0.128     40.441      0.000       4.925       5.428\neduc           0.0544      0.007      7.853      0.000       0.041       0.068\nexper          0.0141      0.003      4.469      0.000       0.008       0.020\ntenure         0.0114      0.002      4.671      0.000       0.007       0.016\nmarried        0.1998      0.039      5.148      0.000       0.124       0.276\nsouth         -0.0802      0.026     -3.054      0.002      -0.132      -0.029\nurban          0.1819      0.027      6.791      0.000       0.129       0.235\nblack         -0.1431      0.039     -3.624      0.000      -0.221      -0.066\nIQ             0.0036      0.001      3.589      0.000       0.002       0.006\n==============================================================================\nOmnibus:                       43.456   Durbin-Watson:                   1.820\nProb(Omnibus):                  0.000   Jarque-Bera (JB):               99.739\nSkew:                          -0.248   Prob(JB):                     2.20e-22\nKurtosis:                       4.521   Cond. No.                     1.13e+03\n==============================================================================\n\nWarnings:\n[1] Standard Errors assume that the covariance matrix of the errors is correctly specified.\n[2] The condition number is large, 1.13e+03. This might indicate that there are\nstrong multicollinearity or other numerical problems.\nO erro padrão da regressão é 0.36315 e a SQR é 122.12027\n\nPara ver os valores previstos ou os resídudos, basta chamar 'Lista_ychapeu' e 'Resíduos'.\nOs resultados do modelo podem ser obtidos através de métodos usando a variável 'Resultado'.\n\n    Valores de condição maiores que 20 indicam problemas de multicolinearidade.\n    Para ver como achar esse número, entre em https://www.statsmodels.org/dev/examples/notebooks/generated/ols.html\n"
     ]
    }
   ],
   "source": [
    "## Fazendo a Regressão Original\n",
    "x = df[['educ','exper','tenure','married','south','urban','black','IQ']]\n",
    "y = df['lwage']\n",
    "Regressao_Multipla(x,y)"
   ]
  },
  {
   "cell_type": "code",
   "execution_count": 4,
   "metadata": {},
   "outputs": [
    {
     "output_type": "stream",
     "name": "stdout",
     "text": [
      "                            OLS Regression Results                            \n==============================================================================\nDep. Variable:                  lwage   R-squared:                       0.259\nModel:                            OLS   Adj. R-squared:                  0.252\nMethod:                 Least Squares   F-statistic:                     40.39\nDate:                Thu, 18 Feb 2021   Prob (F-statistic):           1.93e-55\nTime:                        16:06:52   Log-Likelihood:                -377.71\nNo. Observations:                 935   AIC:                             773.4\nDf Residuals:                     926   BIC:                             817.0\nDf Model:                           8                                         \nCovariance Type:            nonrobust                                         \n==============================================================================\n                 coef    std err          t      P>|t|      [0.025      0.975]\n------------------------------------------------------------------------------\nconst          5.3588      0.114     47.172      0.000       5.136       5.582\neduc           0.0576      0.007      8.428      0.000       0.044       0.071\nexper          0.0122      0.003      3.773      0.000       0.006       0.019\ntenure         0.0111      0.002      4.507      0.000       0.006       0.016\nmarried        0.1895      0.039      4.848      0.000       0.113       0.266\nsouth         -0.0916      0.026     -3.502      0.000      -0.143      -0.040\nurban          0.1755      0.027      6.494      0.000       0.122       0.229\nblack         -0.1643      0.039     -4.263      0.000      -0.240      -0.089\nKWW            0.0050      0.002      2.764      0.006       0.001       0.009\n==============================================================================\nOmnibus:                       46.805   Durbin-Watson:                   1.817\nProb(Omnibus):                  0.000   Jarque-Bera (JB):              108.489\nSkew:                          -0.272   Prob(JB):                     2.77e-24\nKurtosis:                       4.578   Cond. No.                         397.\n==============================================================================\n\nWarnings:\n[1] Standard Errors assume that the covariance matrix of the errors is correctly specified.\nO erro padrão da regressão é 0.36417 e a SQR é 122.80521\n\nPara ver os valores previstos ou os resídudos, basta chamar 'Lista_ychapeu' e 'Resíduos'.\nOs resultados do modelo podem ser obtidos através de métodos usando a variável 'Resultado'.\n\n    Valores de condição maiores que 20 indicam problemas de multicolinearidade.\n    Para ver como achar esse número, entre em https://www.statsmodels.org/dev/examples/notebooks/generated/ols.html\n"
     ]
    }
   ],
   "source": [
    "## Substituindo IQ por KWW nas variáveis exógenas\n",
    "x = df[['educ','exper','tenure','married','south','urban','black','KWW']]\n",
    "y = df['lwage']\n",
    "Regressao_Multipla(x,y)"
   ]
  },
  {
   "cell_type": "code",
   "execution_count": 5,
   "metadata": {},
   "outputs": [
    {
     "output_type": "stream",
     "name": "stdout",
     "text": [
      "                            OLS Regression Results                            \n==============================================================================\nDep. Variable:                  lwage   R-squared:                       0.266\nModel:                            OLS   Adj. R-squared:                  0.259\nMethod:                 Least Squares   F-statistic:                     37.28\nDate:                Thu, 18 Feb 2021   Prob (F-statistic):           1.25e-56\nTime:                        16:06:52   Log-Likelihood:                -372.94\nNo. Observations:                 935   AIC:                             765.9\nDf Residuals:                     925   BIC:                             814.3\nDf Model:                           9                                         \nCovariance Type:            nonrobust                                         \n==============================================================================\n                 coef    std err          t      P>|t|      [0.025      0.975]\n------------------------------------------------------------------------------\nconst          5.1756      0.128     40.506      0.000       4.925       5.426\neduc           0.0498      0.007      6.863      0.000       0.036       0.064\nexper          0.0128      0.003      3.947      0.000       0.006       0.019\ntenure         0.0109      0.002      4.467      0.000       0.006       0.016\nmarried        0.1921      0.039      4.938      0.000       0.116       0.269\nsouth         -0.0820      0.026     -3.128      0.002      -0.133      -0.031\nurban          0.1758      0.027      6.534      0.000       0.123       0.229\nblack         -0.1304      0.040     -3.268      0.001      -0.209      -0.052\nIQ             0.0031      0.001      3.079      0.002       0.001       0.005\nKWW            0.0038      0.002      2.066      0.039       0.000       0.007\n==============================================================================\nOmnibus:                       49.920   Durbin-Watson:                   1.816\nProb(Omnibus):                  0.000   Jarque-Bera (JB):              119.346\nSkew:                          -0.284   Prob(JB):                     1.21e-26\nKurtosis:                       4.655   Cond. No.                     1.20e+03\n==============================================================================\n\nWarnings:\n[1] Standard Errors assume that the covariance matrix of the errors is correctly specified.\n[2] The condition number is large, 1.2e+03. This might indicate that there are\nstrong multicollinearity or other numerical problems.\nO erro padrão da regressão é 0.36251 e a SQR é 121.55949\n\nPara ver os valores previstos ou os resídudos, basta chamar 'Lista_ychapeu' e 'Resíduos'.\nOs resultados do modelo podem ser obtidos através de métodos usando a variável 'Resultado'.\n\n    Valores de condição maiores que 20 indicam problemas de multicolinearidade.\n    Para ver como achar esse número, entre em https://www.statsmodels.org/dev/examples/notebooks/generated/ols.html\n"
     ]
    }
   ],
   "source": [
    "##Usando IQ E KWW como proxis para aptidão\n",
    "x = df[['educ','exper','tenure','married','south','urban','black','IQ','KWW']]\n",
    "Regressao_Multipla(x,y)"
   ]
  },
  {
   "cell_type": "code",
   "execution_count": 6,
   "metadata": {},
   "outputs": [
    {
     "output_type": "stream",
     "name": "stdout",
     "text": [
      "O valor de F é 8.595 e seu p-valor é 0.0002002. Portanto, rejeita-se Ho à significância de 5.0%.\n"
     ]
    }
   ],
   "source": [
    "## Testando a significância conjunta de IQ e KWW\n",
    "x = df[['educ','exper','tenure','married','south','urban','black','IQ','KWW']]\n",
    "y = df['lwage']\n",
    "Teste_F(x,y, df[['IQ','KWW']])"
   ]
  },
  {
   "source": [
    "## Exercício C3"
   ],
   "cell_type": "markdown",
   "metadata": {}
  },
  {
   "source": [
    "# Checando quais as colunas do Dataframe\n",
    "# Hipótese: tamanho da empresa - aproximado por sales - influencia na obtenção de subsídios?\n",
    "for i in df.columns:\n",
    "    print(i)"
   ],
   "cell_type": "code",
   "metadata": {},
   "execution_count": 7,
   "outputs": [
    {
     "output_type": "stream",
     "name": "stdout",
     "text": [
      "wage\nhours\nIQ\nKWW\neduc\nexper\ntenure\nage\nmarried\nblack\nsouth\nurban\nsibs\nbrthord\nmeduc\nfeduc\nlwage\neduc_IQ\n"
     ]
    }
   ]
  },
  {
   "cell_type": "code",
   "execution_count": 8,
   "metadata": {},
   "outputs": [
    {
     "output_type": "stream",
     "name": "stdout",
     "text": [
      "JTRAIN.dta foi lido com sucesso!\n                            OLS Regression Results                            \n==============================================================================\nDep. Variable:                 lscrap   R-squared:                       0.000\nModel:                            OLS   Adj. R-squared:                 -0.019\nMethod:                 Least Squares   F-statistic:                   0.01948\nDate:                Thu, 18 Feb 2021   Prob (F-statistic):              0.890\nTime:                        16:06:53   Log-Likelihood:                -94.660\nNo. Observations:                  54   AIC:                             193.3\nDf Residuals:                      52   BIC:                             197.3\nDf Model:                           1                                         \nCovariance Type:            nonrobust                                         \n==============================================================================\n                 coef    std err          t      P>|t|      [0.025      0.975]\n------------------------------------------------------------------------------\nconst          0.4085      0.241      1.698      0.095      -0.074       0.891\ngrant          0.0566      0.406      0.140      0.890      -0.757       0.870\n==============================================================================\nOmnibus:                        0.074   Durbin-Watson:                   1.931\nProb(Omnibus):                  0.963   Jarque-Bera (JB):                0.086\nSkew:                          -0.067   Prob(JB):                        0.958\nKurtosis:                       2.859   Cond. No.                         2.42\n==============================================================================\n\nWarnings:\n[1] Standard Errors assume that the covariance matrix of the errors is correctly specified.\nO erro padrão da regressão é 1.42318 e a SQR é 105.32321\n\nPara ver os valores previstos ou os resídudos, basta chamar 'Lista_ychapeu' e 'Resíduos'.\nOs resultados do modelo podem ser obtidos através de métodos usando a variável 'Resultado'.\n\n    Valores de condição maiores que 20 indicam problemas de multicolinearidade.\n    Para ver como achar esse número, entre em https://www.statsmodels.org/dev/examples/notebooks/generated/ols.html\n"
     ]
    }
   ],
   "source": [
    "## Fazendo a regressão simples de lscrap sobre grant no ano de 1988\n",
    "# Baixando a base de dados e pegando apenas o ano de 1988\n",
    "coletar_dados('JTRAIN')\n",
    "df_88 = df.loc[df['d88'] == 1]\n",
    "\n",
    "# Dropando os valores nulos\n",
    "df_88.dropna(subset=['lscrap','grant'], axis = 0, inplace = True)\n",
    "\n",
    "# Fazendo a regressão\n",
    "x = df_88[['grant']]\n",
    "y = df_88['lscrap']\n",
    "Regressao_Multipla(x,y)"
   ]
  },
  {
   "cell_type": "code",
   "execution_count": 9,
   "metadata": {},
   "outputs": [
    {
     "output_type": "stream",
     "name": "stdout",
     "text": [
      "                            OLS Regression Results                            \n==============================================================================\nDep. Variable:                 lscrap   R-squared:                       0.873\nModel:                            OLS   Adj. R-squared:                  0.868\nMethod:                 Least Squares   F-statistic:                     174.9\nDate:                Thu, 18 Feb 2021   Prob (F-statistic):           1.47e-23\nTime:                        16:06:53   Log-Likelihood:                -39.000\nNo. Observations:                  54   AIC:                             84.00\nDf Residuals:                      51   BIC:                             89.97\nDf Model:                           2                                         \nCovariance Type:            nonrobust                                         \n==============================================================================\n                 coef    std err          t      P>|t|      [0.025      0.975]\n------------------------------------------------------------------------------\nconst          0.0212      0.089      0.238      0.813      -0.158       0.200\ngrant         -0.2540      0.147     -1.727      0.090      -0.549       0.041\nlscrap_87      0.8312      0.044     18.701      0.000       0.742       0.920\n==============================================================================\nOmnibus:                       13.769   Durbin-Watson:                   1.541\nProb(Omnibus):                  0.001   Jarque-Bera (JB):               35.075\nSkew:                          -0.526   Prob(JB):                     2.42e-08\nKurtosis:                       6.805   Cond. No.                         3.95\n==============================================================================\n\nWarnings:\n[1] Standard Errors assume that the covariance matrix of the errors is correctly specified.\nO erro padrão da regressão é 0.51267 e a SQR é 13.40418\n\nPara ver os valores previstos ou os resídudos, basta chamar 'Lista_ychapeu' e 'Resíduos'.\nOs resultados do modelo podem ser obtidos através de métodos usando a variável 'Resultado'.\n\n    Valores de condição maiores que 20 indicam problemas de multicolinearidade.\n    Para ver como achar esse número, entre em https://www.statsmodels.org/dev/examples/notebooks/generated/ols.html\n"
     ]
    }
   ],
   "source": [
    "## Usando a variável lscrap de 87 como regressora\n",
    "df_88.rename(columns={'lscrap_1':'lscrap_87'}, inplace=True)\n",
    "\n",
    "# Fazendo a regressão\n",
    "x = df_88[['grant','lscrap_87']]\n",
    "y = df_88['lscrap']\n",
    "Regressao_Multipla(x,y)"
   ]
  },
  {
   "cell_type": "code",
   "execution_count": 10,
   "metadata": {},
   "outputs": [
    {
     "output_type": "stream",
     "name": "stdout",
     "text": [
      "                            OLS Regression Results                            \n==============================================================================\nDep. Variable:                 lscrap   R-squared:                       0.873\nModel:                            OLS   Adj. R-squared:                  0.868\nMethod:                 Least Squares   F-statistic:                     77.79\nDate:                Thu, 18 Feb 2021   Prob (F-statistic):           3.22e-16\nTime:                        16:06:53   Log-Likelihood:                -39.000\nNo. Observations:                  54   AIC:                             84.00\nDf Residuals:                      51   BIC:                             89.97\nDf Model:                           2                                         \nCovariance Type:                  HC1                                         \n==============================================================================\n                 coef    std err          t      P>|t|      [0.025      0.975]\n------------------------------------------------------------------------------\nconst          0.0212      0.100      0.213      0.832      -0.179       0.222\ngrant         -0.2540      0.146     -1.735      0.089      -0.548       0.040\nlscrap_87      0.8312      0.074     11.302      0.000       0.684       0.979\n==============================================================================\nOmnibus:                       13.769   Durbin-Watson:                   1.541\nProb(Omnibus):                  0.001   Jarque-Bera (JB):               35.075\nSkew:                          -0.526   Prob(JB):                     2.42e-08\nKurtosis:                       6.805   Cond. No.                         3.95\n==============================================================================\n\nWarnings:\n[1] Standard Errors are heteroscedasticity robust (HC1)\nO erro padrão da regressão é 0.51267 e a SQR é 13.40418\n\nPara ver os valores previstos ou os resídudos, basta chamar 'Lista_ychapeu' e 'Resíduos'.\nOs resultados do modelo podem ser obtidos através de métodos usando a variável 'Resultado'.\n\n    Valores de condição maiores que 20 indicam problemas de multicolinearidade.\n    Para ver como achar esse número, entre em https://www.statsmodels.org/dev/examples/notebooks/generated/ols.html\n"
     ]
    }
   ],
   "source": [
    "# Fazendo a regressão com erros robustos com relação a heteroscedasticidade\n",
    "x = df_88[['grant','lscrap_87']]\n",
    "y = df_88['lscrap']\n",
    "Regressao_Multipla(x,y, robusta='S')"
   ]
  },
  {
   "source": [
    "## Exercício C4"
   ],
   "cell_type": "markdown",
   "metadata": {}
  },
  {
   "cell_type": "code",
   "execution_count": 11,
   "metadata": {},
   "outputs": [
    {
     "output_type": "stream",
     "name": "stdout",
     "text": [
      "INFMRT.dta foi lido com sucesso!\n"
     ]
    },
    {
     "output_type": "execute_result",
     "data": {
      "text/plain": [
       "     year  infmort  afdcprt  popul  pcinc  physic   afdcper  d90    lpcinc  \\\n",
       "0    1987      8.3       52   1186  13996     173  4.384486    0  9.546527   \n",
       "1    1990      6.2       62   1228  17125     178  5.048860    1  9.748295   \n",
       "2    1987      7.8       11   1056  18083     186  1.041667    0  9.802728   \n",
       "3    1990      7.1       21   1109  21051     200  1.893598    1  9.954703   \n",
       "4    1987      8.5       20    547  14267     244  3.656307    0  9.565704   \n",
       "..    ...      ...      ...    ...    ...     ...       ...  ...       ...   \n",
       "97   1990      7.9     2023  29760  20547     244  6.797715    1  9.930470   \n",
       "98   1987     10.4       19    524  18461     138  3.625954    0  9.823416   \n",
       "99   1990     10.5       24    550  20867     146  4.363636    1  9.945924   \n",
       "100  1987      8.9       41   1082  15569     225  3.789279    0  9.653037   \n",
       "101  1990      6.7       44   1108  20461     236  3.971119    1  9.926276   \n",
       "\n",
       "      lphysic  DC     lpopul  \n",
       "0    5.153292   0   7.078341  \n",
       "1    5.181784   0   7.113142  \n",
       "2    5.225747   0   6.962244  \n",
       "3    5.298317   0   7.011214  \n",
       "4    5.497168   0   6.304449  \n",
       "..        ...  ..        ...  \n",
       "97   5.497168   0  10.300920  \n",
       "98   4.927254   0   6.261492  \n",
       "99   4.983607   0   6.309918  \n",
       "100  5.416101   0   6.986567  \n",
       "101  5.463832   0   7.010312  \n",
       "\n",
       "[102 rows x 12 columns]"
      ],
      "text/html": "<div>\n<style scoped>\n    .dataframe tbody tr th:only-of-type {\n        vertical-align: middle;\n    }\n\n    .dataframe tbody tr th {\n        vertical-align: top;\n    }\n\n    .dataframe thead th {\n        text-align: right;\n    }\n</style>\n<table border=\"1\" class=\"dataframe\">\n  <thead>\n    <tr style=\"text-align: right;\">\n      <th></th>\n      <th>year</th>\n      <th>infmort</th>\n      <th>afdcprt</th>\n      <th>popul</th>\n      <th>pcinc</th>\n      <th>physic</th>\n      <th>afdcper</th>\n      <th>d90</th>\n      <th>lpcinc</th>\n      <th>lphysic</th>\n      <th>DC</th>\n      <th>lpopul</th>\n    </tr>\n  </thead>\n  <tbody>\n    <tr>\n      <th>0</th>\n      <td>1987</td>\n      <td>8.3</td>\n      <td>52</td>\n      <td>1186</td>\n      <td>13996</td>\n      <td>173</td>\n      <td>4.384486</td>\n      <td>0</td>\n      <td>9.546527</td>\n      <td>5.153292</td>\n      <td>0</td>\n      <td>7.078341</td>\n    </tr>\n    <tr>\n      <th>1</th>\n      <td>1990</td>\n      <td>6.2</td>\n      <td>62</td>\n      <td>1228</td>\n      <td>17125</td>\n      <td>178</td>\n      <td>5.048860</td>\n      <td>1</td>\n      <td>9.748295</td>\n      <td>5.181784</td>\n      <td>0</td>\n      <td>7.113142</td>\n    </tr>\n    <tr>\n      <th>2</th>\n      <td>1987</td>\n      <td>7.8</td>\n      <td>11</td>\n      <td>1056</td>\n      <td>18083</td>\n      <td>186</td>\n      <td>1.041667</td>\n      <td>0</td>\n      <td>9.802728</td>\n      <td>5.225747</td>\n      <td>0</td>\n      <td>6.962244</td>\n    </tr>\n    <tr>\n      <th>3</th>\n      <td>1990</td>\n      <td>7.1</td>\n      <td>21</td>\n      <td>1109</td>\n      <td>21051</td>\n      <td>200</td>\n      <td>1.893598</td>\n      <td>1</td>\n      <td>9.954703</td>\n      <td>5.298317</td>\n      <td>0</td>\n      <td>7.011214</td>\n    </tr>\n    <tr>\n      <th>4</th>\n      <td>1987</td>\n      <td>8.5</td>\n      <td>20</td>\n      <td>547</td>\n      <td>14267</td>\n      <td>244</td>\n      <td>3.656307</td>\n      <td>0</td>\n      <td>9.565704</td>\n      <td>5.497168</td>\n      <td>0</td>\n      <td>6.304449</td>\n    </tr>\n    <tr>\n      <th>...</th>\n      <td>...</td>\n      <td>...</td>\n      <td>...</td>\n      <td>...</td>\n      <td>...</td>\n      <td>...</td>\n      <td>...</td>\n      <td>...</td>\n      <td>...</td>\n      <td>...</td>\n      <td>...</td>\n      <td>...</td>\n    </tr>\n    <tr>\n      <th>97</th>\n      <td>1990</td>\n      <td>7.9</td>\n      <td>2023</td>\n      <td>29760</td>\n      <td>20547</td>\n      <td>244</td>\n      <td>6.797715</td>\n      <td>1</td>\n      <td>9.930470</td>\n      <td>5.497168</td>\n      <td>0</td>\n      <td>10.300920</td>\n    </tr>\n    <tr>\n      <th>98</th>\n      <td>1987</td>\n      <td>10.4</td>\n      <td>19</td>\n      <td>524</td>\n      <td>18461</td>\n      <td>138</td>\n      <td>3.625954</td>\n      <td>0</td>\n      <td>9.823416</td>\n      <td>4.927254</td>\n      <td>0</td>\n      <td>6.261492</td>\n    </tr>\n    <tr>\n      <th>99</th>\n      <td>1990</td>\n      <td>10.5</td>\n      <td>24</td>\n      <td>550</td>\n      <td>20867</td>\n      <td>146</td>\n      <td>4.363636</td>\n      <td>1</td>\n      <td>9.945924</td>\n      <td>4.983607</td>\n      <td>0</td>\n      <td>6.309918</td>\n    </tr>\n    <tr>\n      <th>100</th>\n      <td>1987</td>\n      <td>8.9</td>\n      <td>41</td>\n      <td>1082</td>\n      <td>15569</td>\n      <td>225</td>\n      <td>3.789279</td>\n      <td>0</td>\n      <td>9.653037</td>\n      <td>5.416101</td>\n      <td>0</td>\n      <td>6.986567</td>\n    </tr>\n    <tr>\n      <th>101</th>\n      <td>1990</td>\n      <td>6.7</td>\n      <td>44</td>\n      <td>1108</td>\n      <td>20461</td>\n      <td>236</td>\n      <td>3.971119</td>\n      <td>1</td>\n      <td>9.926276</td>\n      <td>5.463832</td>\n      <td>0</td>\n      <td>7.010312</td>\n    </tr>\n  </tbody>\n</table>\n<p>102 rows × 12 columns</p>\n</div>"
     },
     "metadata": {},
     "execution_count": 11
    }
   ],
   "source": [
    "coletar_dados('INFMRT')"
   ]
  },
  {
   "cell_type": "code",
   "execution_count": 12,
   "metadata": {},
   "outputs": [
    {
     "output_type": "stream",
     "name": "stdout",
     "text": [
      "                            OLS Regression Results                            \n==============================================================================\nDep. Variable:                infmort   R-squared:                       0.691\nModel:                            OLS   Adj. R-squared:                  0.664\nMethod:                 Least Squares   F-statistic:                     25.71\nDate:                Thu, 18 Feb 2021   Prob (F-statistic):           3.15e-11\nTime:                        16:06:53   Log-Likelihood:                -80.968\nNo. Observations:                  51   AIC:                             171.9\nDf Residuals:                      46   BIC:                             181.6\nDf Model:                           4                                         \nCovariance Type:            nonrobust                                         \n==============================================================================\n                 coef    std err          t      P>|t|      [0.025      0.975]\n------------------------------------------------------------------------------\nconst         23.9548     12.419      1.929      0.060      -1.044      48.954\nlpcinc        -0.5669      1.641     -0.345      0.731      -3.871       2.737\nlphysic       -2.7418      1.191     -2.303      0.026      -5.139      -0.345\nlpopul         0.6292      0.191      3.293      0.002       0.245       1.014\nDC            16.0350      1.769      9.064      0.000      12.474      19.596\n==============================================================================\nOmnibus:                        0.803   Durbin-Watson:                   1.442\nProb(Omnibus):                  0.669   Jarque-Bera (JB):                0.863\nSkew:                           0.170   Prob(JB):                        0.649\nKurtosis:                       2.461   Cond. No.                         986.\n==============================================================================\n\nWarnings:\n[1] Standard Errors assume that the covariance matrix of the errors is correctly specified.\nO erro padrão da regressão é 1.24641 e a SQR é 71.46318\n\nPara ver os valores previstos ou os resídudos, basta chamar 'Lista_ychapeu' e 'Resíduos'.\nOs resultados do modelo podem ser obtidos através de métodos usando a variável 'Resultado'.\n\n    Valores de condição maiores que 20 indicam problemas de multicolinearidade.\n    Para ver como achar esse número, entre em https://www.statsmodels.org/dev/examples/notebooks/generated/ols.html\n"
     ]
    }
   ],
   "source": [
    "## Pegando apenas os dados de 1990\n",
    "df_90 = df.loc[df['year'] == 1990]\n",
    "\n",
    "# Fazendo a regressão com a dummy do estado de Columbia\n",
    "x = df_90[['lpcinc','lphysic','lpopul','DC']]\n",
    "y = df_90['infmort']\n",
    "Regressao_Multipla(x,y)"
   ]
  },
  {
   "cell_type": "code",
   "execution_count": 13,
   "metadata": {},
   "outputs": [
    {
     "output_type": "stream",
     "name": "stdout",
     "text": [
      "                            OLS Regression Results                            \n==============================================================================\nDep. Variable:                infmort   R-squared:                       0.273\nModel:                            OLS   Adj. R-squared:                  0.226\nMethod:                 Least Squares   F-statistic:                     5.763\nDate:                Thu, 18 Feb 2021   Prob (F-statistic):            0.00197\nTime:                        16:06:54   Log-Likelihood:                -79.876\nNo. Observations:                  50   AIC:                             167.8\nDf Residuals:                      46   BIC:                             175.4\nDf Model:                           3                                         \nCovariance Type:            nonrobust                                         \n==============================================================================\n                 coef    std err          t      P>|t|      [0.025      0.975]\n------------------------------------------------------------------------------\nconst         23.9548     12.419      1.929      0.060      -1.044      48.954\nlpcinc        -0.5669      1.641     -0.345      0.731      -3.871       2.737\nlphysic       -2.7418      1.191     -2.303      0.026      -5.139      -0.345\nlpopul         0.6292      0.191      3.293      0.002       0.245       1.014\n==============================================================================\nOmnibus:                        0.970   Durbin-Watson:                   1.388\nProb(Omnibus):                  0.616   Jarque-Bera (JB):                0.955\nSkew:                           0.169   Prob(JB):                        0.620\nKurtosis:                       2.413   Cond. No.                         977.\n==============================================================================\n\nWarnings:\n[1] Standard Errors assume that the covariance matrix of the errors is correctly specified.\nO erro padrão da regressão é 1.24641 e a SQR é 71.46318\n\nPara ver os valores previstos ou os resídudos, basta chamar 'Lista_ychapeu' e 'Resíduos'.\nOs resultados do modelo podem ser obtidos através de métodos usando a variável 'Resultado'.\n\n    Valores de condição maiores que 20 indicam problemas de multicolinearidade.\n    Para ver como achar esse número, entre em https://www.statsmodels.org/dev/examples/notebooks/generated/ols.html\n"
     ]
    }
   ],
   "source": [
    "# Pegando apenas os dados fora de DC\n",
    "df_nDC = df_90.loc[df_90['DC'] == 0]\n",
    "\n",
    "# Fazendo a regressão com a dummy do estado de Columbia\n",
    "x = df_nDC[['lpcinc','lphysic','lpopul']]\n",
    "y = df_nDC['infmort']\n",
    "Regressao_Multipla(x,y)"
   ]
  },
  {
   "source": [
    "## Exercício C8"
   ],
   "cell_type": "markdown",
   "metadata": {}
  },
  {
   "cell_type": "code",
   "execution_count": 14,
   "metadata": {},
   "outputs": [
    {
     "output_type": "stream",
     "name": "stdout",
     "text": [
      "TWOYEAR.dta foi lido com sucesso!\n"
     ]
    },
    {
     "output_type": "execute_result",
     "data": {
      "text/plain": [
       "      female  phsrank  BA  AA  black  hispanic       id  exper        jc  \\\n",
       "0          1       65   0   0      0         0     19.0    161  0.000000   \n",
       "1          1       97   0   0      0         0     93.0    119  0.000000   \n",
       "2          1       44   0   0      0         0     96.0     81  0.000000   \n",
       "3          1       34   0   0      0         1    119.0     39  0.266667   \n",
       "4          1       80   0   0      0         0    132.0    141  0.000000   \n",
       "...      ...      ...  ..  ..    ...       ...      ...    ...       ...   \n",
       "6758       1       50   0   0      0         0  89903.0     62  0.000000   \n",
       "6759       1       50   0   0      0         0  89908.0    111  0.000000   \n",
       "6760       0       50   0   0      0         0  89933.0    146  0.000000   \n",
       "6761       0       50   0   0      0         0  89955.0    125  0.000000   \n",
       "6762       0       50   1   0      0         0  89958.0    120  0.000000   \n",
       "\n",
       "          univ  ...  medcity  submed  lgcity  sublg  vlgcity  subvlg  ne  nc  \\\n",
       "0     0.000000  ...        0       0       0      1        0       0   1   0   \n",
       "1     7.033333  ...        0       0       0      0        0       0   0   1   \n",
       "2     0.000000  ...        0       0       0      1        0       0   1   0   \n",
       "3     0.000000  ...        0       0       0      0        0       0   0   0   \n",
       "4     0.000000  ...        0       0       0      0        0       0   0   0   \n",
       "...        ...  ...      ...     ...     ...    ...      ...     ...  ..  ..   \n",
       "6758  0.000000  ...        0       0       0      0        0       0   0   0   \n",
       "6759  0.000000  ...        0       0       0      0        0       0   0   0   \n",
       "6760  0.000000  ...        0       0       0      0        0       0   0   0   \n",
       "6761  0.000000  ...        0       0       0      0        0       0   0   0   \n",
       "6762  4.200000  ...        0       0       0      0        0       0   1   0   \n",
       "\n",
       "      south   totcoll  \n",
       "0         0  0.000000  \n",
       "1         0  7.033333  \n",
       "2         0  0.000000  \n",
       "3         0  0.266667  \n",
       "4         1  0.000000  \n",
       "...     ...       ...  \n",
       "6758      1  0.000000  \n",
       "6759      1  0.000000  \n",
       "6760      1  0.000000  \n",
       "6761      1  0.000000  \n",
       "6762      0  4.200000  \n",
       "\n",
       "[6763 rows x 23 columns]"
      ],
      "text/html": "<div>\n<style scoped>\n    .dataframe tbody tr th:only-of-type {\n        vertical-align: middle;\n    }\n\n    .dataframe tbody tr th {\n        vertical-align: top;\n    }\n\n    .dataframe thead th {\n        text-align: right;\n    }\n</style>\n<table border=\"1\" class=\"dataframe\">\n  <thead>\n    <tr style=\"text-align: right;\">\n      <th></th>\n      <th>female</th>\n      <th>phsrank</th>\n      <th>BA</th>\n      <th>AA</th>\n      <th>black</th>\n      <th>hispanic</th>\n      <th>id</th>\n      <th>exper</th>\n      <th>jc</th>\n      <th>univ</th>\n      <th>...</th>\n      <th>medcity</th>\n      <th>submed</th>\n      <th>lgcity</th>\n      <th>sublg</th>\n      <th>vlgcity</th>\n      <th>subvlg</th>\n      <th>ne</th>\n      <th>nc</th>\n      <th>south</th>\n      <th>totcoll</th>\n    </tr>\n  </thead>\n  <tbody>\n    <tr>\n      <th>0</th>\n      <td>1</td>\n      <td>65</td>\n      <td>0</td>\n      <td>0</td>\n      <td>0</td>\n      <td>0</td>\n      <td>19.0</td>\n      <td>161</td>\n      <td>0.000000</td>\n      <td>0.000000</td>\n      <td>...</td>\n      <td>0</td>\n      <td>0</td>\n      <td>0</td>\n      <td>1</td>\n      <td>0</td>\n      <td>0</td>\n      <td>1</td>\n      <td>0</td>\n      <td>0</td>\n      <td>0.000000</td>\n    </tr>\n    <tr>\n      <th>1</th>\n      <td>1</td>\n      <td>97</td>\n      <td>0</td>\n      <td>0</td>\n      <td>0</td>\n      <td>0</td>\n      <td>93.0</td>\n      <td>119</td>\n      <td>0.000000</td>\n      <td>7.033333</td>\n      <td>...</td>\n      <td>0</td>\n      <td>0</td>\n      <td>0</td>\n      <td>0</td>\n      <td>0</td>\n      <td>0</td>\n      <td>0</td>\n      <td>1</td>\n      <td>0</td>\n      <td>7.033333</td>\n    </tr>\n    <tr>\n      <th>2</th>\n      <td>1</td>\n      <td>44</td>\n      <td>0</td>\n      <td>0</td>\n      <td>0</td>\n      <td>0</td>\n      <td>96.0</td>\n      <td>81</td>\n      <td>0.000000</td>\n      <td>0.000000</td>\n      <td>...</td>\n      <td>0</td>\n      <td>0</td>\n      <td>0</td>\n      <td>1</td>\n      <td>0</td>\n      <td>0</td>\n      <td>1</td>\n      <td>0</td>\n      <td>0</td>\n      <td>0.000000</td>\n    </tr>\n    <tr>\n      <th>3</th>\n      <td>1</td>\n      <td>34</td>\n      <td>0</td>\n      <td>0</td>\n      <td>0</td>\n      <td>1</td>\n      <td>119.0</td>\n      <td>39</td>\n      <td>0.266667</td>\n      <td>0.000000</td>\n      <td>...</td>\n      <td>0</td>\n      <td>0</td>\n      <td>0</td>\n      <td>0</td>\n      <td>0</td>\n      <td>0</td>\n      <td>0</td>\n      <td>0</td>\n      <td>0</td>\n      <td>0.266667</td>\n    </tr>\n    <tr>\n      <th>4</th>\n      <td>1</td>\n      <td>80</td>\n      <td>0</td>\n      <td>0</td>\n      <td>0</td>\n      <td>0</td>\n      <td>132.0</td>\n      <td>141</td>\n      <td>0.000000</td>\n      <td>0.000000</td>\n      <td>...</td>\n      <td>0</td>\n      <td>0</td>\n      <td>0</td>\n      <td>0</td>\n      <td>0</td>\n      <td>0</td>\n      <td>0</td>\n      <td>0</td>\n      <td>1</td>\n      <td>0.000000</td>\n    </tr>\n    <tr>\n      <th>...</th>\n      <td>...</td>\n      <td>...</td>\n      <td>...</td>\n      <td>...</td>\n      <td>...</td>\n      <td>...</td>\n      <td>...</td>\n      <td>...</td>\n      <td>...</td>\n      <td>...</td>\n      <td>...</td>\n      <td>...</td>\n      <td>...</td>\n      <td>...</td>\n      <td>...</td>\n      <td>...</td>\n      <td>...</td>\n      <td>...</td>\n      <td>...</td>\n      <td>...</td>\n      <td>...</td>\n    </tr>\n    <tr>\n      <th>6758</th>\n      <td>1</td>\n      <td>50</td>\n      <td>0</td>\n      <td>0</td>\n      <td>0</td>\n      <td>0</td>\n      <td>89903.0</td>\n      <td>62</td>\n      <td>0.000000</td>\n      <td>0.000000</td>\n      <td>...</td>\n      <td>0</td>\n      <td>0</td>\n      <td>0</td>\n      <td>0</td>\n      <td>0</td>\n      <td>0</td>\n      <td>0</td>\n      <td>0</td>\n      <td>1</td>\n      <td>0.000000</td>\n    </tr>\n    <tr>\n      <th>6759</th>\n      <td>1</td>\n      <td>50</td>\n      <td>0</td>\n      <td>0</td>\n      <td>0</td>\n      <td>0</td>\n      <td>89908.0</td>\n      <td>111</td>\n      <td>0.000000</td>\n      <td>0.000000</td>\n      <td>...</td>\n      <td>0</td>\n      <td>0</td>\n      <td>0</td>\n      <td>0</td>\n      <td>0</td>\n      <td>0</td>\n      <td>0</td>\n      <td>0</td>\n      <td>1</td>\n      <td>0.000000</td>\n    </tr>\n    <tr>\n      <th>6760</th>\n      <td>0</td>\n      <td>50</td>\n      <td>0</td>\n      <td>0</td>\n      <td>0</td>\n      <td>0</td>\n      <td>89933.0</td>\n      <td>146</td>\n      <td>0.000000</td>\n      <td>0.000000</td>\n      <td>...</td>\n      <td>0</td>\n      <td>0</td>\n      <td>0</td>\n      <td>0</td>\n      <td>0</td>\n      <td>0</td>\n      <td>0</td>\n      <td>0</td>\n      <td>1</td>\n      <td>0.000000</td>\n    </tr>\n    <tr>\n      <th>6761</th>\n      <td>0</td>\n      <td>50</td>\n      <td>0</td>\n      <td>0</td>\n      <td>0</td>\n      <td>0</td>\n      <td>89955.0</td>\n      <td>125</td>\n      <td>0.000000</td>\n      <td>0.000000</td>\n      <td>...</td>\n      <td>0</td>\n      <td>0</td>\n      <td>0</td>\n      <td>0</td>\n      <td>0</td>\n      <td>0</td>\n      <td>0</td>\n      <td>0</td>\n      <td>1</td>\n      <td>0.000000</td>\n    </tr>\n    <tr>\n      <th>6762</th>\n      <td>0</td>\n      <td>50</td>\n      <td>1</td>\n      <td>0</td>\n      <td>0</td>\n      <td>0</td>\n      <td>89958.0</td>\n      <td>120</td>\n      <td>0.000000</td>\n      <td>4.200000</td>\n      <td>...</td>\n      <td>0</td>\n      <td>0</td>\n      <td>0</td>\n      <td>0</td>\n      <td>0</td>\n      <td>0</td>\n      <td>1</td>\n      <td>0</td>\n      <td>0</td>\n      <td>4.200000</td>\n    </tr>\n  </tbody>\n</table>\n<p>6763 rows × 23 columns</p>\n</div>"
     },
     "metadata": {},
     "execution_count": 14
    }
   ],
   "source": [
    "coletar_dados('TWOYEAR')"
   ]
  },
  {
   "cell_type": "code",
   "execution_count": 15,
   "metadata": {},
   "outputs": [
    {
     "output_type": "execute_result",
     "data": {
      "text/plain": [
       "count    6763.000000\n",
       "mean        0.047483\n",
       "std         0.853544\n",
       "min        -3.324797\n",
       "25%        -0.327343\n",
       "50%         0.000000\n",
       "75%         0.610791\n",
       "max         2.235366\n",
       "Name: stotal, dtype: float64"
      ]
     },
     "metadata": {},
     "execution_count": 15
    }
   ],
   "source": [
    "## Coletando as estatísticas descritivas de 'stotal'\n",
    "df['stotal'].describe()"
   ]
  },
  {
   "cell_type": "code",
   "execution_count": 16,
   "metadata": {},
   "outputs": [
    {
     "output_type": "stream",
     "name": "stdout",
     "text": [
      "                            OLS Regression Results                            \n==============================================================================\nDep. Variable:                     jc   R-squared:                       0.000\nModel:                            OLS   Adj. R-squared:                  0.000\nMethod:                 Least Squares   F-statistic:                     1.032\nDate:                Thu, 18 Feb 2021   Prob (F-statistic):              0.310\nTime:                        16:06:54   Log-Likelihood:                -7846.3\nNo. Observations:                6763   AIC:                         1.570e+04\nDf Residuals:                    6761   BIC:                         1.571e+04\nDf Model:                           1                                         \nCovariance Type:            nonrobust                                         \n==============================================================================\n                 coef    std err          t      P>|t|      [0.025      0.975]\n------------------------------------------------------------------------------\nconst          0.3384      0.009     35.983      0.000       0.320       0.357\nstotal         0.0112      0.011      1.016      0.310      -0.010       0.033\n==============================================================================\nOmnibus:                     3100.590   Durbin-Watson:                   2.031\nProb(Omnibus):                  0.000   Jarque-Bera (JB):            12286.036\nSkew:                           2.359   Prob(JB):                         0.00\nKurtosis:                       7.619   Cond. No.                         1.18\n==============================================================================\n\nWarnings:\n[1] Standard Errors assume that the covariance matrix of the errors is correctly specified.\nO erro padrão da regressão é 0.77212 e a SQR é 4030.75274\n\nPara ver os valores previstos ou os resídudos, basta chamar 'Lista_ychapeu' e 'Resíduos'.\nOs resultados do modelo podem ser obtidos através de métodos usando a variável 'Resultado'.\n\n    Valores de condição maiores que 20 indicam problemas de multicolinearidade.\n    Para ver como achar esse número, entre em https://www.statsmodels.org/dev/examples/notebooks/generated/ols.html\n"
     ]
    }
   ],
   "source": [
    "## Fazendo as regressões simples\n",
    "y1 = df['jc']\n",
    "x = df[['stotal']]\n",
    "Regressao_Multipla(x,y1)"
   ]
  },
  {
   "cell_type": "code",
   "execution_count": 17,
   "metadata": {},
   "outputs": [
    {
     "output_type": "stream",
     "name": "stdout",
     "text": [
      "                            OLS Regression Results                            \n==============================================================================\nDep. Variable:                   univ   R-squared:                       0.189\nModel:                            OLS   Adj. R-squared:                  0.189\nMethod:                 Least Squares   F-statistic:                     1575.\nDate:                Thu, 18 Feb 2021   Prob (F-statistic):          8.95e-310\nTime:                        16:06:54   Log-Likelihood:                -14512.\nNo. Observations:                6763   AIC:                         2.903e+04\nDf Residuals:                    6761   BIC:                         2.904e+04\nDf Model:                           1                                         \nCovariance Type:            nonrobust                                         \n==============================================================================\n                 coef    std err          t      P>|t|      [0.025      0.975]\n------------------------------------------------------------------------------\nconst          1.8707      0.025     74.248      0.000       1.821       1.920\nstotal         1.1697      0.029     39.683      0.000       1.112       1.227\n==============================================================================\nOmnibus:                      602.688   Durbin-Watson:                   2.033\nProb(Omnibus):                  0.000   Jarque-Bera (JB):              435.908\nSkew:                           0.519   Prob(JB):                     2.21e-95\nKurtosis:                       2.314   Cond. No.                         1.18\n==============================================================================\n\nWarnings:\n[1] Standard Errors assume that the covariance matrix of the errors is correctly specified.\nO erro padrão da regressão é 2.06884 e a SQR é 28937.76925\n\nPara ver os valores previstos ou os resídudos, basta chamar 'Lista_ychapeu' e 'Resíduos'.\nOs resultados do modelo podem ser obtidos através de métodos usando a variável 'Resultado'.\n\n    Valores de condição maiores que 20 indicam problemas de multicolinearidade.\n    Para ver como achar esse número, entre em https://www.statsmodels.org/dev/examples/notebooks/generated/ols.html\n"
     ]
    }
   ],
   "source": [
    "## Fazendo as regressões simples\n",
    "y2 = df['univ']\n",
    "x = df[['stotal']]\n",
    "Regressao_Multipla(x,y2)"
   ]
  },
  {
   "cell_type": "code",
   "execution_count": 18,
   "metadata": {},
   "outputs": [
    {
     "output_type": "execute_result",
     "data": {
      "text/plain": [
       "Index(['female', 'phsrank', 'BA', 'AA', 'black', 'hispanic', 'id', 'exper',\n",
       "       'jc', 'univ', 'lwage', 'stotal', 'smcity', 'medcity', 'submed',\n",
       "       'lgcity', 'sublg', 'vlgcity', 'subvlg', 'ne', 'nc', 'south', 'totcoll'],\n",
       "      dtype='object')"
      ]
     },
     "metadata": {},
     "execution_count": 18
    }
   ],
   "source": [
    "df.columns"
   ]
  },
  {
   "cell_type": "code",
   "execution_count": 19,
   "metadata": {},
   "outputs": [
    {
     "output_type": "stream",
     "name": "stdout",
     "text": [
      "                            OLS Regression Results                            \n==============================================================================\nDep. Variable:                  lwage   R-squared:                       0.228\nModel:                            OLS   Adj. R-squared:                  0.228\nMethod:                 Least Squares   F-statistic:                     500.2\nDate:                Thu, 18 Feb 2021   Prob (F-statistic):               0.00\nTime:                        16:06:55   Log-Likelihood:                -3862.5\nNo. Observations:                6763   AIC:                             7735.\nDf Residuals:                    6758   BIC:                             7769.\nDf Model:                           4                                         \nCovariance Type:            nonrobust                                         \n==============================================================================\n                 coef    std err          t      P>|t|      [0.025      0.975]\n------------------------------------------------------------------------------\nconst          1.4953      0.021     70.473      0.000       1.454       1.537\njc             0.0631      0.007      9.243      0.000       0.050       0.076\nuniv           0.0686      0.003     26.759      0.000       0.064       0.074\nexper          0.0049      0.000     31.036      0.000       0.005       0.005\nstotal         0.0494      0.007      7.251      0.000       0.036       0.063\n==============================================================================\nOmnibus:                       86.983   Durbin-Watson:                   1.965\nProb(Omnibus):                  0.000   Jarque-Bera (JB):              156.100\nSkew:                          -0.029   Prob(JB):                     1.27e-34\nKurtosis:                       3.742   Cond. No.                         518.\n==============================================================================\n\nWarnings:\n[1] Standard Errors assume that the covariance matrix of the errors is correctly specified.\nO erro padrão da regressão é 0.42851 e a SQR é 1240.88926\n\nPara ver os valores previstos ou os resídudos, basta chamar 'Lista_ychapeu' e 'Resíduos'.\nOs resultados do modelo podem ser obtidos através de métodos usando a variável 'Resultado'.\n\n    Valores de condição maiores que 20 indicam problemas de multicolinearidade.\n    Para ver como achar esse número, entre em https://www.statsmodels.org/dev/examples/notebooks/generated/ols.html\n"
     ]
    }
   ],
   "source": [
    "## Fazendo a regressão de 4.17 adicionando 'stotal'\n",
    "x = df[['jc','univ','exper','stotal']]\n",
    "y = df['lwage']\n",
    "Regressao_Multipla(x,y)"
   ]
  },
  {
   "cell_type": "code",
   "execution_count": 20,
   "metadata": {},
   "outputs": [
    {
     "output_type": "stream",
     "name": "stdout",
     "text": [
      "A estatística do teste é [[-0.80552407]], o que resulta em um p-valor de (array(0.42054566), 6)\n"
     ]
    }
   ],
   "source": [
    "## Fazendo o teste t para ver se  os coeficientes de jc e univ são iguais:\n",
    "Teste_t_Dois_Coeficientes_Iguais(x,y, df[['jc','univ']])"
   ]
  },
  {
   "cell_type": "code",
   "execution_count": 21,
   "metadata": {},
   "outputs": [
    {
     "output_type": "stream",
     "name": "stdout",
     "text": [
      "                            OLS Regression Results                            \n==============================================================================\nDep. Variable:                  lwage   R-squared:                       0.228\nModel:                            OLS   Adj. R-squared:                  0.228\nMethod:                 Least Squares   F-statistic:                     400.2\nDate:                Thu, 18 Feb 2021   Prob (F-statistic):               0.00\nTime:                        16:06:55   Log-Likelihood:                -3862.4\nNo. Observations:                6763   AIC:                             7737.\nDf Residuals:                    6757   BIC:                             7778.\nDf Model:                           5                                         \nCovariance Type:            nonrobust                                         \n==============================================================================\n                 coef    std err          t      P>|t|      [0.025      0.975]\n------------------------------------------------------------------------------\nconst          1.4940      0.021     69.635      0.000       1.452       1.536\njc             0.0632      0.007      9.251      0.000       0.050       0.077\nuniv           0.0685      0.003     26.508      0.000       0.063       0.074\nexper          0.0049      0.000     31.036      0.000       0.005       0.005\nstotal         0.0502      0.007      7.086      0.000       0.036       0.064\nstotal2        0.0019      0.005      0.404      0.686      -0.007       0.011\n==============================================================================\nOmnibus:                       86.922   Durbin-Watson:                   1.965\nProb(Omnibus):                  0.000   Jarque-Bera (JB):              155.915\nSkew:                          -0.030   Prob(JB):                     1.39e-34\nKurtosis:                       3.741   Cond. No.                         524.\n==============================================================================\n\nWarnings:\n[1] Standard Errors assume that the covariance matrix of the errors is correctly specified.\nO erro padrão da regressão é 0.42853 e a SQR é 1240.85926\n\nPara ver os valores previstos ou os resídudos, basta chamar 'Lista_ychapeu' e 'Resíduos'.\nOs resultados do modelo podem ser obtidos através de métodos usando a variável 'Resultado'.\n\n    Valores de condição maiores que 20 indicam problemas de multicolinearidade.\n    Para ver como achar esse número, entre em https://www.statsmodels.org/dev/examples/notebooks/generated/ols.html\n"
     ]
    }
   ],
   "source": [
    "## Criando a coluna de stotal2\n",
    "df['stotal2'] = df['stotal']**2\n",
    "\n",
    "## Fazendo a regressão\n",
    "x = df[['jc','univ','exper','stotal','stotal2']]\n",
    "y = df['lwage']\n",
    "Regressao_Multipla(x,y)"
   ]
  },
  {
   "cell_type": "code",
   "execution_count": 22,
   "metadata": {},
   "outputs": [
    {
     "output_type": "stream",
     "name": "stdout",
     "text": [
      "O valor de F é 1.959 e seu p-valor é 0.1410201. Portanto, não se rejeita Ho à significância de 5.0%.\n"
     ]
    }
   ],
   "source": [
    "## Criando a coluna de stotal_jc e stotal_univ\n",
    "df['stotal_jc'] = df['stotal']*df['jc']\n",
    "df['stotal_univ'] = df['stotal']*df['univ']\n",
    "\n",
    "## Fazendo o teste F\n",
    "x = df[['jc','univ','exper','stotal','stotal_jc','stotal_univ']]\n",
    "y = df['lwage']\n",
    "Teste_F(x,y,df[['stotal_jc','stotal_univ']])"
   ]
  },
  {
   "source": [
    "## Exercício C10"
   ],
   "cell_type": "markdown",
   "metadata": {}
  },
  {
   "cell_type": "code",
   "execution_count": 23,
   "metadata": {},
   "outputs": [
    {
     "output_type": "stream",
     "name": "stdout",
     "text": [
      "JTRAIN2.dta foi lido com sucesso!\n"
     ]
    }
   ],
   "source": [
    "coletar_dados('JTRAIN2')\n",
    "train2 = df"
   ]
  },
  {
   "cell_type": "code",
   "execution_count": 24,
   "metadata": {},
   "outputs": [
    {
     "output_type": "stream",
     "name": "stdout",
     "text": [
      "jtrain3.dta foi lido com sucesso!\n"
     ]
    }
   ],
   "source": [
    "#Pegando qual a pasta do arquivo que está sendo usado pra programar\n",
    "caminho = pathlib.Path().absolute()\n",
    "caminho_vinicius = f\"{caminho}/datasets\"\n",
    "arquivo = f\"{str(caminho_vinicius)}/JTRAIN3.dta\"\n",
    "train3 = pd.read_stata(arquivo)\n",
    "print(f\"jtrain3.dta foi lido com sucesso!\")"
   ]
  },
  {
   "cell_type": "code",
   "execution_count": 25,
   "metadata": {},
   "outputs": [
    {
     "output_type": "display_data",
     "data": {
      "text/plain": "     train  age  educ  black  hisp  married  nodegree  mosinex       re74  \\\n0        1   37    11      1     0        1         1       13   0.000000   \n1        1   22     9      0     1        0         1       13   0.000000   \n2        1   30    12      1     0        0         0       13   0.000000   \n3        1   27    11      1     0        0         1       13   0.000000   \n4        1   33     8      1     0        0         1       13   0.000000   \n..     ...  ...   ...    ...   ...      ...       ...      ...        ...   \n440      0   21     9      1     0        0         1       23  31.886402   \n441      0   28    11      1     0        0         1       24  17.491499   \n442      0   29     9      0     1        0         1       23   9.594309   \n443      0   25     9      1     0        1         1       22  24.731600   \n444      0   22    10      0     0        1         1       22  25.720901   \n\n          re75       re78  unem74  unem75  unem78     lre74     lre75  \\\n0     0.000000   9.930050       1       1       0  0.000000  0.000000   \n1     0.000000   3.595890       1       1       0  0.000000  0.000000   \n2     0.000000  24.909500       1       1       0  0.000000  0.000000   \n3     0.000000   7.506150       1       1       0  0.000000  0.000000   \n4     0.000000   0.289790       1       1       0  0.000000  0.000000   \n..         ...        ...     ...     ...     ...       ...       ...   \n440  12.357200   0.000000       0       0       1  3.462180  2.514239   \n441  13.371300   0.000000       0       0       1  2.861715  2.593111   \n442  16.341200  16.900301       0       0       0  2.261170  2.793689   \n443  16.946600   7.343960       0       0       0  3.208082  2.830067   \n444  23.032001   5.448800       0       0       0  3.247304  3.136885   \n\n        lre78  agesq  mostrn      avgre  \n0    2.295566   1369      13   0.000000  \n1    1.279792    484      13   0.000000  \n2    3.215249    900      13   0.000000  \n3    2.015723    729      13   0.000000  \n4   -1.238599   1089      13   0.000000  \n..        ...    ...     ...        ...  \n440  0.000000    441       0  22.121801  \n441  0.000000    784       0  15.431399  \n442  2.827332    841       0  12.967754  \n443  1.993878    625       0  20.839100  \n444  1.695395    484       0  24.376451  \n\n[445 rows x 20 columns]",
      "text/html": "<div>\n<style scoped>\n    .dataframe tbody tr th:only-of-type {\n        vertical-align: middle;\n    }\n\n    .dataframe tbody tr th {\n        vertical-align: top;\n    }\n\n    .dataframe thead th {\n        text-align: right;\n    }\n</style>\n<table border=\"1\" class=\"dataframe\">\n  <thead>\n    <tr style=\"text-align: right;\">\n      <th></th>\n      <th>train</th>\n      <th>age</th>\n      <th>educ</th>\n      <th>black</th>\n      <th>hisp</th>\n      <th>married</th>\n      <th>nodegree</th>\n      <th>mosinex</th>\n      <th>re74</th>\n      <th>re75</th>\n      <th>re78</th>\n      <th>unem74</th>\n      <th>unem75</th>\n      <th>unem78</th>\n      <th>lre74</th>\n      <th>lre75</th>\n      <th>lre78</th>\n      <th>agesq</th>\n      <th>mostrn</th>\n      <th>avgre</th>\n    </tr>\n  </thead>\n  <tbody>\n    <tr>\n      <th>0</th>\n      <td>1</td>\n      <td>37</td>\n      <td>11</td>\n      <td>1</td>\n      <td>0</td>\n      <td>1</td>\n      <td>1</td>\n      <td>13</td>\n      <td>0.000000</td>\n      <td>0.000000</td>\n      <td>9.930050</td>\n      <td>1</td>\n      <td>1</td>\n      <td>0</td>\n      <td>0.000000</td>\n      <td>0.000000</td>\n      <td>2.295566</td>\n      <td>1369</td>\n      <td>13</td>\n      <td>0.000000</td>\n    </tr>\n    <tr>\n      <th>1</th>\n      <td>1</td>\n      <td>22</td>\n      <td>9</td>\n      <td>0</td>\n      <td>1</td>\n      <td>0</td>\n      <td>1</td>\n      <td>13</td>\n      <td>0.000000</td>\n      <td>0.000000</td>\n      <td>3.595890</td>\n      <td>1</td>\n      <td>1</td>\n      <td>0</td>\n      <td>0.000000</td>\n      <td>0.000000</td>\n      <td>1.279792</td>\n      <td>484</td>\n      <td>13</td>\n      <td>0.000000</td>\n    </tr>\n    <tr>\n      <th>2</th>\n      <td>1</td>\n      <td>30</td>\n      <td>12</td>\n      <td>1</td>\n      <td>0</td>\n      <td>0</td>\n      <td>0</td>\n      <td>13</td>\n      <td>0.000000</td>\n      <td>0.000000</td>\n      <td>24.909500</td>\n      <td>1</td>\n      <td>1</td>\n      <td>0</td>\n      <td>0.000000</td>\n      <td>0.000000</td>\n      <td>3.215249</td>\n      <td>900</td>\n      <td>13</td>\n      <td>0.000000</td>\n    </tr>\n    <tr>\n      <th>3</th>\n      <td>1</td>\n      <td>27</td>\n      <td>11</td>\n      <td>1</td>\n      <td>0</td>\n      <td>0</td>\n      <td>1</td>\n      <td>13</td>\n      <td>0.000000</td>\n      <td>0.000000</td>\n      <td>7.506150</td>\n      <td>1</td>\n      <td>1</td>\n      <td>0</td>\n      <td>0.000000</td>\n      <td>0.000000</td>\n      <td>2.015723</td>\n      <td>729</td>\n      <td>13</td>\n      <td>0.000000</td>\n    </tr>\n    <tr>\n      <th>4</th>\n      <td>1</td>\n      <td>33</td>\n      <td>8</td>\n      <td>1</td>\n      <td>0</td>\n      <td>0</td>\n      <td>1</td>\n      <td>13</td>\n      <td>0.000000</td>\n      <td>0.000000</td>\n      <td>0.289790</td>\n      <td>1</td>\n      <td>1</td>\n      <td>0</td>\n      <td>0.000000</td>\n      <td>0.000000</td>\n      <td>-1.238599</td>\n      <td>1089</td>\n      <td>13</td>\n      <td>0.000000</td>\n    </tr>\n    <tr>\n      <th>...</th>\n      <td>...</td>\n      <td>...</td>\n      <td>...</td>\n      <td>...</td>\n      <td>...</td>\n      <td>...</td>\n      <td>...</td>\n      <td>...</td>\n      <td>...</td>\n      <td>...</td>\n      <td>...</td>\n      <td>...</td>\n      <td>...</td>\n      <td>...</td>\n      <td>...</td>\n      <td>...</td>\n      <td>...</td>\n      <td>...</td>\n      <td>...</td>\n      <td>...</td>\n    </tr>\n    <tr>\n      <th>440</th>\n      <td>0</td>\n      <td>21</td>\n      <td>9</td>\n      <td>1</td>\n      <td>0</td>\n      <td>0</td>\n      <td>1</td>\n      <td>23</td>\n      <td>31.886402</td>\n      <td>12.357200</td>\n      <td>0.000000</td>\n      <td>0</td>\n      <td>0</td>\n      <td>1</td>\n      <td>3.462180</td>\n      <td>2.514239</td>\n      <td>0.000000</td>\n      <td>441</td>\n      <td>0</td>\n      <td>22.121801</td>\n    </tr>\n    <tr>\n      <th>441</th>\n      <td>0</td>\n      <td>28</td>\n      <td>11</td>\n      <td>1</td>\n      <td>0</td>\n      <td>0</td>\n      <td>1</td>\n      <td>24</td>\n      <td>17.491499</td>\n      <td>13.371300</td>\n      <td>0.000000</td>\n      <td>0</td>\n      <td>0</td>\n      <td>1</td>\n      <td>2.861715</td>\n      <td>2.593111</td>\n      <td>0.000000</td>\n      <td>784</td>\n      <td>0</td>\n      <td>15.431399</td>\n    </tr>\n    <tr>\n      <th>442</th>\n      <td>0</td>\n      <td>29</td>\n      <td>9</td>\n      <td>0</td>\n      <td>1</td>\n      <td>0</td>\n      <td>1</td>\n      <td>23</td>\n      <td>9.594309</td>\n      <td>16.341200</td>\n      <td>16.900301</td>\n      <td>0</td>\n      <td>0</td>\n      <td>0</td>\n      <td>2.261170</td>\n      <td>2.793689</td>\n      <td>2.827332</td>\n      <td>841</td>\n      <td>0</td>\n      <td>12.967754</td>\n    </tr>\n    <tr>\n      <th>443</th>\n      <td>0</td>\n      <td>25</td>\n      <td>9</td>\n      <td>1</td>\n      <td>0</td>\n      <td>1</td>\n      <td>1</td>\n      <td>22</td>\n      <td>24.731600</td>\n      <td>16.946600</td>\n      <td>7.343960</td>\n      <td>0</td>\n      <td>0</td>\n      <td>0</td>\n      <td>3.208082</td>\n      <td>2.830067</td>\n      <td>1.993878</td>\n      <td>625</td>\n      <td>0</td>\n      <td>20.839100</td>\n    </tr>\n    <tr>\n      <th>444</th>\n      <td>0</td>\n      <td>22</td>\n      <td>10</td>\n      <td>0</td>\n      <td>0</td>\n      <td>1</td>\n      <td>1</td>\n      <td>22</td>\n      <td>25.720901</td>\n      <td>23.032001</td>\n      <td>5.448800</td>\n      <td>0</td>\n      <td>0</td>\n      <td>0</td>\n      <td>3.247304</td>\n      <td>3.136885</td>\n      <td>1.695395</td>\n      <td>484</td>\n      <td>0</td>\n      <td>24.376451</td>\n    </tr>\n  </tbody>\n</table>\n<p>445 rows × 20 columns</p>\n</div>"
     },
     "metadata": {}
    }
   ],
   "source": [
    "train2['avgre'] = (train2['re74'] + train2['re75'])/2\n",
    "display(train2)\n",
    "##train2 é resultado de um experimento de treinamento profissional"
   ]
  },
  {
   "cell_type": "code",
   "execution_count": 26,
   "metadata": {},
   "outputs": [
    {
     "output_type": "display_data",
     "data": {
      "text/plain": "      train  age  educ  black  hisp  married       re74       re75  unem75  \\\n0         1   37    11      1     0        1   0.000000   0.000000       1   \n1         1   30    12      1     0        0   0.000000   0.000000       1   \n2         1   27    11      1     0        0   0.000000   0.000000       1   \n3         1   33     8      1     0        0   0.000000   0.000000       1   \n4         1   22     9      1     0        0   0.000000   0.000000       1   \n...     ...  ...   ...    ...   ...      ...        ...        ...     ...   \n2670      0   47     8      0     0        1  44.667397  33.837101       0   \n2671      0   32     8      0     0        1  47.022400  67.137100       0   \n2672      0   47    10      0     0        1  48.198002  47.968102       0   \n2673      0   54     0      0     1        1  49.228500  44.221001       0   \n2674      0   40     8      0     0        1  50.940899  55.500000       0   \n\n      unem74       re78  agesq  trre74  trre75  trun74  trun75      avgre  \\\n0          1   9.930050   1369     0.0     0.0       1       1   0.000000   \n1          1  24.909500    900     0.0     0.0       1       1   0.000000   \n2          1   7.506150    729     0.0     0.0       1       1   0.000000   \n3          1   0.289790   1089     0.0     0.0       1       1   0.000000   \n4          1   4.056490    484     0.0     0.0       1       1   0.000000   \n...      ...        ...    ...     ...     ...     ...     ...        ...   \n2670       0  38.568699   2209     0.0     0.0       0       0  39.252251   \n2671       0  59.109100   1024     0.0     0.0       0       0  57.079750   \n2672       0  55.710300   2209     0.0     0.0       0       0  48.083054   \n2673       0  20.540400   2916     0.0     0.0       0       0  46.724751   \n2674       0  53.198200   1600     0.0     0.0       0       0  53.220451   \n\n      travgre  unem78  em78  \n0         0.0       0     1  \n1         0.0       0     1  \n2         0.0       0     1  \n3         0.0       0     1  \n4         0.0       0     1  \n...       ...     ...   ...  \n2670      0.0       0     1  \n2671      0.0       0     1  \n2672      0.0       0     1  \n2673      0.0       0     1  \n2674      0.0       0     1  \n\n[2675 rows x 20 columns]",
      "text/html": "<div>\n<style scoped>\n    .dataframe tbody tr th:only-of-type {\n        vertical-align: middle;\n    }\n\n    .dataframe tbody tr th {\n        vertical-align: top;\n    }\n\n    .dataframe thead th {\n        text-align: right;\n    }\n</style>\n<table border=\"1\" class=\"dataframe\">\n  <thead>\n    <tr style=\"text-align: right;\">\n      <th></th>\n      <th>train</th>\n      <th>age</th>\n      <th>educ</th>\n      <th>black</th>\n      <th>hisp</th>\n      <th>married</th>\n      <th>re74</th>\n      <th>re75</th>\n      <th>unem75</th>\n      <th>unem74</th>\n      <th>re78</th>\n      <th>agesq</th>\n      <th>trre74</th>\n      <th>trre75</th>\n      <th>trun74</th>\n      <th>trun75</th>\n      <th>avgre</th>\n      <th>travgre</th>\n      <th>unem78</th>\n      <th>em78</th>\n    </tr>\n  </thead>\n  <tbody>\n    <tr>\n      <th>0</th>\n      <td>1</td>\n      <td>37</td>\n      <td>11</td>\n      <td>1</td>\n      <td>0</td>\n      <td>1</td>\n      <td>0.000000</td>\n      <td>0.000000</td>\n      <td>1</td>\n      <td>1</td>\n      <td>9.930050</td>\n      <td>1369</td>\n      <td>0.0</td>\n      <td>0.0</td>\n      <td>1</td>\n      <td>1</td>\n      <td>0.000000</td>\n      <td>0.0</td>\n      <td>0</td>\n      <td>1</td>\n    </tr>\n    <tr>\n      <th>1</th>\n      <td>1</td>\n      <td>30</td>\n      <td>12</td>\n      <td>1</td>\n      <td>0</td>\n      <td>0</td>\n      <td>0.000000</td>\n      <td>0.000000</td>\n      <td>1</td>\n      <td>1</td>\n      <td>24.909500</td>\n      <td>900</td>\n      <td>0.0</td>\n      <td>0.0</td>\n      <td>1</td>\n      <td>1</td>\n      <td>0.000000</td>\n      <td>0.0</td>\n      <td>0</td>\n      <td>1</td>\n    </tr>\n    <tr>\n      <th>2</th>\n      <td>1</td>\n      <td>27</td>\n      <td>11</td>\n      <td>1</td>\n      <td>0</td>\n      <td>0</td>\n      <td>0.000000</td>\n      <td>0.000000</td>\n      <td>1</td>\n      <td>1</td>\n      <td>7.506150</td>\n      <td>729</td>\n      <td>0.0</td>\n      <td>0.0</td>\n      <td>1</td>\n      <td>1</td>\n      <td>0.000000</td>\n      <td>0.0</td>\n      <td>0</td>\n      <td>1</td>\n    </tr>\n    <tr>\n      <th>3</th>\n      <td>1</td>\n      <td>33</td>\n      <td>8</td>\n      <td>1</td>\n      <td>0</td>\n      <td>0</td>\n      <td>0.000000</td>\n      <td>0.000000</td>\n      <td>1</td>\n      <td>1</td>\n      <td>0.289790</td>\n      <td>1089</td>\n      <td>0.0</td>\n      <td>0.0</td>\n      <td>1</td>\n      <td>1</td>\n      <td>0.000000</td>\n      <td>0.0</td>\n      <td>0</td>\n      <td>1</td>\n    </tr>\n    <tr>\n      <th>4</th>\n      <td>1</td>\n      <td>22</td>\n      <td>9</td>\n      <td>1</td>\n      <td>0</td>\n      <td>0</td>\n      <td>0.000000</td>\n      <td>0.000000</td>\n      <td>1</td>\n      <td>1</td>\n      <td>4.056490</td>\n      <td>484</td>\n      <td>0.0</td>\n      <td>0.0</td>\n      <td>1</td>\n      <td>1</td>\n      <td>0.000000</td>\n      <td>0.0</td>\n      <td>0</td>\n      <td>1</td>\n    </tr>\n    <tr>\n      <th>...</th>\n      <td>...</td>\n      <td>...</td>\n      <td>...</td>\n      <td>...</td>\n      <td>...</td>\n      <td>...</td>\n      <td>...</td>\n      <td>...</td>\n      <td>...</td>\n      <td>...</td>\n      <td>...</td>\n      <td>...</td>\n      <td>...</td>\n      <td>...</td>\n      <td>...</td>\n      <td>...</td>\n      <td>...</td>\n      <td>...</td>\n      <td>...</td>\n      <td>...</td>\n    </tr>\n    <tr>\n      <th>2670</th>\n      <td>0</td>\n      <td>47</td>\n      <td>8</td>\n      <td>0</td>\n      <td>0</td>\n      <td>1</td>\n      <td>44.667397</td>\n      <td>33.837101</td>\n      <td>0</td>\n      <td>0</td>\n      <td>38.568699</td>\n      <td>2209</td>\n      <td>0.0</td>\n      <td>0.0</td>\n      <td>0</td>\n      <td>0</td>\n      <td>39.252251</td>\n      <td>0.0</td>\n      <td>0</td>\n      <td>1</td>\n    </tr>\n    <tr>\n      <th>2671</th>\n      <td>0</td>\n      <td>32</td>\n      <td>8</td>\n      <td>0</td>\n      <td>0</td>\n      <td>1</td>\n      <td>47.022400</td>\n      <td>67.137100</td>\n      <td>0</td>\n      <td>0</td>\n      <td>59.109100</td>\n      <td>1024</td>\n      <td>0.0</td>\n      <td>0.0</td>\n      <td>0</td>\n      <td>0</td>\n      <td>57.079750</td>\n      <td>0.0</td>\n      <td>0</td>\n      <td>1</td>\n    </tr>\n    <tr>\n      <th>2672</th>\n      <td>0</td>\n      <td>47</td>\n      <td>10</td>\n      <td>0</td>\n      <td>0</td>\n      <td>1</td>\n      <td>48.198002</td>\n      <td>47.968102</td>\n      <td>0</td>\n      <td>0</td>\n      <td>55.710300</td>\n      <td>2209</td>\n      <td>0.0</td>\n      <td>0.0</td>\n      <td>0</td>\n      <td>0</td>\n      <td>48.083054</td>\n      <td>0.0</td>\n      <td>0</td>\n      <td>1</td>\n    </tr>\n    <tr>\n      <th>2673</th>\n      <td>0</td>\n      <td>54</td>\n      <td>0</td>\n      <td>0</td>\n      <td>1</td>\n      <td>1</td>\n      <td>49.228500</td>\n      <td>44.221001</td>\n      <td>0</td>\n      <td>0</td>\n      <td>20.540400</td>\n      <td>2916</td>\n      <td>0.0</td>\n      <td>0.0</td>\n      <td>0</td>\n      <td>0</td>\n      <td>46.724751</td>\n      <td>0.0</td>\n      <td>0</td>\n      <td>1</td>\n    </tr>\n    <tr>\n      <th>2674</th>\n      <td>0</td>\n      <td>40</td>\n      <td>8</td>\n      <td>0</td>\n      <td>0</td>\n      <td>1</td>\n      <td>50.940899</td>\n      <td>55.500000</td>\n      <td>0</td>\n      <td>0</td>\n      <td>53.198200</td>\n      <td>1600</td>\n      <td>0.0</td>\n      <td>0.0</td>\n      <td>0</td>\n      <td>0</td>\n      <td>53.220451</td>\n      <td>0.0</td>\n      <td>0</td>\n      <td>1</td>\n    </tr>\n  </tbody>\n</table>\n<p>2675 rows × 20 columns</p>\n</div>"
     },
     "metadata": {}
    }
   ],
   "source": [
    "display(train3)\n",
    "##  train3 é um dataset em que os indivíduos determinam fortemente se participam do treinamento profissional ou não"
   ]
  },
  {
   "cell_type": "code",
   "execution_count": 27,
   "metadata": {},
   "outputs": [
    {
     "output_type": "stream",
     "name": "stdout",
     "text": [
      "Há 445 homens na amostra, dentre os quais 185 receberam algum treinamento (41.57% do total).\n"
     ]
    }
   ],
   "source": [
    "## Calculando a proporção dos homens que recebeu treinamento profissional em train2\n",
    "observacoes = len(train2['train'])\n",
    "treinamento = len(train2['train'].loc[train2['train']  == 1])\n",
    "\n",
    "print(f\"Há {observacoes} homens na amostra, dentre os quais {treinamento} receberam algum treinamento ({round(treinamento/observacoes,4)*100}% do total).\")"
   ]
  },
  {
   "cell_type": "code",
   "execution_count": 28,
   "metadata": {},
   "outputs": [
    {
     "output_type": "stream",
     "name": "stdout",
     "text": [
      "Há 2675 homens na amostra, dentre os quais 185 receberam algum treinamento (6.92% do total).\n"
     ]
    }
   ],
   "source": [
    "## Calculando a proporção dos homens que recebeu treinamento profissional em train3\n",
    "observacoes = len(train3['train'])\n",
    "treinamento = len(train3['train'].loc[train3['train']  == 1])\n",
    "\n",
    "print(f\"Há {observacoes} homens na amostra, dentre os quais {treinamento} receberam algum treinamento ({round(treinamento/observacoes,4)*100}% do total).\")"
   ]
  },
  {
   "cell_type": "code",
   "execution_count": 29,
   "metadata": {},
   "outputs": [
    {
     "output_type": "stream",
     "name": "stdout",
     "text": [
      "                            OLS Regression Results                            \n",
      "==============================================================================\n",
      "Dep. Variable:                   re78   R-squared:                       0.018\n",
      "Model:                            OLS   Adj. R-squared:                  0.016\n",
      "Method:                 Least Squares   F-statistic:                     8.039\n",
      "Date:                Thu, 18 Feb 2021   Prob (F-statistic):            0.00479\n",
      "Time:                        16:06:57   Log-Likelihood:                -1468.8\n",
      "No. Observations:                 445   AIC:                             2942.\n",
      "Df Residuals:                     443   BIC:                             2950.\n",
      "Df Model:                           1                                         \n",
      "Covariance Type:            nonrobust                                         \n",
      "==============================================================================\n",
      "                 coef    std err          t      P>|t|      [0.025      0.975]\n",
      "------------------------------------------------------------------------------\n",
      "const          4.5548      0.408     11.162      0.000       3.753       5.357\n",
      "train          1.7943      0.633      2.835      0.005       0.551       3.038\n",
      "==============================================================================\n",
      "Omnibus:                      282.071   Durbin-Watson:                   2.064\n",
      "Prob(Omnibus):                  0.000   Jarque-Bera (JB):             3430.874\n",
      "Skew:                           2.547   Prob(JB):                         0.00\n",
      "Kurtosis:                      15.613   Cond. No.                         2.47\n",
      "==============================================================================\n",
      "\n",
      "Warnings:\n",
      "[1] Standard Errors assume that the covariance matrix of the errors is correctly specified.\n",
      "O erro padrão da regressão é 6.57954 e a SQR é 19177.64317\n",
      "\n",
      "Para ver os valores previstos ou os resídudos, basta chamar 'Lista_ychapeu' e 'Resíduos'.\n",
      "Os resultados do modelo podem ser obtidos através de métodos usando a variável 'Resultado'.\n",
      "\n",
      "    Valores de condição maiores que 20 indicam problemas de multicolinearidade.\n",
      "    Para ver como achar esse número, entre em https://www.statsmodels.org/dev/examples/notebooks/generated/ols.html\n"
     ]
    }
   ],
   "source": [
    "## Fazendo a regressão de re78 sobre train em TRAIN2\n",
    "x = train2[['train']]\n",
    "y = train2['re78']\n",
    "Regressao_Multipla(x,y)"
   ]
  },
  {
   "cell_type": "code",
   "execution_count": 30,
   "metadata": {},
   "outputs": [
    {
     "output_type": "stream",
     "name": "stdout",
     "text": [
      "                            OLS Regression Results                            \n==============================================================================\nDep. Variable:                   re78   R-squared:                       0.055\nModel:                            OLS   Adj. R-squared:                  0.040\nMethod:                 Least Squares   F-statistic:                     3.617\nDate:                Thu, 18 Feb 2021   Prob (F-statistic):           0.000840\nTime:                        16:06:57   Log-Likelihood:                -1460.3\nNo. Observations:                 445   AIC:                             2937.\nDf Residuals:                     437   BIC:                             2969.\nDf Model:                           7                                         \nCovariance Type:            nonrobust                                         \n==============================================================================\n                 coef    std err          t      P>|t|      [0.025      0.975]\n------------------------------------------------------------------------------\nconst          0.6741      2.423      0.278      0.781      -4.088       5.436\ntrain          1.6800      0.631      2.663      0.008       0.440       2.920\nre74           0.0833      0.077      1.089      0.277      -0.067       0.234\nre75           0.0468      0.131      0.358      0.721      -0.210       0.304\neduc           0.4036      0.175      2.308      0.021       0.060       0.747\nage            0.0543      0.044      1.240      0.216      -0.032       0.140\nblack         -2.1801      1.156     -1.887      0.060      -4.451       0.091\nhisp           0.1436      1.541      0.093      0.926      -2.885       3.172\n==============================================================================\nOmnibus:                      284.815   Durbin-Watson:                   2.058\nProb(Omnibus):                  0.000   Jarque-Bera (JB):             3771.053\nSkew:                           2.545   Prob(JB):                         0.00\nKurtosis:                      16.322   Cond. No.                         245.\n==============================================================================\n\nWarnings:\n[1] Standard Errors assume that the covariance matrix of the errors is correctly specified.\nO erro padrão da regressão é 6.49879 e a SQR é 18456.35497\n\nPara ver os valores previstos ou os resídudos, basta chamar 'Lista_ychapeu' e 'Resíduos'.\nOs resultados do modelo podem ser obtidos através de métodos usando a variável 'Resultado'.\n\n    Valores de condição maiores que 20 indicam problemas de multicolinearidade.\n    Para ver como achar esse número, entre em https://www.statsmodels.org/dev/examples/notebooks/generated/ols.html\n"
     ]
    }
   ],
   "source": [
    "## Fazendo uma regressão controlando para outras variáveis\n",
    "x = train2[['train','re74','re75','educ','age','black','hisp']]\n",
    "y = train2['re78']\n",
    "Regressao_Multipla(x,y)"
   ]
  },
  {
   "cell_type": "code",
   "execution_count": 31,
   "metadata": {},
   "outputs": [
    {
     "output_type": "stream",
     "name": "stdout",
     "text": [
      "                            OLS Regression Results                            \n==============================================================================\nDep. Variable:                   re78   R-squared:                       0.061\nModel:                            OLS   Adj. R-squared:                  0.061\nMethod:                 Least Squares   F-statistic:                     173.4\nDate:                Thu, 18 Feb 2021   Prob (F-statistic):           2.03e-38\nTime:                        16:06:58   Log-Likelihood:                -11066.\nNo. Observations:                2675   AIC:                         2.214e+04\nDf Residuals:                    2673   BIC:                         2.215e+04\nDf Model:                           1                                         \nCovariance Type:            nonrobust                                         \n==============================================================================\n                 coef    std err          t      P>|t|      [0.025      0.975]\n------------------------------------------------------------------------------\nconst         21.5539      0.304     70.985      0.000      20.959      22.149\ntrain        -15.2048      1.155    -13.169      0.000     -17.469     -12.941\n==============================================================================\nOmnibus:                      715.201   Durbin-Watson:                   0.919\nProb(Omnibus):                  0.000   Jarque-Bera (JB):             2698.169\nSkew:                           1.278   Prob(JB):                         0.00\nKurtosis:                       7.205   Cond. No.                         3.96\n==============================================================================\n\nWarnings:\n[1] Standard Errors assume that the covariance matrix of the errors is correctly specified.\nO erro padrão da regressão é 15.15167 e a SQR é 613649.17344\n\nPara ver os valores previstos ou os resídudos, basta chamar 'Lista_ychapeu' e 'Resíduos'.\nOs resultados do modelo podem ser obtidos através de métodos usando a variável 'Resultado'.\n\n    Valores de condição maiores que 20 indicam problemas de multicolinearidade.\n    Para ver como achar esse número, entre em https://www.statsmodels.org/dev/examples/notebooks/generated/ols.html\n"
     ]
    }
   ],
   "source": [
    "## Fazendo a regressão de re78 sobre train em TRAIN3\n",
    "x = train3[['train']]\n",
    "y = train3['re78']\n",
    "Regressao_Multipla(x,y)"
   ]
  },
  {
   "cell_type": "code",
   "execution_count": 32,
   "metadata": {},
   "outputs": [
    {
     "output_type": "stream",
     "name": "stdout",
     "text": [
      "                            OLS Regression Results                            \n==============================================================================\nDep. Variable:                   re78   R-squared:                       0.586\nModel:                            OLS   Adj. R-squared:                  0.584\nMethod:                 Least Squares   F-statistic:                     538.4\nDate:                Thu, 18 Feb 2021   Prob (F-statistic):               0.00\nTime:                        16:06:58   Log-Likelihood:                -9971.5\nNo. Observations:                2675   AIC:                         1.996e+04\nDf Residuals:                    2667   BIC:                         2.001e+04\nDf Model:                           7                                         \nCovariance Type:            nonrobust                                         \n==============================================================================\n                 coef    std err          t      P>|t|      [0.025      0.975]\n------------------------------------------------------------------------------\nconst          1.6476      1.301      1.266      0.205      -0.903       4.198\ntrain          0.2132      0.853      0.250      0.803      -1.460       1.887\nre74           0.2810      0.028     10.071      0.000       0.226       0.336\nre75           0.5693      0.028     20.648      0.000       0.515       0.623\neduc           0.5201      0.075      6.914      0.000       0.373       0.668\nage           -0.0751      0.020     -3.667      0.000      -0.115      -0.035\nblack         -0.6477      0.492     -1.317      0.188      -1.612       0.317\nhisp           2.2026      1.093      2.016      0.044       0.060       4.345\n==============================================================================\nOmnibus:                      993.426   Durbin-Watson:                   1.845\nProb(Omnibus):                  0.000   Jarque-Bera (JB):            21879.254\nSkew:                           1.227   Prob(JB):                         0.00\nKurtosis:                      16.794   Cond. No.                         326.\n==============================================================================\n\nWarnings:\n[1] Standard Errors assume that the covariance matrix of the errors is correctly specified.\nO erro padrão da regressão é 10.07671 e a SQR é 270807.42505\n\nPara ver os valores previstos ou os resídudos, basta chamar 'Lista_ychapeu' e 'Resíduos'.\nOs resultados do modelo podem ser obtidos através de métodos usando a variável 'Resultado'.\n\n    Valores de condição maiores que 20 indicam problemas de multicolinearidade.\n    Para ver como achar esse número, entre em https://www.statsmodels.org/dev/examples/notebooks/generated/ols.html\n"
     ]
    }
   ],
   "source": [
    "## Fazendo uma regressão controlando para outras variáveis\n",
    "x = train3[['train','re74','re75','educ','age','black','hisp']]\n",
    "y = train3['re78']\n",
    "Regressao_Multipla(x,y)"
   ]
  },
  {
   "cell_type": "code",
   "execution_count": 33,
   "metadata": {},
   "outputs": [
    {
     "output_type": "stream",
     "name": "stdout",
     "text": [
      "                            OLS Regression Results                            \n==============================================================================\nDep. Variable:                  train   R-squared:                       0.190\nModel:                            OLS   Adj. R-squared:                  0.189\nMethod:                 Least Squares   F-statistic:                     104.5\nDate:                Thu, 18 Feb 2021   Prob (F-statistic):          1.53e-118\nTime:                        16:06:58   Log-Likelihood:                 155.53\nNo. Observations:                2675   AIC:                            -297.1\nDf Residuals:                    2668   BIC:                            -255.8\nDf Model:                           6                                         \nCovariance Type:            nonrobust                                         \n==============================================================================\n                 coef    std err          t      P>|t|      [0.025      0.975]\n------------------------------------------------------------------------------\nconst          0.2193      0.029      7.508      0.000       0.162       0.277\nre74          -0.0020      0.001     -3.243      0.001      -0.003      -0.001\nre75          -0.0021      0.001     -3.354      0.001      -0.003      -0.001\neduc          -0.0004      0.002     -0.230      0.818      -0.004       0.003\nage           -0.0034      0.000     -7.323      0.000      -0.004      -0.002\nblack          0.1431      0.011     13.235      0.000       0.122       0.164\nhisp           0.0825      0.025      3.335      0.001       0.034       0.131\n==============================================================================\nOmnibus:                     1292.565   Durbin-Watson:                   0.055\nProb(Omnibus):                  0.000   Jarque-Bera (JB):             6082.294\nSkew:                           2.381   Prob(JB):                         0.00\nKurtosis:                       8.648   Cond. No.                         324.\n==============================================================================\n\nWarnings:\n[1] Standard Errors assume that the covariance matrix of the errors is correctly specified.\nO erro padrão da regressão é 0.2286 e a SQR é 139.42715\n\nPara ver os valores previstos ou os resídudos, basta chamar 'Lista_ychapeu' e 'Resíduos'.\nOs resultados do modelo podem ser obtidos através de métodos usando a variável 'Resultado'.\n\n    Valores de condição maiores que 20 indicam problemas de multicolinearidade.\n    Para ver como achar esse número, entre em https://www.statsmodels.org/dev/examples/notebooks/generated/ols.html\n"
     ]
    }
   ],
   "source": [
    "## Fazendo uma regressão de train sobre as demais variáveis exógenas do modelo 2\n",
    "x = train3[['re74','re75','educ','age','black','hisp']]\n",
    "y = train3['train']\n",
    "Regressao_Multipla(x,y)"
   ]
  },
  {
   "cell_type": "code",
   "execution_count": 34,
   "metadata": {},
   "outputs": [
    {
     "output_type": "stream",
     "name": "stdout",
     "text": [
      "\n    O mínimo avgre de TRAIN2 é $0.0, enquanto o de TRAIN3 é $0.0.\n    O máximo avgre de TRAIN2 é $24.37645149230957, enquanto o de TRAIN3 é $146.9010009765625.\n    A média de avgre em TRAIN2 é $1.7397021055221558, enquanto em TRAIN3 é $18.040447235107422.\n    O desv. pad. de avgre em TRAIN2 é $3.900094747543335, enquanto em TRAIN3 é $13.293445587158203.\n    \n"
     ]
    }
   ],
   "source": [
    "# Calculando as estatísticas individuais de avgre nos\n",
    "# dois conjuntos de dados\n",
    "min_2 = train2['avgre'].min()\n",
    "min_3 = train3['avgre'].min()\n",
    "\n",
    "max_2 = train2['avgre'].max()\n",
    "max_3 = train3['avgre'].max()\n",
    "\n",
    "media_2 = train2['avgre'].mean()\n",
    "media_3 = train3['avgre'].mean()\n",
    "\n",
    "std_2 = train2['avgre'].std()\n",
    "std_3 = train3['avgre'].std()\n",
    "\n",
    "print(f\"\"\"\n",
    "    O mínimo avgre de TRAIN2 é ${min_2}, enquanto o de TRAIN3 é ${min_3}.\n",
    "    O máximo avgre de TRAIN2 é ${max_2}, enquanto o de TRAIN3 é ${max_3}.\n",
    "    A média de avgre em TRAIN2 é ${media_2}, enquanto em TRAIN3 é ${media_3}.\n",
    "    O desv. pad. de avgre em TRAIN2 é ${std_2}, enquanto em TRAIN3 é ${std_3}.\n",
    "    \"\"\"\n",
    ")"
   ]
  },
  {
   "cell_type": "code",
   "execution_count": 35,
   "metadata": {},
   "outputs": [
    {
     "output_type": "execute_result",
     "data": {
      "text/plain": [
       "Text(0.5, 1.0, 'Distribuição de avgre em TRAIN3')"
      ]
     },
     "metadata": {},
     "execution_count": 35
    },
    {
     "output_type": "display_data",
     "data": {
      "text/plain": "<Figure size 576x360 with 2 Axes>",
      "image/svg+xml": "<?xml version=\"1.0\" encoding=\"utf-8\" standalone=\"no\"?>\n<!DOCTYPE svg PUBLIC \"-//W3C//DTD SVG 1.1//EN\"\n  \"http://www.w3.org/Graphics/SVG/1.1/DTD/svg11.dtd\">\n<!-- Created with matplotlib (https://matplotlib.org/) -->\n<svg height=\"305.0225pt\" version=\"1.1\" viewBox=\"0 0 494.203125 305.0225\" width=\"494.203125pt\" xmlns=\"http://www.w3.org/2000/svg\" xmlns:xlink=\"http://www.w3.org/1999/xlink\">\n <defs>\n  <style type=\"text/css\">\n*{stroke-linecap:butt;stroke-linejoin:round;}\n  </style>\n </defs>\n <g id=\"figure_1\">\n  <g id=\"patch_1\">\n   <path d=\"M 0 305.0225 \nL 494.203125 305.0225 \nL 494.203125 0 \nL 0 0 \nz\n\" style=\"fill:none;\"/>\n  </g>\n  <g id=\"axes_1\">\n   <g id=\"patch_2\">\n    <path d=\"M 40.603125 294.3225 \nL 243.512216 294.3225 \nL 243.512216 22.5225 \nL 40.603125 22.5225 \nz\n\" style=\"fill:#ffffff;\"/>\n   </g>\n   <g id=\"patch_3\">\n    <path clip-path=\"url(#p51348ef7ed)\" d=\"M 60.894034 281.967955 \nL 223.221307 281.967955 \nL 223.221307 266.845224 \nL 60.894034 266.845224 \nL 60.894034 281.967955 \nz\n\" style=\"fill:#3274a1;stroke:#3f3f3f;stroke-linejoin:miter;stroke-width:1.5;\"/>\n   </g>\n   <g id=\"matplotlib.axis_1\">\n    <g id=\"xtick_1\">\n     <g id=\"line2d_1\">\n      <defs>\n       <path d=\"M 0 0 \nL 0 3.5 \n\" id=\"me7c25089ed\" style=\"stroke:#000000;stroke-width:0.8;\"/>\n      </defs>\n      <g>\n       <use style=\"stroke:#000000;stroke-width:0.8;\" x=\"142.05767\" xlink:href=\"#me7c25089ed\" y=\"294.3225\"/>\n      </g>\n     </g>\n    </g>\n   </g>\n   <g id=\"matplotlib.axis_2\">\n    <g id=\"ytick_1\">\n     <g id=\"line2d_2\">\n      <defs>\n       <path d=\"M 0 0 \nL -3.5 0 \n\" id=\"mcf5016d44e\" style=\"stroke:#000000;stroke-width:0.8;\"/>\n      </defs>\n      <g>\n       <use style=\"stroke:#000000;stroke-width:0.8;\" x=\"40.603125\" xlink:href=\"#mcf5016d44e\" y=\"281.967955\"/>\n      </g>\n     </g>\n     <g id=\"text_1\">\n      <!-- 0 -->\n      <defs>\n       <path d=\"M 31.78125 66.40625 \nQ 24.171875 66.40625 20.328125 58.90625 \nQ 16.5 51.421875 16.5 36.375 \nQ 16.5 21.390625 20.328125 13.890625 \nQ 24.171875 6.390625 31.78125 6.390625 \nQ 39.453125 6.390625 43.28125 13.890625 \nQ 47.125 21.390625 47.125 36.375 \nQ 47.125 51.421875 43.28125 58.90625 \nQ 39.453125 66.40625 31.78125 66.40625 \nz\nM 31.78125 74.21875 \nQ 44.046875 74.21875 50.515625 64.515625 \nQ 56.984375 54.828125 56.984375 36.375 \nQ 56.984375 17.96875 50.515625 8.265625 \nQ 44.046875 -1.421875 31.78125 -1.421875 \nQ 19.53125 -1.421875 13.0625 8.265625 \nQ 6.59375 17.96875 6.59375 36.375 \nQ 6.59375 54.828125 13.0625 64.515625 \nQ 19.53125 74.21875 31.78125 74.21875 \nz\n\" id=\"DejaVuSans-48\"/>\n      </defs>\n      <g transform=\"translate(27.240625 285.767173)scale(0.1 -0.1)\">\n       <use xlink:href=\"#DejaVuSans-48\"/>\n      </g>\n     </g>\n    </g>\n    <g id=\"ytick_2\">\n     <g id=\"line2d_3\">\n      <g>\n       <use style=\"stroke:#000000;stroke-width:0.8;\" x=\"40.603125\" xlink:href=\"#mcf5016d44e\" y=\"231.285658\"/>\n      </g>\n     </g>\n     <g id=\"text_2\">\n      <!-- 5 -->\n      <defs>\n       <path d=\"M 10.796875 72.90625 \nL 49.515625 72.90625 \nL 49.515625 64.59375 \nL 19.828125 64.59375 \nL 19.828125 46.734375 \nQ 21.96875 47.46875 24.109375 47.828125 \nQ 26.265625 48.1875 28.421875 48.1875 \nQ 40.625 48.1875 47.75 41.5 \nQ 54.890625 34.8125 54.890625 23.390625 \nQ 54.890625 11.625 47.5625 5.09375 \nQ 40.234375 -1.421875 26.90625 -1.421875 \nQ 22.3125 -1.421875 17.546875 -0.640625 \nQ 12.796875 0.140625 7.71875 1.703125 \nL 7.71875 11.625 \nQ 12.109375 9.234375 16.796875 8.0625 \nQ 21.484375 6.890625 26.703125 6.890625 \nQ 35.15625 6.890625 40.078125 11.328125 \nQ 45.015625 15.765625 45.015625 23.390625 \nQ 45.015625 31 40.078125 35.4375 \nQ 35.15625 39.890625 26.703125 39.890625 \nQ 22.75 39.890625 18.8125 39.015625 \nQ 14.890625 38.140625 10.796875 36.28125 \nz\n\" id=\"DejaVuSans-53\"/>\n      </defs>\n      <g transform=\"translate(27.240625 235.084877)scale(0.1 -0.1)\">\n       <use xlink:href=\"#DejaVuSans-53\"/>\n      </g>\n     </g>\n    </g>\n    <g id=\"ytick_3\">\n     <g id=\"line2d_4\">\n      <g>\n       <use style=\"stroke:#000000;stroke-width:0.8;\" x=\"40.603125\" xlink:href=\"#mcf5016d44e\" y=\"180.603361\"/>\n      </g>\n     </g>\n     <g id=\"text_3\">\n      <!-- 10 -->\n      <defs>\n       <path d=\"M 12.40625 8.296875 \nL 28.515625 8.296875 \nL 28.515625 63.921875 \nL 10.984375 60.40625 \nL 10.984375 69.390625 \nL 28.421875 72.90625 \nL 38.28125 72.90625 \nL 38.28125 8.296875 \nL 54.390625 8.296875 \nL 54.390625 0 \nL 12.40625 0 \nz\n\" id=\"DejaVuSans-49\"/>\n      </defs>\n      <g transform=\"translate(20.878125 184.40258)scale(0.1 -0.1)\">\n       <use xlink:href=\"#DejaVuSans-49\"/>\n       <use x=\"63.623047\" xlink:href=\"#DejaVuSans-48\"/>\n      </g>\n     </g>\n    </g>\n    <g id=\"ytick_4\">\n     <g id=\"line2d_5\">\n      <g>\n       <use style=\"stroke:#000000;stroke-width:0.8;\" x=\"40.603125\" xlink:href=\"#mcf5016d44e\" y=\"129.921065\"/>\n      </g>\n     </g>\n     <g id=\"text_4\">\n      <!-- 15 -->\n      <g transform=\"translate(20.878125 133.720283)scale(0.1 -0.1)\">\n       <use xlink:href=\"#DejaVuSans-49\"/>\n       <use x=\"63.623047\" xlink:href=\"#DejaVuSans-53\"/>\n      </g>\n     </g>\n    </g>\n    <g id=\"ytick_5\">\n     <g id=\"line2d_6\">\n      <g>\n       <use style=\"stroke:#000000;stroke-width:0.8;\" x=\"40.603125\" xlink:href=\"#mcf5016d44e\" y=\"79.238768\"/>\n      </g>\n     </g>\n     <g id=\"text_5\">\n      <!-- 20 -->\n      <defs>\n       <path d=\"M 19.1875 8.296875 \nL 53.609375 8.296875 \nL 53.609375 0 \nL 7.328125 0 \nL 7.328125 8.296875 \nQ 12.9375 14.109375 22.625 23.890625 \nQ 32.328125 33.6875 34.8125 36.53125 \nQ 39.546875 41.84375 41.421875 45.53125 \nQ 43.3125 49.21875 43.3125 52.78125 \nQ 43.3125 58.59375 39.234375 62.25 \nQ 35.15625 65.921875 28.609375 65.921875 \nQ 23.96875 65.921875 18.8125 64.3125 \nQ 13.671875 62.703125 7.8125 59.421875 \nL 7.8125 69.390625 \nQ 13.765625 71.78125 18.9375 73 \nQ 24.125 74.21875 28.421875 74.21875 \nQ 39.75 74.21875 46.484375 68.546875 \nQ 53.21875 62.890625 53.21875 53.421875 \nQ 53.21875 48.921875 51.53125 44.890625 \nQ 49.859375 40.875 45.40625 35.40625 \nQ 44.1875 33.984375 37.640625 27.21875 \nQ 31.109375 20.453125 19.1875 8.296875 \nz\n\" id=\"DejaVuSans-50\"/>\n      </defs>\n      <g transform=\"translate(20.878125 83.037987)scale(0.1 -0.1)\">\n       <use xlink:href=\"#DejaVuSans-50\"/>\n       <use x=\"63.623047\" xlink:href=\"#DejaVuSans-48\"/>\n      </g>\n     </g>\n    </g>\n    <g id=\"ytick_6\">\n     <g id=\"line2d_7\">\n      <g>\n       <use style=\"stroke:#000000;stroke-width:0.8;\" x=\"40.603125\" xlink:href=\"#mcf5016d44e\" y=\"28.556471\"/>\n      </g>\n     </g>\n     <g id=\"text_6\">\n      <!-- 25 -->\n      <g transform=\"translate(20.878125 32.35569)scale(0.1 -0.1)\">\n       <use xlink:href=\"#DejaVuSans-50\"/>\n       <use x=\"63.623047\" xlink:href=\"#DejaVuSans-53\"/>\n      </g>\n     </g>\n    </g>\n    <g id=\"text_7\">\n     <!-- avgre -->\n     <defs>\n      <path d=\"M 34.28125 27.484375 \nQ 23.390625 27.484375 19.1875 25 \nQ 14.984375 22.515625 14.984375 16.5 \nQ 14.984375 11.71875 18.140625 8.90625 \nQ 21.296875 6.109375 26.703125 6.109375 \nQ 34.1875 6.109375 38.703125 11.40625 \nQ 43.21875 16.703125 43.21875 25.484375 \nL 43.21875 27.484375 \nz\nM 52.203125 31.203125 \nL 52.203125 0 \nL 43.21875 0 \nL 43.21875 8.296875 \nQ 40.140625 3.328125 35.546875 0.953125 \nQ 30.953125 -1.421875 24.3125 -1.421875 \nQ 15.921875 -1.421875 10.953125 3.296875 \nQ 6 8.015625 6 15.921875 \nQ 6 25.140625 12.171875 29.828125 \nQ 18.359375 34.515625 30.609375 34.515625 \nL 43.21875 34.515625 \nL 43.21875 35.40625 \nQ 43.21875 41.609375 39.140625 45 \nQ 35.0625 48.390625 27.6875 48.390625 \nQ 23 48.390625 18.546875 47.265625 \nQ 14.109375 46.140625 10.015625 43.890625 \nL 10.015625 52.203125 \nQ 14.9375 54.109375 19.578125 55.046875 \nQ 24.21875 56 28.609375 56 \nQ 40.484375 56 46.34375 49.84375 \nQ 52.203125 43.703125 52.203125 31.203125 \nz\n\" id=\"DejaVuSans-97\"/>\n      <path d=\"M 2.984375 54.6875 \nL 12.5 54.6875 \nL 29.59375 8.796875 \nL 46.6875 54.6875 \nL 56.203125 54.6875 \nL 35.6875 0 \nL 23.484375 0 \nz\n\" id=\"DejaVuSans-118\"/>\n      <path d=\"M 45.40625 27.984375 \nQ 45.40625 37.75 41.375 43.109375 \nQ 37.359375 48.484375 30.078125 48.484375 \nQ 22.859375 48.484375 18.828125 43.109375 \nQ 14.796875 37.75 14.796875 27.984375 \nQ 14.796875 18.265625 18.828125 12.890625 \nQ 22.859375 7.515625 30.078125 7.515625 \nQ 37.359375 7.515625 41.375 12.890625 \nQ 45.40625 18.265625 45.40625 27.984375 \nz\nM 54.390625 6.78125 \nQ 54.390625 -7.171875 48.1875 -13.984375 \nQ 42 -20.796875 29.203125 -20.796875 \nQ 24.46875 -20.796875 20.265625 -20.09375 \nQ 16.0625 -19.390625 12.109375 -17.921875 \nL 12.109375 -9.1875 \nQ 16.0625 -11.328125 19.921875 -12.34375 \nQ 23.78125 -13.375 27.78125 -13.375 \nQ 36.625 -13.375 41.015625 -8.765625 \nQ 45.40625 -4.15625 45.40625 5.171875 \nL 45.40625 9.625 \nQ 42.625 4.78125 38.28125 2.390625 \nQ 33.9375 0 27.875 0 \nQ 17.828125 0 11.671875 7.65625 \nQ 5.515625 15.328125 5.515625 27.984375 \nQ 5.515625 40.671875 11.671875 48.328125 \nQ 17.828125 56 27.875 56 \nQ 33.9375 56 38.28125 53.609375 \nQ 42.625 51.21875 45.40625 46.390625 \nL 45.40625 54.6875 \nL 54.390625 54.6875 \nz\n\" id=\"DejaVuSans-103\"/>\n      <path d=\"M 41.109375 46.296875 \nQ 39.59375 47.171875 37.8125 47.578125 \nQ 36.03125 48 33.890625 48 \nQ 26.265625 48 22.1875 43.046875 \nQ 18.109375 38.09375 18.109375 28.8125 \nL 18.109375 0 \nL 9.078125 0 \nL 9.078125 54.6875 \nL 18.109375 54.6875 \nL 18.109375 46.1875 \nQ 20.953125 51.171875 25.484375 53.578125 \nQ 30.03125 56 36.53125 56 \nQ 37.453125 56 38.578125 55.875 \nQ 39.703125 55.765625 41.0625 55.515625 \nz\n\" id=\"DejaVuSans-114\"/>\n      <path d=\"M 56.203125 29.59375 \nL 56.203125 25.203125 \nL 14.890625 25.203125 \nQ 15.484375 15.921875 20.484375 11.0625 \nQ 25.484375 6.203125 34.421875 6.203125 \nQ 39.59375 6.203125 44.453125 7.46875 \nQ 49.3125 8.734375 54.109375 11.28125 \nL 54.109375 2.78125 \nQ 49.265625 0.734375 44.1875 -0.34375 \nQ 39.109375 -1.421875 33.890625 -1.421875 \nQ 20.796875 -1.421875 13.15625 6.1875 \nQ 5.515625 13.8125 5.515625 26.8125 \nQ 5.515625 40.234375 12.765625 48.109375 \nQ 20.015625 56 32.328125 56 \nQ 43.359375 56 49.78125 48.890625 \nQ 56.203125 41.796875 56.203125 29.59375 \nz\nM 47.21875 32.234375 \nQ 47.125 39.59375 43.09375 43.984375 \nQ 39.0625 48.390625 32.421875 48.390625 \nQ 24.90625 48.390625 20.390625 44.140625 \nQ 15.875 39.890625 15.1875 32.171875 \nz\n\" id=\"DejaVuSans-101\"/>\n     </defs>\n     <g transform=\"translate(14.798438 172.750625)rotate(-90)scale(0.1 -0.1)\">\n      <use xlink:href=\"#DejaVuSans-97\"/>\n      <use x=\"61.279297\" xlink:href=\"#DejaVuSans-118\"/>\n      <use x=\"120.458984\" xlink:href=\"#DejaVuSans-103\"/>\n      <use x=\"183.935547\" xlink:href=\"#DejaVuSans-114\"/>\n      <use x=\"225.017578\" xlink:href=\"#DejaVuSans-101\"/>\n     </g>\n    </g>\n   </g>\n   <g id=\"line2d_8\">\n    <path clip-path=\"url(#p51348ef7ed)\" d=\"M 142.05767 281.967955 \nL 142.05767 281.967955 \n\" style=\"fill:none;stroke:#3f3f3f;stroke-linecap:square;stroke-width:1.5;\"/>\n   </g>\n   <g id=\"line2d_9\">\n    <path clip-path=\"url(#p51348ef7ed)\" d=\"M 142.05767 266.845224 \nL 142.05767 246.057926 \n\" style=\"fill:none;stroke:#3f3f3f;stroke-linecap:square;stroke-width:1.5;\"/>\n   </g>\n   <g id=\"line2d_10\">\n    <path clip-path=\"url(#p51348ef7ed)\" d=\"M 101.475852 281.967955 \nL 182.639489 281.967955 \n\" style=\"fill:none;stroke:#3f3f3f;stroke-linecap:square;stroke-width:1.5;\"/>\n   </g>\n   <g id=\"line2d_11\">\n    <path clip-path=\"url(#p51348ef7ed)\" d=\"M 101.475852 246.057926 \nL 182.639489 246.057926 \n\" style=\"fill:none;stroke:#3f3f3f;stroke-linecap:square;stroke-width:1.5;\"/>\n   </g>\n   <g id=\"line2d_12\">\n    <defs>\n     <path d=\"M -0 3.535534 \nL 2.12132 0 \nL -0 -3.535534 \nL -2.12132 -0 \nz\n\" id=\"m270ee85ed7\" style=\"stroke:#3f3f3f;stroke-linejoin:miter;\"/>\n    </defs>\n    <g clip-path=\"url(#p51348ef7ed)\">\n     <use style=\"fill:#3f3f3f;stroke:#3f3f3f;stroke-linejoin:miter;\" x=\"142.05767\" xlink:href=\"#m270ee85ed7\" y=\"230.093132\"/>\n     <use style=\"fill:#3f3f3f;stroke:#3f3f3f;stroke-linejoin:miter;\" x=\"142.05767\" xlink:href=\"#m270ee85ed7\" y=\"228.735424\"/>\n     <use style=\"fill:#3f3f3f;stroke:#3f3f3f;stroke-linejoin:miter;\" x=\"142.05767\" xlink:href=\"#m270ee85ed7\" y=\"191.735277\"/>\n     <use style=\"fill:#3f3f3f;stroke:#3f3f3f;stroke-linejoin:miter;\" x=\"142.05767\" xlink:href=\"#m270ee85ed7\" y=\"217.605596\"/>\n     <use style=\"fill:#3f3f3f;stroke:#3f3f3f;stroke-linejoin:miter;\" x=\"142.05767\" xlink:href=\"#m270ee85ed7\" y=\"223.970275\"/>\n     <use style=\"fill:#3f3f3f;stroke:#3f3f3f;stroke-linejoin:miter;\" x=\"142.05767\" xlink:href=\"#m270ee85ed7\" y=\"196.63888\"/>\n     <use style=\"fill:#3f3f3f;stroke:#3f3f3f;stroke-linejoin:miter;\" x=\"142.05767\" xlink:href=\"#m270ee85ed7\" y=\"242.521464\"/>\n     <use style=\"fill:#3f3f3f;stroke:#3f3f3f;stroke-linejoin:miter;\" x=\"142.05767\" xlink:href=\"#m270ee85ed7\" y=\"197.791955\"/>\n     <use style=\"fill:#3f3f3f;stroke:#3f3f3f;stroke-linejoin:miter;\" x=\"142.05767\" xlink:href=\"#m270ee85ed7\" y=\"234.786287\"/>\n     <use style=\"fill:#3f3f3f;stroke:#3f3f3f;stroke-linejoin:miter;\" x=\"142.05767\" xlink:href=\"#m270ee85ed7\" y=\"203.645406\"/>\n     <use style=\"fill:#3f3f3f;stroke:#3f3f3f;stroke-linejoin:miter;\" x=\"142.05767\" xlink:href=\"#m270ee85ed7\" y=\"232.268437\"/>\n     <use style=\"fill:#3f3f3f;stroke:#3f3f3f;stroke-linejoin:miter;\" x=\"142.05767\" xlink:href=\"#m270ee85ed7\" y=\"218.4083\"/>\n     <use style=\"fill:#3f3f3f;stroke:#3f3f3f;stroke-linejoin:miter;\" x=\"142.05767\" xlink:href=\"#m270ee85ed7\" y=\"201.984448\"/>\n     <use style=\"fill:#3f3f3f;stroke:#3f3f3f;stroke-linejoin:miter;\" x=\"142.05767\" xlink:href=\"#m270ee85ed7\" y=\"207.833292\"/>\n     <use style=\"fill:#3f3f3f;stroke:#3f3f3f;stroke-linejoin:miter;\" x=\"142.05767\" xlink:href=\"#m270ee85ed7\" y=\"226.783598\"/>\n     <use style=\"fill:#3f3f3f;stroke:#3f3f3f;stroke-linejoin:miter;\" x=\"142.05767\" xlink:href=\"#m270ee85ed7\" y=\"199.686055\"/>\n     <use style=\"fill:#3f3f3f;stroke:#3f3f3f;stroke-linejoin:miter;\" x=\"142.05767\" xlink:href=\"#m270ee85ed7\" y=\"220.308886\"/>\n     <use style=\"fill:#3f3f3f;stroke:#3f3f3f;stroke-linejoin:miter;\" x=\"142.05767\" xlink:href=\"#m270ee85ed7\" y=\"209.980896\"/>\n     <use style=\"fill:#3f3f3f;stroke:#3f3f3f;stroke-linejoin:miter;\" x=\"142.05767\" xlink:href=\"#m270ee85ed7\" y=\"190.051297\"/>\n     <use style=\"fill:#3f3f3f;stroke:#3f3f3f;stroke-linejoin:miter;\" x=\"142.05767\" xlink:href=\"#m270ee85ed7\" y=\"230.379963\"/>\n     <use style=\"fill:#3f3f3f;stroke:#3f3f3f;stroke-linejoin:miter;\" x=\"142.05767\" xlink:href=\"#m270ee85ed7\" y=\"116.142279\"/>\n     <use style=\"fill:#3f3f3f;stroke:#3f3f3f;stroke-linejoin:miter;\" x=\"142.05767\" xlink:href=\"#m270ee85ed7\" y=\"237.363023\"/>\n     <use style=\"fill:#3f3f3f;stroke:#3f3f3f;stroke-linejoin:miter;\" x=\"142.05767\" xlink:href=\"#m270ee85ed7\" y=\"243.713308\"/>\n     <use style=\"fill:#3f3f3f;stroke:#3f3f3f;stroke-linejoin:miter;\" x=\"142.05767\" xlink:href=\"#m270ee85ed7\" y=\"242.091529\"/>\n     <use style=\"fill:#3f3f3f;stroke:#3f3f3f;stroke-linejoin:miter;\" x=\"142.05767\" xlink:href=\"#m270ee85ed7\" y=\"204.85236\"/>\n     <use style=\"fill:#3f3f3f;stroke:#3f3f3f;stroke-linejoin:miter;\" x=\"142.05767\" xlink:href=\"#m270ee85ed7\" y=\"237.095521\"/>\n     <use style=\"fill:#3f3f3f;stroke:#3f3f3f;stroke-linejoin:miter;\" x=\"142.05767\" xlink:href=\"#m270ee85ed7\" y=\"123.730723\"/>\n     <use style=\"fill:#3f3f3f;stroke:#3f3f3f;stroke-linejoin:miter;\" x=\"142.05767\" xlink:href=\"#m270ee85ed7\" y=\"45.906551\"/>\n     <use style=\"fill:#3f3f3f;stroke:#3f3f3f;stroke-linejoin:miter;\" x=\"142.05767\" xlink:href=\"#m270ee85ed7\" y=\"142.931217\"/>\n     <use style=\"fill:#3f3f3f;stroke:#3f3f3f;stroke-linejoin:miter;\" x=\"142.05767\" xlink:href=\"#m270ee85ed7\" y=\"121.26301\"/>\n     <use style=\"fill:#3f3f3f;stroke:#3f3f3f;stroke-linejoin:miter;\" x=\"142.05767\" xlink:href=\"#m270ee85ed7\" y=\"80.237705\"/>\n     <use style=\"fill:#3f3f3f;stroke:#3f3f3f;stroke-linejoin:miter;\" x=\"142.05767\" xlink:href=\"#m270ee85ed7\" y=\"110.661796\"/>\n     <use style=\"fill:#3f3f3f;stroke:#3f3f3f;stroke-linejoin:miter;\" x=\"142.05767\" xlink:href=\"#m270ee85ed7\" y=\"242.317063\"/>\n     <use style=\"fill:#3f3f3f;stroke:#3f3f3f;stroke-linejoin:miter;\" x=\"142.05767\" xlink:href=\"#m270ee85ed7\" y=\"235.158848\"/>\n     <use style=\"fill:#3f3f3f;stroke:#3f3f3f;stroke-linejoin:miter;\" x=\"142.05767\" xlink:href=\"#m270ee85ed7\" y=\"183.449929\"/>\n     <use style=\"fill:#3f3f3f;stroke:#3f3f3f;stroke-linejoin:miter;\" x=\"142.05767\" xlink:href=\"#m270ee85ed7\" y=\"230.334253\"/>\n     <use style=\"fill:#3f3f3f;stroke:#3f3f3f;stroke-linejoin:miter;\" x=\"142.05767\" xlink:href=\"#m270ee85ed7\" y=\"155.568276\"/>\n     <use style=\"fill:#3f3f3f;stroke:#3f3f3f;stroke-linejoin:miter;\" x=\"142.05767\" xlink:href=\"#m270ee85ed7\" y=\"225.045657\"/>\n     <use style=\"fill:#3f3f3f;stroke:#3f3f3f;stroke-linejoin:miter;\" x=\"142.05767\" xlink:href=\"#m270ee85ed7\" y=\"237.076158\"/>\n     <use style=\"fill:#3f3f3f;stroke:#3f3f3f;stroke-linejoin:miter;\" x=\"142.05767\" xlink:href=\"#m270ee85ed7\" y=\"213.933964\"/>\n     <use style=\"fill:#3f3f3f;stroke:#3f3f3f;stroke-linejoin:miter;\" x=\"142.05767\" xlink:href=\"#m270ee85ed7\" y=\"238.849432\"/>\n     <use style=\"fill:#3f3f3f;stroke:#3f3f3f;stroke-linejoin:miter;\" x=\"142.05767\" xlink:href=\"#m270ee85ed7\" y=\"189.30688\"/>\n     <use style=\"fill:#3f3f3f;stroke:#3f3f3f;stroke-linejoin:miter;\" x=\"142.05767\" xlink:href=\"#m270ee85ed7\" y=\"225.572038\"/>\n     <use style=\"fill:#3f3f3f;stroke:#3f3f3f;stroke-linejoin:miter;\" x=\"142.05767\" xlink:href=\"#m270ee85ed7\" y=\"242.046726\"/>\n     <use style=\"fill:#3f3f3f;stroke:#3f3f3f;stroke-linejoin:miter;\" x=\"142.05767\" xlink:href=\"#m270ee85ed7\" y=\"227.025555\"/>\n     <use style=\"fill:#3f3f3f;stroke:#3f3f3f;stroke-linejoin:miter;\" x=\"142.05767\" xlink:href=\"#m270ee85ed7\" y=\"211.078319\"/>\n     <use style=\"fill:#3f3f3f;stroke:#3f3f3f;stroke-linejoin:miter;\" x=\"142.05767\" xlink:href=\"#m270ee85ed7\" y=\"200.18416\"/>\n     <use style=\"fill:#3f3f3f;stroke:#3f3f3f;stroke-linejoin:miter;\" x=\"142.05767\" xlink:href=\"#m270ee85ed7\" y=\"214.389342\"/>\n     <use style=\"fill:#3f3f3f;stroke:#3f3f3f;stroke-linejoin:miter;\" x=\"142.05767\" xlink:href=\"#m270ee85ed7\" y=\"215.132097\"/>\n     <use style=\"fill:#3f3f3f;stroke:#3f3f3f;stroke-linejoin:miter;\" x=\"142.05767\" xlink:href=\"#m270ee85ed7\" y=\"207.247914\"/>\n     <use style=\"fill:#3f3f3f;stroke:#3f3f3f;stroke-linejoin:miter;\" x=\"142.05767\" xlink:href=\"#m270ee85ed7\" y=\"148.199938\"/>\n     <use style=\"fill:#3f3f3f;stroke:#3f3f3f;stroke-linejoin:miter;\" x=\"142.05767\" xlink:href=\"#m270ee85ed7\" y=\"47.922173\"/>\n     <use style=\"fill:#3f3f3f;stroke:#3f3f3f;stroke-linejoin:miter;\" x=\"142.05767\" xlink:href=\"#m270ee85ed7\" y=\"201.968231\"/>\n     <use style=\"fill:#3f3f3f;stroke:#3f3f3f;stroke-linejoin:miter;\" x=\"142.05767\" xlink:href=\"#m270ee85ed7\" y=\"202.51818\"/>\n     <use style=\"fill:#3f3f3f;stroke:#3f3f3f;stroke-linejoin:miter;\" x=\"142.05767\" xlink:href=\"#m270ee85ed7\" y=\"221.590139\"/>\n     <use style=\"fill:#3f3f3f;stroke:#3f3f3f;stroke-linejoin:miter;\" x=\"142.05767\" xlink:href=\"#m270ee85ed7\" y=\"207.554277\"/>\n     <use style=\"fill:#3f3f3f;stroke:#3f3f3f;stroke-linejoin:miter;\" x=\"142.05767\" xlink:href=\"#m270ee85ed7\" y=\"188.562356\"/>\n     <use style=\"fill:#3f3f3f;stroke:#3f3f3f;stroke-linejoin:miter;\" x=\"142.05767\" xlink:href=\"#m270ee85ed7\" y=\"183.477808\"/>\n     <use style=\"fill:#3f3f3f;stroke:#3f3f3f;stroke-linejoin:miter;\" x=\"142.05767\" xlink:href=\"#m270ee85ed7\" y=\"234.772898\"/>\n     <use style=\"fill:#3f3f3f;stroke:#3f3f3f;stroke-linejoin:miter;\" x=\"142.05767\" xlink:href=\"#m270ee85ed7\" y=\"166.21243\"/>\n     <use style=\"fill:#3f3f3f;stroke:#3f3f3f;stroke-linejoin:miter;\" x=\"142.05767\" xlink:href=\"#m270ee85ed7\" y=\"226.935648\"/>\n     <use style=\"fill:#3f3f3f;stroke:#3f3f3f;stroke-linejoin:miter;\" x=\"142.05767\" xlink:href=\"#m270ee85ed7\" y=\"87.028128\"/>\n     <use style=\"fill:#3f3f3f;stroke:#3f3f3f;stroke-linejoin:miter;\" x=\"142.05767\" xlink:href=\"#m270ee85ed7\" y=\"164.800621\"/>\n     <use style=\"fill:#3f3f3f;stroke:#3f3f3f;stroke-linejoin:miter;\" x=\"142.05767\" xlink:href=\"#m270ee85ed7\" y=\"57.731215\"/>\n     <use style=\"fill:#3f3f3f;stroke:#3f3f3f;stroke-linejoin:miter;\" x=\"142.05767\" xlink:href=\"#m270ee85ed7\" y=\"125.548203\"/>\n     <use style=\"fill:#3f3f3f;stroke:#3f3f3f;stroke-linejoin:miter;\" x=\"142.05767\" xlink:href=\"#m270ee85ed7\" y=\"150.52084\"/>\n     <use style=\"fill:#3f3f3f;stroke:#3f3f3f;stroke-linejoin:miter;\" x=\"142.05767\" xlink:href=\"#m270ee85ed7\" y=\"70.733266\"/>\n     <use style=\"fill:#3f3f3f;stroke:#3f3f3f;stroke-linejoin:miter;\" x=\"142.05767\" xlink:href=\"#m270ee85ed7\" y=\"34.877045\"/>\n    </g>\n   </g>\n   <g id=\"line2d_13\">\n    <path clip-path=\"url(#p51348ef7ed)\" d=\"M 60.894034 281.967955 \nL 223.221307 281.967955 \n\" style=\"fill:none;stroke:#3f3f3f;stroke-linecap:square;stroke-width:1.5;\"/>\n   </g>\n   <g id=\"patch_4\">\n    <path d=\"M 40.603125 294.3225 \nL 40.603125 22.5225 \n\" style=\"fill:none;stroke:#000000;stroke-linecap:square;stroke-linejoin:miter;stroke-width:0.8;\"/>\n   </g>\n   <g id=\"patch_5\">\n    <path d=\"M 243.512216 294.3225 \nL 243.512216 22.5225 \n\" style=\"fill:none;stroke:#000000;stroke-linecap:square;stroke-linejoin:miter;stroke-width:0.8;\"/>\n   </g>\n   <g id=\"patch_6\">\n    <path d=\"M 40.603125 294.3225 \nL 243.512216 294.3225 \n\" style=\"fill:none;stroke:#000000;stroke-linecap:square;stroke-linejoin:miter;stroke-width:0.8;\"/>\n   </g>\n   <g id=\"patch_7\">\n    <path d=\"M 40.603125 22.5225 \nL 243.512216 22.5225 \n\" style=\"fill:none;stroke:#000000;stroke-linecap:square;stroke-linejoin:miter;stroke-width:0.8;\"/>\n   </g>\n   <g id=\"text_8\">\n    <!-- Distribuição de avgre em TRAIN2 -->\n    <defs>\n     <path d=\"M 19.671875 64.796875 \nL 19.671875 8.109375 \nL 31.59375 8.109375 \nQ 46.6875 8.109375 53.6875 14.9375 \nQ 60.6875 21.78125 60.6875 36.53125 \nQ 60.6875 51.171875 53.6875 57.984375 \nQ 46.6875 64.796875 31.59375 64.796875 \nz\nM 9.8125 72.90625 \nL 30.078125 72.90625 \nQ 51.265625 72.90625 61.171875 64.09375 \nQ 71.09375 55.28125 71.09375 36.53125 \nQ 71.09375 17.671875 61.125 8.828125 \nQ 51.171875 0 30.078125 0 \nL 9.8125 0 \nz\n\" id=\"DejaVuSans-68\"/>\n     <path d=\"M 9.421875 54.6875 \nL 18.40625 54.6875 \nL 18.40625 0 \nL 9.421875 0 \nz\nM 9.421875 75.984375 \nL 18.40625 75.984375 \nL 18.40625 64.59375 \nL 9.421875 64.59375 \nz\n\" id=\"DejaVuSans-105\"/>\n     <path d=\"M 44.28125 53.078125 \nL 44.28125 44.578125 \nQ 40.484375 46.53125 36.375 47.5 \nQ 32.28125 48.484375 27.875 48.484375 \nQ 21.1875 48.484375 17.84375 46.4375 \nQ 14.5 44.390625 14.5 40.28125 \nQ 14.5 37.15625 16.890625 35.375 \nQ 19.28125 33.59375 26.515625 31.984375 \nL 29.59375 31.296875 \nQ 39.15625 29.25 43.1875 25.515625 \nQ 47.21875 21.78125 47.21875 15.09375 \nQ 47.21875 7.46875 41.1875 3.015625 \nQ 35.15625 -1.421875 24.609375 -1.421875 \nQ 20.21875 -1.421875 15.453125 -0.5625 \nQ 10.6875 0.296875 5.421875 2 \nL 5.421875 11.28125 \nQ 10.40625 8.6875 15.234375 7.390625 \nQ 20.0625 6.109375 24.8125 6.109375 \nQ 31.15625 6.109375 34.5625 8.28125 \nQ 37.984375 10.453125 37.984375 14.40625 \nQ 37.984375 18.0625 35.515625 20.015625 \nQ 33.0625 21.96875 24.703125 23.78125 \nL 21.578125 24.515625 \nQ 13.234375 26.265625 9.515625 29.90625 \nQ 5.8125 33.546875 5.8125 39.890625 \nQ 5.8125 47.609375 11.28125 51.796875 \nQ 16.75 56 26.8125 56 \nQ 31.78125 56 36.171875 55.265625 \nQ 40.578125 54.546875 44.28125 53.078125 \nz\n\" id=\"DejaVuSans-115\"/>\n     <path d=\"M 18.3125 70.21875 \nL 18.3125 54.6875 \nL 36.8125 54.6875 \nL 36.8125 47.703125 \nL 18.3125 47.703125 \nL 18.3125 18.015625 \nQ 18.3125 11.328125 20.140625 9.421875 \nQ 21.96875 7.515625 27.59375 7.515625 \nL 36.8125 7.515625 \nL 36.8125 0 \nL 27.59375 0 \nQ 17.1875 0 13.234375 3.875 \nQ 9.28125 7.765625 9.28125 18.015625 \nL 9.28125 47.703125 \nL 2.6875 47.703125 \nL 2.6875 54.6875 \nL 9.28125 54.6875 \nL 9.28125 70.21875 \nz\n\" id=\"DejaVuSans-116\"/>\n     <path d=\"M 48.6875 27.296875 \nQ 48.6875 37.203125 44.609375 42.84375 \nQ 40.53125 48.484375 33.40625 48.484375 \nQ 26.265625 48.484375 22.1875 42.84375 \nQ 18.109375 37.203125 18.109375 27.296875 \nQ 18.109375 17.390625 22.1875 11.75 \nQ 26.265625 6.109375 33.40625 6.109375 \nQ 40.53125 6.109375 44.609375 11.75 \nQ 48.6875 17.390625 48.6875 27.296875 \nz\nM 18.109375 46.390625 \nQ 20.953125 51.265625 25.265625 53.625 \nQ 29.59375 56 35.59375 56 \nQ 45.5625 56 51.78125 48.09375 \nQ 58.015625 40.1875 58.015625 27.296875 \nQ 58.015625 14.40625 51.78125 6.484375 \nQ 45.5625 -1.421875 35.59375 -1.421875 \nQ 29.59375 -1.421875 25.265625 0.953125 \nQ 20.953125 3.328125 18.109375 8.203125 \nL 18.109375 0 \nL 9.078125 0 \nL 9.078125 75.984375 \nL 18.109375 75.984375 \nz\n\" id=\"DejaVuSans-98\"/>\n     <path d=\"M 8.5 21.578125 \nL 8.5 54.6875 \nL 17.484375 54.6875 \nL 17.484375 21.921875 \nQ 17.484375 14.15625 20.5 10.265625 \nQ 23.53125 6.390625 29.59375 6.390625 \nQ 36.859375 6.390625 41.078125 11.03125 \nQ 45.3125 15.671875 45.3125 23.6875 \nL 45.3125 54.6875 \nL 54.296875 54.6875 \nL 54.296875 0 \nL 45.3125 0 \nL 45.3125 8.40625 \nQ 42.046875 3.421875 37.71875 1 \nQ 33.40625 -1.421875 27.6875 -1.421875 \nQ 18.265625 -1.421875 13.375 4.4375 \nQ 8.5 10.296875 8.5 21.578125 \nz\nM 31.109375 56 \nz\n\" id=\"DejaVuSans-117\"/>\n     <path d=\"M 48.78125 52.59375 \nL 48.78125 44.1875 \nQ 44.96875 46.296875 41.140625 47.34375 \nQ 37.3125 48.390625 33.40625 48.390625 \nQ 24.65625 48.390625 19.8125 42.84375 \nQ 14.984375 37.3125 14.984375 27.296875 \nQ 14.984375 17.28125 19.8125 11.734375 \nQ 24.65625 6.203125 33.40625 6.203125 \nQ 37.3125 6.203125 41.140625 7.25 \nQ 44.96875 8.296875 48.78125 10.40625 \nL 48.78125 2.09375 \nQ 45.015625 0.34375 40.984375 -0.53125 \nQ 36.96875 -1.421875 32.421875 -1.421875 \nQ 20.0625 -1.421875 12.78125 6.34375 \nQ 5.515625 14.109375 5.515625 27.296875 \nQ 5.515625 40.671875 12.859375 48.328125 \nQ 20.21875 56 33.015625 56 \nQ 37.15625 56 41.109375 55.140625 \nQ 45.0625 54.296875 48.78125 52.59375 \nz\nM 36.078125 0 \nQ 38.765625 -3.03125 40.078125 -5.59375 \nQ 41.40625 -8.15625 41.40625 -10.5 \nQ 41.40625 -14.84375 38.46875 -17.0625 \nQ 35.546875 -19.28125 29.78125 -19.28125 \nQ 27.546875 -19.28125 25.421875 -18.984375 \nQ 23.296875 -18.703125 21.1875 -18.109375 \nL 21.1875 -11.71875 \nQ 22.859375 -12.546875 24.65625 -12.90625 \nQ 26.46875 -13.28125 28.765625 -13.28125 \nQ 31.640625 -13.28125 33.109375 -12.109375 \nQ 34.578125 -10.9375 34.578125 -8.6875 \nQ 34.578125 -7.234375 33.515625 -5.109375 \nQ 32.46875 -2.984375 30.28125 0 \nz\n\" id=\"DejaVuSans-231\"/>\n     <path d=\"M 34.28125 27.484375 \nQ 23.390625 27.484375 19.1875 25 \nQ 14.984375 22.515625 14.984375 16.5 \nQ 14.984375 11.71875 18.140625 8.90625 \nQ 21.296875 6.109375 26.703125 6.109375 \nQ 34.1875 6.109375 38.703125 11.40625 \nQ 43.21875 16.703125 43.21875 25.484375 \nL 43.21875 27.484375 \nz\nM 52.203125 31.203125 \nL 52.203125 0 \nL 43.21875 0 \nL 43.21875 8.296875 \nQ 40.140625 3.328125 35.546875 0.953125 \nQ 30.953125 -1.421875 24.3125 -1.421875 \nQ 15.921875 -1.421875 10.953125 3.296875 \nQ 6 8.015625 6 15.921875 \nQ 6 25.140625 12.171875 29.828125 \nQ 18.359375 34.515625 30.609375 34.515625 \nL 43.21875 34.515625 \nL 43.21875 35.40625 \nQ 43.21875 41.609375 39.140625 45 \nQ 35.0625 48.390625 27.6875 48.390625 \nQ 23 48.390625 18.546875 47.265625 \nQ 14.109375 46.140625 10.015625 43.890625 \nL 10.015625 52.203125 \nQ 14.9375 54.109375 19.578125 55.046875 \nQ 24.21875 56 28.609375 56 \nQ 40.484375 56 46.34375 49.84375 \nQ 52.203125 43.703125 52.203125 31.203125 \nz\nM 28.8125 66.890625 \nL 26.03125 69.578125 \nQ 24.953125 70.5625 24.140625 71.015625 \nQ 23.34375 71.484375 22.703125 71.484375 \nQ 20.84375 71.484375 19.96875 69.703125 \nQ 19.09375 67.921875 19 63.921875 \nL 12.890625 63.921875 \nQ 12.984375 70.515625 15.46875 74.09375 \nQ 17.96875 77.6875 22.40625 77.6875 \nQ 24.265625 77.6875 25.828125 77 \nQ 27.390625 76.3125 29.203125 74.703125 \nL 31.984375 72.015625 \nQ 33.0625 71.046875 33.859375 70.578125 \nQ 34.671875 70.125 35.296875 70.125 \nQ 37.15625 70.125 38.03125 71.90625 \nQ 38.921875 73.6875 39.015625 77.6875 \nL 45.125 77.6875 \nQ 45.015625 71.09375 42.53125 67.5 \nQ 40.046875 63.921875 35.59375 63.921875 \nQ 33.734375 63.921875 32.171875 64.59375 \nQ 30.609375 65.28125 28.8125 66.890625 \nz\n\" id=\"DejaVuSans-227\"/>\n     <path d=\"M 30.609375 48.390625 \nQ 23.390625 48.390625 19.1875 42.75 \nQ 14.984375 37.109375 14.984375 27.296875 \nQ 14.984375 17.484375 19.15625 11.84375 \nQ 23.34375 6.203125 30.609375 6.203125 \nQ 37.796875 6.203125 41.984375 11.859375 \nQ 46.1875 17.53125 46.1875 27.296875 \nQ 46.1875 37.015625 41.984375 42.703125 \nQ 37.796875 48.390625 30.609375 48.390625 \nz\nM 30.609375 56 \nQ 42.328125 56 49.015625 48.375 \nQ 55.71875 40.765625 55.71875 27.296875 \nQ 55.71875 13.875 49.015625 6.21875 \nQ 42.328125 -1.421875 30.609375 -1.421875 \nQ 18.84375 -1.421875 12.171875 6.21875 \nQ 5.515625 13.875 5.515625 27.296875 \nQ 5.515625 40.765625 12.171875 48.375 \nQ 18.84375 56 30.609375 56 \nz\n\" id=\"DejaVuSans-111\"/>\n     <path id=\"DejaVuSans-32\"/>\n     <path d=\"M 45.40625 46.390625 \nL 45.40625 75.984375 \nL 54.390625 75.984375 \nL 54.390625 0 \nL 45.40625 0 \nL 45.40625 8.203125 \nQ 42.578125 3.328125 38.25 0.953125 \nQ 33.9375 -1.421875 27.875 -1.421875 \nQ 17.96875 -1.421875 11.734375 6.484375 \nQ 5.515625 14.40625 5.515625 27.296875 \nQ 5.515625 40.1875 11.734375 48.09375 \nQ 17.96875 56 27.875 56 \nQ 33.9375 56 38.25 53.625 \nQ 42.578125 51.265625 45.40625 46.390625 \nz\nM 14.796875 27.296875 \nQ 14.796875 17.390625 18.875 11.75 \nQ 22.953125 6.109375 30.078125 6.109375 \nQ 37.203125 6.109375 41.296875 11.75 \nQ 45.40625 17.390625 45.40625 27.296875 \nQ 45.40625 37.203125 41.296875 42.84375 \nQ 37.203125 48.484375 30.078125 48.484375 \nQ 22.953125 48.484375 18.875 42.84375 \nQ 14.796875 37.203125 14.796875 27.296875 \nz\n\" id=\"DejaVuSans-100\"/>\n     <path d=\"M 52 44.1875 \nQ 55.375 50.25 60.0625 53.125 \nQ 64.75 56 71.09375 56 \nQ 79.640625 56 84.28125 50.015625 \nQ 88.921875 44.046875 88.921875 33.015625 \nL 88.921875 0 \nL 79.890625 0 \nL 79.890625 32.71875 \nQ 79.890625 40.578125 77.09375 44.375 \nQ 74.3125 48.1875 68.609375 48.1875 \nQ 61.625 48.1875 57.5625 43.546875 \nQ 53.515625 38.921875 53.515625 30.90625 \nL 53.515625 0 \nL 44.484375 0 \nL 44.484375 32.71875 \nQ 44.484375 40.625 41.703125 44.40625 \nQ 38.921875 48.1875 33.109375 48.1875 \nQ 26.21875 48.1875 22.15625 43.53125 \nQ 18.109375 38.875 18.109375 30.90625 \nL 18.109375 0 \nL 9.078125 0 \nL 9.078125 54.6875 \nL 18.109375 54.6875 \nL 18.109375 46.1875 \nQ 21.1875 51.21875 25.484375 53.609375 \nQ 29.78125 56 35.6875 56 \nQ 41.65625 56 45.828125 52.96875 \nQ 50 49.953125 52 44.1875 \nz\n\" id=\"DejaVuSans-109\"/>\n     <path d=\"M -0.296875 72.90625 \nL 61.375 72.90625 \nL 61.375 64.59375 \nL 35.5 64.59375 \nL 35.5 0 \nL 25.59375 0 \nL 25.59375 64.59375 \nL -0.296875 64.59375 \nz\n\" id=\"DejaVuSans-84\"/>\n     <path d=\"M 44.390625 34.1875 \nQ 47.5625 33.109375 50.5625 29.59375 \nQ 53.5625 26.078125 56.59375 19.921875 \nL 66.609375 0 \nL 56 0 \nL 46.6875 18.703125 \nQ 43.0625 26.03125 39.671875 28.421875 \nQ 36.28125 30.8125 30.421875 30.8125 \nL 19.671875 30.8125 \nL 19.671875 0 \nL 9.8125 0 \nL 9.8125 72.90625 \nL 32.078125 72.90625 \nQ 44.578125 72.90625 50.734375 67.671875 \nQ 56.890625 62.453125 56.890625 51.90625 \nQ 56.890625 45.015625 53.6875 40.46875 \nQ 50.484375 35.9375 44.390625 34.1875 \nz\nM 19.671875 64.796875 \nL 19.671875 38.921875 \nL 32.078125 38.921875 \nQ 39.203125 38.921875 42.84375 42.21875 \nQ 46.484375 45.515625 46.484375 51.90625 \nQ 46.484375 58.296875 42.84375 61.546875 \nQ 39.203125 64.796875 32.078125 64.796875 \nz\n\" id=\"DejaVuSans-82\"/>\n     <path d=\"M 34.1875 63.1875 \nL 20.796875 26.90625 \nL 47.609375 26.90625 \nz\nM 28.609375 72.90625 \nL 39.796875 72.90625 \nL 67.578125 0 \nL 57.328125 0 \nL 50.6875 18.703125 \nL 17.828125 18.703125 \nL 11.1875 0 \nL 0.78125 0 \nz\n\" id=\"DejaVuSans-65\"/>\n     <path d=\"M 9.8125 72.90625 \nL 19.671875 72.90625 \nL 19.671875 0 \nL 9.8125 0 \nz\n\" id=\"DejaVuSans-73\"/>\n     <path d=\"M 9.8125 72.90625 \nL 23.09375 72.90625 \nL 55.421875 11.921875 \nL 55.421875 72.90625 \nL 64.984375 72.90625 \nL 64.984375 0 \nL 51.703125 0 \nL 19.390625 60.984375 \nL 19.390625 0 \nL 9.8125 0 \nz\n\" id=\"DejaVuSans-78\"/>\n    </defs>\n    <g transform=\"translate(42.364858 16.5225)scale(0.12 -0.12)\">\n     <use xlink:href=\"#DejaVuSans-68\"/>\n     <use x=\"77.001953\" xlink:href=\"#DejaVuSans-105\"/>\n     <use x=\"104.785156\" xlink:href=\"#DejaVuSans-115\"/>\n     <use x=\"156.884766\" xlink:href=\"#DejaVuSans-116\"/>\n     <use x=\"196.09375\" xlink:href=\"#DejaVuSans-114\"/>\n     <use x=\"237.207031\" xlink:href=\"#DejaVuSans-105\"/>\n     <use x=\"264.990234\" xlink:href=\"#DejaVuSans-98\"/>\n     <use x=\"328.466797\" xlink:href=\"#DejaVuSans-117\"/>\n     <use x=\"391.845703\" xlink:href=\"#DejaVuSans-105\"/>\n     <use x=\"419.628906\" xlink:href=\"#DejaVuSans-231\"/>\n     <use x=\"474.609375\" xlink:href=\"#DejaVuSans-227\"/>\n     <use x=\"535.888672\" xlink:href=\"#DejaVuSans-111\"/>\n     <use x=\"597.070312\" xlink:href=\"#DejaVuSans-32\"/>\n     <use x=\"628.857422\" xlink:href=\"#DejaVuSans-100\"/>\n     <use x=\"692.333984\" xlink:href=\"#DejaVuSans-101\"/>\n     <use x=\"753.857422\" xlink:href=\"#DejaVuSans-32\"/>\n     <use x=\"785.644531\" xlink:href=\"#DejaVuSans-97\"/>\n     <use x=\"846.923828\" xlink:href=\"#DejaVuSans-118\"/>\n     <use x=\"906.103516\" xlink:href=\"#DejaVuSans-103\"/>\n     <use x=\"969.580078\" xlink:href=\"#DejaVuSans-114\"/>\n     <use x=\"1010.662109\" xlink:href=\"#DejaVuSans-101\"/>\n     <use x=\"1072.185547\" xlink:href=\"#DejaVuSans-32\"/>\n     <use x=\"1103.972656\" xlink:href=\"#DejaVuSans-101\"/>\n     <use x=\"1165.496094\" xlink:href=\"#DejaVuSans-109\"/>\n     <use x=\"1262.908203\" xlink:href=\"#DejaVuSans-32\"/>\n     <use x=\"1294.695312\" xlink:href=\"#DejaVuSans-84\"/>\n     <use x=\"1355.779297\" xlink:href=\"#DejaVuSans-82\"/>\n     <use x=\"1425.199219\" xlink:href=\"#DejaVuSans-65\"/>\n     <use x=\"1493.607422\" xlink:href=\"#DejaVuSans-73\"/>\n     <use x=\"1523.099609\" xlink:href=\"#DejaVuSans-78\"/>\n     <use x=\"1597.904297\" xlink:href=\"#DejaVuSans-50\"/>\n    </g>\n   </g>\n  </g>\n  <g id=\"axes_2\">\n   <g id=\"patch_8\">\n    <path d=\"M 284.094034 294.3225 \nL 487.003125 294.3225 \nL 487.003125 22.5225 \nL 284.094034 22.5225 \nz\n\" style=\"fill:#ffffff;\"/>\n   </g>\n   <g id=\"patch_9\">\n    <path clip-path=\"url(#pd73cccc6b8)\" d=\"M 304.384943 267.116849 \nL 466.712216 267.116849 \nL 466.712216 239.484838 \nL 304.384943 239.484838 \nL 304.384943 267.116849 \nz\n\" style=\"fill:#3274a1;stroke:#3f3f3f;stroke-linejoin:miter;stroke-width:1.5;\"/>\n   </g>\n   <g id=\"matplotlib.axis_3\">\n    <g id=\"xtick_2\">\n     <g id=\"line2d_14\">\n      <g>\n       <use style=\"stroke:#000000;stroke-width:0.8;\" x=\"385.54858\" xlink:href=\"#me7c25089ed\" y=\"294.3225\"/>\n      </g>\n     </g>\n    </g>\n   </g>\n   <g id=\"matplotlib.axis_4\">\n    <g id=\"ytick_7\">\n     <g id=\"line2d_15\">\n      <g>\n       <use style=\"stroke:#000000;stroke-width:0.8;\" x=\"284.094034\" xlink:href=\"#mcf5016d44e\" y=\"281.967955\"/>\n      </g>\n     </g>\n     <g id=\"text_9\">\n      <!-- 0 -->\n      <g transform=\"translate(270.731534 285.767173)scale(0.1 -0.1)\">\n       <use xlink:href=\"#DejaVuSans-48\"/>\n      </g>\n     </g>\n    </g>\n    <g id=\"ytick_8\">\n     <g id=\"line2d_16\">\n      <g>\n       <use style=\"stroke:#000000;stroke-width:0.8;\" x=\"284.094034\" xlink:href=\"#mcf5016d44e\" y=\"248.327488\"/>\n      </g>\n     </g>\n     <g id=\"text_10\">\n      <!-- 20 -->\n      <g transform=\"translate(264.369034 252.126707)scale(0.1 -0.1)\">\n       <use xlink:href=\"#DejaVuSans-50\"/>\n       <use x=\"63.623047\" xlink:href=\"#DejaVuSans-48\"/>\n      </g>\n     </g>\n    </g>\n    <g id=\"ytick_9\">\n     <g id=\"line2d_17\">\n      <g>\n       <use style=\"stroke:#000000;stroke-width:0.8;\" x=\"284.094034\" xlink:href=\"#mcf5016d44e\" y=\"214.687022\"/>\n      </g>\n     </g>\n     <g id=\"text_11\">\n      <!-- 40 -->\n      <defs>\n       <path d=\"M 37.796875 64.3125 \nL 12.890625 25.390625 \nL 37.796875 25.390625 \nz\nM 35.203125 72.90625 \nL 47.609375 72.90625 \nL 47.609375 25.390625 \nL 58.015625 25.390625 \nL 58.015625 17.1875 \nL 47.609375 17.1875 \nL 47.609375 0 \nL 37.796875 0 \nL 37.796875 17.1875 \nL 4.890625 17.1875 \nL 4.890625 26.703125 \nz\n\" id=\"DejaVuSans-52\"/>\n      </defs>\n      <g transform=\"translate(264.369034 218.486241)scale(0.1 -0.1)\">\n       <use xlink:href=\"#DejaVuSans-52\"/>\n       <use x=\"63.623047\" xlink:href=\"#DejaVuSans-48\"/>\n      </g>\n     </g>\n    </g>\n    <g id=\"ytick_10\">\n     <g id=\"line2d_18\">\n      <g>\n       <use style=\"stroke:#000000;stroke-width:0.8;\" x=\"284.094034\" xlink:href=\"#mcf5016d44e\" y=\"181.046555\"/>\n      </g>\n     </g>\n     <g id=\"text_12\">\n      <!-- 60 -->\n      <defs>\n       <path d=\"M 33.015625 40.375 \nQ 26.375 40.375 22.484375 35.828125 \nQ 18.609375 31.296875 18.609375 23.390625 \nQ 18.609375 15.53125 22.484375 10.953125 \nQ 26.375 6.390625 33.015625 6.390625 \nQ 39.65625 6.390625 43.53125 10.953125 \nQ 47.40625 15.53125 47.40625 23.390625 \nQ 47.40625 31.296875 43.53125 35.828125 \nQ 39.65625 40.375 33.015625 40.375 \nz\nM 52.59375 71.296875 \nL 52.59375 62.3125 \nQ 48.875 64.0625 45.09375 64.984375 \nQ 41.3125 65.921875 37.59375 65.921875 \nQ 27.828125 65.921875 22.671875 59.328125 \nQ 17.53125 52.734375 16.796875 39.40625 \nQ 19.671875 43.65625 24.015625 45.921875 \nQ 28.375 48.1875 33.59375 48.1875 \nQ 44.578125 48.1875 50.953125 41.515625 \nQ 57.328125 34.859375 57.328125 23.390625 \nQ 57.328125 12.15625 50.6875 5.359375 \nQ 44.046875 -1.421875 33.015625 -1.421875 \nQ 20.359375 -1.421875 13.671875 8.265625 \nQ 6.984375 17.96875 6.984375 36.375 \nQ 6.984375 53.65625 15.1875 63.9375 \nQ 23.390625 74.21875 37.203125 74.21875 \nQ 40.921875 74.21875 44.703125 73.484375 \nQ 48.484375 72.75 52.59375 71.296875 \nz\n\" id=\"DejaVuSans-54\"/>\n      </defs>\n      <g transform=\"translate(264.369034 184.845774)scale(0.1 -0.1)\">\n       <use xlink:href=\"#DejaVuSans-54\"/>\n       <use x=\"63.623047\" xlink:href=\"#DejaVuSans-48\"/>\n      </g>\n     </g>\n    </g>\n    <g id=\"ytick_11\">\n     <g id=\"line2d_19\">\n      <g>\n       <use style=\"stroke:#000000;stroke-width:0.8;\" x=\"284.094034\" xlink:href=\"#mcf5016d44e\" y=\"147.406089\"/>\n      </g>\n     </g>\n     <g id=\"text_13\">\n      <!-- 80 -->\n      <defs>\n       <path d=\"M 31.78125 34.625 \nQ 24.75 34.625 20.71875 30.859375 \nQ 16.703125 27.09375 16.703125 20.515625 \nQ 16.703125 13.921875 20.71875 10.15625 \nQ 24.75 6.390625 31.78125 6.390625 \nQ 38.8125 6.390625 42.859375 10.171875 \nQ 46.921875 13.96875 46.921875 20.515625 \nQ 46.921875 27.09375 42.890625 30.859375 \nQ 38.875 34.625 31.78125 34.625 \nz\nM 21.921875 38.8125 \nQ 15.578125 40.375 12.03125 44.71875 \nQ 8.5 49.078125 8.5 55.328125 \nQ 8.5 64.0625 14.71875 69.140625 \nQ 20.953125 74.21875 31.78125 74.21875 \nQ 42.671875 74.21875 48.875 69.140625 \nQ 55.078125 64.0625 55.078125 55.328125 \nQ 55.078125 49.078125 51.53125 44.71875 \nQ 48 40.375 41.703125 38.8125 \nQ 48.828125 37.15625 52.796875 32.3125 \nQ 56.78125 27.484375 56.78125 20.515625 \nQ 56.78125 9.90625 50.3125 4.234375 \nQ 43.84375 -1.421875 31.78125 -1.421875 \nQ 19.734375 -1.421875 13.25 4.234375 \nQ 6.78125 9.90625 6.78125 20.515625 \nQ 6.78125 27.484375 10.78125 32.3125 \nQ 14.796875 37.15625 21.921875 38.8125 \nz\nM 18.3125 54.390625 \nQ 18.3125 48.734375 21.84375 45.5625 \nQ 25.390625 42.390625 31.78125 42.390625 \nQ 38.140625 42.390625 41.71875 45.5625 \nQ 45.3125 48.734375 45.3125 54.390625 \nQ 45.3125 60.0625 41.71875 63.234375 \nQ 38.140625 66.40625 31.78125 66.40625 \nQ 25.390625 66.40625 21.84375 63.234375 \nQ 18.3125 60.0625 18.3125 54.390625 \nz\n\" id=\"DejaVuSans-56\"/>\n      </defs>\n      <g transform=\"translate(264.369034 151.205308)scale(0.1 -0.1)\">\n       <use xlink:href=\"#DejaVuSans-56\"/>\n       <use x=\"63.623047\" xlink:href=\"#DejaVuSans-48\"/>\n      </g>\n     </g>\n    </g>\n    <g id=\"ytick_12\">\n     <g id=\"line2d_20\">\n      <g>\n       <use style=\"stroke:#000000;stroke-width:0.8;\" x=\"284.094034\" xlink:href=\"#mcf5016d44e\" y=\"113.765623\"/>\n      </g>\n     </g>\n     <g id=\"text_14\">\n      <!-- 100 -->\n      <g transform=\"translate(258.006534 117.564841)scale(0.1 -0.1)\">\n       <use xlink:href=\"#DejaVuSans-49\"/>\n       <use x=\"63.623047\" xlink:href=\"#DejaVuSans-48\"/>\n       <use x=\"127.246094\" xlink:href=\"#DejaVuSans-48\"/>\n      </g>\n     </g>\n    </g>\n    <g id=\"ytick_13\">\n     <g id=\"line2d_21\">\n      <g>\n       <use style=\"stroke:#000000;stroke-width:0.8;\" x=\"284.094034\" xlink:href=\"#mcf5016d44e\" y=\"80.125156\"/>\n      </g>\n     </g>\n     <g id=\"text_15\">\n      <!-- 120 -->\n      <g transform=\"translate(258.006534 83.924375)scale(0.1 -0.1)\">\n       <use xlink:href=\"#DejaVuSans-49\"/>\n       <use x=\"63.623047\" xlink:href=\"#DejaVuSans-50\"/>\n       <use x=\"127.246094\" xlink:href=\"#DejaVuSans-48\"/>\n      </g>\n     </g>\n    </g>\n    <g id=\"ytick_14\">\n     <g id=\"line2d_22\">\n      <g>\n       <use style=\"stroke:#000000;stroke-width:0.8;\" x=\"284.094034\" xlink:href=\"#mcf5016d44e\" y=\"46.48469\"/>\n      </g>\n     </g>\n     <g id=\"text_16\">\n      <!-- 140 -->\n      <g transform=\"translate(258.006534 50.283909)scale(0.1 -0.1)\">\n       <use xlink:href=\"#DejaVuSans-49\"/>\n       <use x=\"63.623047\" xlink:href=\"#DejaVuSans-52\"/>\n       <use x=\"127.246094\" xlink:href=\"#DejaVuSans-48\"/>\n      </g>\n     </g>\n    </g>\n    <g id=\"text_17\">\n     <!-- avgre -->\n     <g transform=\"translate(251.926847 172.750625)rotate(-90)scale(0.1 -0.1)\">\n      <use xlink:href=\"#DejaVuSans-97\"/>\n      <use x=\"61.279297\" xlink:href=\"#DejaVuSans-118\"/>\n      <use x=\"120.458984\" xlink:href=\"#DejaVuSans-103\"/>\n      <use x=\"183.935547\" xlink:href=\"#DejaVuSans-114\"/>\n      <use x=\"225.017578\" xlink:href=\"#DejaVuSans-101\"/>\n     </g>\n    </g>\n   </g>\n   <g id=\"line2d_23\">\n    <path clip-path=\"url(#pd73cccc6b8)\" d=\"M 385.54858 267.116849 \nL 385.54858 281.967955 \n\" style=\"fill:none;stroke:#3f3f3f;stroke-linecap:square;stroke-width:1.5;\"/>\n   </g>\n   <g id=\"line2d_24\">\n    <path clip-path=\"url(#pd73cccc6b8)\" d=\"M 385.54858 239.484838 \nL 385.54858 198.313531 \n\" style=\"fill:none;stroke:#3f3f3f;stroke-linecap:square;stroke-width:1.5;\"/>\n   </g>\n   <g id=\"line2d_25\">\n    <path clip-path=\"url(#pd73cccc6b8)\" d=\"M 344.966761 281.967955 \nL 426.130398 281.967955 \n\" style=\"fill:none;stroke:#3f3f3f;stroke-linecap:square;stroke-width:1.5;\"/>\n   </g>\n   <g id=\"line2d_26\">\n    <path clip-path=\"url(#pd73cccc6b8)\" d=\"M 344.966761 198.313531 \nL 426.130398 198.313531 \n\" style=\"fill:none;stroke:#3f3f3f;stroke-linecap:square;stroke-width:1.5;\"/>\n   </g>\n   <g id=\"line2d_27\">\n    <g clip-path=\"url(#pd73cccc6b8)\">\n     <use style=\"fill:#3f3f3f;stroke:#3f3f3f;stroke-linejoin:miter;\" x=\"385.54858\" xlink:href=\"#m270ee85ed7\" y=\"188.934909\"/>\n     <use style=\"fill:#3f3f3f;stroke:#3f3f3f;stroke-linejoin:miter;\" x=\"385.54858\" xlink:href=\"#m270ee85ed7\" y=\"180.035406\"/>\n     <use style=\"fill:#3f3f3f;stroke:#3f3f3f;stroke-linejoin:miter;\" x=\"385.54858\" xlink:href=\"#m270ee85ed7\" y=\"195.887544\"/>\n     <use style=\"fill:#3f3f3f;stroke:#3f3f3f;stroke-linejoin:miter;\" x=\"385.54858\" xlink:href=\"#m270ee85ed7\" y=\"191.370475\"/>\n     <use style=\"fill:#3f3f3f;stroke:#3f3f3f;stroke-linejoin:miter;\" x=\"385.54858\" xlink:href=\"#m270ee85ed7\" y=\"193.557951\"/>\n     <use style=\"fill:#3f3f3f;stroke:#3f3f3f;stroke-linejoin:miter;\" x=\"385.54858\" xlink:href=\"#m270ee85ed7\" y=\"193.557951\"/>\n     <use style=\"fill:#3f3f3f;stroke:#3f3f3f;stroke-linejoin:miter;\" x=\"385.54858\" xlink:href=\"#m270ee85ed7\" y=\"195.603291\"/>\n     <use style=\"fill:#3f3f3f;stroke:#3f3f3f;stroke-linejoin:miter;\" x=\"385.54858\" xlink:href=\"#m270ee85ed7\" y=\"188.074885\"/>\n     <use style=\"fill:#3f3f3f;stroke:#3f3f3f;stroke-linejoin:miter;\" x=\"385.54858\" xlink:href=\"#m270ee85ed7\" y=\"188.007102\"/>\n     <use style=\"fill:#3f3f3f;stroke:#3f3f3f;stroke-linejoin:miter;\" x=\"385.54858\" xlink:href=\"#m270ee85ed7\" y=\"180.546486\"/>\n     <use style=\"fill:#3f3f3f;stroke:#3f3f3f;stroke-linejoin:miter;\" x=\"385.54858\" xlink:href=\"#m270ee85ed7\" y=\"197.790844\"/>\n     <use style=\"fill:#3f3f3f;stroke:#3f3f3f;stroke-linejoin:miter;\" x=\"385.54858\" xlink:href=\"#m270ee85ed7\" y=\"196.96699\"/>\n     <use style=\"fill:#3f3f3f;stroke:#3f3f3f;stroke-linejoin:miter;\" x=\"385.54858\" xlink:href=\"#m270ee85ed7\" y=\"193.955583\"/>\n     <use style=\"fill:#3f3f3f;stroke:#3f3f3f;stroke-linejoin:miter;\" x=\"385.54858\" xlink:href=\"#m270ee85ed7\" y=\"177.393116\"/>\n     <use style=\"fill:#3f3f3f;stroke:#3f3f3f;stroke-linejoin:miter;\" x=\"385.54858\" xlink:href=\"#m270ee85ed7\" y=\"197.197005\"/>\n     <use style=\"fill:#3f3f3f;stroke:#3f3f3f;stroke-linejoin:miter;\" x=\"385.54858\" xlink:href=\"#m270ee85ed7\" y=\"190.572024\"/>\n     <use style=\"fill:#3f3f3f;stroke:#3f3f3f;stroke-linejoin:miter;\" x=\"385.54858\" xlink:href=\"#m270ee85ed7\" y=\"196.82486\"/>\n     <use style=\"fill:#3f3f3f;stroke:#3f3f3f;stroke-linejoin:miter;\" x=\"385.54858\" xlink:href=\"#m270ee85ed7\" y=\"196.071991\"/>\n     <use style=\"fill:#3f3f3f;stroke:#3f3f3f;stroke-linejoin:miter;\" x=\"385.54858\" xlink:href=\"#m270ee85ed7\" y=\"187.790792\"/>\n     <use style=\"fill:#3f3f3f;stroke:#3f3f3f;stroke-linejoin:miter;\" x=\"385.54858\" xlink:href=\"#m270ee85ed7\" y=\"192.989599\"/>\n     <use style=\"fill:#3f3f3f;stroke:#3f3f3f;stroke-linejoin:miter;\" x=\"385.54858\" xlink:href=\"#m270ee85ed7\" y=\"191.483937\"/>\n     <use style=\"fill:#3f3f3f;stroke:#3f3f3f;stroke-linejoin:miter;\" x=\"385.54858\" xlink:href=\"#m270ee85ed7\" y=\"196.68273\"/>\n     <use style=\"fill:#3f3f3f;stroke:#3f3f3f;stroke-linejoin:miter;\" x=\"385.54858\" xlink:href=\"#m270ee85ed7\" y=\"191.262327\"/>\n     <use style=\"fill:#3f3f3f;stroke:#3f3f3f;stroke-linejoin:miter;\" x=\"385.54858\" xlink:href=\"#m270ee85ed7\" y=\"190.659993\"/>\n     <use style=\"fill:#3f3f3f;stroke:#3f3f3f;stroke-linejoin:miter;\" x=\"385.54858\" xlink:href=\"#m270ee85ed7\" y=\"190.659993\"/>\n     <use style=\"fill:#3f3f3f;stroke:#3f3f3f;stroke-linejoin:miter;\" x=\"385.54858\" xlink:href=\"#m270ee85ed7\" y=\"190.659993\"/>\n     <use style=\"fill:#3f3f3f;stroke:#3f3f3f;stroke-linejoin:miter;\" x=\"385.54858\" xlink:href=\"#m270ee85ed7\" y=\"193.52936\"/>\n     <use style=\"fill:#3f3f3f;stroke:#3f3f3f;stroke-linejoin:miter;\" x=\"385.54858\" xlink:href=\"#m270ee85ed7\" y=\"186.000954\"/>\n     <use style=\"fill:#3f3f3f;stroke:#3f3f3f;stroke-linejoin:miter;\" x=\"385.54858\" xlink:href=\"#m270ee85ed7\" y=\"193.387224\"/>\n     <use style=\"fill:#3f3f3f;stroke:#3f3f3f;stroke-linejoin:miter;\" x=\"385.54858\" xlink:href=\"#m270ee85ed7\" y=\"190.3759\"/>\n     <use style=\"fill:#3f3f3f;stroke:#3f3f3f;stroke-linejoin:miter;\" x=\"385.54858\" xlink:href=\"#m270ee85ed7\" y=\"187.364486\"/>\n     <use style=\"fill:#3f3f3f;stroke:#3f3f3f;stroke-linejoin:miter;\" x=\"385.54858\" xlink:href=\"#m270ee85ed7\" y=\"187.364486\"/>\n     <use style=\"fill:#3f3f3f;stroke:#3f3f3f;stroke-linejoin:miter;\" x=\"385.54858\" xlink:href=\"#m270ee85ed7\" y=\"184.353162\"/>\n     <use style=\"fill:#3f3f3f;stroke:#3f3f3f;stroke-linejoin:miter;\" x=\"385.54858\" xlink:href=\"#m270ee85ed7\" y=\"182.035504\"/>\n     <use style=\"fill:#3f3f3f;stroke:#3f3f3f;stroke-linejoin:miter;\" x=\"385.54858\" xlink:href=\"#m270ee85ed7\" y=\"179.693957\"/>\n     <use style=\"fill:#3f3f3f;stroke:#3f3f3f;stroke-linejoin:miter;\" x=\"385.54858\" xlink:href=\"#m270ee85ed7\" y=\"179.693957\"/>\n     <use style=\"fill:#3f3f3f;stroke:#3f3f3f;stroke-linejoin:miter;\" x=\"385.54858\" xlink:href=\"#m270ee85ed7\" y=\"181.057656\"/>\n     <use style=\"fill:#3f3f3f;stroke:#3f3f3f;stroke-linejoin:miter;\" x=\"385.54858\" xlink:href=\"#m270ee85ed7\" y=\"166.000857\"/>\n     <use style=\"fill:#3f3f3f;stroke:#3f3f3f;stroke-linejoin:miter;\" x=\"385.54858\" xlink:href=\"#m270ee85ed7\" y=\"177.222311\"/>\n     <use style=\"fill:#3f3f3f;stroke:#3f3f3f;stroke-linejoin:miter;\" x=\"385.54858\" xlink:href=\"#m270ee85ed7\" y=\"177.762059\"/>\n     <use style=\"fill:#3f3f3f;stroke:#3f3f3f;stroke-linejoin:miter;\" x=\"385.54858\" xlink:href=\"#m270ee85ed7\" y=\"172.42113\"/>\n     <use style=\"fill:#3f3f3f;stroke:#3f3f3f;stroke-linejoin:miter;\" x=\"385.54858\" xlink:href=\"#m270ee85ed7\" y=\"191.773407\"/>\n     <use style=\"fill:#3f3f3f;stroke:#3f3f3f;stroke-linejoin:miter;\" x=\"385.54858\" xlink:href=\"#m270ee85ed7\" y=\"191.171162\"/>\n     <use style=\"fill:#3f3f3f;stroke:#3f3f3f;stroke-linejoin:miter;\" x=\"385.54858\" xlink:href=\"#m270ee85ed7\" y=\"174.608702\"/>\n     <use style=\"fill:#3f3f3f;stroke:#3f3f3f;stroke-linejoin:miter;\" x=\"385.54858\" xlink:href=\"#m270ee85ed7\" y=\"171.597288\"/>\n     <use style=\"fill:#3f3f3f;stroke:#3f3f3f;stroke-linejoin:miter;\" x=\"385.54858\" xlink:href=\"#m270ee85ed7\" y=\"170.091627\"/>\n     <use style=\"fill:#3f3f3f;stroke:#3f3f3f;stroke-linejoin:miter;\" x=\"385.54858\" xlink:href=\"#m270ee85ed7\" y=\"164.068889\"/>\n     <use style=\"fill:#3f3f3f;stroke:#3f3f3f;stroke-linejoin:miter;\" x=\"385.54858\" xlink:href=\"#m270ee85ed7\" y=\"197.804639\"/>\n     <use style=\"fill:#3f3f3f;stroke:#3f3f3f;stroke-linejoin:miter;\" x=\"385.54858\" xlink:href=\"#m270ee85ed7\" y=\"160.923848\"/>\n     <use style=\"fill:#3f3f3f;stroke:#3f3f3f;stroke-linejoin:miter;\" x=\"385.54858\" xlink:href=\"#m270ee85ed7\" y=\"159.949439\"/>\n     <use style=\"fill:#3f3f3f;stroke:#3f3f3f;stroke-linejoin:miter;\" x=\"385.54858\" xlink:href=\"#m270ee85ed7\" y=\"163.500524\"/>\n     <use style=\"fill:#3f3f3f;stroke:#3f3f3f;stroke-linejoin:miter;\" x=\"385.54858\" xlink:href=\"#m270ee85ed7\" y=\"149.807264\"/>\n     <use style=\"fill:#3f3f3f;stroke:#3f3f3f;stroke-linejoin:miter;\" x=\"385.54858\" xlink:href=\"#m270ee85ed7\" y=\"141.241896\"/>\n     <use style=\"fill:#3f3f3f;stroke:#3f3f3f;stroke-linejoin:miter;\" x=\"385.54858\" xlink:href=\"#m270ee85ed7\" y=\"125.005992\"/>\n     <use style=\"fill:#3f3f3f;stroke:#3f3f3f;stroke-linejoin:miter;\" x=\"385.54858\" xlink:href=\"#m270ee85ed7\" y=\"120.062687\"/>\n     <use style=\"fill:#3f3f3f;stroke:#3f3f3f;stroke-linejoin:miter;\" x=\"385.54858\" xlink:href=\"#m270ee85ed7\" y=\"170.97174\"/>\n     <use style=\"fill:#3f3f3f;stroke:#3f3f3f;stroke-linejoin:miter;\" x=\"385.54858\" xlink:href=\"#m270ee85ed7\" y=\"124.295593\"/>\n     <use style=\"fill:#3f3f3f;stroke:#3f3f3f;stroke-linejoin:miter;\" x=\"385.54858\" xlink:href=\"#m270ee85ed7\" y=\"116.340964\"/>\n     <use style=\"fill:#3f3f3f;stroke:#3f3f3f;stroke-linejoin:miter;\" x=\"385.54858\" xlink:href=\"#m270ee85ed7\" y=\"34.877045\"/>\n     <use style=\"fill:#3f3f3f;stroke:#3f3f3f;stroke-linejoin:miter;\" x=\"385.54858\" xlink:href=\"#m270ee85ed7\" y=\"185.958484\"/>\n     <use style=\"fill:#3f3f3f;stroke:#3f3f3f;stroke-linejoin:miter;\" x=\"385.54858\" xlink:href=\"#m270ee85ed7\" y=\"192.449914\"/>\n    </g>\n   </g>\n   <g id=\"line2d_28\">\n    <path clip-path=\"url(#pd73cccc6b8)\" d=\"M 304.384943 253.586923 \nL 466.712216 253.586923 \n\" style=\"fill:none;stroke:#3f3f3f;stroke-linecap:square;stroke-width:1.5;\"/>\n   </g>\n   <g id=\"patch_10\">\n    <path d=\"M 284.094034 294.3225 \nL 284.094034 22.5225 \n\" style=\"fill:none;stroke:#000000;stroke-linecap:square;stroke-linejoin:miter;stroke-width:0.8;\"/>\n   </g>\n   <g id=\"patch_11\">\n    <path d=\"M 487.003125 294.3225 \nL 487.003125 22.5225 \n\" style=\"fill:none;stroke:#000000;stroke-linecap:square;stroke-linejoin:miter;stroke-width:0.8;\"/>\n   </g>\n   <g id=\"patch_12\">\n    <path d=\"M 284.094034 294.3225 \nL 487.003125 294.3225 \n\" style=\"fill:none;stroke:#000000;stroke-linecap:square;stroke-linejoin:miter;stroke-width:0.8;\"/>\n   </g>\n   <g id=\"patch_13\">\n    <path d=\"M 284.094034 22.5225 \nL 487.003125 22.5225 \n\" style=\"fill:none;stroke:#000000;stroke-linecap:square;stroke-linejoin:miter;stroke-width:0.8;\"/>\n   </g>\n   <g id=\"text_18\">\n    <!-- Distribuição de avgre em TRAIN3 -->\n    <defs>\n     <path d=\"M 40.578125 39.3125 \nQ 47.65625 37.796875 51.625 33 \nQ 55.609375 28.21875 55.609375 21.1875 \nQ 55.609375 10.40625 48.1875 4.484375 \nQ 40.765625 -1.421875 27.09375 -1.421875 \nQ 22.515625 -1.421875 17.65625 -0.515625 \nQ 12.796875 0.390625 7.625 2.203125 \nL 7.625 11.71875 \nQ 11.71875 9.328125 16.59375 8.109375 \nQ 21.484375 6.890625 26.8125 6.890625 \nQ 36.078125 6.890625 40.9375 10.546875 \nQ 45.796875 14.203125 45.796875 21.1875 \nQ 45.796875 27.640625 41.28125 31.265625 \nQ 36.765625 34.90625 28.71875 34.90625 \nL 20.21875 34.90625 \nL 20.21875 43.015625 \nL 29.109375 43.015625 \nQ 36.375 43.015625 40.234375 45.921875 \nQ 44.09375 48.828125 44.09375 54.296875 \nQ 44.09375 59.90625 40.109375 62.90625 \nQ 36.140625 65.921875 28.71875 65.921875 \nQ 24.65625 65.921875 20.015625 65.03125 \nQ 15.375 64.15625 9.8125 62.3125 \nL 9.8125 71.09375 \nQ 15.4375 72.65625 20.34375 73.4375 \nQ 25.25 74.21875 29.59375 74.21875 \nQ 40.828125 74.21875 47.359375 69.109375 \nQ 53.90625 64.015625 53.90625 55.328125 \nQ 53.90625 49.265625 50.4375 45.09375 \nQ 46.96875 40.921875 40.578125 39.3125 \nz\n\" id=\"DejaVuSans-51\"/>\n    </defs>\n    <g transform=\"translate(285.855767 16.5225)scale(0.12 -0.12)\">\n     <use xlink:href=\"#DejaVuSans-68\"/>\n     <use x=\"77.001953\" xlink:href=\"#DejaVuSans-105\"/>\n     <use x=\"104.785156\" xlink:href=\"#DejaVuSans-115\"/>\n     <use x=\"156.884766\" xlink:href=\"#DejaVuSans-116\"/>\n     <use x=\"196.09375\" xlink:href=\"#DejaVuSans-114\"/>\n     <use x=\"237.207031\" xlink:href=\"#DejaVuSans-105\"/>\n     <use x=\"264.990234\" xlink:href=\"#DejaVuSans-98\"/>\n     <use x=\"328.466797\" xlink:href=\"#DejaVuSans-117\"/>\n     <use x=\"391.845703\" xlink:href=\"#DejaVuSans-105\"/>\n     <use x=\"419.628906\" xlink:href=\"#DejaVuSans-231\"/>\n     <use x=\"474.609375\" xlink:href=\"#DejaVuSans-227\"/>\n     <use x=\"535.888672\" xlink:href=\"#DejaVuSans-111\"/>\n     <use x=\"597.070312\" xlink:href=\"#DejaVuSans-32\"/>\n     <use x=\"628.857422\" xlink:href=\"#DejaVuSans-100\"/>\n     <use x=\"692.333984\" xlink:href=\"#DejaVuSans-101\"/>\n     <use x=\"753.857422\" xlink:href=\"#DejaVuSans-32\"/>\n     <use x=\"785.644531\" xlink:href=\"#DejaVuSans-97\"/>\n     <use x=\"846.923828\" xlink:href=\"#DejaVuSans-118\"/>\n     <use x=\"906.103516\" xlink:href=\"#DejaVuSans-103\"/>\n     <use x=\"969.580078\" xlink:href=\"#DejaVuSans-114\"/>\n     <use x=\"1010.662109\" xlink:href=\"#DejaVuSans-101\"/>\n     <use x=\"1072.185547\" xlink:href=\"#DejaVuSans-32\"/>\n     <use x=\"1103.972656\" xlink:href=\"#DejaVuSans-101\"/>\n     <use x=\"1165.496094\" xlink:href=\"#DejaVuSans-109\"/>\n     <use x=\"1262.908203\" xlink:href=\"#DejaVuSans-32\"/>\n     <use x=\"1294.695312\" xlink:href=\"#DejaVuSans-84\"/>\n     <use x=\"1355.779297\" xlink:href=\"#DejaVuSans-82\"/>\n     <use x=\"1425.199219\" xlink:href=\"#DejaVuSans-65\"/>\n     <use x=\"1493.607422\" xlink:href=\"#DejaVuSans-73\"/>\n     <use x=\"1523.099609\" xlink:href=\"#DejaVuSans-78\"/>\n     <use x=\"1597.904297\" xlink:href=\"#DejaVuSans-51\"/>\n    </g>\n   </g>\n  </g>\n </g>\n <defs>\n  <clipPath id=\"p51348ef7ed\">\n   <rect height=\"271.8\" width=\"202.909091\" x=\"40.603125\" y=\"22.5225\"/>\n  </clipPath>\n  <clipPath id=\"pd73cccc6b8\">\n   <rect height=\"271.8\" width=\"202.909091\" x=\"284.094034\" y=\"22.5225\"/>\n  </clipPath>\n </defs>\n</svg>\n",
      "image/png": "[encoded data removed]"
     },
     "metadata": {
      "needs_background": "light"
     }
    }
   ],
   "source": [
    "fig, axs = plt.subplots(ncols=2, figsize = (8,5))\n",
    "\n",
    "ax0 = sns.boxplot(y=\"avgre\", data=train2, ax = axs[0])\n",
    "ax0.set_title(\"Distribuição de avgre em TRAIN2\")\n",
    "ax1 = sns.boxplot(y=\"avgre\", data=train3, ax = axs[1])\n",
    "ax1.set_title(\"Distribuição de avgre em TRAIN3\")"
   ]
  },
  {
   "cell_type": "code",
   "execution_count": 36,
   "metadata": {},
   "outputs": [
    {
     "output_type": "stream",
     "name": "stdout",
     "text": [
      "                            OLS Regression Results                            \n==============================================================================\nDep. Variable:                   re78   R-squared:                       0.046\nModel:                            OLS   Adj. R-squared:                  0.030\nMethod:                 Least Squares   F-statistic:                     2.904\nDate:                Thu, 18 Feb 2021   Prob (F-statistic):            0.00564\nTime:                        16:07:00   Log-Likelihood:                -1393.0\nNo. Observations:                 427   AIC:                             2802.\nDf Residuals:                     419   BIC:                             2834.\nDf Model:                           7                                         \nCovariance Type:            nonrobust                                         \n==============================================================================\n                 coef    std err          t      P>|t|      [0.025      0.975]\n------------------------------------------------------------------------------\nconst          1.7369      2.446      0.710      0.478      -3.071       6.545\ntrain          1.5830      0.632      2.503      0.013       0.340       2.826\nre74          -0.1168      0.124     -0.943      0.346      -0.360       0.127\nre75           0.1732      0.189      0.917      0.359      -0.198       0.544\neduc           0.3582      0.176      2.036      0.042       0.012       0.704\nage            0.0440      0.044      1.003      0.317      -0.042       0.130\nblack         -2.3835      1.168     -2.041      0.042      -4.679      -0.088\nhisp          -0.3694      1.551     -0.238      0.812      -3.418       2.679\n==============================================================================\nOmnibus:                      289.938   Durbin-Watson:                   2.074\nProb(Omnibus):                  0.000   Jarque-Bera (JB):             4410.023\nSkew:                           2.693   Prob(JB):                         0.00\nKurtosis:                      17.794   Cond. No.                         246.\n==============================================================================\n\nWarnings:\n[1] Standard Errors assume that the covariance matrix of the errors is correctly specified.\nO erro padrão da regressão é 6.37728 e a SQR é 17040.60588\n\nPara ver os valores previstos ou os resídudos, basta chamar 'Lista_ychapeu' e 'Resíduos'.\nOs resultados do modelo podem ser obtidos através de métodos usando a variável 'Resultado'.\n\n    Valores de condição maiores que 20 indicam problemas de multicolinearidade.\n    Para ver como achar esse número, entre em https://www.statsmodels.org/dev/examples/notebooks/generated/ols.html\n"
     ]
    }
   ],
   "source": [
    "## Usando apenas os homens com avgre < 10 em TRAIN2\n",
    "train2_10 = train2.loc[train2['avgre'] <= 10]\n",
    "\n",
    "x = train2_10[['train','re74','re75','educ','age','black','hisp']]\n",
    "y = train2_10['re78']\n",
    "Regressao_Multipla(x,y)"
   ]
  },
  {
   "cell_type": "code",
   "execution_count": 37,
   "metadata": {},
   "outputs": [
    {
     "output_type": "stream",
     "name": "stdout",
     "text": [
      "                            OLS Regression Results                            \n==============================================================================\nDep. Variable:                   re78   R-squared:                       0.234\nModel:                            OLS   Adj. R-squared:                  0.227\nMethod:                 Least Squares   F-statistic:                     33.11\nDate:                Thu, 18 Feb 2021   Prob (F-statistic):           2.89e-40\nTime:                        16:07:00   Log-Likelihood:                -2668.6\nNo. Observations:                 765   AIC:                             5353.\nDf Residuals:                     757   BIC:                             5390.\nDf Model:                           7                                         \nCovariance Type:            nonrobust                                         \n==============================================================================\n                 coef    std err          t      P>|t|      [0.025      0.975]\n------------------------------------------------------------------------------\nconst          3.4480      2.141      1.610      0.108      -0.756       7.652\ntrain          1.8445      0.893      2.065      0.039       0.091       3.598\nre74           0.3131      0.069      4.525      0.000       0.177       0.449\nre75           0.7743      0.076     10.247      0.000       0.626       0.923\neduc           0.3283      0.110      2.975      0.003       0.112       0.545\nage           -0.0832      0.031     -2.710      0.007      -0.143      -0.023\nblack         -1.9733      0.721     -2.738      0.006      -3.388      -0.558\nhisp          -1.1007      1.432     -0.769      0.442      -3.912       1.710\n==============================================================================\nOmnibus:                      414.650   Durbin-Watson:                   1.951\nProb(Omnibus):                  0.000   Jarque-Bera (JB):             4127.096\nSkew:                           2.252   Prob(JB):                         0.00\nKurtosis:                      13.450   Cond. No.                         276.\n==============================================================================\n\nWarnings:\n[1] Standard Errors assume that the covariance matrix of the errors is correctly specified.\nO erro padrão da regressão é 7.96203 e a SQR é 47989.2174\n\nPara ver os valores previstos ou os resídudos, basta chamar 'Lista_ychapeu' e 'Resíduos'.\nOs resultados do modelo podem ser obtidos através de métodos usando a variável 'Resultado'.\n\n    Valores de condição maiores que 20 indicam problemas de multicolinearidade.\n    Para ver como achar esse número, entre em https://www.statsmodels.org/dev/examples/notebooks/generated/ols.html\n"
     ]
    }
   ],
   "source": [
    "## Usando apenas os homens com avgre < 10 em TRAIN3\n",
    "train3_10 = train3.loc[train3['avgre'] <= 10]\n",
    "\n",
    "x = train3_10[['train','re74','re75','educ','age','black','hisp']]\n",
    "y = train3_10['re78']\n",
    "Regressao_Multipla(x,y)"
   ]
  },
  {
   "cell_type": "code",
   "execution_count": 38,
   "metadata": {},
   "outputs": [
    {
     "output_type": "execute_result",
     "data": {
      "text/plain": [
       "179"
      ]
     },
     "metadata": {},
     "execution_count": 38
    }
   ],
   "source": [
    "## Vendo quantas pessoas com avgre < 10 participaram do treinamento\n",
    "len(train3_10.loc[train3_10['train'] == 1])"
   ]
  },
  {
   "cell_type": "code",
   "execution_count": 39,
   "metadata": {},
   "outputs": [],
   "source": [
    "## Selecioinando as amostras com homens desempregados em 1974 E 1975\n",
    "train2_74_75 = train2.loc[(train2['unem74'] == 1) & (train2['unem75'] == 1)]\n",
    "train3_74_75 = train3.loc[(train3['unem74'] == 1) & (train3['unem75'] == 1)]"
   ]
  },
  {
   "cell_type": "code",
   "execution_count": 40,
   "metadata": {},
   "outputs": [
    {
     "output_type": "stream",
     "name": "stdout",
     "text": [
      "                            OLS Regression Results                            \n==============================================================================\nDep. Variable:                   re78   R-squared:                       0.025\nModel:                            OLS   Adj. R-squared:                  0.022\nMethod:                 Least Squares   F-statistic:                     7.144\nDate:                Thu, 18 Feb 2021   Prob (F-statistic):            0.00797\nTime:                        16:07:01   Log-Likelihood:                -879.83\nNo. Observations:                 280   AIC:                             1764.\nDf Residuals:                     278   BIC:                             1771.\nDf Model:                           1                                         \nCovariance Type:            nonrobust                                         \n==============================================================================\n                 coef    std err          t      P>|t|      [0.025      0.975]\n------------------------------------------------------------------------------\nconst          4.1124      0.430      9.563      0.000       3.266       4.959\ntrain          1.8421      0.689      2.673      0.008       0.485       3.199\n==============================================================================\nOmnibus:                       80.532   Durbin-Watson:                   2.114\nProb(Omnibus):                  0.000   Jarque-Bera (JB):              174.053\nSkew:                           1.426   Prob(JB):                     1.60e-38\nKurtosis:                       5.606   Cond. No.                         2.44\n==============================================================================\n\nWarnings:\n[1] Standard Errors assume that the covariance matrix of the errors is correctly specified.\nO erro padrão da regressão é 5.62316 e a SQR é 8790.35338\n\nPara ver os valores previstos ou os resídudos, basta chamar 'Lista_ychapeu' e 'Resíduos'.\nOs resultados do modelo podem ser obtidos através de métodos usando a variável 'Resultado'.\n\n    Valores de condição maiores que 20 indicam problemas de multicolinearidade.\n    Para ver como achar esse número, entre em https://www.statsmodels.org/dev/examples/notebooks/generated/ols.html\n"
     ]
    }
   ],
   "source": [
    "#  Regressao simples de re78 sobre train em TRAIN2_74_75\n",
    "x = train2_74_75[['train']]\n",
    "y = train2_74_75['re78']\n",
    "Regressao_Multipla(x,y)"
   ]
  },
  {
   "cell_type": "code",
   "execution_count": 41,
   "metadata": {},
   "outputs": [
    {
     "output_type": "stream",
     "name": "stdout",
     "text": [
      "                            OLS Regression Results                            \n==============================================================================\nDep. Variable:                   re78   R-squared:                       0.064\nModel:                            OLS   Adj. R-squared:                  0.061\nMethod:                 Least Squares   F-statistic:                     18.52\nDate:                Thu, 18 Feb 2021   Prob (F-statistic):           2.36e-05\nTime:                        16:07:01   Log-Likelihood:                -916.01\nNo. Observations:                 271   AIC:                             1836.\nDf Residuals:                     269   BIC:                             1843.\nDf Model:                           1                                         \nCovariance Type:            nonrobust                                         \n==============================================================================\n                 coef    std err          t      P>|t|      [0.025      0.975]\n------------------------------------------------------------------------------\nconst          2.1512      0.560      3.838      0.000       1.048       3.255\ntrain          3.8033      0.884      4.303      0.000       2.063       5.543\n==============================================================================\nOmnibus:                      273.496   Durbin-Watson:                   2.136\nProb(Omnibus):                  0.000   Jarque-Bera (JB):             8961.344\nSkew:                           4.128   Prob(JB):                         0.00\nKurtosis:                      29.935   Cond. No.                         2.45\n==============================================================================\n\nWarnings:\n[1] Standard Errors assume that the covariance matrix of the errors is correctly specified.\nO erro padrão da regressão é 7.13392 e a SQR é 13690.16648\n\nPara ver os valores previstos ou os resídudos, basta chamar 'Lista_ychapeu' e 'Resíduos'.\nOs resultados do modelo podem ser obtidos através de métodos usando a variável 'Resultado'.\n\n    Valores de condição maiores que 20 indicam problemas de multicolinearidade.\n    Para ver como achar esse número, entre em https://www.statsmodels.org/dev/examples/notebooks/generated/ols.html\n"
     ]
    }
   ],
   "source": [
    "#  Regressao simples de re78 sobre train em TRAIN3_74_75\n",
    "x = train3_74_75[['train']]\n",
    "y = train3_74_75['re78']\n",
    "Regressao_Multipla(x,y)"
   ]
  },
  {
   "source": [
    "## Exercício C11"
   ],
   "cell_type": "markdown",
   "metadata": {}
  },
  {
   "cell_type": "code",
   "execution_count": 42,
   "metadata": {},
   "outputs": [
    {
     "output_type": "stream",
     "name": "stdout",
     "text": [
      "MURDER.dta foi lido com sucesso!\n"
     ]
    },
    {
     "output_type": "execute_result",
     "data": {
      "text/plain": [
       "     id state  year  mrdrte  exec  unem  d90  d93  cmrdrte  cexec  cunem  \\\n",
       "0     1    AL    87     9.3     2   7.8    0    0      NaN    NaN    NaN   \n",
       "1     1    AL    90    11.6     5   6.8    1    0      2.3    3.0   -1.0   \n",
       "2     1    AL    93    11.6     2   7.5    0    1      0.0   -3.0    0.7   \n",
       "3     2    AK    87    10.1     0  10.8    0    0      NaN    NaN    NaN   \n",
       "4     2    AK    90     7.5     0   6.9    1    0     -2.6    0.0   -3.9   \n",
       "..   ..   ...   ...     ...   ...   ...  ...  ...      ...    ...    ...   \n",
       "148  50    WI    90     4.6     0   4.4    1    0      1.1    0.0   -1.7   \n",
       "149  50    WI    93     4.4     0   4.7    0    1     -0.2    0.0    0.3   \n",
       "150  51    WY    87     2.0     0   8.6    0    0      NaN    NaN    NaN   \n",
       "151  51    WY    90     4.9     0   5.4    1    0      2.9    0.0   -3.2   \n",
       "152  51    WY    93     3.4     1   5.4    0    1     -1.5    1.0    0.0   \n",
       "\n",
       "     cexec_1  cunem_1  \n",
       "0        NaN      NaN  \n",
       "1        NaN      NaN  \n",
       "2        3.0     -1.0  \n",
       "3        NaN      NaN  \n",
       "4        NaN      NaN  \n",
       "..       ...      ...  \n",
       "148      NaN      NaN  \n",
       "149      0.0     -1.7  \n",
       "150      NaN      NaN  \n",
       "151      NaN      NaN  \n",
       "152      0.0     -3.2  \n",
       "\n",
       "[153 rows x 13 columns]"
      ],
      "text/html": "<div>\n<style scoped>\n    .dataframe tbody tr th:only-of-type {\n        vertical-align: middle;\n    }\n\n    .dataframe tbody tr th {\n        vertical-align: top;\n    }\n\n    .dataframe thead th {\n        text-align: right;\n    }\n</style>\n<table border=\"1\" class=\"dataframe\">\n  <thead>\n    <tr style=\"text-align: right;\">\n      <th></th>\n      <th>id</th>\n      <th>state</th>\n      <th>year</th>\n      <th>mrdrte</th>\n      <th>exec</th>\n      <th>unem</th>\n      <th>d90</th>\n      <th>d93</th>\n      <th>cmrdrte</th>\n      <th>cexec</th>\n      <th>cunem</th>\n      <th>cexec_1</th>\n      <th>cunem_1</th>\n    </tr>\n  </thead>\n  <tbody>\n    <tr>\n      <th>0</th>\n      <td>1</td>\n      <td>AL</td>\n      <td>87</td>\n      <td>9.3</td>\n      <td>2</td>\n      <td>7.8</td>\n      <td>0</td>\n      <td>0</td>\n      <td>NaN</td>\n      <td>NaN</td>\n      <td>NaN</td>\n      <td>NaN</td>\n      <td>NaN</td>\n    </tr>\n    <tr>\n      <th>1</th>\n      <td>1</td>\n      <td>AL</td>\n      <td>90</td>\n      <td>11.6</td>\n      <td>5</td>\n      <td>6.8</td>\n      <td>1</td>\n      <td>0</td>\n      <td>2.3</td>\n      <td>3.0</td>\n      <td>-1.0</td>\n      <td>NaN</td>\n      <td>NaN</td>\n    </tr>\n    <tr>\n      <th>2</th>\n      <td>1</td>\n      <td>AL</td>\n      <td>93</td>\n      <td>11.6</td>\n      <td>2</td>\n      <td>7.5</td>\n      <td>0</td>\n      <td>1</td>\n      <td>0.0</td>\n      <td>-3.0</td>\n      <td>0.7</td>\n      <td>3.0</td>\n      <td>-1.0</td>\n    </tr>\n    <tr>\n      <th>3</th>\n      <td>2</td>\n      <td>AK</td>\n      <td>87</td>\n      <td>10.1</td>\n      <td>0</td>\n      <td>10.8</td>\n      <td>0</td>\n      <td>0</td>\n      <td>NaN</td>\n      <td>NaN</td>\n      <td>NaN</td>\n      <td>NaN</td>\n      <td>NaN</td>\n    </tr>\n    <tr>\n      <th>4</th>\n      <td>2</td>\n      <td>AK</td>\n      <td>90</td>\n      <td>7.5</td>\n      <td>0</td>\n      <td>6.9</td>\n      <td>1</td>\n      <td>0</td>\n      <td>-2.6</td>\n      <td>0.0</td>\n      <td>-3.9</td>\n      <td>NaN</td>\n      <td>NaN</td>\n    </tr>\n    <tr>\n      <th>...</th>\n      <td>...</td>\n      <td>...</td>\n      <td>...</td>\n      <td>...</td>\n      <td>...</td>\n      <td>...</td>\n      <td>...</td>\n      <td>...</td>\n      <td>...</td>\n      <td>...</td>\n      <td>...</td>\n      <td>...</td>\n      <td>...</td>\n    </tr>\n    <tr>\n      <th>148</th>\n      <td>50</td>\n      <td>WI</td>\n      <td>90</td>\n      <td>4.6</td>\n      <td>0</td>\n      <td>4.4</td>\n      <td>1</td>\n      <td>0</td>\n      <td>1.1</td>\n      <td>0.0</td>\n      <td>-1.7</td>\n      <td>NaN</td>\n      <td>NaN</td>\n    </tr>\n    <tr>\n      <th>149</th>\n      <td>50</td>\n      <td>WI</td>\n      <td>93</td>\n      <td>4.4</td>\n      <td>0</td>\n      <td>4.7</td>\n      <td>0</td>\n      <td>1</td>\n      <td>-0.2</td>\n      <td>0.0</td>\n      <td>0.3</td>\n      <td>0.0</td>\n      <td>-1.7</td>\n    </tr>\n    <tr>\n      <th>150</th>\n      <td>51</td>\n      <td>WY</td>\n      <td>87</td>\n      <td>2.0</td>\n      <td>0</td>\n      <td>8.6</td>\n      <td>0</td>\n      <td>0</td>\n      <td>NaN</td>\n      <td>NaN</td>\n      <td>NaN</td>\n      <td>NaN</td>\n      <td>NaN</td>\n    </tr>\n    <tr>\n      <th>151</th>\n      <td>51</td>\n      <td>WY</td>\n      <td>90</td>\n      <td>4.9</td>\n      <td>0</td>\n      <td>5.4</td>\n      <td>1</td>\n      <td>0</td>\n      <td>2.9</td>\n      <td>0.0</td>\n      <td>-3.2</td>\n      <td>NaN</td>\n      <td>NaN</td>\n    </tr>\n    <tr>\n      <th>152</th>\n      <td>51</td>\n      <td>WY</td>\n      <td>93</td>\n      <td>3.4</td>\n      <td>1</td>\n      <td>5.4</td>\n      <td>0</td>\n      <td>1</td>\n      <td>-1.5</td>\n      <td>1.0</td>\n      <td>0.0</td>\n      <td>0.0</td>\n      <td>-3.2</td>\n    </tr>\n  </tbody>\n</table>\n<p>153 rows × 13 columns</p>\n</div>"
     },
     "metadata": {},
     "execution_count": 42
    }
   ],
   "source": [
    "coletar_dados('MURDER')"
   ]
  },
  {
   "cell_type": "code",
   "execution_count": 43,
   "metadata": {},
   "outputs": [
    {
     "output_type": "stream",
     "name": "stdout",
     "text": [
      "                            OLS Regression Results                            \n==============================================================================\nDep. Variable:                 mrdrte   R-squared:                       0.115\nModel:                            OLS   Adj. R-squared:                  0.078\nMethod:                 Least Squares   F-statistic:                     3.126\nDate:                Thu, 18 Feb 2021   Prob (F-statistic):             0.0529\nTime:                        16:07:02   Log-Likelihood:                -189.70\nNo. Observations:                  51   AIC:                             385.4\nDf Residuals:                      48   BIC:                             391.2\nDf Model:                           2                                         \nCovariance Type:            nonrobust                                         \n==============================================================================\n                 coef    std err          t      P>|t|      [0.025      0.975]\n------------------------------------------------------------------------------\nconst         -6.5686      6.315     -1.040      0.303     -19.266       6.128\nexec           0.0849      0.288      0.295      0.769      -0.494       0.663\nunem           2.4158      0.981      2.463      0.017       0.443       4.388\n==============================================================================\nOmnibus:                       94.666   Durbin-Watson:                   2.098\nProb(Omnibus):                  0.000   Jarque-Bera (JB):             2323.736\nSkew:                           5.210   Prob(JB):                         0.00\nKurtosis:                      34.384   Cond. No.                         30.7\n==============================================================================\n\nWarnings:\n[1] Standard Errors assume that the covariance matrix of the errors is correctly specified.\nO erro padrão da regressão é 10.28897 e a SQR é 5081.42425\n\nPara ver os valores previstos ou os resídudos, basta chamar 'Lista_ychapeu' e 'Resíduos'.\nOs resultados do modelo podem ser obtidos através de métodos usando a variável 'Resultado'.\n\n    Valores de condição maiores que 20 indicam problemas de multicolinearidade.\n    Para ver como achar esse número, entre em https://www.statsmodels.org/dev/examples/notebooks/generated/ols.html\n"
     ]
    }
   ],
   "source": [
    "## Pegando apenas os dados de 1993\n",
    "df_93 = df.loc[df['year'] == 93]\n",
    "\n",
    "# Fazendo a regressão\n",
    "x =  df_93[['exec','unem']]\n",
    "y = df_93['mrdrte']\n",
    "Regressao_Multipla(x,y)"
   ]
  },
  {
   "cell_type": "code",
   "execution_count": 44,
   "metadata": {},
   "outputs": [
    {
     "output_type": "execute_result",
     "data": {
      "text/plain": [
       "Text(0.5, 1.0, 'Distribuição do número de execuções entre 1990 e 1993')"
      ]
     },
     "metadata": {},
     "execution_count": 44
    },
    {
     "output_type": "display_data",
     "data": {
      "text/plain": "<Figure size 720x360 with 1 Axes>",
      "image/svg+xml": "<?xml version=\"1.0\" encoding=\"utf-8\" standalone=\"no\"?>\n<!DOCTYPE svg PUBLIC \"-//W3C//DTD SVG 1.1//EN\"\n  \"http://www.w3.org/Graphics/SVG/1.1/DTD/svg11.dtd\">\n<!-- Created with matplotlib (https://matplotlib.org/) -->\n<svg height=\"331.9725pt\" version=\"1.1\" viewBox=\"0 0 605.803125 331.9725\" width=\"605.803125pt\" xmlns=\"http://www.w3.org/2000/svg\" xmlns:xlink=\"http://www.w3.org/1999/xlink\">\n <defs>\n  <style type=\"text/css\">\n*{stroke-linecap:butt;stroke-linejoin:round;}\n  </style>\n </defs>\n <g id=\"figure_1\">\n  <g id=\"patch_1\">\n   <path d=\"M 0 331.9725 \nL 605.803125 331.9725 \nL 605.803125 0 \nL 0 0 \nz\n\" style=\"fill:none;\"/>\n  </g>\n  <g id=\"axes_1\">\n   <g id=\"patch_2\">\n    <path d=\"M 40.603125 294.41625 \nL 598.603125 294.41625 \nL 598.603125 22.61625 \nL 40.603125 22.61625 \nz\n\" style=\"fill:#ffffff;\"/>\n   </g>\n   <g id=\"patch_3\">\n    <path clip-path=\"url(#p37cc060700)\" d=\"M 44.090625 294.41625 \nL 71.990625 294.41625 \nL 71.990625 35.559107 \nL 44.090625 35.559107 \nz\n\" style=\"fill:#353d42;\"/>\n   </g>\n   <g id=\"patch_4\">\n    <path clip-path=\"url(#p37cc060700)\" d=\"M 78.965625 294.41625 \nL 106.865625 294.41625 \nL 106.865625 210.668351 \nL 78.965625 210.668351 \nz\n\" style=\"fill:#384650;\"/>\n   </g>\n   <g id=\"patch_5\">\n    <path clip-path=\"url(#p37cc060700)\" d=\"M 113.840625 294.41625 \nL 141.740625 294.41625 \nL 141.740625 241.122132 \nL 113.840625 241.122132 \nz\n\" style=\"fill:#3a505f;\"/>\n   </g>\n   <g id=\"patch_6\">\n    <path clip-path=\"url(#p37cc060700)\" d=\"M 148.715625 294.41625 \nL 176.615625 294.41625 \nL 176.615625 248.735578 \nL 148.715625 248.735578 \nz\n\" style=\"fill:#3d596d;\"/>\n   </g>\n   <g id=\"patch_7\">\n    <path clip-path=\"url(#p37cc060700)\" d=\"M 183.590625 294.41625 \nL 211.490625 294.41625 \nL 211.490625 271.575914 \nL 183.590625 271.575914 \nz\n\" style=\"fill:#3f637c;\"/>\n   </g>\n   <g id=\"patch_8\">\n    <path clip-path=\"url(#p37cc060700)\" d=\"M 218.465625 294.41625 \nL 246.365625 294.41625 \nL 246.365625 271.575914 \nL 218.465625 271.575914 \nz\n\" style=\"fill:#426c8b;\"/>\n   </g>\n   <g id=\"patch_9\">\n    <path clip-path=\"url(#p37cc060700)\" d=\"M 253.340625 294.41625 \nL 281.240625 294.41625 \nL 281.240625 279.189359 \nL 253.340625 279.189359 \nz\n\" style=\"fill:#447699;\"/>\n   </g>\n   <g id=\"patch_10\">\n    <path clip-path=\"url(#p37cc060700)\" d=\"M 288.215625 294.41625 \nL 316.115625 294.41625 \nL 316.115625 279.189359 \nL 288.215625 279.189359 \nz\n\" style=\"fill:#477fa8;\"/>\n   </g>\n   <g id=\"patch_11\">\n    <path clip-path=\"url(#p37cc060700)\" d=\"M 323.090625 294.41625 \nL 350.990625 294.41625 \nL 350.990625 279.189359 \nL 323.090625 279.189359 \nz\n\" style=\"fill:#4e89b2;\"/>\n   </g>\n   <g id=\"patch_12\">\n    <path clip-path=\"url(#p37cc060700)\" d=\"M 357.965625 294.41625 \nL 385.865625 294.41625 \nL 385.865625 279.189359 \nL 357.965625 279.189359 \nz\n\" style=\"fill:#5b91b7;\"/>\n   </g>\n   <g id=\"patch_13\">\n    <path clip-path=\"url(#p37cc060700)\" d=\"M 392.840625 294.41625 \nL 420.740625 294.41625 \nL 420.740625 279.189359 \nL 392.840625 279.189359 \nz\n\" style=\"fill:#679abd;\"/>\n   </g>\n   <g id=\"patch_14\">\n    <path clip-path=\"url(#p37cc060700)\" d=\"M 427.715625 294.41625 \nL 455.615625 294.41625 \nL 455.615625 279.189359 \nL 427.715625 279.189359 \nz\n\" style=\"fill:#74a3c3;\"/>\n   </g>\n   <g id=\"patch_15\">\n    <path clip-path=\"url(#p37cc060700)\" d=\"M 462.590625 294.41625 \nL 490.490625 294.41625 \nL 490.490625 286.802805 \nL 462.590625 286.802805 \nz\n\" style=\"fill:#81abc8;\"/>\n   </g>\n   <g id=\"patch_16\">\n    <path clip-path=\"url(#p37cc060700)\" d=\"M 497.465625 294.41625 \nL 525.365625 294.41625 \nL 525.365625 286.802805 \nL 497.465625 286.802805 \nz\n\" style=\"fill:#8db4ce;\"/>\n   </g>\n   <g id=\"patch_17\">\n    <path clip-path=\"url(#p37cc060700)\" d=\"M 532.340625 294.41625 \nL 560.240625 294.41625 \nL 560.240625 286.802805 \nL 532.340625 286.802805 \nz\n\" style=\"fill:#9abdd3;\"/>\n   </g>\n   <g id=\"patch_18\">\n    <path clip-path=\"url(#p37cc060700)\" d=\"M 567.215625 294.41625 \nL 595.115625 294.41625 \nL 595.115625 286.802805 \nL 567.215625 286.802805 \nz\n\" style=\"fill:#a6c5d9;\"/>\n   </g>\n   <g id=\"matplotlib.axis_1\">\n    <g id=\"xtick_1\">\n     <g id=\"line2d_1\">\n      <defs>\n       <path d=\"M 0 0 \nL 0 3.5 \n\" id=\"ma34cbf3f5b\" style=\"stroke:#000000;stroke-width:0.8;\"/>\n      </defs>\n      <g>\n       <use style=\"stroke:#000000;stroke-width:0.8;\" x=\"58.040625\" xlink:href=\"#ma34cbf3f5b\" y=\"294.41625\"/>\n      </g>\n     </g>\n     <g id=\"text_1\">\n      <!-- TX -->\n      <defs>\n       <path d=\"M -0.296875 72.90625 \nL 61.375 72.90625 \nL 61.375 64.59375 \nL 35.5 64.59375 \nL 35.5 0 \nL 25.59375 0 \nL 25.59375 64.59375 \nL -0.296875 64.59375 \nz\n\" id=\"DejaVuSans-84\"/>\n       <path d=\"M 6.296875 72.90625 \nL 16.890625 72.90625 \nL 35.015625 45.796875 \nL 53.21875 72.90625 \nL 63.8125 72.90625 \nL 40.375 37.890625 \nL 65.375 0 \nL 54.78125 0 \nL 34.28125 31 \nL 13.625 0 \nL 2.984375 0 \nL 29 38.921875 \nz\n\" id=\"DejaVuSans-88\"/>\n      </defs>\n      <g transform=\"translate(51.561719 309.014687)scale(0.1 -0.1)\">\n       <use xlink:href=\"#DejaVuSans-84\"/>\n       <use x=\"61.083984\" xlink:href=\"#DejaVuSans-88\"/>\n      </g>\n     </g>\n    </g>\n    <g id=\"xtick_2\">\n     <g id=\"line2d_2\">\n      <g>\n       <use style=\"stroke:#000000;stroke-width:0.8;\" x=\"92.915625\" xlink:href=\"#ma34cbf3f5b\" y=\"294.41625\"/>\n      </g>\n     </g>\n     <g id=\"text_2\">\n      <!-- VA -->\n      <defs>\n       <path d=\"M 28.609375 0 \nL 0.78125 72.90625 \nL 11.078125 72.90625 \nL 34.1875 11.53125 \nL 57.328125 72.90625 \nL 67.578125 72.90625 \nL 39.796875 0 \nz\n\" id=\"DejaVuSans-86\"/>\n       <path d=\"M 34.1875 63.1875 \nL 20.796875 26.90625 \nL 47.609375 26.90625 \nz\nM 28.609375 72.90625 \nL 39.796875 72.90625 \nL 67.578125 0 \nL 57.328125 0 \nL 50.6875 18.703125 \nL 17.828125 18.703125 \nL 11.1875 0 \nL 0.78125 0 \nz\n\" id=\"DejaVuSans-65\"/>\n      </defs>\n      <g transform=\"translate(86.079687 309.014687)scale(0.1 -0.1)\">\n       <use xlink:href=\"#DejaVuSans-86\"/>\n       <use x=\"68.314453\" xlink:href=\"#DejaVuSans-65\"/>\n      </g>\n     </g>\n    </g>\n    <g id=\"xtick_3\">\n     <g id=\"line2d_3\">\n      <g>\n       <use style=\"stroke:#000000;stroke-width:0.8;\" x=\"127.790625\" xlink:href=\"#ma34cbf3f5b\" y=\"294.41625\"/>\n      </g>\n     </g>\n     <g id=\"text_3\">\n      <!-- FL -->\n      <defs>\n       <path d=\"M 9.8125 72.90625 \nL 51.703125 72.90625 \nL 51.703125 64.59375 \nL 19.671875 64.59375 \nL 19.671875 43.109375 \nL 48.578125 43.109375 \nL 48.578125 34.8125 \nL 19.671875 34.8125 \nL 19.671875 0 \nL 9.8125 0 \nz\n\" id=\"DejaVuSans-70\"/>\n       <path d=\"M 9.8125 72.90625 \nL 19.671875 72.90625 \nL 19.671875 8.296875 \nL 55.171875 8.296875 \nL 55.171875 0 \nL 9.8125 0 \nz\n\" id=\"DejaVuSans-76\"/>\n      </defs>\n      <g transform=\"translate(122.128906 309.014687)scale(0.1 -0.1)\">\n       <use xlink:href=\"#DejaVuSans-70\"/>\n       <use x=\"57.519531\" xlink:href=\"#DejaVuSans-76\"/>\n      </g>\n     </g>\n    </g>\n    <g id=\"xtick_4\">\n     <g id=\"line2d_4\">\n      <g>\n       <use style=\"stroke:#000000;stroke-width:0.8;\" x=\"162.665625\" xlink:href=\"#ma34cbf3f5b\" y=\"294.41625\"/>\n      </g>\n     </g>\n     <g id=\"text_4\">\n      <!-- MO -->\n      <defs>\n       <path d=\"M 9.8125 72.90625 \nL 24.515625 72.90625 \nL 43.109375 23.296875 \nL 61.8125 72.90625 \nL 76.515625 72.90625 \nL 76.515625 0 \nL 66.890625 0 \nL 66.890625 64.015625 \nL 48.09375 14.015625 \nL 38.1875 14.015625 \nL 19.390625 64.015625 \nL 19.390625 0 \nL 9.8125 0 \nz\n\" id=\"DejaVuSans-77\"/>\n       <path d=\"M 39.40625 66.21875 \nQ 28.65625 66.21875 22.328125 58.203125 \nQ 16.015625 50.203125 16.015625 36.375 \nQ 16.015625 22.609375 22.328125 14.59375 \nQ 28.65625 6.59375 39.40625 6.59375 \nQ 50.140625 6.59375 56.421875 14.59375 \nQ 62.703125 22.609375 62.703125 36.375 \nQ 62.703125 50.203125 56.421875 58.203125 \nQ 50.140625 66.21875 39.40625 66.21875 \nz\nM 39.40625 74.21875 \nQ 54.734375 74.21875 63.90625 63.9375 \nQ 73.09375 53.65625 73.09375 36.375 \nQ 73.09375 19.140625 63.90625 8.859375 \nQ 54.734375 -1.421875 39.40625 -1.421875 \nQ 24.03125 -1.421875 14.8125 8.828125 \nQ 5.609375 19.09375 5.609375 36.375 \nQ 5.609375 53.65625 14.8125 63.9375 \nQ 24.03125 74.21875 39.40625 74.21875 \nz\n\" id=\"DejaVuSans-79\"/>\n      </defs>\n      <g transform=\"translate(154.415625 309.014687)scale(0.1 -0.1)\">\n       <use xlink:href=\"#DejaVuSans-77\"/>\n       <use x=\"86.279297\" xlink:href=\"#DejaVuSans-79\"/>\n      </g>\n     </g>\n    </g>\n    <g id=\"xtick_5\">\n     <g id=\"line2d_5\">\n      <g>\n       <use style=\"stroke:#000000;stroke-width:0.8;\" x=\"197.540625\" xlink:href=\"#ma34cbf3f5b\" y=\"294.41625\"/>\n      </g>\n     </g>\n     <g id=\"text_5\">\n      <!-- AZ -->\n      <defs>\n       <path d=\"M 5.609375 72.90625 \nL 62.890625 72.90625 \nL 62.890625 65.375 \nL 16.796875 8.296875 \nL 64.015625 8.296875 \nL 64.015625 0 \nL 4.5 0 \nL 4.5 7.515625 \nL 50.59375 64.59375 \nL 5.609375 64.59375 \nz\n\" id=\"DejaVuSans-90\"/>\n      </defs>\n      <g transform=\"translate(190.695312 309.014687)scale(0.1 -0.1)\">\n       <use xlink:href=\"#DejaVuSans-65\"/>\n       <use x=\"68.408203\" xlink:href=\"#DejaVuSans-90\"/>\n      </g>\n     </g>\n    </g>\n    <g id=\"xtick_6\">\n     <g id=\"line2d_6\">\n      <g>\n       <use style=\"stroke:#000000;stroke-width:0.8;\" x=\"232.415625\" xlink:href=\"#ma34cbf3f5b\" y=\"294.41625\"/>\n      </g>\n     </g>\n     <g id=\"text_6\">\n      <!-- GA -->\n      <defs>\n       <path d=\"M 59.515625 10.40625 \nL 59.515625 29.984375 \nL 43.40625 29.984375 \nL 43.40625 38.09375 \nL 69.28125 38.09375 \nL 69.28125 6.78125 \nQ 63.578125 2.734375 56.6875 0.65625 \nQ 49.8125 -1.421875 42 -1.421875 \nQ 24.90625 -1.421875 15.25 8.5625 \nQ 5.609375 18.5625 5.609375 36.375 \nQ 5.609375 54.25 15.25 64.234375 \nQ 24.90625 74.21875 42 74.21875 \nQ 49.125 74.21875 55.546875 72.453125 \nQ 61.96875 70.703125 67.390625 67.28125 \nL 67.390625 56.78125 \nQ 61.921875 61.421875 55.765625 63.765625 \nQ 49.609375 66.109375 42.828125 66.109375 \nQ 29.4375 66.109375 22.71875 58.640625 \nQ 16.015625 51.171875 16.015625 36.375 \nQ 16.015625 21.625 22.71875 14.15625 \nQ 29.4375 6.6875 42.828125 6.6875 \nQ 48.046875 6.6875 52.140625 7.59375 \nQ 56.25 8.5 59.515625 10.40625 \nz\n\" id=\"DejaVuSans-71\"/>\n      </defs>\n      <g transform=\"translate(225.121094 309.014687)scale(0.1 -0.1)\">\n       <use xlink:href=\"#DejaVuSans-71\"/>\n       <use x=\"77.490234\" xlink:href=\"#DejaVuSans-65\"/>\n      </g>\n     </g>\n    </g>\n    <g id=\"xtick_7\">\n     <g id=\"line2d_7\">\n      <g>\n       <use style=\"stroke:#000000;stroke-width:0.8;\" x=\"267.290625\" xlink:href=\"#ma34cbf3f5b\" y=\"294.41625\"/>\n      </g>\n     </g>\n     <g id=\"text_7\">\n      <!-- AL -->\n      <g transform=\"translate(261.084375 309.014687)scale(0.1 -0.1)\">\n       <use xlink:href=\"#DejaVuSans-65\"/>\n       <use x=\"68.408203\" xlink:href=\"#DejaVuSans-76\"/>\n      </g>\n     </g>\n    </g>\n    <g id=\"xtick_8\">\n     <g id=\"line2d_8\">\n      <g>\n       <use style=\"stroke:#000000;stroke-width:0.8;\" x=\"302.165625\" xlink:href=\"#ma34cbf3f5b\" y=\"294.41625\"/>\n      </g>\n     </g>\n     <g id=\"text_8\">\n      <!-- AR -->\n      <defs>\n       <path d=\"M 44.390625 34.1875 \nQ 47.5625 33.109375 50.5625 29.59375 \nQ 53.5625 26.078125 56.59375 19.921875 \nL 66.609375 0 \nL 56 0 \nL 46.6875 18.703125 \nQ 43.0625 26.03125 39.671875 28.421875 \nQ 36.28125 30.8125 30.421875 30.8125 \nL 19.671875 30.8125 \nL 19.671875 0 \nL 9.8125 0 \nL 9.8125 72.90625 \nL 32.078125 72.90625 \nQ 44.578125 72.90625 50.734375 67.671875 \nQ 56.890625 62.453125 56.890625 51.90625 \nQ 56.890625 45.015625 53.6875 40.46875 \nQ 50.484375 35.9375 44.390625 34.1875 \nz\nM 19.671875 64.796875 \nL 19.671875 38.921875 \nL 32.078125 38.921875 \nQ 39.203125 38.921875 42.84375 42.21875 \nQ 46.484375 45.515625 46.484375 51.90625 \nQ 46.484375 58.296875 42.84375 61.546875 \nQ 39.203125 64.796875 32.078125 64.796875 \nz\n\" id=\"DejaVuSans-82\"/>\n      </defs>\n      <g transform=\"translate(295.271094 309.014687)scale(0.1 -0.1)\">\n       <use xlink:href=\"#DejaVuSans-65\"/>\n       <use x=\"68.408203\" xlink:href=\"#DejaVuSans-82\"/>\n      </g>\n     </g>\n    </g>\n    <g id=\"xtick_9\">\n     <g id=\"line2d_9\">\n      <g>\n       <use style=\"stroke:#000000;stroke-width:0.8;\" x=\"337.040625\" xlink:href=\"#ma34cbf3f5b\" y=\"294.41625\"/>\n      </g>\n     </g>\n     <g id=\"text_9\">\n      <!-- CA -->\n      <defs>\n       <path d=\"M 64.40625 67.28125 \nL 64.40625 56.890625 \nQ 59.421875 61.53125 53.78125 63.8125 \nQ 48.140625 66.109375 41.796875 66.109375 \nQ 29.296875 66.109375 22.65625 58.46875 \nQ 16.015625 50.828125 16.015625 36.375 \nQ 16.015625 21.96875 22.65625 14.328125 \nQ 29.296875 6.6875 41.796875 6.6875 \nQ 48.140625 6.6875 53.78125 8.984375 \nQ 59.421875 11.28125 64.40625 15.921875 \nL 64.40625 5.609375 \nQ 59.234375 2.09375 53.4375 0.328125 \nQ 47.65625 -1.421875 41.21875 -1.421875 \nQ 24.65625 -1.421875 15.125 8.703125 \nQ 5.609375 18.84375 5.609375 36.375 \nQ 5.609375 53.953125 15.125 64.078125 \nQ 24.65625 74.21875 41.21875 74.21875 \nQ 47.75 74.21875 53.53125 72.484375 \nQ 59.328125 70.75 64.40625 67.28125 \nz\n\" id=\"DejaVuSans-67\"/>\n      </defs>\n      <g transform=\"translate(330.128906 309.014687)scale(0.1 -0.1)\">\n       <use xlink:href=\"#DejaVuSans-67\"/>\n       <use x=\"69.824219\" xlink:href=\"#DejaVuSans-65\"/>\n      </g>\n     </g>\n    </g>\n    <g id=\"xtick_10\">\n     <g id=\"line2d_10\">\n      <g>\n       <use style=\"stroke:#000000;stroke-width:0.8;\" x=\"371.915625\" xlink:href=\"#ma34cbf3f5b\" y=\"294.41625\"/>\n      </g>\n     </g>\n     <g id=\"text_10\">\n      <!-- LA -->\n      <g transform=\"translate(365.707812 309.014687)scale(0.1 -0.1)\">\n       <use xlink:href=\"#DejaVuSans-76\"/>\n       <use x=\"55.744141\" xlink:href=\"#DejaVuSans-65\"/>\n      </g>\n     </g>\n    </g>\n    <g id=\"xtick_11\">\n     <g id=\"line2d_11\">\n      <g>\n       <use style=\"stroke:#000000;stroke-width:0.8;\" x=\"406.790625\" xlink:href=\"#ma34cbf3f5b\" y=\"294.41625\"/>\n      </g>\n     </g>\n     <g id=\"text_11\">\n      <!-- NC -->\n      <defs>\n       <path d=\"M 9.8125 72.90625 \nL 23.09375 72.90625 \nL 55.421875 11.921875 \nL 55.421875 72.90625 \nL 64.984375 72.90625 \nL 64.984375 0 \nL 51.703125 0 \nL 19.390625 60.984375 \nL 19.390625 0 \nL 9.8125 0 \nz\n\" id=\"DejaVuSans-78\"/>\n      </defs>\n      <g transform=\"translate(399.558594 309.014687)scale(0.1 -0.1)\">\n       <use xlink:href=\"#DejaVuSans-78\"/>\n       <use x=\"74.804688\" xlink:href=\"#DejaVuSans-67\"/>\n      </g>\n     </g>\n    </g>\n    <g id=\"xtick_12\">\n     <g id=\"line2d_12\">\n      <g>\n       <use style=\"stroke:#000000;stroke-width:0.8;\" x=\"441.665625\" xlink:href=\"#ma34cbf3f5b\" y=\"294.41625\"/>\n      </g>\n     </g>\n     <g id=\"text_12\">\n      <!-- OK -->\n      <defs>\n       <path d=\"M 9.8125 72.90625 \nL 19.671875 72.90625 \nL 19.671875 42.09375 \nL 52.390625 72.90625 \nL 65.09375 72.90625 \nL 28.90625 38.921875 \nL 67.671875 0 \nL 54.6875 0 \nL 19.671875 35.109375 \nL 19.671875 0 \nL 9.8125 0 \nz\n\" id=\"DejaVuSans-75\"/>\n      </defs>\n      <g transform=\"translate(434.450781 309.014687)scale(0.1 -0.1)\">\n       <use xlink:href=\"#DejaVuSans-79\"/>\n       <use x=\"78.710938\" xlink:href=\"#DejaVuSans-75\"/>\n      </g>\n     </g>\n    </g>\n    <g id=\"xtick_13\">\n     <g id=\"line2d_13\">\n      <g>\n       <use style=\"stroke:#000000;stroke-width:0.8;\" x=\"476.540625\" xlink:href=\"#ma34cbf3f5b\" y=\"294.41625\"/>\n      </g>\n     </g>\n     <g id=\"text_13\">\n      <!-- SC -->\n      <defs>\n       <path d=\"M 53.515625 70.515625 \nL 53.515625 60.890625 \nQ 47.90625 63.578125 42.921875 64.890625 \nQ 37.9375 66.21875 33.296875 66.21875 \nQ 25.25 66.21875 20.875 63.09375 \nQ 16.5 59.96875 16.5 54.203125 \nQ 16.5 49.359375 19.40625 46.890625 \nQ 22.3125 44.4375 30.421875 42.921875 \nL 36.375 41.703125 \nQ 47.40625 39.59375 52.65625 34.296875 \nQ 57.90625 29 57.90625 20.125 \nQ 57.90625 9.515625 50.796875 4.046875 \nQ 43.703125 -1.421875 29.984375 -1.421875 \nQ 24.8125 -1.421875 18.96875 -0.25 \nQ 13.140625 0.921875 6.890625 3.21875 \nL 6.890625 13.375 \nQ 12.890625 10.015625 18.65625 8.296875 \nQ 24.421875 6.59375 29.984375 6.59375 \nQ 38.421875 6.59375 43.015625 9.90625 \nQ 47.609375 13.234375 47.609375 19.390625 \nQ 47.609375 24.75 44.3125 27.78125 \nQ 41.015625 30.8125 33.5 32.328125 \nL 27.484375 33.5 \nQ 16.453125 35.6875 11.515625 40.375 \nQ 6.59375 45.0625 6.59375 53.421875 \nQ 6.59375 63.09375 13.40625 68.65625 \nQ 20.21875 74.21875 32.171875 74.21875 \nQ 37.3125 74.21875 42.625 73.28125 \nQ 47.953125 72.359375 53.515625 70.515625 \nz\n\" id=\"DejaVuSans-83\"/>\n      </defs>\n      <g transform=\"translate(469.875 309.014687)scale(0.1 -0.1)\">\n       <use xlink:href=\"#DejaVuSans-83\"/>\n       <use x=\"63.476562\" xlink:href=\"#DejaVuSans-67\"/>\n      </g>\n     </g>\n    </g>\n    <g id=\"xtick_14\">\n     <g id=\"line2d_14\">\n      <g>\n       <use style=\"stroke:#000000;stroke-width:0.8;\" x=\"511.415625\" xlink:href=\"#ma34cbf3f5b\" y=\"294.41625\"/>\n      </g>\n     </g>\n     <g id=\"text_14\">\n      <!-- UT -->\n      <defs>\n       <path d=\"M 8.6875 72.90625 \nL 18.609375 72.90625 \nL 18.609375 28.609375 \nQ 18.609375 16.890625 22.84375 11.734375 \nQ 27.09375 6.59375 36.625 6.59375 \nQ 46.09375 6.59375 50.34375 11.734375 \nQ 54.59375 16.890625 54.59375 28.609375 \nL 54.59375 72.90625 \nL 64.5 72.90625 \nL 64.5 27.390625 \nQ 64.5 13.140625 57.4375 5.859375 \nQ 50.390625 -1.421875 36.625 -1.421875 \nQ 22.796875 -1.421875 15.734375 5.859375 \nQ 8.6875 13.140625 8.6875 27.390625 \nz\n\" id=\"DejaVuSans-85\"/>\n      </defs>\n      <g transform=\"translate(504.702344 309.014687)scale(0.1 -0.1)\">\n       <use xlink:href=\"#DejaVuSans-85\"/>\n       <use x=\"73.193359\" xlink:href=\"#DejaVuSans-84\"/>\n      </g>\n     </g>\n    </g>\n    <g id=\"xtick_15\">\n     <g id=\"line2d_15\">\n      <g>\n       <use style=\"stroke:#000000;stroke-width:0.8;\" x=\"546.290625\" xlink:href=\"#ma34cbf3f5b\" y=\"294.41625\"/>\n      </g>\n     </g>\n     <g id=\"text_15\">\n      <!-- WA -->\n      <defs>\n       <path d=\"M 3.328125 72.90625 \nL 13.28125 72.90625 \nL 28.609375 11.28125 \nL 43.890625 72.90625 \nL 54.984375 72.90625 \nL 70.3125 11.28125 \nL 85.59375 72.90625 \nL 95.609375 72.90625 \nL 77.296875 0 \nL 64.890625 0 \nL 49.515625 63.28125 \nL 33.984375 0 \nL 21.578125 0 \nz\n\" id=\"DejaVuSans-87\"/>\n      </defs>\n      <g transform=\"translate(537.930469 309.014687)scale(0.1 -0.1)\">\n       <use xlink:href=\"#DejaVuSans-87\"/>\n       <use x=\"98.798828\" xlink:href=\"#DejaVuSans-65\"/>\n      </g>\n     </g>\n    </g>\n    <g id=\"xtick_16\">\n     <g id=\"line2d_16\">\n      <g>\n       <use style=\"stroke:#000000;stroke-width:0.8;\" x=\"581.165625\" xlink:href=\"#ma34cbf3f5b\" y=\"294.41625\"/>\n      </g>\n     </g>\n     <g id=\"text_16\">\n      <!-- WY -->\n      <defs>\n       <path d=\"M -0.203125 72.90625 \nL 10.40625 72.90625 \nL 30.609375 42.921875 \nL 50.6875 72.90625 \nL 61.28125 72.90625 \nL 35.5 34.71875 \nL 35.5 0 \nL 25.59375 0 \nL 25.59375 34.71875 \nz\n\" id=\"DejaVuSans-89\"/>\n      </defs>\n      <g transform=\"translate(573.167969 309.014687)scale(0.1 -0.1)\">\n       <use xlink:href=\"#DejaVuSans-87\"/>\n       <use x=\"98.876953\" xlink:href=\"#DejaVuSans-89\"/>\n      </g>\n     </g>\n    </g>\n    <g id=\"text_17\">\n     <!-- state -->\n     <defs>\n      <path d=\"M 44.28125 53.078125 \nL 44.28125 44.578125 \nQ 40.484375 46.53125 36.375 47.5 \nQ 32.28125 48.484375 27.875 48.484375 \nQ 21.1875 48.484375 17.84375 46.4375 \nQ 14.5 44.390625 14.5 40.28125 \nQ 14.5 37.15625 16.890625 35.375 \nQ 19.28125 33.59375 26.515625 31.984375 \nL 29.59375 31.296875 \nQ 39.15625 29.25 43.1875 25.515625 \nQ 47.21875 21.78125 47.21875 15.09375 \nQ 47.21875 7.46875 41.1875 3.015625 \nQ 35.15625 -1.421875 24.609375 -1.421875 \nQ 20.21875 -1.421875 15.453125 -0.5625 \nQ 10.6875 0.296875 5.421875 2 \nL 5.421875 11.28125 \nQ 10.40625 8.6875 15.234375 7.390625 \nQ 20.0625 6.109375 24.8125 6.109375 \nQ 31.15625 6.109375 34.5625 8.28125 \nQ 37.984375 10.453125 37.984375 14.40625 \nQ 37.984375 18.0625 35.515625 20.015625 \nQ 33.0625 21.96875 24.703125 23.78125 \nL 21.578125 24.515625 \nQ 13.234375 26.265625 9.515625 29.90625 \nQ 5.8125 33.546875 5.8125 39.890625 \nQ 5.8125 47.609375 11.28125 51.796875 \nQ 16.75 56 26.8125 56 \nQ 31.78125 56 36.171875 55.265625 \nQ 40.578125 54.546875 44.28125 53.078125 \nz\n\" id=\"DejaVuSans-115\"/>\n      <path d=\"M 18.3125 70.21875 \nL 18.3125 54.6875 \nL 36.8125 54.6875 \nL 36.8125 47.703125 \nL 18.3125 47.703125 \nL 18.3125 18.015625 \nQ 18.3125 11.328125 20.140625 9.421875 \nQ 21.96875 7.515625 27.59375 7.515625 \nL 36.8125 7.515625 \nL 36.8125 0 \nL 27.59375 0 \nQ 17.1875 0 13.234375 3.875 \nQ 9.28125 7.765625 9.28125 18.015625 \nL 9.28125 47.703125 \nL 2.6875 47.703125 \nL 2.6875 54.6875 \nL 9.28125 54.6875 \nL 9.28125 70.21875 \nz\n\" id=\"DejaVuSans-116\"/>\n      <path d=\"M 34.28125 27.484375 \nQ 23.390625 27.484375 19.1875 25 \nQ 14.984375 22.515625 14.984375 16.5 \nQ 14.984375 11.71875 18.140625 8.90625 \nQ 21.296875 6.109375 26.703125 6.109375 \nQ 34.1875 6.109375 38.703125 11.40625 \nQ 43.21875 16.703125 43.21875 25.484375 \nL 43.21875 27.484375 \nz\nM 52.203125 31.203125 \nL 52.203125 0 \nL 43.21875 0 \nL 43.21875 8.296875 \nQ 40.140625 3.328125 35.546875 0.953125 \nQ 30.953125 -1.421875 24.3125 -1.421875 \nQ 15.921875 -1.421875 10.953125 3.296875 \nQ 6 8.015625 6 15.921875 \nQ 6 25.140625 12.171875 29.828125 \nQ 18.359375 34.515625 30.609375 34.515625 \nL 43.21875 34.515625 \nL 43.21875 35.40625 \nQ 43.21875 41.609375 39.140625 45 \nQ 35.0625 48.390625 27.6875 48.390625 \nQ 23 48.390625 18.546875 47.265625 \nQ 14.109375 46.140625 10.015625 43.890625 \nL 10.015625 52.203125 \nQ 14.9375 54.109375 19.578125 55.046875 \nQ 24.21875 56 28.609375 56 \nQ 40.484375 56 46.34375 49.84375 \nQ 52.203125 43.703125 52.203125 31.203125 \nz\n\" id=\"DejaVuSans-97\"/>\n      <path d=\"M 56.203125 29.59375 \nL 56.203125 25.203125 \nL 14.890625 25.203125 \nQ 15.484375 15.921875 20.484375 11.0625 \nQ 25.484375 6.203125 34.421875 6.203125 \nQ 39.59375 6.203125 44.453125 7.46875 \nQ 49.3125 8.734375 54.109375 11.28125 \nL 54.109375 2.78125 \nQ 49.265625 0.734375 44.1875 -0.34375 \nQ 39.109375 -1.421875 33.890625 -1.421875 \nQ 20.796875 -1.421875 13.15625 6.1875 \nQ 5.515625 13.8125 5.515625 26.8125 \nQ 5.515625 40.234375 12.765625 48.109375 \nQ 20.015625 56 32.328125 56 \nQ 43.359375 56 49.78125 48.890625 \nQ 56.203125 41.796875 56.203125 29.59375 \nz\nM 47.21875 32.234375 \nQ 47.125 39.59375 43.09375 43.984375 \nQ 39.0625 48.390625 32.421875 48.390625 \nQ 24.90625 48.390625 20.390625 44.140625 \nQ 15.875 39.890625 15.1875 32.171875 \nz\n\" id=\"DejaVuSans-101\"/>\n     </defs>\n     <g transform=\"translate(306.9375 322.692812)scale(0.1 -0.1)\">\n      <use xlink:href=\"#DejaVuSans-115\"/>\n      <use x=\"52.099609\" xlink:href=\"#DejaVuSans-116\"/>\n      <use x=\"91.308594\" xlink:href=\"#DejaVuSans-97\"/>\n      <use x=\"152.587891\" xlink:href=\"#DejaVuSans-116\"/>\n      <use x=\"191.796875\" xlink:href=\"#DejaVuSans-101\"/>\n     </g>\n    </g>\n   </g>\n   <g id=\"matplotlib.axis_2\">\n    <g id=\"ytick_1\">\n     <g id=\"line2d_17\">\n      <defs>\n       <path d=\"M 0 0 \nL -3.5 0 \n\" id=\"me875fae476\" style=\"stroke:#000000;stroke-width:0.8;\"/>\n      </defs>\n      <g>\n       <use style=\"stroke:#000000;stroke-width:0.8;\" x=\"40.603125\" xlink:href=\"#me875fae476\" y=\"294.41625\"/>\n      </g>\n     </g>\n     <g id=\"text_18\">\n      <!-- 0 -->\n      <defs>\n       <path d=\"M 31.78125 66.40625 \nQ 24.171875 66.40625 20.328125 58.90625 \nQ 16.5 51.421875 16.5 36.375 \nQ 16.5 21.390625 20.328125 13.890625 \nQ 24.171875 6.390625 31.78125 6.390625 \nQ 39.453125 6.390625 43.28125 13.890625 \nQ 47.125 21.390625 47.125 36.375 \nQ 47.125 51.421875 43.28125 58.90625 \nQ 39.453125 66.40625 31.78125 66.40625 \nz\nM 31.78125 74.21875 \nQ 44.046875 74.21875 50.515625 64.515625 \nQ 56.984375 54.828125 56.984375 36.375 \nQ 56.984375 17.96875 50.515625 8.265625 \nQ 44.046875 -1.421875 31.78125 -1.421875 \nQ 19.53125 -1.421875 13.0625 8.265625 \nQ 6.59375 17.96875 6.59375 36.375 \nQ 6.59375 54.828125 13.0625 64.515625 \nQ 19.53125 74.21875 31.78125 74.21875 \nz\n\" id=\"DejaVuSans-48\"/>\n      </defs>\n      <g transform=\"translate(27.240625 298.215469)scale(0.1 -0.1)\">\n       <use xlink:href=\"#DejaVuSans-48\"/>\n      </g>\n     </g>\n    </g>\n    <g id=\"ytick_2\">\n     <g id=\"line2d_18\">\n      <g>\n       <use style=\"stroke:#000000;stroke-width:0.8;\" x=\"40.603125\" xlink:href=\"#me875fae476\" y=\"256.349023\"/>\n      </g>\n     </g>\n     <g id=\"text_19\">\n      <!-- 5 -->\n      <defs>\n       <path d=\"M 10.796875 72.90625 \nL 49.515625 72.90625 \nL 49.515625 64.59375 \nL 19.828125 64.59375 \nL 19.828125 46.734375 \nQ 21.96875 47.46875 24.109375 47.828125 \nQ 26.265625 48.1875 28.421875 48.1875 \nQ 40.625 48.1875 47.75 41.5 \nQ 54.890625 34.8125 54.890625 23.390625 \nQ 54.890625 11.625 47.5625 5.09375 \nQ 40.234375 -1.421875 26.90625 -1.421875 \nQ 22.3125 -1.421875 17.546875 -0.640625 \nQ 12.796875 0.140625 7.71875 1.703125 \nL 7.71875 11.625 \nQ 12.109375 9.234375 16.796875 8.0625 \nQ 21.484375 6.890625 26.703125 6.890625 \nQ 35.15625 6.890625 40.078125 11.328125 \nQ 45.015625 15.765625 45.015625 23.390625 \nQ 45.015625 31 40.078125 35.4375 \nQ 35.15625 39.890625 26.703125 39.890625 \nQ 22.75 39.890625 18.8125 39.015625 \nQ 14.890625 38.140625 10.796875 36.28125 \nz\n\" id=\"DejaVuSans-53\"/>\n      </defs>\n      <g transform=\"translate(27.240625 260.148242)scale(0.1 -0.1)\">\n       <use xlink:href=\"#DejaVuSans-53\"/>\n      </g>\n     </g>\n    </g>\n    <g id=\"ytick_3\">\n     <g id=\"line2d_19\">\n      <g>\n       <use style=\"stroke:#000000;stroke-width:0.8;\" x=\"40.603125\" xlink:href=\"#me875fae476\" y=\"218.281796\"/>\n      </g>\n     </g>\n     <g id=\"text_20\">\n      <!-- 10 -->\n      <defs>\n       <path d=\"M 12.40625 8.296875 \nL 28.515625 8.296875 \nL 28.515625 63.921875 \nL 10.984375 60.40625 \nL 10.984375 69.390625 \nL 28.421875 72.90625 \nL 38.28125 72.90625 \nL 38.28125 8.296875 \nL 54.390625 8.296875 \nL 54.390625 0 \nL 12.40625 0 \nz\n\" id=\"DejaVuSans-49\"/>\n      </defs>\n      <g transform=\"translate(20.878125 222.081015)scale(0.1 -0.1)\">\n       <use xlink:href=\"#DejaVuSans-49\"/>\n       <use x=\"63.623047\" xlink:href=\"#DejaVuSans-48\"/>\n      </g>\n     </g>\n    </g>\n    <g id=\"ytick_4\">\n     <g id=\"line2d_20\">\n      <g>\n       <use style=\"stroke:#000000;stroke-width:0.8;\" x=\"40.603125\" xlink:href=\"#me875fae476\" y=\"180.214569\"/>\n      </g>\n     </g>\n     <g id=\"text_21\">\n      <!-- 15 -->\n      <g transform=\"translate(20.878125 184.013788)scale(0.1 -0.1)\">\n       <use xlink:href=\"#DejaVuSans-49\"/>\n       <use x=\"63.623047\" xlink:href=\"#DejaVuSans-53\"/>\n      </g>\n     </g>\n    </g>\n    <g id=\"ytick_5\">\n     <g id=\"line2d_21\">\n      <g>\n       <use style=\"stroke:#000000;stroke-width:0.8;\" x=\"40.603125\" xlink:href=\"#me875fae476\" y=\"142.147342\"/>\n      </g>\n     </g>\n     <g id=\"text_22\">\n      <!-- 20 -->\n      <defs>\n       <path d=\"M 19.1875 8.296875 \nL 53.609375 8.296875 \nL 53.609375 0 \nL 7.328125 0 \nL 7.328125 8.296875 \nQ 12.9375 14.109375 22.625 23.890625 \nQ 32.328125 33.6875 34.8125 36.53125 \nQ 39.546875 41.84375 41.421875 45.53125 \nQ 43.3125 49.21875 43.3125 52.78125 \nQ 43.3125 58.59375 39.234375 62.25 \nQ 35.15625 65.921875 28.609375 65.921875 \nQ 23.96875 65.921875 18.8125 64.3125 \nQ 13.671875 62.703125 7.8125 59.421875 \nL 7.8125 69.390625 \nQ 13.765625 71.78125 18.9375 73 \nQ 24.125 74.21875 28.421875 74.21875 \nQ 39.75 74.21875 46.484375 68.546875 \nQ 53.21875 62.890625 53.21875 53.421875 \nQ 53.21875 48.921875 51.53125 44.890625 \nQ 49.859375 40.875 45.40625 35.40625 \nQ 44.1875 33.984375 37.640625 27.21875 \nQ 31.109375 20.453125 19.1875 8.296875 \nz\n\" id=\"DejaVuSans-50\"/>\n      </defs>\n      <g transform=\"translate(20.878125 145.946561)scale(0.1 -0.1)\">\n       <use xlink:href=\"#DejaVuSans-50\"/>\n       <use x=\"63.623047\" xlink:href=\"#DejaVuSans-48\"/>\n      </g>\n     </g>\n    </g>\n    <g id=\"ytick_6\">\n     <g id=\"line2d_22\">\n      <g>\n       <use style=\"stroke:#000000;stroke-width:0.8;\" x=\"40.603125\" xlink:href=\"#me875fae476\" y=\"104.080116\"/>\n      </g>\n     </g>\n     <g id=\"text_23\">\n      <!-- 25 -->\n      <g transform=\"translate(20.878125 107.879334)scale(0.1 -0.1)\">\n       <use xlink:href=\"#DejaVuSans-50\"/>\n       <use x=\"63.623047\" xlink:href=\"#DejaVuSans-53\"/>\n      </g>\n     </g>\n    </g>\n    <g id=\"ytick_7\">\n     <g id=\"line2d_23\">\n      <g>\n       <use style=\"stroke:#000000;stroke-width:0.8;\" x=\"40.603125\" xlink:href=\"#me875fae476\" y=\"66.012889\"/>\n      </g>\n     </g>\n     <g id=\"text_24\">\n      <!-- 30 -->\n      <defs>\n       <path d=\"M 40.578125 39.3125 \nQ 47.65625 37.796875 51.625 33 \nQ 55.609375 28.21875 55.609375 21.1875 \nQ 55.609375 10.40625 48.1875 4.484375 \nQ 40.765625 -1.421875 27.09375 -1.421875 \nQ 22.515625 -1.421875 17.65625 -0.515625 \nQ 12.796875 0.390625 7.625 2.203125 \nL 7.625 11.71875 \nQ 11.71875 9.328125 16.59375 8.109375 \nQ 21.484375 6.890625 26.8125 6.890625 \nQ 36.078125 6.890625 40.9375 10.546875 \nQ 45.796875 14.203125 45.796875 21.1875 \nQ 45.796875 27.640625 41.28125 31.265625 \nQ 36.765625 34.90625 28.71875 34.90625 \nL 20.21875 34.90625 \nL 20.21875 43.015625 \nL 29.109375 43.015625 \nQ 36.375 43.015625 40.234375 45.921875 \nQ 44.09375 48.828125 44.09375 54.296875 \nQ 44.09375 59.90625 40.109375 62.90625 \nQ 36.140625 65.921875 28.71875 65.921875 \nQ 24.65625 65.921875 20.015625 65.03125 \nQ 15.375 64.15625 9.8125 62.3125 \nL 9.8125 71.09375 \nQ 15.4375 72.65625 20.34375 73.4375 \nQ 25.25 74.21875 29.59375 74.21875 \nQ 40.828125 74.21875 47.359375 69.109375 \nQ 53.90625 64.015625 53.90625 55.328125 \nQ 53.90625 49.265625 50.4375 45.09375 \nQ 46.96875 40.921875 40.578125 39.3125 \nz\n\" id=\"DejaVuSans-51\"/>\n      </defs>\n      <g transform=\"translate(20.878125 69.812107)scale(0.1 -0.1)\">\n       <use xlink:href=\"#DejaVuSans-51\"/>\n       <use x=\"63.623047\" xlink:href=\"#DejaVuSans-48\"/>\n      </g>\n     </g>\n    </g>\n    <g id=\"ytick_8\">\n     <g id=\"line2d_24\">\n      <g>\n       <use style=\"stroke:#000000;stroke-width:0.8;\" x=\"40.603125\" xlink:href=\"#me875fae476\" y=\"27.945662\"/>\n      </g>\n     </g>\n     <g id=\"text_25\">\n      <!-- 35 -->\n      <g transform=\"translate(20.878125 31.744881)scale(0.1 -0.1)\">\n       <use xlink:href=\"#DejaVuSans-51\"/>\n       <use x=\"63.623047\" xlink:href=\"#DejaVuSans-53\"/>\n      </g>\n     </g>\n    </g>\n    <g id=\"text_26\">\n     <!-- exec -->\n     <defs>\n      <path d=\"M 54.890625 54.6875 \nL 35.109375 28.078125 \nL 55.90625 0 \nL 45.3125 0 \nL 29.390625 21.484375 \nL 13.484375 0 \nL 2.875 0 \nL 24.125 28.609375 \nL 4.6875 54.6875 \nL 15.28125 54.6875 \nL 29.78125 35.203125 \nL 44.28125 54.6875 \nz\n\" id=\"DejaVuSans-120\"/>\n      <path d=\"M 48.78125 52.59375 \nL 48.78125 44.1875 \nQ 44.96875 46.296875 41.140625 47.34375 \nQ 37.3125 48.390625 33.40625 48.390625 \nQ 24.65625 48.390625 19.8125 42.84375 \nQ 14.984375 37.3125 14.984375 27.296875 \nQ 14.984375 17.28125 19.8125 11.734375 \nQ 24.65625 6.203125 33.40625 6.203125 \nQ 37.3125 6.203125 41.140625 7.25 \nQ 44.96875 8.296875 48.78125 10.40625 \nL 48.78125 2.09375 \nQ 45.015625 0.34375 40.984375 -0.53125 \nQ 36.96875 -1.421875 32.421875 -1.421875 \nQ 20.0625 -1.421875 12.78125 6.34375 \nQ 5.515625 14.109375 5.515625 27.296875 \nQ 5.515625 40.671875 12.859375 48.328125 \nQ 20.21875 56 33.015625 56 \nQ 37.15625 56 41.109375 55.140625 \nQ 45.0625 54.296875 48.78125 52.59375 \nz\n\" id=\"DejaVuSans-99\"/>\n     </defs>\n     <g transform=\"translate(14.798437 170.374844)rotate(-90)scale(0.1 -0.1)\">\n      <use xlink:href=\"#DejaVuSans-101\"/>\n      <use x=\"61.507812\" xlink:href=\"#DejaVuSans-120\"/>\n      <use x=\"120.640625\" xlink:href=\"#DejaVuSans-101\"/>\n      <use x=\"182.164062\" xlink:href=\"#DejaVuSans-99\"/>\n     </g>\n    </g>\n   </g>\n   <g id=\"line2d_25\">\n    <path clip-path=\"url(#p37cc060700)\" d=\"M 0 0 \n\" style=\"fill:none;stroke:#424242;stroke-linecap:square;stroke-width:2.7;\"/>\n   </g>\n   <g id=\"line2d_26\">\n    <path clip-path=\"url(#p37cc060700)\" d=\"M 0 0 \n\" style=\"fill:none;stroke:#424242;stroke-linecap:square;stroke-width:2.7;\"/>\n   </g>\n   <g id=\"line2d_27\">\n    <path clip-path=\"url(#p37cc060700)\" d=\"M 0 0 \n\" style=\"fill:none;stroke:#424242;stroke-linecap:square;stroke-width:2.7;\"/>\n   </g>\n   <g id=\"line2d_28\">\n    <path clip-path=\"url(#p37cc060700)\" d=\"M 0 0 \n\" style=\"fill:none;stroke:#424242;stroke-linecap:square;stroke-width:2.7;\"/>\n   </g>\n   <g id=\"line2d_29\">\n    <path clip-path=\"url(#p37cc060700)\" d=\"M 0 0 \n\" style=\"fill:none;stroke:#424242;stroke-linecap:square;stroke-width:2.7;\"/>\n   </g>\n   <g id=\"line2d_30\">\n    <path clip-path=\"url(#p37cc060700)\" d=\"M 0 0 \n\" style=\"fill:none;stroke:#424242;stroke-linecap:square;stroke-width:2.7;\"/>\n   </g>\n   <g id=\"line2d_31\">\n    <path clip-path=\"url(#p37cc060700)\" d=\"M 0 0 \n\" style=\"fill:none;stroke:#424242;stroke-linecap:square;stroke-width:2.7;\"/>\n   </g>\n   <g id=\"line2d_32\">\n    <path clip-path=\"url(#p37cc060700)\" d=\"M 0 0 \n\" style=\"fill:none;stroke:#424242;stroke-linecap:square;stroke-width:2.7;\"/>\n   </g>\n   <g id=\"line2d_33\">\n    <path clip-path=\"url(#p37cc060700)\" d=\"M 0 0 \n\" style=\"fill:none;stroke:#424242;stroke-linecap:square;stroke-width:2.7;\"/>\n   </g>\n   <g id=\"line2d_34\">\n    <path clip-path=\"url(#p37cc060700)\" d=\"M 0 0 \n\" style=\"fill:none;stroke:#424242;stroke-linecap:square;stroke-width:2.7;\"/>\n   </g>\n   <g id=\"line2d_35\">\n    <path clip-path=\"url(#p37cc060700)\" d=\"M 0 0 \n\" style=\"fill:none;stroke:#424242;stroke-linecap:square;stroke-width:2.7;\"/>\n   </g>\n   <g id=\"line2d_36\">\n    <path clip-path=\"url(#p37cc060700)\" d=\"M 0 0 \n\" style=\"fill:none;stroke:#424242;stroke-linecap:square;stroke-width:2.7;\"/>\n   </g>\n   <g id=\"line2d_37\">\n    <path clip-path=\"url(#p37cc060700)\" d=\"M 0 0 \n\" style=\"fill:none;stroke:#424242;stroke-linecap:square;stroke-width:2.7;\"/>\n   </g>\n   <g id=\"line2d_38\">\n    <path clip-path=\"url(#p37cc060700)\" d=\"M 0 0 \n\" style=\"fill:none;stroke:#424242;stroke-linecap:square;stroke-width:2.7;\"/>\n   </g>\n   <g id=\"line2d_39\">\n    <path clip-path=\"url(#p37cc060700)\" d=\"M 0 0 \n\" style=\"fill:none;stroke:#424242;stroke-linecap:square;stroke-width:2.7;\"/>\n   </g>\n   <g id=\"line2d_40\">\n    <path clip-path=\"url(#p37cc060700)\" d=\"M 0 0 \n\" style=\"fill:none;stroke:#424242;stroke-linecap:square;stroke-width:2.7;\"/>\n   </g>\n   <g id=\"patch_19\">\n    <path d=\"M 40.603125 294.41625 \nL 40.603125 22.61625 \n\" style=\"fill:none;stroke:#000000;stroke-linecap:square;stroke-linejoin:miter;stroke-width:0.8;\"/>\n   </g>\n   <g id=\"patch_20\">\n    <path d=\"M 598.603125 294.41625 \nL 598.603125 22.61625 \n\" style=\"fill:none;stroke:#000000;stroke-linecap:square;stroke-linejoin:miter;stroke-width:0.8;\"/>\n   </g>\n   <g id=\"patch_21\">\n    <path d=\"M 40.603125 294.41625 \nL 598.603125 294.41625 \n\" style=\"fill:none;stroke:#000000;stroke-linecap:square;stroke-linejoin:miter;stroke-width:0.8;\"/>\n   </g>\n   <g id=\"patch_22\">\n    <path d=\"M 40.603125 22.61625 \nL 598.603125 22.61625 \n\" style=\"fill:none;stroke:#000000;stroke-linecap:square;stroke-linejoin:miter;stroke-width:0.8;\"/>\n   </g>\n   <g id=\"text_27\">\n    <!-- Distribuição do número de execuções entre 1990 e 1993 -->\n    <defs>\n     <path d=\"M 19.671875 64.796875 \nL 19.671875 8.109375 \nL 31.59375 8.109375 \nQ 46.6875 8.109375 53.6875 14.9375 \nQ 60.6875 21.78125 60.6875 36.53125 \nQ 60.6875 51.171875 53.6875 57.984375 \nQ 46.6875 64.796875 31.59375 64.796875 \nz\nM 9.8125 72.90625 \nL 30.078125 72.90625 \nQ 51.265625 72.90625 61.171875 64.09375 \nQ 71.09375 55.28125 71.09375 36.53125 \nQ 71.09375 17.671875 61.125 8.828125 \nQ 51.171875 0 30.078125 0 \nL 9.8125 0 \nz\n\" id=\"DejaVuSans-68\"/>\n     <path d=\"M 9.421875 54.6875 \nL 18.40625 54.6875 \nL 18.40625 0 \nL 9.421875 0 \nz\nM 9.421875 75.984375 \nL 18.40625 75.984375 \nL 18.40625 64.59375 \nL 9.421875 64.59375 \nz\n\" id=\"DejaVuSans-105\"/>\n     <path d=\"M 41.109375 46.296875 \nQ 39.59375 47.171875 37.8125 47.578125 \nQ 36.03125 48 33.890625 48 \nQ 26.265625 48 22.1875 43.046875 \nQ 18.109375 38.09375 18.109375 28.8125 \nL 18.109375 0 \nL 9.078125 0 \nL 9.078125 54.6875 \nL 18.109375 54.6875 \nL 18.109375 46.1875 \nQ 20.953125 51.171875 25.484375 53.578125 \nQ 30.03125 56 36.53125 56 \nQ 37.453125 56 38.578125 55.875 \nQ 39.703125 55.765625 41.0625 55.515625 \nz\n\" id=\"DejaVuSans-114\"/>\n     <path d=\"M 48.6875 27.296875 \nQ 48.6875 37.203125 44.609375 42.84375 \nQ 40.53125 48.484375 33.40625 48.484375 \nQ 26.265625 48.484375 22.1875 42.84375 \nQ 18.109375 37.203125 18.109375 27.296875 \nQ 18.109375 17.390625 22.1875 11.75 \nQ 26.265625 6.109375 33.40625 6.109375 \nQ 40.53125 6.109375 44.609375 11.75 \nQ 48.6875 17.390625 48.6875 27.296875 \nz\nM 18.109375 46.390625 \nQ 20.953125 51.265625 25.265625 53.625 \nQ 29.59375 56 35.59375 56 \nQ 45.5625 56 51.78125 48.09375 \nQ 58.015625 40.1875 58.015625 27.296875 \nQ 58.015625 14.40625 51.78125 6.484375 \nQ 45.5625 -1.421875 35.59375 -1.421875 \nQ 29.59375 -1.421875 25.265625 0.953125 \nQ 20.953125 3.328125 18.109375 8.203125 \nL 18.109375 0 \nL 9.078125 0 \nL 9.078125 75.984375 \nL 18.109375 75.984375 \nz\n\" id=\"DejaVuSans-98\"/>\n     <path d=\"M 8.5 21.578125 \nL 8.5 54.6875 \nL 17.484375 54.6875 \nL 17.484375 21.921875 \nQ 17.484375 14.15625 20.5 10.265625 \nQ 23.53125 6.390625 29.59375 6.390625 \nQ 36.859375 6.390625 41.078125 11.03125 \nQ 45.3125 15.671875 45.3125 23.6875 \nL 45.3125 54.6875 \nL 54.296875 54.6875 \nL 54.296875 0 \nL 45.3125 0 \nL 45.3125 8.40625 \nQ 42.046875 3.421875 37.71875 1 \nQ 33.40625 -1.421875 27.6875 -1.421875 \nQ 18.265625 -1.421875 13.375 4.4375 \nQ 8.5 10.296875 8.5 21.578125 \nz\nM 31.109375 56 \nz\n\" id=\"DejaVuSans-117\"/>\n     <path d=\"M 48.78125 52.59375 \nL 48.78125 44.1875 \nQ 44.96875 46.296875 41.140625 47.34375 \nQ 37.3125 48.390625 33.40625 48.390625 \nQ 24.65625 48.390625 19.8125 42.84375 \nQ 14.984375 37.3125 14.984375 27.296875 \nQ 14.984375 17.28125 19.8125 11.734375 \nQ 24.65625 6.203125 33.40625 6.203125 \nQ 37.3125 6.203125 41.140625 7.25 \nQ 44.96875 8.296875 48.78125 10.40625 \nL 48.78125 2.09375 \nQ 45.015625 0.34375 40.984375 -0.53125 \nQ 36.96875 -1.421875 32.421875 -1.421875 \nQ 20.0625 -1.421875 12.78125 6.34375 \nQ 5.515625 14.109375 5.515625 27.296875 \nQ 5.515625 40.671875 12.859375 48.328125 \nQ 20.21875 56 33.015625 56 \nQ 37.15625 56 41.109375 55.140625 \nQ 45.0625 54.296875 48.78125 52.59375 \nz\nM 36.078125 0 \nQ 38.765625 -3.03125 40.078125 -5.59375 \nQ 41.40625 -8.15625 41.40625 -10.5 \nQ 41.40625 -14.84375 38.46875 -17.0625 \nQ 35.546875 -19.28125 29.78125 -19.28125 \nQ 27.546875 -19.28125 25.421875 -18.984375 \nQ 23.296875 -18.703125 21.1875 -18.109375 \nL 21.1875 -11.71875 \nQ 22.859375 -12.546875 24.65625 -12.90625 \nQ 26.46875 -13.28125 28.765625 -13.28125 \nQ 31.640625 -13.28125 33.109375 -12.109375 \nQ 34.578125 -10.9375 34.578125 -8.6875 \nQ 34.578125 -7.234375 33.515625 -5.109375 \nQ 32.46875 -2.984375 30.28125 0 \nz\n\" id=\"DejaVuSans-231\"/>\n     <path d=\"M 34.28125 27.484375 \nQ 23.390625 27.484375 19.1875 25 \nQ 14.984375 22.515625 14.984375 16.5 \nQ 14.984375 11.71875 18.140625 8.90625 \nQ 21.296875 6.109375 26.703125 6.109375 \nQ 34.1875 6.109375 38.703125 11.40625 \nQ 43.21875 16.703125 43.21875 25.484375 \nL 43.21875 27.484375 \nz\nM 52.203125 31.203125 \nL 52.203125 0 \nL 43.21875 0 \nL 43.21875 8.296875 \nQ 40.140625 3.328125 35.546875 0.953125 \nQ 30.953125 -1.421875 24.3125 -1.421875 \nQ 15.921875 -1.421875 10.953125 3.296875 \nQ 6 8.015625 6 15.921875 \nQ 6 25.140625 12.171875 29.828125 \nQ 18.359375 34.515625 30.609375 34.515625 \nL 43.21875 34.515625 \nL 43.21875 35.40625 \nQ 43.21875 41.609375 39.140625 45 \nQ 35.0625 48.390625 27.6875 48.390625 \nQ 23 48.390625 18.546875 47.265625 \nQ 14.109375 46.140625 10.015625 43.890625 \nL 10.015625 52.203125 \nQ 14.9375 54.109375 19.578125 55.046875 \nQ 24.21875 56 28.609375 56 \nQ 40.484375 56 46.34375 49.84375 \nQ 52.203125 43.703125 52.203125 31.203125 \nz\nM 28.8125 66.890625 \nL 26.03125 69.578125 \nQ 24.953125 70.5625 24.140625 71.015625 \nQ 23.34375 71.484375 22.703125 71.484375 \nQ 20.84375 71.484375 19.96875 69.703125 \nQ 19.09375 67.921875 19 63.921875 \nL 12.890625 63.921875 \nQ 12.984375 70.515625 15.46875 74.09375 \nQ 17.96875 77.6875 22.40625 77.6875 \nQ 24.265625 77.6875 25.828125 77 \nQ 27.390625 76.3125 29.203125 74.703125 \nL 31.984375 72.015625 \nQ 33.0625 71.046875 33.859375 70.578125 \nQ 34.671875 70.125 35.296875 70.125 \nQ 37.15625 70.125 38.03125 71.90625 \nQ 38.921875 73.6875 39.015625 77.6875 \nL 45.125 77.6875 \nQ 45.015625 71.09375 42.53125 67.5 \nQ 40.046875 63.921875 35.59375 63.921875 \nQ 33.734375 63.921875 32.171875 64.59375 \nQ 30.609375 65.28125 28.8125 66.890625 \nz\n\" id=\"DejaVuSans-227\"/>\n     <path d=\"M 30.609375 48.390625 \nQ 23.390625 48.390625 19.1875 42.75 \nQ 14.984375 37.109375 14.984375 27.296875 \nQ 14.984375 17.484375 19.15625 11.84375 \nQ 23.34375 6.203125 30.609375 6.203125 \nQ 37.796875 6.203125 41.984375 11.859375 \nQ 46.1875 17.53125 46.1875 27.296875 \nQ 46.1875 37.015625 41.984375 42.703125 \nQ 37.796875 48.390625 30.609375 48.390625 \nz\nM 30.609375 56 \nQ 42.328125 56 49.015625 48.375 \nQ 55.71875 40.765625 55.71875 27.296875 \nQ 55.71875 13.875 49.015625 6.21875 \nQ 42.328125 -1.421875 30.609375 -1.421875 \nQ 18.84375 -1.421875 12.171875 6.21875 \nQ 5.515625 13.875 5.515625 27.296875 \nQ 5.515625 40.765625 12.171875 48.375 \nQ 18.84375 56 30.609375 56 \nz\n\" id=\"DejaVuSans-111\"/>\n     <path id=\"DejaVuSans-32\"/>\n     <path d=\"M 45.40625 46.390625 \nL 45.40625 75.984375 \nL 54.390625 75.984375 \nL 54.390625 0 \nL 45.40625 0 \nL 45.40625 8.203125 \nQ 42.578125 3.328125 38.25 0.953125 \nQ 33.9375 -1.421875 27.875 -1.421875 \nQ 17.96875 -1.421875 11.734375 6.484375 \nQ 5.515625 14.40625 5.515625 27.296875 \nQ 5.515625 40.1875 11.734375 48.09375 \nQ 17.96875 56 27.875 56 \nQ 33.9375 56 38.25 53.625 \nQ 42.578125 51.265625 45.40625 46.390625 \nz\nM 14.796875 27.296875 \nQ 14.796875 17.390625 18.875 11.75 \nQ 22.953125 6.109375 30.078125 6.109375 \nQ 37.203125 6.109375 41.296875 11.75 \nQ 45.40625 17.390625 45.40625 27.296875 \nQ 45.40625 37.203125 41.296875 42.84375 \nQ 37.203125 48.484375 30.078125 48.484375 \nQ 22.953125 48.484375 18.875 42.84375 \nQ 14.796875 37.203125 14.796875 27.296875 \nz\n\" id=\"DejaVuSans-100\"/>\n     <path d=\"M 54.890625 33.015625 \nL 54.890625 0 \nL 45.90625 0 \nL 45.90625 32.71875 \nQ 45.90625 40.484375 42.875 44.328125 \nQ 39.84375 48.1875 33.796875 48.1875 \nQ 26.515625 48.1875 22.3125 43.546875 \nQ 18.109375 38.921875 18.109375 30.90625 \nL 18.109375 0 \nL 9.078125 0 \nL 9.078125 54.6875 \nL 18.109375 54.6875 \nL 18.109375 46.1875 \nQ 21.34375 51.125 25.703125 53.5625 \nQ 30.078125 56 35.796875 56 \nQ 45.21875 56 50.046875 50.171875 \nQ 54.890625 44.34375 54.890625 33.015625 \nz\n\" id=\"DejaVuSans-110\"/>\n     <path d=\"M 8.5 21.578125 \nL 8.5 54.6875 \nL 17.484375 54.6875 \nL 17.484375 21.921875 \nQ 17.484375 14.15625 20.5 10.265625 \nQ 23.53125 6.390625 29.59375 6.390625 \nQ 36.859375 6.390625 41.078125 11.03125 \nQ 45.3125 15.671875 45.3125 23.6875 \nL 45.3125 54.6875 \nL 54.296875 54.6875 \nL 54.296875 0 \nL 45.3125 0 \nL 45.3125 8.40625 \nQ 42.046875 3.421875 37.71875 1 \nQ 33.40625 -1.421875 27.6875 -1.421875 \nQ 18.265625 -1.421875 13.375 4.4375 \nQ 8.5 10.296875 8.5 21.578125 \nz\nM 31.109375 56 \nz\nM 37.796875 79.984375 \nL 47.515625 79.984375 \nL 31.59375 61.625 \nL 24.125 61.625 \nz\n\" id=\"DejaVuSans-250\"/>\n     <path d=\"M 52 44.1875 \nQ 55.375 50.25 60.0625 53.125 \nQ 64.75 56 71.09375 56 \nQ 79.640625 56 84.28125 50.015625 \nQ 88.921875 44.046875 88.921875 33.015625 \nL 88.921875 0 \nL 79.890625 0 \nL 79.890625 32.71875 \nQ 79.890625 40.578125 77.09375 44.375 \nQ 74.3125 48.1875 68.609375 48.1875 \nQ 61.625 48.1875 57.5625 43.546875 \nQ 53.515625 38.921875 53.515625 30.90625 \nL 53.515625 0 \nL 44.484375 0 \nL 44.484375 32.71875 \nQ 44.484375 40.625 41.703125 44.40625 \nQ 38.921875 48.1875 33.109375 48.1875 \nQ 26.21875 48.1875 22.15625 43.53125 \nQ 18.109375 38.875 18.109375 30.90625 \nL 18.109375 0 \nL 9.078125 0 \nL 9.078125 54.6875 \nL 18.109375 54.6875 \nL 18.109375 46.1875 \nQ 21.1875 51.21875 25.484375 53.609375 \nQ 29.78125 56 35.6875 56 \nQ 41.65625 56 45.828125 52.96875 \nQ 50 49.953125 52 44.1875 \nz\n\" id=\"DejaVuSans-109\"/>\n     <path d=\"M 30.609375 48.390625 \nQ 23.390625 48.390625 19.1875 42.75 \nQ 14.984375 37.109375 14.984375 27.296875 \nQ 14.984375 17.484375 19.15625 11.84375 \nQ 23.34375 6.203125 30.609375 6.203125 \nQ 37.796875 6.203125 41.984375 11.859375 \nQ 46.1875 17.53125 46.1875 27.296875 \nQ 46.1875 37.015625 41.984375 42.703125 \nQ 37.796875 48.390625 30.609375 48.390625 \nz\nM 30.609375 56 \nQ 42.328125 56 49.015625 48.375 \nQ 55.71875 40.765625 55.71875 27.296875 \nQ 55.71875 13.875 49.015625 6.21875 \nQ 42.328125 -1.421875 30.609375 -1.421875 \nQ 18.84375 -1.421875 12.171875 6.21875 \nQ 5.515625 13.875 5.515625 27.296875 \nQ 5.515625 40.765625 12.171875 48.375 \nQ 18.84375 56 30.609375 56 \nz\nM 30.421875 66.890625 \nL 27.640625 69.578125 \nQ 26.5625 70.5625 25.75 71.015625 \nQ 24.953125 71.484375 24.3125 71.484375 \nQ 22.46875 71.484375 21.578125 69.703125 \nQ 20.703125 67.921875 20.609375 63.921875 \nL 14.5 63.921875 \nQ 14.59375 70.515625 17.078125 74.09375 \nQ 19.578125 77.6875 24.03125 77.6875 \nQ 25.875 77.6875 27.4375 77 \nQ 29 76.3125 30.8125 74.703125 \nL 33.59375 72.015625 \nQ 34.671875 71.046875 35.46875 70.578125 \nQ 36.28125 70.125 36.921875 70.125 \nQ 38.765625 70.125 39.640625 71.90625 \nQ 40.53125 73.6875 40.625 77.6875 \nL 46.734375 77.6875 \nQ 46.625 71.09375 44.140625 67.5 \nQ 41.65625 63.921875 37.203125 63.921875 \nQ 35.359375 63.921875 33.796875 64.59375 \nQ 32.234375 65.28125 30.421875 66.890625 \nz\n\" id=\"DejaVuSans-245\"/>\n     <path d=\"M 10.984375 1.515625 \nL 10.984375 10.5 \nQ 14.703125 8.734375 18.5 7.8125 \nQ 22.3125 6.890625 25.984375 6.890625 \nQ 35.75 6.890625 40.890625 13.453125 \nQ 46.046875 20.015625 46.78125 33.40625 \nQ 43.953125 29.203125 39.59375 26.953125 \nQ 35.25 24.703125 29.984375 24.703125 \nQ 19.046875 24.703125 12.671875 31.3125 \nQ 6.296875 37.9375 6.296875 49.421875 \nQ 6.296875 60.640625 12.9375 67.421875 \nQ 19.578125 74.21875 30.609375 74.21875 \nQ 43.265625 74.21875 49.921875 64.515625 \nQ 56.59375 54.828125 56.59375 36.375 \nQ 56.59375 19.140625 48.40625 8.859375 \nQ 40.234375 -1.421875 26.421875 -1.421875 \nQ 22.703125 -1.421875 18.890625 -0.6875 \nQ 15.09375 0.046875 10.984375 1.515625 \nz\nM 30.609375 32.421875 \nQ 37.25 32.421875 41.125 36.953125 \nQ 45.015625 41.5 45.015625 49.421875 \nQ 45.015625 57.28125 41.125 61.84375 \nQ 37.25 66.40625 30.609375 66.40625 \nQ 23.96875 66.40625 20.09375 61.84375 \nQ 16.21875 57.28125 16.21875 49.421875 \nQ 16.21875 41.5 20.09375 36.953125 \nQ 23.96875 32.421875 30.609375 32.421875 \nz\n\" id=\"DejaVuSans-57\"/>\n    </defs>\n    <g transform=\"translate(148.210312 16.61625)scale(0.12 -0.12)\">\n     <use xlink:href=\"#DejaVuSans-68\"/>\n     <use x=\"77.001953\" xlink:href=\"#DejaVuSans-105\"/>\n     <use x=\"104.785156\" xlink:href=\"#DejaVuSans-115\"/>\n     <use x=\"156.884766\" xlink:href=\"#DejaVuSans-116\"/>\n     <use x=\"196.09375\" xlink:href=\"#DejaVuSans-114\"/>\n     <use x=\"237.207031\" xlink:href=\"#DejaVuSans-105\"/>\n     <use x=\"264.990234\" xlink:href=\"#DejaVuSans-98\"/>\n     <use x=\"328.466797\" xlink:href=\"#DejaVuSans-117\"/>\n     <use x=\"391.845703\" xlink:href=\"#DejaVuSans-105\"/>\n     <use x=\"419.628906\" xlink:href=\"#DejaVuSans-231\"/>\n     <use x=\"474.609375\" xlink:href=\"#DejaVuSans-227\"/>\n     <use x=\"535.888672\" xlink:href=\"#DejaVuSans-111\"/>\n     <use x=\"597.070312\" xlink:href=\"#DejaVuSans-32\"/>\n     <use x=\"628.857422\" xlink:href=\"#DejaVuSans-100\"/>\n     <use x=\"692.333984\" xlink:href=\"#DejaVuSans-111\"/>\n     <use x=\"753.515625\" xlink:href=\"#DejaVuSans-32\"/>\n     <use x=\"785.302734\" xlink:href=\"#DejaVuSans-110\"/>\n     <use x=\"848.681641\" xlink:href=\"#DejaVuSans-250\"/>\n     <use x=\"912.060547\" xlink:href=\"#DejaVuSans-109\"/>\n     <use x=\"1009.472656\" xlink:href=\"#DejaVuSans-101\"/>\n     <use x=\"1070.996094\" xlink:href=\"#DejaVuSans-114\"/>\n     <use x=\"1112.078125\" xlink:href=\"#DejaVuSans-111\"/>\n     <use x=\"1173.259766\" xlink:href=\"#DejaVuSans-32\"/>\n     <use x=\"1205.046875\" xlink:href=\"#DejaVuSans-100\"/>\n     <use x=\"1268.523438\" xlink:href=\"#DejaVuSans-101\"/>\n     <use x=\"1330.046875\" xlink:href=\"#DejaVuSans-32\"/>\n     <use x=\"1361.833984\" xlink:href=\"#DejaVuSans-101\"/>\n     <use x=\"1423.341797\" xlink:href=\"#DejaVuSans-120\"/>\n     <use x=\"1482.474609\" xlink:href=\"#DejaVuSans-101\"/>\n     <use x=\"1543.998047\" xlink:href=\"#DejaVuSans-99\"/>\n     <use x=\"1598.978516\" xlink:href=\"#DejaVuSans-117\"/>\n     <use x=\"1662.357422\" xlink:href=\"#DejaVuSans-231\"/>\n     <use x=\"1717.337891\" xlink:href=\"#DejaVuSans-245\"/>\n     <use x=\"1778.519531\" xlink:href=\"#DejaVuSans-101\"/>\n     <use x=\"1840.042969\" xlink:href=\"#DejaVuSans-115\"/>\n     <use x=\"1892.142578\" xlink:href=\"#DejaVuSans-32\"/>\n     <use x=\"1923.929688\" xlink:href=\"#DejaVuSans-101\"/>\n     <use x=\"1985.453125\" xlink:href=\"#DejaVuSans-110\"/>\n     <use x=\"2048.832031\" xlink:href=\"#DejaVuSans-116\"/>\n     <use x=\"2088.041016\" xlink:href=\"#DejaVuSans-114\"/>\n     <use x=\"2129.123047\" xlink:href=\"#DejaVuSans-101\"/>\n     <use x=\"2190.646484\" xlink:href=\"#DejaVuSans-32\"/>\n     <use x=\"2222.433594\" xlink:href=\"#DejaVuSans-49\"/>\n     <use x=\"2286.056641\" xlink:href=\"#DejaVuSans-57\"/>\n     <use x=\"2349.679688\" xlink:href=\"#DejaVuSans-57\"/>\n     <use x=\"2413.302734\" xlink:href=\"#DejaVuSans-48\"/>\n     <use x=\"2476.925781\" xlink:href=\"#DejaVuSans-32\"/>\n     <use x=\"2508.712891\" xlink:href=\"#DejaVuSans-101\"/>\n     <use x=\"2570.236328\" xlink:href=\"#DejaVuSans-32\"/>\n     <use x=\"2602.023438\" xlink:href=\"#DejaVuSans-49\"/>\n     <use x=\"2665.646484\" xlink:href=\"#DejaVuSans-57\"/>\n     <use x=\"2729.269531\" xlink:href=\"#DejaVuSans-57\"/>\n     <use x=\"2792.892578\" xlink:href=\"#DejaVuSans-51\"/>\n    </g>\n   </g>\n  </g>\n </g>\n <defs>\n  <clipPath id=\"p37cc060700\">\n   <rect height=\"271.8\" width=\"558\" x=\"40.603125\" y=\"22.61625\"/>\n  </clipPath>\n </defs>\n</svg>\n",
      "image/png": "[encoded data removed]"
     },
     "metadata": {
      "needs_background": "light"
     }
    }
   ],
   "source": [
    "## Plotando a distribuicao do numero de execucoes\n",
    "df_93_0 = df_93.loc[df_93['exec'] > 0]\n",
    "df_93_0 = df_93_0.sort_values(['exec'], ascending=False).reset_index(drop=True)\n",
    "\n",
    "fig, axs = plt.subplots(figsize = (10,5))\n",
    "\n",
    "ax0 = sns.barplot(x=\"state\",y=\"exec\", data=df_93_0, palette=\"Blues_d\")\n",
    "ax0.set_title(\"Distribuição do número de execuções entre 1990 e 1993\")"
   ]
  },
  {
   "cell_type": "code",
   "execution_count": 45,
   "metadata": {},
   "outputs": [
    {
     "output_type": "stream",
     "name": "stdout",
     "text": [
      "                            OLS Regression Results                            \n==============================================================================\nDep. Variable:                 mrdrte   R-squared:                       0.117\nModel:                            OLS   Adj. R-squared:                  0.061\nMethod:                 Least Squares   F-statistic:                     2.079\nDate:                Thu, 18 Feb 2021   Prob (F-statistic):              0.116\nTime:                        16:07:04   Log-Likelihood:                -189.65\nNo. Observations:                  51   AIC:                             387.3\nDf Residuals:                      47   BIC:                             395.0\nDf Model:                           3                                         \nCovariance Type:            nonrobust                                         \n==============================================================================\n                 coef    std err          t      P>|t|      [0.025      0.975]\n------------------------------------------------------------------------------\nconst         -6.8265      6.426     -1.062      0.293     -19.753       6.100\nexec           0.2949      0.717      0.411      0.683      -1.148       1.738\nunem           2.4304      0.991      2.452      0.018       0.436       4.425\ntx            -8.3123     25.971     -0.320      0.750     -60.558      43.934\n==============================================================================\nOmnibus:                       95.336   Durbin-Watson:                   2.120\nProb(Omnibus):                  0.000   Jarque-Bera (JB):             2386.211\nSkew:                           5.263   Prob(JB):                         0.00\nKurtosis:                      34.814   Cond. No.                         124.\n==============================================================================\n\nWarnings:\n[1] Standard Errors assume that the covariance matrix of the errors is correctly specified.\nO erro padrão da regressão é 10.38654 e a SQR é 5070.37278\n\nPara ver os valores previstos ou os resídudos, basta chamar 'Lista_ychapeu' e 'Resíduos'.\nOs resultados do modelo podem ser obtidos através de métodos usando a variável 'Resultado'.\n\n    Valores de condição maiores que 20 indicam problemas de multicolinearidade.\n    Para ver como achar esse número, entre em https://www.statsmodels.org/dev/examples/notebooks/generated/ols.html\n"
     ]
    }
   ],
   "source": [
    "## Adicionando uma dummy para texas\n",
    "df_93['tx'] = df_93['state'].apply(lambda i: 1 if i == 'TX' else 0)\n",
    "\n",
    "## Fazendo a regressão\n",
    "x =  df_93[['exec','unem','tx']]\n",
    "y = df_93['mrdrte']\n",
    "Regressao_Multipla(x,y)"
   ]
  },
  {
   "cell_type": "code",
   "execution_count": 46,
   "metadata": {},
   "outputs": [
    {
     "output_type": "stream",
     "name": "stdout",
     "text": [
      "                            OLS Regression Results                            \n==============================================================================\nDep. Variable:                 mrdrte   R-squared:                       0.990\nModel:                            OLS   Adj. R-squared:                  0.990\nMethod:                 Least Squares   F-statistic:                     1609.\nDate:                Thu, 18 Feb 2021   Prob (F-statistic):           2.34e-47\nTime:                        16:07:04   Log-Likelihood:                -74.461\nNo. Observations:                  51   AIC:                             156.9\nDf Residuals:                      47   BIC:                             164.6\nDf Model:                           3                                         \nCovariance Type:            nonrobust                                         \n==============================================================================\n                 coef    std err          t      P>|t|      [0.025      0.975]\n------------------------------------------------------------------------------\nconst          0.8826      0.676      1.306      0.198      -0.477       2.242\nexec          -0.0713      0.030     -2.342      0.023      -0.133      -0.010\nunem          -0.0903      0.110     -0.819      0.417      -0.312       0.132\nmrdrte_90      1.0098      0.015     65.319      0.000       0.979       1.041\n==============================================================================\nOmnibus:                        2.097   Durbin-Watson:                   2.153\nProb(Omnibus):                  0.351   Jarque-Bera (JB):                1.308\nSkew:                           0.359   Prob(JB):                        0.520\nKurtosis:                       3.318   Cond. No.                         64.6\n==============================================================================\n\nWarnings:\n[1] Standard Errors assume that the covariance matrix of the errors is correctly specified.\nO erro padrão da regressão é 1.08536 e a SQR é 55.36623\n\nPara ver os valores previstos ou os resídudos, basta chamar 'Lista_ychapeu' e 'Resíduos'.\nOs resultados do modelo podem ser obtidos através de métodos usando a variável 'Resultado'.\n\n    Valores de condição maiores que 20 indicam problemas de multicolinearidade.\n    Para ver como achar esse número, entre em https://www.statsmodels.org/dev/examples/notebooks/generated/ols.html\n"
     ]
    }
   ],
   "source": [
    "## Modificando o dataframe para conseguir a taxa de homicidios defasada\n",
    "df_90_93 = df.loc[(df['year'] == 90) | (df['year'] == 93)]\n",
    "df_90_93['mrdrte_90'] = df_90_93['mrdrte'].shift(1)\n",
    "df_93 = df_90_93.loc[df_90_93['year'] == 93]\n",
    "\n",
    "## Fazendo a regressão\n",
    "x =  df_93[['exec','unem','mrdrte_90']]\n",
    "y = df_93['mrdrte']\n",
    "Regressao_Multipla(x,y)"
   ]
  },
  {
   "cell_type": "code",
   "execution_count": 47,
   "metadata": {},
   "outputs": [
    {
     "output_type": "stream",
     "name": "stdout",
     "text": [
      "                            OLS Regression Results                            \n==============================================================================\nDep. Variable:                 mrdrte   R-squared:                       0.990\nModel:                            OLS   Adj. R-squared:                  0.990\nMethod:                 Least Squares   F-statistic:                     1185.\nDate:                Thu, 18 Feb 2021   Prob (F-statistic):           9.55e-46\nTime:                        16:07:05   Log-Likelihood:                -74.383\nNo. Observations:                  51   AIC:                             158.8\nDf Residuals:                      46   BIC:                             168.4\nDf Model:                           4                                         \nCovariance Type:            nonrobust                                         \n==============================================================================\n                 coef    std err          t      P>|t|      [0.025      0.975]\n------------------------------------------------------------------------------\nconst          0.8491      0.688      1.234      0.223      -0.536       2.234\nexec          -0.0454      0.076     -0.599      0.552      -0.198       0.107\nunem          -0.0879      0.112     -0.788      0.435      -0.313       0.137\nmrdrte_90      1.0095      0.016     64.648      0.000       0.978       1.041\ntx            -1.0243      2.741     -0.374      0.710      -6.542       4.494\n==============================================================================\nOmnibus:                        1.456   Durbin-Watson:                   2.154\nProb(Omnibus):                  0.483   Jarque-Bera (JB):                0.853\nSkew:                           0.300   Prob(JB):                        0.653\nKurtosis:                       3.201   Cond. No.                         257.\n==============================================================================\n\nWarnings:\n[1] Standard Errors assume that the covariance matrix of the errors is correctly specified.\nO erro padrão da regressão é 1.09543 e a SQR é 55.19868\n\nPara ver os valores previstos ou os resídudos, basta chamar 'Lista_ychapeu' e 'Resíduos'.\nOs resultados do modelo podem ser obtidos através de métodos usando a variável 'Resultado'.\n\n    Valores de condição maiores que 20 indicam problemas de multicolinearidade.\n    Para ver como achar esse número, entre em https://www.statsmodels.org/dev/examples/notebooks/generated/ols.html\n"
     ]
    }
   ],
   "source": [
    "## Adicionando uma dummy para texas\n",
    "df_93['tx'] = df_93['state'].apply(lambda i: 1 if i == 'TX' else 0)\n",
    "\n",
    "## Fazendo a regressão com a dummy de texas\n",
    "x =  df_93[['exec','unem','mrdrte_90', 'tx']]\n",
    "y = df_93['mrdrte']\n",
    "Regressao_Multipla(x,y)"
   ]
  }
 ]
}