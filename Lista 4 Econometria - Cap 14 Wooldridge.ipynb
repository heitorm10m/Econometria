{
 "metadata": {
  "language_info": {
   "codemirror_mode": {
    "name": "ipython",
    "version": 3
   },
   "file_extension": ".py",
   "mimetype": "text/x-python",
   "name": "python",
   "nbconvert_exporter": "python",
   "pygments_lexer": "ipython3",
   "version": "3.7.7-final"
  },
  "orig_nbformat": 2,
  "kernelspec": {
   "name": "python3",
   "display_name": "Python 3.7.7 64-bit",
   "metadata": {
    "interpreter": {
     "hash": "8b633cbbc14e145906599cefe47c3dba10dc0e2c3bc4a9e7fbbaa016a7f81938"
    }
   }
  }
 },
 "nbformat": 4,
 "nbformat_minor": 2,
 "cells": [
  {
   "cell_type": "code",
   "execution_count": 1,
   "metadata": {},
   "outputs": [],
   "source": [
    "#Criado por: Vinícius de Almeida Nery Ferreira (ECO - UnB)\n",
    "#Github: https://github.com/vnery5/Econometria\n",
    "\n",
    "#######################################################################################################################\n",
    "###COMO USAR AS FUNÇÕES EM UM NOTEBOOK\n",
    "##Antes, copie e cole todos os imports e definições daqui na primeira célula do notebook e pressione Shift + Enter\n",
    "##Para coletar os dados do arquivo \"carros.dta\" (só funciona com arquivos .dta):\n",
    "#coletar_dados(\"carros\")\n",
    "\n",
    "## Para exportar os resultado de latex, procure os métodos de Resultado.summary.as_latex()\n",
    "\n",
    "## Exportar resultados como imagem ou texto: https://stackoverflow.com/questions/46664082/python-how-to-save-statsmodels-results-as-image-file\n",
    "#######################################################################################################################\n",
    "\n",
    "#%%\n",
    "##Importando os pacotes e módulos necessários\n",
    "import pandas as pd\n",
    "import numpy as np\n",
    "import math\n",
    "\n",
    "#Para Regressão Linear Simples e Teste F\n",
    "from scipy import stats\n",
    "\n",
    "#Para Regressão Linear Múltipla (OLS, GLS e WLS) e Testes Estatísticos\n",
    "import statsmodels.api as sm\n",
    "import econtools\n",
    "import econtools.metrics as mt\n",
    "\n",
    "#Para Regressão em Painel\n",
    "from linearmodels import PanelOLS, FirstDifferenceOLS, PooledOLS, RandomEffects\n",
    "from linearmodels.panel import compare\n",
    "\n",
    "#Pacotes para gráficos (caso precise)\n",
    "import matplotlib\n",
    "import matplotlib.pyplot as plt\n",
    "import seaborn as sns\n",
    "import plotly.express as px\n",
    "import plotly.graph_objects as go\n",
    "\n",
    "#Pacotes para fazer a coleta dos dados armazenados no mesmo diretório e outros pacotes gerais\n",
    "import os\n",
    "import pathlib\n",
    "import glob\n",
    "from IPython.display import clear_output\n",
    "import gc\n",
    "\n",
    "####################################### Criando as Funções ###############################################################\n",
    "\n",
    "def coletar_dados(nome = \"\"):\n",
    "    '''\n",
    "    Função que le os arquivos do Stata (.dta) - NÃO COLOQUE A EXTENSÃO NA HORA DE NOMEAR O \"NOME\"!\n",
    "    O arquivo deve estar na mesma pasta do arquivo de Python ou do notebook do jupyter.\n",
    "    Deixe em branco para ler o arquivo mais recentemente adicionado à pasta.\n",
    "    '''\n",
    "\n",
    "    global df\n",
    "\n",
    "    #Pegando qual a pasta do arquivo que está sendo usado pra programar\n",
    "    caminho = pathlib.Path().absolute()\n",
    "\n",
    "    #No meu caso específico:\n",
    "    caminho_vinicius = f\"{caminho}/datasets\"\n",
    "\n",
    "    #checando se o nome foi inserido ou não; caso não, pegar o arquivo .dta mais recente\n",
    "    if nome == \"\":\n",
    "        try:\n",
    "            arquivo = max(glob.glob(f\"{str(caminho)}/*.dta\"), key=os.path.getctime)\n",
    "            df = pd.read_stata(arquivo)\n",
    "            print(f\"{arquivo}.dta foi lido com sucesso!\")\n",
    "            return df\n",
    "        except:\n",
    "            arquivo = max(glob.glob(f\"{str(caminho_vinicius)}/*.dta\"), key=os.path.getctime)\n",
    "            df = pd.read_stata(arquivo)\n",
    "            print(f\"{arquivo}.dta foi lido com sucesso!\")\n",
    "            return df\n",
    "    else:\n",
    "        try:\n",
    "            arquivo = f\"{str(caminho)}/{str(nome)}.dta\"\n",
    "            df = pd.read_stata(arquivo)\n",
    "            print(f\"{nome}.dta foi lido com sucesso!\")\n",
    "            return df\n",
    "        except:\n",
    "            try:\n",
    "                arquivo = f\"{str(caminho_vinicius)}/{str(nome)}.dta\"\n",
    "                df = pd.read_stata(arquivo)\n",
    "                print(f\"{nome}.dta foi lido com sucesso!\")\n",
    "                return df\n",
    "            except: #caso não tenha sido encontrado o arquivo com o nome inserido\n",
    "                print('''\n",
    "                Não foi possível achar o arquivo :(\\n\n",
    "                Verifique se seu nome está correto (sem a extensão) e se ele está no mesmo diretório do programa!\n",
    "                ''')\n",
    "\n",
    "def Regressao_Multipla(x, y, constante = \"S\", robusta = \"N\"):\n",
    "    '''\n",
    "    Função que calcula uma regressão múltipla, sendo, por default, computada com um intercepto e com erros padrões não robustos.\n",
    "\n",
    "    x: lista ou array com os valores das variáveis independentes;\n",
    "    y: lista ou array com os valores da variável dependente;\n",
    "    constante: \"S\" para regressão com intercepto e qualquer outro valor para sem intercepto. Caso em branco, a regressão é computada com intercepto;\n",
    "    robusta: \"N\" para regressão com erros-padrão tradicionais e qualquer outro valor para erros-padrões robustos (HC1, estimador de Hinkley; HC0: White-Huber-Eischer).\n",
    "        Caso em branco, a regressão é computada com erros-padrão comuns.\n",
    "    '''\n",
    "\n",
    "    global Resultado, Lista_ychapeu, Resíduos, SQR, EPR\n",
    "\n",
    "    #adicionando uma constante ao modelo de Ordinary Least Squares (OLS)\n",
    "    if constante == \"S\":\n",
    "        X = sm.add_constant(x)\n",
    "    else:\n",
    "        X = x\n",
    "\n",
    "    #Criando o Modelo levando em conta a opção de ser uma regressão robusta p/ heteroscedasticidade ou não\n",
    "    Modelo = sm.OLS(y,X)\n",
    "\n",
    "    if robusta == \"N\":\n",
    "        Resultado = Modelo.fit()\n",
    "    else:\n",
    "        Resultado = Modelo.fit(cov_type = 'HC1', use_t = True)\n",
    "    \n",
    "    Lista_ychapeu = Resultado.predict()\n",
    "    Resíduos = y - Lista_ychapeu\n",
    "\n",
    "    #Calculando o Erro Padrão da Regressão (EPR)\n",
    "    SQR =sum([i**2 for i in Resíduos])\n",
    "    Número_de_Observações = len(y)\n",
    "    GL = Número_de_Observações - len(Resultado.params)\n",
    "    VarianciaReg = SQR/GL\n",
    "    EPR = math.sqrt(VarianciaReg)\n",
    "    \n",
    "    ##Printando o Resultado\n",
    "    print(Resultado.summary())\n",
    "\n",
    "    print(f\"O erro padrão da regressão é {round(EPR,5)} e a SQR é {round(SQR,5)}\")\n",
    "    print(\"\\nPara ver os valores previstos ou os resídudos, basta chamar 'Lista_ychapeu' e 'Resíduos'.\")\n",
    "    print(\"Os resultados do modelo podem ser obtidos através de métodos usando a variável 'Resultado'.\")\n",
    "    print(\"\"\"\n",
    "    Valores de condição maiores que 20 indicam problemas de multicolinearidade.\n",
    "    Para ver como achar esse número, entre em https://www.statsmodels.org/dev/examples/notebooks/generated/ols.html\"\"\"\n",
    "    )\n",
    "\n",
    "def Regressao_MQP(x, y, pesos, constante = \"S\", robusta = \"N\"):\n",
    "    '''\n",
    "    Função que calcula uma regressão múltipla usando mínimos quadrados ponderados, ou seja,\n",
    "    recomendada quando o erro é heteroscedástico E se sabe a função da constante. Ela é, por default, computada com um intercepto e com erros padrões não robustos.\n",
    "\n",
    "    x: lista ou array com os valores das variáveis independentes;\n",
    "    y: lista ou array com os valores da variável dependente;\n",
    "    pesos: 1/h, sendo h a constante multiplicativa da variância do erro (ou seja, sem a raiz);\n",
    "    constante: \"S\" para regressão com intercepto e qualquer outro valor para sem intercepto. Caso em branco, a regressão é computada com intercepto;\n",
    "    robusta: \"N\" para regressão com erros-padrão tradicionais e qualquer outro valor para erros-padrões robustos. Caso em branco, a regressão é computada com erros-padrão comuns.\n",
    "    '''\n",
    "\n",
    "    global Resultado, Lista_ychapeu, Resíduos, SQR, EPR\n",
    "\n",
    "    #adicionando uma constante ao modelo de Ordinary Least Squares(OLS)\n",
    "    if constante == \"S\":\n",
    "        X = sm.add_constant(x)\n",
    "    else:\n",
    "        X = x\n",
    "    #Criando o Modelo levando em conta a opção de ser uma regressão robusta p/ heteroscedasticidade ou não\n",
    "    Modelo = sm.WLS(y,X, weights = pesos)\n",
    "    if robusta == \"N\":\n",
    "        Resultado = Modelo.fit()\n",
    "    else:\n",
    "        Resultado = Modelo.fit(cov_type = 'HC1', use_t = True)\n",
    "    \n",
    "    Lista_ychapeu = Resultado.predict()\n",
    "    Resíduos = y - Lista_ychapeu\n",
    "\n",
    "    #Calculando o Erro Padrão da Regressão (EPR)\n",
    "    SQR =sum([i**2 for i in Resíduos])\n",
    "    Número_de_Observações = len(y)\n",
    "    GL = Número_de_Observações - len(Resultado.params)\n",
    "    VarianciaReg = SQR/GL\n",
    "    EPR = math.sqrt(VarianciaReg)\n",
    "    \n",
    "    ##Printando o Resultado\n",
    "    print(f\"O erro padrão da regressão é {round(EPR,5)} e a SQR é {round(SQR,5)}\\n\")\n",
    "    print(Resultado.summary())\n",
    "\n",
    "    print(\"\\nPara ver os valores previstos ou os resídudos, basta chamar 'Lista_ychapeu' e 'Resíduos'.\")\n",
    "    print(\"Os resultados do modelo podem ser obtidos através de métodos usando a variável 'Resultado'.\")\n",
    "    print(\"\"\"\n",
    "    Valores de condição maiores que 20 indicam problemas de multicolinearidade\n",
    "    Para ver como achar esse número, entre em https://www.statsmodels.org/dev/examples/notebooks/generated/ols.html\"\"\"\n",
    "    )\n",
    "    \n",
    "def Regressao_MQGF(x, y, constante = \"S\", robusta = \"N\"):\n",
    "    '''\n",
    "    Função que calcula uma regressão múltipla usando mínimos quadrados generalizados factíveis, ou seja,\n",
    "    recomendada quando o erro é heteroscedástico E NÃO se sabe a função da constante multiplicativa da variância do erro, sendo os pesos estimados\n",
    "    regridindo o log dos quadrados dos resíduos sobre as variáveis explicativas. Os estimadores MQP são gerados com o peso estimado.\n",
    "    Ela é, por default, computada com um intercepto e com erros padrões não robustos.\n",
    "\n",
    "    x: lista ou array com os valores das variáveis independentes;\n",
    "    y: lista ou array com os valores da variável dependente;\n",
    "    constante: \"S\" para regressão com intercepto e qualquer outro valor para sem intercepto. Caso em branco, a regressão é computada com intercepto;\n",
    "    robusta: \"N\" para regressão com erros-padrão tradicionais e qualquer outro valor para erros-padrões robustos. Caso em branco, a regressão é computada com erros-padrão comuns.\n",
    "    '''\n",
    "\n",
    "    global Resultado, Lista_ychapeu, Resíduos, SQR, EPR\n",
    "\n",
    "    #Regredindo os valores normalmente a fim de pegar os resíduos\n",
    "    Regressao_Multipla(x,y, constante, robusta)\n",
    "    clear_output()\n",
    "\n",
    "    #Coletando o log dos quadrados dos resíduos\n",
    "    Log_Res_Quad = np.log(Resíduos**2)\n",
    "\n",
    "    #Regredindo Log_Res_Quad sobre as variáveis explicativas\n",
    "    Regressao_Multipla(x,Log_Res_Quad, constante, robusta)\n",
    "    clear_output()\n",
    "\n",
    "    #Estimando os pesos\n",
    "    Pesos = np.exp(Lista_ychapeu)\n",
    "\n",
    "    #Fazendo uma Regressão MQP\n",
    "    Regressao_MQP(x,y, 1/Pesos, constante, robusta)\n",
    "\n",
    "def Teste_LM(x, y, Restrições, Nivel_de_Significância = 0.05):\n",
    "    '''\n",
    "    Função que calcula um teste LM e dá o resultado teste de hipótese para o caso de todas as restrições serem conjuntamente estatisticamente não-significantes.\n",
    "\n",
    "    x: lista ou array com os valores das variáveis independentes;\n",
    "    y: lista ou array com os valores da variável dependente;\n",
    "    Restrições: lista ou array com os valores a serem tirados do modelo restrito;\n",
    "    Nivel_de_Significância: nível de significância do teste. Caso branco, o nível de significancia padrão é de 5%.\n",
    "    '''\n",
    "\n",
    "    ##Definindo as variáveis de cada modelo\n",
    "    ModeloIrrestrito = list(x)\n",
    "    ModeloRestrito = []\n",
    "    Restrições = list(Restrições)\n",
    "\n",
    "    Numero_de_Observações = len(y)\n",
    "    GL_r = len(Restrições)\n",
    "\n",
    "    for i in ModeloIrrestrito:\n",
    "        if i not in Restrições:\n",
    "            ModeloRestrito.append(i)\n",
    "    \n",
    "    #Fazendo a regressão do modelo restrito e armazenando os resíduos\n",
    "    Regressao_Multipla(df[ModeloRestrito], y)\n",
    "    Resíduos_r = Resíduos\n",
    "\n",
    "    #Fazendo a regressão dos resíduos sobre as variáveis independentes e armazenando o R2\n",
    "    Regressao_Multipla(x, Resíduos_r)\n",
    "    Ru = Resultado.rsquared\n",
    "\n",
    "    #Calculando a estatística LM\n",
    "    LM = Numero_de_Observações*Ru\n",
    "\n",
    "    #Calculando o p-valor\n",
    "    ##Calculando o P-valor de F\n",
    "    P_valor = stats.chi2.sf(LM,GL_r)\n",
    "\n",
    "    #Limpando a tela\n",
    "    clear_output()\n",
    "\n",
    "    #Printando o resultado\n",
    "    if Nivel_de_Significância > P_valor:\n",
    "        print(f\"O valor de LM é {round(LM,3)} e seu p-valor é {round(P_valor,7)}. Portanto, rejeita-se Ho a um nível de significância de {Nivel_de_Significância*100}%.\")\n",
    "    else:\n",
    "        print(f\"O valor de LM é {round(LM,3)} e seu p-valor é {round(P_valor,7)}. Portanto, não se rejeita Ho a um nível de significância de {Nivel_de_Significância*100}%.\")\n",
    "\n",
    "\n",
    "def Teste_F(x, y, Restrições, Nivel_de_Significância = 0.05):\n",
    "    '''\n",
    "    Função que calcula um teste F e dá o resultado teste de hipótese para o caso de todas as restrições serem conjuntamente estatisticamente não-significantes.\n",
    "\n",
    "    x: lista ou array com os valores das variáveis independentes;\n",
    "    y: lista ou array com os valores da variável dependente;\n",
    "    Restrições: lista ou array com os valores a serem tirados do modelo restrito;\n",
    "    Nivel_de_Significância: nível de significância do teste. Caso branco, o nível de significancia padrão é de 5%.\n",
    "    '''\n",
    "\n",
    "    ##Definindo as variáveis de cada modelo\n",
    "    #para testar igualdade dos coeficientes, F2, p_valueF2 = results.Ftest(['ACT', 'skipped'], equal=True)\n",
    "    ModeloIrrestrito = list(x)\n",
    "    ModeloRestrito = []\n",
    "    Restrições = list(Restrições)\n",
    "\n",
    "    Numero_de_Observações = len(y)\n",
    "    GL_ir = Numero_de_Observações - (len(ModeloIrrestrito) + 1)\n",
    "    GL_r = len(Restrições)\n",
    "\n",
    "    for i in ModeloIrrestrito:\n",
    "        if i not in Restrições:\n",
    "            ModeloRestrito.append(i)\n",
    "\n",
    "    ##Fazendo as regressões de cada modelo\n",
    "    Regressao_Multipla(x, y)\n",
    "    SQR_ir = SQR\n",
    "    VarianciaReg_ir = EPR**2\n",
    "\n",
    "    Regressao_Multipla(df[ModeloRestrito], y)\n",
    "    SQR_r = SQR\n",
    "\n",
    "    #Limpando a tela\n",
    "    clear_output()\n",
    "    \n",
    "    ##Calculando F\n",
    "    F = (SQR_r - SQR_ir)/(len(Restrições)*VarianciaReg_ir)\n",
    "\n",
    "    ##Calculando o P-valor de F\n",
    "    P_valor = stats.f.sf(F,GL_r,GL_ir)\n",
    "\n",
    "    if Nivel_de_Significância > P_valor:\n",
    "        print(f\"O valor de F é {round(F,3)} e seu p-valor é {round(P_valor,7)}. Portanto, rejeita-se Ho à significância de {Nivel_de_Significância*100}%.\")\n",
    "    else:\n",
    "        print(f\"O valor de F é {round(F,3)} e seu p-valor é {round(P_valor,7)}. Portanto, não se rejeita Ho à significância de {Nivel_de_Significância*100}%.\")\n",
    "\n",
    "def Teste_F_Rapido_Robusto(H0, Nivel_de_Significância = 0.05):\n",
    "    '''\n",
    "    Função que calcula um teste F de forma mais rápida com base nas restrições de H0, podendo ser robusto se o Resultado for fruto de uma regressão robusta.\n",
    "    H0 deve estar na forma B1 = B2 =...= Valor que deseja ser testado (0 na maioria das vezes)\n",
    "    '''\n",
    "    global Resultado\n",
    "    ## A função utiliza o método wald_test dos resultados das regressões\n",
    "    # Para modelos de painel - cujo método usa a estatística LM -, devemos especificar o parâmetro 'formula', o que não ocorre com cortes transversais\n",
    "    try:\n",
    "        teste = 'LM'\n",
    "        est = Resultado.wald_test(formula=H0).stat\n",
    "        p = Resultado.wald_test(formula=H0).pval\n",
    "    except:\n",
    "        teste = 'F'\n",
    "        est = float(str(Resultado.wald_test(H0))[19:29])\n",
    "        p = float(str(Resultado.wald_test(H0))[36:47])\n",
    "\n",
    "    if Nivel_de_Significância > p:\n",
    "        print(f\"O valor de {teste} é {round(est,6)} e seu p-valor é {round(p,7)}.\\nPortanto, rejeita-se Ho à significância de {Nivel_de_Significância*100}%, ou seja, as variáveis são conjuntamente significantes.\")\n",
    "    else:\n",
    "        print(f\"O valor de {teste} é {round(est,6)} e seu p-valor é {round(p,7)}.\\nPortanto, NÃO se rejeita Ho à significância de {Nivel_de_Significância*100}%, ou seja, as variáveis NÃO são conjuntamente significantes.\")\n",
    "\n",
    "def Teste_t_Dois_Coeficientes_Iguais(x, y, Coeficientes_Testados_para_serem_iguais, Nivel_de_Significância = 0.05):\n",
    "    '''\n",
    "    Função que executa um teste t para verificar se dois coeficientes são iguais.\n",
    "\n",
    "    x: lista ou array com os valores das variáveis independentes;\n",
    "    y: lista ou array com os valores da variável dependente;\n",
    "    Coeficientes_Testados_para_serem_iguais: array com os valores dos coeficientes que querem ser testados;\n",
    "    Nivel_de_Significância: nível de significância do teste. Caso branco, o nível de significancia padrão é de 5%.\n",
    "    '''\n",
    "    \n",
    "    ##Fazendo a regressão do modelo irrestrito\n",
    "    Regressao_Multipla(x, y)\n",
    "    clear_output()\n",
    "\n",
    "    #Fazendo o objeto de lista que será usado no teste\n",
    "    Teste =[0]\n",
    "    Num_de_Variaveis = 1\n",
    "\n",
    "    for i in list(x):\n",
    "        if i not in list(Coeficientes_Testados_para_serem_iguais):\n",
    "            Teste.append(0)\n",
    "        elif (Num_de_Variaveis % 2 == 0):\n",
    "            Teste.append(-1)\n",
    "        else:\n",
    "            Teste.append(1)\n",
    "            Num_de_Variaveis += 1\n",
    "\n",
    "    Teste_t = Resultado.t_test(Teste)\n",
    "    print(f\"A estatística do teste é {Teste_t.tvalue}, o que resulta em um p-valor bilateral de {Teste_t.pvalue} e em um p-valor unilateral de {Teste_t.pvalue/2}.\")\n",
    "\n",
    "def Teste_Heteroscedasticidade_BP(x, y, constante = \"S\", Nivel_de_Significância = 0.05, Estatística = \"LM\"):\n",
    "    '''\n",
    "    Função que executa o teste de Breusch-Pagan para a heteroscedasticidade.\n",
    "\n",
    "    x: lista ou array com os valores das variáveis independentes;\n",
    "    y: lista ou array com os valores da variável dependente;\n",
    "    constante: \"S\" para regressão com intercepto e qualquer outro valor para sem intercepto. Caso em branco, a regressão é computada com intercepto;\n",
    "    Nivel_de_Significância: nível de significância do teste. Caso branco, o nível de significancia padrão é de 5%.\n",
    "    Estatística = LM ou F\n",
    "    '''\n",
    "\n",
    "    #Fazendo a regressão e limpando a tela\n",
    "    Regressao_Multipla(x,y,constante)\n",
    "    clear_output()\n",
    "\n",
    "    #Calculando o quadrado dos resíduos\n",
    "    Res_Quad = Resíduos**2\n",
    "\n",
    "    #Realizando o teste F ou LM de Res_Quad sobre as variaveis dependentes para ver se há correlação\n",
    "    if Estatística == \"LM\":\n",
    "        Teste_LM(x, Res_Quad, x, Nivel_de_Significância)\n",
    "        print(\"Ho: O erro é homoscedástico\")\n",
    "    else:\n",
    "        Teste_F(x, Res_Quad, x, Nivel_de_Significância)\n",
    "        print(\"Ho: O erro é homoscedástico\")\n",
    "\n",
    "def Teste_Heteroscedasticidade_White(x, y, constante = \"S\", Nivel_de_Significância = 0.05, Estatística = \"LM\"):\n",
    "    '''\n",
    "    Função que executa o teste de White (modificado por Wooldridge) para a heteroscedasticidade.\n",
    "\n",
    "    x: lista ou array com os valores das variáveis independentes;\n",
    "    y: lista ou array com os valores da variável dependente;\n",
    "    constante: \"S\" para regressão com intercepto e qualquer outro valor para sem intercepto. Caso em branco, a regressão é computada com intercepto;\n",
    "    Nivel_de_Significância: nível de significância do teste. Caso branco, o nível de significancia padrão é de 5%.\n",
    "    Estatística: LM ou F\n",
    "    '''\n",
    "\n",
    "    #Fazendo a regressão e limpando a tela\n",
    "    Regressao_Multipla(x,y,constante)\n",
    "    clear_output()\n",
    "\n",
    "    #Calculando o quadrado dos resíduos\n",
    "    Res_Quad = Resultado.resid**2\n",
    "\n",
    "    #Calculando o quadrado dos valores previstos\n",
    "    Previstos = Lista_ychapeu\n",
    "    Previstos2 = Previstos**2\n",
    "\n",
    "    #Criando um dataframe pra armazenar esses valores\n",
    "    dfy_y2 = pd.DataFrame({\"y\":Previstos,\"y2\":Previstos2})\n",
    "    y_y2 = dfy_y2[['y','y2']]\n",
    "\n",
    "    #Realizando o teste F ou LM de Res_Quad sobre y e y^2\n",
    "    if Estatística == \"LM\":\n",
    "        Teste_LM(y_y2, Res_Quad, y_y2, Nivel_de_Significância)\n",
    "        print(\"Ho: O erro é homoscedástico\")\n",
    "    else:\n",
    "        Teste_F(y_y2, Res_Quad, y_y2, Nivel_de_Significância)\n",
    "        print(\"Ho: O erro é homoscedástico\")\n",
    "\n",
    "def RESET(x, y, constante = \"S\", robusta = \"N\", Nivel_de_Significância = 0.05):\n",
    "    '''\n",
    "    Função que executa um teste RESET para verificar a adequação das formas funcionais.\n",
    "    Ho: o modelo está bem especificado.\n",
    "\n",
    "    x: lista ou array com os valores das variáveis independentes;\n",
    "    y: lista ou array com os valores da variável dependente;\n",
    "    constante: \"S\" para regressão com intercepto e qualquer outro valor para sem intercepto. Caso em branco, a regressão é computada com intercepto;\n",
    "    robusta: \"N\" para regressão com erros-padrão tradicionais e qualquer outro valor para erros-padrões robustos. Caso em branco, a regressão é computada com erros-padrão comuns;\n",
    "    Nivel_de_Significância: nível de significância do teste. Caso branco, o nível de significancia padrão é de 5%.\n",
    "    '''\n",
    "    #Fazendo uma regressão múltipla e limpando a tela\n",
    "    Regressao_Multipla(x, y, constante)\n",
    "    clear_output()\n",
    "\n",
    "    #Verificando o tipo da covariância selecionada\n",
    "    if robusta == \"N\":\n",
    "        tipo = 'nonrobust'\n",
    "    else:\n",
    "        tipo = 'HC1'\n",
    "\n",
    "    Teste = sm.stats.diagnostic.linear_reset(Resultado, power = 2, use_f = False, cov_type = tipo)\n",
    "    \n",
    "    if Teste.pvalue < Nivel_de_Significância:\n",
    "        print(f\"\"\"\n",
    "        O p-valor do teste foi de {np.around(Teste.pvalue,6)}, menor que o nível de significância de {Nivel_de_Significância*100}%.\\n\n",
    "        Assim, rejeita-se Ho (o modelo está MAL especificado).\"\"\"\n",
    "        )\n",
    "    else:\n",
    "        print(f\"\"\"\n",
    "        O p-valor do teste foi de {np.around(Teste.pvalue,6)}, maior que o nível de significância de {Nivel_de_Significância*100}%.\\n\n",
    "        Assim, não se rejeita Ho (o modelo NÃO está MAL especificado)\"\"\"\n",
    "        )\n",
    "\n",
    "def Teste_J_Davidson_MacKinnon(x1,x2, y, constante = \"S\", robusta = \"N\", Nivel_de_Significância = 0.05):\n",
    "    '''\n",
    "    Função que executa um teste J para verificar qual o modelo mais adequado (dentre os dois colocados).\n",
    "    Ho: o modelo 1 é preferível (ver o p-valor do último coeficiente).\n",
    "\n",
    "    x1: lista ou array com os valores das variáveis independentes do primeiro modelo;\n",
    "    x2: lista ou array com os valores das variáveis independentes do segundo modelo;\n",
    "    y: lista ou array com os valores da variável dependente;\n",
    "    constante: \"S\" para regressão com intercepto e qualquer outro valor para sem intercepto. Caso em branco, a regressão é computada com intercepto;\n",
    "    robusta: \"N\" para regressão com erros-padrão tradicionais e qualquer outro valor para erros-padrões robustos. Caso em branco, a regressão é computada com erros-padrão comuns;\n",
    "    Nivel_de_Significância: nível de significância do teste. Caso branco, o nível de significancia padrão é de 5%.\n",
    "    '''\n",
    "    \n",
    "    #Fazendo a regressão do segundo modelo\n",
    "    Regressao_Multipla(x2, y, constante, robusta)\n",
    "    clear_output()\n",
    "\n",
    "    #Criando um novo dataframe e adicionando os valores previstos do modelo 2 à x\n",
    "    Valores_Previstos_2 = pd.DataFrame({'Previsão M1':Lista_ychapeu})\n",
    "    x = pd.concat([x1, Valores_Previstos_2], axis=1, sort=False)\n",
    "\n",
    "    #Fazendo a regressão do primeiro modelo sobre x\n",
    "    Regressao_Multipla(x, y, constante, robusta)\n",
    "    clear_output()\n",
    "\n",
    "    #Pegando o p-valor do teste\n",
    "    P_valor = Resultado.pvalues[-1]\n",
    "\n",
    "    if P_valor < Nivel_de_Significância:\n",
    "        print(f\"\"\"\n",
    "        O p-valor do teste foi de {np.around(P_valor,6)}, menor que o nível de significância de {Nivel_de_Significância*100}%.\\n\n",
    "        Assim, rejeita-se Ho (ou seja, o modelo 2 ({list(x2)}) é mais bem especificado).\"\"\"\n",
    "        )\n",
    "    else:\n",
    "        print(f\"\"\"\n",
    "        O p-valor do teste foi de {np.around(P_valor,6)}, menor que o nível de significância de {Nivel_de_Significância*100}%.\\n\n",
    "        Assim, não se rejeita Ho (ou seja, o modelo 1 ({list(x1)}) é mais bem especificado).\"\"\"\n",
    "        )\n",
    "\n",
    "######### Funções de Dados em Painel #########\n",
    "def Arrumar_Painel():\n",
    "    '''\n",
    "    Função que transforma o painel num formato que o PanelOLS consegue ler (index multinível e coluna do tipo categoria para os anos)\n",
    "    '''\n",
    "    global df\n",
    "\n",
    "    # pedir a coluna com os indivíduos; se o nome for inválido, sair da função.\n",
    "    coluna_individuos = str(input('Qual o rótulo da coluna de indivíduos/observações?\\n'))\n",
    "    if coluna_individuos not in df.columns:\n",
    "        print(\"Coluna de indivíduos não está no dataframe. Insira uma coluna válida e tente novamente!\")\n",
    "        return None\n",
    "    \n",
    "    # pedir a coluna com os períodos de tempo; se o valor for inválido, sair da função.\n",
    "    coluna_tempo = str(input('Qual o rótulo da coluna de tempo/agrupamento?\\n'))\n",
    "    if coluna_tempo not in df.columns:\n",
    "        print(\"Coluna de tempo não está no dataframe. Insira uma coluna válida e tente novamente!\")\n",
    "        return None\n",
    "\n",
    "    ## arrumando o painel\n",
    "    periodos = pd.Categorical(df[coluna_tempo])\n",
    "    df = df.set_index([coluna_individuos,coluna_tempo])\n",
    "    df[coluna_tempo] = periodos\n",
    "    return df\n",
    "\n",
    "def Reg_Painel_Primeiras_Diferenças (x,y, robusta = \"N\"):\n",
    "    '''\n",
    "    Função que calcula uma regressão de primeiras diferenças SEM um intercepto, sendo, por default, computada com erros padrões não robustos.\n",
    "    Para calcular a regressão com um intercepto, ver o notebook \"Cap 13 e 14\".\n",
    "    **IMPORTANTE: para o painel estar arrumado, os dados devem estar multi-indexados por indíviduo e por tempo, nesta ordem.\n",
    "    Caso contrário, transformar o dataframe usando a função 'Arrumar Painel'\n",
    "    x: lista ou array com os valores das variáveis independentes;\n",
    "    y: lista ou array com os valores da variável dependente;\n",
    "    robusta: \"N\" para regressão com erros-padrão tradicionais e qualquer outro valor para erros-padrões robustos. Caso em branco, a regressão é computada com erros-padrão comuns.\n",
    "    '''\n",
    "    global df, Resultado\n",
    "\n",
    "    Modelo = FirstDifferenceOLS(y, x)\n",
    "\n",
    "    if robusta == \"N\":\n",
    "        Resultado = Modelo.fit()\n",
    "    else:\n",
    "        Resultado = Modelo.fit(cov_type = 'robust')\n",
    "\n",
    "    print(Resultado)\n",
    "\n",
    "def Reg_Painel_Efeitos_Fixos(x, y, constante = \"S\", robusta = \"N\"):\n",
    "    '''\n",
    "    Função que calcula uma regressão de efeitos fixos, sendo, por default, computada com um intercepto e com erros padrões não robustos.\n",
    "    **IMPORTANTE: para o painel estar arrumado, os dados devem estar multi-indexados por indíviduo e por tempo, nesta ordem.\n",
    "    Caso contrário, transformar o dataframe usando a função 'Arrumar Painel'\n",
    "    x: lista ou array com os valores das variáveis independentes;\n",
    "    y: lista ou array com os valores da variável dependente;\n",
    "    constante: \"S\" para regressão com intercepto e qualquer outro valor para sem intercepto. Caso em branco, a regressão é computada com intercepto;\n",
    "    robusta: \"N\" para regressão com erros-padrão tradicionais e qualquer outro valor para erros-padrões robustos. Caso em branco, a regressão é computada com erros-padrão comuns.\n",
    "    '''\n",
    "    global df, Resultado\n",
    "    \n",
    "    # formando o vetor de variáveis independentes\n",
    "    if constante == \"S\":\n",
    "        X = sm.add_constant(x)\n",
    "    else:\n",
    "        X = x\n",
    "    \n",
    "    #Criando o Modelo levando em conta a opção de ser uma regressão robusta p/ heteroscedasticidade ou não\n",
    "    Modelo = PanelOLS(y,X, entity_effects=True, drop_absorbed=True)\n",
    "    if robusta == \"N\":\n",
    "        Resultado = Modelo.fit()\n",
    "    else:\n",
    "        Resultado = Modelo.fit(cov_type = 'robust')\n",
    "    print(Resultado)\n",
    "\n",
    "def Reg_Painel_MQO_Agrupado(x, y, constante = \"S\", robusta = \"S\"):\n",
    "    '''\n",
    "    Função que calcula uma regressão por MQO agrupado, sendo, por default, computada com um intercepto e com erros padrões  robustos.\n",
    "    **IMPORTANTE: para o painel estar arrumado, os dados devem estar multi-indexados por indíviduo e por tempo, nesta ordem.\n",
    "    Caso contrário, transformar o dataframe usando a função 'Arrumar Painel'\n",
    "    x: lista ou array com os valores das variáveis independentes;\n",
    "    y: lista ou array com os valores da variável dependente;\n",
    "    constante: \"S\" para regressão com intercepto e qualquer outro valor para sem intercepto. Caso em branco, a regressão é computada com intercepto;\n",
    "    robusta: \"N\" para regressão com erros-padrão tradicionais e qualquer outro valor para erros-padrões robustos.\n",
    "        Caso em branco, a regressão é computada com erros-padrão robustos (correlação serial positiva dos erros compostos).\n",
    "    '''\n",
    "    global df, Resultado\n",
    "    \n",
    "    # formando o vetor de variáveis independentes\n",
    "    if constante == \"S\":\n",
    "        X = sm.add_constant(x)\n",
    "    else:\n",
    "        X = x\n",
    "    \n",
    "    #Criando o Modelo levando em conta a opção de ser uma regressão robusta p/ heteroscedasticidade ou não\n",
    "    Modelo = PooledOLS(y,X)\n",
    "    if robusta == \"N\":\n",
    "        Resultado = Modelo.fit()\n",
    "    else:\n",
    "        Resultado = Modelo.fit(cov_type = 'robust')\n",
    "    print(Resultado)\n",
    "\n",
    "def Reg_Painel_Efeitos_Aleatórios(x, y, constante = \"S\"):\n",
    "    '''\n",
    "    Função que calcula uma regressão de efeitos fixos, sendo, por default, computada com um intercepto e com erros padrões  robustos.\n",
    "    **IMPORTANTE: para o painel estar arrumado, os dados devem estar multi-indexados por indíviduo e por tempo, nesta ordem.\n",
    "    Caso contrário, transformar o dataframe usando a função 'Arrumar Painel'\n",
    "    x: lista ou array com os valores das variáveis independentes;\n",
    "    y: lista ou array com os valores da variável dependente;\n",
    "    constante: \"S\" para regressão com intercepto e qualquer outro valor para sem intercepto. Caso em branco, a regressão é computada com intercepto;\n",
    "    robusta: \"N\" para regressão com erros-padrão tradicionais e qualquer outro valor para erros-padrões robustos. Caso em branco, a regressão é computada com erros-padrão robustos.\n",
    "    '''\n",
    "    global df, Resultado\n",
    "    \n",
    "    # formando o vetor de variáveis independentes\n",
    "    if constante == \"S\":\n",
    "        X = sm.add_constant(x)\n",
    "    else:\n",
    "        X = x\n",
    "    \n",
    "    #Criando o Modelo\n",
    "    Modelo = RandomEffects(y,X)\n",
    "    Resultado = Modelo.fit()\n",
    "    print(Resultado)"
   ]
  },
  {
   "source": [
    "## Exercício C1"
   ],
   "cell_type": "markdown",
   "metadata": {}
  },
  {
   "cell_type": "code",
   "execution_count": 2,
   "metadata": {},
   "outputs": [
    {
     "output_type": "stream",
     "name": "stdout",
     "text": [
      "rental.dta foi lido com sucesso!\n"
     ]
    },
    {
     "output_type": "execute_result",
     "data": {
      "text/plain": [
       "     city  year       pop   enroll  rent   rnthsg   tothsg   avginc  \\\n",
       "0       1    80   75211.0  15303.0   197  13475.0  26167.0  11537.0   \n",
       "1       1    90   77759.0  18017.0   342  15660.0  29467.0  19568.0   \n",
       "2       2    80  106743.0  22462.0   323  14580.0  37277.0  19841.0   \n",
       "3       2    90  141865.0  29769.0   496  26895.0  55540.0  31885.0   \n",
       "4       3    80   36608.0  11847.0   216   7026.0  13482.0  11455.0   \n",
       "..    ...   ...       ...      ...   ...      ...      ...      ...   \n",
       "123    62    90   56856.0  10640.0   352   8980.0  21118.0  24735.0   \n",
       "124    63    80   48347.0   9051.0   220   8224.0  18085.0  13458.0   \n",
       "125    63    90   51003.0   9961.0   344  10073.0  19970.0  21947.0   \n",
       "126    64    80  170616.0  37475.0   243  34108.0  66451.0  16510.0   \n",
       "127    64    90  191262.0  44601.0   472  41029.0  77361.0  29420.0   \n",
       "\n",
       "       lenroll       lpop  ...    lavginc      clenroll     clpop    clrent  \\\n",
       "0     9.635804  11.228053  ...   9.353314           NaN       NaN       NaN   \n",
       "1     9.799071  11.261370  ...   9.881651 -15293.201172  0.033317  0.551607   \n",
       "2    10.019580  11.578179  ...   9.895506           NaN       NaN       NaN   \n",
       "3    10.301223  11.862631  ...  10.369891 -22451.699219  0.284451  0.428924   \n",
       "4     9.379830  10.508022  ...   9.346182           NaN       NaN       NaN   \n",
       "..         ...        ...  ...        ...           ...       ...       ...   \n",
       "123   9.272376  10.948277  ...  10.115974  -9600.727539  0.098765  0.447531   \n",
       "124   9.110631  10.786160  ...   9.507329           NaN       NaN       NaN   \n",
       "125   9.206432  10.839640  ...   9.996386  -9041.793945  0.053480  0.447014   \n",
       "126  10.531429  12.047171  ...   9.711721           NaN       NaN       NaN   \n",
       "127  10.705511  12.161400  ...  10.289430 -37464.292969  0.114229  0.663918   \n",
       "\n",
       "     cltothsg  clrnthsg  clavginc     pctstu   cpctstu  y90  \n",
       "0         NaN       NaN       NaN  20.346758       NaN    0  \n",
       "1    0.118772  0.150273  0.528337  23.170309  2.823551    1  \n",
       "2         NaN       NaN       NaN  21.043066       NaN    0  \n",
       "3    0.398727  0.612289  0.474385  20.984034 -0.059032    1  \n",
       "4         NaN       NaN       NaN  32.361778       NaN    0  \n",
       "..        ...       ...       ...        ...       ...  ...  \n",
       "123  0.140006  0.225234  0.537041  18.713943  0.057011    1  \n",
       "124       NaN       NaN       NaN  18.720913       NaN    0  \n",
       "125  0.099148  0.202803  0.489057  19.530224  0.809311    1  \n",
       "126       NaN       NaN       NaN  21.964529       NaN    0  \n",
       "127  0.152018  0.184747  0.577708  23.319321  1.354792    1  \n",
       "\n",
       "[128 rows x 23 columns]"
      ],
      "text/html": "<div>\n<style scoped>\n    .dataframe tbody tr th:only-of-type {\n        vertical-align: middle;\n    }\n\n    .dataframe tbody tr th {\n        vertical-align: top;\n    }\n\n    .dataframe thead th {\n        text-align: right;\n    }\n</style>\n<table border=\"1\" class=\"dataframe\">\n  <thead>\n    <tr style=\"text-align: right;\">\n      <th></th>\n      <th>city</th>\n      <th>year</th>\n      <th>pop</th>\n      <th>enroll</th>\n      <th>rent</th>\n      <th>rnthsg</th>\n      <th>tothsg</th>\n      <th>avginc</th>\n      <th>lenroll</th>\n      <th>lpop</th>\n      <th>...</th>\n      <th>lavginc</th>\n      <th>clenroll</th>\n      <th>clpop</th>\n      <th>clrent</th>\n      <th>cltothsg</th>\n      <th>clrnthsg</th>\n      <th>clavginc</th>\n      <th>pctstu</th>\n      <th>cpctstu</th>\n      <th>y90</th>\n    </tr>\n  </thead>\n  <tbody>\n    <tr>\n      <th>0</th>\n      <td>1</td>\n      <td>80</td>\n      <td>75211.0</td>\n      <td>15303.0</td>\n      <td>197</td>\n      <td>13475.0</td>\n      <td>26167.0</td>\n      <td>11537.0</td>\n      <td>9.635804</td>\n      <td>11.228053</td>\n      <td>...</td>\n      <td>9.353314</td>\n      <td>NaN</td>\n      <td>NaN</td>\n      <td>NaN</td>\n      <td>NaN</td>\n      <td>NaN</td>\n      <td>NaN</td>\n      <td>20.346758</td>\n      <td>NaN</td>\n      <td>0</td>\n    </tr>\n    <tr>\n      <th>1</th>\n      <td>1</td>\n      <td>90</td>\n      <td>77759.0</td>\n      <td>18017.0</td>\n      <td>342</td>\n      <td>15660.0</td>\n      <td>29467.0</td>\n      <td>19568.0</td>\n      <td>9.799071</td>\n      <td>11.261370</td>\n      <td>...</td>\n      <td>9.881651</td>\n      <td>-15293.201172</td>\n      <td>0.033317</td>\n      <td>0.551607</td>\n      <td>0.118772</td>\n      <td>0.150273</td>\n      <td>0.528337</td>\n      <td>23.170309</td>\n      <td>2.823551</td>\n      <td>1</td>\n    </tr>\n    <tr>\n      <th>2</th>\n      <td>2</td>\n      <td>80</td>\n      <td>106743.0</td>\n      <td>22462.0</td>\n      <td>323</td>\n      <td>14580.0</td>\n      <td>37277.0</td>\n      <td>19841.0</td>\n      <td>10.019580</td>\n      <td>11.578179</td>\n      <td>...</td>\n      <td>9.895506</td>\n      <td>NaN</td>\n      <td>NaN</td>\n      <td>NaN</td>\n      <td>NaN</td>\n      <td>NaN</td>\n      <td>NaN</td>\n      <td>21.043066</td>\n      <td>NaN</td>\n      <td>0</td>\n    </tr>\n    <tr>\n      <th>3</th>\n      <td>2</td>\n      <td>90</td>\n      <td>141865.0</td>\n      <td>29769.0</td>\n      <td>496</td>\n      <td>26895.0</td>\n      <td>55540.0</td>\n      <td>31885.0</td>\n      <td>10.301223</td>\n      <td>11.862631</td>\n      <td>...</td>\n      <td>10.369891</td>\n      <td>-22451.699219</td>\n      <td>0.284451</td>\n      <td>0.428924</td>\n      <td>0.398727</td>\n      <td>0.612289</td>\n      <td>0.474385</td>\n      <td>20.984034</td>\n      <td>-0.059032</td>\n      <td>1</td>\n    </tr>\n    <tr>\n      <th>4</th>\n      <td>3</td>\n      <td>80</td>\n      <td>36608.0</td>\n      <td>11847.0</td>\n      <td>216</td>\n      <td>7026.0</td>\n      <td>13482.0</td>\n      <td>11455.0</td>\n      <td>9.379830</td>\n      <td>10.508022</td>\n      <td>...</td>\n      <td>9.346182</td>\n      <td>NaN</td>\n      <td>NaN</td>\n      <td>NaN</td>\n      <td>NaN</td>\n      <td>NaN</td>\n      <td>NaN</td>\n      <td>32.361778</td>\n      <td>NaN</td>\n      <td>0</td>\n    </tr>\n    <tr>\n      <th>...</th>\n      <td>...</td>\n      <td>...</td>\n      <td>...</td>\n      <td>...</td>\n      <td>...</td>\n      <td>...</td>\n      <td>...</td>\n      <td>...</td>\n      <td>...</td>\n      <td>...</td>\n      <td>...</td>\n      <td>...</td>\n      <td>...</td>\n      <td>...</td>\n      <td>...</td>\n      <td>...</td>\n      <td>...</td>\n      <td>...</td>\n      <td>...</td>\n      <td>...</td>\n      <td>...</td>\n    </tr>\n    <tr>\n      <th>123</th>\n      <td>62</td>\n      <td>90</td>\n      <td>56856.0</td>\n      <td>10640.0</td>\n      <td>352</td>\n      <td>8980.0</td>\n      <td>21118.0</td>\n      <td>24735.0</td>\n      <td>9.272376</td>\n      <td>10.948277</td>\n      <td>...</td>\n      <td>10.115974</td>\n      <td>-9600.727539</td>\n      <td>0.098765</td>\n      <td>0.447531</td>\n      <td>0.140006</td>\n      <td>0.225234</td>\n      <td>0.537041</td>\n      <td>18.713943</td>\n      <td>0.057011</td>\n      <td>1</td>\n    </tr>\n    <tr>\n      <th>124</th>\n      <td>63</td>\n      <td>80</td>\n      <td>48347.0</td>\n      <td>9051.0</td>\n      <td>220</td>\n      <td>8224.0</td>\n      <td>18085.0</td>\n      <td>13458.0</td>\n      <td>9.110631</td>\n      <td>10.786160</td>\n      <td>...</td>\n      <td>9.507329</td>\n      <td>NaN</td>\n      <td>NaN</td>\n      <td>NaN</td>\n      <td>NaN</td>\n      <td>NaN</td>\n      <td>NaN</td>\n      <td>18.720913</td>\n      <td>NaN</td>\n      <td>0</td>\n    </tr>\n    <tr>\n      <th>125</th>\n      <td>63</td>\n      <td>90</td>\n      <td>51003.0</td>\n      <td>9961.0</td>\n      <td>344</td>\n      <td>10073.0</td>\n      <td>19970.0</td>\n      <td>21947.0</td>\n      <td>9.206432</td>\n      <td>10.839640</td>\n      <td>...</td>\n      <td>9.996386</td>\n      <td>-9041.793945</td>\n      <td>0.053480</td>\n      <td>0.447014</td>\n      <td>0.099148</td>\n      <td>0.202803</td>\n      <td>0.489057</td>\n      <td>19.530224</td>\n      <td>0.809311</td>\n      <td>1</td>\n    </tr>\n    <tr>\n      <th>126</th>\n      <td>64</td>\n      <td>80</td>\n      <td>170616.0</td>\n      <td>37475.0</td>\n      <td>243</td>\n      <td>34108.0</td>\n      <td>66451.0</td>\n      <td>16510.0</td>\n      <td>10.531429</td>\n      <td>12.047171</td>\n      <td>...</td>\n      <td>9.711721</td>\n      <td>NaN</td>\n      <td>NaN</td>\n      <td>NaN</td>\n      <td>NaN</td>\n      <td>NaN</td>\n      <td>NaN</td>\n      <td>21.964529</td>\n      <td>NaN</td>\n      <td>0</td>\n    </tr>\n    <tr>\n      <th>127</th>\n      <td>64</td>\n      <td>90</td>\n      <td>191262.0</td>\n      <td>44601.0</td>\n      <td>472</td>\n      <td>41029.0</td>\n      <td>77361.0</td>\n      <td>29420.0</td>\n      <td>10.705511</td>\n      <td>12.161400</td>\n      <td>...</td>\n      <td>10.289430</td>\n      <td>-37464.292969</td>\n      <td>0.114229</td>\n      <td>0.663918</td>\n      <td>0.152018</td>\n      <td>0.184747</td>\n      <td>0.577708</td>\n      <td>23.319321</td>\n      <td>1.354792</td>\n      <td>1</td>\n    </tr>\n  </tbody>\n</table>\n<p>128 rows × 23 columns</p>\n</div>"
     },
     "metadata": {},
     "execution_count": 2
    }
   ],
   "source": [
    "coletar_dados('rental')"
   ]
  },
  {
   "cell_type": "code",
   "execution_count": 3,
   "metadata": {},
   "outputs": [
    {
     "output_type": "execute_result",
     "data": {
      "text/plain": [
       "                pop   enroll  rent   rnthsg   tothsg   avginc    lenroll  \\\n",
       "city year                                                                  \n",
       "1    80     75211.0  15303.0   197  13475.0  26167.0  11537.0   9.635804   \n",
       "     90     77759.0  18017.0   342  15660.0  29467.0  19568.0   9.799071   \n",
       "2    80    106743.0  22462.0   323  14580.0  37277.0  19841.0  10.019580   \n",
       "     90    141865.0  29769.0   496  26895.0  55540.0  31885.0  10.301223   \n",
       "3    80     36608.0  11847.0   216   7026.0  13482.0  11455.0   9.379830   \n",
       "...             ...      ...   ...      ...      ...      ...        ...   \n",
       "62   90     56856.0  10640.0   352   8980.0  21118.0  24735.0   9.272376   \n",
       "63   80     48347.0   9051.0   220   8224.0  18085.0  13458.0   9.110631   \n",
       "     90     51003.0   9961.0   344  10073.0  19970.0  21947.0   9.206432   \n",
       "64   80    170616.0  37475.0   243  34108.0  66451.0  16510.0  10.531429   \n",
       "     90    191262.0  44601.0   472  41029.0  77361.0  29420.0  10.705511   \n",
       "\n",
       "                lpop     lrent    ltothsg  ...      clenroll     clpop  \\\n",
       "city year                                  ...                           \n",
       "1    80    11.228053  5.283204  10.172255  ...           NaN       NaN   \n",
       "     90    11.261370  5.834811  10.291026  ... -15293.201172  0.033317   \n",
       "2    80    11.578179  5.777652  10.526132  ...           NaN       NaN   \n",
       "     90    11.862631  6.206576  10.924859  ... -22451.699219  0.284451   \n",
       "3    80    10.508022  5.375278   9.509110  ...           NaN       NaN   \n",
       "...              ...       ...        ...  ...           ...       ...   \n",
       "62   90    10.948277  5.863631   9.957881  ...  -9600.727539  0.098765   \n",
       "63   80    10.786160  5.393628   9.802838  ...           NaN       NaN   \n",
       "     90    10.839640  5.840641   9.901986  ...  -9041.793945  0.053480   \n",
       "64   80    12.047171  5.493062  11.104220  ...           NaN       NaN   \n",
       "     90    12.161400  6.156979  11.256238  ... -37464.292969  0.114229   \n",
       "\n",
       "             clrent  cltothsg  clrnthsg  clavginc     pctstu   cpctstu  y90  \\\n",
       "city year                                                                     \n",
       "1    80         NaN       NaN       NaN       NaN  20.346758       NaN    0   \n",
       "     90    0.551607  0.118772  0.150273  0.528337  23.170309  2.823551    1   \n",
       "2    80         NaN       NaN       NaN       NaN  21.043066       NaN    0   \n",
       "     90    0.428924  0.398727  0.612289  0.474385  20.984034 -0.059032    1   \n",
       "3    80         NaN       NaN       NaN       NaN  32.361778       NaN    0   \n",
       "...             ...       ...       ...       ...        ...       ...  ...   \n",
       "62   90    0.447531  0.140006  0.225234  0.537041  18.713943  0.057011    1   \n",
       "63   80         NaN       NaN       NaN       NaN  18.720913       NaN    0   \n",
       "     90    0.447014  0.099148  0.202803  0.489057  19.530224  0.809311    1   \n",
       "64   80         NaN       NaN       NaN       NaN  21.964529       NaN    0   \n",
       "     90    0.663918  0.152018  0.184747  0.577708  23.319321  1.354792    1   \n",
       "\n",
       "           year  \n",
       "city year        \n",
       "1    80      80  \n",
       "     90      90  \n",
       "2    80      80  \n",
       "     90      90  \n",
       "3    80      80  \n",
       "...         ...  \n",
       "62   90      90  \n",
       "63   80      80  \n",
       "     90      90  \n",
       "64   80      80  \n",
       "     90      90  \n",
       "\n",
       "[128 rows x 22 columns]"
      ],
      "text/html": "<div>\n<style scoped>\n    .dataframe tbody tr th:only-of-type {\n        vertical-align: middle;\n    }\n\n    .dataframe tbody tr th {\n        vertical-align: top;\n    }\n\n    .dataframe thead th {\n        text-align: right;\n    }\n</style>\n<table border=\"1\" class=\"dataframe\">\n  <thead>\n    <tr style=\"text-align: right;\">\n      <th></th>\n      <th></th>\n      <th>pop</th>\n      <th>enroll</th>\n      <th>rent</th>\n      <th>rnthsg</th>\n      <th>tothsg</th>\n      <th>avginc</th>\n      <th>lenroll</th>\n      <th>lpop</th>\n      <th>lrent</th>\n      <th>ltothsg</th>\n      <th>...</th>\n      <th>clenroll</th>\n      <th>clpop</th>\n      <th>clrent</th>\n      <th>cltothsg</th>\n      <th>clrnthsg</th>\n      <th>clavginc</th>\n      <th>pctstu</th>\n      <th>cpctstu</th>\n      <th>y90</th>\n      <th>year</th>\n    </tr>\n    <tr>\n      <th>city</th>\n      <th>year</th>\n      <th></th>\n      <th></th>\n      <th></th>\n      <th></th>\n      <th></th>\n      <th></th>\n      <th></th>\n      <th></th>\n      <th></th>\n      <th></th>\n      <th></th>\n      <th></th>\n      <th></th>\n      <th></th>\n      <th></th>\n      <th></th>\n      <th></th>\n      <th></th>\n      <th></th>\n      <th></th>\n      <th></th>\n    </tr>\n  </thead>\n  <tbody>\n    <tr>\n      <th rowspan=\"2\" valign=\"top\">1</th>\n      <th>80</th>\n      <td>75211.0</td>\n      <td>15303.0</td>\n      <td>197</td>\n      <td>13475.0</td>\n      <td>26167.0</td>\n      <td>11537.0</td>\n      <td>9.635804</td>\n      <td>11.228053</td>\n      <td>5.283204</td>\n      <td>10.172255</td>\n      <td>...</td>\n      <td>NaN</td>\n      <td>NaN</td>\n      <td>NaN</td>\n      <td>NaN</td>\n      <td>NaN</td>\n      <td>NaN</td>\n      <td>20.346758</td>\n      <td>NaN</td>\n      <td>0</td>\n      <td>80</td>\n    </tr>\n    <tr>\n      <th>90</th>\n      <td>77759.0</td>\n      <td>18017.0</td>\n      <td>342</td>\n      <td>15660.0</td>\n      <td>29467.0</td>\n      <td>19568.0</td>\n      <td>9.799071</td>\n      <td>11.261370</td>\n      <td>5.834811</td>\n      <td>10.291026</td>\n      <td>...</td>\n      <td>-15293.201172</td>\n      <td>0.033317</td>\n      <td>0.551607</td>\n      <td>0.118772</td>\n      <td>0.150273</td>\n      <td>0.528337</td>\n      <td>23.170309</td>\n      <td>2.823551</td>\n      <td>1</td>\n      <td>90</td>\n    </tr>\n    <tr>\n      <th rowspan=\"2\" valign=\"top\">2</th>\n      <th>80</th>\n      <td>106743.0</td>\n      <td>22462.0</td>\n      <td>323</td>\n      <td>14580.0</td>\n      <td>37277.0</td>\n      <td>19841.0</td>\n      <td>10.019580</td>\n      <td>11.578179</td>\n      <td>5.777652</td>\n      <td>10.526132</td>\n      <td>...</td>\n      <td>NaN</td>\n      <td>NaN</td>\n      <td>NaN</td>\n      <td>NaN</td>\n      <td>NaN</td>\n      <td>NaN</td>\n      <td>21.043066</td>\n      <td>NaN</td>\n      <td>0</td>\n      <td>80</td>\n    </tr>\n    <tr>\n      <th>90</th>\n      <td>141865.0</td>\n      <td>29769.0</td>\n      <td>496</td>\n      <td>26895.0</td>\n      <td>55540.0</td>\n      <td>31885.0</td>\n      <td>10.301223</td>\n      <td>11.862631</td>\n      <td>6.206576</td>\n      <td>10.924859</td>\n      <td>...</td>\n      <td>-22451.699219</td>\n      <td>0.284451</td>\n      <td>0.428924</td>\n      <td>0.398727</td>\n      <td>0.612289</td>\n      <td>0.474385</td>\n      <td>20.984034</td>\n      <td>-0.059032</td>\n      <td>1</td>\n      <td>90</td>\n    </tr>\n    <tr>\n      <th>3</th>\n      <th>80</th>\n      <td>36608.0</td>\n      <td>11847.0</td>\n      <td>216</td>\n      <td>7026.0</td>\n      <td>13482.0</td>\n      <td>11455.0</td>\n      <td>9.379830</td>\n      <td>10.508022</td>\n      <td>5.375278</td>\n      <td>9.509110</td>\n      <td>...</td>\n      <td>NaN</td>\n      <td>NaN</td>\n      <td>NaN</td>\n      <td>NaN</td>\n      <td>NaN</td>\n      <td>NaN</td>\n      <td>32.361778</td>\n      <td>NaN</td>\n      <td>0</td>\n      <td>80</td>\n    </tr>\n    <tr>\n      <th>...</th>\n      <th>...</th>\n      <td>...</td>\n      <td>...</td>\n      <td>...</td>\n      <td>...</td>\n      <td>...</td>\n      <td>...</td>\n      <td>...</td>\n      <td>...</td>\n      <td>...</td>\n      <td>...</td>\n      <td>...</td>\n      <td>...</td>\n      <td>...</td>\n      <td>...</td>\n      <td>...</td>\n      <td>...</td>\n      <td>...</td>\n      <td>...</td>\n      <td>...</td>\n      <td>...</td>\n      <td>...</td>\n    </tr>\n    <tr>\n      <th>62</th>\n      <th>90</th>\n      <td>56856.0</td>\n      <td>10640.0</td>\n      <td>352</td>\n      <td>8980.0</td>\n      <td>21118.0</td>\n      <td>24735.0</td>\n      <td>9.272376</td>\n      <td>10.948277</td>\n      <td>5.863631</td>\n      <td>9.957881</td>\n      <td>...</td>\n      <td>-9600.727539</td>\n      <td>0.098765</td>\n      <td>0.447531</td>\n      <td>0.140006</td>\n      <td>0.225234</td>\n      <td>0.537041</td>\n      <td>18.713943</td>\n      <td>0.057011</td>\n      <td>1</td>\n      <td>90</td>\n    </tr>\n    <tr>\n      <th rowspan=\"2\" valign=\"top\">63</th>\n      <th>80</th>\n      <td>48347.0</td>\n      <td>9051.0</td>\n      <td>220</td>\n      <td>8224.0</td>\n      <td>18085.0</td>\n      <td>13458.0</td>\n      <td>9.110631</td>\n      <td>10.786160</td>\n      <td>5.393628</td>\n      <td>9.802838</td>\n      <td>...</td>\n      <td>NaN</td>\n      <td>NaN</td>\n      <td>NaN</td>\n      <td>NaN</td>\n      <td>NaN</td>\n      <td>NaN</td>\n      <td>18.720913</td>\n      <td>NaN</td>\n      <td>0</td>\n      <td>80</td>\n    </tr>\n    <tr>\n      <th>90</th>\n      <td>51003.0</td>\n      <td>9961.0</td>\n      <td>344</td>\n      <td>10073.0</td>\n      <td>19970.0</td>\n      <td>21947.0</td>\n      <td>9.206432</td>\n      <td>10.839640</td>\n      <td>5.840641</td>\n      <td>9.901986</td>\n      <td>...</td>\n      <td>-9041.793945</td>\n      <td>0.053480</td>\n      <td>0.447014</td>\n      <td>0.099148</td>\n      <td>0.202803</td>\n      <td>0.489057</td>\n      <td>19.530224</td>\n      <td>0.809311</td>\n      <td>1</td>\n      <td>90</td>\n    </tr>\n    <tr>\n      <th rowspan=\"2\" valign=\"top\">64</th>\n      <th>80</th>\n      <td>170616.0</td>\n      <td>37475.0</td>\n      <td>243</td>\n      <td>34108.0</td>\n      <td>66451.0</td>\n      <td>16510.0</td>\n      <td>10.531429</td>\n      <td>12.047171</td>\n      <td>5.493062</td>\n      <td>11.104220</td>\n      <td>...</td>\n      <td>NaN</td>\n      <td>NaN</td>\n      <td>NaN</td>\n      <td>NaN</td>\n      <td>NaN</td>\n      <td>NaN</td>\n      <td>21.964529</td>\n      <td>NaN</td>\n      <td>0</td>\n      <td>80</td>\n    </tr>\n    <tr>\n      <th>90</th>\n      <td>191262.0</td>\n      <td>44601.0</td>\n      <td>472</td>\n      <td>41029.0</td>\n      <td>77361.0</td>\n      <td>29420.0</td>\n      <td>10.705511</td>\n      <td>12.161400</td>\n      <td>6.156979</td>\n      <td>11.256238</td>\n      <td>...</td>\n      <td>-37464.292969</td>\n      <td>0.114229</td>\n      <td>0.663918</td>\n      <td>0.152018</td>\n      <td>0.184747</td>\n      <td>0.577708</td>\n      <td>23.319321</td>\n      <td>1.354792</td>\n      <td>1</td>\n      <td>90</td>\n    </tr>\n  </tbody>\n</table>\n<p>128 rows × 22 columns</p>\n</div>"
     },
     "metadata": {},
     "execution_count": 3
    }
   ],
   "source": [
    "## tornando o painel bonitinho\n",
    "Arrumar_Painel()"
   ]
  },
  {
   "cell_type": "code",
   "execution_count": 4,
   "metadata": {},
   "outputs": [
    {
     "output_type": "execute_result",
     "data": {
      "text/plain": [
       "Index(['pop', 'enroll', 'rent', 'rnthsg', 'tothsg', 'avginc', 'lenroll',\n",
       "       'lpop', 'lrent', 'ltothsg', 'lrnthsg', 'lavginc', 'clenroll', 'clpop',\n",
       "       'clrent', 'cltothsg', 'clrnthsg', 'clavginc', 'pctstu', 'cpctstu',\n",
       "       'y90', 'year'],\n",
       "      dtype='object')"
      ]
     },
     "metadata": {},
     "execution_count": 4
    }
   ],
   "source": [
    "df.columns"
   ]
  },
  {
   "cell_type": "code",
   "execution_count": 5,
   "metadata": {},
   "outputs": [
    {
     "output_type": "stream",
     "name": "stdout",
     "text": [
      "                          PooledOLS Estimation Summary                          \n================================================================================\nDep. Variable:                  lrent   R-squared:                        0.8613\nEstimator:                  PooledOLS   R-squared (Between):              0.5557\nNo. Observations:                 128   R-squared (Within):               0.9694\nDate:                Wed, Mar 10 2021   R-squared (Overall):              0.8613\nTime:                        18:10:50   Log-likelihood                    86.161\nCov. Estimator:                Robust                                           \n                                        F-statistic:                      190.92\nEntities:                          64   P-value                           0.0000\nAvg Obs:                       2.0000   Distribution:                   F(4,123)\nMin Obs:                       2.0000                                           \nMax Obs:                       2.0000   F-statistic (robust):             223.26\n                                        P-value                           0.0000\nTime periods:                       2   Distribution:                   F(4,123)\nAvg Obs:                       64.000                                           \nMin Obs:                       64.000                                           \nMax Obs:                       64.000                                           \n                                                                                \n                             Parameter Estimates                              \n==============================================================================\n            Parameter  Std. Err.     T-stat    P-value    Lower CI    Upper CI\n------------------------------------------------------------------------------\nconst         -0.5688     0.8506    -0.6687     0.5049     -2.2526      1.1149\ny90            0.2622     0.0580     4.5244     0.0000      0.1475      0.3770\nlpop           0.0407     0.0224     1.8185     0.0714     -0.0036      0.0850\nlavginc        0.5714     0.0989     5.7779     0.0000      0.3757      0.7672\npctstu         0.0050     0.0011     4.3902     0.0000      0.0028      0.0073\n==============================================================================\n"
     ]
    }
   ],
   "source": [
    "## Criando o modelo usando MQO Agrupado\n",
    "\n",
    "x = df[['y90','lpop','lavginc','pctstu']]\n",
    "y = df['lrent']\n",
    "Reg_Painel_MQO_Agrupado(x,y)\n",
    "\n",
    "## O MQO agrupado é viesado uma vez que, muito provavelmente, características não-observadas das cidades estão relacionadas com avginc e pctstu (como localização, praia ou não, idade dos habitantes...)"
   ]
  },
  {
   "cell_type": "code",
   "execution_count": 6,
   "metadata": {},
   "outputs": [
    {
     "output_type": "stream",
     "name": "stdout",
     "text": [
      "                            OLS Regression Results                            \n==============================================================================\nDep. Variable:                 clrent   R-squared:                       0.322\nModel:                            OLS   Adj. R-squared:                  0.288\nMethod:                 Least Squares   F-statistic:                     9.510\nDate:                Wed, 10 Mar 2021   Prob (F-statistic):           3.14e-05\nTime:                        18:11:18   Log-Likelihood:                 65.272\nNo. Observations:                  64   AIC:                            -122.5\nDf Residuals:                      60   BIC:                            -113.9\nDf Model:                           3                                         \nCovariance Type:            nonrobust                                         \n==============================================================================\n                 coef    std err          t      P>|t|      [0.025      0.975]\n------------------------------------------------------------------------------\ny90            0.3855      0.037     10.469      0.000       0.312       0.459\nclpop          0.0722      0.088      0.818      0.417      -0.104       0.249\nclavginc       0.3100      0.066      4.663      0.000       0.177       0.443\ncpctstu        0.0112      0.004      2.711      0.009       0.003       0.019\n==============================================================================\nOmnibus:                        2.653   Durbin-Watson:                   1.655\nProb(Omnibus):                  0.265   Jarque-Bera (JB):                2.335\nSkew:                           0.467   Prob(JB):                        0.311\nKurtosis:                       2.934   Cond. No.                         23.0\n==============================================================================\n\nWarnings:\n[1] Standard Errors assume that the covariance matrix of the errors is correctly specified.\nO erro padrão da regressão é 0.09013 e a SQR é 0.48736\n\nPara ver os valores previstos ou os resídudos, basta chamar 'Lista_ychapeu' e 'Resíduos'.\nOs resultados do modelo podem ser obtidos através de métodos usando a variável 'Resultado'.\n\n    Valores de condição maiores que 20 indicam problemas de multicolinearidade.\n    Para ver como achar esse número, entre em https://www.statsmodels.org/dev/examples/notebooks/generated/ols.html\n"
     ]
    }
   ],
   "source": [
    "## Criando o modelo usando primeiras diferenças\n",
    "df_90 = df.loc[df['y90'] == 1]\n",
    "\n",
    "x = df_90[['y90','clpop','clavginc','cpctstu']]\n",
    "y = df_90['clrent']\n",
    "Regressao_Multipla(x,y)"
   ]
  },
  {
   "cell_type": "code",
   "execution_count": 9,
   "metadata": {},
   "outputs": [
    {
     "output_type": "stream",
     "name": "stdout",
     "text": [
      "                          PanelOLS Estimation Summary                           \n================================================================================\nDep. Variable:                  lrent   R-squared:                        0.9765\nEstimator:                   PanelOLS   R-squared (Between):              0.1326\nNo. Observations:                 128   R-squared (Within):               0.9765\nDate:                Wed, Mar 10 2021   R-squared (Overall):              0.7559\nTime:                        18:15:20   Log-likelihood                    219.27\nCov. Estimator:            Unadjusted                                           \n                                        F-statistic:                      624.15\nEntities:                          64   P-value                           0.0000\nAvg Obs:                       2.0000   Distribution:                    F(4,60)\nMin Obs:                       2.0000                                           \nMax Obs:                       2.0000   F-statistic (robust):             624.15\n                                        P-value                           0.0000\nTime periods:                       2   Distribution:                    F(4,60)\nAvg Obs:                       64.000                                           \nMin Obs:                       64.000                                           \nMax Obs:                       64.000                                           \n                                                                                \n                             Parameter Estimates                              \n==============================================================================\n            Parameter  Std. Err.     T-stat    P-value    Lower CI    Upper CI\n------------------------------------------------------------------------------\nconst          1.4094     1.1672     1.2075     0.2320     -0.9254      3.7442\nyear.90        0.3855     0.0368     10.469     0.0000      0.3119      0.4592\nlpop           0.0722     0.0883     0.8178     0.4167     -0.1045      0.2490\nlavginc        0.3100     0.0665     4.6627     0.0000      0.1770      0.4429\npctstu         0.0112     0.0041     2.7114     0.0087      0.0029      0.0195\n==============================================================================\n\nF-test for Poolability: 6.6693\nP-value: 0.0000\nDistribution: F(63,60)\n\nIncluded effects: Entity\n"
     ]
    }
   ],
   "source": [
    "## Criando o modelo usando EF\n",
    "x = df[['year','lpop','lavginc','pctstu']]\n",
    "y = df['lrent']\n",
    "\n",
    "Reg_Painel_Efeitos_Fixos(x,y)\n",
    "## como esperado, quando T=2, EF e PD produzem resultados identicos"
   ]
  },
  {
   "cell_type": "code",
   "execution_count": 40,
   "metadata": {},
   "outputs": [],
   "source": [
    "def hausman_EF_EA(x_inef, y, Nivel_de_Significância = 0.05):\n",
    "    '''\n",
    "    Função que faz um teste de Hausman, em que H0: Não há correlação entre os efeitos não-observados e as variáveis explicativas\n",
    "    x_inef: variáveis explicativas do modelo ineficiente sob H0 (EF);\n",
    "    y: variável explicativa\n",
    "    '''\n",
    "    ## Fazendo a regressão de efeitos fixos e guardando o resultado\n",
    "    Reg_Painel_Efeitos_Fixos(x,y)\n",
    "    clear_output()\n",
    "    fixed = Resultado\n",
    "\n",
    "    ## Fazendo a regressão de efeitos aleatórios e guardando o resultado\n",
    "    Reg_Painel_Efeitos_Aleatórios(x,y)\n",
    "    clear_output()\n",
    "    random = Resultado\n",
    "\n",
    "    ## Calculando a estatística de Hausman\n",
    "    # calculando a diferença entre os parametros e a variância assíntótica da diferença entre os parametros\n",
    "    var_assin = fixed.cov - random.cov\n",
    "    d = fixed.params - random.params\n",
    "    \n",
    "    # calculando H\n",
    "    H = d.dot(np.linalg.inv(var_assin)).dot(d)\n",
    "\n",
    "    # calculando os graus de liberdade\n",
    "    gl = random.params.size -1\n",
    "\n",
    "    # Calculando o P-valor do teste\n",
    "    p = stats.chi2(gl).sf(H)\n",
    "\n",
    "    if p < Nivel_de_Significância:\n",
    "        print(f\"O valor de H é {round(H,6)} com {gl} graus de liberdade na distribuição chi2. O p-valor do teste é {round(p,6)} e, portanto, se rejeita H0 e prefere-se o modelo de efeitos fixos.\")\n",
    "    else:\n",
    "        print(f\"O valor de H é {round(H,6)} com {gl} graus de liberdade na distribuição chi2. O p-valor do teste é {round(p,6)} e, portanto, não se rejeita H0 e prefere-se o modelo de efeitos aleatórios.\")"
   ]
  },
  {
   "source": [
    "## Exercício C2"
   ],
   "cell_type": "markdown",
   "metadata": {}
  },
  {
   "cell_type": "code",
   "execution_count": 12,
   "metadata": {},
   "outputs": [
    {
     "output_type": "stream",
     "name": "stdout",
     "text": [
      "crime4.dta foi lido com sucesso!\n"
     ]
    },
    {
     "output_type": "execute_result",
     "data": {
      "text/plain": [
       "     county  year    crmrte    prbarr   prbconv   prbpris  avgsen     polpc  \\\n",
       "0         1    81  0.039885  0.289696  0.402062  0.472222    5.61  0.001787   \n",
       "1         1    82  0.038345  0.338111  0.433005  0.506993    5.59  0.001767   \n",
       "2         1    83  0.030305  0.330449  0.525703  0.479705    5.80  0.001836   \n",
       "3         1    84  0.034726  0.362525  0.604706  0.520104    6.89  0.001886   \n",
       "4         1    85  0.036573  0.325395  0.578723  0.497059    6.55  0.001924   \n",
       "..      ...   ...       ...       ...       ...       ...     ...       ...   \n",
       "625     197    83  0.015575  0.226667  0.480392  0.428571    7.77  0.001073   \n",
       "626     197    84  0.013662  0.204188  1.410260  0.372727   10.11  0.001109   \n",
       "627     197    85  0.013086  0.180556  0.830769  0.333333    5.96  0.001054   \n",
       "628     197    86  0.012874  0.112676  2.250000  0.244444    7.68  0.001088   \n",
       "629     197    87  0.014193  0.207595  1.182930  0.360825   12.23  0.001186   \n",
       "\n",
       "      density      taxpc  ...  lpctymle   lpctmin  clcrmrte  clprbarr  \\\n",
       "0    2.307159  25.697630  ... -2.433870  3.006608       NaN       NaN   \n",
       "1    2.330254  24.874252  ... -2.449038  3.006608 -0.039376  0.154542   \n",
       "2    2.341801  26.451443  ... -2.464036  3.006608 -0.235316 -0.022922   \n",
       "3    2.346420  26.842348  ... -2.478925  3.006608  0.136180  0.092641   \n",
       "4    2.364896  28.140337  ... -2.497306  3.006608  0.051825 -0.108054   \n",
       "..        ...        ...  ...       ...       ...       ...       ...   \n",
       "625  0.869048  18.905853  ... -2.538060  1.697597 -0.148666 -0.010969   \n",
       "626  0.872024  22.704754  ... -2.548068  1.697597 -0.131037 -0.104441   \n",
       "627  0.875000  24.123611  ... -2.561072  1.697597 -0.043091 -0.123000   \n",
       "628  0.880952  24.981979  ... -2.580968  1.697597 -0.016311 -0.471524   \n",
       "629  0.889881  25.952581  ... -2.601006  1.697597  0.097525  0.611073   \n",
       "\n",
       "     clprbcon  clprbpri  clavgsen   clpolpc   cltaxpc     clmix  \n",
       "0         NaN       NaN       NaN       NaN       NaN       NaN  \n",
       "1    0.074143  0.071048 -0.003571 -0.011364 -0.032565  0.030857  \n",
       "2    0.193987 -0.055326  0.036879  0.038413  0.061477 -0.244732  \n",
       "3    0.140006  0.080857  0.172213  0.026930  0.014670 -0.027331  \n",
       "4   -0.043918 -0.045320 -0.050606  0.020199  0.047223  0.172125  \n",
       "..        ...       ...       ...       ...       ...       ...  \n",
       "625 -0.127018  0.164303  0.157158  0.149330  0.070461  0.020250  \n",
       "626  1.076927 -0.139610  0.263255  0.032795  0.183103  0.026842  \n",
       "627 -0.529178 -0.111704 -0.528454 -0.050473  0.060617 -0.366374  \n",
       "628  0.996334 -0.310156  0.253549  0.031580  0.034964 -0.067911  \n",
       "629 -0.642936  0.389407  0.465272  0.086072  0.038116 -0.114410  \n",
       "\n",
       "[630 rows x 59 columns]"
      ],
      "text/html": "<div>\n<style scoped>\n    .dataframe tbody tr th:only-of-type {\n        vertical-align: middle;\n    }\n\n    .dataframe tbody tr th {\n        vertical-align: top;\n    }\n\n    .dataframe thead th {\n        text-align: right;\n    }\n</style>\n<table border=\"1\" class=\"dataframe\">\n  <thead>\n    <tr style=\"text-align: right;\">\n      <th></th>\n      <th>county</th>\n      <th>year</th>\n      <th>crmrte</th>\n      <th>prbarr</th>\n      <th>prbconv</th>\n      <th>prbpris</th>\n      <th>avgsen</th>\n      <th>polpc</th>\n      <th>density</th>\n      <th>taxpc</th>\n      <th>...</th>\n      <th>lpctymle</th>\n      <th>lpctmin</th>\n      <th>clcrmrte</th>\n      <th>clprbarr</th>\n      <th>clprbcon</th>\n      <th>clprbpri</th>\n      <th>clavgsen</th>\n      <th>clpolpc</th>\n      <th>cltaxpc</th>\n      <th>clmix</th>\n    </tr>\n  </thead>\n  <tbody>\n    <tr>\n      <th>0</th>\n      <td>1</td>\n      <td>81</td>\n      <td>0.039885</td>\n      <td>0.289696</td>\n      <td>0.402062</td>\n      <td>0.472222</td>\n      <td>5.61</td>\n      <td>0.001787</td>\n      <td>2.307159</td>\n      <td>25.697630</td>\n      <td>...</td>\n      <td>-2.433870</td>\n      <td>3.006608</td>\n      <td>NaN</td>\n      <td>NaN</td>\n      <td>NaN</td>\n      <td>NaN</td>\n      <td>NaN</td>\n      <td>NaN</td>\n      <td>NaN</td>\n      <td>NaN</td>\n    </tr>\n    <tr>\n      <th>1</th>\n      <td>1</td>\n      <td>82</td>\n      <td>0.038345</td>\n      <td>0.338111</td>\n      <td>0.433005</td>\n      <td>0.506993</td>\n      <td>5.59</td>\n      <td>0.001767</td>\n      <td>2.330254</td>\n      <td>24.874252</td>\n      <td>...</td>\n      <td>-2.449038</td>\n      <td>3.006608</td>\n      <td>-0.039376</td>\n      <td>0.154542</td>\n      <td>0.074143</td>\n      <td>0.071048</td>\n      <td>-0.003571</td>\n      <td>-0.011364</td>\n      <td>-0.032565</td>\n      <td>0.030857</td>\n    </tr>\n    <tr>\n      <th>2</th>\n      <td>1</td>\n      <td>83</td>\n      <td>0.030305</td>\n      <td>0.330449</td>\n      <td>0.525703</td>\n      <td>0.479705</td>\n      <td>5.80</td>\n      <td>0.001836</td>\n      <td>2.341801</td>\n      <td>26.451443</td>\n      <td>...</td>\n      <td>-2.464036</td>\n      <td>3.006608</td>\n      <td>-0.235316</td>\n      <td>-0.022922</td>\n      <td>0.193987</td>\n      <td>-0.055326</td>\n      <td>0.036879</td>\n      <td>0.038413</td>\n      <td>0.061477</td>\n      <td>-0.244732</td>\n    </tr>\n    <tr>\n      <th>3</th>\n      <td>1</td>\n      <td>84</td>\n      <td>0.034726</td>\n      <td>0.362525</td>\n      <td>0.604706</td>\n      <td>0.520104</td>\n      <td>6.89</td>\n      <td>0.001886</td>\n      <td>2.346420</td>\n      <td>26.842348</td>\n      <td>...</td>\n      <td>-2.478925</td>\n      <td>3.006608</td>\n      <td>0.136180</td>\n      <td>0.092641</td>\n      <td>0.140006</td>\n      <td>0.080857</td>\n      <td>0.172213</td>\n      <td>0.026930</td>\n      <td>0.014670</td>\n      <td>-0.027331</td>\n    </tr>\n    <tr>\n      <th>4</th>\n      <td>1</td>\n      <td>85</td>\n      <td>0.036573</td>\n      <td>0.325395</td>\n      <td>0.578723</td>\n      <td>0.497059</td>\n      <td>6.55</td>\n      <td>0.001924</td>\n      <td>2.364896</td>\n      <td>28.140337</td>\n      <td>...</td>\n      <td>-2.497306</td>\n      <td>3.006608</td>\n      <td>0.051825</td>\n      <td>-0.108054</td>\n      <td>-0.043918</td>\n      <td>-0.045320</td>\n      <td>-0.050606</td>\n      <td>0.020199</td>\n      <td>0.047223</td>\n      <td>0.172125</td>\n    </tr>\n    <tr>\n      <th>...</th>\n      <td>...</td>\n      <td>...</td>\n      <td>...</td>\n      <td>...</td>\n      <td>...</td>\n      <td>...</td>\n      <td>...</td>\n      <td>...</td>\n      <td>...</td>\n      <td>...</td>\n      <td>...</td>\n      <td>...</td>\n      <td>...</td>\n      <td>...</td>\n      <td>...</td>\n      <td>...</td>\n      <td>...</td>\n      <td>...</td>\n      <td>...</td>\n      <td>...</td>\n      <td>...</td>\n    </tr>\n    <tr>\n      <th>625</th>\n      <td>197</td>\n      <td>83</td>\n      <td>0.015575</td>\n      <td>0.226667</td>\n      <td>0.480392</td>\n      <td>0.428571</td>\n      <td>7.77</td>\n      <td>0.001073</td>\n      <td>0.869048</td>\n      <td>18.905853</td>\n      <td>...</td>\n      <td>-2.538060</td>\n      <td>1.697597</td>\n      <td>-0.148666</td>\n      <td>-0.010969</td>\n      <td>-0.127018</td>\n      <td>0.164303</td>\n      <td>0.157158</td>\n      <td>0.149330</td>\n      <td>0.070461</td>\n      <td>0.020250</td>\n    </tr>\n    <tr>\n      <th>626</th>\n      <td>197</td>\n      <td>84</td>\n      <td>0.013662</td>\n      <td>0.204188</td>\n      <td>1.410260</td>\n      <td>0.372727</td>\n      <td>10.11</td>\n      <td>0.001109</td>\n      <td>0.872024</td>\n      <td>22.704754</td>\n      <td>...</td>\n      <td>-2.548068</td>\n      <td>1.697597</td>\n      <td>-0.131037</td>\n      <td>-0.104441</td>\n      <td>1.076927</td>\n      <td>-0.139610</td>\n      <td>0.263255</td>\n      <td>0.032795</td>\n      <td>0.183103</td>\n      <td>0.026842</td>\n    </tr>\n    <tr>\n      <th>627</th>\n      <td>197</td>\n      <td>85</td>\n      <td>0.013086</td>\n      <td>0.180556</td>\n      <td>0.830769</td>\n      <td>0.333333</td>\n      <td>5.96</td>\n      <td>0.001054</td>\n      <td>0.875000</td>\n      <td>24.123611</td>\n      <td>...</td>\n      <td>-2.561072</td>\n      <td>1.697597</td>\n      <td>-0.043091</td>\n      <td>-0.123000</td>\n      <td>-0.529178</td>\n      <td>-0.111704</td>\n      <td>-0.528454</td>\n      <td>-0.050473</td>\n      <td>0.060617</td>\n      <td>-0.366374</td>\n    </tr>\n    <tr>\n      <th>628</th>\n      <td>197</td>\n      <td>86</td>\n      <td>0.012874</td>\n      <td>0.112676</td>\n      <td>2.250000</td>\n      <td>0.244444</td>\n      <td>7.68</td>\n      <td>0.001088</td>\n      <td>0.880952</td>\n      <td>24.981979</td>\n      <td>...</td>\n      <td>-2.580968</td>\n      <td>1.697597</td>\n      <td>-0.016311</td>\n      <td>-0.471524</td>\n      <td>0.996334</td>\n      <td>-0.310156</td>\n      <td>0.253549</td>\n      <td>0.031580</td>\n      <td>0.034964</td>\n      <td>-0.067911</td>\n    </tr>\n    <tr>\n      <th>629</th>\n      <td>197</td>\n      <td>87</td>\n      <td>0.014193</td>\n      <td>0.207595</td>\n      <td>1.182930</td>\n      <td>0.360825</td>\n      <td>12.23</td>\n      <td>0.001186</td>\n      <td>0.889881</td>\n      <td>25.952581</td>\n      <td>...</td>\n      <td>-2.601006</td>\n      <td>1.697597</td>\n      <td>0.097525</td>\n      <td>0.611073</td>\n      <td>-0.642936</td>\n      <td>0.389407</td>\n      <td>0.465272</td>\n      <td>0.086072</td>\n      <td>0.038116</td>\n      <td>-0.114410</td>\n    </tr>\n  </tbody>\n</table>\n<p>630 rows × 59 columns</p>\n</div>"
     },
     "metadata": {},
     "execution_count": 12
    }
   ],
   "source": [
    "coletar_dados('crime4')"
   ]
  },
  {
   "cell_type": "code",
   "execution_count": 13,
   "metadata": {},
   "outputs": [
    {
     "output_type": "execute_result",
     "data": {
      "text/plain": [
       "               crmrte    prbarr   prbconv   prbpris  avgsen     polpc  \\\n",
       "county year                                                             \n",
       "1      81    0.039885  0.289696  0.402062  0.472222    5.61  0.001787   \n",
       "       82    0.038345  0.338111  0.433005  0.506993    5.59  0.001767   \n",
       "       83    0.030305  0.330449  0.525703  0.479705    5.80  0.001836   \n",
       "       84    0.034726  0.362525  0.604706  0.520104    6.89  0.001886   \n",
       "       85    0.036573  0.325395  0.578723  0.497059    6.55  0.001924   \n",
       "...               ...       ...       ...       ...     ...       ...   \n",
       "197    83    0.015575  0.226667  0.480392  0.428571    7.77  0.001073   \n",
       "       84    0.013662  0.204188  1.410260  0.372727   10.11  0.001109   \n",
       "       85    0.013086  0.180556  0.830769  0.333333    5.96  0.001054   \n",
       "       86    0.012874  0.112676  2.250000  0.244444    7.68  0.001088   \n",
       "       87    0.014193  0.207595  1.182930  0.360825   12.23  0.001186   \n",
       "\n",
       "              density      taxpc  west  central  ...   lpctmin  clcrmrte  \\\n",
       "county year                                      ...                       \n",
       "1      81    2.307159  25.697630     0        1  ...  3.006608       NaN   \n",
       "       82    2.330254  24.874252     0        1  ...  3.006608 -0.039376   \n",
       "       83    2.341801  26.451443     0        1  ...  3.006608 -0.235316   \n",
       "       84    2.346420  26.842348     0        1  ...  3.006608  0.136180   \n",
       "       85    2.364896  28.140337     0        1  ...  3.006608  0.051825   \n",
       "...               ...        ...   ...      ...  ...       ...       ...   \n",
       "197    83    0.869048  18.905853     1        0  ...  1.697597 -0.148666   \n",
       "       84    0.872024  22.704754     1        0  ...  1.697597 -0.131037   \n",
       "       85    0.875000  24.123611     1        0  ...  1.697597 -0.043091   \n",
       "       86    0.880952  24.981979     1        0  ...  1.697597 -0.016311   \n",
       "       87    0.889881  25.952581     1        0  ...  1.697597  0.097525   \n",
       "\n",
       "             clprbarr  clprbcon  clprbpri  clavgsen   clpolpc   cltaxpc  \\\n",
       "county year                                                               \n",
       "1      81         NaN       NaN       NaN       NaN       NaN       NaN   \n",
       "       82    0.154542  0.074143  0.071048 -0.003571 -0.011364 -0.032565   \n",
       "       83   -0.022922  0.193987 -0.055326  0.036879  0.038413  0.061477   \n",
       "       84    0.092641  0.140006  0.080857  0.172213  0.026930  0.014670   \n",
       "       85   -0.108054 -0.043918 -0.045320 -0.050606  0.020199  0.047223   \n",
       "...               ...       ...       ...       ...       ...       ...   \n",
       "197    83   -0.010969 -0.127018  0.164303  0.157158  0.149330  0.070461   \n",
       "       84   -0.104441  1.076927 -0.139610  0.263255  0.032795  0.183103   \n",
       "       85   -0.123000 -0.529178 -0.111704 -0.528454 -0.050473  0.060617   \n",
       "       86   -0.471524  0.996334 -0.310156  0.253549  0.031580  0.034964   \n",
       "       87    0.611073 -0.642936  0.389407  0.465272  0.086072  0.038116   \n",
       "\n",
       "                clmix  year  \n",
       "county year                  \n",
       "1      81         NaN    81  \n",
       "       82    0.030857    82  \n",
       "       83   -0.244732    83  \n",
       "       84   -0.027331    84  \n",
       "       85    0.172125    85  \n",
       "...               ...   ...  \n",
       "197    83    0.020250    83  \n",
       "       84    0.026842    84  \n",
       "       85   -0.366374    85  \n",
       "       86   -0.067911    86  \n",
       "       87   -0.114410    87  \n",
       "\n",
       "[630 rows x 58 columns]"
      ],
      "text/html": "<div>\n<style scoped>\n    .dataframe tbody tr th:only-of-type {\n        vertical-align: middle;\n    }\n\n    .dataframe tbody tr th {\n        vertical-align: top;\n    }\n\n    .dataframe thead th {\n        text-align: right;\n    }\n</style>\n<table border=\"1\" class=\"dataframe\">\n  <thead>\n    <tr style=\"text-align: right;\">\n      <th></th>\n      <th></th>\n      <th>crmrte</th>\n      <th>prbarr</th>\n      <th>prbconv</th>\n      <th>prbpris</th>\n      <th>avgsen</th>\n      <th>polpc</th>\n      <th>density</th>\n      <th>taxpc</th>\n      <th>west</th>\n      <th>central</th>\n      <th>...</th>\n      <th>lpctmin</th>\n      <th>clcrmrte</th>\n      <th>clprbarr</th>\n      <th>clprbcon</th>\n      <th>clprbpri</th>\n      <th>clavgsen</th>\n      <th>clpolpc</th>\n      <th>cltaxpc</th>\n      <th>clmix</th>\n      <th>year</th>\n    </tr>\n    <tr>\n      <th>county</th>\n      <th>year</th>\n      <th></th>\n      <th></th>\n      <th></th>\n      <th></th>\n      <th></th>\n      <th></th>\n      <th></th>\n      <th></th>\n      <th></th>\n      <th></th>\n      <th></th>\n      <th></th>\n      <th></th>\n      <th></th>\n      <th></th>\n      <th></th>\n      <th></th>\n      <th></th>\n      <th></th>\n      <th></th>\n      <th></th>\n    </tr>\n  </thead>\n  <tbody>\n    <tr>\n      <th rowspan=\"5\" valign=\"top\">1</th>\n      <th>81</th>\n      <td>0.039885</td>\n      <td>0.289696</td>\n      <td>0.402062</td>\n      <td>0.472222</td>\n      <td>5.61</td>\n      <td>0.001787</td>\n      <td>2.307159</td>\n      <td>25.697630</td>\n      <td>0</td>\n      <td>1</td>\n      <td>...</td>\n      <td>3.006608</td>\n      <td>NaN</td>\n      <td>NaN</td>\n      <td>NaN</td>\n      <td>NaN</td>\n      <td>NaN</td>\n      <td>NaN</td>\n      <td>NaN</td>\n      <td>NaN</td>\n      <td>81</td>\n    </tr>\n    <tr>\n      <th>82</th>\n      <td>0.038345</td>\n      <td>0.338111</td>\n      <td>0.433005</td>\n      <td>0.506993</td>\n      <td>5.59</td>\n      <td>0.001767</td>\n      <td>2.330254</td>\n      <td>24.874252</td>\n      <td>0</td>\n      <td>1</td>\n      <td>...</td>\n      <td>3.006608</td>\n      <td>-0.039376</td>\n      <td>0.154542</td>\n      <td>0.074143</td>\n      <td>0.071048</td>\n      <td>-0.003571</td>\n      <td>-0.011364</td>\n      <td>-0.032565</td>\n      <td>0.030857</td>\n      <td>82</td>\n    </tr>\n    <tr>\n      <th>83</th>\n      <td>0.030305</td>\n      <td>0.330449</td>\n      <td>0.525703</td>\n      <td>0.479705</td>\n      <td>5.80</td>\n      <td>0.001836</td>\n      <td>2.341801</td>\n      <td>26.451443</td>\n      <td>0</td>\n      <td>1</td>\n      <td>...</td>\n      <td>3.006608</td>\n      <td>-0.235316</td>\n      <td>-0.022922</td>\n      <td>0.193987</td>\n      <td>-0.055326</td>\n      <td>0.036879</td>\n      <td>0.038413</td>\n      <td>0.061477</td>\n      <td>-0.244732</td>\n      <td>83</td>\n    </tr>\n    <tr>\n      <th>84</th>\n      <td>0.034726</td>\n      <td>0.362525</td>\n      <td>0.604706</td>\n      <td>0.520104</td>\n      <td>6.89</td>\n      <td>0.001886</td>\n      <td>2.346420</td>\n      <td>26.842348</td>\n      <td>0</td>\n      <td>1</td>\n      <td>...</td>\n      <td>3.006608</td>\n      <td>0.136180</td>\n      <td>0.092641</td>\n      <td>0.140006</td>\n      <td>0.080857</td>\n      <td>0.172213</td>\n      <td>0.026930</td>\n      <td>0.014670</td>\n      <td>-0.027331</td>\n      <td>84</td>\n    </tr>\n    <tr>\n      <th>85</th>\n      <td>0.036573</td>\n      <td>0.325395</td>\n      <td>0.578723</td>\n      <td>0.497059</td>\n      <td>6.55</td>\n      <td>0.001924</td>\n      <td>2.364896</td>\n      <td>28.140337</td>\n      <td>0</td>\n      <td>1</td>\n      <td>...</td>\n      <td>3.006608</td>\n      <td>0.051825</td>\n      <td>-0.108054</td>\n      <td>-0.043918</td>\n      <td>-0.045320</td>\n      <td>-0.050606</td>\n      <td>0.020199</td>\n      <td>0.047223</td>\n      <td>0.172125</td>\n      <td>85</td>\n    </tr>\n    <tr>\n      <th>...</th>\n      <th>...</th>\n      <td>...</td>\n      <td>...</td>\n      <td>...</td>\n      <td>...</td>\n      <td>...</td>\n      <td>...</td>\n      <td>...</td>\n      <td>...</td>\n      <td>...</td>\n      <td>...</td>\n      <td>...</td>\n      <td>...</td>\n      <td>...</td>\n      <td>...</td>\n      <td>...</td>\n      <td>...</td>\n      <td>...</td>\n      <td>...</td>\n      <td>...</td>\n      <td>...</td>\n      <td>...</td>\n    </tr>\n    <tr>\n      <th rowspan=\"5\" valign=\"top\">197</th>\n      <th>83</th>\n      <td>0.015575</td>\n      <td>0.226667</td>\n      <td>0.480392</td>\n      <td>0.428571</td>\n      <td>7.77</td>\n      <td>0.001073</td>\n      <td>0.869048</td>\n      <td>18.905853</td>\n      <td>1</td>\n      <td>0</td>\n      <td>...</td>\n      <td>1.697597</td>\n      <td>-0.148666</td>\n      <td>-0.010969</td>\n      <td>-0.127018</td>\n      <td>0.164303</td>\n      <td>0.157158</td>\n      <td>0.149330</td>\n      <td>0.070461</td>\n      <td>0.020250</td>\n      <td>83</td>\n    </tr>\n    <tr>\n      <th>84</th>\n      <td>0.013662</td>\n      <td>0.204188</td>\n      <td>1.410260</td>\n      <td>0.372727</td>\n      <td>10.11</td>\n      <td>0.001109</td>\n      <td>0.872024</td>\n      <td>22.704754</td>\n      <td>1</td>\n      <td>0</td>\n      <td>...</td>\n      <td>1.697597</td>\n      <td>-0.131037</td>\n      <td>-0.104441</td>\n      <td>1.076927</td>\n      <td>-0.139610</td>\n      <td>0.263255</td>\n      <td>0.032795</td>\n      <td>0.183103</td>\n      <td>0.026842</td>\n      <td>84</td>\n    </tr>\n    <tr>\n      <th>85</th>\n      <td>0.013086</td>\n      <td>0.180556</td>\n      <td>0.830769</td>\n      <td>0.333333</td>\n      <td>5.96</td>\n      <td>0.001054</td>\n      <td>0.875000</td>\n      <td>24.123611</td>\n      <td>1</td>\n      <td>0</td>\n      <td>...</td>\n      <td>1.697597</td>\n      <td>-0.043091</td>\n      <td>-0.123000</td>\n      <td>-0.529178</td>\n      <td>-0.111704</td>\n      <td>-0.528454</td>\n      <td>-0.050473</td>\n      <td>0.060617</td>\n      <td>-0.366374</td>\n      <td>85</td>\n    </tr>\n    <tr>\n      <th>86</th>\n      <td>0.012874</td>\n      <td>0.112676</td>\n      <td>2.250000</td>\n      <td>0.244444</td>\n      <td>7.68</td>\n      <td>0.001088</td>\n      <td>0.880952</td>\n      <td>24.981979</td>\n      <td>1</td>\n      <td>0</td>\n      <td>...</td>\n      <td>1.697597</td>\n      <td>-0.016311</td>\n      <td>-0.471524</td>\n      <td>0.996334</td>\n      <td>-0.310156</td>\n      <td>0.253549</td>\n      <td>0.031580</td>\n      <td>0.034964</td>\n      <td>-0.067911</td>\n      <td>86</td>\n    </tr>\n    <tr>\n      <th>87</th>\n      <td>0.014193</td>\n      <td>0.207595</td>\n      <td>1.182930</td>\n      <td>0.360825</td>\n      <td>12.23</td>\n      <td>0.001186</td>\n      <td>0.889881</td>\n      <td>25.952581</td>\n      <td>1</td>\n      <td>0</td>\n      <td>...</td>\n      <td>1.697597</td>\n      <td>0.097525</td>\n      <td>0.611073</td>\n      <td>-0.642936</td>\n      <td>0.389407</td>\n      <td>0.465272</td>\n      <td>0.086072</td>\n      <td>0.038116</td>\n      <td>-0.114410</td>\n      <td>87</td>\n    </tr>\n  </tbody>\n</table>\n<p>630 rows × 58 columns</p>\n</div>"
     },
     "metadata": {},
     "execution_count": 13
    }
   ],
   "source": [
    "Arrumar_Painel()"
   ]
  },
  {
   "cell_type": "code",
   "execution_count": 14,
   "metadata": {},
   "outputs": [
    {
     "output_type": "execute_result",
     "data": {
      "text/plain": [
       "           crmrte      prbarr     prbconv     prbpris      avgsen       polpc  \\\n",
       "count  630.000000  630.000000  630.000000  630.000000  630.000000  630.000000   \n",
       "mean     0.031588    0.307368    0.688618    0.425518    8.954540    0.001917   \n",
       "std      0.018121    0.171205    1.690345    0.087245    2.658082    0.002735   \n",
       "min      0.001812    0.058823    0.068376    0.148936    4.220000    0.000459   \n",
       "25%      0.018352    0.217902    0.347692    0.374403    7.160000    0.001191   \n",
       "50%      0.028441    0.278240    0.474375    0.428571    8.495000    0.001451   \n",
       "75%      0.038406    0.352518    0.635597    0.483189   10.197500    0.001803   \n",
       "max      0.163835    2.750000   37.000000    0.678571   25.830000    0.035578   \n",
       "\n",
       "          density       taxpc        west     central  ...    lpctymle  \\\n",
       "count  630.000000  630.000000  630.000000  630.000000  ...  630.000000   \n",
       "mean     1.386062   30.239193    0.233333    0.377778  ...   -2.443014   \n",
       "std      1.439703   11.454695    0.423289    0.485217  ...    0.196784   \n",
       "min      0.197719   14.302565    0.000000    0.000000  ...   -2.778080   \n",
       "25%      0.532944   23.425596    0.000000    0.000000  ...   -2.543456   \n",
       "50%      0.952595   27.792328    0.000000    0.000000  ...   -2.486930   \n",
       "75%      1.507818   33.271218    0.000000    1.000000  ...   -2.416943   \n",
       "max      8.827652  119.761452    1.000000    1.000000  ...   -1.293320   \n",
       "\n",
       "          lpctmin    clcrmrte    clprbarr    clprbcon    clprbpri    clavgsen  \\\n",
       "count  630.000000  540.000000  540.000000  540.000000  540.000000  540.000000   \n",
       "mean     2.913362    0.001998   -0.002022   -0.002620   -0.009420   -0.014085   \n",
       "std      0.954615    0.202932    0.274909    0.483667    0.275722    0.322258   \n",
       "min      0.249708   -1.650111   -1.580454   -3.045578   -1.235608   -1.278839   \n",
       "25%      2.303045   -0.090750   -0.108289   -0.163198   -0.140090   -0.202120   \n",
       "50%      3.212684    0.002441   -0.010831    0.011686   -0.018636   -0.015911   \n",
       "75%      3.643437    0.091439    0.109560    0.182517    0.111684    0.174592   \n",
       "max      4.164309    1.221304    1.234696    2.195635    1.131048    1.207793   \n",
       "\n",
       "          clpolpc     cltaxpc       clmix  \n",
       "count  540.000000  540.000000  540.000000  \n",
       "mean     0.012924    0.077298   -0.003677  \n",
       "std      0.270235    0.168389    0.494354  \n",
       "min     -3.131716   -0.708961   -2.906901  \n",
       "25%     -0.024279    0.027234   -0.163001  \n",
       "50%      0.013321    0.073614    0.001473  \n",
       "75%      0.059895    0.124873    0.188985  \n",
       "max      2.423420    0.932217    2.728670  \n",
       "\n",
       "[8 rows x 57 columns]"
      ],
      "text/html": "<div>\n<style scoped>\n    .dataframe tbody tr th:only-of-type {\n        vertical-align: middle;\n    }\n\n    .dataframe tbody tr th {\n        vertical-align: top;\n    }\n\n    .dataframe thead th {\n        text-align: right;\n    }\n</style>\n<table border=\"1\" class=\"dataframe\">\n  <thead>\n    <tr style=\"text-align: right;\">\n      <th></th>\n      <th>crmrte</th>\n      <th>prbarr</th>\n      <th>prbconv</th>\n      <th>prbpris</th>\n      <th>avgsen</th>\n      <th>polpc</th>\n      <th>density</th>\n      <th>taxpc</th>\n      <th>west</th>\n      <th>central</th>\n      <th>...</th>\n      <th>lpctymle</th>\n      <th>lpctmin</th>\n      <th>clcrmrte</th>\n      <th>clprbarr</th>\n      <th>clprbcon</th>\n      <th>clprbpri</th>\n      <th>clavgsen</th>\n      <th>clpolpc</th>\n      <th>cltaxpc</th>\n      <th>clmix</th>\n    </tr>\n  </thead>\n  <tbody>\n    <tr>\n      <th>count</th>\n      <td>630.000000</td>\n      <td>630.000000</td>\n      <td>630.000000</td>\n      <td>630.000000</td>\n      <td>630.000000</td>\n      <td>630.000000</td>\n      <td>630.000000</td>\n      <td>630.000000</td>\n      <td>630.000000</td>\n      <td>630.000000</td>\n      <td>...</td>\n      <td>630.000000</td>\n      <td>630.000000</td>\n      <td>540.000000</td>\n      <td>540.000000</td>\n      <td>540.000000</td>\n      <td>540.000000</td>\n      <td>540.000000</td>\n      <td>540.000000</td>\n      <td>540.000000</td>\n      <td>540.000000</td>\n    </tr>\n    <tr>\n      <th>mean</th>\n      <td>0.031588</td>\n      <td>0.307368</td>\n      <td>0.688618</td>\n      <td>0.425518</td>\n      <td>8.954540</td>\n      <td>0.001917</td>\n      <td>1.386062</td>\n      <td>30.239193</td>\n      <td>0.233333</td>\n      <td>0.377778</td>\n      <td>...</td>\n      <td>-2.443014</td>\n      <td>2.913362</td>\n      <td>0.001998</td>\n      <td>-0.002022</td>\n      <td>-0.002620</td>\n      <td>-0.009420</td>\n      <td>-0.014085</td>\n      <td>0.012924</td>\n      <td>0.077298</td>\n      <td>-0.003677</td>\n    </tr>\n    <tr>\n      <th>std</th>\n      <td>0.018121</td>\n      <td>0.171205</td>\n      <td>1.690345</td>\n      <td>0.087245</td>\n      <td>2.658082</td>\n      <td>0.002735</td>\n      <td>1.439703</td>\n      <td>11.454695</td>\n      <td>0.423289</td>\n      <td>0.485217</td>\n      <td>...</td>\n      <td>0.196784</td>\n      <td>0.954615</td>\n      <td>0.202932</td>\n      <td>0.274909</td>\n      <td>0.483667</td>\n      <td>0.275722</td>\n      <td>0.322258</td>\n      <td>0.270235</td>\n      <td>0.168389</td>\n      <td>0.494354</td>\n    </tr>\n    <tr>\n      <th>min</th>\n      <td>0.001812</td>\n      <td>0.058823</td>\n      <td>0.068376</td>\n      <td>0.148936</td>\n      <td>4.220000</td>\n      <td>0.000459</td>\n      <td>0.197719</td>\n      <td>14.302565</td>\n      <td>0.000000</td>\n      <td>0.000000</td>\n      <td>...</td>\n      <td>-2.778080</td>\n      <td>0.249708</td>\n      <td>-1.650111</td>\n      <td>-1.580454</td>\n      <td>-3.045578</td>\n      <td>-1.235608</td>\n      <td>-1.278839</td>\n      <td>-3.131716</td>\n      <td>-0.708961</td>\n      <td>-2.906901</td>\n    </tr>\n    <tr>\n      <th>25%</th>\n      <td>0.018352</td>\n      <td>0.217902</td>\n      <td>0.347692</td>\n      <td>0.374403</td>\n      <td>7.160000</td>\n      <td>0.001191</td>\n      <td>0.532944</td>\n      <td>23.425596</td>\n      <td>0.000000</td>\n      <td>0.000000</td>\n      <td>...</td>\n      <td>-2.543456</td>\n      <td>2.303045</td>\n      <td>-0.090750</td>\n      <td>-0.108289</td>\n      <td>-0.163198</td>\n      <td>-0.140090</td>\n      <td>-0.202120</td>\n      <td>-0.024279</td>\n      <td>0.027234</td>\n      <td>-0.163001</td>\n    </tr>\n    <tr>\n      <th>50%</th>\n      <td>0.028441</td>\n      <td>0.278240</td>\n      <td>0.474375</td>\n      <td>0.428571</td>\n      <td>8.495000</td>\n      <td>0.001451</td>\n      <td>0.952595</td>\n      <td>27.792328</td>\n      <td>0.000000</td>\n      <td>0.000000</td>\n      <td>...</td>\n      <td>-2.486930</td>\n      <td>3.212684</td>\n      <td>0.002441</td>\n      <td>-0.010831</td>\n      <td>0.011686</td>\n      <td>-0.018636</td>\n      <td>-0.015911</td>\n      <td>0.013321</td>\n      <td>0.073614</td>\n      <td>0.001473</td>\n    </tr>\n    <tr>\n      <th>75%</th>\n      <td>0.038406</td>\n      <td>0.352518</td>\n      <td>0.635597</td>\n      <td>0.483189</td>\n      <td>10.197500</td>\n      <td>0.001803</td>\n      <td>1.507818</td>\n      <td>33.271218</td>\n      <td>0.000000</td>\n      <td>1.000000</td>\n      <td>...</td>\n      <td>-2.416943</td>\n      <td>3.643437</td>\n      <td>0.091439</td>\n      <td>0.109560</td>\n      <td>0.182517</td>\n      <td>0.111684</td>\n      <td>0.174592</td>\n      <td>0.059895</td>\n      <td>0.124873</td>\n      <td>0.188985</td>\n    </tr>\n    <tr>\n      <th>max</th>\n      <td>0.163835</td>\n      <td>2.750000</td>\n      <td>37.000000</td>\n      <td>0.678571</td>\n      <td>25.830000</td>\n      <td>0.035578</td>\n      <td>8.827652</td>\n      <td>119.761452</td>\n      <td>1.000000</td>\n      <td>1.000000</td>\n      <td>...</td>\n      <td>-1.293320</td>\n      <td>4.164309</td>\n      <td>1.221304</td>\n      <td>1.234696</td>\n      <td>2.195635</td>\n      <td>1.131048</td>\n      <td>1.207793</td>\n      <td>2.423420</td>\n      <td>0.932217</td>\n      <td>2.728670</td>\n    </tr>\n  </tbody>\n</table>\n<p>8 rows × 57 columns</p>\n</div>"
     },
     "metadata": {},
     "execution_count": 14
    }
   ],
   "source": [
    "## Descrevendo o dataset\n",
    "df.describe()"
   ]
  },
  {
   "cell_type": "code",
   "execution_count": 15,
   "metadata": {},
   "outputs": [
    {
     "output_type": "execute_result",
     "data": {
      "text/plain": [
       "Index(['crmrte', 'prbarr', 'prbconv', 'prbpris', 'avgsen', 'polpc', 'density',\n",
       "       'taxpc', 'west', 'central', 'urban', 'pctmin80', 'wcon', 'wtuc', 'wtrd',\n",
       "       'wfir', 'wser', 'wmfg', 'wfed', 'wsta', 'wloc', 'mix', 'pctymle', 'd82',\n",
       "       'd83', 'd84', 'd85', 'd86', 'd87', 'lcrmrte', 'lprbarr', 'lprbconv',\n",
       "       'lprbpris', 'lavgsen', 'lpolpc', 'ldensity', 'ltaxpc', 'lwcon', 'lwtuc',\n",
       "       'lwtrd', 'lwfir', 'lwser', 'lwmfg', 'lwfed', 'lwsta', 'lwloc', 'lmix',\n",
       "       'lpctymle', 'lpctmin', 'clcrmrte', 'clprbarr', 'clprbcon', 'clprbpri',\n",
       "       'clavgsen', 'clpolpc', 'cltaxpc', 'clmix', 'year'],\n",
       "      dtype='object')"
      ]
     },
     "metadata": {},
     "execution_count": 15
    }
   ],
   "source": [
    "## Vendo as colunas\n",
    "df.columns"
   ]
  },
  {
   "cell_type": "code",
   "execution_count": 21,
   "metadata": {},
   "outputs": [
    {
     "output_type": "stream",
     "name": "stdout",
     "text": [
      "                          PanelOLS Estimation Summary                           \n================================================================================\nDep. Variable:                lcrmrte   R-squared:                        0.4342\nEstimator:                   PanelOLS   R-squared (Between):              0.3746\nNo. Observations:                 630   R-squared (Within):               0.4342\nDate:                Thu, Mar 11 2021   R-squared (Overall):              0.3798\nTime:                        12:33:32   Log-likelihood                    405.58\nCov. Estimator:            Unadjusted                                           \n                                        F-statistic:                      36.911\nEntities:                          90   P-value                           0.0000\nAvg Obs:                       7.0000   Distribution:                  F(11,529)\nMin Obs:                       7.0000                                           \nMax Obs:                       7.0000   F-statistic (robust):             36.911\n                                        P-value                           0.0000\nTime periods:                       7   Distribution:                  F(11,529)\nAvg Obs:                       90.000                                           \nMin Obs:                       90.000                                           \nMax Obs:                       90.000                                           \n                                                                                \n                             Parameter Estimates                              \n==============================================================================\n            Parameter  Std. Err.     T-stat    P-value    Lower CI    Upper CI\n------------------------------------------------------------------------------\nconst         -1.6041     0.1686    -9.5159     0.0000     -1.9353     -1.2730\nyear.82        0.0126     0.0215     0.5840     0.5595     -0.0297      0.0549\nyear.83       -0.0793     0.0213    -3.7152     0.0002     -0.1212     -0.0374\nyear.84       -0.1177     0.0216    -5.4467     0.0000     -0.1602     -0.0753\nyear.85       -0.1120     0.0218    -5.1248     0.0000     -0.1549     -0.0690\nyear.86       -0.0818     0.0214    -3.8189     0.0001     -0.1239     -0.0397\nyear.87       -0.0405     0.0210    -1.9236     0.0549     -0.0818      0.0009\nlprbarr       -0.3598     0.0324    -11.098     0.0000     -0.4235     -0.2961\nlprbconv      -0.2859     0.0212    -13.474     0.0000     -0.3276     -0.2442\nlprbpris      -0.1828     0.0325    -5.6308     0.0000     -0.2465     -0.1190\nlavgsen       -0.0045     0.0264    -0.1697     0.8653     -0.0564      0.0475\nlpolpc         0.4241     0.0264     16.086     0.0000      0.3723      0.4759\n==============================================================================\n\nF-test for Poolability: 45.874\nP-value: 0.0000\nDistribution: F(89,529)\n\nIncluded effects: Entity\n"
     ]
    }
   ],
   "source": [
    "## Regredindo por efeitos fixos\n",
    "x = df[['year','lprbarr','lprbconv','lprbpris','lavgsen','lpolpc']]\n",
    "y = df['lcrmrte']\n",
    "Reg_Painel_Efeitos_Fixos(x,y)\n",
    "fixed_res = Resultado"
   ]
  },
  {
   "cell_type": "code",
   "execution_count": 22,
   "metadata": {},
   "outputs": [
    {
     "output_type": "stream",
     "name": "stdout",
     "text": [
      "                     FirstDifferenceOLS Estimation Summary                      \n================================================================================\nDep. Variable:                lcrmrte   R-squared:                        0.4326\nEstimator:         FirstDifferenceOLS   R-squared (Between):              0.7834\nNo. Observations:                 540   R-squared (Within):               0.4281\nDate:                Thu, Mar 11 2021   R-squared (Overall):              0.7826\nTime:                        12:33:33   Log-likelihood                    248.48\nCov. Estimator:            Unadjusted                                           \n                                        F-statistic:                      36.661\nEntities:                          90   P-value                           0.0000\nAvg Obs:                       7.0000   Distribution:                  F(11,529)\nMin Obs:                       7.0000                                           \nMax Obs:                       7.0000   F-statistic (robust):             36.661\n                                        P-value                           0.0000\nTime periods:                       7   Distribution:                  F(11,529)\nAvg Obs:                       90.000                                           \nMin Obs:                       90.000                                           \nMax Obs:                       90.000                                           \n                                                                                \n                             Parameter Estimates                              \n==============================================================================\n            Parameter  Std. Err.     T-stat    P-value    Lower CI    Upper CI\n------------------------------------------------------------------------------\nyear.82        0.0077     0.0171     0.4522     0.6513     -0.0258      0.0412\nyear.83       -0.0844     0.0235    -3.5998     0.0003     -0.1305     -0.0384\nyear.84       -0.1247     0.0287    -4.3366     0.0000     -0.1811     -0.0682\nyear.85       -0.1216     0.0331    -3.6670     0.0003     -0.1867     -0.0564\nyear.86       -0.0863     0.0367    -2.3539     0.0189     -0.1584     -0.0143\nyear.87       -0.0378     0.0400    -0.9455     0.3448     -0.1163      0.0407\nlprbarr       -0.3275     0.0300    -10.924     0.0000     -0.3864     -0.2686\nlprbconv      -0.2381     0.0182    -13.058     0.0000     -0.2739     -0.2023\nlprbpris      -0.1650     0.0260    -6.3555     0.0000     -0.2161     -0.1140\nlavgsen       -0.0218     0.0221    -0.9850     0.3250     -0.0652      0.0216\nlpolpc         0.3984     0.0269     14.821     0.0000      0.3456      0.4512\n==============================================================================\n"
     ]
    }
   ],
   "source": [
    "## Regredindo por PD\n",
    "Reg_Painel_Primeiras_Diferenças(x,y)\n",
    "pd_res = Resultado"
   ]
  },
  {
   "cell_type": "code",
   "execution_count": 24,
   "metadata": {},
   "outputs": [
    {
     "output_type": "stream",
     "name": "stdout",
     "text": [
      "                       Model Comparison                      \n=============================================================\n                                            PD             EF\n-------------------------------------------------------------\nDep. Variable                          lcrmrte        lcrmrte\nEstimator                   FirstDifferenceOLS       PanelOLS\nNo. Observations                           540            630\nCov. Est.                           Unadjusted     Unadjusted\nR-squared                               0.4326         0.4342\nR-Squared (Within)                      0.4281         0.4342\nR-Squared (Between)                     0.7834         0.3746\nR-Squared (Overall)                     0.7826         0.3798\nF-statistic                             36.661         36.911\nP-value (F-stat)                        0.0000         0.0000\n=====================     ====================   ============\nyear.82                                 0.0077         0.0126\n                                      (0.4522)       (0.5840)\nyear.83                                -0.0844        -0.0793\n                                     (-3.5998)      (-3.7152)\nyear.84                                -0.1247        -0.1177\n                                     (-4.3366)      (-5.4467)\nyear.85                                -0.1216        -0.1120\n                                     (-3.6670)      (-5.1248)\nyear.86                                -0.0863        -0.0818\n                                     (-2.3539)      (-3.8189)\nyear.87                                -0.0378        -0.0405\n                                     (-0.9455)      (-1.9236)\nlprbarr                                -0.3275        -0.3598\n                                     (-10.924)      (-11.098)\nlprbconv                               -0.2381        -0.2859\n                                     (-13.058)      (-13.474)\nlprbpris                               -0.1650        -0.1828\n                                     (-6.3555)      (-5.6308)\nlavgsen                                -0.0218        -0.0045\n                                     (-0.9850)      (-0.1697)\nlpolpc                                  0.3984         0.4241\n                                      (14.821)       (16.086)\nconst                                                 -1.6041\n                                                    (-9.5159)\n======================= ====================== ==============\nEffects                                                Entity\n-------------------------------------------------------------\n\nT-stats reported in parentheses\n"
     ]
    }
   ],
   "source": [
    "## comparando os modelos\n",
    "print(compare({'PD':pd_res,'EF':fixed_res}))"
   ]
  },
  {
   "cell_type": "code",
   "execution_count": 45,
   "metadata": {},
   "outputs": [
    {
     "output_type": "stream",
     "name": "stdout",
     "text": [
      "                          PanelOLS Estimation Summary                           \n================================================================================\nDep. Variable:                lcrmrte   R-squared:                        0.4603\nEstimator:                   PanelOLS   R-squared (Between):              0.5692\nNo. Observations:                 630   R-squared (Within):               0.4603\nDate:                Thu, Mar 11 2021   R-squared (Overall):              0.5597\nTime:                        20:17:55   Log-likelihood                    420.43\nCov. Estimator:            Unadjusted                                           \n                                        F-statistic:                      21.077\nEntities:                          90   P-value                           0.0000\nAvg Obs:                       7.0000   Distribution:                  F(21,519)\nMin Obs:                       7.0000                                           \nMax Obs:                       7.0000   F-statistic (robust):             21.077\n                                        P-value                           0.0000\nTime periods:                       7   Distribution:                  F(21,519)\nAvg Obs:                       90.000                                           \nMin Obs:                       90.000                                           \nMax Obs:                       90.000                                           \n                                                                                \n                             Parameter Estimates                              \n==============================================================================\n            Parameter  Std. Err.     T-stat    P-value    Lower CI    Upper CI\n------------------------------------------------------------------------------\nconst          0.8508     1.4220     0.5983     0.5499     -1.9427      3.6443\nyear.82        0.0129     0.0253     0.5081     0.6116     -0.0369      0.0627\nyear.83       -0.0630     0.0333    -1.8924     0.0590     -0.1285      0.0024\nyear.84       -0.0775     0.0421    -1.8391     0.0665     -0.1603      0.0053\nyear.85       -0.0623     0.0577    -1.0796     0.2808     -0.1757      0.0511\nyear.86       -0.0263     0.0697    -0.3771     0.7063     -0.1633      0.1107\nyear.87        0.0231     0.0819     0.2822     0.7779     -0.1378      0.1840\nlprbarr       -0.3519     0.0322    -10.921     0.0000     -0.4152     -0.2886\nlprbconv      -0.2817     0.0212    -13.300     0.0000     -0.3233     -0.2401\nlprbpris      -0.1717     0.0324    -5.3075     0.0000     -0.2353     -0.1082\nlavgsen       -0.0028     0.0262    -0.1065     0.9152     -0.0542      0.0486\nlpolpc         0.4190     0.0265     15.836     0.0000      0.3670      0.4710\nldensity       0.4637     0.2816     1.6465     0.1003     -0.0896      1.0170\nlwcon         -0.0343     0.0391    -0.8777     0.3805     -0.1111      0.0425\nlwtuc          0.0442     0.0190     2.3235     0.0205      0.0068      0.0816\nlwtrd         -0.0190     0.0405    -0.4692     0.6391     -0.0987      0.0606\nlwfir         -0.0051     0.0283    -0.1801     0.8572     -0.0607      0.0505\nlwser          0.0097     0.0192     0.5057     0.6133     -0.0280      0.0473\nlwmfg         -0.3264     0.1104    -2.9582     0.0032     -0.5432     -0.1096\nlwfed         -0.3164     0.1765    -1.7933     0.0735     -0.6631      0.0302\nlwsta          0.0422     0.1136     0.3717     0.7103     -0.1809      0.2653\nlwloc          0.1798     0.1179     1.5255     0.1277     -0.0517      0.4114\n==============================================================================\n\nF-test for Poolability: 36.527\nP-value: 0.0000\nDistribution: F(89,519)\n\nIncluded effects: Entity\n"
     ]
    }
   ],
   "source": [
    "## Regredindo por efeitos fixos com todos os controles log possíveis de wage\n",
    "x = df[['year','lprbarr','lprbconv','lprbpris','lavgsen','lpolpc','ldensity', 'lwcon', 'lwtuc','lwtrd', 'lwfir', 'lwser', 'lwmfg', 'lwfed', 'lwsta', 'lwloc']]\n",
    "y = df['lcrmrte']\n",
    "Reg_Painel_Efeitos_Fixos(x,y)\n",
    "fixed_1 = Resultado"
   ]
  },
  {
   "source": [
    "## Testando a significancia das variaveis de wage\n",
    "restricoes = 'lwcon = lwtuc = lwtrd = lwfir = lwser = lwmfg = lwfed = lwsta = lwloc = 0'\n",
    "Teste_F_Rapido_Robusto(restricoes)"
   ],
   "cell_type": "code",
   "metadata": {},
   "execution_count": 46,
   "outputs": [
    {
     "output_type": "stream",
     "name": "stdout",
     "text": [
      "Linear Equality Hypothesis Test\nH0: Linear equality constraint is valid\nStatistic: 22.8766\nP-value: 0.0065\nDistributed: chi2(9)\n"
     ]
    }
   ]
  },
  {
   "cell_type": "code",
   "execution_count": 47,
   "metadata": {},
   "outputs": [
    {
     "output_type": "stream",
     "name": "stdout",
     "text": [
      "                   Model Comparison                  \n=====================================================\n                                    EF        EF_wage\n-----------------------------------------------------\nDep. Variable                  lcrmrte        lcrmrte\nEstimator                     PanelOLS       PanelOLS\nNo. Observations                   630            630\nCov. Est.                   Unadjusted     Unadjusted\nR-squared                       0.4342         0.4603\nR-Squared (Within)              0.4342         0.4603\nR-Squared (Between)             0.3746         0.5692\nR-Squared (Overall)             0.3798         0.5597\nF-statistic                     36.911         21.077\nP-value (F-stat)                0.0000         0.0000\n=====================     ============   ============\nconst                          -1.6041         0.8508\n                             (-9.5159)       (0.5983)\nyear.82                         0.0126         0.0129\n                              (0.5840)       (0.5081)\nyear.83                        -0.0793        -0.0630\n                             (-3.7152)      (-1.8924)\nyear.84                        -0.1177        -0.0775\n                             (-5.4467)      (-1.8391)\nyear.85                        -0.1120        -0.0623\n                             (-5.1248)      (-1.0796)\nyear.86                        -0.0818        -0.0263\n                             (-3.8189)      (-0.3771)\nyear.87                        -0.0405         0.0231\n                             (-1.9236)       (0.2822)\nlprbarr                        -0.3598        -0.3519\n                             (-11.098)      (-10.921)\nlprbconv                       -0.2859        -0.2817\n                             (-13.474)      (-13.300)\nlprbpris                       -0.1828        -0.1717\n                             (-5.6308)      (-5.3075)\nlavgsen                        -0.0045        -0.0028\n                             (-0.1697)      (-0.1065)\nlpolpc                          0.4241         0.4190\n                              (16.086)       (15.836)\nldensity                                       0.4637\n                                             (1.6465)\nlwcon                                         -0.0343\n                                            (-0.8777)\nlwtuc                                          0.0442\n                                             (2.3235)\nlwtrd                                         -0.0190\n                                            (-0.4692)\nlwfir                                         -0.0051\n                                            (-0.1801)\nlwser                                          0.0097\n                                             (0.5057)\nlwmfg                                         -0.3264\n                                            (-2.9582)\nlwfed                                         -0.3164\n                                            (-1.7933)\nlwsta                                          0.0422\n                                             (0.3717)\nlwloc                                          0.1798\n                                             (1.5255)\n======================= ============== ==============\nEffects                         Entity         Entity\n-----------------------------------------------------\n\nT-stats reported in parentheses\n"
     ]
    }
   ],
   "source": [
    "## comparando os modelos\n",
    "print(compare({'EF':fixed_res,'EF_wage':fixed_1}))"
   ]
  },
  {
   "source": [
    "## Exercício C3"
   ],
   "cell_type": "markdown",
   "metadata": {}
  },
  {
   "cell_type": "code",
   "execution_count": 48,
   "metadata": {},
   "outputs": [
    {
     "output_type": "stream",
     "name": "stdout",
     "text": [
      "jtrain.dta foi lido com sucesso!\n"
     ]
    },
    {
     "output_type": "execute_result",
     "data": {
      "text/plain": [
       "     year     fcode  employ       sales   avgsal  scrap  rework  tothrs  \\\n",
       "0    1987  410032.0   100.0  47000000.0  35000.0    NaN     NaN    12.0   \n",
       "1    1988  410032.0   131.0  43000000.0  37000.0    NaN     NaN     8.0   \n",
       "2    1989  410032.0   123.0  49000000.0  39000.0    NaN     NaN     8.0   \n",
       "3    1987  410440.0    12.0   1560000.0  10500.0    NaN     NaN    12.0   \n",
       "4    1988  410440.0    13.0   1970000.0  11000.0    NaN     NaN    12.0   \n",
       "..    ...       ...     ...         ...      ...    ...     ...     ...   \n",
       "466  1988  419483.0   108.0  11500000.0  14810.0   25.0     NaN     0.0   \n",
       "467  1989  419483.0   129.0  12000000.0  14227.0   30.0     NaN    20.0   \n",
       "468  1987  419486.0    80.0   7000000.0  16000.0    NaN     NaN     0.0   \n",
       "469  1988  419486.0    90.0   8500000.0  17000.0    NaN     NaN     0.0   \n",
       "470  1989  419486.0   100.0   9900000.0  18000.0    NaN     NaN    40.0   \n",
       "\n",
       "     union  grant  ...  grant_1   clscrap  cgrant  clemploy   clsales  \\\n",
       "0        0      0  ...        0       NaN       0       NaN       NaN   \n",
       "1        0      0  ...        0       NaN       0  0.270027 -0.088949   \n",
       "2        0      0  ...        0       NaN       0 -0.063013  0.130621   \n",
       "3        0      0  ...        0       NaN       0       NaN       NaN   \n",
       "4        0      0  ...        0       NaN       0  0.080043  0.233347   \n",
       "..     ...    ...  ...      ...       ...     ...       ...       ...   \n",
       "466      1      0  ...        0  0.223144       0 -0.208218  0.044453   \n",
       "467      1      0  ...        0  0.182322       0  0.177681  0.042559   \n",
       "468      0      0  ...        0       NaN       0       NaN       NaN   \n",
       "469      0      0  ...        0       NaN       0  0.117783  0.194157   \n",
       "470      0      1  ...        0       NaN       1  0.105361  0.152469   \n",
       "\n",
       "       lavgsal  clavgsal  cgrant_1    chrsemp  clhrsemp  \n",
       "0    10.463103       NaN       NaN        NaN       NaN  \n",
       "1    10.518673  0.055570       0.0  -8.946565 -1.165385  \n",
       "2    10.571317  0.052644       0.0   0.198597  0.047832  \n",
       "3     9.259130       NaN       NaN        NaN       NaN  \n",
       "4     9.305651  0.046520       0.0   0.000000  0.000000  \n",
       "..         ...       ...       ...        ...       ...  \n",
       "466   9.603058  0.059321       0.0   0.000000  0.000000  \n",
       "467   9.562897 -0.040161       0.0   3.100775  1.411176  \n",
       "468   9.680344       NaN       NaN        NaN       NaN  \n",
       "469   9.740969  0.060625       0.0   0.000000  0.000000  \n",
       "470   9.798127  0.057158       0.0  36.000000  3.610918  \n",
       "\n",
       "[471 rows x 30 columns]"
      ],
      "text/html": "<div>\n<style scoped>\n    .dataframe tbody tr th:only-of-type {\n        vertical-align: middle;\n    }\n\n    .dataframe tbody tr th {\n        vertical-align: top;\n    }\n\n    .dataframe thead th {\n        text-align: right;\n    }\n</style>\n<table border=\"1\" class=\"dataframe\">\n  <thead>\n    <tr style=\"text-align: right;\">\n      <th></th>\n      <th>year</th>\n      <th>fcode</th>\n      <th>employ</th>\n      <th>sales</th>\n      <th>avgsal</th>\n      <th>scrap</th>\n      <th>rework</th>\n      <th>tothrs</th>\n      <th>union</th>\n      <th>grant</th>\n      <th>...</th>\n      <th>grant_1</th>\n      <th>clscrap</th>\n      <th>cgrant</th>\n      <th>clemploy</th>\n      <th>clsales</th>\n      <th>lavgsal</th>\n      <th>clavgsal</th>\n      <th>cgrant_1</th>\n      <th>chrsemp</th>\n      <th>clhrsemp</th>\n    </tr>\n  </thead>\n  <tbody>\n    <tr>\n      <th>0</th>\n      <td>1987</td>\n      <td>410032.0</td>\n      <td>100.0</td>\n      <td>47000000.0</td>\n      <td>35000.0</td>\n      <td>NaN</td>\n      <td>NaN</td>\n      <td>12.0</td>\n      <td>0</td>\n      <td>0</td>\n      <td>...</td>\n      <td>0</td>\n      <td>NaN</td>\n      <td>0</td>\n      <td>NaN</td>\n      <td>NaN</td>\n      <td>10.463103</td>\n      <td>NaN</td>\n      <td>NaN</td>\n      <td>NaN</td>\n      <td>NaN</td>\n    </tr>\n    <tr>\n      <th>1</th>\n      <td>1988</td>\n      <td>410032.0</td>\n      <td>131.0</td>\n      <td>43000000.0</td>\n      <td>37000.0</td>\n      <td>NaN</td>\n      <td>NaN</td>\n      <td>8.0</td>\n      <td>0</td>\n      <td>0</td>\n      <td>...</td>\n      <td>0</td>\n      <td>NaN</td>\n      <td>0</td>\n      <td>0.270027</td>\n      <td>-0.088949</td>\n      <td>10.518673</td>\n      <td>0.055570</td>\n      <td>0.0</td>\n      <td>-8.946565</td>\n      <td>-1.165385</td>\n    </tr>\n    <tr>\n      <th>2</th>\n      <td>1989</td>\n      <td>410032.0</td>\n      <td>123.0</td>\n      <td>49000000.0</td>\n      <td>39000.0</td>\n      <td>NaN</td>\n      <td>NaN</td>\n      <td>8.0</td>\n      <td>0</td>\n      <td>0</td>\n      <td>...</td>\n      <td>0</td>\n      <td>NaN</td>\n      <td>0</td>\n      <td>-0.063013</td>\n      <td>0.130621</td>\n      <td>10.571317</td>\n      <td>0.052644</td>\n      <td>0.0</td>\n      <td>0.198597</td>\n      <td>0.047832</td>\n    </tr>\n    <tr>\n      <th>3</th>\n      <td>1987</td>\n      <td>410440.0</td>\n      <td>12.0</td>\n      <td>1560000.0</td>\n      <td>10500.0</td>\n      <td>NaN</td>\n      <td>NaN</td>\n      <td>12.0</td>\n      <td>0</td>\n      <td>0</td>\n      <td>...</td>\n      <td>0</td>\n      <td>NaN</td>\n      <td>0</td>\n      <td>NaN</td>\n      <td>NaN</td>\n      <td>9.259130</td>\n      <td>NaN</td>\n      <td>NaN</td>\n      <td>NaN</td>\n      <td>NaN</td>\n    </tr>\n    <tr>\n      <th>4</th>\n      <td>1988</td>\n      <td>410440.0</td>\n      <td>13.0</td>\n      <td>1970000.0</td>\n      <td>11000.0</td>\n      <td>NaN</td>\n      <td>NaN</td>\n      <td>12.0</td>\n      <td>0</td>\n      <td>0</td>\n      <td>...</td>\n      <td>0</td>\n      <td>NaN</td>\n      <td>0</td>\n      <td>0.080043</td>\n      <td>0.233347</td>\n      <td>9.305651</td>\n      <td>0.046520</td>\n      <td>0.0</td>\n      <td>0.000000</td>\n      <td>0.000000</td>\n    </tr>\n    <tr>\n      <th>...</th>\n      <td>...</td>\n      <td>...</td>\n      <td>...</td>\n      <td>...</td>\n      <td>...</td>\n      <td>...</td>\n      <td>...</td>\n      <td>...</td>\n      <td>...</td>\n      <td>...</td>\n      <td>...</td>\n      <td>...</td>\n      <td>...</td>\n      <td>...</td>\n      <td>...</td>\n      <td>...</td>\n      <td>...</td>\n      <td>...</td>\n      <td>...</td>\n      <td>...</td>\n      <td>...</td>\n    </tr>\n    <tr>\n      <th>466</th>\n      <td>1988</td>\n      <td>419483.0</td>\n      <td>108.0</td>\n      <td>11500000.0</td>\n      <td>14810.0</td>\n      <td>25.0</td>\n      <td>NaN</td>\n      <td>0.0</td>\n      <td>1</td>\n      <td>0</td>\n      <td>...</td>\n      <td>0</td>\n      <td>0.223144</td>\n      <td>0</td>\n      <td>-0.208218</td>\n      <td>0.044453</td>\n      <td>9.603058</td>\n      <td>0.059321</td>\n      <td>0.0</td>\n      <td>0.000000</td>\n      <td>0.000000</td>\n    </tr>\n    <tr>\n      <th>467</th>\n      <td>1989</td>\n      <td>419483.0</td>\n      <td>129.0</td>\n      <td>12000000.0</td>\n      <td>14227.0</td>\n      <td>30.0</td>\n      <td>NaN</td>\n      <td>20.0</td>\n      <td>1</td>\n      <td>0</td>\n      <td>...</td>\n      <td>0</td>\n      <td>0.182322</td>\n      <td>0</td>\n      <td>0.177681</td>\n      <td>0.042559</td>\n      <td>9.562897</td>\n      <td>-0.040161</td>\n      <td>0.0</td>\n      <td>3.100775</td>\n      <td>1.411176</td>\n    </tr>\n    <tr>\n      <th>468</th>\n      <td>1987</td>\n      <td>419486.0</td>\n      <td>80.0</td>\n      <td>7000000.0</td>\n      <td>16000.0</td>\n      <td>NaN</td>\n      <td>NaN</td>\n      <td>0.0</td>\n      <td>0</td>\n      <td>0</td>\n      <td>...</td>\n      <td>0</td>\n      <td>NaN</td>\n      <td>0</td>\n      <td>NaN</td>\n      <td>NaN</td>\n      <td>9.680344</td>\n      <td>NaN</td>\n      <td>NaN</td>\n      <td>NaN</td>\n      <td>NaN</td>\n    </tr>\n    <tr>\n      <th>469</th>\n      <td>1988</td>\n      <td>419486.0</td>\n      <td>90.0</td>\n      <td>8500000.0</td>\n      <td>17000.0</td>\n      <td>NaN</td>\n      <td>NaN</td>\n      <td>0.0</td>\n      <td>0</td>\n      <td>0</td>\n      <td>...</td>\n      <td>0</td>\n      <td>NaN</td>\n      <td>0</td>\n      <td>0.117783</td>\n      <td>0.194157</td>\n      <td>9.740969</td>\n      <td>0.060625</td>\n      <td>0.0</td>\n      <td>0.000000</td>\n      <td>0.000000</td>\n    </tr>\n    <tr>\n      <th>470</th>\n      <td>1989</td>\n      <td>419486.0</td>\n      <td>100.0</td>\n      <td>9900000.0</td>\n      <td>18000.0</td>\n      <td>NaN</td>\n      <td>NaN</td>\n      <td>40.0</td>\n      <td>0</td>\n      <td>1</td>\n      <td>...</td>\n      <td>0</td>\n      <td>NaN</td>\n      <td>1</td>\n      <td>0.105361</td>\n      <td>0.152469</td>\n      <td>9.798127</td>\n      <td>0.057158</td>\n      <td>0.0</td>\n      <td>36.000000</td>\n      <td>3.610918</td>\n    </tr>\n  </tbody>\n</table>\n<p>471 rows × 30 columns</p>\n</div>"
     },
     "metadata": {},
     "execution_count": 48
    }
   ],
   "source": [
    "coletar_dados('jtrain')"
   ]
  },
  {
   "cell_type": "code",
   "execution_count": 50,
   "metadata": {},
   "outputs": [
    {
     "output_type": "execute_result",
     "data": {
      "text/plain": [
       "               employ       sales   avgsal  scrap  rework  tothrs  union  \\\n",
       "fcode    year                                                              \n",
       "410032.0 1987   100.0  47000000.0  35000.0    NaN     NaN    12.0      0   \n",
       "         1988   131.0  43000000.0  37000.0    NaN     NaN     8.0      0   \n",
       "         1989   123.0  49000000.0  39000.0    NaN     NaN     8.0      0   \n",
       "410440.0 1987    12.0   1560000.0  10500.0    NaN     NaN    12.0      0   \n",
       "         1988    13.0   1970000.0  11000.0    NaN     NaN    12.0      0   \n",
       "...               ...         ...      ...    ...     ...     ...    ...   \n",
       "419483.0 1988   108.0  11500000.0  14810.0   25.0     NaN     0.0      1   \n",
       "         1989   129.0  12000000.0  14227.0   30.0     NaN    20.0      1   \n",
       "419486.0 1987    80.0   7000000.0  16000.0    NaN     NaN     0.0      0   \n",
       "         1988    90.0   8500000.0  17000.0    NaN     NaN     0.0      0   \n",
       "         1989   100.0   9900000.0  18000.0    NaN     NaN    40.0      0   \n",
       "\n",
       "               grant  d89  d88  ...   clscrap  cgrant  clemploy   clsales  \\\n",
       "fcode    year                   ...                                         \n",
       "410032.0 1987      0    0    0  ...       NaN       0       NaN       NaN   \n",
       "         1988      0    0    1  ...       NaN       0  0.270027 -0.088949   \n",
       "         1989      0    1    0  ...       NaN       0 -0.063013  0.130621   \n",
       "410440.0 1987      0    0    0  ...       NaN       0       NaN       NaN   \n",
       "         1988      0    0    1  ...       NaN       0  0.080043  0.233347   \n",
       "...              ...  ...  ...  ...       ...     ...       ...       ...   \n",
       "419483.0 1988      0    0    1  ...  0.223144       0 -0.208218  0.044453   \n",
       "         1989      0    1    0  ...  0.182322       0  0.177681  0.042559   \n",
       "419486.0 1987      0    0    0  ...       NaN       0       NaN       NaN   \n",
       "         1988      0    0    1  ...       NaN       0  0.117783  0.194157   \n",
       "         1989      1    1    0  ...       NaN       1  0.105361  0.152469   \n",
       "\n",
       "                 lavgsal  clavgsal  cgrant_1    chrsemp  clhrsemp  year  \n",
       "fcode    year                                                            \n",
       "410032.0 1987  10.463103       NaN       NaN        NaN       NaN  1987  \n",
       "         1988  10.518673  0.055570       0.0  -8.946565 -1.165385  1988  \n",
       "         1989  10.571317  0.052644       0.0   0.198597  0.047832  1989  \n",
       "410440.0 1987   9.259130       NaN       NaN        NaN       NaN  1987  \n",
       "         1988   9.305651  0.046520       0.0   0.000000  0.000000  1988  \n",
       "...                  ...       ...       ...        ...       ...   ...  \n",
       "419483.0 1988   9.603058  0.059321       0.0   0.000000  0.000000  1988  \n",
       "         1989   9.562897 -0.040161       0.0   3.100775  1.411176  1989  \n",
       "419486.0 1987   9.680344       NaN       NaN        NaN       NaN  1987  \n",
       "         1988   9.740969  0.060625       0.0   0.000000  0.000000  1988  \n",
       "         1989   9.798127  0.057158       0.0  36.000000  3.610918  1989  \n",
       "\n",
       "[471 rows x 29 columns]"
      ],
      "text/html": "<div>\n<style scoped>\n    .dataframe tbody tr th:only-of-type {\n        vertical-align: middle;\n    }\n\n    .dataframe tbody tr th {\n        vertical-align: top;\n    }\n\n    .dataframe thead th {\n        text-align: right;\n    }\n</style>\n<table border=\"1\" class=\"dataframe\">\n  <thead>\n    <tr style=\"text-align: right;\">\n      <th></th>\n      <th></th>\n      <th>employ</th>\n      <th>sales</th>\n      <th>avgsal</th>\n      <th>scrap</th>\n      <th>rework</th>\n      <th>tothrs</th>\n      <th>union</th>\n      <th>grant</th>\n      <th>d89</th>\n      <th>d88</th>\n      <th>...</th>\n      <th>clscrap</th>\n      <th>cgrant</th>\n      <th>clemploy</th>\n      <th>clsales</th>\n      <th>lavgsal</th>\n      <th>clavgsal</th>\n      <th>cgrant_1</th>\n      <th>chrsemp</th>\n      <th>clhrsemp</th>\n      <th>year</th>\n    </tr>\n    <tr>\n      <th>fcode</th>\n      <th>year</th>\n      <th></th>\n      <th></th>\n      <th></th>\n      <th></th>\n      <th></th>\n      <th></th>\n      <th></th>\n      <th></th>\n      <th></th>\n      <th></th>\n      <th></th>\n      <th></th>\n      <th></th>\n      <th></th>\n      <th></th>\n      <th></th>\n      <th></th>\n      <th></th>\n      <th></th>\n      <th></th>\n      <th></th>\n    </tr>\n  </thead>\n  <tbody>\n    <tr>\n      <th rowspan=\"3\" valign=\"top\">410032.0</th>\n      <th>1987</th>\n      <td>100.0</td>\n      <td>47000000.0</td>\n      <td>35000.0</td>\n      <td>NaN</td>\n      <td>NaN</td>\n      <td>12.0</td>\n      <td>0</td>\n      <td>0</td>\n      <td>0</td>\n      <td>0</td>\n      <td>...</td>\n      <td>NaN</td>\n      <td>0</td>\n      <td>NaN</td>\n      <td>NaN</td>\n      <td>10.463103</td>\n      <td>NaN</td>\n      <td>NaN</td>\n      <td>NaN</td>\n      <td>NaN</td>\n      <td>1987</td>\n    </tr>\n    <tr>\n      <th>1988</th>\n      <td>131.0</td>\n      <td>43000000.0</td>\n      <td>37000.0</td>\n      <td>NaN</td>\n      <td>NaN</td>\n      <td>8.0</td>\n      <td>0</td>\n      <td>0</td>\n      <td>0</td>\n      <td>1</td>\n      <td>...</td>\n      <td>NaN</td>\n      <td>0</td>\n      <td>0.270027</td>\n      <td>-0.088949</td>\n      <td>10.518673</td>\n      <td>0.055570</td>\n      <td>0.0</td>\n      <td>-8.946565</td>\n      <td>-1.165385</td>\n      <td>1988</td>\n    </tr>\n    <tr>\n      <th>1989</th>\n      <td>123.0</td>\n      <td>49000000.0</td>\n      <td>39000.0</td>\n      <td>NaN</td>\n      <td>NaN</td>\n      <td>8.0</td>\n      <td>0</td>\n      <td>0</td>\n      <td>1</td>\n      <td>0</td>\n      <td>...</td>\n      <td>NaN</td>\n      <td>0</td>\n      <td>-0.063013</td>\n      <td>0.130621</td>\n      <td>10.571317</td>\n      <td>0.052644</td>\n      <td>0.0</td>\n      <td>0.198597</td>\n      <td>0.047832</td>\n      <td>1989</td>\n    </tr>\n    <tr>\n      <th rowspan=\"2\" valign=\"top\">410440.0</th>\n      <th>1987</th>\n      <td>12.0</td>\n      <td>1560000.0</td>\n      <td>10500.0</td>\n      <td>NaN</td>\n      <td>NaN</td>\n      <td>12.0</td>\n      <td>0</td>\n      <td>0</td>\n      <td>0</td>\n      <td>0</td>\n      <td>...</td>\n      <td>NaN</td>\n      <td>0</td>\n      <td>NaN</td>\n      <td>NaN</td>\n      <td>9.259130</td>\n      <td>NaN</td>\n      <td>NaN</td>\n      <td>NaN</td>\n      <td>NaN</td>\n      <td>1987</td>\n    </tr>\n    <tr>\n      <th>1988</th>\n      <td>13.0</td>\n      <td>1970000.0</td>\n      <td>11000.0</td>\n      <td>NaN</td>\n      <td>NaN</td>\n      <td>12.0</td>\n      <td>0</td>\n      <td>0</td>\n      <td>0</td>\n      <td>1</td>\n      <td>...</td>\n      <td>NaN</td>\n      <td>0</td>\n      <td>0.080043</td>\n      <td>0.233347</td>\n      <td>9.305651</td>\n      <td>0.046520</td>\n      <td>0.0</td>\n      <td>0.000000</td>\n      <td>0.000000</td>\n      <td>1988</td>\n    </tr>\n    <tr>\n      <th>...</th>\n      <th>...</th>\n      <td>...</td>\n      <td>...</td>\n      <td>...</td>\n      <td>...</td>\n      <td>...</td>\n      <td>...</td>\n      <td>...</td>\n      <td>...</td>\n      <td>...</td>\n      <td>...</td>\n      <td>...</td>\n      <td>...</td>\n      <td>...</td>\n      <td>...</td>\n      <td>...</td>\n      <td>...</td>\n      <td>...</td>\n      <td>...</td>\n      <td>...</td>\n      <td>...</td>\n      <td>...</td>\n    </tr>\n    <tr>\n      <th rowspan=\"2\" valign=\"top\">419483.0</th>\n      <th>1988</th>\n      <td>108.0</td>\n      <td>11500000.0</td>\n      <td>14810.0</td>\n      <td>25.0</td>\n      <td>NaN</td>\n      <td>0.0</td>\n      <td>1</td>\n      <td>0</td>\n      <td>0</td>\n      <td>1</td>\n      <td>...</td>\n      <td>0.223144</td>\n      <td>0</td>\n      <td>-0.208218</td>\n      <td>0.044453</td>\n      <td>9.603058</td>\n      <td>0.059321</td>\n      <td>0.0</td>\n      <td>0.000000</td>\n      <td>0.000000</td>\n      <td>1988</td>\n    </tr>\n    <tr>\n      <th>1989</th>\n      <td>129.0</td>\n      <td>12000000.0</td>\n      <td>14227.0</td>\n      <td>30.0</td>\n      <td>NaN</td>\n      <td>20.0</td>\n      <td>1</td>\n      <td>0</td>\n      <td>1</td>\n      <td>0</td>\n      <td>...</td>\n      <td>0.182322</td>\n      <td>0</td>\n      <td>0.177681</td>\n      <td>0.042559</td>\n      <td>9.562897</td>\n      <td>-0.040161</td>\n      <td>0.0</td>\n      <td>3.100775</td>\n      <td>1.411176</td>\n      <td>1989</td>\n    </tr>\n    <tr>\n      <th rowspan=\"3\" valign=\"top\">419486.0</th>\n      <th>1987</th>\n      <td>80.0</td>\n      <td>7000000.0</td>\n      <td>16000.0</td>\n      <td>NaN</td>\n      <td>NaN</td>\n      <td>0.0</td>\n      <td>0</td>\n      <td>0</td>\n      <td>0</td>\n      <td>0</td>\n      <td>...</td>\n      <td>NaN</td>\n      <td>0</td>\n      <td>NaN</td>\n      <td>NaN</td>\n      <td>9.680344</td>\n      <td>NaN</td>\n      <td>NaN</td>\n      <td>NaN</td>\n      <td>NaN</td>\n      <td>1987</td>\n    </tr>\n    <tr>\n      <th>1988</th>\n      <td>90.0</td>\n      <td>8500000.0</td>\n      <td>17000.0</td>\n      <td>NaN</td>\n      <td>NaN</td>\n      <td>0.0</td>\n      <td>0</td>\n      <td>0</td>\n      <td>0</td>\n      <td>1</td>\n      <td>...</td>\n      <td>NaN</td>\n      <td>0</td>\n      <td>0.117783</td>\n      <td>0.194157</td>\n      <td>9.740969</td>\n      <td>0.060625</td>\n      <td>0.0</td>\n      <td>0.000000</td>\n      <td>0.000000</td>\n      <td>1988</td>\n    </tr>\n    <tr>\n      <th>1989</th>\n      <td>100.0</td>\n      <td>9900000.0</td>\n      <td>18000.0</td>\n      <td>NaN</td>\n      <td>NaN</td>\n      <td>40.0</td>\n      <td>0</td>\n      <td>1</td>\n      <td>1</td>\n      <td>0</td>\n      <td>...</td>\n      <td>NaN</td>\n      <td>1</td>\n      <td>0.105361</td>\n      <td>0.152469</td>\n      <td>9.798127</td>\n      <td>0.057158</td>\n      <td>0.0</td>\n      <td>36.000000</td>\n      <td>3.610918</td>\n      <td>1989</td>\n    </tr>\n  </tbody>\n</table>\n<p>471 rows × 29 columns</p>\n</div>"
     },
     "metadata": {},
     "execution_count": 50
    }
   ],
   "source": [
    "Arrumar_Painel()"
   ]
  },
  {
   "cell_type": "code",
   "execution_count": 51,
   "metadata": {},
   "outputs": [
    {
     "output_type": "execute_result",
     "data": {
      "text/plain": [
       "           employ       sales        avgsal       scrap      rework  \\\n",
       "count  440.000000       373.0    406.000000  162.000000  123.000000   \n",
       "mean    59.315909   6116036.5  18872.824219    3.843642    3.473984   \n",
       "std     74.123782   7912517.5   6703.156250    6.007770    5.462483   \n",
       "min      4.000000    110000.0   4237.000000    0.010000    0.000000   \n",
       "25%     15.000000   1550000.0  14102.500000    0.592500    0.350000   \n",
       "50%     30.000000   3000000.0  17773.000000    1.415000    1.160000   \n",
       "75%     72.000000   7700000.0  22360.000000    4.000000    4.000000   \n",
       "max    525.000000  54000000.0  42583.000000   30.000000   40.000000   \n",
       "\n",
       "           tothrs       union       grant         d89         d88  ...  \\\n",
       "count  415.000000  471.000000  471.000000  471.000000  471.000000  ...   \n",
       "mean    29.200000    0.197452    0.140127    0.333333    0.333333  ...   \n",
       "std     47.699755    0.398500    0.347488    0.471906    0.471906  ...   \n",
       "min      0.000000    0.000000    0.000000    0.000000    0.000000  ...   \n",
       "25%      0.000000    0.000000    0.000000    0.000000    0.000000  ...   \n",
       "50%     12.000000    0.000000    0.000000    0.000000    0.000000  ...   \n",
       "75%     40.000000    0.000000    0.000000    1.000000    1.000000  ...   \n",
       "max    320.000000    1.000000    1.000000    1.000000    1.000000  ...   \n",
       "\n",
       "          grant_1     clscrap      cgrant    clemploy     clsales     lavgsal  \\\n",
       "count  471.000000  108.000000  471.000000  290.000000  245.000000  406.000000   \n",
       "mean     0.076433   -0.221132    0.063694    0.082022    0.115873    9.784861   \n",
       "std      0.265972    0.579248    0.461471    0.253524    0.438901    0.350157   \n",
       "min      0.000000   -3.314186   -1.000000   -0.980829   -1.982874    8.351611   \n",
       "25%      0.000000   -0.397529    0.000000   -0.028988   -0.011011    9.554108   \n",
       "50%      0.000000   -0.141095    0.000000    0.070657    0.107108    9.785427   \n",
       "75%      0.000000    0.009295    0.000000    0.182322    0.223144   10.015029   \n",
       "max      1.000000    2.397895    1.000000    1.673976    2.896701   10.659210   \n",
       "\n",
       "         clavgsal    cgrant_1     chrsemp    clhrsemp  \n",
       "count  267.000000  314.000000  251.000000  251.000000  \n",
       "mean     0.060258    0.114650    5.935913    0.503702  \n",
       "std      0.076471    0.319107   26.618122    1.604679  \n",
       "min     -0.405465    0.000000  -88.622551   -4.025352  \n",
       "25%      0.022276    0.000000   -0.072566   -0.014926  \n",
       "50%      0.057158    0.000000    0.198597    0.034786  \n",
       "75%      0.090763    0.000000   11.009523    1.368111  \n",
       "max      0.568912    1.000000  142.000000    4.394449  \n",
       "\n",
       "[8 rows x 28 columns]"
      ],
      "text/html": "<div>\n<style scoped>\n    .dataframe tbody tr th:only-of-type {\n        vertical-align: middle;\n    }\n\n    .dataframe tbody tr th {\n        vertical-align: top;\n    }\n\n    .dataframe thead th {\n        text-align: right;\n    }\n</style>\n<table border=\"1\" class=\"dataframe\">\n  <thead>\n    <tr style=\"text-align: right;\">\n      <th></th>\n      <th>employ</th>\n      <th>sales</th>\n      <th>avgsal</th>\n      <th>scrap</th>\n      <th>rework</th>\n      <th>tothrs</th>\n      <th>union</th>\n      <th>grant</th>\n      <th>d89</th>\n      <th>d88</th>\n      <th>...</th>\n      <th>grant_1</th>\n      <th>clscrap</th>\n      <th>cgrant</th>\n      <th>clemploy</th>\n      <th>clsales</th>\n      <th>lavgsal</th>\n      <th>clavgsal</th>\n      <th>cgrant_1</th>\n      <th>chrsemp</th>\n      <th>clhrsemp</th>\n    </tr>\n  </thead>\n  <tbody>\n    <tr>\n      <th>count</th>\n      <td>440.000000</td>\n      <td>373.0</td>\n      <td>406.000000</td>\n      <td>162.000000</td>\n      <td>123.000000</td>\n      <td>415.000000</td>\n      <td>471.000000</td>\n      <td>471.000000</td>\n      <td>471.000000</td>\n      <td>471.000000</td>\n      <td>...</td>\n      <td>471.000000</td>\n      <td>108.000000</td>\n      <td>471.000000</td>\n      <td>290.000000</td>\n      <td>245.000000</td>\n      <td>406.000000</td>\n      <td>267.000000</td>\n      <td>314.000000</td>\n      <td>251.000000</td>\n      <td>251.000000</td>\n    </tr>\n    <tr>\n      <th>mean</th>\n      <td>59.315909</td>\n      <td>6116036.5</td>\n      <td>18872.824219</td>\n      <td>3.843642</td>\n      <td>3.473984</td>\n      <td>29.200000</td>\n      <td>0.197452</td>\n      <td>0.140127</td>\n      <td>0.333333</td>\n      <td>0.333333</td>\n      <td>...</td>\n      <td>0.076433</td>\n      <td>-0.221132</td>\n      <td>0.063694</td>\n      <td>0.082022</td>\n      <td>0.115873</td>\n      <td>9.784861</td>\n      <td>0.060258</td>\n      <td>0.114650</td>\n      <td>5.935913</td>\n      <td>0.503702</td>\n    </tr>\n    <tr>\n      <th>std</th>\n      <td>74.123782</td>\n      <td>7912517.5</td>\n      <td>6703.156250</td>\n      <td>6.007770</td>\n      <td>5.462483</td>\n      <td>47.699755</td>\n      <td>0.398500</td>\n      <td>0.347488</td>\n      <td>0.471906</td>\n      <td>0.471906</td>\n      <td>...</td>\n      <td>0.265972</td>\n      <td>0.579248</td>\n      <td>0.461471</td>\n      <td>0.253524</td>\n      <td>0.438901</td>\n      <td>0.350157</td>\n      <td>0.076471</td>\n      <td>0.319107</td>\n      <td>26.618122</td>\n      <td>1.604679</td>\n    </tr>\n    <tr>\n      <th>min</th>\n      <td>4.000000</td>\n      <td>110000.0</td>\n      <td>4237.000000</td>\n      <td>0.010000</td>\n      <td>0.000000</td>\n      <td>0.000000</td>\n      <td>0.000000</td>\n      <td>0.000000</td>\n      <td>0.000000</td>\n      <td>0.000000</td>\n      <td>...</td>\n      <td>0.000000</td>\n      <td>-3.314186</td>\n      <td>-1.000000</td>\n      <td>-0.980829</td>\n      <td>-1.982874</td>\n      <td>8.351611</td>\n      <td>-0.405465</td>\n      <td>0.000000</td>\n      <td>-88.622551</td>\n      <td>-4.025352</td>\n    </tr>\n    <tr>\n      <th>25%</th>\n      <td>15.000000</td>\n      <td>1550000.0</td>\n      <td>14102.500000</td>\n      <td>0.592500</td>\n      <td>0.350000</td>\n      <td>0.000000</td>\n      <td>0.000000</td>\n      <td>0.000000</td>\n      <td>0.000000</td>\n      <td>0.000000</td>\n      <td>...</td>\n      <td>0.000000</td>\n      <td>-0.397529</td>\n      <td>0.000000</td>\n      <td>-0.028988</td>\n      <td>-0.011011</td>\n      <td>9.554108</td>\n      <td>0.022276</td>\n      <td>0.000000</td>\n      <td>-0.072566</td>\n      <td>-0.014926</td>\n    </tr>\n    <tr>\n      <th>50%</th>\n      <td>30.000000</td>\n      <td>3000000.0</td>\n      <td>17773.000000</td>\n      <td>1.415000</td>\n      <td>1.160000</td>\n      <td>12.000000</td>\n      <td>0.000000</td>\n      <td>0.000000</td>\n      <td>0.000000</td>\n      <td>0.000000</td>\n      <td>...</td>\n      <td>0.000000</td>\n      <td>-0.141095</td>\n      <td>0.000000</td>\n      <td>0.070657</td>\n      <td>0.107108</td>\n      <td>9.785427</td>\n      <td>0.057158</td>\n      <td>0.000000</td>\n      <td>0.198597</td>\n      <td>0.034786</td>\n    </tr>\n    <tr>\n      <th>75%</th>\n      <td>72.000000</td>\n      <td>7700000.0</td>\n      <td>22360.000000</td>\n      <td>4.000000</td>\n      <td>4.000000</td>\n      <td>40.000000</td>\n      <td>0.000000</td>\n      <td>0.000000</td>\n      <td>1.000000</td>\n      <td>1.000000</td>\n      <td>...</td>\n      <td>0.000000</td>\n      <td>0.009295</td>\n      <td>0.000000</td>\n      <td>0.182322</td>\n      <td>0.223144</td>\n      <td>10.015029</td>\n      <td>0.090763</td>\n      <td>0.000000</td>\n      <td>11.009523</td>\n      <td>1.368111</td>\n    </tr>\n    <tr>\n      <th>max</th>\n      <td>525.000000</td>\n      <td>54000000.0</td>\n      <td>42583.000000</td>\n      <td>30.000000</td>\n      <td>40.000000</td>\n      <td>320.000000</td>\n      <td>1.000000</td>\n      <td>1.000000</td>\n      <td>1.000000</td>\n      <td>1.000000</td>\n      <td>...</td>\n      <td>1.000000</td>\n      <td>2.397895</td>\n      <td>1.000000</td>\n      <td>1.673976</td>\n      <td>2.896701</td>\n      <td>10.659210</td>\n      <td>0.568912</td>\n      <td>1.000000</td>\n      <td>142.000000</td>\n      <td>4.394449</td>\n    </tr>\n  </tbody>\n</table>\n<p>8 rows × 28 columns</p>\n</div>"
     },
     "metadata": {},
     "execution_count": 51
    }
   ],
   "source": [
    "df.describe()"
   ]
  },
  {
   "cell_type": "code",
   "execution_count": 52,
   "metadata": {},
   "outputs": [
    {
     "output_type": "execute_result",
     "data": {
      "text/plain": [
       "Index(['employ', 'sales', 'avgsal', 'scrap', 'rework', 'tothrs', 'union',\n",
       "       'grant', 'd89', 'd88', 'totrain', 'hrsemp', 'lscrap', 'lemploy',\n",
       "       'lsales', 'lrework', 'lhrsemp', 'lscrap_1', 'grant_1', 'clscrap',\n",
       "       'cgrant', 'clemploy', 'clsales', 'lavgsal', 'clavgsal', 'cgrant_1',\n",
       "       'chrsemp', 'clhrsemp', 'year'],\n",
       "      dtype='object')"
      ]
     },
     "metadata": {},
     "execution_count": 52
    }
   ],
   "source": [
    "df.columns"
   ]
  },
  {
   "cell_type": "code",
   "execution_count": 53,
   "metadata": {},
   "outputs": [
    {
     "output_type": "stream",
     "name": "stderr",
     "text": [
      "/Users/vinicius/opt/anaconda3/envs/myenv/lib/python3.7/site-packages/linearmodels/shared/exceptions.py:35: MissingValueWarning:\n",
      "\n",
      "\n",
      "Inputs contain missing values. Dropping rows with missing observations.\n",
      "\n",
      "                          PanelOLS Estimation Summary                           \n",
      "================================================================================\n",
      "Dep. Variable:                 hrsemp   R-squared:                        0.4909\n",
      "Estimator:                   PanelOLS   R-squared (Between):              0.0481\n",
      "No. Observations:                 390   R-squared (Within):               0.4909\n",
      "Date:                Thu, Mar 11 2021   R-squared (Overall):              0.2201\n",
      "Time:                        20:33:19   Log-likelihood                   -1503.7\n",
      "Cov. Estimator:            Unadjusted                                           \n",
      "                                        F-statistic:                      48.206\n",
      "Entities:                         135   P-value                           0.0000\n",
      "Avg Obs:                       2.8889   Distribution:                   F(5,250)\n",
      "Min Obs:                       1.0000                                           \n",
      "Max Obs:                       3.0000   F-statistic (robust):             48.206\n",
      "                                        P-value                           0.0000\n",
      "Time periods:                       3   Distribution:                   F(5,250)\n",
      "Avg Obs:                       130.00                                           \n",
      "Min Obs:                       127.00                                           \n",
      "Max Obs:                       134.00                                           \n",
      "                                                                                \n",
      "                             Parameter Estimates                              \n",
      "==============================================================================\n",
      "            Parameter  Std. Err.     T-stat    P-value    Lower CI    Upper CI\n",
      "------------------------------------------------------------------------------\n",
      "const          9.3250     14.928     0.6247     0.5328     -20.075      38.725\n",
      "d88           -1.0987     1.9832    -0.5540     0.5801     -5.0045      2.8071\n",
      "d89            4.0900     2.4811     1.6485     0.1005     -0.7965      8.9766\n",
      "grant          34.228     2.8584     11.974     0.0000      28.598      39.858\n",
      "grant_1        0.5041     4.1273     0.1221     0.9029     -7.6247      8.6328\n",
      "lemploy       -0.1763     4.2879    -0.0411     0.9672     -8.6213      8.2688\n",
      "==============================================================================\n",
      "\n",
      "F-test for Poolability: 5.1195\n",
      "P-value: 0.0000\n",
      "Distribution: F(134,250)\n",
      "\n",
      "Included effects: Entity\n"
     ]
    }
   ],
   "source": [
    "## Fazendo o modelo de EF\n",
    "x = df[['d88','d89','grant','grant_1','lemploy']]\n",
    "y = df['hrsemp']\n",
    "\n",
    "Reg_Painel_Efeitos_Fixos(x,y)"
   ]
  },
  {
   "source": [
    "## Exercício C13"
   ],
   "cell_type": "markdown",
   "metadata": {}
  },
  {
   "cell_type": "code",
   "execution_count": 251,
   "metadata": {},
   "outputs": [
    {
     "output_type": "stream",
     "name": "stdout",
     "text": [
      "driving.dta foi lido com sucesso!\n"
     ]
    },
    {
     "output_type": "execute_result",
     "data": {
      "text/plain": [
       "      year  state  sl55  sl65  sl70  sl75  slnone  seatbelt  minage  zerotol  \\\n",
       "0     1980      1   1.0   0.0   0.0   0.0     0.0         0    18.0      0.0   \n",
       "1     1981      1   1.0   0.0   0.0   0.0     0.0         0    18.0      0.0   \n",
       "2     1982      1   1.0   0.0   0.0   0.0     0.0         0    18.0      0.0   \n",
       "3     1983      1   1.0   0.0   0.0   0.0     0.0         0    18.0      0.0   \n",
       "4     1984      1   1.0   0.0   0.0   0.0     0.0         0    18.0      0.0   \n",
       "...    ...    ...   ...   ...   ...   ...     ...       ...     ...      ...   \n",
       "1195  2000     51   0.0   0.0   0.0   1.0     0.0         2    21.0      1.0   \n",
       "1196  2001     51   0.0   0.0   0.0   1.0     0.0         2    21.0      1.0   \n",
       "1197  2002     51   0.0   0.0   0.0   1.0     0.0         2    21.0      1.0   \n",
       "1198  2003     51   0.0   0.0   0.0   1.0     0.0         2    21.0      1.0   \n",
       "1199  2004     51   0.0   0.0   0.0   1.0     0.0         2    21.0      1.0   \n",
       "\n",
       "      ...  d96  d97  d98  d99  d00  d01  d02  d03  d04  vehicmilespc  \n",
       "0     ...    0    0    0    0    0    0    0    0    0   7543.874023  \n",
       "1     ...    0    0    0    0    0    0    0    0    0   7107.785156  \n",
       "2     ...    0    0    0    0    0    0    0    0    0   7606.622070  \n",
       "3     ...    0    0    0    0    0    0    0    0    0   7879.802246  \n",
       "4     ...    0    0    0    0    0    0    0    0    0   8333.562500  \n",
       "...   ...  ...  ...  ...  ...  ...  ...  ...  ...  ...           ...  \n",
       "1195  ...    0    0    0    0    1    0    0    0    0  16373.843750  \n",
       "1196  ...    0    0    0    0    0    1    0    0    0  17440.082031  \n",
       "1197  ...    0    0    0    0    0    0    1    0    0  18093.619141  \n",
       "1198  ...    0    0    0    0    0    0    0    1    0  18390.080078  \n",
       "1199  ...    0    0    0    0    0    0    0    0    1  18276.134766  \n",
       "\n",
       "[1200 rows x 56 columns]"
      ],
      "text/html": "<div>\n<style scoped>\n    .dataframe tbody tr th:only-of-type {\n        vertical-align: middle;\n    }\n\n    .dataframe tbody tr th {\n        vertical-align: top;\n    }\n\n    .dataframe thead th {\n        text-align: right;\n    }\n</style>\n<table border=\"1\" class=\"dataframe\">\n  <thead>\n    <tr style=\"text-align: right;\">\n      <th></th>\n      <th>year</th>\n      <th>state</th>\n      <th>sl55</th>\n      <th>sl65</th>\n      <th>sl70</th>\n      <th>sl75</th>\n      <th>slnone</th>\n      <th>seatbelt</th>\n      <th>minage</th>\n      <th>zerotol</th>\n      <th>...</th>\n      <th>d96</th>\n      <th>d97</th>\n      <th>d98</th>\n      <th>d99</th>\n      <th>d00</th>\n      <th>d01</th>\n      <th>d02</th>\n      <th>d03</th>\n      <th>d04</th>\n      <th>vehicmilespc</th>\n    </tr>\n  </thead>\n  <tbody>\n    <tr>\n      <th>0</th>\n      <td>1980</td>\n      <td>1</td>\n      <td>1.0</td>\n      <td>0.0</td>\n      <td>0.0</td>\n      <td>0.0</td>\n      <td>0.0</td>\n      <td>0</td>\n      <td>18.0</td>\n      <td>0.0</td>\n      <td>...</td>\n      <td>0</td>\n      <td>0</td>\n      <td>0</td>\n      <td>0</td>\n      <td>0</td>\n      <td>0</td>\n      <td>0</td>\n      <td>0</td>\n      <td>0</td>\n      <td>7543.874023</td>\n    </tr>\n    <tr>\n      <th>1</th>\n      <td>1981</td>\n      <td>1</td>\n      <td>1.0</td>\n      <td>0.0</td>\n      <td>0.0</td>\n      <td>0.0</td>\n      <td>0.0</td>\n      <td>0</td>\n      <td>18.0</td>\n      <td>0.0</td>\n      <td>...</td>\n      <td>0</td>\n      <td>0</td>\n      <td>0</td>\n      <td>0</td>\n      <td>0</td>\n      <td>0</td>\n      <td>0</td>\n      <td>0</td>\n      <td>0</td>\n      <td>7107.785156</td>\n    </tr>\n    <tr>\n      <th>2</th>\n      <td>1982</td>\n      <td>1</td>\n      <td>1.0</td>\n      <td>0.0</td>\n      <td>0.0</td>\n      <td>0.0</td>\n      <td>0.0</td>\n      <td>0</td>\n      <td>18.0</td>\n      <td>0.0</td>\n      <td>...</td>\n      <td>0</td>\n      <td>0</td>\n      <td>0</td>\n      <td>0</td>\n      <td>0</td>\n      <td>0</td>\n      <td>0</td>\n      <td>0</td>\n      <td>0</td>\n      <td>7606.622070</td>\n    </tr>\n    <tr>\n      <th>3</th>\n      <td>1983</td>\n      <td>1</td>\n      <td>1.0</td>\n      <td>0.0</td>\n      <td>0.0</td>\n      <td>0.0</td>\n      <td>0.0</td>\n      <td>0</td>\n      <td>18.0</td>\n      <td>0.0</td>\n      <td>...</td>\n      <td>0</td>\n      <td>0</td>\n      <td>0</td>\n      <td>0</td>\n      <td>0</td>\n      <td>0</td>\n      <td>0</td>\n      <td>0</td>\n      <td>0</td>\n      <td>7879.802246</td>\n    </tr>\n    <tr>\n      <th>4</th>\n      <td>1984</td>\n      <td>1</td>\n      <td>1.0</td>\n      <td>0.0</td>\n      <td>0.0</td>\n      <td>0.0</td>\n      <td>0.0</td>\n      <td>0</td>\n      <td>18.0</td>\n      <td>0.0</td>\n      <td>...</td>\n      <td>0</td>\n      <td>0</td>\n      <td>0</td>\n      <td>0</td>\n      <td>0</td>\n      <td>0</td>\n      <td>0</td>\n      <td>0</td>\n      <td>0</td>\n      <td>8333.562500</td>\n    </tr>\n    <tr>\n      <th>...</th>\n      <td>...</td>\n      <td>...</td>\n      <td>...</td>\n      <td>...</td>\n      <td>...</td>\n      <td>...</td>\n      <td>...</td>\n      <td>...</td>\n      <td>...</td>\n      <td>...</td>\n      <td>...</td>\n      <td>...</td>\n      <td>...</td>\n      <td>...</td>\n      <td>...</td>\n      <td>...</td>\n      <td>...</td>\n      <td>...</td>\n      <td>...</td>\n      <td>...</td>\n      <td>...</td>\n    </tr>\n    <tr>\n      <th>1195</th>\n      <td>2000</td>\n      <td>51</td>\n      <td>0.0</td>\n      <td>0.0</td>\n      <td>0.0</td>\n      <td>1.0</td>\n      <td>0.0</td>\n      <td>2</td>\n      <td>21.0</td>\n      <td>1.0</td>\n      <td>...</td>\n      <td>0</td>\n      <td>0</td>\n      <td>0</td>\n      <td>0</td>\n      <td>1</td>\n      <td>0</td>\n      <td>0</td>\n      <td>0</td>\n      <td>0</td>\n      <td>16373.843750</td>\n    </tr>\n    <tr>\n      <th>1196</th>\n      <td>2001</td>\n      <td>51</td>\n      <td>0.0</td>\n      <td>0.0</td>\n      <td>0.0</td>\n      <td>1.0</td>\n      <td>0.0</td>\n      <td>2</td>\n      <td>21.0</td>\n      <td>1.0</td>\n      <td>...</td>\n      <td>0</td>\n      <td>0</td>\n      <td>0</td>\n      <td>0</td>\n      <td>0</td>\n      <td>1</td>\n      <td>0</td>\n      <td>0</td>\n      <td>0</td>\n      <td>17440.082031</td>\n    </tr>\n    <tr>\n      <th>1197</th>\n      <td>2002</td>\n      <td>51</td>\n      <td>0.0</td>\n      <td>0.0</td>\n      <td>0.0</td>\n      <td>1.0</td>\n      <td>0.0</td>\n      <td>2</td>\n      <td>21.0</td>\n      <td>1.0</td>\n      <td>...</td>\n      <td>0</td>\n      <td>0</td>\n      <td>0</td>\n      <td>0</td>\n      <td>0</td>\n      <td>0</td>\n      <td>1</td>\n      <td>0</td>\n      <td>0</td>\n      <td>18093.619141</td>\n    </tr>\n    <tr>\n      <th>1198</th>\n      <td>2003</td>\n      <td>51</td>\n      <td>0.0</td>\n      <td>0.0</td>\n      <td>0.0</td>\n      <td>1.0</td>\n      <td>0.0</td>\n      <td>2</td>\n      <td>21.0</td>\n      <td>1.0</td>\n      <td>...</td>\n      <td>0</td>\n      <td>0</td>\n      <td>0</td>\n      <td>0</td>\n      <td>0</td>\n      <td>0</td>\n      <td>0</td>\n      <td>1</td>\n      <td>0</td>\n      <td>18390.080078</td>\n    </tr>\n    <tr>\n      <th>1199</th>\n      <td>2004</td>\n      <td>51</td>\n      <td>0.0</td>\n      <td>0.0</td>\n      <td>0.0</td>\n      <td>1.0</td>\n      <td>0.0</td>\n      <td>2</td>\n      <td>21.0</td>\n      <td>1.0</td>\n      <td>...</td>\n      <td>0</td>\n      <td>0</td>\n      <td>0</td>\n      <td>0</td>\n      <td>0</td>\n      <td>0</td>\n      <td>0</td>\n      <td>0</td>\n      <td>1</td>\n      <td>18276.134766</td>\n    </tr>\n  </tbody>\n</table>\n<p>1200 rows × 56 columns</p>\n</div>"
     },
     "metadata": {},
     "execution_count": 251
    }
   ],
   "source": [
    "coletar_dados('driving')"
   ]
  },
  {
   "cell_type": "code",
   "execution_count": 252,
   "metadata": {},
   "outputs": [
    {
     "output_type": "execute_result",
     "data": {
      "text/plain": [
       "            sl55  sl65  sl70  sl75  slnone  seatbelt  minage  zerotol  gdl  \\\n",
       "state year                                                                   \n",
       "1     1980   1.0   0.0   0.0   0.0     0.0         0    18.0      0.0  0.0   \n",
       "      1981   1.0   0.0   0.0   0.0     0.0         0    18.0      0.0  0.0   \n",
       "      1982   1.0   0.0   0.0   0.0     0.0         0    18.0      0.0  0.0   \n",
       "      1983   1.0   0.0   0.0   0.0     0.0         0    18.0      0.0  0.0   \n",
       "      1984   1.0   0.0   0.0   0.0     0.0         0    18.0      0.0  0.0   \n",
       "...          ...   ...   ...   ...     ...       ...     ...      ...  ...   \n",
       "51    2000   0.0   0.0   0.0   1.0     0.0         2    21.0      1.0  0.0   \n",
       "      2001   0.0   0.0   0.0   1.0     0.0         2    21.0      1.0  0.0   \n",
       "      2002   0.0   0.0   0.0   1.0     0.0         2    21.0      1.0  0.0   \n",
       "      2003   0.0   0.0   0.0   1.0     0.0         2    21.0      1.0  0.0   \n",
       "      2004   0.0   0.0   0.0   1.0     0.0         2    21.0      1.0  0.0   \n",
       "\n",
       "            bac10  ...  d97  d98  d99  d00  d01  d02  d03  d04  vehicmilespc  \\\n",
       "state year         ...                                                         \n",
       "1     1980    1.0  ...    0    0    0    0    0    0    0    0   7543.874023   \n",
       "      1981    1.0  ...    0    0    0    0    0    0    0    0   7107.785156   \n",
       "      1982    1.0  ...    0    0    0    0    0    0    0    0   7606.622070   \n",
       "      1983    1.0  ...    0    0    0    0    0    0    0    0   7879.802246   \n",
       "      1984    1.0  ...    0    0    0    0    0    0    0    0   8333.562500   \n",
       "...           ...  ...  ...  ...  ...  ...  ...  ...  ...  ...           ...   \n",
       "51    2000    1.0  ...    0    0    0    1    0    0    0    0  16373.843750   \n",
       "      2001    1.0  ...    0    0    0    0    1    0    0    0  17440.082031   \n",
       "      2002    0.5  ...    0    0    0    0    0    1    0    0  18093.619141   \n",
       "      2003    0.0  ...    0    0    0    0    0    0    1    0  18390.080078   \n",
       "      2004    0.0  ...    0    0    0    0    0    0    0    1  18276.134766   \n",
       "\n",
       "            year  \n",
       "state year        \n",
       "1     1980  1980  \n",
       "      1981  1981  \n",
       "      1982  1982  \n",
       "      1983  1983  \n",
       "      1984  1984  \n",
       "...          ...  \n",
       "51    2000  2000  \n",
       "      2001  2001  \n",
       "      2002  2002  \n",
       "      2003  2003  \n",
       "      2004  2004  \n",
       "\n",
       "[1200 rows x 55 columns]"
      ],
      "text/html": "<div>\n<style scoped>\n    .dataframe tbody tr th:only-of-type {\n        vertical-align: middle;\n    }\n\n    .dataframe tbody tr th {\n        vertical-align: top;\n    }\n\n    .dataframe thead th {\n        text-align: right;\n    }\n</style>\n<table border=\"1\" class=\"dataframe\">\n  <thead>\n    <tr style=\"text-align: right;\">\n      <th></th>\n      <th></th>\n      <th>sl55</th>\n      <th>sl65</th>\n      <th>sl70</th>\n      <th>sl75</th>\n      <th>slnone</th>\n      <th>seatbelt</th>\n      <th>minage</th>\n      <th>zerotol</th>\n      <th>gdl</th>\n      <th>bac10</th>\n      <th>...</th>\n      <th>d97</th>\n      <th>d98</th>\n      <th>d99</th>\n      <th>d00</th>\n      <th>d01</th>\n      <th>d02</th>\n      <th>d03</th>\n      <th>d04</th>\n      <th>vehicmilespc</th>\n      <th>year</th>\n    </tr>\n    <tr>\n      <th>state</th>\n      <th>year</th>\n      <th></th>\n      <th></th>\n      <th></th>\n      <th></th>\n      <th></th>\n      <th></th>\n      <th></th>\n      <th></th>\n      <th></th>\n      <th></th>\n      <th></th>\n      <th></th>\n      <th></th>\n      <th></th>\n      <th></th>\n      <th></th>\n      <th></th>\n      <th></th>\n      <th></th>\n      <th></th>\n      <th></th>\n    </tr>\n  </thead>\n  <tbody>\n    <tr>\n      <th rowspan=\"5\" valign=\"top\">1</th>\n      <th>1980</th>\n      <td>1.0</td>\n      <td>0.0</td>\n      <td>0.0</td>\n      <td>0.0</td>\n      <td>0.0</td>\n      <td>0</td>\n      <td>18.0</td>\n      <td>0.0</td>\n      <td>0.0</td>\n      <td>1.0</td>\n      <td>...</td>\n      <td>0</td>\n      <td>0</td>\n      <td>0</td>\n      <td>0</td>\n      <td>0</td>\n      <td>0</td>\n      <td>0</td>\n      <td>0</td>\n      <td>7543.874023</td>\n      <td>1980</td>\n    </tr>\n    <tr>\n      <th>1981</th>\n      <td>1.0</td>\n      <td>0.0</td>\n      <td>0.0</td>\n      <td>0.0</td>\n      <td>0.0</td>\n      <td>0</td>\n      <td>18.0</td>\n      <td>0.0</td>\n      <td>0.0</td>\n      <td>1.0</td>\n      <td>...</td>\n      <td>0</td>\n      <td>0</td>\n      <td>0</td>\n      <td>0</td>\n      <td>0</td>\n      <td>0</td>\n      <td>0</td>\n      <td>0</td>\n      <td>7107.785156</td>\n      <td>1981</td>\n    </tr>\n    <tr>\n      <th>1982</th>\n      <td>1.0</td>\n      <td>0.0</td>\n      <td>0.0</td>\n      <td>0.0</td>\n      <td>0.0</td>\n      <td>0</td>\n      <td>18.0</td>\n      <td>0.0</td>\n      <td>0.0</td>\n      <td>1.0</td>\n      <td>...</td>\n      <td>0</td>\n      <td>0</td>\n      <td>0</td>\n      <td>0</td>\n      <td>0</td>\n      <td>0</td>\n      <td>0</td>\n      <td>0</td>\n      <td>7606.622070</td>\n      <td>1982</td>\n    </tr>\n    <tr>\n      <th>1983</th>\n      <td>1.0</td>\n      <td>0.0</td>\n      <td>0.0</td>\n      <td>0.0</td>\n      <td>0.0</td>\n      <td>0</td>\n      <td>18.0</td>\n      <td>0.0</td>\n      <td>0.0</td>\n      <td>1.0</td>\n      <td>...</td>\n      <td>0</td>\n      <td>0</td>\n      <td>0</td>\n      <td>0</td>\n      <td>0</td>\n      <td>0</td>\n      <td>0</td>\n      <td>0</td>\n      <td>7879.802246</td>\n      <td>1983</td>\n    </tr>\n    <tr>\n      <th>1984</th>\n      <td>1.0</td>\n      <td>0.0</td>\n      <td>0.0</td>\n      <td>0.0</td>\n      <td>0.0</td>\n      <td>0</td>\n      <td>18.0</td>\n      <td>0.0</td>\n      <td>0.0</td>\n      <td>1.0</td>\n      <td>...</td>\n      <td>0</td>\n      <td>0</td>\n      <td>0</td>\n      <td>0</td>\n      <td>0</td>\n      <td>0</td>\n      <td>0</td>\n      <td>0</td>\n      <td>8333.562500</td>\n      <td>1984</td>\n    </tr>\n    <tr>\n      <th>...</th>\n      <th>...</th>\n      <td>...</td>\n      <td>...</td>\n      <td>...</td>\n      <td>...</td>\n      <td>...</td>\n      <td>...</td>\n      <td>...</td>\n      <td>...</td>\n      <td>...</td>\n      <td>...</td>\n      <td>...</td>\n      <td>...</td>\n      <td>...</td>\n      <td>...</td>\n      <td>...</td>\n      <td>...</td>\n      <td>...</td>\n      <td>...</td>\n      <td>...</td>\n      <td>...</td>\n      <td>...</td>\n    </tr>\n    <tr>\n      <th rowspan=\"5\" valign=\"top\">51</th>\n      <th>2000</th>\n      <td>0.0</td>\n      <td>0.0</td>\n      <td>0.0</td>\n      <td>1.0</td>\n      <td>0.0</td>\n      <td>2</td>\n      <td>21.0</td>\n      <td>1.0</td>\n      <td>0.0</td>\n      <td>1.0</td>\n      <td>...</td>\n      <td>0</td>\n      <td>0</td>\n      <td>0</td>\n      <td>1</td>\n      <td>0</td>\n      <td>0</td>\n      <td>0</td>\n      <td>0</td>\n      <td>16373.843750</td>\n      <td>2000</td>\n    </tr>\n    <tr>\n      <th>2001</th>\n      <td>0.0</td>\n      <td>0.0</td>\n      <td>0.0</td>\n      <td>1.0</td>\n      <td>0.0</td>\n      <td>2</td>\n      <td>21.0</td>\n      <td>1.0</td>\n      <td>0.0</td>\n      <td>1.0</td>\n      <td>...</td>\n      <td>0</td>\n      <td>0</td>\n      <td>0</td>\n      <td>0</td>\n      <td>1</td>\n      <td>0</td>\n      <td>0</td>\n      <td>0</td>\n      <td>17440.082031</td>\n      <td>2001</td>\n    </tr>\n    <tr>\n      <th>2002</th>\n      <td>0.0</td>\n      <td>0.0</td>\n      <td>0.0</td>\n      <td>1.0</td>\n      <td>0.0</td>\n      <td>2</td>\n      <td>21.0</td>\n      <td>1.0</td>\n      <td>0.0</td>\n      <td>0.5</td>\n      <td>...</td>\n      <td>0</td>\n      <td>0</td>\n      <td>0</td>\n      <td>0</td>\n      <td>0</td>\n      <td>1</td>\n      <td>0</td>\n      <td>0</td>\n      <td>18093.619141</td>\n      <td>2002</td>\n    </tr>\n    <tr>\n      <th>2003</th>\n      <td>0.0</td>\n      <td>0.0</td>\n      <td>0.0</td>\n      <td>1.0</td>\n      <td>0.0</td>\n      <td>2</td>\n      <td>21.0</td>\n      <td>1.0</td>\n      <td>0.0</td>\n      <td>0.0</td>\n      <td>...</td>\n      <td>0</td>\n      <td>0</td>\n      <td>0</td>\n      <td>0</td>\n      <td>0</td>\n      <td>0</td>\n      <td>1</td>\n      <td>0</td>\n      <td>18390.080078</td>\n      <td>2003</td>\n    </tr>\n    <tr>\n      <th>2004</th>\n      <td>0.0</td>\n      <td>0.0</td>\n      <td>0.0</td>\n      <td>1.0</td>\n      <td>0.0</td>\n      <td>2</td>\n      <td>21.0</td>\n      <td>1.0</td>\n      <td>0.0</td>\n      <td>0.0</td>\n      <td>...</td>\n      <td>0</td>\n      <td>0</td>\n      <td>0</td>\n      <td>0</td>\n      <td>0</td>\n      <td>0</td>\n      <td>0</td>\n      <td>1</td>\n      <td>18276.134766</td>\n      <td>2004</td>\n    </tr>\n  </tbody>\n</table>\n<p>1200 rows × 55 columns</p>\n</div>"
     },
     "metadata": {},
     "execution_count": 252
    }
   ],
   "source": [
    "Arrumar_Painel()"
   ]
  },
  {
   "cell_type": "code",
   "execution_count": 253,
   "metadata": {},
   "outputs": [
    {
     "output_type": "execute_result",
     "data": {
      "text/plain": [
       "              sl55         sl65         sl70         sl75       slnone  \\\n",
       "count  1200.000000  1200.000000  1200.000000  1200.000000  1200.000000   \n",
       "mean      0.353280     0.439893     0.119015     0.080242     0.007569   \n",
       "std       0.469845     0.484326     0.319320     0.269108     0.086340   \n",
       "min       0.000000     0.000000     0.000000     0.000000     0.000000   \n",
       "25%       0.000000     0.000000     0.000000     0.000000     0.000000   \n",
       "50%       0.000000     0.000000     0.000000     0.000000     0.000000   \n",
       "75%       1.000000     1.000000     0.000000     0.000000     0.000000   \n",
       "max       1.000000     1.000000     1.000000     1.000000     1.000000   \n",
       "\n",
       "          seatbelt       minage      zerotol          gdl        bac10  ...  \\\n",
       "count  1200.000000  1200.000000  1200.000000  1200.000000  1200.000000  ...   \n",
       "mean      1.115833    20.597834     0.451944     0.174100     0.623055  ...   \n",
       "std       0.898938     0.926856     0.490509     0.374305     0.472199  ...   \n",
       "min       0.000000    18.000000     0.000000     0.000000     0.000000  ...   \n",
       "25%       0.000000    21.000000     0.000000     0.000000     0.000000  ...   \n",
       "50%       1.000000    21.000000     0.000000     0.000000     1.000000  ...   \n",
       "75%       2.000000    21.000000     1.000000     0.000000     1.000000  ...   \n",
       "max       2.000000    21.000000     1.000000     1.000000     1.000000  ...   \n",
       "\n",
       "               d96          d97          d98          d99          d00  \\\n",
       "count  1200.000000  1200.000000  1200.000000  1200.000000  1200.000000   \n",
       "mean      0.040000     0.040000     0.040000     0.040000     0.040000   \n",
       "std       0.196041     0.196041     0.196041     0.196041     0.196041   \n",
       "min       0.000000     0.000000     0.000000     0.000000     0.000000   \n",
       "25%       0.000000     0.000000     0.000000     0.000000     0.000000   \n",
       "50%       0.000000     0.000000     0.000000     0.000000     0.000000   \n",
       "75%       0.000000     0.000000     0.000000     0.000000     0.000000   \n",
       "max       1.000000     1.000000     1.000000     1.000000     1.000000   \n",
       "\n",
       "               d01          d02          d03          d04  vehicmilespc  \n",
       "count  1200.000000  1200.000000  1200.000000  1200.000000   1200.000000  \n",
       "mean      0.040000     0.040000     0.040000     0.040000   9129.043945  \n",
       "std       0.196041     0.196041     0.196041     0.196041   1825.897949  \n",
       "min       0.000000     0.000000     0.000000     0.000000   4372.046387  \n",
       "25%       0.000000     0.000000     0.000000     0.000000   7788.096436  \n",
       "50%       0.000000     0.000000     0.000000     0.000000   9012.670410  \n",
       "75%       0.000000     0.000000     0.000000     0.000000  10327.273193  \n",
       "max       1.000000     1.000000     1.000000     1.000000  18390.080078  \n",
       "\n",
       "[8 rows x 54 columns]"
      ],
      "text/html": "<div>\n<style scoped>\n    .dataframe tbody tr th:only-of-type {\n        vertical-align: middle;\n    }\n\n    .dataframe tbody tr th {\n        vertical-align: top;\n    }\n\n    .dataframe thead th {\n        text-align: right;\n    }\n</style>\n<table border=\"1\" class=\"dataframe\">\n  <thead>\n    <tr style=\"text-align: right;\">\n      <th></th>\n      <th>sl55</th>\n      <th>sl65</th>\n      <th>sl70</th>\n      <th>sl75</th>\n      <th>slnone</th>\n      <th>seatbelt</th>\n      <th>minage</th>\n      <th>zerotol</th>\n      <th>gdl</th>\n      <th>bac10</th>\n      <th>...</th>\n      <th>d96</th>\n      <th>d97</th>\n      <th>d98</th>\n      <th>d99</th>\n      <th>d00</th>\n      <th>d01</th>\n      <th>d02</th>\n      <th>d03</th>\n      <th>d04</th>\n      <th>vehicmilespc</th>\n    </tr>\n  </thead>\n  <tbody>\n    <tr>\n      <th>count</th>\n      <td>1200.000000</td>\n      <td>1200.000000</td>\n      <td>1200.000000</td>\n      <td>1200.000000</td>\n      <td>1200.000000</td>\n      <td>1200.000000</td>\n      <td>1200.000000</td>\n      <td>1200.000000</td>\n      <td>1200.000000</td>\n      <td>1200.000000</td>\n      <td>...</td>\n      <td>1200.000000</td>\n      <td>1200.000000</td>\n      <td>1200.000000</td>\n      <td>1200.000000</td>\n      <td>1200.000000</td>\n      <td>1200.000000</td>\n      <td>1200.000000</td>\n      <td>1200.000000</td>\n      <td>1200.000000</td>\n      <td>1200.000000</td>\n    </tr>\n    <tr>\n      <th>mean</th>\n      <td>0.353280</td>\n      <td>0.439893</td>\n      <td>0.119015</td>\n      <td>0.080242</td>\n      <td>0.007569</td>\n      <td>1.115833</td>\n      <td>20.597834</td>\n      <td>0.451944</td>\n      <td>0.174100</td>\n      <td>0.623055</td>\n      <td>...</td>\n      <td>0.040000</td>\n      <td>0.040000</td>\n      <td>0.040000</td>\n      <td>0.040000</td>\n      <td>0.040000</td>\n      <td>0.040000</td>\n      <td>0.040000</td>\n      <td>0.040000</td>\n      <td>0.040000</td>\n      <td>9129.043945</td>\n    </tr>\n    <tr>\n      <th>std</th>\n      <td>0.469845</td>\n      <td>0.484326</td>\n      <td>0.319320</td>\n      <td>0.269108</td>\n      <td>0.086340</td>\n      <td>0.898938</td>\n      <td>0.926856</td>\n      <td>0.490509</td>\n      <td>0.374305</td>\n      <td>0.472199</td>\n      <td>...</td>\n      <td>0.196041</td>\n      <td>0.196041</td>\n      <td>0.196041</td>\n      <td>0.196041</td>\n      <td>0.196041</td>\n      <td>0.196041</td>\n      <td>0.196041</td>\n      <td>0.196041</td>\n      <td>0.196041</td>\n      <td>1825.897949</td>\n    </tr>\n    <tr>\n      <th>min</th>\n      <td>0.000000</td>\n      <td>0.000000</td>\n      <td>0.000000</td>\n      <td>0.000000</td>\n      <td>0.000000</td>\n      <td>0.000000</td>\n      <td>18.000000</td>\n      <td>0.000000</td>\n      <td>0.000000</td>\n      <td>0.000000</td>\n      <td>...</td>\n      <td>0.000000</td>\n      <td>0.000000</td>\n      <td>0.000000</td>\n      <td>0.000000</td>\n      <td>0.000000</td>\n      <td>0.000000</td>\n      <td>0.000000</td>\n      <td>0.000000</td>\n      <td>0.000000</td>\n      <td>4372.046387</td>\n    </tr>\n    <tr>\n      <th>25%</th>\n      <td>0.000000</td>\n      <td>0.000000</td>\n      <td>0.000000</td>\n      <td>0.000000</td>\n      <td>0.000000</td>\n      <td>0.000000</td>\n      <td>21.000000</td>\n      <td>0.000000</td>\n      <td>0.000000</td>\n      <td>0.000000</td>\n      <td>...</td>\n      <td>0.000000</td>\n      <td>0.000000</td>\n      <td>0.000000</td>\n      <td>0.000000</td>\n      <td>0.000000</td>\n      <td>0.000000</td>\n      <td>0.000000</td>\n      <td>0.000000</td>\n      <td>0.000000</td>\n      <td>7788.096436</td>\n    </tr>\n    <tr>\n      <th>50%</th>\n      <td>0.000000</td>\n      <td>0.000000</td>\n      <td>0.000000</td>\n      <td>0.000000</td>\n      <td>0.000000</td>\n      <td>1.000000</td>\n      <td>21.000000</td>\n      <td>0.000000</td>\n      <td>0.000000</td>\n      <td>1.000000</td>\n      <td>...</td>\n      <td>0.000000</td>\n      <td>0.000000</td>\n      <td>0.000000</td>\n      <td>0.000000</td>\n      <td>0.000000</td>\n      <td>0.000000</td>\n      <td>0.000000</td>\n      <td>0.000000</td>\n      <td>0.000000</td>\n      <td>9012.670410</td>\n    </tr>\n    <tr>\n      <th>75%</th>\n      <td>1.000000</td>\n      <td>1.000000</td>\n      <td>0.000000</td>\n      <td>0.000000</td>\n      <td>0.000000</td>\n      <td>2.000000</td>\n      <td>21.000000</td>\n      <td>1.000000</td>\n      <td>0.000000</td>\n      <td>1.000000</td>\n      <td>...</td>\n      <td>0.000000</td>\n      <td>0.000000</td>\n      <td>0.000000</td>\n      <td>0.000000</td>\n      <td>0.000000</td>\n      <td>0.000000</td>\n      <td>0.000000</td>\n      <td>0.000000</td>\n      <td>0.000000</td>\n      <td>10327.273193</td>\n    </tr>\n    <tr>\n      <th>max</th>\n      <td>1.000000</td>\n      <td>1.000000</td>\n      <td>1.000000</td>\n      <td>1.000000</td>\n      <td>1.000000</td>\n      <td>2.000000</td>\n      <td>21.000000</td>\n      <td>1.000000</td>\n      <td>1.000000</td>\n      <td>1.000000</td>\n      <td>...</td>\n      <td>1.000000</td>\n      <td>1.000000</td>\n      <td>1.000000</td>\n      <td>1.000000</td>\n      <td>1.000000</td>\n      <td>1.000000</td>\n      <td>1.000000</td>\n      <td>1.000000</td>\n      <td>1.000000</td>\n      <td>18390.080078</td>\n    </tr>\n  </tbody>\n</table>\n<p>8 rows × 54 columns</p>\n</div>"
     },
     "metadata": {},
     "execution_count": 253
    }
   ],
   "source": [
    "df.describe()"
   ]
  },
  {
   "cell_type": "code",
   "execution_count": 254,
   "metadata": {},
   "outputs": [
    {
     "output_type": "execute_result",
     "data": {
      "text/plain": [
       "Index(['sl55', 'sl65', 'sl70', 'sl75', 'slnone', 'seatbelt', 'minage',\n",
       "       'zerotol', 'gdl', 'bac10', 'bac08', 'perse', 'totfat', 'nghtfat',\n",
       "       'wkndfat', 'totfatpvm', 'nghtfatpvm', 'wkndfatpvm', 'statepop',\n",
       "       'totfatrte', 'nghtfatrte', 'wkndfatrte', 'vehicmiles', 'unem',\n",
       "       'perc14_24', 'sl70plus', 'sbprim', 'sbsecon', 'd80', 'd81', 'd82',\n",
       "       'd83', 'd84', 'd85', 'd86', 'd87', 'd88', 'd89', 'd90', 'd91', 'd92',\n",
       "       'd93', 'd94', 'd95', 'd96', 'd97', 'd98', 'd99', 'd00', 'd01', 'd02',\n",
       "       'd03', 'd04', 'vehicmilespc', 'year'],\n",
       "      dtype='object')"
      ]
     },
     "metadata": {},
     "execution_count": 254
    }
   ],
   "source": [
    "df.columns"
   ]
  },
  {
   "cell_type": "code",
   "execution_count": 255,
   "metadata": {},
   "outputs": [
    {
     "output_type": "stream",
     "name": "stdout",
     "text": [
      "25.494583\n17.157919\n16.728958\n"
     ]
    }
   ],
   "source": [
    "## Gerando os datasets de cada ano\n",
    "df_80 = df.loc[df['d80'] == 1]\n",
    "df_92 = df.loc[df['d92'] == 1]\n",
    "df_04 = df.loc[df['d04'] == 1]\n",
    "\n",
    "dfs = [df_80,df_92,df_04]\n",
    "\n",
    "for i in dfs:\n",
    "    print(i['totfatrte'].mean())"
   ]
  },
  {
   "cell_type": "code",
   "execution_count": 261,
   "metadata": {},
   "outputs": [
    {
     "output_type": "execute_result",
     "data": {
      "text/plain": [
       "year\n",
       "1980    25.494583\n",
       "1981    23.670208\n",
       "1982    20.942499\n",
       "1983    20.152916\n",
       "1984    20.267500\n",
       "1985    19.851458\n",
       "1986    20.800417\n",
       "1987    20.774792\n",
       "1988    20.891666\n",
       "1989    19.772291\n",
       "1990    19.505209\n",
       "1991    18.094791\n",
       "1992    17.157917\n",
       "1993    17.127708\n",
       "1994    17.155209\n",
       "1995    17.668541\n",
       "1996    17.369375\n",
       "1997    17.610624\n",
       "1998    17.265417\n",
       "1999    17.250416\n",
       "2000    16.825624\n",
       "2001    16.792707\n",
       "2002    17.029583\n",
       "2003    16.763542\n",
       "2004    16.728958\n",
       "Name: totfatrte, dtype: float32"
      ]
     },
     "metadata": {},
     "execution_count": 261
    }
   ],
   "source": [
    "## alternativamente,\n",
    "df1 = df.reset_index(drop=True)\n",
    "df1.groupby('year')['totfatrte'].mean()"
   ]
  },
  {
   "cell_type": "code",
   "execution_count": 258,
   "metadata": {},
   "outputs": [
    {
     "output_type": "stream",
     "name": "stdout",
     "text": [
      "                          PooledOLS Estimation Summary                          \n================================================================================\nDep. Variable:              totfatrte   R-squared:                        0.1276\nEstimator:                  PooledOLS   R-squared (Between):              0.0000\nNo. Observations:                1200   R-squared (Within):               0.5114\nDate:                Tue, Mar 16 2021   R-squared (Overall):              0.1276\nTime:                        08:26:06   Log-likelihood                   -3841.7\nCov. Estimator:            Unadjusted                                           \n                                        F-statistic:                      7.1639\nEntities:                          48   P-value                           0.0000\nAvg Obs:                       25.000   Distribution:                 F(24,1175)\nMin Obs:                       25.000                                           \nMax Obs:                       25.000   F-statistic (robust):             7.1639\n                                        P-value                           0.0000\nTime periods:                      25   Distribution:                 F(24,1175)\nAvg Obs:                       48.000                                           \nMin Obs:                       48.000                                           \nMax Obs:                       48.000                                           \n                                                                                \n                             Parameter Estimates                              \n==============================================================================\n            Parameter  Std. Err.     T-stat    P-value    Lower CI    Upper CI\n------------------------------------------------------------------------------\nconst          25.495     0.8671     29.401     0.0000      23.793      27.196\nyear.1981     -1.8244     1.2263    -1.4877     0.1371     -4.2303      0.5816\nyear.1982     -4.5521     1.2263    -3.7121     0.0002     -6.9580     -2.1461\nyear.1983     -5.3417     1.2263    -4.3560     0.0000     -7.7476     -2.9357\nyear.1984     -5.2271     1.2263    -4.2625     0.0000     -7.6330     -2.8211\nyear.1985     -5.6431     1.2263    -4.6018     0.0000     -8.0491     -3.2372\nyear.1986     -4.6942     1.2263    -3.8279     0.0001     -7.1001     -2.2882\nyear.1987     -4.7198     1.2263    -3.8488     0.0001     -7.1258     -2.3138\nyear.1988     -4.6029     1.2263    -3.7535     0.0002     -7.0089     -2.1970\nyear.1989     -5.7223     1.2263    -4.6663     0.0000     -8.1283     -3.3163\nyear.1990     -5.9894     1.2263    -4.8841     0.0000     -8.3953     -3.5834\nyear.1991     -7.3998     1.2263    -6.0343     0.0000     -9.8058     -4.9938\nyear.1992     -8.3367     1.2263    -6.7983     0.0000     -10.743     -5.9307\nyear.1993     -8.3669     1.2263    -6.8229     0.0000     -10.773     -5.9609\nyear.1994     -8.3394     1.2263    -6.8005     0.0000     -10.745     -5.9334\nyear.1995     -7.8260     1.2263    -6.3819     0.0000     -10.232     -5.4201\nyear.1996     -8.1252     1.2263    -6.6258     0.0000     -10.531     -5.7192\nyear.1997     -7.8840     1.2263    -6.4291     0.0000     -10.290     -5.4780\nyear.1998     -8.2292     1.2263    -6.7106     0.0000     -10.635     -5.8232\nyear.1999     -8.2442     1.2263    -6.7228     0.0000     -10.650     -5.8382\nyear.2000     -8.6690     1.2263    -7.0692     0.0000     -11.075     -6.2630\nyear.2001     -8.7019     1.2263    -7.0961     0.0000     -11.108     -6.2959\nyear.2002     -8.4650     1.2263    -6.9029     0.0000     -10.871     -6.0590\nyear.2003     -8.7310     1.2263    -7.1199     0.0000     -11.137     -6.3251\nyear.2004     -8.7656     1.2263    -7.1481     0.0000     -11.172     -6.3597\n==============================================================================\n"
     ]
    }
   ],
   "source": [
    "## fazendo a regressao de totfatrte sobre as dummies temporais\n",
    "x = df[['year']]\n",
    "y = df['totfatrte']\n",
    "\n",
    "Reg_Painel_MQO_Agrupado(x,y)"
   ]
  },
  {
   "cell_type": "code",
   "execution_count": 269,
   "metadata": {},
   "outputs": [
    {
     "output_type": "stream",
     "name": "stdout",
     "text": [
      "                          PooledOLS Estimation Summary                          \n================================================================================\nDep. Variable:              totfatrte   R-squared:                        0.6078\nEstimator:                  PooledOLS   R-squared (Between):              0.7063\nNo. Observations:                1200   R-squared (Within):               0.3116\nDate:                Tue, Mar 16 2021   R-squared (Overall):              0.6078\nTime:                        08:48:28   Log-likelihood                   -3362.1\nCov. Estimator:                Robust                                           \n                                        F-statistic:                      53.096\nEntities:                          48   P-value                           0.0000\nAvg Obs:                       25.000   Distribution:                 F(34,1165)\nMin Obs:                       25.000                                           \nMax Obs:                       25.000   F-statistic (robust):             59.946\n                                        P-value                           0.0000\nTime periods:                      25   Distribution:                 F(34,1165)\nAvg Obs:                       48.000                                           \nMin Obs:                       48.000                                           \nMax Obs:                       48.000                                           \n                                                                                \n                              Parameter Estimates                               \n================================================================================\n              Parameter  Std. Err.     T-stat    P-value    Lower CI    Upper CI\n--------------------------------------------------------------------------------\nconst           -2.7161     2.6543    -1.0233     0.3064     -7.9239      2.4918\nyear.1981       -2.1755     1.3106    -1.6599     0.0972     -4.7470      0.3960\nyear.1982       -6.5960     1.2237    -5.3900     0.0000     -8.9969     -4.1950\nyear.1983       -7.3967     1.1352    -6.5159     0.0000     -9.6239     -5.1695\nyear.1984       -5.8504     1.1067    -5.2861     0.0000     -8.0218     -3.6790\nyear.1985       -6.4833     1.1228    -5.7744     0.0000     -8.6861     -4.2804\nyear.1986       -5.8528     1.1895    -4.9205     0.0000     -8.1865     -3.5190\nyear.1987       -6.3674     1.2160    -5.2365     0.0000     -8.7531     -3.9817\nyear.1988       -6.5916     1.2352    -5.3366     0.0000     -9.0150     -4.1682\nyear.1989       -8.0710     1.3046    -6.1865     0.0000     -10.631     -5.5113\nyear.1990       -8.9587     1.3376    -6.6974     0.0000     -11.583     -6.3342\nyear.1991       -11.069     1.3420    -8.2480     0.0000     -13.702     -8.4356\nyear.1992       -12.878     1.3742    -9.3719     0.0000     -15.574     -10.182\nyear.1993       -12.731     1.3731    -9.2717     0.0000     -15.425     -10.037\nyear.1994       -12.365     1.3766    -8.9824     0.0000     -15.066     -9.6640\nyear.1995       -11.953     1.4298    -8.3593     0.0000     -14.758     -9.1472\nyear.1996       -13.876     1.4116    -9.8303     0.0000     -16.646     -11.107\nyear.1997       -14.258     1.4493    -9.8381     0.0000     -17.102     -11.415\nyear.1998       -15.042     1.4590    -10.310     0.0000     -17.904     -12.179\nyear.1999       -15.091     1.4694    -10.270     0.0000     -17.974     -12.208\nyear.2000       -15.444     1.5155    -10.191     0.0000     -18.417     -12.471\nyear.2001       -16.184     1.5185    -10.657     0.0000     -19.163     -13.204\nyear.2002       -16.724     1.5543    -10.760     0.0000     -19.774     -13.675\nyear.2003       -17.021     1.5718    -10.829     0.0000     -20.105     -13.937\nyear.2004       -16.711     1.5997    -10.446     0.0000     -19.850     -13.573\nbac08           -2.4985     0.4883    -5.1162     0.0000     -3.4566     -1.5403\nbac10           -1.4176     0.4028    -3.5196     0.0004     -2.2078     -0.6273\nperse           -0.6201     0.2710    -2.2882     0.0223     -1.1518     -0.0884\nsbprim          -0.0753     0.4559    -0.1652     0.8688     -0.9698      0.8192\nsbsecon          0.0673     0.4093     0.1644     0.8695     -0.7357      0.8703\nsl70plus         3.3479     0.3976     8.4202     0.0000      2.5678      4.1280\ngdl             -0.4269     0.4818    -0.8861     0.3757     -1.3722      0.5184\nperc14_24        0.1416     0.1211     1.1691     0.2426     -0.0960      0.3792\nunem             0.7571     0.0845     8.9622     0.0000      0.5913      0.9228\nvehicmilespc     0.0029     0.0001     23.814     0.0000      0.0027      0.0032\n================================================================================\n"
     ]
    }
   ],
   "source": [
    "## Adicionando outros controles\n",
    "x = df[['year','bac08','bac10','perse','sbprim','sbsecon','sl70plus','gdl','perc14_24','unem','vehicmilespc']]\n",
    "y = df['totfatrte']\n",
    "\n",
    "Reg_Painel_MQO_Agrupado(x,y,cov='robusta')"
   ]
  },
  {
   "cell_type": "code",
   "execution_count": 262,
   "metadata": {},
   "outputs": [],
   "source": [
    "def Reg_Painel_Efeitos_Fixos(x, y, constante = \"S\", cov='normal'):\n",
    "    '''\n",
    "    Função que calcula uma regressão de efeitos fixos, sendo, por default, computada com um intercepto e com erros padrões não robustos.\n",
    "    **IMPORTANTE: para o painel estar arrumado, os dados devem estar multi-indexados por indíviduo e por tempo, nesta ordem.\n",
    "    Caso contrário, transformar o dataframe usando a função 'Arrumar Painel'\n",
    "    x: lista ou array com os valores das variáveis independentes;\n",
    "    y: lista ou array com os valores da variável dependente;\n",
    "    constante: \"S\" para regressão com intercepto e qualquer outro valor para sem intercepto. Caso em branco, a regressão é computada com intercepto;\n",
    "    cov: \"normal\" para regressão com erros-padrão tradicionais (caso padrão);\n",
    "        \"robust\" para erros-padrões robustos.\n",
    "        \"cluster\" ou \"clustered\" para erros-padrões clusterizados\n",
    "    '''\n",
    "    global df, Resultado\n",
    "    \n",
    "    # formando o vetor de variáveis independentes\n",
    "    if constante == \"S\":\n",
    "        X = sm.add_constant(x)\n",
    "    else:\n",
    "        X = x\n",
    "    \n",
    "    #Criando o Modelo levando em conta a opção dos erros padrão\n",
    "    Modelo = PanelOLS(y,X, entity_effects=True, drop_absorbed=True)\n",
    "\n",
    "    if cov == \"robust\":\n",
    "        Resultado = Modelo.fit(cov_type = 'robust')\n",
    "    elif cov == 'clustered' or cov == 'cluster':\n",
    "        Resultado = Modelo.fit(cov_type = 'clustered', cluster_entity = True)\n",
    "    else:\n",
    "        Resultado = Modelo.fit()\n",
    "\n",
    "    print(Resultado)"
   ]
  },
  {
   "cell_type": "code",
   "execution_count": 271,
   "metadata": {},
   "outputs": [
    {
     "output_type": "stream",
     "name": "stdout",
     "text": [
      "                          PanelOLS Estimation Summary                           \n================================================================================\nDep. Variable:              totfatrte   R-squared:                        0.6262\nEstimator:                   PanelOLS   R-squared (Between):              0.1866\nNo. Observations:                1200   R-squared (Within):               0.6262\nDate:                Tue, Mar 16 2021   R-squared (Overall):              0.2963\nTime:                        09:17:44   Log-likelihood                   -2500.5\nCov. Estimator:            Unadjusted                                           \n                                        F-statistic:                      55.094\nEntities:                          48   P-value                           0.0000\nAvg Obs:                       25.000   Distribution:                 F(34,1118)\nMin Obs:                       25.000                                           \nMax Obs:                       25.000   F-statistic (robust):             55.094\n                                        P-value                           0.0000\nTime periods:                      25   Distribution:                 F(34,1118)\nAvg Obs:                       48.000                                           \nMin Obs:                       48.000                                           \nMax Obs:                       48.000                                           \n                                                                                \n                              Parameter Estimates                               \n================================================================================\n              Parameter  Std. Err.     T-stat    P-value    Lower CI    Upper CI\n--------------------------------------------------------------------------------\nconst            19.523     2.0213     9.6587     0.0000      15.557      23.489\nbac08           -1.4372     0.3942    -3.6458     0.0003     -2.2107     -0.6637\nbac10           -1.0627     0.2688    -3.9528     0.0001     -1.5902     -0.5352\nperse           -1.1516     0.2340    -4.9217     0.0000     -1.6107     -0.6925\nsbprim          -1.2274     0.3427    -3.5814     0.0004     -1.8998     -0.5550\nsbsecon         -0.3497     0.2522    -1.3868     0.1658     -0.8445      0.1451\nsl70plus        -0.0625     0.2693    -0.2322     0.8164     -0.5909      0.4659\ngdl             -0.4118     0.2926    -1.4074     0.1596     -0.9858      0.1623\nperc14_24        0.1871     0.0951     1.9676     0.0494      0.0005      0.3737\nunem            -0.5718     0.0606    -9.4397     0.0000     -0.6907     -0.4530\nvehicmilespc     0.0009     0.0001     8.4656     0.0000      0.0007      0.0012\nd81             -1.5111     0.4132    -3.6569     0.0003     -2.3218     -0.7003\nd82             -3.0255     0.4424    -6.8383     0.0000     -3.8936     -2.1574\nd83             -3.5036     0.4566    -7.6736     0.0000     -4.3994     -2.6078\nd84             -4.2594     0.4649    -9.1610     0.0000     -5.1716     -3.3471\nd85             -4.7268     0.4855    -9.7365     0.0000     -5.6793     -3.7743\nd86             -3.6612     0.5177    -7.0721     0.0000     -4.6770     -2.6454\nd87             -4.3058     0.5553    -7.7536     0.0000     -5.3954     -3.2162\nd88             -4.7671     0.6016    -7.9246     0.0000     -5.9474     -3.5868\nd89             -6.1300     0.6402    -9.5752     0.0000     -7.3861     -4.8739\nd90             -6.2297     0.6649    -9.3701     0.0000     -7.5342     -4.9252\nd91             -6.9171     0.6820    -10.143     0.0000     -8.2552     -5.5791\nd92             -7.7742     0.7029    -11.060     0.0000     -9.1533     -6.3950\nd93             -8.0941     0.7159    -11.305     0.0000     -9.4989     -6.6894\nd94             -8.5042     0.7341    -11.584     0.0000     -9.9446     -7.0638\nd95             -8.2554     0.7562    -10.916     0.0000     -9.7392     -6.7716\nd96             -8.6066     0.7959    -10.813     0.0000     -10.168     -7.0449\nd97             -8.7078     0.8198    -10.622     0.0000     -10.316     -7.0994\nd98             -9.3492     0.8337    -11.214     0.0000     -10.985     -7.7134\nd99             -9.4749     0.8440    -11.226     0.0000     -11.131     -7.8189\nd00             -9.9919     0.8561    -11.672     0.0000     -11.672     -8.3122\nd01             -9.6312     0.8726    -11.038     0.0000     -11.343     -7.9192\nd02             -8.9067     0.8821    -10.098     0.0000     -10.637     -7.1761\nd03             -8.9365     0.8899    -10.042     0.0000     -10.683     -7.1903\nd04             -9.3394     0.9111    -10.251     0.0000     -11.127     -7.5518\n================================================================================\n\nF-test for Poolability: 76.217\nP-value: 0.0000\nDistribution: F(47,1118)\n\nIncluded effects: Entity\n"
     ]
    }
   ],
   "source": [
    "## Regredindo por efeitos fixos\n",
    "x = df[['bac08','bac10','perse','sbprim','sbsecon','sl70plus','gdl','perc14_24','unem','vehicmilespc','d81','d82', 'd83', 'd84', 'd85', 'd86', 'd87', 'd88', 'd89', 'd90', 'd91','d92', 'd93', 'd94', 'd95', 'd96', 'd97', 'd98', 'd99', 'd00', 'd01','d02', 'd03', 'd04']]\n",
    "y = df['totfatrte']\n",
    "Reg_Painel_Efeitos_Fixos(x,y)\n",
    "normal = Resultado"
   ]
  },
  {
   "cell_type": "code",
   "execution_count": 275,
   "metadata": {},
   "outputs": [
    {
     "output_type": "stream",
     "name": "stdout",
     "text": [
      "                          PanelOLS Estimation Summary                           \n================================================================================\nDep. Variable:              totfatrte   R-squared:                        0.6262\nEstimator:                   PanelOLS   R-squared (Between):              0.1866\nNo. Observations:                1200   R-squared (Within):               0.6262\nDate:                Tue, Mar 16 2021   R-squared (Overall):              0.2963\nTime:                        09:19:53   Log-likelihood                   -2500.5\nCov. Estimator:             Clustered                                           \n                                        F-statistic:                      55.094\nEntities:                          48   P-value                           0.0000\nAvg Obs:                       25.000   Distribution:                 F(34,1118)\nMin Obs:                       25.000                                           \nMax Obs:                       25.000   F-statistic (robust):             76.949\n                                        P-value                           0.0000\nTime periods:                      25   Distribution:                 F(34,1118)\nAvg Obs:                       48.000                                           \nMin Obs:                       48.000                                           \nMax Obs:                       48.000                                           \n                                                                                \n                              Parameter Estimates                               \n================================================================================\n              Parameter  Std. Err.     T-stat    P-value    Lower CI    Upper CI\n--------------------------------------------------------------------------------\nconst            19.523     4.1996     4.6489     0.0000      11.283      27.763\nbac08           -1.4372     0.8146    -1.7642     0.0780     -3.0356      0.1612\nbac10           -1.0627     0.4867    -2.1834     0.0292     -2.0176     -0.1077\nperse           -1.1516     0.4396    -2.6199     0.0089     -2.0141     -0.2892\nsbprim          -1.2274     0.5531    -2.2190     0.0267     -2.3127     -0.1421\nsbsecon         -0.3497     0.3672    -0.9523     0.3411     -1.0702      0.3708\nsl70plus        -0.0625     0.5610    -0.1115     0.9113     -1.1633      1.0383\ngdl             -0.4118     0.3794    -1.0852     0.2781     -1.1563      0.3327\nperc14_24        0.1871     0.1722     1.0867     0.2774     -0.1507      0.5250\nunem            -0.5718     0.1192    -4.7974     0.0000     -0.8057     -0.3380\nvehicmilespc     0.0009     0.0003     2.7357     0.0063      0.0003      0.0016\nd81             -1.5111     0.4428    -3.4126     0.0007     -2.3799     -0.6423\nd82             -3.0255     0.4939    -6.1261     0.0000     -3.9945     -2.0565\nd83             -3.5036     0.5148    -6.8059     0.0000     -4.5137     -2.4935\nd84             -4.2594     0.4451    -9.5685     0.0000     -5.1328     -3.3860\nd85             -4.7268     0.4642    -10.183     0.0000     -5.6376     -3.8160\nd86             -3.6612     0.5929    -6.1753     0.0000     -4.8245     -2.4979\nd87             -4.3058     0.6803    -6.3295     0.0000     -5.6405     -2.9710\nd88             -4.7671     0.7632    -6.2463     0.0000     -6.2646     -3.2697\nd89             -6.1300     0.8699    -7.0471     0.0000     -7.8367     -4.4232\nd90             -6.2297     0.9186    -6.7815     0.0000     -8.0322     -4.4273\nd91             -6.9171     0.9882    -6.9999     0.0000     -8.8560     -4.9783\nd92             -7.7742     1.0779    -7.2126     0.0000     -9.8890     -5.6593\nd93             -8.0941     1.1062    -7.3170     0.0000     -10.265     -5.9236\nd94             -8.5042     1.0889    -7.8099     0.0000     -10.641     -6.3677\nd95             -8.2554     1.1769    -7.0146     0.0000     -10.565     -5.9463\nd96             -8.6066     1.1653    -7.3857     0.0000     -10.893     -6.3202\nd97             -8.7078     1.2161    -7.1602     0.0000     -11.094     -6.3217\nd98             -9.3492     1.2305    -7.5980     0.0000     -11.764     -6.9349\nd99             -9.4749     1.3558    -6.9883     0.0000     -12.135     -6.8147\nd00             -9.9919     1.3352    -7.4836     0.0000     -12.612     -7.3722\nd01             -9.6312     1.4572    -6.6093     0.0000     -12.490     -6.7720\nd02             -8.9067     1.4676    -6.0690     0.0000     -11.786     -6.0272\nd03             -8.9365     1.5104    -5.9168     0.0000     -11.900     -5.9730\nd04             -9.3394     1.6488    -5.6642     0.0000     -12.575     -6.1042\n================================================================================\n\nF-test for Poolability: 76.217\nP-value: 0.0000\nDistribution: F(47,1118)\n\nIncluded effects: Entity\n"
     ]
    }
   ],
   "source": [
    "## Fazendo estimativas clusterizadas\n",
    "Reg_Painel_Efeitos_Fixos(x,y,cov='cluster')\n",
    "clustered = Resultado"
   ]
  },
  {
   "cell_type": "code",
   "execution_count": 273,
   "metadata": {},
   "outputs": [
    {
     "output_type": "stream",
     "name": "stdout",
     "text": [
      "                  Model Comparison                  \n====================================================\n                                Normal       Cluster\n----------------------------------------------------\nDep. Variable                totfatrte     totfatrte\nEstimator                     PanelOLS      PanelOLS\nNo. Observations                  1200          1200\nCov. Est.                   Unadjusted     Clustered\nR-squared                       0.6262        0.6262\nR-Squared (Within)              0.6262        0.6262\nR-Squared (Between)             0.1866        0.1866\nR-Squared (Overall)             0.2963        0.2963\nF-statistic                     55.094        55.094\nP-value (F-stat)                0.0000        0.0000\n=====================     ============   ===========\nconst                           19.523        19.523\n                              (9.6587)      (4.6489)\nbac08                          -1.4372       -1.4372\n                             (-3.6458)     (-1.7642)\nbac10                          -1.0627       -1.0627\n                             (-3.9528)     (-2.1834)\nperse                          -1.1516       -1.1516\n                             (-4.9217)     (-2.6199)\nsbprim                         -1.2274       -1.2274\n                             (-3.5814)     (-2.2190)\nsbsecon                        -0.3497       -0.3497\n                             (-1.3868)     (-0.9523)\nsl70plus                       -0.0625       -0.0625\n                             (-0.2322)     (-0.1115)\ngdl                            -0.4118       -0.4118\n                             (-1.4074)     (-1.0852)\nperc14_24                       0.1871        0.1871\n                              (1.9676)      (1.0867)\nunem                           -0.5718       -0.5718\n                             (-9.4397)     (-4.7974)\nvehicmilespc                    0.0009        0.0009\n                              (8.4656)      (2.7357)\nd81                            -1.5111       -1.5111\n                             (-3.6569)     (-3.4126)\nd82                            -3.0255       -3.0255\n                             (-6.8383)     (-6.1261)\nd83                            -3.5036       -3.5036\n                             (-7.6736)     (-6.8059)\nd84                            -4.2594       -4.2594\n                             (-9.1610)     (-9.5685)\nd85                            -4.7268       -4.7268\n                             (-9.7365)     (-10.183)\nd86                            -3.6612       -3.6612\n                             (-7.0721)     (-6.1753)\nd87                            -4.3058       -4.3058\n                             (-7.7536)     (-6.3295)\nd88                            -4.7671       -4.7671\n                             (-7.9246)     (-6.2463)\nd89                            -6.1300       -6.1300\n                             (-9.5752)     (-7.0471)\nd90                            -6.2297       -6.2297\n                             (-9.3701)     (-6.7815)\nd91                            -6.9171       -6.9171\n                             (-10.143)     (-6.9999)\nd92                            -7.7742       -7.7742\n                             (-11.060)     (-7.2126)\nd93                            -8.0941       -8.0941\n                             (-11.305)     (-7.3170)\nd94                            -8.5042       -8.5042\n                             (-11.584)     (-7.8099)\nd95                            -8.2554       -8.2554\n                             (-10.916)     (-7.0146)\nd96                            -8.6066       -8.6066\n                             (-10.813)     (-7.3857)\nd97                            -8.7078       -8.7078\n                             (-10.622)     (-7.1602)\nd98                            -9.3492       -9.3492\n                             (-11.214)     (-7.5980)\nd99                            -9.4749       -9.4749\n                             (-11.226)     (-6.9883)\nd00                            -9.9919       -9.9919\n                             (-11.672)     (-7.4836)\nd01                            -9.6312       -9.6312\n                             (-11.038)     (-6.6093)\nd02                            -8.9067       -8.9067\n                             (-10.098)     (-6.0690)\nd03                            -8.9365       -8.9365\n                             (-10.042)     (-5.9168)\nd04                            -9.3394       -9.3394\n                             (-10.251)     (-5.6642)\n======================= ============== =============\nEffects                         Entity        Entity\n----------------------------------------------------\n\nT-stats reported in parentheses\n"
     ]
    }
   ],
   "source": [
    "## comparando os modelos\n",
    "print(compare({'Normal':normal,'Cluster':clustered}))"
   ]
  },
  {
   "cell_type": "code",
   "execution_count": 270,
   "metadata": {},
   "outputs": [
    {
     "output_type": "stream",
     "name": "stdout",
     "text": [
      "                          PanelOLS Estimation Summary                           \n================================================================================\nDep. Variable:              totfatrte   R-squared:                        0.6262\nEstimator:                   PanelOLS   R-squared (Between):              0.1866\nNo. Observations:                1200   R-squared (Within):               0.6262\nDate:                Tue, Mar 16 2021   R-squared (Overall):              0.2963\nTime:                        09:13:50   Log-likelihood                   -2500.5\nCov. Estimator:            Unadjusted                                           \n                                        F-statistic:                      55.094\nEntities:                          48   P-value                           0.0000\nAvg Obs:                       25.000   Distribution:                 F(34,1118)\nMin Obs:                       25.000                                           \nMax Obs:                       25.000   F-statistic (robust):             55.094\n                                        P-value                           0.0000\nTime periods:                      25   Distribution:                 F(34,1118)\nAvg Obs:                       48.000                                           \nMin Obs:                       48.000                                           \nMax Obs:                       48.000                                           \n                                                                                \n                              Parameter Estimates                               \n================================================================================\n              Parameter  Std. Err.     T-stat    P-value    Lower CI    Upper CI\n--------------------------------------------------------------------------------\nconst            19.523     2.0213     9.6587     0.0000      15.557      23.489\nbac08           -1.4372     0.3942    -3.6458     0.0003     -2.2107     -0.6637\nbac10           -1.0627     0.2688    -3.9528     0.0001     -1.5902     -0.5352\nperse           -1.1516     0.2340    -4.9217     0.0000     -1.6107     -0.6925\nsbprim          -1.2274     0.3427    -3.5814     0.0004     -1.8998     -0.5550\nsbsecon         -0.3497     0.2522    -1.3868     0.1658     -0.8445      0.1451\nsl70plus        -0.0625     0.2693    -0.2322     0.8164     -0.5909      0.4659\ngdl             -0.4118     0.2926    -1.4074     0.1596     -0.9858      0.1623\nperc14_24        0.1871     0.0951     1.9676     0.0494      0.0005      0.3737\nunem            -0.5718     0.0606    -9.4396     0.0000     -0.6907     -0.4530\nmilespc_1000  9.401e-07   1.11e-07     8.4656     0.0000   7.222e-07   1.158e-06\nd81             -1.5111     0.4132    -3.6569     0.0003     -2.3218     -0.7003\nd82             -3.0255     0.4424    -6.8383     0.0000     -3.8936     -2.1574\nd83             -3.5036     0.4566    -7.6736     0.0000     -4.3994     -2.6078\nd84             -4.2594     0.4649    -9.1610     0.0000     -5.1716     -3.3471\nd85             -4.7268     0.4855    -9.7365     0.0000     -5.6793     -3.7743\nd86             -3.6612     0.5177    -7.0721     0.0000     -4.6770     -2.6454\nd87             -4.3058     0.5553    -7.7536     0.0000     -5.3954     -3.2162\nd88             -4.7671     0.6016    -7.9246     0.0000     -5.9474     -3.5868\nd89             -6.1300     0.6402    -9.5752     0.0000     -7.3861     -4.8739\nd90             -6.2297     0.6649    -9.3701     0.0000     -7.5342     -4.9252\nd91             -6.9171     0.6820    -10.143     0.0000     -8.2552     -5.5791\nd92             -7.7742     0.7029    -11.060     0.0000     -9.1533     -6.3950\nd93             -8.0941     0.7159    -11.305     0.0000     -9.4989     -6.6894\nd94             -8.5042     0.7341    -11.584     0.0000     -9.9446     -7.0638\nd95             -8.2554     0.7562    -10.916     0.0000     -9.7392     -6.7716\nd96             -8.6066     0.7959    -10.813     0.0000     -10.168     -7.0449\nd97             -8.7078     0.8198    -10.622     0.0000     -10.316     -7.0994\nd98             -9.3492     0.8337    -11.214     0.0000     -10.985     -7.7134\nd99             -9.4749     0.8440    -11.226     0.0000     -11.131     -7.8189\nd00             -9.9919     0.8561    -11.672     0.0000     -11.672     -8.3122\nd01             -9.6312     0.8726    -11.038     0.0000     -11.343     -7.9192\nd02             -8.9067     0.8821    -10.098     0.0000     -10.637     -7.1761\nd03             -8.9365     0.8899    -10.042     0.0000     -10.683     -7.1903\nd04             -9.3394     0.9111    -10.251     0.0000     -11.127     -7.5518\n================================================================================\n\nF-test for Poolability: 76.217\nP-value: 0.0000\nDistribution: F(47,1118)\n\nIncluded effects: Entity\n"
     ]
    }
   ],
   "source": [
    "df['milespc_1000'] = df['vehicmilespc']*1000\n",
    "\n",
    "## Regredindo por efeitos fixos\n",
    "x = df[['bac08','bac10','perse','sbprim','sbsecon','sl70plus','gdl','perc14_24','unem','milespc_1000','d81','d82', 'd83', 'd84', 'd85', 'd86', 'd87', 'd88', 'd89', 'd90', 'd91','d92', 'd93', 'd94', 'd95', 'd96', 'd97', 'd98', 'd99', 'd00', 'd01','d02', 'd03', 'd04']]\n",
    "y = df['totfatrte']\n",
    "Reg_Painel_Efeitos_Fixos(x,y)"
   ]
  },
  {
   "source": [
    "## Exercício C14"
   ],
   "cell_type": "markdown",
   "metadata": {}
  },
  {
   "cell_type": "code",
   "execution_count": 2,
   "metadata": {},
   "outputs": [
    {
     "output_type": "stream",
     "name": "stdout",
     "text": [
      "airfare.dta foi lido com sucesso!\n"
     ]
    },
    {
     "output_type": "execute_result",
     "data": {
      "text/plain": [
       "      year    id  dist  passen  fare  bmktshr     ldist  y98  y99  y00  \\\n",
       "0     1997     1   528     152   106   0.8386  6.269096    0    0    0   \n",
       "1     1998     1   528     265   106   0.8133  6.269096    1    0    0   \n",
       "2     1999     1   528     336   113   0.8262  6.269096    0    1    0   \n",
       "3     2000     1   528     298   123   0.8612  6.269096    0    0    1   \n",
       "4     1997     2   861     282   104   0.5798  6.758094    0    0    0   \n",
       "...    ...   ...   ...     ...   ...      ...       ...  ...  ...  ...   \n",
       "4591  2000  1148  1948     198   311   0.4272  7.574558    0    0    1   \n",
       "4592  1997  1149   857     493   147   0.7089  6.753438    0    0    0   \n",
       "4593  1998  1149   857     523   142   0.7797  6.753438    1    0    0   \n",
       "4594  1999  1149   857     441   146   0.7465  6.753438    0    1    0   \n",
       "4595  2000  1149   857     556   145   0.8122  6.753438    0    0    1   \n",
       "\n",
       "         lfare    ldistsq  concen   lpassen  \n",
       "0     4.663439  39.301571  0.8386  5.023880  \n",
       "1     4.663439  39.301571  0.8133  5.579730  \n",
       "2     4.727388  39.301571  0.8262  5.817111  \n",
       "3     4.812184  39.301571  0.8612  5.697093  \n",
       "4     4.644391  45.671837  0.5798  5.641907  \n",
       "...        ...        ...     ...       ...  \n",
       "4591  5.739793  57.373932  0.4272  5.288267  \n",
       "4592  4.990433  45.608925  0.7089  6.200509  \n",
       "4593  4.955827  45.608925  0.7797  6.259582  \n",
       "4594  4.983607  45.608925  0.7465  6.089045  \n",
       "4595  4.976734  45.608925  0.8122  6.320768  \n",
       "\n",
       "[4596 rows x 14 columns]"
      ],
      "text/html": "<div>\n<style scoped>\n    .dataframe tbody tr th:only-of-type {\n        vertical-align: middle;\n    }\n\n    .dataframe tbody tr th {\n        vertical-align: top;\n    }\n\n    .dataframe thead th {\n        text-align: right;\n    }\n</style>\n<table border=\"1\" class=\"dataframe\">\n  <thead>\n    <tr style=\"text-align: right;\">\n      <th></th>\n      <th>year</th>\n      <th>id</th>\n      <th>dist</th>\n      <th>passen</th>\n      <th>fare</th>\n      <th>bmktshr</th>\n      <th>ldist</th>\n      <th>y98</th>\n      <th>y99</th>\n      <th>y00</th>\n      <th>lfare</th>\n      <th>ldistsq</th>\n      <th>concen</th>\n      <th>lpassen</th>\n    </tr>\n  </thead>\n  <tbody>\n    <tr>\n      <th>0</th>\n      <td>1997</td>\n      <td>1</td>\n      <td>528</td>\n      <td>152</td>\n      <td>106</td>\n      <td>0.8386</td>\n      <td>6.269096</td>\n      <td>0</td>\n      <td>0</td>\n      <td>0</td>\n      <td>4.663439</td>\n      <td>39.301571</td>\n      <td>0.8386</td>\n      <td>5.023880</td>\n    </tr>\n    <tr>\n      <th>1</th>\n      <td>1998</td>\n      <td>1</td>\n      <td>528</td>\n      <td>265</td>\n      <td>106</td>\n      <td>0.8133</td>\n      <td>6.269096</td>\n      <td>1</td>\n      <td>0</td>\n      <td>0</td>\n      <td>4.663439</td>\n      <td>39.301571</td>\n      <td>0.8133</td>\n      <td>5.579730</td>\n    </tr>\n    <tr>\n      <th>2</th>\n      <td>1999</td>\n      <td>1</td>\n      <td>528</td>\n      <td>336</td>\n      <td>113</td>\n      <td>0.8262</td>\n      <td>6.269096</td>\n      <td>0</td>\n      <td>1</td>\n      <td>0</td>\n      <td>4.727388</td>\n      <td>39.301571</td>\n      <td>0.8262</td>\n      <td>5.817111</td>\n    </tr>\n    <tr>\n      <th>3</th>\n      <td>2000</td>\n      <td>1</td>\n      <td>528</td>\n      <td>298</td>\n      <td>123</td>\n      <td>0.8612</td>\n      <td>6.269096</td>\n      <td>0</td>\n      <td>0</td>\n      <td>1</td>\n      <td>4.812184</td>\n      <td>39.301571</td>\n      <td>0.8612</td>\n      <td>5.697093</td>\n    </tr>\n    <tr>\n      <th>4</th>\n      <td>1997</td>\n      <td>2</td>\n      <td>861</td>\n      <td>282</td>\n      <td>104</td>\n      <td>0.5798</td>\n      <td>6.758094</td>\n      <td>0</td>\n      <td>0</td>\n      <td>0</td>\n      <td>4.644391</td>\n      <td>45.671837</td>\n      <td>0.5798</td>\n      <td>5.641907</td>\n    </tr>\n    <tr>\n      <th>...</th>\n      <td>...</td>\n      <td>...</td>\n      <td>...</td>\n      <td>...</td>\n      <td>...</td>\n      <td>...</td>\n      <td>...</td>\n      <td>...</td>\n      <td>...</td>\n      <td>...</td>\n      <td>...</td>\n      <td>...</td>\n      <td>...</td>\n      <td>...</td>\n    </tr>\n    <tr>\n      <th>4591</th>\n      <td>2000</td>\n      <td>1148</td>\n      <td>1948</td>\n      <td>198</td>\n      <td>311</td>\n      <td>0.4272</td>\n      <td>7.574558</td>\n      <td>0</td>\n      <td>0</td>\n      <td>1</td>\n      <td>5.739793</td>\n      <td>57.373932</td>\n      <td>0.4272</td>\n      <td>5.288267</td>\n    </tr>\n    <tr>\n      <th>4592</th>\n      <td>1997</td>\n      <td>1149</td>\n      <td>857</td>\n      <td>493</td>\n      <td>147</td>\n      <td>0.7089</td>\n      <td>6.753438</td>\n      <td>0</td>\n      <td>0</td>\n      <td>0</td>\n      <td>4.990433</td>\n      <td>45.608925</td>\n      <td>0.7089</td>\n      <td>6.200509</td>\n    </tr>\n    <tr>\n      <th>4593</th>\n      <td>1998</td>\n      <td>1149</td>\n      <td>857</td>\n      <td>523</td>\n      <td>142</td>\n      <td>0.7797</td>\n      <td>6.753438</td>\n      <td>1</td>\n      <td>0</td>\n      <td>0</td>\n      <td>4.955827</td>\n      <td>45.608925</td>\n      <td>0.7797</td>\n      <td>6.259582</td>\n    </tr>\n    <tr>\n      <th>4594</th>\n      <td>1999</td>\n      <td>1149</td>\n      <td>857</td>\n      <td>441</td>\n      <td>146</td>\n      <td>0.7465</td>\n      <td>6.753438</td>\n      <td>0</td>\n      <td>1</td>\n      <td>0</td>\n      <td>4.983607</td>\n      <td>45.608925</td>\n      <td>0.7465</td>\n      <td>6.089045</td>\n    </tr>\n    <tr>\n      <th>4595</th>\n      <td>2000</td>\n      <td>1149</td>\n      <td>857</td>\n      <td>556</td>\n      <td>145</td>\n      <td>0.8122</td>\n      <td>6.753438</td>\n      <td>0</td>\n      <td>0</td>\n      <td>1</td>\n      <td>4.976734</td>\n      <td>45.608925</td>\n      <td>0.8122</td>\n      <td>6.320768</td>\n    </tr>\n  </tbody>\n</table>\n<p>4596 rows × 14 columns</p>\n</div>"
     },
     "metadata": {},
     "execution_count": 2
    }
   ],
   "source": [
    "coletar_dados('airfare')"
   ]
  },
  {
   "cell_type": "code",
   "execution_count": 3,
   "metadata": {},
   "outputs": [
    {
     "output_type": "stream",
     "name": "stdout",
     "text": [
      "Média de 1997: 0.6125431060791016\nMédia de 1998: 0.6214752793312073\nMédia de 1999: 0.6048691868782043\nMédia de 2000: 0.6015720963478088\n"
     ]
    }
   ],
   "source": [
    "## A média de cada ano é \n",
    "anos = [1997,1998,1999,2000]\n",
    "for ano in anos:\n",
    "    print(f\"Média de {ano}: {df['concen'].loc[df['year'] == ano].mean()}\")"
   ]
  },
  {
   "cell_type": "code",
   "execution_count": 4,
   "metadata": {},
   "outputs": [
    {
     "output_type": "stream",
     "name": "stdout",
     "text": [
      "O maior média é 0.9997000098228455 (768) e a menor média é 0.18619999289512634 (174).\n"
     ]
    }
   ],
   "source": [
    "## A média de id\n",
    "media_ids = []\n",
    "for id_ in range(1,1150):\n",
    "    media_ids.append(df['concen'].loc[df['id'] == id_].mean())\n",
    "\n",
    "print(f\"O maior média é {max(media_ids)} ({media_ids.index(max(media_ids)) + 1}) e a menor média é {min(media_ids)} ({media_ids.index(min(media_ids)) + 1}).\")"
   ]
  },
  {
   "cell_type": "code",
   "execution_count": 5,
   "metadata": {},
   "outputs": [
    {
     "output_type": "stream",
     "name": "stdout",
     "text": [
      "O maior média é 0.9997000098228455 e a menor média é 0.18619999289512634.\n"
     ]
    }
   ],
   "source": [
    "## alternativamente,\n",
    "medias = df.groupby('id')['concen'].mean()\n",
    "print(f\"O maior média é {max(medias)} e a menor média é {min(medias)}.\")"
   ]
  },
  {
   "cell_type": "code",
   "execution_count": 6,
   "metadata": {},
   "outputs": [],
   "source": [
    "## criando a coluna com essas observacoes\n",
    "concenbar = []\n",
    "for i in media_ids:\n",
    "    for j in range (0,4):\n",
    "        concenbar.append(i)\n",
    "df['concenbar'] = concenbar"
   ]
  },
  {
   "cell_type": "code",
   "execution_count": 7,
   "metadata": {},
   "outputs": [
    {
     "output_type": "execute_result",
     "data": {
      "text/plain": [
       "           dist  passen  fare  bmktshr     ldist  y98  y99  y00     lfare  \\\n",
       "id   year                                                                   \n",
       "1    1997   528     152   106   0.8386  6.269096    0    0    0  4.663439   \n",
       "     1998   528     265   106   0.8133  6.269096    1    0    0  4.663439   \n",
       "     1999   528     336   113   0.8262  6.269096    0    1    0  4.727388   \n",
       "     2000   528     298   123   0.8612  6.269096    0    0    1  4.812184   \n",
       "2    1997   861     282   104   0.5798  6.758094    0    0    0  4.644391   \n",
       "...         ...     ...   ...      ...       ...  ...  ...  ...       ...   \n",
       "1148 2000  1948     198   311   0.4272  7.574558    0    0    1  5.739793   \n",
       "1149 1997   857     493   147   0.7089  6.753438    0    0    0  4.990433   \n",
       "     1998   857     523   142   0.7797  6.753438    1    0    0  4.955827   \n",
       "     1999   857     441   146   0.7465  6.753438    0    1    0  4.983607   \n",
       "     2000   857     556   145   0.8122  6.753438    0    0    1  4.976734   \n",
       "\n",
       "             ldistsq  concen   lpassen  concenbar  year  \n",
       "id   year                                                \n",
       "1    1997  39.301571  0.8386  5.023880   0.834825  1997  \n",
       "     1998  39.301571  0.8133  5.579730   0.834825  1998  \n",
       "     1999  39.301571  0.8262  5.817111   0.834825  1999  \n",
       "     2000  39.301571  0.8612  5.697093   0.834825  2000  \n",
       "2    1997  45.671837  0.5798  5.641907   0.608000  1997  \n",
       "...              ...     ...       ...        ...   ...  \n",
       "1148 2000  57.373932  0.4272  5.288267   0.484000  2000  \n",
       "1149 1997  45.608925  0.7089  6.200509   0.761825  1997  \n",
       "     1998  45.608925  0.7797  6.259582   0.761825  1998  \n",
       "     1999  45.608925  0.7465  6.089045   0.761825  1999  \n",
       "     2000  45.608925  0.8122  6.320768   0.761825  2000  \n",
       "\n",
       "[4596 rows x 14 columns]"
      ],
      "text/html": "<div>\n<style scoped>\n    .dataframe tbody tr th:only-of-type {\n        vertical-align: middle;\n    }\n\n    .dataframe tbody tr th {\n        vertical-align: top;\n    }\n\n    .dataframe thead th {\n        text-align: right;\n    }\n</style>\n<table border=\"1\" class=\"dataframe\">\n  <thead>\n    <tr style=\"text-align: right;\">\n      <th></th>\n      <th></th>\n      <th>dist</th>\n      <th>passen</th>\n      <th>fare</th>\n      <th>bmktshr</th>\n      <th>ldist</th>\n      <th>y98</th>\n      <th>y99</th>\n      <th>y00</th>\n      <th>lfare</th>\n      <th>ldistsq</th>\n      <th>concen</th>\n      <th>lpassen</th>\n      <th>concenbar</th>\n      <th>year</th>\n    </tr>\n    <tr>\n      <th>id</th>\n      <th>year</th>\n      <th></th>\n      <th></th>\n      <th></th>\n      <th></th>\n      <th></th>\n      <th></th>\n      <th></th>\n      <th></th>\n      <th></th>\n      <th></th>\n      <th></th>\n      <th></th>\n      <th></th>\n      <th></th>\n    </tr>\n  </thead>\n  <tbody>\n    <tr>\n      <th rowspan=\"4\" valign=\"top\">1</th>\n      <th>1997</th>\n      <td>528</td>\n      <td>152</td>\n      <td>106</td>\n      <td>0.8386</td>\n      <td>6.269096</td>\n      <td>0</td>\n      <td>0</td>\n      <td>0</td>\n      <td>4.663439</td>\n      <td>39.301571</td>\n      <td>0.8386</td>\n      <td>5.023880</td>\n      <td>0.834825</td>\n      <td>1997</td>\n    </tr>\n    <tr>\n      <th>1998</th>\n      <td>528</td>\n      <td>265</td>\n      <td>106</td>\n      <td>0.8133</td>\n      <td>6.269096</td>\n      <td>1</td>\n      <td>0</td>\n      <td>0</td>\n      <td>4.663439</td>\n      <td>39.301571</td>\n      <td>0.8133</td>\n      <td>5.579730</td>\n      <td>0.834825</td>\n      <td>1998</td>\n    </tr>\n    <tr>\n      <th>1999</th>\n      <td>528</td>\n      <td>336</td>\n      <td>113</td>\n      <td>0.8262</td>\n      <td>6.269096</td>\n      <td>0</td>\n      <td>1</td>\n      <td>0</td>\n      <td>4.727388</td>\n      <td>39.301571</td>\n      <td>0.8262</td>\n      <td>5.817111</td>\n      <td>0.834825</td>\n      <td>1999</td>\n    </tr>\n    <tr>\n      <th>2000</th>\n      <td>528</td>\n      <td>298</td>\n      <td>123</td>\n      <td>0.8612</td>\n      <td>6.269096</td>\n      <td>0</td>\n      <td>0</td>\n      <td>1</td>\n      <td>4.812184</td>\n      <td>39.301571</td>\n      <td>0.8612</td>\n      <td>5.697093</td>\n      <td>0.834825</td>\n      <td>2000</td>\n    </tr>\n    <tr>\n      <th>2</th>\n      <th>1997</th>\n      <td>861</td>\n      <td>282</td>\n      <td>104</td>\n      <td>0.5798</td>\n      <td>6.758094</td>\n      <td>0</td>\n      <td>0</td>\n      <td>0</td>\n      <td>4.644391</td>\n      <td>45.671837</td>\n      <td>0.5798</td>\n      <td>5.641907</td>\n      <td>0.608000</td>\n      <td>1997</td>\n    </tr>\n    <tr>\n      <th>...</th>\n      <th>...</th>\n      <td>...</td>\n      <td>...</td>\n      <td>...</td>\n      <td>...</td>\n      <td>...</td>\n      <td>...</td>\n      <td>...</td>\n      <td>...</td>\n      <td>...</td>\n      <td>...</td>\n      <td>...</td>\n      <td>...</td>\n      <td>...</td>\n      <td>...</td>\n    </tr>\n    <tr>\n      <th>1148</th>\n      <th>2000</th>\n      <td>1948</td>\n      <td>198</td>\n      <td>311</td>\n      <td>0.4272</td>\n      <td>7.574558</td>\n      <td>0</td>\n      <td>0</td>\n      <td>1</td>\n      <td>5.739793</td>\n      <td>57.373932</td>\n      <td>0.4272</td>\n      <td>5.288267</td>\n      <td>0.484000</td>\n      <td>2000</td>\n    </tr>\n    <tr>\n      <th rowspan=\"4\" valign=\"top\">1149</th>\n      <th>1997</th>\n      <td>857</td>\n      <td>493</td>\n      <td>147</td>\n      <td>0.7089</td>\n      <td>6.753438</td>\n      <td>0</td>\n      <td>0</td>\n      <td>0</td>\n      <td>4.990433</td>\n      <td>45.608925</td>\n      <td>0.7089</td>\n      <td>6.200509</td>\n      <td>0.761825</td>\n      <td>1997</td>\n    </tr>\n    <tr>\n      <th>1998</th>\n      <td>857</td>\n      <td>523</td>\n      <td>142</td>\n      <td>0.7797</td>\n      <td>6.753438</td>\n      <td>1</td>\n      <td>0</td>\n      <td>0</td>\n      <td>4.955827</td>\n      <td>45.608925</td>\n      <td>0.7797</td>\n      <td>6.259582</td>\n      <td>0.761825</td>\n      <td>1998</td>\n    </tr>\n    <tr>\n      <th>1999</th>\n      <td>857</td>\n      <td>441</td>\n      <td>146</td>\n      <td>0.7465</td>\n      <td>6.753438</td>\n      <td>0</td>\n      <td>1</td>\n      <td>0</td>\n      <td>4.983607</td>\n      <td>45.608925</td>\n      <td>0.7465</td>\n      <td>6.089045</td>\n      <td>0.761825</td>\n      <td>1999</td>\n    </tr>\n    <tr>\n      <th>2000</th>\n      <td>857</td>\n      <td>556</td>\n      <td>145</td>\n      <td>0.8122</td>\n      <td>6.753438</td>\n      <td>0</td>\n      <td>0</td>\n      <td>1</td>\n      <td>4.976734</td>\n      <td>45.608925</td>\n      <td>0.8122</td>\n      <td>6.320768</td>\n      <td>0.761825</td>\n      <td>2000</td>\n    </tr>\n  </tbody>\n</table>\n<p>4596 rows × 14 columns</p>\n</div>"
     },
     "metadata": {},
     "execution_count": 7
    }
   ],
   "source": [
    "Arrumar_Painel()"
   ]
  },
  {
   "cell_type": "code",
   "execution_count": 8,
   "metadata": {},
   "outputs": [
    {
     "output_type": "stream",
     "name": "stdout",
     "text": [
      "                    Model Comparison                    \n========================================================\n                                    EF                EA\n--------------------------------------------------------\nDep. Variable                    lfare             lfare\nEstimator                     PanelOLS     RandomEffects\nNo. Observations                  4596              4596\nCov. Est.                   Unadjusted        Unadjusted\nR-squared                       0.1352            0.2302\nR-Squared (Within)              0.1352            0.1352\nR-Squared (Between)            -0.0417            0.4216\nR-Squared (Overall)            -0.0325            0.4068\nF-statistic                     134.61            195.97\nP-value (F-stat)                0.0000            0.0000\n=====================     ============   ===============\nconst                           4.9533            6.2079\n                              (270.87)          (7.6646)\ny98                             0.0228            0.0228\n                              (5.1292)          (5.1308)\ny99                             0.0364            0.0364\n                              (8.1766)          (8.1791)\ny00                             0.0978            0.0978\n                              (21.944)          (21.951)\nconcen                          0.1689            0.1689\n                              (5.7415)          (5.7433)\nldist                                            -0.9089\n                                               (-3.6779)\nldistsq                                           0.1038\n                                                (5.5397)\nconcenbar                                         0.2136\n                                                (3.1463)\n======================= ============== =================\nEffects                         Entity                  \n--------------------------------------------------------\n\nT-stats reported in parentheses\n"
     ]
    }
   ],
   "source": [
    "x = df[['y98','y99','y00','concen','ldist','ldistsq','concenbar']]\n",
    "x_ef = df[['y98','y99','y00','concen','ldist','ldistsq']]\n",
    "y = df['lfare']\n",
    "\n",
    "## Fazendo a estimação por EA\n",
    "Reg_Painel_Efeitos_Aleatórios(x,y)\n",
    "random_res = Resultado\n",
    "clear_output()\n",
    "\n",
    "## Fazendo a estimação por EF\n",
    "Reg_Painel_Efeitos_Fixos(x_ef,y)\n",
    "ef_res = Resultado\n",
    "clear_output()\n",
    "\n",
    "## comparando os modelos\n",
    "print(compare({'EF':ef_res,'EA':random_res}))"
   ]
  },
  {
   "cell_type": "code",
   "execution_count": 9,
   "metadata": {},
   "outputs": [
    {
     "output_type": "stream",
     "name": "stdout",
     "text": [
      "                        RandomEffects Estimation Summary                        \n================================================================================\nDep. Variable:                  lfare   R-squared:                        0.1171\nEstimator:              RandomEffects   R-squared (Between):              0.0576\nNo. Observations:                4596   R-squared (Within):               0.1352\nDate:                Sun, Mar 21 2021   R-squared (Overall):              0.0616\nTime:                        18:15:55   Log-likelihood                    3775.4\nCov. Estimator:            Unadjusted                                           \n                                        F-statistic:                      121.75\nEntities:                        1149   P-value                           0.0000\nAvg Obs:                       4.0000   Distribution:                  F(5,4590)\nMin Obs:                       4.0000                                           \nMax Obs:                       4.0000   F-statistic (robust):             121.75\n                                        P-value                           0.0000\nTime periods:                       4   Distribution:                  F(5,4590)\nAvg Obs:                       1149.0                                           \nMin Obs:                       1149.0                                           \nMax Obs:                       1149.0                                           \n                                                                                \n                             Parameter Estimates                              \n==============================================================================\n            Parameter  Std. Err.     T-stat    P-value    Lower CI    Upper CI\n------------------------------------------------------------------------------\nconst          5.3859     0.0413     130.37     0.0000      5.3049      5.4669\ny98            0.0228     0.0045     5.1304     0.0000      0.0141      0.0316\ny99            0.0364     0.0044     8.1785     0.0000      0.0277      0.0451\ny00            0.0978     0.0045     21.949     0.0000      0.0890      0.1065\nconcen         0.1689     0.0294     5.7429     0.0000      0.1112      0.2265\nconcenbar     -0.7090     0.0709    -9.9961     0.0000     -0.8480     -0.5699\n==============================================================================\n"
     ]
    }
   ],
   "source": [
    "## retirando outros controles da estimativa de EA\n",
    "x = df[['y98','y99','y00','concen','concenbar']]\n",
    "y = df['lfare']\n",
    "\n",
    "## Fazendo a estimação por EA\n",
    "Reg_Painel_Efeitos_Aleatórios(x,y)"
   ]
  },
  {
   "cell_type": "code",
   "execution_count": 149,
   "metadata": {},
   "outputs": [
    {
     "output_type": "stream",
     "name": "stdout",
     "text": [
      "                        RandomEffects Estimation Summary                        \n================================================================================\nDep. Variable:                  lfare   R-squared:                        0.2302\nEstimator:              RandomEffects   R-squared (Between):              0.4216\nNo. Observations:                4596   R-squared (Within):               0.1352\nDate:                Thu, Mar 11 2021   R-squared (Overall):              0.4068\nTime:                        22:27:25   Log-likelihood                    3776.7\nCov. Estimator:            Unadjusted                                           \n                                        F-statistic:                      195.97\nEntities:                        1149   P-value                           0.0000\nAvg Obs:                       4.0000   Distribution:                  F(7,4588)\nMin Obs:                       4.0000                                           \nMax Obs:                       4.0000   F-statistic (robust):             195.97\n                                        P-value                           0.0000\nTime periods:                       4   Distribution:                  F(7,4588)\nAvg Obs:                       1149.0                                           \nMin Obs:                       1149.0                                           \nMax Obs:                       1149.0                                           \n                                                                                \n                             Parameter Estimates                              \n==============================================================================\n            Parameter  Std. Err.     T-stat    P-value    Lower CI    Upper CI\n------------------------------------------------------------------------------\nconst          6.2079     0.8099     7.6646     0.0000      4.6200      7.7958\ny98            0.0228     0.0045     5.1308     0.0000      0.0141      0.0316\ny99            0.0364     0.0044     8.1791     0.0000      0.0277      0.0451\ny00            0.0978     0.0045     21.951     0.0000      0.0890      0.1065\nconcen         0.1689     0.0294     5.7433     0.0000      0.1112      0.2265\nldist         -0.9089     0.2471    -3.6779     0.0002     -1.3934     -0.4244\nldistsq        0.1038     0.0187     5.5397     0.0000      0.0671      0.1406\nconcenbar      0.2136     0.0679     3.1463     0.0017      0.0805      0.3468\n==============================================================================\n"
     ]
    }
   ],
   "source": [
    "## vendo o p-valor de concebar no 1o modelo\n",
    "print(random_res.summary)"
   ]
  },
  {
   "cell_type": "code",
   "execution_count": 10,
   "metadata": {},
   "outputs": [
    {
     "output_type": "stream",
     "name": "stdout",
     "text": [
      "                        RandomEffects Estimation Summary                        \n================================================================================\nDep. Variable:                  lfare   R-squared:                        0.2302\nEstimator:              RandomEffects   R-squared (Between):              0.4216\nNo. Observations:                4596   R-squared (Within):               0.1352\nDate:                Sun, Mar 21 2021   R-squared (Overall):              0.4068\nTime:                        18:20:32   Log-likelihood                    3776.7\nCov. Estimator:        Driscoll-Kraay                                           \n                                        F-statistic:                      195.97\nEntities:                        1149   P-value                           0.0000\nAvg Obs:                       4.0000   Distribution:                  F(7,4588)\nMin Obs:                       4.0000                                           \nMax Obs:                       4.0000   F-statistic (robust):          1.596e+18\n                                        P-value                           0.0000\nTime periods:                       4   Distribution:                  F(7,4588)\nAvg Obs:                       1149.0                                           \nMin Obs:                       1149.0                                           \nMax Obs:                       1149.0                                           \n                                                                                \n                             Parameter Estimates                              \n==============================================================================\n            Parameter  Std. Err.     T-stat    P-value    Lower CI    Upper CI\n------------------------------------------------------------------------------\nconst          6.2079     0.6706     9.2574     0.0000      4.8932      7.5226\ny98            0.0228     0.0012     19.734     0.0000      0.0206      0.0251\ny99            0.0364     0.0010     36.599     0.0000      0.0344      0.0383\ny00            0.0978     0.0014     68.798     0.0000      0.0950      0.1006\nconcen         0.1689     0.1295     1.3036     0.1925     -0.0851      0.4228\nldist         -0.9089     0.1829    -4.9690     0.0000     -1.2675     -0.5503\nldistsq        0.1038     0.0112     9.2454     0.0000      0.0818      0.1259\nconcenbar      0.2136     0.3029     0.7054     0.4806     -0.3802      0.8074\n==============================================================================\n"
     ]
    }
   ],
   "source": [
    "## Fazendo um teste robusto em relação a heteroscedasticidade e autocorrelação para verificar a significancia de concenbar\n",
    "x = df[['y98','y99','y00','concen','ldist','ldistsq','concenbar']]\n",
    "x_ef = df[['y98','y99','y00','concen','ldist','ldistsq']]\n",
    "y = df['lfare']\n",
    "\n",
    "## Fazendo a estimação por EA\n",
    "X = sm.add_constant(x)\n",
    "\n",
    "Modelo = RandomEffects(y,X)\n",
    "Resultado = Modelo.fit(cov_type='kernel')\n",
    "print(Resultado)"
   ]
  },
  {
   "source": [
    "## Exercício C5"
   ],
   "cell_type": "markdown",
   "metadata": {}
  },
  {
   "cell_type": "code",
   "execution_count": 11,
   "metadata": {},
   "outputs": [
    {
     "output_type": "stream",
     "name": "stdout",
     "text": [
      "wagepan.dta foi lido com sucesso!\n"
     ]
    },
    {
     "output_type": "execute_result",
     "data": {
      "text/plain": [
       "         nr  year  agric  black  bus  construc  ent  exper  fin  hisp  ...  \\\n",
       "0        13  1980      0      0    1         0    0      1    0     0  ...   \n",
       "1        13  1981      0      0    0         0    0      2    0     0  ...   \n",
       "2        13  1982      0      0    1         0    0      3    0     0  ...   \n",
       "3        13  1983      0      0    1         0    0      4    0     0  ...   \n",
       "4        13  1984      0      0    0         0    0      5    0     0  ...   \n",
       "...     ...   ...    ...    ...  ...       ...  ...    ...  ...   ...  ...   \n",
       "4355  12548  1983      0      0    0         1    0      8    0     0  ...   \n",
       "4356  12548  1984      0      0    0         1    0      9    0     0  ...   \n",
       "4357  12548  1985      0      0    0         1    0     10    0     0  ...   \n",
       "4358  12548  1986      0      0    0         0    0     11    0     0  ...   \n",
       "4359  12548  1987      0      0    0         0    0     12    0     0  ...   \n",
       "\n",
       "      union     lwage  d81  d82  d83  d84  d85  d86  d87  expersq  \n",
       "0         0  1.197540    0    0    0    0    0    0    0        1  \n",
       "1         1  1.853060    1    0    0    0    0    0    0        4  \n",
       "2         0  1.344462    0    1    0    0    0    0    0        9  \n",
       "3         0  1.433213    0    0    1    0    0    0    0       16  \n",
       "4         0  1.568125    0    0    0    1    0    0    0       25  \n",
       "...     ...       ...  ...  ...  ...  ...  ...  ...  ...      ...  \n",
       "4355      0  1.591879    0    0    1    0    0    0    0       64  \n",
       "4356      1  1.212543    0    0    0    1    0    0    0       81  \n",
       "4357      0  1.765962    0    0    0    0    1    0    0      100  \n",
       "4358      1  1.745894    0    0    0    0    0    1    0      121  \n",
       "4359      1  1.466543    0    0    0    0    0    0    1      144  \n",
       "\n",
       "[4360 rows x 44 columns]"
      ],
      "text/html": "<div>\n<style scoped>\n    .dataframe tbody tr th:only-of-type {\n        vertical-align: middle;\n    }\n\n    .dataframe tbody tr th {\n        vertical-align: top;\n    }\n\n    .dataframe thead th {\n        text-align: right;\n    }\n</style>\n<table border=\"1\" class=\"dataframe\">\n  <thead>\n    <tr style=\"text-align: right;\">\n      <th></th>\n      <th>nr</th>\n      <th>year</th>\n      <th>agric</th>\n      <th>black</th>\n      <th>bus</th>\n      <th>construc</th>\n      <th>ent</th>\n      <th>exper</th>\n      <th>fin</th>\n      <th>hisp</th>\n      <th>...</th>\n      <th>union</th>\n      <th>lwage</th>\n      <th>d81</th>\n      <th>d82</th>\n      <th>d83</th>\n      <th>d84</th>\n      <th>d85</th>\n      <th>d86</th>\n      <th>d87</th>\n      <th>expersq</th>\n    </tr>\n  </thead>\n  <tbody>\n    <tr>\n      <th>0</th>\n      <td>13</td>\n      <td>1980</td>\n      <td>0</td>\n      <td>0</td>\n      <td>1</td>\n      <td>0</td>\n      <td>0</td>\n      <td>1</td>\n      <td>0</td>\n      <td>0</td>\n      <td>...</td>\n      <td>0</td>\n      <td>1.197540</td>\n      <td>0</td>\n      <td>0</td>\n      <td>0</td>\n      <td>0</td>\n      <td>0</td>\n      <td>0</td>\n      <td>0</td>\n      <td>1</td>\n    </tr>\n    <tr>\n      <th>1</th>\n      <td>13</td>\n      <td>1981</td>\n      <td>0</td>\n      <td>0</td>\n      <td>0</td>\n      <td>0</td>\n      <td>0</td>\n      <td>2</td>\n      <td>0</td>\n      <td>0</td>\n      <td>...</td>\n      <td>1</td>\n      <td>1.853060</td>\n      <td>1</td>\n      <td>0</td>\n      <td>0</td>\n      <td>0</td>\n      <td>0</td>\n      <td>0</td>\n      <td>0</td>\n      <td>4</td>\n    </tr>\n    <tr>\n      <th>2</th>\n      <td>13</td>\n      <td>1982</td>\n      <td>0</td>\n      <td>0</td>\n      <td>1</td>\n      <td>0</td>\n      <td>0</td>\n      <td>3</td>\n      <td>0</td>\n      <td>0</td>\n      <td>...</td>\n      <td>0</td>\n      <td>1.344462</td>\n      <td>0</td>\n      <td>1</td>\n      <td>0</td>\n      <td>0</td>\n      <td>0</td>\n      <td>0</td>\n      <td>0</td>\n      <td>9</td>\n    </tr>\n    <tr>\n      <th>3</th>\n      <td>13</td>\n      <td>1983</td>\n      <td>0</td>\n      <td>0</td>\n      <td>1</td>\n      <td>0</td>\n      <td>0</td>\n      <td>4</td>\n      <td>0</td>\n      <td>0</td>\n      <td>...</td>\n      <td>0</td>\n      <td>1.433213</td>\n      <td>0</td>\n      <td>0</td>\n      <td>1</td>\n      <td>0</td>\n      <td>0</td>\n      <td>0</td>\n      <td>0</td>\n      <td>16</td>\n    </tr>\n    <tr>\n      <th>4</th>\n      <td>13</td>\n      <td>1984</td>\n      <td>0</td>\n      <td>0</td>\n      <td>0</td>\n      <td>0</td>\n      <td>0</td>\n      <td>5</td>\n      <td>0</td>\n      <td>0</td>\n      <td>...</td>\n      <td>0</td>\n      <td>1.568125</td>\n      <td>0</td>\n      <td>0</td>\n      <td>0</td>\n      <td>1</td>\n      <td>0</td>\n      <td>0</td>\n      <td>0</td>\n      <td>25</td>\n    </tr>\n    <tr>\n      <th>...</th>\n      <td>...</td>\n      <td>...</td>\n      <td>...</td>\n      <td>...</td>\n      <td>...</td>\n      <td>...</td>\n      <td>...</td>\n      <td>...</td>\n      <td>...</td>\n      <td>...</td>\n      <td>...</td>\n      <td>...</td>\n      <td>...</td>\n      <td>...</td>\n      <td>...</td>\n      <td>...</td>\n      <td>...</td>\n      <td>...</td>\n      <td>...</td>\n      <td>...</td>\n      <td>...</td>\n    </tr>\n    <tr>\n      <th>4355</th>\n      <td>12548</td>\n      <td>1983</td>\n      <td>0</td>\n      <td>0</td>\n      <td>0</td>\n      <td>1</td>\n      <td>0</td>\n      <td>8</td>\n      <td>0</td>\n      <td>0</td>\n      <td>...</td>\n      <td>0</td>\n      <td>1.591879</td>\n      <td>0</td>\n      <td>0</td>\n      <td>1</td>\n      <td>0</td>\n      <td>0</td>\n      <td>0</td>\n      <td>0</td>\n      <td>64</td>\n    </tr>\n    <tr>\n      <th>4356</th>\n      <td>12548</td>\n      <td>1984</td>\n      <td>0</td>\n      <td>0</td>\n      <td>0</td>\n      <td>1</td>\n      <td>0</td>\n      <td>9</td>\n      <td>0</td>\n      <td>0</td>\n      <td>...</td>\n      <td>1</td>\n      <td>1.212543</td>\n      <td>0</td>\n      <td>0</td>\n      <td>0</td>\n      <td>1</td>\n      <td>0</td>\n      <td>0</td>\n      <td>0</td>\n      <td>81</td>\n    </tr>\n    <tr>\n      <th>4357</th>\n      <td>12548</td>\n      <td>1985</td>\n      <td>0</td>\n      <td>0</td>\n      <td>0</td>\n      <td>1</td>\n      <td>0</td>\n      <td>10</td>\n      <td>0</td>\n      <td>0</td>\n      <td>...</td>\n      <td>0</td>\n      <td>1.765962</td>\n      <td>0</td>\n      <td>0</td>\n      <td>0</td>\n      <td>0</td>\n      <td>1</td>\n      <td>0</td>\n      <td>0</td>\n      <td>100</td>\n    </tr>\n    <tr>\n      <th>4358</th>\n      <td>12548</td>\n      <td>1986</td>\n      <td>0</td>\n      <td>0</td>\n      <td>0</td>\n      <td>0</td>\n      <td>0</td>\n      <td>11</td>\n      <td>0</td>\n      <td>0</td>\n      <td>...</td>\n      <td>1</td>\n      <td>1.745894</td>\n      <td>0</td>\n      <td>0</td>\n      <td>0</td>\n      <td>0</td>\n      <td>0</td>\n      <td>1</td>\n      <td>0</td>\n      <td>121</td>\n    </tr>\n    <tr>\n      <th>4359</th>\n      <td>12548</td>\n      <td>1987</td>\n      <td>0</td>\n      <td>0</td>\n      <td>0</td>\n      <td>0</td>\n      <td>0</td>\n      <td>12</td>\n      <td>0</td>\n      <td>0</td>\n      <td>...</td>\n      <td>1</td>\n      <td>1.466543</td>\n      <td>0</td>\n      <td>0</td>\n      <td>0</td>\n      <td>0</td>\n      <td>0</td>\n      <td>0</td>\n      <td>1</td>\n      <td>144</td>\n    </tr>\n  </tbody>\n</table>\n<p>4360 rows × 44 columns</p>\n</div>"
     },
     "metadata": {},
     "execution_count": 11
    }
   ],
   "source": [
    "coletar_dados('wagepan')"
   ]
  },
  {
   "cell_type": "code",
   "execution_count": 12,
   "metadata": {},
   "outputs": [
    {
     "output_type": "execute_result",
     "data": {
      "text/plain": [
       "            agric  black  bus  construc  ent  exper  fin  hisp  poorhlth  \\\n",
       "nr    year                                                                 \n",
       "13    1980      0      0    1         0    0      1    0     0         0   \n",
       "      1981      0      0    0         0    0      2    0     0         0   \n",
       "      1982      0      0    1         0    0      3    0     0         0   \n",
       "      1983      0      0    1         0    0      4    0     0         0   \n",
       "      1984      0      0    0         0    0      5    0     0         0   \n",
       "...           ...    ...  ...       ...  ...    ...  ...   ...       ...   \n",
       "12548 1983      0      0    0         1    0      8    0     0         0   \n",
       "      1984      0      0    0         1    0      9    0     0         0   \n",
       "      1985      0      0    0         1    0     10    0     0         0   \n",
       "      1986      0      0    0         0    0     11    0     0         0   \n",
       "      1987      0      0    0         0    0     12    0     0         0   \n",
       "\n",
       "            hours  ...     lwage  d81  d82  d83  d84  d85  d86  d87  expersq  \\\n",
       "nr    year         ...                                                         \n",
       "13    1980   2672  ...  1.197540    0    0    0    0    0    0    0        1   \n",
       "      1981   2320  ...  1.853060    1    0    0    0    0    0    0        4   \n",
       "      1982   2940  ...  1.344462    0    1    0    0    0    0    0        9   \n",
       "      1983   2960  ...  1.433213    0    0    1    0    0    0    0       16   \n",
       "      1984   3071  ...  1.568125    0    0    0    1    0    0    0       25   \n",
       "...           ...  ...       ...  ...  ...  ...  ...  ...  ...  ...      ...   \n",
       "12548 1983   2080  ...  1.591879    0    0    1    0    0    0    0       64   \n",
       "      1984   2080  ...  1.212543    0    0    0    1    0    0    0       81   \n",
       "      1985   2080  ...  1.765962    0    0    0    0    1    0    0      100   \n",
       "      1986   2080  ...  1.745894    0    0    0    0    0    1    0      121   \n",
       "      1987   3380  ...  1.466543    0    0    0    0    0    0    1      144   \n",
       "\n",
       "            year  \n",
       "nr    year        \n",
       "13    1980  1980  \n",
       "      1981  1981  \n",
       "      1982  1982  \n",
       "      1983  1983  \n",
       "      1984  1984  \n",
       "...          ...  \n",
       "12548 1983  1983  \n",
       "      1984  1984  \n",
       "      1985  1985  \n",
       "      1986  1986  \n",
       "      1987  1987  \n",
       "\n",
       "[4360 rows x 43 columns]"
      ],
      "text/html": "<div>\n<style scoped>\n    .dataframe tbody tr th:only-of-type {\n        vertical-align: middle;\n    }\n\n    .dataframe tbody tr th {\n        vertical-align: top;\n    }\n\n    .dataframe thead th {\n        text-align: right;\n    }\n</style>\n<table border=\"1\" class=\"dataframe\">\n  <thead>\n    <tr style=\"text-align: right;\">\n      <th></th>\n      <th></th>\n      <th>agric</th>\n      <th>black</th>\n      <th>bus</th>\n      <th>construc</th>\n      <th>ent</th>\n      <th>exper</th>\n      <th>fin</th>\n      <th>hisp</th>\n      <th>poorhlth</th>\n      <th>hours</th>\n      <th>...</th>\n      <th>lwage</th>\n      <th>d81</th>\n      <th>d82</th>\n      <th>d83</th>\n      <th>d84</th>\n      <th>d85</th>\n      <th>d86</th>\n      <th>d87</th>\n      <th>expersq</th>\n      <th>year</th>\n    </tr>\n    <tr>\n      <th>nr</th>\n      <th>year</th>\n      <th></th>\n      <th></th>\n      <th></th>\n      <th></th>\n      <th></th>\n      <th></th>\n      <th></th>\n      <th></th>\n      <th></th>\n      <th></th>\n      <th></th>\n      <th></th>\n      <th></th>\n      <th></th>\n      <th></th>\n      <th></th>\n      <th></th>\n      <th></th>\n      <th></th>\n      <th></th>\n      <th></th>\n    </tr>\n  </thead>\n  <tbody>\n    <tr>\n      <th rowspan=\"5\" valign=\"top\">13</th>\n      <th>1980</th>\n      <td>0</td>\n      <td>0</td>\n      <td>1</td>\n      <td>0</td>\n      <td>0</td>\n      <td>1</td>\n      <td>0</td>\n      <td>0</td>\n      <td>0</td>\n      <td>2672</td>\n      <td>...</td>\n      <td>1.197540</td>\n      <td>0</td>\n      <td>0</td>\n      <td>0</td>\n      <td>0</td>\n      <td>0</td>\n      <td>0</td>\n      <td>0</td>\n      <td>1</td>\n      <td>1980</td>\n    </tr>\n    <tr>\n      <th>1981</th>\n      <td>0</td>\n      <td>0</td>\n      <td>0</td>\n      <td>0</td>\n      <td>0</td>\n      <td>2</td>\n      <td>0</td>\n      <td>0</td>\n      <td>0</td>\n      <td>2320</td>\n      <td>...</td>\n      <td>1.853060</td>\n      <td>1</td>\n      <td>0</td>\n      <td>0</td>\n      <td>0</td>\n      <td>0</td>\n      <td>0</td>\n      <td>0</td>\n      <td>4</td>\n      <td>1981</td>\n    </tr>\n    <tr>\n      <th>1982</th>\n      <td>0</td>\n      <td>0</td>\n      <td>1</td>\n      <td>0</td>\n      <td>0</td>\n      <td>3</td>\n      <td>0</td>\n      <td>0</td>\n      <td>0</td>\n      <td>2940</td>\n      <td>...</td>\n      <td>1.344462</td>\n      <td>0</td>\n      <td>1</td>\n      <td>0</td>\n      <td>0</td>\n      <td>0</td>\n      <td>0</td>\n      <td>0</td>\n      <td>9</td>\n      <td>1982</td>\n    </tr>\n    <tr>\n      <th>1983</th>\n      <td>0</td>\n      <td>0</td>\n      <td>1</td>\n      <td>0</td>\n      <td>0</td>\n      <td>4</td>\n      <td>0</td>\n      <td>0</td>\n      <td>0</td>\n      <td>2960</td>\n      <td>...</td>\n      <td>1.433213</td>\n      <td>0</td>\n      <td>0</td>\n      <td>1</td>\n      <td>0</td>\n      <td>0</td>\n      <td>0</td>\n      <td>0</td>\n      <td>16</td>\n      <td>1983</td>\n    </tr>\n    <tr>\n      <th>1984</th>\n      <td>0</td>\n      <td>0</td>\n      <td>0</td>\n      <td>0</td>\n      <td>0</td>\n      <td>5</td>\n      <td>0</td>\n      <td>0</td>\n      <td>0</td>\n      <td>3071</td>\n      <td>...</td>\n      <td>1.568125</td>\n      <td>0</td>\n      <td>0</td>\n      <td>0</td>\n      <td>1</td>\n      <td>0</td>\n      <td>0</td>\n      <td>0</td>\n      <td>25</td>\n      <td>1984</td>\n    </tr>\n    <tr>\n      <th>...</th>\n      <th>...</th>\n      <td>...</td>\n      <td>...</td>\n      <td>...</td>\n      <td>...</td>\n      <td>...</td>\n      <td>...</td>\n      <td>...</td>\n      <td>...</td>\n      <td>...</td>\n      <td>...</td>\n      <td>...</td>\n      <td>...</td>\n      <td>...</td>\n      <td>...</td>\n      <td>...</td>\n      <td>...</td>\n      <td>...</td>\n      <td>...</td>\n      <td>...</td>\n      <td>...</td>\n      <td>...</td>\n    </tr>\n    <tr>\n      <th rowspan=\"5\" valign=\"top\">12548</th>\n      <th>1983</th>\n      <td>0</td>\n      <td>0</td>\n      <td>0</td>\n      <td>1</td>\n      <td>0</td>\n      <td>8</td>\n      <td>0</td>\n      <td>0</td>\n      <td>0</td>\n      <td>2080</td>\n      <td>...</td>\n      <td>1.591879</td>\n      <td>0</td>\n      <td>0</td>\n      <td>1</td>\n      <td>0</td>\n      <td>0</td>\n      <td>0</td>\n      <td>0</td>\n      <td>64</td>\n      <td>1983</td>\n    </tr>\n    <tr>\n      <th>1984</th>\n      <td>0</td>\n      <td>0</td>\n      <td>0</td>\n      <td>1</td>\n      <td>0</td>\n      <td>9</td>\n      <td>0</td>\n      <td>0</td>\n      <td>0</td>\n      <td>2080</td>\n      <td>...</td>\n      <td>1.212543</td>\n      <td>0</td>\n      <td>0</td>\n      <td>0</td>\n      <td>1</td>\n      <td>0</td>\n      <td>0</td>\n      <td>0</td>\n      <td>81</td>\n      <td>1984</td>\n    </tr>\n    <tr>\n      <th>1985</th>\n      <td>0</td>\n      <td>0</td>\n      <td>0</td>\n      <td>1</td>\n      <td>0</td>\n      <td>10</td>\n      <td>0</td>\n      <td>0</td>\n      <td>0</td>\n      <td>2080</td>\n      <td>...</td>\n      <td>1.765962</td>\n      <td>0</td>\n      <td>0</td>\n      <td>0</td>\n      <td>0</td>\n      <td>1</td>\n      <td>0</td>\n      <td>0</td>\n      <td>100</td>\n      <td>1985</td>\n    </tr>\n    <tr>\n      <th>1986</th>\n      <td>0</td>\n      <td>0</td>\n      <td>0</td>\n      <td>0</td>\n      <td>0</td>\n      <td>11</td>\n      <td>0</td>\n      <td>0</td>\n      <td>0</td>\n      <td>2080</td>\n      <td>...</td>\n      <td>1.745894</td>\n      <td>0</td>\n      <td>0</td>\n      <td>0</td>\n      <td>0</td>\n      <td>0</td>\n      <td>1</td>\n      <td>0</td>\n      <td>121</td>\n      <td>1986</td>\n    </tr>\n    <tr>\n      <th>1987</th>\n      <td>0</td>\n      <td>0</td>\n      <td>0</td>\n      <td>0</td>\n      <td>0</td>\n      <td>12</td>\n      <td>0</td>\n      <td>0</td>\n      <td>0</td>\n      <td>3380</td>\n      <td>...</td>\n      <td>1.466543</td>\n      <td>0</td>\n      <td>0</td>\n      <td>0</td>\n      <td>0</td>\n      <td>0</td>\n      <td>0</td>\n      <td>1</td>\n      <td>144</td>\n      <td>1987</td>\n    </tr>\n  </tbody>\n</table>\n<p>4360 rows × 43 columns</p>\n</div>"
     },
     "metadata": {},
     "execution_count": 12
    }
   ],
   "source": [
    "Arrumar_Painel()"
   ]
  },
  {
   "cell_type": "code",
   "execution_count": 161,
   "metadata": {},
   "outputs": [
    {
     "output_type": "stream",
     "name": "stdout",
     "text": [
      "                          PanelOLS Estimation Summary                           \n",
      "================================================================================\n",
      "Dep. Variable:                  lwage   R-squared:                        0.1827\n",
      "Estimator:                   PanelOLS   R-squared (Between):              0.0074\n",
      "No. Observations:                4360   R-squared (Within):               0.1827\n",
      "Date:                Sat, Mar 13 2021   R-squared (Overall):              0.0885\n",
      "Time:                        15:14:48   Log-likelihood                   -1319.3\n",
      "Cov. Estimator:            Unadjusted                                           \n",
      "                                        F-statistic:                      47.141\n",
      "Entities:                         545   P-value                           0.0000\n",
      "Avg Obs:                       8.0000   Distribution:                 F(18,3797)\n",
      "Min Obs:                       8.0000                                           \n",
      "Max Obs:                       8.0000   F-statistic (robust):             47.141\n",
      "                                        P-value                           0.0000\n",
      "Time periods:                       8   Distribution:                 F(18,3797)\n",
      "Avg Obs:                       545.00                                           \n",
      "Min Obs:                       545.00                                           \n",
      "Max Obs:                       545.00                                           \n",
      "                                                                                \n",
      "                             Parameter Estimates                              \n",
      "==============================================================================\n",
      "            Parameter  Std. Err.     T-stat    P-value    Lower CI    Upper CI\n",
      "------------------------------------------------------------------------------\n",
      "const          1.4618     0.0301     48.566     0.0000      1.4028      1.5208\n",
      "year.1981      0.1512     0.0220     6.8763     0.0000      0.1081      0.1943\n",
      "year.1982      0.2514     0.0246     10.227     0.0000      0.2032      0.2996\n",
      "year.1983      0.3522     0.0295     11.942     0.0000      0.2944      0.4101\n",
      "year.1984      0.4852     0.0367     13.238     0.0000      0.4133      0.5571\n",
      "year.1985      0.6105     0.0457     13.348     0.0000      0.5209      0.7002\n",
      "year.1986      0.7548     0.0568     13.300     0.0000      0.6436      0.8661\n",
      "year.1987      0.9142     0.0695     13.148     0.0000      0.7779      1.0505\n",
      "expersq       -0.0051     0.0007    -7.1922     0.0000     -0.0065     -0.0037\n",
      "married        0.0459     0.0183     2.5036     0.0123      0.0100      0.0819\n",
      "union          0.0804     0.0194     4.1432     0.0000      0.0423      0.1184\n",
      "occ2          -0.0136     0.0323    -0.4210     0.6738     -0.0770      0.0498\n",
      "occ3          -0.0621     0.0378    -1.6451     0.1000     -0.1361      0.0119\n",
      "occ4          -0.0792     0.0307    -2.5783     0.0100     -0.1394     -0.0190\n",
      "occ5          -0.0307     0.0303    -1.0129     0.3112     -0.0902      0.0288\n",
      "occ6          -0.0280     0.0307    -0.9138     0.3609     -0.0882      0.0321\n",
      "occ7          -0.0386     0.0339    -1.1416     0.2537     -0.1050      0.0277\n",
      "occ8          -0.0612     0.0661    -0.9265     0.3542     -0.1907      0.0683\n",
      "occ9          -0.0438     0.0343    -1.2792     0.2009     -0.1110      0.0233\n",
      "==============================================================================\n",
      "\n",
      "F-test for Poolability: 8.3903\n",
      "P-value: 0.0000\n",
      "Distribution: F(544,3797)\n",
      "\n",
      "Included effects: Entity\n",
      "/Users/vinicius/opt/anaconda3/envs/myenv/lib/python3.7/site-packages/linearmodels/panel/model.py:1726: AbsorbingEffectWarning:\n",
      "\n",
      "\n",
      "Variables have been fully absorbed and have removed from the regression:\n",
      "\n",
      "educ, black, hisp, exper\n",
      "\n",
      "\n"
     ]
    }
   ],
   "source": [
    "## Fazendo um modelo de efeitos fixos com dummies por ocupação, já que ocupações diferentes tem diferentes formas de sindicalização, afetam wage e podem estar relacionados com educação, married e outras variáveis explicativas\n",
    "# occ1 será o grupo base\n",
    "x = df[['year','educ','black','hisp','exper','expersq','married','union', 'occ2', 'occ3', 'occ4', 'occ5', 'occ6', 'occ7', 'occ8', 'occ9']]\n",
    "y = df['lwage']\n",
    "\n",
    "Reg_Painel_Efeitos_Fixos(x,y)\n",
    "\n",
    "## o resultado mostra que, mesmo controlando para ocupações, a sindicalização ainda contribui em 8,04% para o salário"
   ]
  },
  {
   "source": [
    "## Exercício 7"
   ],
   "cell_type": "markdown",
   "metadata": {}
  },
  {
   "cell_type": "code",
   "execution_count": 214,
   "metadata": {},
   "outputs": [
    {
     "output_type": "stream",
     "name": "stdout",
     "text": [
      "MURDER.dta foi lido com sucesso!\n"
     ]
    },
    {
     "output_type": "execute_result",
     "data": {
      "text/plain": [
       "     id state  year  mrdrte  exec  unem  d90  d93  cmrdrte  cexec  cunem  \\\n",
       "0     1    AL    87     9.3     2   7.8    0    0      NaN    NaN    NaN   \n",
       "1     1    AL    90    11.6     5   6.8    1    0      2.3    3.0   -1.0   \n",
       "2     1    AL    93    11.6     2   7.5    0    1      0.0   -3.0    0.7   \n",
       "3     2    AK    87    10.1     0  10.8    0    0      NaN    NaN    NaN   \n",
       "4     2    AK    90     7.5     0   6.9    1    0     -2.6    0.0   -3.9   \n",
       "..   ..   ...   ...     ...   ...   ...  ...  ...      ...    ...    ...   \n",
       "148  50    WI    90     4.6     0   4.4    1    0      1.1    0.0   -1.7   \n",
       "149  50    WI    93     4.4     0   4.7    0    1     -0.2    0.0    0.3   \n",
       "150  51    WY    87     2.0     0   8.6    0    0      NaN    NaN    NaN   \n",
       "151  51    WY    90     4.9     0   5.4    1    0      2.9    0.0   -3.2   \n",
       "152  51    WY    93     3.4     1   5.4    0    1     -1.5    1.0    0.0   \n",
       "\n",
       "     cexec_1  cunem_1  \n",
       "0        NaN      NaN  \n",
       "1        NaN      NaN  \n",
       "2        3.0     -1.0  \n",
       "3        NaN      NaN  \n",
       "4        NaN      NaN  \n",
       "..       ...      ...  \n",
       "148      NaN      NaN  \n",
       "149      0.0     -1.7  \n",
       "150      NaN      NaN  \n",
       "151      NaN      NaN  \n",
       "152      0.0     -3.2  \n",
       "\n",
       "[153 rows x 13 columns]"
      ],
      "text/html": "<div>\n<style scoped>\n    .dataframe tbody tr th:only-of-type {\n        vertical-align: middle;\n    }\n\n    .dataframe tbody tr th {\n        vertical-align: top;\n    }\n\n    .dataframe thead th {\n        text-align: right;\n    }\n</style>\n<table border=\"1\" class=\"dataframe\">\n  <thead>\n    <tr style=\"text-align: right;\">\n      <th></th>\n      <th>id</th>\n      <th>state</th>\n      <th>year</th>\n      <th>mrdrte</th>\n      <th>exec</th>\n      <th>unem</th>\n      <th>d90</th>\n      <th>d93</th>\n      <th>cmrdrte</th>\n      <th>cexec</th>\n      <th>cunem</th>\n      <th>cexec_1</th>\n      <th>cunem_1</th>\n    </tr>\n  </thead>\n  <tbody>\n    <tr>\n      <th>0</th>\n      <td>1</td>\n      <td>AL</td>\n      <td>87</td>\n      <td>9.3</td>\n      <td>2</td>\n      <td>7.8</td>\n      <td>0</td>\n      <td>0</td>\n      <td>NaN</td>\n      <td>NaN</td>\n      <td>NaN</td>\n      <td>NaN</td>\n      <td>NaN</td>\n    </tr>\n    <tr>\n      <th>1</th>\n      <td>1</td>\n      <td>AL</td>\n      <td>90</td>\n      <td>11.6</td>\n      <td>5</td>\n      <td>6.8</td>\n      <td>1</td>\n      <td>0</td>\n      <td>2.3</td>\n      <td>3.0</td>\n      <td>-1.0</td>\n      <td>NaN</td>\n      <td>NaN</td>\n    </tr>\n    <tr>\n      <th>2</th>\n      <td>1</td>\n      <td>AL</td>\n      <td>93</td>\n      <td>11.6</td>\n      <td>2</td>\n      <td>7.5</td>\n      <td>0</td>\n      <td>1</td>\n      <td>0.0</td>\n      <td>-3.0</td>\n      <td>0.7</td>\n      <td>3.0</td>\n      <td>-1.0</td>\n    </tr>\n    <tr>\n      <th>3</th>\n      <td>2</td>\n      <td>AK</td>\n      <td>87</td>\n      <td>10.1</td>\n      <td>0</td>\n      <td>10.8</td>\n      <td>0</td>\n      <td>0</td>\n      <td>NaN</td>\n      <td>NaN</td>\n      <td>NaN</td>\n      <td>NaN</td>\n      <td>NaN</td>\n    </tr>\n    <tr>\n      <th>4</th>\n      <td>2</td>\n      <td>AK</td>\n      <td>90</td>\n      <td>7.5</td>\n      <td>0</td>\n      <td>6.9</td>\n      <td>1</td>\n      <td>0</td>\n      <td>-2.6</td>\n      <td>0.0</td>\n      <td>-3.9</td>\n      <td>NaN</td>\n      <td>NaN</td>\n    </tr>\n    <tr>\n      <th>...</th>\n      <td>...</td>\n      <td>...</td>\n      <td>...</td>\n      <td>...</td>\n      <td>...</td>\n      <td>...</td>\n      <td>...</td>\n      <td>...</td>\n      <td>...</td>\n      <td>...</td>\n      <td>...</td>\n      <td>...</td>\n      <td>...</td>\n    </tr>\n    <tr>\n      <th>148</th>\n      <td>50</td>\n      <td>WI</td>\n      <td>90</td>\n      <td>4.6</td>\n      <td>0</td>\n      <td>4.4</td>\n      <td>1</td>\n      <td>0</td>\n      <td>1.1</td>\n      <td>0.0</td>\n      <td>-1.7</td>\n      <td>NaN</td>\n      <td>NaN</td>\n    </tr>\n    <tr>\n      <th>149</th>\n      <td>50</td>\n      <td>WI</td>\n      <td>93</td>\n      <td>4.4</td>\n      <td>0</td>\n      <td>4.7</td>\n      <td>0</td>\n      <td>1</td>\n      <td>-0.2</td>\n      <td>0.0</td>\n      <td>0.3</td>\n      <td>0.0</td>\n      <td>-1.7</td>\n    </tr>\n    <tr>\n      <th>150</th>\n      <td>51</td>\n      <td>WY</td>\n      <td>87</td>\n      <td>2.0</td>\n      <td>0</td>\n      <td>8.6</td>\n      <td>0</td>\n      <td>0</td>\n      <td>NaN</td>\n      <td>NaN</td>\n      <td>NaN</td>\n      <td>NaN</td>\n      <td>NaN</td>\n    </tr>\n    <tr>\n      <th>151</th>\n      <td>51</td>\n      <td>WY</td>\n      <td>90</td>\n      <td>4.9</td>\n      <td>0</td>\n      <td>5.4</td>\n      <td>1</td>\n      <td>0</td>\n      <td>2.9</td>\n      <td>0.0</td>\n      <td>-3.2</td>\n      <td>NaN</td>\n      <td>NaN</td>\n    </tr>\n    <tr>\n      <th>152</th>\n      <td>51</td>\n      <td>WY</td>\n      <td>93</td>\n      <td>3.4</td>\n      <td>1</td>\n      <td>5.4</td>\n      <td>0</td>\n      <td>1</td>\n      <td>-1.5</td>\n      <td>1.0</td>\n      <td>0.0</td>\n      <td>0.0</td>\n      <td>-3.2</td>\n    </tr>\n  </tbody>\n</table>\n<p>153 rows × 13 columns</p>\n</div>"
     },
     "metadata": {},
     "execution_count": 214
    }
   ],
   "source": [
    "coletar_dados('MURDER')"
   ]
  },
  {
   "cell_type": "code",
   "execution_count": 215,
   "metadata": {},
   "outputs": [
    {
     "output_type": "execute_result",
     "data": {
      "text/plain": [
       "        state  mrdrte  exec  unem  d90  d93  cmrdrte  cexec  cunem  cexec_1  \\\n",
       "id year                                                                       \n",
       "1  87      AL     9.3     2   7.8    0    0      NaN    NaN    NaN      NaN   \n",
       "   90      AL    11.6     5   6.8    1    0      2.3    3.0   -1.0      NaN   \n",
       "   93      AL    11.6     2   7.5    0    1      0.0   -3.0    0.7      3.0   \n",
       "2  87      AK    10.1     0  10.8    0    0      NaN    NaN    NaN      NaN   \n",
       "   90      AK     7.5     0   6.9    1    0     -2.6    0.0   -3.9      NaN   \n",
       "...       ...     ...   ...   ...  ...  ...      ...    ...    ...      ...   \n",
       "50 90      WI     4.6     0   4.4    1    0      1.1    0.0   -1.7      NaN   \n",
       "   93      WI     4.4     0   4.7    0    1     -0.2    0.0    0.3      0.0   \n",
       "51 87      WY     2.0     0   8.6    0    0      NaN    NaN    NaN      NaN   \n",
       "   90      WY     4.9     0   5.4    1    0      2.9    0.0   -3.2      NaN   \n",
       "   93      WY     3.4     1   5.4    0    1     -1.5    1.0    0.0      0.0   \n",
       "\n",
       "         cunem_1 year  \n",
       "id year                \n",
       "1  87        NaN   87  \n",
       "   90        NaN   90  \n",
       "   93       -1.0   93  \n",
       "2  87        NaN   87  \n",
       "   90        NaN   90  \n",
       "...          ...  ...  \n",
       "50 90        NaN   90  \n",
       "   93       -1.7   93  \n",
       "51 87        NaN   87  \n",
       "   90        NaN   90  \n",
       "   93       -3.2   93  \n",
       "\n",
       "[153 rows x 12 columns]"
      ],
      "text/html": "<div>\n<style scoped>\n    .dataframe tbody tr th:only-of-type {\n        vertical-align: middle;\n    }\n\n    .dataframe tbody tr th {\n        vertical-align: top;\n    }\n\n    .dataframe thead th {\n        text-align: right;\n    }\n</style>\n<table border=\"1\" class=\"dataframe\">\n  <thead>\n    <tr style=\"text-align: right;\">\n      <th></th>\n      <th></th>\n      <th>state</th>\n      <th>mrdrte</th>\n      <th>exec</th>\n      <th>unem</th>\n      <th>d90</th>\n      <th>d93</th>\n      <th>cmrdrte</th>\n      <th>cexec</th>\n      <th>cunem</th>\n      <th>cexec_1</th>\n      <th>cunem_1</th>\n      <th>year</th>\n    </tr>\n    <tr>\n      <th>id</th>\n      <th>year</th>\n      <th></th>\n      <th></th>\n      <th></th>\n      <th></th>\n      <th></th>\n      <th></th>\n      <th></th>\n      <th></th>\n      <th></th>\n      <th></th>\n      <th></th>\n      <th></th>\n    </tr>\n  </thead>\n  <tbody>\n    <tr>\n      <th rowspan=\"3\" valign=\"top\">1</th>\n      <th>87</th>\n      <td>AL</td>\n      <td>9.3</td>\n      <td>2</td>\n      <td>7.8</td>\n      <td>0</td>\n      <td>0</td>\n      <td>NaN</td>\n      <td>NaN</td>\n      <td>NaN</td>\n      <td>NaN</td>\n      <td>NaN</td>\n      <td>87</td>\n    </tr>\n    <tr>\n      <th>90</th>\n      <td>AL</td>\n      <td>11.6</td>\n      <td>5</td>\n      <td>6.8</td>\n      <td>1</td>\n      <td>0</td>\n      <td>2.3</td>\n      <td>3.0</td>\n      <td>-1.0</td>\n      <td>NaN</td>\n      <td>NaN</td>\n      <td>90</td>\n    </tr>\n    <tr>\n      <th>93</th>\n      <td>AL</td>\n      <td>11.6</td>\n      <td>2</td>\n      <td>7.5</td>\n      <td>0</td>\n      <td>1</td>\n      <td>0.0</td>\n      <td>-3.0</td>\n      <td>0.7</td>\n      <td>3.0</td>\n      <td>-1.0</td>\n      <td>93</td>\n    </tr>\n    <tr>\n      <th rowspan=\"2\" valign=\"top\">2</th>\n      <th>87</th>\n      <td>AK</td>\n      <td>10.1</td>\n      <td>0</td>\n      <td>10.8</td>\n      <td>0</td>\n      <td>0</td>\n      <td>NaN</td>\n      <td>NaN</td>\n      <td>NaN</td>\n      <td>NaN</td>\n      <td>NaN</td>\n      <td>87</td>\n    </tr>\n    <tr>\n      <th>90</th>\n      <td>AK</td>\n      <td>7.5</td>\n      <td>0</td>\n      <td>6.9</td>\n      <td>1</td>\n      <td>0</td>\n      <td>-2.6</td>\n      <td>0.0</td>\n      <td>-3.9</td>\n      <td>NaN</td>\n      <td>NaN</td>\n      <td>90</td>\n    </tr>\n    <tr>\n      <th>...</th>\n      <th>...</th>\n      <td>...</td>\n      <td>...</td>\n      <td>...</td>\n      <td>...</td>\n      <td>...</td>\n      <td>...</td>\n      <td>...</td>\n      <td>...</td>\n      <td>...</td>\n      <td>...</td>\n      <td>...</td>\n      <td>...</td>\n    </tr>\n    <tr>\n      <th rowspan=\"2\" valign=\"top\">50</th>\n      <th>90</th>\n      <td>WI</td>\n      <td>4.6</td>\n      <td>0</td>\n      <td>4.4</td>\n      <td>1</td>\n      <td>0</td>\n      <td>1.1</td>\n      <td>0.0</td>\n      <td>-1.7</td>\n      <td>NaN</td>\n      <td>NaN</td>\n      <td>90</td>\n    </tr>\n    <tr>\n      <th>93</th>\n      <td>WI</td>\n      <td>4.4</td>\n      <td>0</td>\n      <td>4.7</td>\n      <td>0</td>\n      <td>1</td>\n      <td>-0.2</td>\n      <td>0.0</td>\n      <td>0.3</td>\n      <td>0.0</td>\n      <td>-1.7</td>\n      <td>93</td>\n    </tr>\n    <tr>\n      <th rowspan=\"3\" valign=\"top\">51</th>\n      <th>87</th>\n      <td>WY</td>\n      <td>2.0</td>\n      <td>0</td>\n      <td>8.6</td>\n      <td>0</td>\n      <td>0</td>\n      <td>NaN</td>\n      <td>NaN</td>\n      <td>NaN</td>\n      <td>NaN</td>\n      <td>NaN</td>\n      <td>87</td>\n    </tr>\n    <tr>\n      <th>90</th>\n      <td>WY</td>\n      <td>4.9</td>\n      <td>0</td>\n      <td>5.4</td>\n      <td>1</td>\n      <td>0</td>\n      <td>2.9</td>\n      <td>0.0</td>\n      <td>-3.2</td>\n      <td>NaN</td>\n      <td>NaN</td>\n      <td>90</td>\n    </tr>\n    <tr>\n      <th>93</th>\n      <td>WY</td>\n      <td>3.4</td>\n      <td>1</td>\n      <td>5.4</td>\n      <td>0</td>\n      <td>1</td>\n      <td>-1.5</td>\n      <td>1.0</td>\n      <td>0.0</td>\n      <td>0.0</td>\n      <td>-3.2</td>\n      <td>93</td>\n    </tr>\n  </tbody>\n</table>\n<p>153 rows × 12 columns</p>\n</div>"
     },
     "metadata": {},
     "execution_count": 215
    }
   ],
   "source": [
    "Arrumar_Painel()"
   ]
  },
  {
   "cell_type": "code",
   "execution_count": 219,
   "metadata": {},
   "outputs": [
    {
     "output_type": "stream",
     "name": "stdout",
     "text": [
      "                          PooledOLS Estimation Summary                          \n================================================================================\nDep. Variable:                 mrdrte   R-squared:                        0.1016\nEstimator:                  PooledOLS   R-squared (Between):              0.1167\nNo. Observations:                 102   R-squared (Within):              -5.0117\nDate:                Sat, Mar 13 2021   R-squared (Overall):              0.1016\nTime:                        16:01:06   Log-likelihood                   -379.81\nCov. Estimator:                Robust                                           \n                                        F-statistic:                      3.6947\nEntities:                          51   P-value                           0.0144\nAvg Obs:                       2.0000   Distribution:                    F(3,98)\nMin Obs:                       2.0000                                           \nMax Obs:                       2.0000   F-statistic (robust):             10.744\n                                        P-value                           0.0000\nTime periods:                       3   Distribution:                    F(3,98)\nAvg Obs:                       34.000                                           \nMin Obs:                       0.0000                                           \nMax Obs:                       51.000                                           \n                                                                                \n                             Parameter Estimates                              \n==============================================================================\n            Parameter  Std. Err.     T-stat    P-value    Lower CI    Upper CI\n------------------------------------------------------------------------------\nconst         -5.2780     5.3868    -0.9798     0.3296     -15.968      5.4119\nd93           -2.0674     1.9981    -1.0347     0.3034     -6.0326      1.8978\nexec           0.1277     0.1342     0.9515     0.3437     -0.1387      0.3941\nunem           2.5289     1.1076     2.2833     0.0246      0.3310      4.7268\n==============================================================================\n"
     ]
    }
   ],
   "source": [
    "## estimando o modelo por MQO agrupado com erros robustos com os dados de 1990 e 1993, que mostra que não há indícios do efeito de pernas de morte sobre a criminalidade\n",
    "\n",
    "df_s_87 = df.loc[df['year'] != 87]\n",
    "\n",
    "x = df_s_87[['d93','exec','unem']]\n",
    "y = df_s_87['mrdrte']\n",
    "\n",
    "Reg_Painel_MQO_Agrupado(x,y)"
   ]
  },
  {
   "cell_type": "code",
   "execution_count": 220,
   "metadata": {},
   "outputs": [
    {
     "output_type": "stream",
     "name": "stdout",
     "text": [
      "                          PanelOLS Estimation Summary                           \n================================================================================\nDep. Variable:                 mrdrte   R-squared:                        0.1653\nEstimator:                   PanelOLS   R-squared (Between):             -0.0127\nNo. Observations:                 102   R-squared (Within):               0.1653\nDate:                Sat, Mar 13 2021   R-squared (Overall):             -0.0122\nTime:                        16:01:07   Log-likelihood                   -78.684\nCov. Estimator:                Robust                                           \n                                        F-statistic:                      3.1694\nEntities:                          51   P-value                           0.0326\nAvg Obs:                       2.0000   Distribution:                    F(3,48)\nMin Obs:                       2.0000                                           \nMax Obs:                       2.0000   F-statistic (robust):             13.520\n                                        P-value                           0.0000\nTime periods:                       3   Distribution:                    F(3,48)\nAvg Obs:                       34.000                                           \nMin Obs:                       0.0000                                           \nMax Obs:                       51.000                                           \n                                                                                \n                             Parameter Estimates                              \n==============================================================================\n            Parameter  Std. Err.     T-stat    P-value    Lower CI    Upper CI\n------------------------------------------------------------------------------\nconst          8.8950     0.7999     11.121     0.0000      7.2868      10.503\nd93            0.4133     0.2000     2.0663     0.0442      0.0111      0.8154\nexec          -0.1038     0.0170    -6.1084     0.0000     -0.1380     -0.0697\nunem          -0.0666     0.1469    -0.4532     0.6524     -0.3620      0.2288\n==============================================================================\n\nF-test for Poolability: 351.02\nP-value: 0.0000\nDistribution: F(50,48)\n\nIncluded effects: Entity\n"
     ]
    }
   ],
   "source": [
    "## estimando o modelo por EF, há um efeito negativo de exec sobre a taxa de mortalidade;\n",
    "# isso ocorre porque as estimativas de MQOA são viesadas em virtude da correlação entre efeitos não-observados dos estados (como cultura, armas...) e as var. explicativas\n",
    "Reg_Painel_Efeitos_Fixos(x,y, cov='robust')"
   ]
  },
  {
   "cell_type": "code",
   "execution_count": 229,
   "metadata": {},
   "outputs": [
    {
     "output_type": "execute_result",
     "data": {
      "text/plain": [
       "Text(0.5, 1.0, 'Distribuição do número de execuções entre 1990 e 1993')"
      ]
     },
     "metadata": {},
     "execution_count": 229
    },
    {
     "output_type": "display_data",
     "data": {
      "text/plain": "<Figure size 720x360 with 1 Axes>",
      "image/svg+xml": "<?xml version=\"1.0\" encoding=\"utf-8\" standalone=\"no\"?>\n<!DOCTYPE svg PUBLIC \"-//W3C//DTD SVG 1.1//EN\"\n  \"http://www.w3.org/Graphics/SVG/1.1/DTD/svg11.dtd\">\n<!-- Created with matplotlib (https://matplotlib.org/) -->\n<svg height=\"331.9725pt\" version=\"1.1\" viewBox=\"0 0 605.803125 331.9725\" width=\"605.803125pt\" xmlns=\"http://www.w3.org/2000/svg\" xmlns:xlink=\"http://www.w3.org/1999/xlink\">\n <defs>\n  <style type=\"text/css\">\n*{stroke-linecap:butt;stroke-linejoin:round;}\n  </style>\n </defs>\n <g id=\"figure_1\">\n  <g id=\"patch_1\">\n   <path d=\"M 0 331.9725 \nL 605.803125 331.9725 \nL 605.803125 0 \nL 0 0 \nz\n\" style=\"fill:none;\"/>\n  </g>\n  <g id=\"axes_1\">\n   <g id=\"patch_2\">\n    <path d=\"M 40.603125 294.41625 \nL 598.603125 294.41625 \nL 598.603125 22.61625 \nL 40.603125 22.61625 \nz\n\" style=\"fill:#ffffff;\"/>\n   </g>\n   <g id=\"patch_3\">\n    <path clip-path=\"url(#p02649a6766)\" d=\"M 44.090625 294.41625 \nL 71.990625 294.41625 \nL 71.990625 35.559107 \nL 44.090625 35.559107 \nz\n\" style=\"fill:#353d42;\"/>\n   </g>\n   <g id=\"patch_4\">\n    <path clip-path=\"url(#p02649a6766)\" d=\"M 78.965625 294.41625 \nL 106.865625 294.41625 \nL 106.865625 210.668351 \nL 78.965625 210.668351 \nz\n\" style=\"fill:#384650;\"/>\n   </g>\n   <g id=\"patch_5\">\n    <path clip-path=\"url(#p02649a6766)\" d=\"M 113.840625 294.41625 \nL 141.740625 294.41625 \nL 141.740625 241.122132 \nL 113.840625 241.122132 \nz\n\" style=\"fill:#3a505f;\"/>\n   </g>\n   <g id=\"patch_6\">\n    <path clip-path=\"url(#p02649a6766)\" d=\"M 148.715625 294.41625 \nL 176.615625 294.41625 \nL 176.615625 248.735578 \nL 148.715625 248.735578 \nz\n\" style=\"fill:#3d596d;\"/>\n   </g>\n   <g id=\"patch_7\">\n    <path clip-path=\"url(#p02649a6766)\" d=\"M 183.590625 294.41625 \nL 211.490625 294.41625 \nL 211.490625 271.575914 \nL 183.590625 271.575914 \nz\n\" style=\"fill:#3f637c;\"/>\n   </g>\n   <g id=\"patch_8\">\n    <path clip-path=\"url(#p02649a6766)\" d=\"M 218.465625 294.41625 \nL 246.365625 294.41625 \nL 246.365625 271.575914 \nL 218.465625 271.575914 \nz\n\" style=\"fill:#426c8b;\"/>\n   </g>\n   <g id=\"patch_9\">\n    <path clip-path=\"url(#p02649a6766)\" d=\"M 253.340625 294.41625 \nL 281.240625 294.41625 \nL 281.240625 279.189359 \nL 253.340625 279.189359 \nz\n\" style=\"fill:#447699;\"/>\n   </g>\n   <g id=\"patch_10\">\n    <path clip-path=\"url(#p02649a6766)\" d=\"M 288.215625 294.41625 \nL 316.115625 294.41625 \nL 316.115625 279.189359 \nL 288.215625 279.189359 \nz\n\" style=\"fill:#477fa8;\"/>\n   </g>\n   <g id=\"patch_11\">\n    <path clip-path=\"url(#p02649a6766)\" d=\"M 323.090625 294.41625 \nL 350.990625 294.41625 \nL 350.990625 279.189359 \nL 323.090625 279.189359 \nz\n\" style=\"fill:#4e89b2;\"/>\n   </g>\n   <g id=\"patch_12\">\n    <path clip-path=\"url(#p02649a6766)\" d=\"M 357.965625 294.41625 \nL 385.865625 294.41625 \nL 385.865625 279.189359 \nL 357.965625 279.189359 \nz\n\" style=\"fill:#5b91b7;\"/>\n   </g>\n   <g id=\"patch_13\">\n    <path clip-path=\"url(#p02649a6766)\" d=\"M 392.840625 294.41625 \nL 420.740625 294.41625 \nL 420.740625 279.189359 \nL 392.840625 279.189359 \nz\n\" style=\"fill:#679abd;\"/>\n   </g>\n   <g id=\"patch_14\">\n    <path clip-path=\"url(#p02649a6766)\" d=\"M 427.715625 294.41625 \nL 455.615625 294.41625 \nL 455.615625 279.189359 \nL 427.715625 279.189359 \nz\n\" style=\"fill:#74a3c3;\"/>\n   </g>\n   <g id=\"patch_15\">\n    <path clip-path=\"url(#p02649a6766)\" d=\"M 462.590625 294.41625 \nL 490.490625 294.41625 \nL 490.490625 286.802805 \nL 462.590625 286.802805 \nz\n\" style=\"fill:#81abc8;\"/>\n   </g>\n   <g id=\"patch_16\">\n    <path clip-path=\"url(#p02649a6766)\" d=\"M 497.465625 294.41625 \nL 525.365625 294.41625 \nL 525.365625 286.802805 \nL 497.465625 286.802805 \nz\n\" style=\"fill:#8db4ce;\"/>\n   </g>\n   <g id=\"patch_17\">\n    <path clip-path=\"url(#p02649a6766)\" d=\"M 532.340625 294.41625 \nL 560.240625 294.41625 \nL 560.240625 286.802805 \nL 532.340625 286.802805 \nz\n\" style=\"fill:#9abdd3;\"/>\n   </g>\n   <g id=\"patch_18\">\n    <path clip-path=\"url(#p02649a6766)\" d=\"M 567.215625 294.41625 \nL 595.115625 294.41625 \nL 595.115625 286.802805 \nL 567.215625 286.802805 \nz\n\" style=\"fill:#a6c5d9;\"/>\n   </g>\n   <g id=\"matplotlib.axis_1\">\n    <g id=\"xtick_1\">\n     <g id=\"line2d_1\">\n      <defs>\n       <path d=\"M 0 0 \nL 0 3.5 \n\" id=\"mf4c475a4a7\" style=\"stroke:#000000;stroke-width:0.8;\"/>\n      </defs>\n      <g>\n       <use style=\"stroke:#000000;stroke-width:0.8;\" x=\"58.040625\" xlink:href=\"#mf4c475a4a7\" y=\"294.41625\"/>\n      </g>\n     </g>\n     <g id=\"text_1\">\n      <!-- TX -->\n      <defs>\n       <path d=\"M -0.296875 72.90625 \nL 61.375 72.90625 \nL 61.375 64.59375 \nL 35.5 64.59375 \nL 35.5 0 \nL 25.59375 0 \nL 25.59375 64.59375 \nL -0.296875 64.59375 \nz\n\" id=\"DejaVuSans-84\"/>\n       <path d=\"M 6.296875 72.90625 \nL 16.890625 72.90625 \nL 35.015625 45.796875 \nL 53.21875 72.90625 \nL 63.8125 72.90625 \nL 40.375 37.890625 \nL 65.375 0 \nL 54.78125 0 \nL 34.28125 31 \nL 13.625 0 \nL 2.984375 0 \nL 29 38.921875 \nz\n\" id=\"DejaVuSans-88\"/>\n      </defs>\n      <g transform=\"translate(51.561719 309.014687)scale(0.1 -0.1)\">\n       <use xlink:href=\"#DejaVuSans-84\"/>\n       <use x=\"61.083984\" xlink:href=\"#DejaVuSans-88\"/>\n      </g>\n     </g>\n    </g>\n    <g id=\"xtick_2\">\n     <g id=\"line2d_2\">\n      <g>\n       <use style=\"stroke:#000000;stroke-width:0.8;\" x=\"92.915625\" xlink:href=\"#mf4c475a4a7\" y=\"294.41625\"/>\n      </g>\n     </g>\n     <g id=\"text_2\">\n      <!-- VA -->\n      <defs>\n       <path d=\"M 28.609375 0 \nL 0.78125 72.90625 \nL 11.078125 72.90625 \nL 34.1875 11.53125 \nL 57.328125 72.90625 \nL 67.578125 72.90625 \nL 39.796875 0 \nz\n\" id=\"DejaVuSans-86\"/>\n       <path d=\"M 34.1875 63.1875 \nL 20.796875 26.90625 \nL 47.609375 26.90625 \nz\nM 28.609375 72.90625 \nL 39.796875 72.90625 \nL 67.578125 0 \nL 57.328125 0 \nL 50.6875 18.703125 \nL 17.828125 18.703125 \nL 11.1875 0 \nL 0.78125 0 \nz\n\" id=\"DejaVuSans-65\"/>\n      </defs>\n      <g transform=\"translate(86.079687 309.014687)scale(0.1 -0.1)\">\n       <use xlink:href=\"#DejaVuSans-86\"/>\n       <use x=\"68.314453\" xlink:href=\"#DejaVuSans-65\"/>\n      </g>\n     </g>\n    </g>\n    <g id=\"xtick_3\">\n     <g id=\"line2d_3\">\n      <g>\n       <use style=\"stroke:#000000;stroke-width:0.8;\" x=\"127.790625\" xlink:href=\"#mf4c475a4a7\" y=\"294.41625\"/>\n      </g>\n     </g>\n     <g id=\"text_3\">\n      <!-- FL -->\n      <defs>\n       <path d=\"M 9.8125 72.90625 \nL 51.703125 72.90625 \nL 51.703125 64.59375 \nL 19.671875 64.59375 \nL 19.671875 43.109375 \nL 48.578125 43.109375 \nL 48.578125 34.8125 \nL 19.671875 34.8125 \nL 19.671875 0 \nL 9.8125 0 \nz\n\" id=\"DejaVuSans-70\"/>\n       <path d=\"M 9.8125 72.90625 \nL 19.671875 72.90625 \nL 19.671875 8.296875 \nL 55.171875 8.296875 \nL 55.171875 0 \nL 9.8125 0 \nz\n\" id=\"DejaVuSans-76\"/>\n      </defs>\n      <g transform=\"translate(122.128906 309.014687)scale(0.1 -0.1)\">\n       <use xlink:href=\"#DejaVuSans-70\"/>\n       <use x=\"57.519531\" xlink:href=\"#DejaVuSans-76\"/>\n      </g>\n     </g>\n    </g>\n    <g id=\"xtick_4\">\n     <g id=\"line2d_4\">\n      <g>\n       <use style=\"stroke:#000000;stroke-width:0.8;\" x=\"162.665625\" xlink:href=\"#mf4c475a4a7\" y=\"294.41625\"/>\n      </g>\n     </g>\n     <g id=\"text_4\">\n      <!-- MO -->\n      <defs>\n       <path d=\"M 9.8125 72.90625 \nL 24.515625 72.90625 \nL 43.109375 23.296875 \nL 61.8125 72.90625 \nL 76.515625 72.90625 \nL 76.515625 0 \nL 66.890625 0 \nL 66.890625 64.015625 \nL 48.09375 14.015625 \nL 38.1875 14.015625 \nL 19.390625 64.015625 \nL 19.390625 0 \nL 9.8125 0 \nz\n\" id=\"DejaVuSans-77\"/>\n       <path d=\"M 39.40625 66.21875 \nQ 28.65625 66.21875 22.328125 58.203125 \nQ 16.015625 50.203125 16.015625 36.375 \nQ 16.015625 22.609375 22.328125 14.59375 \nQ 28.65625 6.59375 39.40625 6.59375 \nQ 50.140625 6.59375 56.421875 14.59375 \nQ 62.703125 22.609375 62.703125 36.375 \nQ 62.703125 50.203125 56.421875 58.203125 \nQ 50.140625 66.21875 39.40625 66.21875 \nz\nM 39.40625 74.21875 \nQ 54.734375 74.21875 63.90625 63.9375 \nQ 73.09375 53.65625 73.09375 36.375 \nQ 73.09375 19.140625 63.90625 8.859375 \nQ 54.734375 -1.421875 39.40625 -1.421875 \nQ 24.03125 -1.421875 14.8125 8.828125 \nQ 5.609375 19.09375 5.609375 36.375 \nQ 5.609375 53.65625 14.8125 63.9375 \nQ 24.03125 74.21875 39.40625 74.21875 \nz\n\" id=\"DejaVuSans-79\"/>\n      </defs>\n      <g transform=\"translate(154.415625 309.014687)scale(0.1 -0.1)\">\n       <use xlink:href=\"#DejaVuSans-77\"/>\n       <use x=\"86.279297\" xlink:href=\"#DejaVuSans-79\"/>\n      </g>\n     </g>\n    </g>\n    <g id=\"xtick_5\">\n     <g id=\"line2d_5\">\n      <g>\n       <use style=\"stroke:#000000;stroke-width:0.8;\" x=\"197.540625\" xlink:href=\"#mf4c475a4a7\" y=\"294.41625\"/>\n      </g>\n     </g>\n     <g id=\"text_5\">\n      <!-- AZ -->\n      <defs>\n       <path d=\"M 5.609375 72.90625 \nL 62.890625 72.90625 \nL 62.890625 65.375 \nL 16.796875 8.296875 \nL 64.015625 8.296875 \nL 64.015625 0 \nL 4.5 0 \nL 4.5 7.515625 \nL 50.59375 64.59375 \nL 5.609375 64.59375 \nz\n\" id=\"DejaVuSans-90\"/>\n      </defs>\n      <g transform=\"translate(190.695312 309.014687)scale(0.1 -0.1)\">\n       <use xlink:href=\"#DejaVuSans-65\"/>\n       <use x=\"68.408203\" xlink:href=\"#DejaVuSans-90\"/>\n      </g>\n     </g>\n    </g>\n    <g id=\"xtick_6\">\n     <g id=\"line2d_6\">\n      <g>\n       <use style=\"stroke:#000000;stroke-width:0.8;\" x=\"232.415625\" xlink:href=\"#mf4c475a4a7\" y=\"294.41625\"/>\n      </g>\n     </g>\n     <g id=\"text_6\">\n      <!-- GA -->\n      <defs>\n       <path d=\"M 59.515625 10.40625 \nL 59.515625 29.984375 \nL 43.40625 29.984375 \nL 43.40625 38.09375 \nL 69.28125 38.09375 \nL 69.28125 6.78125 \nQ 63.578125 2.734375 56.6875 0.65625 \nQ 49.8125 -1.421875 42 -1.421875 \nQ 24.90625 -1.421875 15.25 8.5625 \nQ 5.609375 18.5625 5.609375 36.375 \nQ 5.609375 54.25 15.25 64.234375 \nQ 24.90625 74.21875 42 74.21875 \nQ 49.125 74.21875 55.546875 72.453125 \nQ 61.96875 70.703125 67.390625 67.28125 \nL 67.390625 56.78125 \nQ 61.921875 61.421875 55.765625 63.765625 \nQ 49.609375 66.109375 42.828125 66.109375 \nQ 29.4375 66.109375 22.71875 58.640625 \nQ 16.015625 51.171875 16.015625 36.375 \nQ 16.015625 21.625 22.71875 14.15625 \nQ 29.4375 6.6875 42.828125 6.6875 \nQ 48.046875 6.6875 52.140625 7.59375 \nQ 56.25 8.5 59.515625 10.40625 \nz\n\" id=\"DejaVuSans-71\"/>\n      </defs>\n      <g transform=\"translate(225.121094 309.014687)scale(0.1 -0.1)\">\n       <use xlink:href=\"#DejaVuSans-71\"/>\n       <use x=\"77.490234\" xlink:href=\"#DejaVuSans-65\"/>\n      </g>\n     </g>\n    </g>\n    <g id=\"xtick_7\">\n     <g id=\"line2d_7\">\n      <g>\n       <use style=\"stroke:#000000;stroke-width:0.8;\" x=\"267.290625\" xlink:href=\"#mf4c475a4a7\" y=\"294.41625\"/>\n      </g>\n     </g>\n     <g id=\"text_7\">\n      <!-- AL -->\n      <g transform=\"translate(261.084375 309.014687)scale(0.1 -0.1)\">\n       <use xlink:href=\"#DejaVuSans-65\"/>\n       <use x=\"68.408203\" xlink:href=\"#DejaVuSans-76\"/>\n      </g>\n     </g>\n    </g>\n    <g id=\"xtick_8\">\n     <g id=\"line2d_8\">\n      <g>\n       <use style=\"stroke:#000000;stroke-width:0.8;\" x=\"302.165625\" xlink:href=\"#mf4c475a4a7\" y=\"294.41625\"/>\n      </g>\n     </g>\n     <g id=\"text_8\">\n      <!-- AR -->\n      <defs>\n       <path d=\"M 44.390625 34.1875 \nQ 47.5625 33.109375 50.5625 29.59375 \nQ 53.5625 26.078125 56.59375 19.921875 \nL 66.609375 0 \nL 56 0 \nL 46.6875 18.703125 \nQ 43.0625 26.03125 39.671875 28.421875 \nQ 36.28125 30.8125 30.421875 30.8125 \nL 19.671875 30.8125 \nL 19.671875 0 \nL 9.8125 0 \nL 9.8125 72.90625 \nL 32.078125 72.90625 \nQ 44.578125 72.90625 50.734375 67.671875 \nQ 56.890625 62.453125 56.890625 51.90625 \nQ 56.890625 45.015625 53.6875 40.46875 \nQ 50.484375 35.9375 44.390625 34.1875 \nz\nM 19.671875 64.796875 \nL 19.671875 38.921875 \nL 32.078125 38.921875 \nQ 39.203125 38.921875 42.84375 42.21875 \nQ 46.484375 45.515625 46.484375 51.90625 \nQ 46.484375 58.296875 42.84375 61.546875 \nQ 39.203125 64.796875 32.078125 64.796875 \nz\n\" id=\"DejaVuSans-82\"/>\n      </defs>\n      <g transform=\"translate(295.271094 309.014687)scale(0.1 -0.1)\">\n       <use xlink:href=\"#DejaVuSans-65\"/>\n       <use x=\"68.408203\" xlink:href=\"#DejaVuSans-82\"/>\n      </g>\n     </g>\n    </g>\n    <g id=\"xtick_9\">\n     <g id=\"line2d_9\">\n      <g>\n       <use style=\"stroke:#000000;stroke-width:0.8;\" x=\"337.040625\" xlink:href=\"#mf4c475a4a7\" y=\"294.41625\"/>\n      </g>\n     </g>\n     <g id=\"text_9\">\n      <!-- CA -->\n      <defs>\n       <path d=\"M 64.40625 67.28125 \nL 64.40625 56.890625 \nQ 59.421875 61.53125 53.78125 63.8125 \nQ 48.140625 66.109375 41.796875 66.109375 \nQ 29.296875 66.109375 22.65625 58.46875 \nQ 16.015625 50.828125 16.015625 36.375 \nQ 16.015625 21.96875 22.65625 14.328125 \nQ 29.296875 6.6875 41.796875 6.6875 \nQ 48.140625 6.6875 53.78125 8.984375 \nQ 59.421875 11.28125 64.40625 15.921875 \nL 64.40625 5.609375 \nQ 59.234375 2.09375 53.4375 0.328125 \nQ 47.65625 -1.421875 41.21875 -1.421875 \nQ 24.65625 -1.421875 15.125 8.703125 \nQ 5.609375 18.84375 5.609375 36.375 \nQ 5.609375 53.953125 15.125 64.078125 \nQ 24.65625 74.21875 41.21875 74.21875 \nQ 47.75 74.21875 53.53125 72.484375 \nQ 59.328125 70.75 64.40625 67.28125 \nz\n\" id=\"DejaVuSans-67\"/>\n      </defs>\n      <g transform=\"translate(330.128906 309.014687)scale(0.1 -0.1)\">\n       <use xlink:href=\"#DejaVuSans-67\"/>\n       <use x=\"69.824219\" xlink:href=\"#DejaVuSans-65\"/>\n      </g>\n     </g>\n    </g>\n    <g id=\"xtick_10\">\n     <g id=\"line2d_10\">\n      <g>\n       <use style=\"stroke:#000000;stroke-width:0.8;\" x=\"371.915625\" xlink:href=\"#mf4c475a4a7\" y=\"294.41625\"/>\n      </g>\n     </g>\n     <g id=\"text_10\">\n      <!-- LA -->\n      <g transform=\"translate(365.707812 309.014687)scale(0.1 -0.1)\">\n       <use xlink:href=\"#DejaVuSans-76\"/>\n       <use x=\"55.744141\" xlink:href=\"#DejaVuSans-65\"/>\n      </g>\n     </g>\n    </g>\n    <g id=\"xtick_11\">\n     <g id=\"line2d_11\">\n      <g>\n       <use style=\"stroke:#000000;stroke-width:0.8;\" x=\"406.790625\" xlink:href=\"#mf4c475a4a7\" y=\"294.41625\"/>\n      </g>\n     </g>\n     <g id=\"text_11\">\n      <!-- NC -->\n      <defs>\n       <path d=\"M 9.8125 72.90625 \nL 23.09375 72.90625 \nL 55.421875 11.921875 \nL 55.421875 72.90625 \nL 64.984375 72.90625 \nL 64.984375 0 \nL 51.703125 0 \nL 19.390625 60.984375 \nL 19.390625 0 \nL 9.8125 0 \nz\n\" id=\"DejaVuSans-78\"/>\n      </defs>\n      <g transform=\"translate(399.558594 309.014687)scale(0.1 -0.1)\">\n       <use xlink:href=\"#DejaVuSans-78\"/>\n       <use x=\"74.804688\" xlink:href=\"#DejaVuSans-67\"/>\n      </g>\n     </g>\n    </g>\n    <g id=\"xtick_12\">\n     <g id=\"line2d_12\">\n      <g>\n       <use style=\"stroke:#000000;stroke-width:0.8;\" x=\"441.665625\" xlink:href=\"#mf4c475a4a7\" y=\"294.41625\"/>\n      </g>\n     </g>\n     <g id=\"text_12\">\n      <!-- OK -->\n      <defs>\n       <path d=\"M 9.8125 72.90625 \nL 19.671875 72.90625 \nL 19.671875 42.09375 \nL 52.390625 72.90625 \nL 65.09375 72.90625 \nL 28.90625 38.921875 \nL 67.671875 0 \nL 54.6875 0 \nL 19.671875 35.109375 \nL 19.671875 0 \nL 9.8125 0 \nz\n\" id=\"DejaVuSans-75\"/>\n      </defs>\n      <g transform=\"translate(434.450781 309.014687)scale(0.1 -0.1)\">\n       <use xlink:href=\"#DejaVuSans-79\"/>\n       <use x=\"78.710938\" xlink:href=\"#DejaVuSans-75\"/>\n      </g>\n     </g>\n    </g>\n    <g id=\"xtick_13\">\n     <g id=\"line2d_13\">\n      <g>\n       <use style=\"stroke:#000000;stroke-width:0.8;\" x=\"476.540625\" xlink:href=\"#mf4c475a4a7\" y=\"294.41625\"/>\n      </g>\n     </g>\n     <g id=\"text_13\">\n      <!-- SC -->\n      <defs>\n       <path d=\"M 53.515625 70.515625 \nL 53.515625 60.890625 \nQ 47.90625 63.578125 42.921875 64.890625 \nQ 37.9375 66.21875 33.296875 66.21875 \nQ 25.25 66.21875 20.875 63.09375 \nQ 16.5 59.96875 16.5 54.203125 \nQ 16.5 49.359375 19.40625 46.890625 \nQ 22.3125 44.4375 30.421875 42.921875 \nL 36.375 41.703125 \nQ 47.40625 39.59375 52.65625 34.296875 \nQ 57.90625 29 57.90625 20.125 \nQ 57.90625 9.515625 50.796875 4.046875 \nQ 43.703125 -1.421875 29.984375 -1.421875 \nQ 24.8125 -1.421875 18.96875 -0.25 \nQ 13.140625 0.921875 6.890625 3.21875 \nL 6.890625 13.375 \nQ 12.890625 10.015625 18.65625 8.296875 \nQ 24.421875 6.59375 29.984375 6.59375 \nQ 38.421875 6.59375 43.015625 9.90625 \nQ 47.609375 13.234375 47.609375 19.390625 \nQ 47.609375 24.75 44.3125 27.78125 \nQ 41.015625 30.8125 33.5 32.328125 \nL 27.484375 33.5 \nQ 16.453125 35.6875 11.515625 40.375 \nQ 6.59375 45.0625 6.59375 53.421875 \nQ 6.59375 63.09375 13.40625 68.65625 \nQ 20.21875 74.21875 32.171875 74.21875 \nQ 37.3125 74.21875 42.625 73.28125 \nQ 47.953125 72.359375 53.515625 70.515625 \nz\n\" id=\"DejaVuSans-83\"/>\n      </defs>\n      <g transform=\"translate(469.875 309.014687)scale(0.1 -0.1)\">\n       <use xlink:href=\"#DejaVuSans-83\"/>\n       <use x=\"63.476562\" xlink:href=\"#DejaVuSans-67\"/>\n      </g>\n     </g>\n    </g>\n    <g id=\"xtick_14\">\n     <g id=\"line2d_14\">\n      <g>\n       <use style=\"stroke:#000000;stroke-width:0.8;\" x=\"511.415625\" xlink:href=\"#mf4c475a4a7\" y=\"294.41625\"/>\n      </g>\n     </g>\n     <g id=\"text_14\">\n      <!-- UT -->\n      <defs>\n       <path d=\"M 8.6875 72.90625 \nL 18.609375 72.90625 \nL 18.609375 28.609375 \nQ 18.609375 16.890625 22.84375 11.734375 \nQ 27.09375 6.59375 36.625 6.59375 \nQ 46.09375 6.59375 50.34375 11.734375 \nQ 54.59375 16.890625 54.59375 28.609375 \nL 54.59375 72.90625 \nL 64.5 72.90625 \nL 64.5 27.390625 \nQ 64.5 13.140625 57.4375 5.859375 \nQ 50.390625 -1.421875 36.625 -1.421875 \nQ 22.796875 -1.421875 15.734375 5.859375 \nQ 8.6875 13.140625 8.6875 27.390625 \nz\n\" id=\"DejaVuSans-85\"/>\n      </defs>\n      <g transform=\"translate(504.702344 309.014687)scale(0.1 -0.1)\">\n       <use xlink:href=\"#DejaVuSans-85\"/>\n       <use x=\"73.193359\" xlink:href=\"#DejaVuSans-84\"/>\n      </g>\n     </g>\n    </g>\n    <g id=\"xtick_15\">\n     <g id=\"line2d_15\">\n      <g>\n       <use style=\"stroke:#000000;stroke-width:0.8;\" x=\"546.290625\" xlink:href=\"#mf4c475a4a7\" y=\"294.41625\"/>\n      </g>\n     </g>\n     <g id=\"text_15\">\n      <!-- WA -->\n      <defs>\n       <path d=\"M 3.328125 72.90625 \nL 13.28125 72.90625 \nL 28.609375 11.28125 \nL 43.890625 72.90625 \nL 54.984375 72.90625 \nL 70.3125 11.28125 \nL 85.59375 72.90625 \nL 95.609375 72.90625 \nL 77.296875 0 \nL 64.890625 0 \nL 49.515625 63.28125 \nL 33.984375 0 \nL 21.578125 0 \nz\n\" id=\"DejaVuSans-87\"/>\n      </defs>\n      <g transform=\"translate(537.930469 309.014687)scale(0.1 -0.1)\">\n       <use xlink:href=\"#DejaVuSans-87\"/>\n       <use x=\"98.798828\" xlink:href=\"#DejaVuSans-65\"/>\n      </g>\n     </g>\n    </g>\n    <g id=\"xtick_16\">\n     <g id=\"line2d_16\">\n      <g>\n       <use style=\"stroke:#000000;stroke-width:0.8;\" x=\"581.165625\" xlink:href=\"#mf4c475a4a7\" y=\"294.41625\"/>\n      </g>\n     </g>\n     <g id=\"text_16\">\n      <!-- WY -->\n      <defs>\n       <path d=\"M -0.203125 72.90625 \nL 10.40625 72.90625 \nL 30.609375 42.921875 \nL 50.6875 72.90625 \nL 61.28125 72.90625 \nL 35.5 34.71875 \nL 35.5 0 \nL 25.59375 0 \nL 25.59375 34.71875 \nz\n\" id=\"DejaVuSans-89\"/>\n      </defs>\n      <g transform=\"translate(573.167969 309.014687)scale(0.1 -0.1)\">\n       <use xlink:href=\"#DejaVuSans-87\"/>\n       <use x=\"98.876953\" xlink:href=\"#DejaVuSans-89\"/>\n      </g>\n     </g>\n    </g>\n    <g id=\"text_17\">\n     <!-- state -->\n     <defs>\n      <path d=\"M 44.28125 53.078125 \nL 44.28125 44.578125 \nQ 40.484375 46.53125 36.375 47.5 \nQ 32.28125 48.484375 27.875 48.484375 \nQ 21.1875 48.484375 17.84375 46.4375 \nQ 14.5 44.390625 14.5 40.28125 \nQ 14.5 37.15625 16.890625 35.375 \nQ 19.28125 33.59375 26.515625 31.984375 \nL 29.59375 31.296875 \nQ 39.15625 29.25 43.1875 25.515625 \nQ 47.21875 21.78125 47.21875 15.09375 \nQ 47.21875 7.46875 41.1875 3.015625 \nQ 35.15625 -1.421875 24.609375 -1.421875 \nQ 20.21875 -1.421875 15.453125 -0.5625 \nQ 10.6875 0.296875 5.421875 2 \nL 5.421875 11.28125 \nQ 10.40625 8.6875 15.234375 7.390625 \nQ 20.0625 6.109375 24.8125 6.109375 \nQ 31.15625 6.109375 34.5625 8.28125 \nQ 37.984375 10.453125 37.984375 14.40625 \nQ 37.984375 18.0625 35.515625 20.015625 \nQ 33.0625 21.96875 24.703125 23.78125 \nL 21.578125 24.515625 \nQ 13.234375 26.265625 9.515625 29.90625 \nQ 5.8125 33.546875 5.8125 39.890625 \nQ 5.8125 47.609375 11.28125 51.796875 \nQ 16.75 56 26.8125 56 \nQ 31.78125 56 36.171875 55.265625 \nQ 40.578125 54.546875 44.28125 53.078125 \nz\n\" id=\"DejaVuSans-115\"/>\n      <path d=\"M 18.3125 70.21875 \nL 18.3125 54.6875 \nL 36.8125 54.6875 \nL 36.8125 47.703125 \nL 18.3125 47.703125 \nL 18.3125 18.015625 \nQ 18.3125 11.328125 20.140625 9.421875 \nQ 21.96875 7.515625 27.59375 7.515625 \nL 36.8125 7.515625 \nL 36.8125 0 \nL 27.59375 0 \nQ 17.1875 0 13.234375 3.875 \nQ 9.28125 7.765625 9.28125 18.015625 \nL 9.28125 47.703125 \nL 2.6875 47.703125 \nL 2.6875 54.6875 \nL 9.28125 54.6875 \nL 9.28125 70.21875 \nz\n\" id=\"DejaVuSans-116\"/>\n      <path d=\"M 34.28125 27.484375 \nQ 23.390625 27.484375 19.1875 25 \nQ 14.984375 22.515625 14.984375 16.5 \nQ 14.984375 11.71875 18.140625 8.90625 \nQ 21.296875 6.109375 26.703125 6.109375 \nQ 34.1875 6.109375 38.703125 11.40625 \nQ 43.21875 16.703125 43.21875 25.484375 \nL 43.21875 27.484375 \nz\nM 52.203125 31.203125 \nL 52.203125 0 \nL 43.21875 0 \nL 43.21875 8.296875 \nQ 40.140625 3.328125 35.546875 0.953125 \nQ 30.953125 -1.421875 24.3125 -1.421875 \nQ 15.921875 -1.421875 10.953125 3.296875 \nQ 6 8.015625 6 15.921875 \nQ 6 25.140625 12.171875 29.828125 \nQ 18.359375 34.515625 30.609375 34.515625 \nL 43.21875 34.515625 \nL 43.21875 35.40625 \nQ 43.21875 41.609375 39.140625 45 \nQ 35.0625 48.390625 27.6875 48.390625 \nQ 23 48.390625 18.546875 47.265625 \nQ 14.109375 46.140625 10.015625 43.890625 \nL 10.015625 52.203125 \nQ 14.9375 54.109375 19.578125 55.046875 \nQ 24.21875 56 28.609375 56 \nQ 40.484375 56 46.34375 49.84375 \nQ 52.203125 43.703125 52.203125 31.203125 \nz\n\" id=\"DejaVuSans-97\"/>\n      <path d=\"M 56.203125 29.59375 \nL 56.203125 25.203125 \nL 14.890625 25.203125 \nQ 15.484375 15.921875 20.484375 11.0625 \nQ 25.484375 6.203125 34.421875 6.203125 \nQ 39.59375 6.203125 44.453125 7.46875 \nQ 49.3125 8.734375 54.109375 11.28125 \nL 54.109375 2.78125 \nQ 49.265625 0.734375 44.1875 -0.34375 \nQ 39.109375 -1.421875 33.890625 -1.421875 \nQ 20.796875 -1.421875 13.15625 6.1875 \nQ 5.515625 13.8125 5.515625 26.8125 \nQ 5.515625 40.234375 12.765625 48.109375 \nQ 20.015625 56 32.328125 56 \nQ 43.359375 56 49.78125 48.890625 \nQ 56.203125 41.796875 56.203125 29.59375 \nz\nM 47.21875 32.234375 \nQ 47.125 39.59375 43.09375 43.984375 \nQ 39.0625 48.390625 32.421875 48.390625 \nQ 24.90625 48.390625 20.390625 44.140625 \nQ 15.875 39.890625 15.1875 32.171875 \nz\n\" id=\"DejaVuSans-101\"/>\n     </defs>\n     <g transform=\"translate(306.9375 322.692812)scale(0.1 -0.1)\">\n      <use xlink:href=\"#DejaVuSans-115\"/>\n      <use x=\"52.099609\" xlink:href=\"#DejaVuSans-116\"/>\n      <use x=\"91.308594\" xlink:href=\"#DejaVuSans-97\"/>\n      <use x=\"152.587891\" xlink:href=\"#DejaVuSans-116\"/>\n      <use x=\"191.796875\" xlink:href=\"#DejaVuSans-101\"/>\n     </g>\n    </g>\n   </g>\n   <g id=\"matplotlib.axis_2\">\n    <g id=\"ytick_1\">\n     <g id=\"line2d_17\">\n      <defs>\n       <path d=\"M 0 0 \nL -3.5 0 \n\" id=\"m15636cdc87\" style=\"stroke:#000000;stroke-width:0.8;\"/>\n      </defs>\n      <g>\n       <use style=\"stroke:#000000;stroke-width:0.8;\" x=\"40.603125\" xlink:href=\"#m15636cdc87\" y=\"294.41625\"/>\n      </g>\n     </g>\n     <g id=\"text_18\">\n      <!-- 0 -->\n      <defs>\n       <path d=\"M 31.78125 66.40625 \nQ 24.171875 66.40625 20.328125 58.90625 \nQ 16.5 51.421875 16.5 36.375 \nQ 16.5 21.390625 20.328125 13.890625 \nQ 24.171875 6.390625 31.78125 6.390625 \nQ 39.453125 6.390625 43.28125 13.890625 \nQ 47.125 21.390625 47.125 36.375 \nQ 47.125 51.421875 43.28125 58.90625 \nQ 39.453125 66.40625 31.78125 66.40625 \nz\nM 31.78125 74.21875 \nQ 44.046875 74.21875 50.515625 64.515625 \nQ 56.984375 54.828125 56.984375 36.375 \nQ 56.984375 17.96875 50.515625 8.265625 \nQ 44.046875 -1.421875 31.78125 -1.421875 \nQ 19.53125 -1.421875 13.0625 8.265625 \nQ 6.59375 17.96875 6.59375 36.375 \nQ 6.59375 54.828125 13.0625 64.515625 \nQ 19.53125 74.21875 31.78125 74.21875 \nz\n\" id=\"DejaVuSans-48\"/>\n      </defs>\n      <g transform=\"translate(27.240625 298.215469)scale(0.1 -0.1)\">\n       <use xlink:href=\"#DejaVuSans-48\"/>\n      </g>\n     </g>\n    </g>\n    <g id=\"ytick_2\">\n     <g id=\"line2d_18\">\n      <g>\n       <use style=\"stroke:#000000;stroke-width:0.8;\" x=\"40.603125\" xlink:href=\"#m15636cdc87\" y=\"256.349023\"/>\n      </g>\n     </g>\n     <g id=\"text_19\">\n      <!-- 5 -->\n      <defs>\n       <path d=\"M 10.796875 72.90625 \nL 49.515625 72.90625 \nL 49.515625 64.59375 \nL 19.828125 64.59375 \nL 19.828125 46.734375 \nQ 21.96875 47.46875 24.109375 47.828125 \nQ 26.265625 48.1875 28.421875 48.1875 \nQ 40.625 48.1875 47.75 41.5 \nQ 54.890625 34.8125 54.890625 23.390625 \nQ 54.890625 11.625 47.5625 5.09375 \nQ 40.234375 -1.421875 26.90625 -1.421875 \nQ 22.3125 -1.421875 17.546875 -0.640625 \nQ 12.796875 0.140625 7.71875 1.703125 \nL 7.71875 11.625 \nQ 12.109375 9.234375 16.796875 8.0625 \nQ 21.484375 6.890625 26.703125 6.890625 \nQ 35.15625 6.890625 40.078125 11.328125 \nQ 45.015625 15.765625 45.015625 23.390625 \nQ 45.015625 31 40.078125 35.4375 \nQ 35.15625 39.890625 26.703125 39.890625 \nQ 22.75 39.890625 18.8125 39.015625 \nQ 14.890625 38.140625 10.796875 36.28125 \nz\n\" id=\"DejaVuSans-53\"/>\n      </defs>\n      <g transform=\"translate(27.240625 260.148242)scale(0.1 -0.1)\">\n       <use xlink:href=\"#DejaVuSans-53\"/>\n      </g>\n     </g>\n    </g>\n    <g id=\"ytick_3\">\n     <g id=\"line2d_19\">\n      <g>\n       <use style=\"stroke:#000000;stroke-width:0.8;\" x=\"40.603125\" xlink:href=\"#m15636cdc87\" y=\"218.281796\"/>\n      </g>\n     </g>\n     <g id=\"text_20\">\n      <!-- 10 -->\n      <defs>\n       <path d=\"M 12.40625 8.296875 \nL 28.515625 8.296875 \nL 28.515625 63.921875 \nL 10.984375 60.40625 \nL 10.984375 69.390625 \nL 28.421875 72.90625 \nL 38.28125 72.90625 \nL 38.28125 8.296875 \nL 54.390625 8.296875 \nL 54.390625 0 \nL 12.40625 0 \nz\n\" id=\"DejaVuSans-49\"/>\n      </defs>\n      <g transform=\"translate(20.878125 222.081015)scale(0.1 -0.1)\">\n       <use xlink:href=\"#DejaVuSans-49\"/>\n       <use x=\"63.623047\" xlink:href=\"#DejaVuSans-48\"/>\n      </g>\n     </g>\n    </g>\n    <g id=\"ytick_4\">\n     <g id=\"line2d_20\">\n      <g>\n       <use style=\"stroke:#000000;stroke-width:0.8;\" x=\"40.603125\" xlink:href=\"#m15636cdc87\" y=\"180.214569\"/>\n      </g>\n     </g>\n     <g id=\"text_21\">\n      <!-- 15 -->\n      <g transform=\"translate(20.878125 184.013788)scale(0.1 -0.1)\">\n       <use xlink:href=\"#DejaVuSans-49\"/>\n       <use x=\"63.623047\" xlink:href=\"#DejaVuSans-53\"/>\n      </g>\n     </g>\n    </g>\n    <g id=\"ytick_5\">\n     <g id=\"line2d_21\">\n      <g>\n       <use style=\"stroke:#000000;stroke-width:0.8;\" x=\"40.603125\" xlink:href=\"#m15636cdc87\" y=\"142.147342\"/>\n      </g>\n     </g>\n     <g id=\"text_22\">\n      <!-- 20 -->\n      <defs>\n       <path d=\"M 19.1875 8.296875 \nL 53.609375 8.296875 \nL 53.609375 0 \nL 7.328125 0 \nL 7.328125 8.296875 \nQ 12.9375 14.109375 22.625 23.890625 \nQ 32.328125 33.6875 34.8125 36.53125 \nQ 39.546875 41.84375 41.421875 45.53125 \nQ 43.3125 49.21875 43.3125 52.78125 \nQ 43.3125 58.59375 39.234375 62.25 \nQ 35.15625 65.921875 28.609375 65.921875 \nQ 23.96875 65.921875 18.8125 64.3125 \nQ 13.671875 62.703125 7.8125 59.421875 \nL 7.8125 69.390625 \nQ 13.765625 71.78125 18.9375 73 \nQ 24.125 74.21875 28.421875 74.21875 \nQ 39.75 74.21875 46.484375 68.546875 \nQ 53.21875 62.890625 53.21875 53.421875 \nQ 53.21875 48.921875 51.53125 44.890625 \nQ 49.859375 40.875 45.40625 35.40625 \nQ 44.1875 33.984375 37.640625 27.21875 \nQ 31.109375 20.453125 19.1875 8.296875 \nz\n\" id=\"DejaVuSans-50\"/>\n      </defs>\n      <g transform=\"translate(20.878125 145.946561)scale(0.1 -0.1)\">\n       <use xlink:href=\"#DejaVuSans-50\"/>\n       <use x=\"63.623047\" xlink:href=\"#DejaVuSans-48\"/>\n      </g>\n     </g>\n    </g>\n    <g id=\"ytick_6\">\n     <g id=\"line2d_22\">\n      <g>\n       <use style=\"stroke:#000000;stroke-width:0.8;\" x=\"40.603125\" xlink:href=\"#m15636cdc87\" y=\"104.080116\"/>\n      </g>\n     </g>\n     <g id=\"text_23\">\n      <!-- 25 -->\n      <g transform=\"translate(20.878125 107.879334)scale(0.1 -0.1)\">\n       <use xlink:href=\"#DejaVuSans-50\"/>\n       <use x=\"63.623047\" xlink:href=\"#DejaVuSans-53\"/>\n      </g>\n     </g>\n    </g>\n    <g id=\"ytick_7\">\n     <g id=\"line2d_23\">\n      <g>\n       <use style=\"stroke:#000000;stroke-width:0.8;\" x=\"40.603125\" xlink:href=\"#m15636cdc87\" y=\"66.012889\"/>\n      </g>\n     </g>\n     <g id=\"text_24\">\n      <!-- 30 -->\n      <defs>\n       <path d=\"M 40.578125 39.3125 \nQ 47.65625 37.796875 51.625 33 \nQ 55.609375 28.21875 55.609375 21.1875 \nQ 55.609375 10.40625 48.1875 4.484375 \nQ 40.765625 -1.421875 27.09375 -1.421875 \nQ 22.515625 -1.421875 17.65625 -0.515625 \nQ 12.796875 0.390625 7.625 2.203125 \nL 7.625 11.71875 \nQ 11.71875 9.328125 16.59375 8.109375 \nQ 21.484375 6.890625 26.8125 6.890625 \nQ 36.078125 6.890625 40.9375 10.546875 \nQ 45.796875 14.203125 45.796875 21.1875 \nQ 45.796875 27.640625 41.28125 31.265625 \nQ 36.765625 34.90625 28.71875 34.90625 \nL 20.21875 34.90625 \nL 20.21875 43.015625 \nL 29.109375 43.015625 \nQ 36.375 43.015625 40.234375 45.921875 \nQ 44.09375 48.828125 44.09375 54.296875 \nQ 44.09375 59.90625 40.109375 62.90625 \nQ 36.140625 65.921875 28.71875 65.921875 \nQ 24.65625 65.921875 20.015625 65.03125 \nQ 15.375 64.15625 9.8125 62.3125 \nL 9.8125 71.09375 \nQ 15.4375 72.65625 20.34375 73.4375 \nQ 25.25 74.21875 29.59375 74.21875 \nQ 40.828125 74.21875 47.359375 69.109375 \nQ 53.90625 64.015625 53.90625 55.328125 \nQ 53.90625 49.265625 50.4375 45.09375 \nQ 46.96875 40.921875 40.578125 39.3125 \nz\n\" id=\"DejaVuSans-51\"/>\n      </defs>\n      <g transform=\"translate(20.878125 69.812107)scale(0.1 -0.1)\">\n       <use xlink:href=\"#DejaVuSans-51\"/>\n       <use x=\"63.623047\" xlink:href=\"#DejaVuSans-48\"/>\n      </g>\n     </g>\n    </g>\n    <g id=\"ytick_8\">\n     <g id=\"line2d_24\">\n      <g>\n       <use style=\"stroke:#000000;stroke-width:0.8;\" x=\"40.603125\" xlink:href=\"#m15636cdc87\" y=\"27.945662\"/>\n      </g>\n     </g>\n     <g id=\"text_25\">\n      <!-- 35 -->\n      <g transform=\"translate(20.878125 31.744881)scale(0.1 -0.1)\">\n       <use xlink:href=\"#DejaVuSans-51\"/>\n       <use x=\"63.623047\" xlink:href=\"#DejaVuSans-53\"/>\n      </g>\n     </g>\n    </g>\n    <g id=\"text_26\">\n     <!-- exec -->\n     <defs>\n      <path d=\"M 54.890625 54.6875 \nL 35.109375 28.078125 \nL 55.90625 0 \nL 45.3125 0 \nL 29.390625 21.484375 \nL 13.484375 0 \nL 2.875 0 \nL 24.125 28.609375 \nL 4.6875 54.6875 \nL 15.28125 54.6875 \nL 29.78125 35.203125 \nL 44.28125 54.6875 \nz\n\" id=\"DejaVuSans-120\"/>\n      <path d=\"M 48.78125 52.59375 \nL 48.78125 44.1875 \nQ 44.96875 46.296875 41.140625 47.34375 \nQ 37.3125 48.390625 33.40625 48.390625 \nQ 24.65625 48.390625 19.8125 42.84375 \nQ 14.984375 37.3125 14.984375 27.296875 \nQ 14.984375 17.28125 19.8125 11.734375 \nQ 24.65625 6.203125 33.40625 6.203125 \nQ 37.3125 6.203125 41.140625 7.25 \nQ 44.96875 8.296875 48.78125 10.40625 \nL 48.78125 2.09375 \nQ 45.015625 0.34375 40.984375 -0.53125 \nQ 36.96875 -1.421875 32.421875 -1.421875 \nQ 20.0625 -1.421875 12.78125 6.34375 \nQ 5.515625 14.109375 5.515625 27.296875 \nQ 5.515625 40.671875 12.859375 48.328125 \nQ 20.21875 56 33.015625 56 \nQ 37.15625 56 41.109375 55.140625 \nQ 45.0625 54.296875 48.78125 52.59375 \nz\n\" id=\"DejaVuSans-99\"/>\n     </defs>\n     <g transform=\"translate(14.798437 170.374844)rotate(-90)scale(0.1 -0.1)\">\n      <use xlink:href=\"#DejaVuSans-101\"/>\n      <use x=\"61.507812\" xlink:href=\"#DejaVuSans-120\"/>\n      <use x=\"120.640625\" xlink:href=\"#DejaVuSans-101\"/>\n      <use x=\"182.164062\" xlink:href=\"#DejaVuSans-99\"/>\n     </g>\n    </g>\n   </g>\n   <g id=\"line2d_25\">\n    <path clip-path=\"url(#p02649a6766)\" d=\"M 0 0 \n\" style=\"fill:none;stroke:#424242;stroke-linecap:square;stroke-width:2.7;\"/>\n   </g>\n   <g id=\"line2d_26\">\n    <path clip-path=\"url(#p02649a6766)\" d=\"M 0 0 \n\" style=\"fill:none;stroke:#424242;stroke-linecap:square;stroke-width:2.7;\"/>\n   </g>\n   <g id=\"line2d_27\">\n    <path clip-path=\"url(#p02649a6766)\" d=\"M 0 0 \n\" style=\"fill:none;stroke:#424242;stroke-linecap:square;stroke-width:2.7;\"/>\n   </g>\n   <g id=\"line2d_28\">\n    <path clip-path=\"url(#p02649a6766)\" d=\"M 0 0 \n\" style=\"fill:none;stroke:#424242;stroke-linecap:square;stroke-width:2.7;\"/>\n   </g>\n   <g id=\"line2d_29\">\n    <path clip-path=\"url(#p02649a6766)\" d=\"M 0 0 \n\" style=\"fill:none;stroke:#424242;stroke-linecap:square;stroke-width:2.7;\"/>\n   </g>\n   <g id=\"line2d_30\">\n    <path clip-path=\"url(#p02649a6766)\" d=\"M 0 0 \n\" style=\"fill:none;stroke:#424242;stroke-linecap:square;stroke-width:2.7;\"/>\n   </g>\n   <g id=\"line2d_31\">\n    <path clip-path=\"url(#p02649a6766)\" d=\"M 0 0 \n\" style=\"fill:none;stroke:#424242;stroke-linecap:square;stroke-width:2.7;\"/>\n   </g>\n   <g id=\"line2d_32\">\n    <path clip-path=\"url(#p02649a6766)\" d=\"M 0 0 \n\" style=\"fill:none;stroke:#424242;stroke-linecap:square;stroke-width:2.7;\"/>\n   </g>\n   <g id=\"line2d_33\">\n    <path clip-path=\"url(#p02649a6766)\" d=\"M 0 0 \n\" style=\"fill:none;stroke:#424242;stroke-linecap:square;stroke-width:2.7;\"/>\n   </g>\n   <g id=\"line2d_34\">\n    <path clip-path=\"url(#p02649a6766)\" d=\"M 0 0 \n\" style=\"fill:none;stroke:#424242;stroke-linecap:square;stroke-width:2.7;\"/>\n   </g>\n   <g id=\"line2d_35\">\n    <path clip-path=\"url(#p02649a6766)\" d=\"M 0 0 \n\" style=\"fill:none;stroke:#424242;stroke-linecap:square;stroke-width:2.7;\"/>\n   </g>\n   <g id=\"line2d_36\">\n    <path clip-path=\"url(#p02649a6766)\" d=\"M 0 0 \n\" style=\"fill:none;stroke:#424242;stroke-linecap:square;stroke-width:2.7;\"/>\n   </g>\n   <g id=\"line2d_37\">\n    <path clip-path=\"url(#p02649a6766)\" d=\"M 0 0 \n\" style=\"fill:none;stroke:#424242;stroke-linecap:square;stroke-width:2.7;\"/>\n   </g>\n   <g id=\"line2d_38\">\n    <path clip-path=\"url(#p02649a6766)\" d=\"M 0 0 \n\" style=\"fill:none;stroke:#424242;stroke-linecap:square;stroke-width:2.7;\"/>\n   </g>\n   <g id=\"line2d_39\">\n    <path clip-path=\"url(#p02649a6766)\" d=\"M 0 0 \n\" style=\"fill:none;stroke:#424242;stroke-linecap:square;stroke-width:2.7;\"/>\n   </g>\n   <g id=\"line2d_40\">\n    <path clip-path=\"url(#p02649a6766)\" d=\"M 0 0 \n\" style=\"fill:none;stroke:#424242;stroke-linecap:square;stroke-width:2.7;\"/>\n   </g>\n   <g id=\"patch_19\">\n    <path d=\"M 40.603125 294.41625 \nL 40.603125 22.61625 \n\" style=\"fill:none;stroke:#000000;stroke-linecap:square;stroke-linejoin:miter;stroke-width:0.8;\"/>\n   </g>\n   <g id=\"patch_20\">\n    <path d=\"M 598.603125 294.41625 \nL 598.603125 22.61625 \n\" style=\"fill:none;stroke:#000000;stroke-linecap:square;stroke-linejoin:miter;stroke-width:0.8;\"/>\n   </g>\n   <g id=\"patch_21\">\n    <path d=\"M 40.603125 294.41625 \nL 598.603125 294.41625 \n\" style=\"fill:none;stroke:#000000;stroke-linecap:square;stroke-linejoin:miter;stroke-width:0.8;\"/>\n   </g>\n   <g id=\"patch_22\">\n    <path d=\"M 40.603125 22.61625 \nL 598.603125 22.61625 \n\" style=\"fill:none;stroke:#000000;stroke-linecap:square;stroke-linejoin:miter;stroke-width:0.8;\"/>\n   </g>\n   <g id=\"text_27\">\n    <!-- Distribuição do número de execuções entre 1990 e 1993 -->\n    <defs>\n     <path d=\"M 19.671875 64.796875 \nL 19.671875 8.109375 \nL 31.59375 8.109375 \nQ 46.6875 8.109375 53.6875 14.9375 \nQ 60.6875 21.78125 60.6875 36.53125 \nQ 60.6875 51.171875 53.6875 57.984375 \nQ 46.6875 64.796875 31.59375 64.796875 \nz\nM 9.8125 72.90625 \nL 30.078125 72.90625 \nQ 51.265625 72.90625 61.171875 64.09375 \nQ 71.09375 55.28125 71.09375 36.53125 \nQ 71.09375 17.671875 61.125 8.828125 \nQ 51.171875 0 30.078125 0 \nL 9.8125 0 \nz\n\" id=\"DejaVuSans-68\"/>\n     <path d=\"M 9.421875 54.6875 \nL 18.40625 54.6875 \nL 18.40625 0 \nL 9.421875 0 \nz\nM 9.421875 75.984375 \nL 18.40625 75.984375 \nL 18.40625 64.59375 \nL 9.421875 64.59375 \nz\n\" id=\"DejaVuSans-105\"/>\n     <path d=\"M 41.109375 46.296875 \nQ 39.59375 47.171875 37.8125 47.578125 \nQ 36.03125 48 33.890625 48 \nQ 26.265625 48 22.1875 43.046875 \nQ 18.109375 38.09375 18.109375 28.8125 \nL 18.109375 0 \nL 9.078125 0 \nL 9.078125 54.6875 \nL 18.109375 54.6875 \nL 18.109375 46.1875 \nQ 20.953125 51.171875 25.484375 53.578125 \nQ 30.03125 56 36.53125 56 \nQ 37.453125 56 38.578125 55.875 \nQ 39.703125 55.765625 41.0625 55.515625 \nz\n\" id=\"DejaVuSans-114\"/>\n     <path d=\"M 48.6875 27.296875 \nQ 48.6875 37.203125 44.609375 42.84375 \nQ 40.53125 48.484375 33.40625 48.484375 \nQ 26.265625 48.484375 22.1875 42.84375 \nQ 18.109375 37.203125 18.109375 27.296875 \nQ 18.109375 17.390625 22.1875 11.75 \nQ 26.265625 6.109375 33.40625 6.109375 \nQ 40.53125 6.109375 44.609375 11.75 \nQ 48.6875 17.390625 48.6875 27.296875 \nz\nM 18.109375 46.390625 \nQ 20.953125 51.265625 25.265625 53.625 \nQ 29.59375 56 35.59375 56 \nQ 45.5625 56 51.78125 48.09375 \nQ 58.015625 40.1875 58.015625 27.296875 \nQ 58.015625 14.40625 51.78125 6.484375 \nQ 45.5625 -1.421875 35.59375 -1.421875 \nQ 29.59375 -1.421875 25.265625 0.953125 \nQ 20.953125 3.328125 18.109375 8.203125 \nL 18.109375 0 \nL 9.078125 0 \nL 9.078125 75.984375 \nL 18.109375 75.984375 \nz\n\" id=\"DejaVuSans-98\"/>\n     <path d=\"M 8.5 21.578125 \nL 8.5 54.6875 \nL 17.484375 54.6875 \nL 17.484375 21.921875 \nQ 17.484375 14.15625 20.5 10.265625 \nQ 23.53125 6.390625 29.59375 6.390625 \nQ 36.859375 6.390625 41.078125 11.03125 \nQ 45.3125 15.671875 45.3125 23.6875 \nL 45.3125 54.6875 \nL 54.296875 54.6875 \nL 54.296875 0 \nL 45.3125 0 \nL 45.3125 8.40625 \nQ 42.046875 3.421875 37.71875 1 \nQ 33.40625 -1.421875 27.6875 -1.421875 \nQ 18.265625 -1.421875 13.375 4.4375 \nQ 8.5 10.296875 8.5 21.578125 \nz\nM 31.109375 56 \nz\n\" id=\"DejaVuSans-117\"/>\n     <path d=\"M 48.78125 52.59375 \nL 48.78125 44.1875 \nQ 44.96875 46.296875 41.140625 47.34375 \nQ 37.3125 48.390625 33.40625 48.390625 \nQ 24.65625 48.390625 19.8125 42.84375 \nQ 14.984375 37.3125 14.984375 27.296875 \nQ 14.984375 17.28125 19.8125 11.734375 \nQ 24.65625 6.203125 33.40625 6.203125 \nQ 37.3125 6.203125 41.140625 7.25 \nQ 44.96875 8.296875 48.78125 10.40625 \nL 48.78125 2.09375 \nQ 45.015625 0.34375 40.984375 -0.53125 \nQ 36.96875 -1.421875 32.421875 -1.421875 \nQ 20.0625 -1.421875 12.78125 6.34375 \nQ 5.515625 14.109375 5.515625 27.296875 \nQ 5.515625 40.671875 12.859375 48.328125 \nQ 20.21875 56 33.015625 56 \nQ 37.15625 56 41.109375 55.140625 \nQ 45.0625 54.296875 48.78125 52.59375 \nz\nM 36.078125 0 \nQ 38.765625 -3.03125 40.078125 -5.59375 \nQ 41.40625 -8.15625 41.40625 -10.5 \nQ 41.40625 -14.84375 38.46875 -17.0625 \nQ 35.546875 -19.28125 29.78125 -19.28125 \nQ 27.546875 -19.28125 25.421875 -18.984375 \nQ 23.296875 -18.703125 21.1875 -18.109375 \nL 21.1875 -11.71875 \nQ 22.859375 -12.546875 24.65625 -12.90625 \nQ 26.46875 -13.28125 28.765625 -13.28125 \nQ 31.640625 -13.28125 33.109375 -12.109375 \nQ 34.578125 -10.9375 34.578125 -8.6875 \nQ 34.578125 -7.234375 33.515625 -5.109375 \nQ 32.46875 -2.984375 30.28125 0 \nz\n\" id=\"DejaVuSans-231\"/>\n     <path d=\"M 34.28125 27.484375 \nQ 23.390625 27.484375 19.1875 25 \nQ 14.984375 22.515625 14.984375 16.5 \nQ 14.984375 11.71875 18.140625 8.90625 \nQ 21.296875 6.109375 26.703125 6.109375 \nQ 34.1875 6.109375 38.703125 11.40625 \nQ 43.21875 16.703125 43.21875 25.484375 \nL 43.21875 27.484375 \nz\nM 52.203125 31.203125 \nL 52.203125 0 \nL 43.21875 0 \nL 43.21875 8.296875 \nQ 40.140625 3.328125 35.546875 0.953125 \nQ 30.953125 -1.421875 24.3125 -1.421875 \nQ 15.921875 -1.421875 10.953125 3.296875 \nQ 6 8.015625 6 15.921875 \nQ 6 25.140625 12.171875 29.828125 \nQ 18.359375 34.515625 30.609375 34.515625 \nL 43.21875 34.515625 \nL 43.21875 35.40625 \nQ 43.21875 41.609375 39.140625 45 \nQ 35.0625 48.390625 27.6875 48.390625 \nQ 23 48.390625 18.546875 47.265625 \nQ 14.109375 46.140625 10.015625 43.890625 \nL 10.015625 52.203125 \nQ 14.9375 54.109375 19.578125 55.046875 \nQ 24.21875 56 28.609375 56 \nQ 40.484375 56 46.34375 49.84375 \nQ 52.203125 43.703125 52.203125 31.203125 \nz\nM 28.8125 66.890625 \nL 26.03125 69.578125 \nQ 24.953125 70.5625 24.140625 71.015625 \nQ 23.34375 71.484375 22.703125 71.484375 \nQ 20.84375 71.484375 19.96875 69.703125 \nQ 19.09375 67.921875 19 63.921875 \nL 12.890625 63.921875 \nQ 12.984375 70.515625 15.46875 74.09375 \nQ 17.96875 77.6875 22.40625 77.6875 \nQ 24.265625 77.6875 25.828125 77 \nQ 27.390625 76.3125 29.203125 74.703125 \nL 31.984375 72.015625 \nQ 33.0625 71.046875 33.859375 70.578125 \nQ 34.671875 70.125 35.296875 70.125 \nQ 37.15625 70.125 38.03125 71.90625 \nQ 38.921875 73.6875 39.015625 77.6875 \nL 45.125 77.6875 \nQ 45.015625 71.09375 42.53125 67.5 \nQ 40.046875 63.921875 35.59375 63.921875 \nQ 33.734375 63.921875 32.171875 64.59375 \nQ 30.609375 65.28125 28.8125 66.890625 \nz\n\" id=\"DejaVuSans-227\"/>\n     <path d=\"M 30.609375 48.390625 \nQ 23.390625 48.390625 19.1875 42.75 \nQ 14.984375 37.109375 14.984375 27.296875 \nQ 14.984375 17.484375 19.15625 11.84375 \nQ 23.34375 6.203125 30.609375 6.203125 \nQ 37.796875 6.203125 41.984375 11.859375 \nQ 46.1875 17.53125 46.1875 27.296875 \nQ 46.1875 37.015625 41.984375 42.703125 \nQ 37.796875 48.390625 30.609375 48.390625 \nz\nM 30.609375 56 \nQ 42.328125 56 49.015625 48.375 \nQ 55.71875 40.765625 55.71875 27.296875 \nQ 55.71875 13.875 49.015625 6.21875 \nQ 42.328125 -1.421875 30.609375 -1.421875 \nQ 18.84375 -1.421875 12.171875 6.21875 \nQ 5.515625 13.875 5.515625 27.296875 \nQ 5.515625 40.765625 12.171875 48.375 \nQ 18.84375 56 30.609375 56 \nz\n\" id=\"DejaVuSans-111\"/>\n     <path id=\"DejaVuSans-32\"/>\n     <path d=\"M 45.40625 46.390625 \nL 45.40625 75.984375 \nL 54.390625 75.984375 \nL 54.390625 0 \nL 45.40625 0 \nL 45.40625 8.203125 \nQ 42.578125 3.328125 38.25 0.953125 \nQ 33.9375 -1.421875 27.875 -1.421875 \nQ 17.96875 -1.421875 11.734375 6.484375 \nQ 5.515625 14.40625 5.515625 27.296875 \nQ 5.515625 40.1875 11.734375 48.09375 \nQ 17.96875 56 27.875 56 \nQ 33.9375 56 38.25 53.625 \nQ 42.578125 51.265625 45.40625 46.390625 \nz\nM 14.796875 27.296875 \nQ 14.796875 17.390625 18.875 11.75 \nQ 22.953125 6.109375 30.078125 6.109375 \nQ 37.203125 6.109375 41.296875 11.75 \nQ 45.40625 17.390625 45.40625 27.296875 \nQ 45.40625 37.203125 41.296875 42.84375 \nQ 37.203125 48.484375 30.078125 48.484375 \nQ 22.953125 48.484375 18.875 42.84375 \nQ 14.796875 37.203125 14.796875 27.296875 \nz\n\" id=\"DejaVuSans-100\"/>\n     <path d=\"M 54.890625 33.015625 \nL 54.890625 0 \nL 45.90625 0 \nL 45.90625 32.71875 \nQ 45.90625 40.484375 42.875 44.328125 \nQ 39.84375 48.1875 33.796875 48.1875 \nQ 26.515625 48.1875 22.3125 43.546875 \nQ 18.109375 38.921875 18.109375 30.90625 \nL 18.109375 0 \nL 9.078125 0 \nL 9.078125 54.6875 \nL 18.109375 54.6875 \nL 18.109375 46.1875 \nQ 21.34375 51.125 25.703125 53.5625 \nQ 30.078125 56 35.796875 56 \nQ 45.21875 56 50.046875 50.171875 \nQ 54.890625 44.34375 54.890625 33.015625 \nz\n\" id=\"DejaVuSans-110\"/>\n     <path d=\"M 8.5 21.578125 \nL 8.5 54.6875 \nL 17.484375 54.6875 \nL 17.484375 21.921875 \nQ 17.484375 14.15625 20.5 10.265625 \nQ 23.53125 6.390625 29.59375 6.390625 \nQ 36.859375 6.390625 41.078125 11.03125 \nQ 45.3125 15.671875 45.3125 23.6875 \nL 45.3125 54.6875 \nL 54.296875 54.6875 \nL 54.296875 0 \nL 45.3125 0 \nL 45.3125 8.40625 \nQ 42.046875 3.421875 37.71875 1 \nQ 33.40625 -1.421875 27.6875 -1.421875 \nQ 18.265625 -1.421875 13.375 4.4375 \nQ 8.5 10.296875 8.5 21.578125 \nz\nM 31.109375 56 \nz\nM 37.796875 79.984375 \nL 47.515625 79.984375 \nL 31.59375 61.625 \nL 24.125 61.625 \nz\n\" id=\"DejaVuSans-250\"/>\n     <path d=\"M 52 44.1875 \nQ 55.375 50.25 60.0625 53.125 \nQ 64.75 56 71.09375 56 \nQ 79.640625 56 84.28125 50.015625 \nQ 88.921875 44.046875 88.921875 33.015625 \nL 88.921875 0 \nL 79.890625 0 \nL 79.890625 32.71875 \nQ 79.890625 40.578125 77.09375 44.375 \nQ 74.3125 48.1875 68.609375 48.1875 \nQ 61.625 48.1875 57.5625 43.546875 \nQ 53.515625 38.921875 53.515625 30.90625 \nL 53.515625 0 \nL 44.484375 0 \nL 44.484375 32.71875 \nQ 44.484375 40.625 41.703125 44.40625 \nQ 38.921875 48.1875 33.109375 48.1875 \nQ 26.21875 48.1875 22.15625 43.53125 \nQ 18.109375 38.875 18.109375 30.90625 \nL 18.109375 0 \nL 9.078125 0 \nL 9.078125 54.6875 \nL 18.109375 54.6875 \nL 18.109375 46.1875 \nQ 21.1875 51.21875 25.484375 53.609375 \nQ 29.78125 56 35.6875 56 \nQ 41.65625 56 45.828125 52.96875 \nQ 50 49.953125 52 44.1875 \nz\n\" id=\"DejaVuSans-109\"/>\n     <path d=\"M 30.609375 48.390625 \nQ 23.390625 48.390625 19.1875 42.75 \nQ 14.984375 37.109375 14.984375 27.296875 \nQ 14.984375 17.484375 19.15625 11.84375 \nQ 23.34375 6.203125 30.609375 6.203125 \nQ 37.796875 6.203125 41.984375 11.859375 \nQ 46.1875 17.53125 46.1875 27.296875 \nQ 46.1875 37.015625 41.984375 42.703125 \nQ 37.796875 48.390625 30.609375 48.390625 \nz\nM 30.609375 56 \nQ 42.328125 56 49.015625 48.375 \nQ 55.71875 40.765625 55.71875 27.296875 \nQ 55.71875 13.875 49.015625 6.21875 \nQ 42.328125 -1.421875 30.609375 -1.421875 \nQ 18.84375 -1.421875 12.171875 6.21875 \nQ 5.515625 13.875 5.515625 27.296875 \nQ 5.515625 40.765625 12.171875 48.375 \nQ 18.84375 56 30.609375 56 \nz\nM 30.421875 66.890625 \nL 27.640625 69.578125 \nQ 26.5625 70.5625 25.75 71.015625 \nQ 24.953125 71.484375 24.3125 71.484375 \nQ 22.46875 71.484375 21.578125 69.703125 \nQ 20.703125 67.921875 20.609375 63.921875 \nL 14.5 63.921875 \nQ 14.59375 70.515625 17.078125 74.09375 \nQ 19.578125 77.6875 24.03125 77.6875 \nQ 25.875 77.6875 27.4375 77 \nQ 29 76.3125 30.8125 74.703125 \nL 33.59375 72.015625 \nQ 34.671875 71.046875 35.46875 70.578125 \nQ 36.28125 70.125 36.921875 70.125 \nQ 38.765625 70.125 39.640625 71.90625 \nQ 40.53125 73.6875 40.625 77.6875 \nL 46.734375 77.6875 \nQ 46.625 71.09375 44.140625 67.5 \nQ 41.65625 63.921875 37.203125 63.921875 \nQ 35.359375 63.921875 33.796875 64.59375 \nQ 32.234375 65.28125 30.421875 66.890625 \nz\n\" id=\"DejaVuSans-245\"/>\n     <path d=\"M 10.984375 1.515625 \nL 10.984375 10.5 \nQ 14.703125 8.734375 18.5 7.8125 \nQ 22.3125 6.890625 25.984375 6.890625 \nQ 35.75 6.890625 40.890625 13.453125 \nQ 46.046875 20.015625 46.78125 33.40625 \nQ 43.953125 29.203125 39.59375 26.953125 \nQ 35.25 24.703125 29.984375 24.703125 \nQ 19.046875 24.703125 12.671875 31.3125 \nQ 6.296875 37.9375 6.296875 49.421875 \nQ 6.296875 60.640625 12.9375 67.421875 \nQ 19.578125 74.21875 30.609375 74.21875 \nQ 43.265625 74.21875 49.921875 64.515625 \nQ 56.59375 54.828125 56.59375 36.375 \nQ 56.59375 19.140625 48.40625 8.859375 \nQ 40.234375 -1.421875 26.421875 -1.421875 \nQ 22.703125 -1.421875 18.890625 -0.6875 \nQ 15.09375 0.046875 10.984375 1.515625 \nz\nM 30.609375 32.421875 \nQ 37.25 32.421875 41.125 36.953125 \nQ 45.015625 41.5 45.015625 49.421875 \nQ 45.015625 57.28125 41.125 61.84375 \nQ 37.25 66.40625 30.609375 66.40625 \nQ 23.96875 66.40625 20.09375 61.84375 \nQ 16.21875 57.28125 16.21875 49.421875 \nQ 16.21875 41.5 20.09375 36.953125 \nQ 23.96875 32.421875 30.609375 32.421875 \nz\n\" id=\"DejaVuSans-57\"/>\n    </defs>\n    <g transform=\"translate(148.210312 16.61625)scale(0.12 -0.12)\">\n     <use xlink:href=\"#DejaVuSans-68\"/>\n     <use x=\"77.001953\" xlink:href=\"#DejaVuSans-105\"/>\n     <use x=\"104.785156\" xlink:href=\"#DejaVuSans-115\"/>\n     <use x=\"156.884766\" xlink:href=\"#DejaVuSans-116\"/>\n     <use x=\"196.09375\" xlink:href=\"#DejaVuSans-114\"/>\n     <use x=\"237.207031\" xlink:href=\"#DejaVuSans-105\"/>\n     <use x=\"264.990234\" xlink:href=\"#DejaVuSans-98\"/>\n     <use x=\"328.466797\" xlink:href=\"#DejaVuSans-117\"/>\n     <use x=\"391.845703\" xlink:href=\"#DejaVuSans-105\"/>\n     <use x=\"419.628906\" xlink:href=\"#DejaVuSans-231\"/>\n     <use x=\"474.609375\" xlink:href=\"#DejaVuSans-227\"/>\n     <use x=\"535.888672\" xlink:href=\"#DejaVuSans-111\"/>\n     <use x=\"597.070312\" xlink:href=\"#DejaVuSans-32\"/>\n     <use x=\"628.857422\" xlink:href=\"#DejaVuSans-100\"/>\n     <use x=\"692.333984\" xlink:href=\"#DejaVuSans-111\"/>\n     <use x=\"753.515625\" xlink:href=\"#DejaVuSans-32\"/>\n     <use x=\"785.302734\" xlink:href=\"#DejaVuSans-110\"/>\n     <use x=\"848.681641\" xlink:href=\"#DejaVuSans-250\"/>\n     <use x=\"912.060547\" xlink:href=\"#DejaVuSans-109\"/>\n     <use x=\"1009.472656\" xlink:href=\"#DejaVuSans-101\"/>\n     <use x=\"1070.996094\" xlink:href=\"#DejaVuSans-114\"/>\n     <use x=\"1112.078125\" xlink:href=\"#DejaVuSans-111\"/>\n     <use x=\"1173.259766\" xlink:href=\"#DejaVuSans-32\"/>\n     <use x=\"1205.046875\" xlink:href=\"#DejaVuSans-100\"/>\n     <use x=\"1268.523438\" xlink:href=\"#DejaVuSans-101\"/>\n     <use x=\"1330.046875\" xlink:href=\"#DejaVuSans-32\"/>\n     <use x=\"1361.833984\" xlink:href=\"#DejaVuSans-101\"/>\n     <use x=\"1423.341797\" xlink:href=\"#DejaVuSans-120\"/>\n     <use x=\"1482.474609\" xlink:href=\"#DejaVuSans-101\"/>\n     <use x=\"1543.998047\" xlink:href=\"#DejaVuSans-99\"/>\n     <use x=\"1598.978516\" xlink:href=\"#DejaVuSans-117\"/>\n     <use x=\"1662.357422\" xlink:href=\"#DejaVuSans-231\"/>\n     <use x=\"1717.337891\" xlink:href=\"#DejaVuSans-245\"/>\n     <use x=\"1778.519531\" xlink:href=\"#DejaVuSans-101\"/>\n     <use x=\"1840.042969\" xlink:href=\"#DejaVuSans-115\"/>\n     <use x=\"1892.142578\" xlink:href=\"#DejaVuSans-32\"/>\n     <use x=\"1923.929688\" xlink:href=\"#DejaVuSans-101\"/>\n     <use x=\"1985.453125\" xlink:href=\"#DejaVuSans-110\"/>\n     <use x=\"2048.832031\" xlink:href=\"#DejaVuSans-116\"/>\n     <use x=\"2088.041016\" xlink:href=\"#DejaVuSans-114\"/>\n     <use x=\"2129.123047\" xlink:href=\"#DejaVuSans-101\"/>\n     <use x=\"2190.646484\" xlink:href=\"#DejaVuSans-32\"/>\n     <use x=\"2222.433594\" xlink:href=\"#DejaVuSans-49\"/>\n     <use x=\"2286.056641\" xlink:href=\"#DejaVuSans-57\"/>\n     <use x=\"2349.679688\" xlink:href=\"#DejaVuSans-57\"/>\n     <use x=\"2413.302734\" xlink:href=\"#DejaVuSans-48\"/>\n     <use x=\"2476.925781\" xlink:href=\"#DejaVuSans-32\"/>\n     <use x=\"2508.712891\" xlink:href=\"#DejaVuSans-101\"/>\n     <use x=\"2570.236328\" xlink:href=\"#DejaVuSans-32\"/>\n     <use x=\"2602.023438\" xlink:href=\"#DejaVuSans-49\"/>\n     <use x=\"2665.646484\" xlink:href=\"#DejaVuSans-57\"/>\n     <use x=\"2729.269531\" xlink:href=\"#DejaVuSans-57\"/>\n     <use x=\"2792.892578\" xlink:href=\"#DejaVuSans-51\"/>\n    </g>\n   </g>\n  </g>\n </g>\n <defs>\n  <clipPath id=\"p02649a6766\">\n   <rect height=\"271.8\" width=\"558\" x=\"40.603125\" y=\"22.61625\"/>\n  </clipPath>\n </defs>\n</svg>\n",
      "image/png": "[encoded data removed]"
     },
     "metadata": {
      "needs_background": "light"
     }
    }
   ],
   "source": [
    "## pegando apenas o ano de 93\n",
    "df_93 = df.loc[df['year'] == 93]\n",
    "\n",
    "## Plotando a distribuicao do numero de execucoes de estados com pelo menos uma execucao\n",
    "df_93_0 = df_93.loc[df_93['exec'] > 0]\n",
    "# arrumando o df para ficar em ordem descendente e dropando o index anterior\n",
    "df_93_0 = df_93_0.sort_values(['exec'], ascending=False).reset_index(drop=True)\n",
    "\n",
    "fig, axs = plt.subplots(figsize = (10,5))\n",
    "\n",
    "ax0 = sns.barplot(x=\"state\",y=\"exec\", data=df_93_0, palette=\"Blues_d\")\n",
    "ax0.set_title(\"Distribuição do número de execuções entre 1990 e 1993\")"
   ]
  },
  {
   "cell_type": "code",
   "execution_count": 222,
   "metadata": {},
   "outputs": [
    {
     "output_type": "display_data",
     "data": {
      "text/plain": "   state     mrdrte  exec  unem  d90  d93   cmrdrte  cexec  cunem  cexec_1  \\\n0     TX  11.900000    34   7.0    0    1 -2.200001   23.0    0.8    -11.0   \n1     VA   8.300000    11   5.0    0    1 -0.500000    8.0    0.7     -1.0   \n2     FL   8.900000     7   7.0    0    1 -1.800000   -1.0    1.1      1.0   \n3     MO  11.300000     6   6.4    0    1  2.500000    1.0    0.7      5.0   \n4     AZ   8.600000     3   6.2    0    1  0.900001    3.0    0.9      0.0   \n5     GA  11.400000     3   5.8    0    1 -0.400001    1.0    0.4     -7.0   \n6     AL  11.600000     2   7.5    0    1  0.000000   -3.0    0.7      3.0   \n7     AR  10.200000     2   6.2    0    1 -0.100000    0.0   -0.7      2.0   \n8     CA  13.100000     2   9.2    0    1  1.200001    2.0    3.6      0.0   \n9     LA  20.299999     2   7.4    0    1  3.099998   -2.0    1.2     -5.0   \n10    NC  11.300000     2   4.9    0    1  0.600000    2.0    0.8     -1.0   \n11    OK   8.400000     2   6.0    0    1  0.400000    1.0    0.4      1.0   \n12    SC  10.300000     1   7.5    0    1 -0.900000    0.0    2.8     -1.0   \n13    UT   3.100000     1   3.9    0    1  0.100000    0.0   -0.4      0.0   \n14    WA   5.200000     1   7.5    0    1  0.300000    1.0    2.6      0.0   \n15    WY   3.400000     1   5.4    0    1 -1.500000    1.0    0.0      0.0   \n\n    cunem_1 year  TX  \n0      -2.2   93   1  \n1       0.1   93   0  \n2       0.6   93   0  \n3      -0.6   93   0  \n4      -0.9   93   0  \n5      -0.1   93   0  \n6      -1.0   93   0  \n7      -1.2   93   0  \n8      -0.2   93   0  \n9      -5.8   93   0  \n10     -0.4   93   0  \n11     -1.8   93   0  \n12     -0.9   93   0  \n13     -2.1   93   0  \n14     -2.7   93   0  \n15     -3.2   93   0  ",
      "text/html": "<div>\n<style scoped>\n    .dataframe tbody tr th:only-of-type {\n        vertical-align: middle;\n    }\n\n    .dataframe tbody tr th {\n        vertical-align: top;\n    }\n\n    .dataframe thead th {\n        text-align: right;\n    }\n</style>\n<table border=\"1\" class=\"dataframe\">\n  <thead>\n    <tr style=\"text-align: right;\">\n      <th></th>\n      <th>state</th>\n      <th>mrdrte</th>\n      <th>exec</th>\n      <th>unem</th>\n      <th>d90</th>\n      <th>d93</th>\n      <th>cmrdrte</th>\n      <th>cexec</th>\n      <th>cunem</th>\n      <th>cexec_1</th>\n      <th>cunem_1</th>\n      <th>year</th>\n      <th>TX</th>\n    </tr>\n  </thead>\n  <tbody>\n    <tr>\n      <th>0</th>\n      <td>TX</td>\n      <td>11.900000</td>\n      <td>34</td>\n      <td>7.0</td>\n      <td>0</td>\n      <td>1</td>\n      <td>-2.200001</td>\n      <td>23.0</td>\n      <td>0.8</td>\n      <td>-11.0</td>\n      <td>-2.2</td>\n      <td>93</td>\n      <td>1</td>\n    </tr>\n    <tr>\n      <th>1</th>\n      <td>VA</td>\n      <td>8.300000</td>\n      <td>11</td>\n      <td>5.0</td>\n      <td>0</td>\n      <td>1</td>\n      <td>-0.500000</td>\n      <td>8.0</td>\n      <td>0.7</td>\n      <td>-1.0</td>\n      <td>0.1</td>\n      <td>93</td>\n      <td>0</td>\n    </tr>\n    <tr>\n      <th>2</th>\n      <td>FL</td>\n      <td>8.900000</td>\n      <td>7</td>\n      <td>7.0</td>\n      <td>0</td>\n      <td>1</td>\n      <td>-1.800000</td>\n      <td>-1.0</td>\n      <td>1.1</td>\n      <td>1.0</td>\n      <td>0.6</td>\n      <td>93</td>\n      <td>0</td>\n    </tr>\n    <tr>\n      <th>3</th>\n      <td>MO</td>\n      <td>11.300000</td>\n      <td>6</td>\n      <td>6.4</td>\n      <td>0</td>\n      <td>1</td>\n      <td>2.500000</td>\n      <td>1.0</td>\n      <td>0.7</td>\n      <td>5.0</td>\n      <td>-0.6</td>\n      <td>93</td>\n      <td>0</td>\n    </tr>\n    <tr>\n      <th>4</th>\n      <td>AZ</td>\n      <td>8.600000</td>\n      <td>3</td>\n      <td>6.2</td>\n      <td>0</td>\n      <td>1</td>\n      <td>0.900001</td>\n      <td>3.0</td>\n      <td>0.9</td>\n      <td>0.0</td>\n      <td>-0.9</td>\n      <td>93</td>\n      <td>0</td>\n    </tr>\n    <tr>\n      <th>5</th>\n      <td>GA</td>\n      <td>11.400000</td>\n      <td>3</td>\n      <td>5.8</td>\n      <td>0</td>\n      <td>1</td>\n      <td>-0.400001</td>\n      <td>1.0</td>\n      <td>0.4</td>\n      <td>-7.0</td>\n      <td>-0.1</td>\n      <td>93</td>\n      <td>0</td>\n    </tr>\n    <tr>\n      <th>6</th>\n      <td>AL</td>\n      <td>11.600000</td>\n      <td>2</td>\n      <td>7.5</td>\n      <td>0</td>\n      <td>1</td>\n      <td>0.000000</td>\n      <td>-3.0</td>\n      <td>0.7</td>\n      <td>3.0</td>\n      <td>-1.0</td>\n      <td>93</td>\n      <td>0</td>\n    </tr>\n    <tr>\n      <th>7</th>\n      <td>AR</td>\n      <td>10.200000</td>\n      <td>2</td>\n      <td>6.2</td>\n      <td>0</td>\n      <td>1</td>\n      <td>-0.100000</td>\n      <td>0.0</td>\n      <td>-0.7</td>\n      <td>2.0</td>\n      <td>-1.2</td>\n      <td>93</td>\n      <td>0</td>\n    </tr>\n    <tr>\n      <th>8</th>\n      <td>CA</td>\n      <td>13.100000</td>\n      <td>2</td>\n      <td>9.2</td>\n      <td>0</td>\n      <td>1</td>\n      <td>1.200001</td>\n      <td>2.0</td>\n      <td>3.6</td>\n      <td>0.0</td>\n      <td>-0.2</td>\n      <td>93</td>\n      <td>0</td>\n    </tr>\n    <tr>\n      <th>9</th>\n      <td>LA</td>\n      <td>20.299999</td>\n      <td>2</td>\n      <td>7.4</td>\n      <td>0</td>\n      <td>1</td>\n      <td>3.099998</td>\n      <td>-2.0</td>\n      <td>1.2</td>\n      <td>-5.0</td>\n      <td>-5.8</td>\n      <td>93</td>\n      <td>0</td>\n    </tr>\n    <tr>\n      <th>10</th>\n      <td>NC</td>\n      <td>11.300000</td>\n      <td>2</td>\n      <td>4.9</td>\n      <td>0</td>\n      <td>1</td>\n      <td>0.600000</td>\n      <td>2.0</td>\n      <td>0.8</td>\n      <td>-1.0</td>\n      <td>-0.4</td>\n      <td>93</td>\n      <td>0</td>\n    </tr>\n    <tr>\n      <th>11</th>\n      <td>OK</td>\n      <td>8.400000</td>\n      <td>2</td>\n      <td>6.0</td>\n      <td>0</td>\n      <td>1</td>\n      <td>0.400000</td>\n      <td>1.0</td>\n      <td>0.4</td>\n      <td>1.0</td>\n      <td>-1.8</td>\n      <td>93</td>\n      <td>0</td>\n    </tr>\n    <tr>\n      <th>12</th>\n      <td>SC</td>\n      <td>10.300000</td>\n      <td>1</td>\n      <td>7.5</td>\n      <td>0</td>\n      <td>1</td>\n      <td>-0.900000</td>\n      <td>0.0</td>\n      <td>2.8</td>\n      <td>-1.0</td>\n      <td>-0.9</td>\n      <td>93</td>\n      <td>0</td>\n    </tr>\n    <tr>\n      <th>13</th>\n      <td>UT</td>\n      <td>3.100000</td>\n      <td>1</td>\n      <td>3.9</td>\n      <td>0</td>\n      <td>1</td>\n      <td>0.100000</td>\n      <td>0.0</td>\n      <td>-0.4</td>\n      <td>0.0</td>\n      <td>-2.1</td>\n      <td>93</td>\n      <td>0</td>\n    </tr>\n    <tr>\n      <th>14</th>\n      <td>WA</td>\n      <td>5.200000</td>\n      <td>1</td>\n      <td>7.5</td>\n      <td>0</td>\n      <td>1</td>\n      <td>0.300000</td>\n      <td>1.0</td>\n      <td>2.6</td>\n      <td>0.0</td>\n      <td>-2.7</td>\n      <td>93</td>\n      <td>0</td>\n    </tr>\n    <tr>\n      <th>15</th>\n      <td>WY</td>\n      <td>3.400000</td>\n      <td>1</td>\n      <td>5.4</td>\n      <td>0</td>\n      <td>1</td>\n      <td>-1.500000</td>\n      <td>1.0</td>\n      <td>0.0</td>\n      <td>0.0</td>\n      <td>-3.2</td>\n      <td>93</td>\n      <td>0</td>\n    </tr>\n  </tbody>\n</table>\n</div>"
     },
     "metadata": {}
    }
   ],
   "source": [
    "display(df_93_0)"
   ]
  },
  {
   "cell_type": "code",
   "execution_count": 223,
   "metadata": {},
   "outputs": [
    {
     "output_type": "execute_result",
     "data": {
      "text/plain": [
       "            mrdrte  exec  unem  d90  d93  cmrdrte  cexec  cunem  cexec_1  \\\n",
       "state year                                                                 \n",
       "AL    90      11.6     5   6.8    1    0      2.3    3.0   -1.0      NaN   \n",
       "      93      11.6     2   7.5    0    1      0.0   -3.0    0.7      3.0   \n",
       "AK    90       7.5     0   6.9    1    0     -2.6    0.0   -3.9      NaN   \n",
       "      93       9.0     0   7.6    0    1      1.5    0.0    0.7      0.0   \n",
       "AZ    90       7.7     0   5.3    1    0      0.2    0.0   -0.9      NaN   \n",
       "...            ...   ...   ...  ...  ...      ...    ...    ...      ...   \n",
       "WV    93       6.9     0  10.8    0    1      1.2    0.0    2.5      0.0   \n",
       "WI    90       4.6     0   4.4    1    0      1.1    0.0   -1.7      NaN   \n",
       "      93       4.4     0   4.7    0    1     -0.2    0.0    0.3      0.0   \n",
       "WY    90       4.9     0   5.4    1    0      2.9    0.0   -3.2      NaN   \n",
       "      93       3.4     1   5.4    0    1     -1.5    1.0    0.0      0.0   \n",
       "\n",
       "            cunem_1  TX  \n",
       "state year               \n",
       "AL    90        NaN   0  \n",
       "      93       -1.0   0  \n",
       "AK    90        NaN   0  \n",
       "      93       -3.9   0  \n",
       "AZ    90        NaN   0  \n",
       "...             ...  ..  \n",
       "WV    93       -2.5   0  \n",
       "WI    90        NaN   0  \n",
       "      93       -1.7   0  \n",
       "WY    90        NaN   0  \n",
       "      93       -3.2   0  \n",
       "\n",
       "[100 rows x 11 columns]"
      ],
      "text/html": "<div>\n<style scoped>\n    .dataframe tbody tr th:only-of-type {\n        vertical-align: middle;\n    }\n\n    .dataframe tbody tr th {\n        vertical-align: top;\n    }\n\n    .dataframe thead th {\n        text-align: right;\n    }\n</style>\n<table border=\"1\" class=\"dataframe\">\n  <thead>\n    <tr style=\"text-align: right;\">\n      <th></th>\n      <th></th>\n      <th>mrdrte</th>\n      <th>exec</th>\n      <th>unem</th>\n      <th>d90</th>\n      <th>d93</th>\n      <th>cmrdrte</th>\n      <th>cexec</th>\n      <th>cunem</th>\n      <th>cexec_1</th>\n      <th>cunem_1</th>\n      <th>TX</th>\n    </tr>\n    <tr>\n      <th>state</th>\n      <th>year</th>\n      <th></th>\n      <th></th>\n      <th></th>\n      <th></th>\n      <th></th>\n      <th></th>\n      <th></th>\n      <th></th>\n      <th></th>\n      <th></th>\n      <th></th>\n    </tr>\n  </thead>\n  <tbody>\n    <tr>\n      <th rowspan=\"2\" valign=\"top\">AL</th>\n      <th>90</th>\n      <td>11.6</td>\n      <td>5</td>\n      <td>6.8</td>\n      <td>1</td>\n      <td>0</td>\n      <td>2.3</td>\n      <td>3.0</td>\n      <td>-1.0</td>\n      <td>NaN</td>\n      <td>NaN</td>\n      <td>0</td>\n    </tr>\n    <tr>\n      <th>93</th>\n      <td>11.6</td>\n      <td>2</td>\n      <td>7.5</td>\n      <td>0</td>\n      <td>1</td>\n      <td>0.0</td>\n      <td>-3.0</td>\n      <td>0.7</td>\n      <td>3.0</td>\n      <td>-1.0</td>\n      <td>0</td>\n    </tr>\n    <tr>\n      <th rowspan=\"2\" valign=\"top\">AK</th>\n      <th>90</th>\n      <td>7.5</td>\n      <td>0</td>\n      <td>6.9</td>\n      <td>1</td>\n      <td>0</td>\n      <td>-2.6</td>\n      <td>0.0</td>\n      <td>-3.9</td>\n      <td>NaN</td>\n      <td>NaN</td>\n      <td>0</td>\n    </tr>\n    <tr>\n      <th>93</th>\n      <td>9.0</td>\n      <td>0</td>\n      <td>7.6</td>\n      <td>0</td>\n      <td>1</td>\n      <td>1.5</td>\n      <td>0.0</td>\n      <td>0.7</td>\n      <td>0.0</td>\n      <td>-3.9</td>\n      <td>0</td>\n    </tr>\n    <tr>\n      <th>AZ</th>\n      <th>90</th>\n      <td>7.7</td>\n      <td>0</td>\n      <td>5.3</td>\n      <td>1</td>\n      <td>0</td>\n      <td>0.2</td>\n      <td>0.0</td>\n      <td>-0.9</td>\n      <td>NaN</td>\n      <td>NaN</td>\n      <td>0</td>\n    </tr>\n    <tr>\n      <th>...</th>\n      <th>...</th>\n      <td>...</td>\n      <td>...</td>\n      <td>...</td>\n      <td>...</td>\n      <td>...</td>\n      <td>...</td>\n      <td>...</td>\n      <td>...</td>\n      <td>...</td>\n      <td>...</td>\n      <td>...</td>\n    </tr>\n    <tr>\n      <th>WV</th>\n      <th>93</th>\n      <td>6.9</td>\n      <td>0</td>\n      <td>10.8</td>\n      <td>0</td>\n      <td>1</td>\n      <td>1.2</td>\n      <td>0.0</td>\n      <td>2.5</td>\n      <td>0.0</td>\n      <td>-2.5</td>\n      <td>0</td>\n    </tr>\n    <tr>\n      <th rowspan=\"2\" valign=\"top\">WI</th>\n      <th>90</th>\n      <td>4.6</td>\n      <td>0</td>\n      <td>4.4</td>\n      <td>1</td>\n      <td>0</td>\n      <td>1.1</td>\n      <td>0.0</td>\n      <td>-1.7</td>\n      <td>NaN</td>\n      <td>NaN</td>\n      <td>0</td>\n    </tr>\n    <tr>\n      <th>93</th>\n      <td>4.4</td>\n      <td>0</td>\n      <td>4.7</td>\n      <td>0</td>\n      <td>1</td>\n      <td>-0.2</td>\n      <td>0.0</td>\n      <td>0.3</td>\n      <td>0.0</td>\n      <td>-1.7</td>\n      <td>0</td>\n    </tr>\n    <tr>\n      <th rowspan=\"2\" valign=\"top\">WY</th>\n      <th>90</th>\n      <td>4.9</td>\n      <td>0</td>\n      <td>5.4</td>\n      <td>1</td>\n      <td>0</td>\n      <td>2.9</td>\n      <td>0.0</td>\n      <td>-3.2</td>\n      <td>NaN</td>\n      <td>NaN</td>\n      <td>0</td>\n    </tr>\n    <tr>\n      <th>93</th>\n      <td>3.4</td>\n      <td>1</td>\n      <td>5.4</td>\n      <td>0</td>\n      <td>1</td>\n      <td>-1.5</td>\n      <td>1.0</td>\n      <td>0.0</td>\n      <td>0.0</td>\n      <td>-3.2</td>\n      <td>0</td>\n    </tr>\n  </tbody>\n</table>\n<p>100 rows × 11 columns</p>\n</div>"
     },
     "metadata": {},
     "execution_count": 223
    }
   ],
   "source": [
    "## Dropando o Texas\n",
    "df['TX'] = df['state'].apply(lambda i: 1 if i == 'TX' else 0)\n",
    "\n",
    "## Criando um df novo e arrumanndo\n",
    "df_tx = df.loc[(df['TX'] != 1) & (df['year'] != 87)]\n",
    "df_tx.reset_index(drop=True)\n",
    "df_tx.set_index(['state','year'])"
   ]
  },
  {
   "cell_type": "code",
   "execution_count": 224,
   "metadata": {},
   "outputs": [
    {
     "output_type": "stream",
     "name": "stdout",
     "text": [
      "                     FirstDifferenceOLS Estimation Summary                      \n================================================================================\nDep. Variable:                 mrdrte   R-squared:                        0.1031\nEstimator:         FirstDifferenceOLS   R-squared (Between):             -0.0283\nNo. Observations:                  50   R-squared (Within):               0.1031\nDate:                Sat, Mar 13 2021   R-squared (Overall):             -0.0281\nTime:                        16:01:11   Log-likelihood                   -73.646\nCov. Estimator:            Unadjusted                                           \n                                        F-statistic:                      1.8001\nEntities:                          51   P-value                           0.1601\nAvg Obs:                       1.9608   Distribution:                    F(3,47)\nMin Obs:                       0.0000                                           \nMax Obs:                       2.0000   F-statistic (robust):             1.8001\n                                        P-value                           0.1601\nTime periods:                       3   Distribution:                    F(3,47)\nAvg Obs:                       33.333                                           \nMin Obs:                       0.0000                                           \nMax Obs:                       50.000                                           \n                                                                                \n                             Parameter Estimates                              \n==============================================================================\n            Parameter  Std. Err.     T-stat    P-value    Lower CI    Upper CI\n------------------------------------------------------------------------------\nd93            0.4125     0.2113     1.9525     0.0569     -0.0125      0.8376\nexec          -0.0675     0.1049    -0.6431     0.5233     -0.2785      0.1436\nunem          -0.0700     0.1604    -0.4367     0.6643     -0.3927      0.2526\n==============================================================================\n"
     ]
    }
   ],
   "source": [
    "## estimando por PD\n",
    "x = df_tx[['d93','exec','unem']]\n",
    "y = df_tx['mrdrte']\n",
    "\n",
    "Reg_Painel_Primeiras_Diferenças(x,y)"
   ]
  },
  {
   "cell_type": "code",
   "execution_count": 227,
   "metadata": {},
   "outputs": [
    {
     "output_type": "stream",
     "name": "stdout",
     "text": [
      "                          PanelOLS Estimation Summary                           \n================================================================================\nDep. Variable:                 mrdrte   R-squared:                        0.0734\nEstimator:                   PanelOLS   R-squared (Between):              0.0037\nNo. Observations:                 153   R-squared (Within):               0.0734\nDate:                Sat, Mar 13 2021   R-squared (Overall):              0.0108\nTime:                        16:04:09   Log-likelihood                   -375.63\nCov. Estimator:            Unadjusted                                           \n                                        F-statistic:                      1.9398\nEntities:                          51   P-value                           0.1098\nAvg Obs:                       3.0000   Distribution:                    F(4,98)\nMin Obs:                       3.0000                                           \nMax Obs:                       3.0000   F-statistic (robust):             1.9398\n                                        P-value                           0.1098\nTime periods:                       3   Distribution:                    F(4,98)\nAvg Obs:                       51.000                                           \nMin Obs:                       51.000                                           \nMax Obs:                       51.000                                           \n                                                                                \n                             Parameter Estimates                              \n==============================================================================\n            Parameter  Std. Err.     T-stat    P-value    Lower CI    Upper CI\n------------------------------------------------------------------------------\nconst          5.8221     1.9156     3.0393     0.0030      2.0206      9.6236\nyear.90        1.5562     0.7453     2.0880     0.0394      0.0771      3.0353\nyear.93        1.7332     0.7004     2.4745     0.0151      0.3432      3.1232\nexec          -0.1383     0.1770    -0.7815     0.4364     -0.4896      0.2129\nunem           0.2213     0.2964     0.7467     0.4570     -0.3668      0.8095\n==============================================================================\n\nF-test for Poolability: 17.181\nP-value: 0.0000\nDistribution: F(50,98)\n\nIncluded effects: Entity\n"
     ]
    }
   ],
   "source": [
    "## usando os tres anos e estimando por efeitos fixos\n",
    "x = df[['year','exec','unem']]\n",
    "y = df['mrdrte']\n",
    "\n",
    "Reg_Painel_Efeitos_Fixos(x,y)"
   ]
  },
  {
   "source": [
    "## Exercício C9"
   ],
   "cell_type": "markdown",
   "metadata": {}
  },
  {
   "cell_type": "code",
   "execution_count": 211,
   "metadata": {},
   "outputs": [
    {
     "output_type": "stream",
     "name": "stdout",
     "text": [
      "PENSION.dta foi lido com sucesso!\n"
     ]
    },
    {
     "output_type": "execute_result",
     "data": {
      "text/plain": [
       "       id  pyears  prftshr  choice  female  married  age  educ  finc25  \\\n",
       "0      38     1.0        0       1       0        1   64    12       0   \n",
       "1     152     6.0        1       1       1        1   56    13       0   \n",
       "2     152    25.0        1       1       0        1   56    12       0   \n",
       "3     182    20.0        1       0       1        1   63    12       1   \n",
       "4     222    35.0        0       1       0        1   67    12       0   \n",
       "..    ...     ...      ...     ...     ...      ...  ...   ...     ...   \n",
       "189  4935     3.0        0       1       1        1   57    17       0   \n",
       "190  4936     2.0        1       0       1        1   60     9       1   \n",
       "191  4964    24.0        0       1       0        1   61    16       0   \n",
       "192  5014    29.0        1       0       1        1   58    17       1   \n",
       "193  5014    30.0        1       0       0        1   59    16       1   \n",
       "\n",
       "     finc35  finc50  finc75  finc100  finc101    wealth89  black  stckin89  \\\n",
       "0         0       1       0        0        0   77.900002      0         1   \n",
       "1         0       0       1        0        0  154.899994      0         1   \n",
       "2         0       0       1        0        0  154.899994      0         1   \n",
       "3         0       0       0        0        0  232.500000      0         1   \n",
       "4         1       0       0        0        0  179.000000      0         0   \n",
       "..      ...     ...     ...      ...      ...         ...    ...       ...   \n",
       "189       0       0       0        1        0  116.000000      0         0   \n",
       "190       0       0       0        0        0  163.800003      0         0   \n",
       "191       0       0       0        1        0  246.000000      0         1   \n",
       "192       0       0       0        0        0  213.000000      0         0   \n",
       "193       0       0       0        0        0  213.000000      0         0   \n",
       "\n",
       "     irain89  pctstck  \n",
       "0          1        0  \n",
       "1          1       50  \n",
       "2          1       50  \n",
       "3          1      100  \n",
       "4          1      100  \n",
       "..       ...      ...  \n",
       "189        0      100  \n",
       "190        0      100  \n",
       "191        1       50  \n",
       "192        0      100  \n",
       "193        0      100  \n",
       "\n",
       "[194 rows x 19 columns]"
      ],
      "text/html": "<div>\n<style scoped>\n    .dataframe tbody tr th:only-of-type {\n        vertical-align: middle;\n    }\n\n    .dataframe tbody tr th {\n        vertical-align: top;\n    }\n\n    .dataframe thead th {\n        text-align: right;\n    }\n</style>\n<table border=\"1\" class=\"dataframe\">\n  <thead>\n    <tr style=\"text-align: right;\">\n      <th></th>\n      <th>id</th>\n      <th>pyears</th>\n      <th>prftshr</th>\n      <th>choice</th>\n      <th>female</th>\n      <th>married</th>\n      <th>age</th>\n      <th>educ</th>\n      <th>finc25</th>\n      <th>finc35</th>\n      <th>finc50</th>\n      <th>finc75</th>\n      <th>finc100</th>\n      <th>finc101</th>\n      <th>wealth89</th>\n      <th>black</th>\n      <th>stckin89</th>\n      <th>irain89</th>\n      <th>pctstck</th>\n    </tr>\n  </thead>\n  <tbody>\n    <tr>\n      <th>0</th>\n      <td>38</td>\n      <td>1.0</td>\n      <td>0</td>\n      <td>1</td>\n      <td>0</td>\n      <td>1</td>\n      <td>64</td>\n      <td>12</td>\n      <td>0</td>\n      <td>0</td>\n      <td>1</td>\n      <td>0</td>\n      <td>0</td>\n      <td>0</td>\n      <td>77.900002</td>\n      <td>0</td>\n      <td>1</td>\n      <td>1</td>\n      <td>0</td>\n    </tr>\n    <tr>\n      <th>1</th>\n      <td>152</td>\n      <td>6.0</td>\n      <td>1</td>\n      <td>1</td>\n      <td>1</td>\n      <td>1</td>\n      <td>56</td>\n      <td>13</td>\n      <td>0</td>\n      <td>0</td>\n      <td>0</td>\n      <td>1</td>\n      <td>0</td>\n      <td>0</td>\n      <td>154.899994</td>\n      <td>0</td>\n      <td>1</td>\n      <td>1</td>\n      <td>50</td>\n    </tr>\n    <tr>\n      <th>2</th>\n      <td>152</td>\n      <td>25.0</td>\n      <td>1</td>\n      <td>1</td>\n      <td>0</td>\n      <td>1</td>\n      <td>56</td>\n      <td>12</td>\n      <td>0</td>\n      <td>0</td>\n      <td>0</td>\n      <td>1</td>\n      <td>0</td>\n      <td>0</td>\n      <td>154.899994</td>\n      <td>0</td>\n      <td>1</td>\n      <td>1</td>\n      <td>50</td>\n    </tr>\n    <tr>\n      <th>3</th>\n      <td>182</td>\n      <td>20.0</td>\n      <td>1</td>\n      <td>0</td>\n      <td>1</td>\n      <td>1</td>\n      <td>63</td>\n      <td>12</td>\n      <td>1</td>\n      <td>0</td>\n      <td>0</td>\n      <td>0</td>\n      <td>0</td>\n      <td>0</td>\n      <td>232.500000</td>\n      <td>0</td>\n      <td>1</td>\n      <td>1</td>\n      <td>100</td>\n    </tr>\n    <tr>\n      <th>4</th>\n      <td>222</td>\n      <td>35.0</td>\n      <td>0</td>\n      <td>1</td>\n      <td>0</td>\n      <td>1</td>\n      <td>67</td>\n      <td>12</td>\n      <td>0</td>\n      <td>1</td>\n      <td>0</td>\n      <td>0</td>\n      <td>0</td>\n      <td>0</td>\n      <td>179.000000</td>\n      <td>0</td>\n      <td>0</td>\n      <td>1</td>\n      <td>100</td>\n    </tr>\n    <tr>\n      <th>...</th>\n      <td>...</td>\n      <td>...</td>\n      <td>...</td>\n      <td>...</td>\n      <td>...</td>\n      <td>...</td>\n      <td>...</td>\n      <td>...</td>\n      <td>...</td>\n      <td>...</td>\n      <td>...</td>\n      <td>...</td>\n      <td>...</td>\n      <td>...</td>\n      <td>...</td>\n      <td>...</td>\n      <td>...</td>\n      <td>...</td>\n      <td>...</td>\n    </tr>\n    <tr>\n      <th>189</th>\n      <td>4935</td>\n      <td>3.0</td>\n      <td>0</td>\n      <td>1</td>\n      <td>1</td>\n      <td>1</td>\n      <td>57</td>\n      <td>17</td>\n      <td>0</td>\n      <td>0</td>\n      <td>0</td>\n      <td>0</td>\n      <td>1</td>\n      <td>0</td>\n      <td>116.000000</td>\n      <td>0</td>\n      <td>0</td>\n      <td>0</td>\n      <td>100</td>\n    </tr>\n    <tr>\n      <th>190</th>\n      <td>4936</td>\n      <td>2.0</td>\n      <td>1</td>\n      <td>0</td>\n      <td>1</td>\n      <td>1</td>\n      <td>60</td>\n      <td>9</td>\n      <td>1</td>\n      <td>0</td>\n      <td>0</td>\n      <td>0</td>\n      <td>0</td>\n      <td>0</td>\n      <td>163.800003</td>\n      <td>0</td>\n      <td>0</td>\n      <td>0</td>\n      <td>100</td>\n    </tr>\n    <tr>\n      <th>191</th>\n      <td>4964</td>\n      <td>24.0</td>\n      <td>0</td>\n      <td>1</td>\n      <td>0</td>\n      <td>1</td>\n      <td>61</td>\n      <td>16</td>\n      <td>0</td>\n      <td>0</td>\n      <td>0</td>\n      <td>0</td>\n      <td>1</td>\n      <td>0</td>\n      <td>246.000000</td>\n      <td>0</td>\n      <td>1</td>\n      <td>1</td>\n      <td>50</td>\n    </tr>\n    <tr>\n      <th>192</th>\n      <td>5014</td>\n      <td>29.0</td>\n      <td>1</td>\n      <td>0</td>\n      <td>1</td>\n      <td>1</td>\n      <td>58</td>\n      <td>17</td>\n      <td>1</td>\n      <td>0</td>\n      <td>0</td>\n      <td>0</td>\n      <td>0</td>\n      <td>0</td>\n      <td>213.000000</td>\n      <td>0</td>\n      <td>0</td>\n      <td>0</td>\n      <td>100</td>\n    </tr>\n    <tr>\n      <th>193</th>\n      <td>5014</td>\n      <td>30.0</td>\n      <td>1</td>\n      <td>0</td>\n      <td>0</td>\n      <td>1</td>\n      <td>59</td>\n      <td>16</td>\n      <td>1</td>\n      <td>0</td>\n      <td>0</td>\n      <td>0</td>\n      <td>0</td>\n      <td>0</td>\n      <td>213.000000</td>\n      <td>0</td>\n      <td>0</td>\n      <td>0</td>\n      <td>100</td>\n    </tr>\n  </tbody>\n</table>\n<p>194 rows × 19 columns</p>\n</div>"
     },
     "metadata": {},
     "execution_count": 211
    }
   ],
   "source": [
    "coletar_dados('PENSION')"
   ]
  },
  {
   "cell_type": "code",
   "execution_count": 212,
   "metadata": {},
   "outputs": [
    {
     "output_type": "execute_result",
     "data": {
      "text/plain": [
       "Index(['id', 'pyears', 'prftshr', 'choice', 'female', 'married', 'age', 'educ',\n",
       "       'finc25', 'finc35', 'finc50', 'finc75', 'finc100', 'finc101',\n",
       "       'wealth89', 'black', 'stckin89', 'irain89', 'pctstck'],\n",
       "      dtype='object')"
      ]
     },
     "metadata": {},
     "execution_count": 212
    }
   ],
   "source": [
    "df.columns"
   ]
  },
  {
   "cell_type": "code",
   "execution_count": 213,
   "metadata": {},
   "outputs": [
    {
     "output_type": "stream",
     "name": "stdout",
     "text": [
      "                            OLS Regression Results                            \n==============================================================================\nDep. Variable:                pctstck   R-squared:                       0.108\nModel:                            OLS   Adj. R-squared:                  0.038\nMethod:                 Least Squares   F-statistic:                     1.542\nDate:                Mon, 15 Mar 2021   Prob (F-statistic):              0.100\nTime:                        21:43:06   Log-Likelihood:                -978.02\nNo. Observations:                 194   AIC:                             1986.\nDf Residuals:                     179   BIC:                             2035.\nDf Model:                          14                                         \nCovariance Type:            nonrobust                                         \n==============================================================================\n                 coef    std err          t      P>|t|      [0.025      0.975]\n------------------------------------------------------------------------------\nconst        128.5442     55.170      2.330      0.021      19.677     237.411\nprftshr       14.3361      7.231      1.982      0.049       0.066      28.606\nchoice        11.7443      6.232      1.884      0.061      -0.553      24.042\nfemale         1.4522      6.766      0.215      0.830     -11.898      14.803\nage           -1.5006      0.777     -1.932      0.055      -3.033       0.032\neduc           0.7036      1.197      0.588      0.557      -1.658       3.065\nfinc25       -15.2887     14.229     -1.074      0.284     -43.368      12.790\nfinc35         0.1880     14.693      0.013      0.990     -28.806      29.182\nfinc50        -3.8617     14.551     -0.265      0.791     -32.576      24.852\nfinc75       -13.7481     16.022     -0.858      0.392     -45.364      17.868\nfinc100       -2.6861     15.719     -0.171      0.865     -33.704      28.331\nfinc101      -25.0504     17.800     -1.407      0.161     -60.176      10.075\nwealth89      -0.0026      0.013     -0.200      0.841      -0.028       0.023\nstckin89       6.6742      6.683      0.999      0.319      -6.513      19.862\nirain89       -7.4978      6.378     -1.176      0.241     -20.083       5.088\n==============================================================================\nOmnibus:                       52.568   Durbin-Watson:                   1.856\nProb(Omnibus):                  0.000   Jarque-Bera (JB):                9.876\nSkew:                           0.055   Prob(JB):                      0.00717\nKurtosis:                       1.900   Cond. No.                     6.74e+03\n==============================================================================\n\nWarnings:\n[1] Standard Errors assume that the covariance matrix of the errors is correctly specified.\n[2] The condition number is large, 6.74e+03. This might indicate that there are\nstrong multicollinearity or other numerical problems.\nO erro padrão da regressão é 38.9648 e a SQR é 271767.72983\n\nPara ver os valores previstos ou os resídudos, basta chamar 'Lista_ychapeu' e 'Resíduos'.\nOs resultados do modelo podem ser obtidos através de métodos usando a variável 'Resultado'.\n\n    Valores de condição maiores que 20 indicam problemas de multicolinearidade.\n    Para ver como achar esse número, entre em https://www.statsmodels.org/dev/examples/notebooks/generated/ols.html\n"
     ]
    }
   ],
   "source": [
    "## estimando sem considerar agrupamento; o efeito de choice é marginalmente significante a 5% e amplia significativamente o percentual de ações no portfolio (+≈11,7%)\n",
    "x = df[['prftshr', 'choice', 'female', 'age', 'educ', 'finc25', 'finc35', 'finc50', 'finc75', 'finc100', 'finc101','wealth89', 'stckin89', 'irain89']]\n",
    "y = df['pctstck']\n",
    "\n",
    "Regressao_Multipla(x,y)"
   ]
  },
  {
   "cell_type": "code",
   "execution_count": 214,
   "metadata": {},
   "outputs": [
    {
     "output_type": "stream",
     "name": "stdout",
     "text": [
      "O valor de F é 1.031 e seu p-valor é 0.4171607. Portanto, não se rejeita Ho à significância de 5.0%.\n"
     ]
    }
   ],
   "source": [
    "## fazendo um teste f; as variáveis são est não significantes\n",
    "rest = df[['finc25', 'finc35', 'finc50', 'finc75', 'finc100', 'finc101','wealth89', 'stckin89', 'irain89']]\n",
    "Teste_F(x,y,rest)"
   ]
  },
  {
   "cell_type": "code",
   "execution_count": 215,
   "metadata": {},
   "outputs": [
    {
     "output_type": "stream",
     "name": "stdout",
     "text": [
      "O número de famílias é 171.\n"
     ]
    }
   ],
   "source": [
    "## calculando o número de famílias no df\n",
    "print(f\"O número de famílias é {df['id'].nunique()}.\")"
   ]
  },
  {
   "cell_type": "code",
   "execution_count": 216,
   "metadata": {},
   "outputs": [
    {
     "output_type": "stream",
     "name": "stdout",
     "text": [
      "                            OLS Regression Results                            \n==============================================================================\nDep. Variable:                pctstck   R-squared:                       0.108\nModel:                            OLS   Adj. R-squared:                  0.038\nMethod:                 Least Squares   F-statistic:                     2.248\nDate:                Mon, 15 Mar 2021   Prob (F-statistic):            0.00796\nTime:                        21:43:11   Log-Likelihood:                -978.02\nNo. Observations:                 194   AIC:                             1986.\nDf Residuals:                     179   BIC:                             2035.\nDf Model:                          14                                         \nCovariance Type:              cluster                                         \n==============================================================================\n                 coef    std err          t      P>|t|      [0.025      0.975]\n------------------------------------------------------------------------------\nconst        128.5442     56.961      2.257      0.025      16.103     240.985\nprftshr       14.3361      8.208      1.747      0.082      -1.866      30.538\nchoice        11.7443      6.198      1.895      0.060      -0.490      23.979\nfemale         1.4522      6.643      0.219      0.827     -11.661      14.565\nage           -1.5006      0.810     -1.853      0.066      -3.099       0.098\neduc           0.7036      1.177      0.598      0.551      -1.620       3.027\nfinc25       -15.2887     16.441     -0.930      0.354     -47.743      17.166\nfinc35         0.1880     16.313      0.012      0.991     -32.013      32.389\nfinc50        -3.8617     15.963     -0.242      0.809     -35.373      27.649\nfinc75       -13.7481     16.929     -0.812      0.418     -47.166      19.670\nfinc100       -2.6861     17.067     -0.157      0.875     -36.376      31.004\nfinc101      -25.0504     17.207     -1.456      0.147     -59.017       8.916\nwealth89      -0.0026      0.012     -0.214      0.831      -0.026       0.021\nstckin89       6.6742      7.258      0.920      0.359      -7.654      21.002\nirain89       -7.4978      6.265     -1.197      0.233     -19.865       4.869\n==============================================================================\nOmnibus:                       52.568   Durbin-Watson:                   1.856\nProb(Omnibus):                  0.000   Jarque-Bera (JB):                9.876\nSkew:                           0.055   Prob(JB):                      0.00717\nKurtosis:                       1.900   Cond. No.                     6.74e+03\n==============================================================================\n\nWarnings:\n[1] Standard Errors are robust to cluster correlation (cluster)\n[2] The condition number is large, 6.74e+03. This might indicate that there are\nstrong multicollinearity or other numerical problems.\n"
     ]
    }
   ],
   "source": [
    "## estimando considerando erros padrão clusterizados\n",
    "X = sm.add_constant(x)\n",
    "\n",
    "Modelo = sm.OLS(y,X)\n",
    "Resultado = Modelo.fit(cov_type='cluster',cov_kwds={'groups':df['id']}, use_t = True)\n",
    "\n",
    "print(Resultado.summary())"
   ]
  },
  {
   "cell_type": "code",
   "execution_count": 217,
   "metadata": {},
   "outputs": [],
   "source": [
    "def Regressao_Multipla(x, y, constante = \"S\", cov = \"normal\"):\n",
    "    '''\n",
    "    Função que calcula uma regressão múltipla, sendo, por default, computada com um intercepto e com erros padrões não robustos.\n",
    "\n",
    "    x: lista ou array com os valores das variáveis independentes;\n",
    "    y: lista ou array com os valores da variável dependente;\n",
    "    constante: \"S\" para regressão com intercepto e qualquer outro valor para sem intercepto. Caso em branco, a regressão é computada com intercepto;\n",
    "    cov: \"normal\" para regressão com erros-padrão tradicionais (caso padrão);\n",
    "        \"robust\" para erros-padrões robustos.\n",
    "        \"cluster\" para erros-padrões clusterizados\n",
    "    '''\n",
    "\n",
    "    global Resultado, Lista_ychapeu, Resíduos, SQR, EPR\n",
    "\n",
    "    #adicionando uma constante ao modelo de Ordinary Least Squares (OLS)\n",
    "    if constante == \"S\":\n",
    "        X = sm.add_constant(x)\n",
    "    else:\n",
    "        X = x\n",
    "\n",
    "    #Criando o Modelo levando em conta a opção de ser uma regressão robusta p/ heteroscedasticidade ou não\n",
    "    Modelo = sm.OLS(y,X)\n",
    "\n",
    "    if cov == \"robust\":\n",
    "        Resultado = Modelo.fit(cov_type = 'HC1', use_t = True)\n",
    "    elif cov == \"cluster\":\n",
    "        group = str(input(\"Qual o rótulo da coluna de grupo?\"))\n",
    "        try:\n",
    "            Resultado = Modelo.fit(cov_type = 'cluster',cov_kwds  ={'groups':df[group]}, use_t = True)\n",
    "        except:\n",
    "            print(\"Não foi possível encontrar o grupo selecionado. Tente novamente!\")\n",
    "            strzero = str(0)\n",
    "            return strzero\n",
    "    else:\n",
    "        Resultado = Modelo.fit()\n",
    "    \n",
    "    Lista_ychapeu = Resultado.predict()\n",
    "    Resíduos = y - Lista_ychapeu\n",
    "\n",
    "    #Calculando o Erro Padrão da Regressão (EPR)\n",
    "    SQR =sum([i**2 for i in Resíduos])\n",
    "    Número_de_Observações = len(y)\n",
    "    GL = Número_de_Observações - len(Resultado.params)\n",
    "    VarianciaReg = SQR/GL\n",
    "    EPR = math.sqrt(VarianciaReg)\n",
    "    \n",
    "    ##Printando o Resultado\n",
    "    print(Resultado.summary())\n",
    "\n",
    "    print(f\"O erro padrão da regressão é {round(EPR,5)} e a SQR é {round(SQR,5)}\")\n",
    "    print(\"\\nPara ver os valores previstos ou os resídudos, basta chamar 'Lista_ychapeu' e 'Resíduos'.\")\n",
    "    print(\"Os resultados do modelo podem ser obtidos através de métodos usando a variável 'Resultado'.\")\n",
    "    print(\"\"\"\n",
    "    Valores de condição maiores que 20 indicam problemas de multicolinearidade.\n",
    "    Para ver como achar esse número, entre em https://www.statsmodels.org/dev/examples/notebooks/generated/ols.html\"\"\"\n",
    "    )"
   ]
  },
  {
   "cell_type": "code",
   "execution_count": 218,
   "metadata": {},
   "outputs": [
    {
     "output_type": "stream",
     "name": "stdout",
     "text": [
      "                            OLS Regression Results                            \n==============================================================================\nDep. Variable:                pctstck   R-squared:                       0.108\nModel:                            OLS   Adj. R-squared:                  0.038\nMethod:                 Least Squares   F-statistic:                     2.248\nDate:                Mon, 15 Mar 2021   Prob (F-statistic):            0.00796\nTime:                        21:43:31   Log-Likelihood:                -978.02\nNo. Observations:                 194   AIC:                             1986.\nDf Residuals:                     179   BIC:                             2035.\nDf Model:                          14                                         \nCovariance Type:              cluster                                         \n==============================================================================\n                 coef    std err          t      P>|t|      [0.025      0.975]\n------------------------------------------------------------------------------\nconst        128.5442     56.961      2.257      0.025      16.103     240.985\nprftshr       14.3361      8.208      1.747      0.082      -1.866      30.538\nchoice        11.7443      6.198      1.895      0.060      -0.490      23.979\nfemale         1.4522      6.643      0.219      0.827     -11.661      14.565\nage           -1.5006      0.810     -1.853      0.066      -3.099       0.098\neduc           0.7036      1.177      0.598      0.551      -1.620       3.027\nfinc25       -15.2887     16.441     -0.930      0.354     -47.743      17.166\nfinc35         0.1880     16.313      0.012      0.991     -32.013      32.389\nfinc50        -3.8617     15.963     -0.242      0.809     -35.373      27.649\nfinc75       -13.7481     16.929     -0.812      0.418     -47.166      19.670\nfinc100       -2.6861     17.067     -0.157      0.875     -36.376      31.004\nfinc101      -25.0504     17.207     -1.456      0.147     -59.017       8.916\nwealth89      -0.0026      0.012     -0.214      0.831      -0.026       0.021\nstckin89       6.6742      7.258      0.920      0.359      -7.654      21.002\nirain89       -7.4978      6.265     -1.197      0.233     -19.865       4.869\n==============================================================================\nOmnibus:                       52.568   Durbin-Watson:                   1.856\nProb(Omnibus):                  0.000   Jarque-Bera (JB):                9.876\nSkew:                           0.055   Prob(JB):                      0.00717\nKurtosis:                       1.900   Cond. No.                     6.74e+03\n==============================================================================\n\nWarnings:\n[1] Standard Errors are robust to cluster correlation (cluster)\n[2] The condition number is large, 6.74e+03. This might indicate that there are\nstrong multicollinearity or other numerical problems.\nO erro padrão da regressão é 38.9648 e a SQR é 271767.72983\n\nPara ver os valores previstos ou os resídudos, basta chamar 'Lista_ychapeu' e 'Resíduos'.\nOs resultados do modelo podem ser obtidos através de métodos usando a variável 'Resultado'.\n\n    Valores de condição maiores que 20 indicam problemas de multicolinearidade.\n    Para ver como achar esse número, entre em https://www.statsmodels.org/dev/examples/notebooks/generated/ols.html\n"
     ]
    }
   ],
   "source": [
    "Regressao_Multipla(x,y,cov='cluster')"
   ]
  },
  {
   "cell_type": "code",
   "execution_count": 219,
   "metadata": {},
   "outputs": [],
   "source": [
    "## diferenciando apenas com os dados de famílias (id aparecendo mais que uma vez)\n",
    "# agrupando por id (e selecionando todas as colunas) e pegando apenas os ids cujo numero de linhas (shape[0]) seja maior que 2\n",
    "df = pd.DataFrame(df.groupby('id').filter(lambda x : x['id'].shape[0]>=2))"
   ]
  },
  {
   "cell_type": "code",
   "execution_count": 220,
   "metadata": {},
   "outputs": [],
   "source": [
    "# criando uma coluna de observacoes com valores [1,2]\n",
    "df['obs'] = np.resize([1,2], df['id'].shape[0])"
   ]
  },
  {
   "cell_type": "code",
   "execution_count": 221,
   "metadata": {},
   "outputs": [],
   "source": [
    "## arrumando o painel\n",
    "Arrumar_Painel()\n",
    "clear_output()"
   ]
  },
  {
   "cell_type": "code",
   "execution_count": 222,
   "metadata": {},
   "outputs": [
    {
     "output_type": "execute_result",
     "data": {
      "text/plain": [
       "         pyears  prftshr  choice  female  married  age  educ  finc25  finc35  \\\n",
       "id  obs                                                                        \n",
       "152 1       6.0        1       1       1        1   56    13       0       0   \n",
       "    2      25.0        1       1       0        1   56    12       0       0   \n",
       "233 1       2.0        0       1       1        1   64    12       1       0   \n",
       "    2      10.0        1       0       1        1   64    12       1       0   \n",
       "460 1      40.0        0       0       1        1   67    12       0       0   \n",
       "    2      18.0        0       1       0        1   69    16       0       0   \n",
       "490 1       2.0        0       1       1        1   58    12       0       1   \n",
       "    2       2.0        0       1       1        1   58    12       0       1   \n",
       "888 1      10.0        0       0       1        1   63    12       0       0   \n",
       "    2      10.0        0       0       0        1   67    12       0       0   \n",
       "\n",
       "         finc50  finc75  finc100  finc101    wealth89  black  stckin89  \\\n",
       "id  obs                                                                  \n",
       "152 1         0       1        0        0  154.899994      0         1   \n",
       "    2         0       1        0        0  154.899994      0         1   \n",
       "233 1         0       0        0        0   52.000000      0         0   \n",
       "    2         0       0        0        0   52.000000      0         0   \n",
       "460 1         0       0        1        0  292.000000      0         0   \n",
       "    2         0       0        1        0  292.000000      0         0   \n",
       "490 1         0       0        0        0  147.899994      0         0   \n",
       "    2         0       0        0        0  147.899994      0         0   \n",
       "888 1         1       0        0        0  219.550003      0         0   \n",
       "    2         1       0        0        0  219.550003      0         0   \n",
       "\n",
       "         irain89  pctstck obs  \n",
       "id  obs                        \n",
       "152 1          1       50   1  \n",
       "    2          1       50   2  \n",
       "233 1          1      100   1  \n",
       "    2          1      100   2  \n",
       "460 1          1      100   1  \n",
       "    2          1        0   2  \n",
       "490 1          0       50   1  \n",
       "    2          0       50   2  \n",
       "888 1          1       50   1  \n",
       "    2          1        0   2  "
      ],
      "text/html": "<div>\n<style scoped>\n    .dataframe tbody tr th:only-of-type {\n        vertical-align: middle;\n    }\n\n    .dataframe tbody tr th {\n        vertical-align: top;\n    }\n\n    .dataframe thead th {\n        text-align: right;\n    }\n</style>\n<table border=\"1\" class=\"dataframe\">\n  <thead>\n    <tr style=\"text-align: right;\">\n      <th></th>\n      <th></th>\n      <th>pyears</th>\n      <th>prftshr</th>\n      <th>choice</th>\n      <th>female</th>\n      <th>married</th>\n      <th>age</th>\n      <th>educ</th>\n      <th>finc25</th>\n      <th>finc35</th>\n      <th>finc50</th>\n      <th>finc75</th>\n      <th>finc100</th>\n      <th>finc101</th>\n      <th>wealth89</th>\n      <th>black</th>\n      <th>stckin89</th>\n      <th>irain89</th>\n      <th>pctstck</th>\n      <th>obs</th>\n    </tr>\n    <tr>\n      <th>id</th>\n      <th>obs</th>\n      <th></th>\n      <th></th>\n      <th></th>\n      <th></th>\n      <th></th>\n      <th></th>\n      <th></th>\n      <th></th>\n      <th></th>\n      <th></th>\n      <th></th>\n      <th></th>\n      <th></th>\n      <th></th>\n      <th></th>\n      <th></th>\n      <th></th>\n      <th></th>\n      <th></th>\n    </tr>\n  </thead>\n  <tbody>\n    <tr>\n      <th rowspan=\"2\" valign=\"top\">152</th>\n      <th>1</th>\n      <td>6.0</td>\n      <td>1</td>\n      <td>1</td>\n      <td>1</td>\n      <td>1</td>\n      <td>56</td>\n      <td>13</td>\n      <td>0</td>\n      <td>0</td>\n      <td>0</td>\n      <td>1</td>\n      <td>0</td>\n      <td>0</td>\n      <td>154.899994</td>\n      <td>0</td>\n      <td>1</td>\n      <td>1</td>\n      <td>50</td>\n      <td>1</td>\n    </tr>\n    <tr>\n      <th>2</th>\n      <td>25.0</td>\n      <td>1</td>\n      <td>1</td>\n      <td>0</td>\n      <td>1</td>\n      <td>56</td>\n      <td>12</td>\n      <td>0</td>\n      <td>0</td>\n      <td>0</td>\n      <td>1</td>\n      <td>0</td>\n      <td>0</td>\n      <td>154.899994</td>\n      <td>0</td>\n      <td>1</td>\n      <td>1</td>\n      <td>50</td>\n      <td>2</td>\n    </tr>\n    <tr>\n      <th rowspan=\"2\" valign=\"top\">233</th>\n      <th>1</th>\n      <td>2.0</td>\n      <td>0</td>\n      <td>1</td>\n      <td>1</td>\n      <td>1</td>\n      <td>64</td>\n      <td>12</td>\n      <td>1</td>\n      <td>0</td>\n      <td>0</td>\n      <td>0</td>\n      <td>0</td>\n      <td>0</td>\n      <td>52.000000</td>\n      <td>0</td>\n      <td>0</td>\n      <td>1</td>\n      <td>100</td>\n      <td>1</td>\n    </tr>\n    <tr>\n      <th>2</th>\n      <td>10.0</td>\n      <td>1</td>\n      <td>0</td>\n      <td>1</td>\n      <td>1</td>\n      <td>64</td>\n      <td>12</td>\n      <td>1</td>\n      <td>0</td>\n      <td>0</td>\n      <td>0</td>\n      <td>0</td>\n      <td>0</td>\n      <td>52.000000</td>\n      <td>0</td>\n      <td>0</td>\n      <td>1</td>\n      <td>100</td>\n      <td>2</td>\n    </tr>\n    <tr>\n      <th rowspan=\"2\" valign=\"top\">460</th>\n      <th>1</th>\n      <td>40.0</td>\n      <td>0</td>\n      <td>0</td>\n      <td>1</td>\n      <td>1</td>\n      <td>67</td>\n      <td>12</td>\n      <td>0</td>\n      <td>0</td>\n      <td>0</td>\n      <td>0</td>\n      <td>1</td>\n      <td>0</td>\n      <td>292.000000</td>\n      <td>0</td>\n      <td>0</td>\n      <td>1</td>\n      <td>100</td>\n      <td>1</td>\n    </tr>\n    <tr>\n      <th>2</th>\n      <td>18.0</td>\n      <td>0</td>\n      <td>1</td>\n      <td>0</td>\n      <td>1</td>\n      <td>69</td>\n      <td>16</td>\n      <td>0</td>\n      <td>0</td>\n      <td>0</td>\n      <td>0</td>\n      <td>1</td>\n      <td>0</td>\n      <td>292.000000</td>\n      <td>0</td>\n      <td>0</td>\n      <td>1</td>\n      <td>0</td>\n      <td>2</td>\n    </tr>\n    <tr>\n      <th rowspan=\"2\" valign=\"top\">490</th>\n      <th>1</th>\n      <td>2.0</td>\n      <td>0</td>\n      <td>1</td>\n      <td>1</td>\n      <td>1</td>\n      <td>58</td>\n      <td>12</td>\n      <td>0</td>\n      <td>1</td>\n      <td>0</td>\n      <td>0</td>\n      <td>0</td>\n      <td>0</td>\n      <td>147.899994</td>\n      <td>0</td>\n      <td>0</td>\n      <td>0</td>\n      <td>50</td>\n      <td>1</td>\n    </tr>\n    <tr>\n      <th>2</th>\n      <td>2.0</td>\n      <td>0</td>\n      <td>1</td>\n      <td>1</td>\n      <td>1</td>\n      <td>58</td>\n      <td>12</td>\n      <td>0</td>\n      <td>1</td>\n      <td>0</td>\n      <td>0</td>\n      <td>0</td>\n      <td>0</td>\n      <td>147.899994</td>\n      <td>0</td>\n      <td>0</td>\n      <td>0</td>\n      <td>50</td>\n      <td>2</td>\n    </tr>\n    <tr>\n      <th rowspan=\"2\" valign=\"top\">888</th>\n      <th>1</th>\n      <td>10.0</td>\n      <td>0</td>\n      <td>0</td>\n      <td>1</td>\n      <td>1</td>\n      <td>63</td>\n      <td>12</td>\n      <td>0</td>\n      <td>0</td>\n      <td>1</td>\n      <td>0</td>\n      <td>0</td>\n      <td>0</td>\n      <td>219.550003</td>\n      <td>0</td>\n      <td>0</td>\n      <td>1</td>\n      <td>50</td>\n      <td>1</td>\n    </tr>\n    <tr>\n      <th>2</th>\n      <td>10.0</td>\n      <td>0</td>\n      <td>0</td>\n      <td>0</td>\n      <td>1</td>\n      <td>67</td>\n      <td>12</td>\n      <td>0</td>\n      <td>0</td>\n      <td>1</td>\n      <td>0</td>\n      <td>0</td>\n      <td>0</td>\n      <td>219.550003</td>\n      <td>0</td>\n      <td>0</td>\n      <td>1</td>\n      <td>0</td>\n      <td>2</td>\n    </tr>\n  </tbody>\n</table>\n</div>"
     },
     "metadata": {},
     "execution_count": 222
    }
   ],
   "source": [
    "# vendo como ele ficou\n",
    "df.head(10)"
   ]
  },
  {
   "cell_type": "code",
   "execution_count": 223,
   "metadata": {},
   "outputs": [],
   "source": [
    "##criando as colunas de variação\n",
    "variaveis = df[['prftshr', 'choice', 'female', 'age', 'educ','pctstck']]\n",
    "\n",
    "for i in variaveis:\n",
    "    df[f'c{i}'] = df[i].diff()\n",
    "\n",
    "## selecionando apenas as linhas com as colunas de variação\n",
    "df_2 = df.loc[df['obs'] == 2]"
   ]
  },
  {
   "cell_type": "code",
   "execution_count": 224,
   "metadata": {},
   "outputs": [
    {
     "output_type": "stream",
     "name": "stdout",
     "text": [
      "                            OLS Regression Results                            \n==============================================================================\nDep. Variable:               cpctstck   R-squared:                       0.206\nModel:                            OLS   Adj. R-squared:                 -0.028\nMethod:                 Least Squares   F-statistic:                    0.8821\nDate:                Mon, 15 Mar 2021   Prob (F-statistic):              0.514\nTime:                        21:44:12   Log-Likelihood:                -110.38\nNo. Observations:                  23   AIC:                             232.8\nDf Residuals:                      17   BIC:                             239.6\nDf Model:                           5                                         \nCovariance Type:            nonrobust                                         \n==============================================================================\n                 coef    std err          t      P>|t|      [0.025      0.975]\n------------------------------------------------------------------------------\nconst         15.9267     10.938      1.456      0.164      -7.149      39.003\ncprftshr      -9.2671     16.924     -0.548      0.591     -44.973      26.439\ncchoice        2.2757     15.000      0.152      0.881     -29.372      33.923\ncfemale       21.5510     21.485      1.003      0.330     -23.779      66.881\ncage          -3.5727      8.999     -0.397      0.696     -22.559      15.414\nceduc         -1.2203      3.429     -0.356      0.726      -8.455       6.014\n==============================================================================\nOmnibus:                        6.661   Durbin-Watson:                   1.658\nProb(Omnibus):                  0.036   Jarque-Bera (JB):                7.755\nSkew:                          -0.070   Prob(JB):                       0.0207\nKurtosis:                       5.841   Cond. No.                         9.61\n==============================================================================\n\nWarnings:\n[1] Standard Errors assume that the covariance matrix of the errors is correctly specified.\nO erro padrão da regressão é 34.17097 e a SQR é 19850.14063\n\nPara ver os valores previstos ou os resídudos, basta chamar 'Lista_ychapeu' e 'Resíduos'.\nOs resultados do modelo podem ser obtidos através de métodos usando a variável 'Resultado'.\n\n    Valores de condição maiores que 20 indicam problemas de multicolinearidade.\n    Para ver como achar esse número, entre em https://www.statsmodels.org/dev/examples/notebooks/generated/ols.html\n"
     ]
    }
   ],
   "source": [
    "## fazendo a regressão de PD COM INTERCEPTO\n",
    "# ve-se que todas as variáveis são est insignificantes - isso ocorre em razao do baixo numero de observacoes e da baixa variancia em virtude de pessoas da mesma familia terem caracteristicas similares (consequentemente, a diferença entre as variáveis ser muito pequena)\n",
    "x = df_2[['cprftshr', 'cchoice', 'cfemale', 'cage', 'ceduc',]]\n",
    "y = df_2['cpctstck']\n",
    "\n",
    "Regressao_Multipla(x,y)"
   ]
  },
  {
   "cell_type": "code",
   "execution_count": 234,
   "metadata": {},
   "outputs": [],
   "source": [
    "def equation():\n",
    "    '''\n",
    "    Função que gera uma equação formatada do word\n",
    "    '''\n",
    "    \n",
    "    ## capturando os parametros e os erros\n",
    "    params = dict(np.around(Resultado.params,3))\n",
    "    ## linearmodels usa .std_erros para capturar os erros padrão, sm usa .bse\n",
    "    try:\n",
    "        std_errors = dict(np.around(Resultado.std_errors,5))\n",
    "    except:\n",
    "        std_errors = dict(np.around(Resultado.bse,5))\n",
    "\n",
    "    ## fazendo o loop para pegar os coeficientes*nome das variáveis e os seus erros-padrão entre parênteses\n",
    "    parametros = \"\"\n",
    "    erros = \"\"\n",
    "    for i in params.keys():\n",
    "        erros += f\" & ({std_errors[i]})\"\n",
    "        if i != 'const':\n",
    "            if params[i] > 0:\n",
    "                parametros += f\" & + {params[i]}{i}\"\n",
    "            else:\n",
    "                parametros += f\" & - {-params[i]}{i}\"\n",
    "        else:\n",
    "            parametros += f\"{params[i]}\"\n",
    "    \n",
    "    ## Fazendo a str que irá pro word (em forma de matriz)\n",
    "    inicio = \"\\matrix{\"\n",
    "    fim = \"}\"\n",
    "\n",
    "    # linearmodels usa model.dependente; sm usa model.endog_names\n",
    "    try:\n",
    "        y = Resultado.model.dependent.dataframe.columns[0]\n",
    "    except:\n",
    "        y = Resultado.model.endog_names\n",
    "    word = f\"{inicio}{y} & = & {parametros} \\\\\\ & {erros}{fim}\"\n",
    "\n",
    "    ## Adicionando o numero de obs e os r2\n",
    "    # linearmodels usa .entity_info['total'] no numero de observações, sm usa nobs\n",
    "    try:\n",
    "        word += f\"\\nn = {int(dict(Resultado.entity_info)['total'])}; R^2 = {np.around(Resultado.rsquared,3)}\"\n",
    "    except:\n",
    "         word += f\"\\nn = {int(Resultado.nobs)}; R^2 = {np.around(Resultado.rsquared,3)}; R\\\\bar^2 = {np.around(Resultado.rsquared_adj,3)}\"\n",
    "\n",
    "    ## substituindo os . por ,\n",
    "    word = word.replace(\".\",\",\")\n",
    "    \n",
    "    ## copiando para o clipboard e printando o sucesso\n",
    "    subprocess.run(\"pbcopy\", universal_newlines=True, input=word)\n",
    "    print(\"O código da equação foi copiado para o clipboard!\")"
   ]
  },
  {
   "cell_type": "code",
   "execution_count": 235,
   "metadata": {},
   "outputs": [
    {
     "output_type": "stream",
     "name": "stdout",
     "text": [
      "O código da equação foi copiado para o clipboard!\n"
     ]
    }
   ],
   "source": [
    "equation()"
   ]
  },
  {
   "source": [
    "## Exercício C12"
   ],
   "cell_type": "markdown",
   "metadata": {}
  },
  {
   "cell_type": "code",
   "execution_count": 237,
   "metadata": {},
   "outputs": [
    {
     "output_type": "stream",
     "name": "stdout",
     "text": [
      "ELEM94_95.dta foi lido com sucesso!\n"
     ]
    },
    {
     "output_type": "execute_result",
     "data": {
      "text/plain": [
       "       distid  schid      lunch  enrol       staff   exppp   avgsal   avgben  \\\n",
       "0      1010.0   4937  48.299999  539.0   71.099998  3586.0  39383.0  13656.0   \n",
       "1      2010.0   4959  51.500000   59.0  127.099998  4357.0  25622.0  10004.0   \n",
       "2      2020.0   4999  51.200001   82.0  122.599998  5667.0  31318.0  12645.0   \n",
       "3      2070.0    597  33.700001  409.0   77.500000  2752.0  27873.0   9657.0   \n",
       "4      3010.0    790  11.900000  259.0   87.599998  3253.0  31264.0  10017.0   \n",
       "...       ...    ...        ...    ...         ...     ...      ...      ...   \n",
       "1843  83010.0   2210  62.799999  303.0   64.199997  3049.0  37658.0  12231.0   \n",
       "1844  83010.0   2480  50.000000  281.0   65.500000  2997.0  33885.0  11884.0   \n",
       "1845  83010.0   5101  41.000000  281.0   64.800003  2983.0  36244.0  12120.0   \n",
       "1846  83060.0   5901   0.000000  506.0   76.599998  3302.0  31165.0  11462.0   \n",
       "1847  83070.0   2527   0.000000  528.0   58.700001  2482.0  30549.0  10685.0   \n",
       "\n",
       "          math4     story4        bs    lavgsal    lenrol    lstaff  \n",
       "0     68.000000  70.699997  0.346749  10.581090  6.289716  4.264087  \n",
       "1     40.000000  40.000000  0.390446  10.151207  4.077538  4.844974  \n",
       "2     57.099998  57.099998  0.403761  10.351949  4.406719  4.808927  \n",
       "3     63.200001  73.500000  0.346464  10.235414  6.013715  4.350278  \n",
       "4     56.400002  64.099998  0.320400  10.350223  5.556828  4.472781  \n",
       "...         ...        ...       ...        ...       ...       ...  \n",
       "1843  52.000000  58.000000  0.324792  10.536301  5.713733  4.162003  \n",
       "1844  49.000000  74.500000  0.350716  10.430728  5.638355  4.182050  \n",
       "1845  70.400002  77.800003  0.334400  10.498029  5.638355  4.171306  \n",
       "1846  53.400002  66.099998  0.367784  10.347051  6.226537  4.338597  \n",
       "1847  43.900002  62.099998  0.349766  10.327087  6.269096  4.072440  \n",
       "\n",
       "[1848 rows x 14 columns]"
      ],
      "text/html": "<div>\n<style scoped>\n    .dataframe tbody tr th:only-of-type {\n        vertical-align: middle;\n    }\n\n    .dataframe tbody tr th {\n        vertical-align: top;\n    }\n\n    .dataframe thead th {\n        text-align: right;\n    }\n</style>\n<table border=\"1\" class=\"dataframe\">\n  <thead>\n    <tr style=\"text-align: right;\">\n      <th></th>\n      <th>distid</th>\n      <th>schid</th>\n      <th>lunch</th>\n      <th>enrol</th>\n      <th>staff</th>\n      <th>exppp</th>\n      <th>avgsal</th>\n      <th>avgben</th>\n      <th>math4</th>\n      <th>story4</th>\n      <th>bs</th>\n      <th>lavgsal</th>\n      <th>lenrol</th>\n      <th>lstaff</th>\n    </tr>\n  </thead>\n  <tbody>\n    <tr>\n      <th>0</th>\n      <td>1010.0</td>\n      <td>4937</td>\n      <td>48.299999</td>\n      <td>539.0</td>\n      <td>71.099998</td>\n      <td>3586.0</td>\n      <td>39383.0</td>\n      <td>13656.0</td>\n      <td>68.000000</td>\n      <td>70.699997</td>\n      <td>0.346749</td>\n      <td>10.581090</td>\n      <td>6.289716</td>\n      <td>4.264087</td>\n    </tr>\n    <tr>\n      <th>1</th>\n      <td>2010.0</td>\n      <td>4959</td>\n      <td>51.500000</td>\n      <td>59.0</td>\n      <td>127.099998</td>\n      <td>4357.0</td>\n      <td>25622.0</td>\n      <td>10004.0</td>\n      <td>40.000000</td>\n      <td>40.000000</td>\n      <td>0.390446</td>\n      <td>10.151207</td>\n      <td>4.077538</td>\n      <td>4.844974</td>\n    </tr>\n    <tr>\n      <th>2</th>\n      <td>2020.0</td>\n      <td>4999</td>\n      <td>51.200001</td>\n      <td>82.0</td>\n      <td>122.599998</td>\n      <td>5667.0</td>\n      <td>31318.0</td>\n      <td>12645.0</td>\n      <td>57.099998</td>\n      <td>57.099998</td>\n      <td>0.403761</td>\n      <td>10.351949</td>\n      <td>4.406719</td>\n      <td>4.808927</td>\n    </tr>\n    <tr>\n      <th>3</th>\n      <td>2070.0</td>\n      <td>597</td>\n      <td>33.700001</td>\n      <td>409.0</td>\n      <td>77.500000</td>\n      <td>2752.0</td>\n      <td>27873.0</td>\n      <td>9657.0</td>\n      <td>63.200001</td>\n      <td>73.500000</td>\n      <td>0.346464</td>\n      <td>10.235414</td>\n      <td>6.013715</td>\n      <td>4.350278</td>\n    </tr>\n    <tr>\n      <th>4</th>\n      <td>3010.0</td>\n      <td>790</td>\n      <td>11.900000</td>\n      <td>259.0</td>\n      <td>87.599998</td>\n      <td>3253.0</td>\n      <td>31264.0</td>\n      <td>10017.0</td>\n      <td>56.400002</td>\n      <td>64.099998</td>\n      <td>0.320400</td>\n      <td>10.350223</td>\n      <td>5.556828</td>\n      <td>4.472781</td>\n    </tr>\n    <tr>\n      <th>...</th>\n      <td>...</td>\n      <td>...</td>\n      <td>...</td>\n      <td>...</td>\n      <td>...</td>\n      <td>...</td>\n      <td>...</td>\n      <td>...</td>\n      <td>...</td>\n      <td>...</td>\n      <td>...</td>\n      <td>...</td>\n      <td>...</td>\n      <td>...</td>\n    </tr>\n    <tr>\n      <th>1843</th>\n      <td>83010.0</td>\n      <td>2210</td>\n      <td>62.799999</td>\n      <td>303.0</td>\n      <td>64.199997</td>\n      <td>3049.0</td>\n      <td>37658.0</td>\n      <td>12231.0</td>\n      <td>52.000000</td>\n      <td>58.000000</td>\n      <td>0.324792</td>\n      <td>10.536301</td>\n      <td>5.713733</td>\n      <td>4.162003</td>\n    </tr>\n    <tr>\n      <th>1844</th>\n      <td>83010.0</td>\n      <td>2480</td>\n      <td>50.000000</td>\n      <td>281.0</td>\n      <td>65.500000</td>\n      <td>2997.0</td>\n      <td>33885.0</td>\n      <td>11884.0</td>\n      <td>49.000000</td>\n      <td>74.500000</td>\n      <td>0.350716</td>\n      <td>10.430728</td>\n      <td>5.638355</td>\n      <td>4.182050</td>\n    </tr>\n    <tr>\n      <th>1845</th>\n      <td>83010.0</td>\n      <td>5101</td>\n      <td>41.000000</td>\n      <td>281.0</td>\n      <td>64.800003</td>\n      <td>2983.0</td>\n      <td>36244.0</td>\n      <td>12120.0</td>\n      <td>70.400002</td>\n      <td>77.800003</td>\n      <td>0.334400</td>\n      <td>10.498029</td>\n      <td>5.638355</td>\n      <td>4.171306</td>\n    </tr>\n    <tr>\n      <th>1846</th>\n      <td>83060.0</td>\n      <td>5901</td>\n      <td>0.000000</td>\n      <td>506.0</td>\n      <td>76.599998</td>\n      <td>3302.0</td>\n      <td>31165.0</td>\n      <td>11462.0</td>\n      <td>53.400002</td>\n      <td>66.099998</td>\n      <td>0.367784</td>\n      <td>10.347051</td>\n      <td>6.226537</td>\n      <td>4.338597</td>\n    </tr>\n    <tr>\n      <th>1847</th>\n      <td>83070.0</td>\n      <td>2527</td>\n      <td>0.000000</td>\n      <td>528.0</td>\n      <td>58.700001</td>\n      <td>2482.0</td>\n      <td>30549.0</td>\n      <td>10685.0</td>\n      <td>43.900002</td>\n      <td>62.099998</td>\n      <td>0.349766</td>\n      <td>10.327087</td>\n      <td>6.269096</td>\n      <td>4.072440</td>\n    </tr>\n  </tbody>\n</table>\n<p>1848 rows × 14 columns</p>\n</div>"
     },
     "metadata": {},
     "execution_count": 237
    }
   ],
   "source": [
    "coletar_dados('ELEM94_95')"
   ]
  },
  {
   "cell_type": "code",
   "execution_count": 238,
   "metadata": {},
   "outputs": [
    {
     "output_type": "execute_result",
     "data": {
      "text/plain": [
       "         schid   distid\n",
       "distid                 \n",
       "1010.0       1   1010.0\n",
       "2010.0       1   2010.0\n",
       "2020.0       1   2020.0\n",
       "2070.0       1   2070.0\n",
       "3010.0       3   3010.0\n",
       "...        ...      ...\n",
       "82405.0      5  82405.0\n",
       "82430.0      6  82430.0\n",
       "83010.0      5  83010.0\n",
       "83060.0      1  83060.0\n",
       "83070.0      1  83070.0\n",
       "\n",
       "[537 rows x 2 columns]"
      ],
      "text/html": "<div>\n<style scoped>\n    .dataframe tbody tr th:only-of-type {\n        vertical-align: middle;\n    }\n\n    .dataframe tbody tr th {\n        vertical-align: top;\n    }\n\n    .dataframe thead th {\n        text-align: right;\n    }\n</style>\n<table border=\"1\" class=\"dataframe\">\n  <thead>\n    <tr style=\"text-align: right;\">\n      <th></th>\n      <th>schid</th>\n      <th>distid</th>\n    </tr>\n    <tr>\n      <th>distid</th>\n      <th></th>\n      <th></th>\n    </tr>\n  </thead>\n  <tbody>\n    <tr>\n      <th>1010.0</th>\n      <td>1</td>\n      <td>1010.0</td>\n    </tr>\n    <tr>\n      <th>2010.0</th>\n      <td>1</td>\n      <td>2010.0</td>\n    </tr>\n    <tr>\n      <th>2020.0</th>\n      <td>1</td>\n      <td>2020.0</td>\n    </tr>\n    <tr>\n      <th>2070.0</th>\n      <td>1</td>\n      <td>2070.0</td>\n    </tr>\n    <tr>\n      <th>3010.0</th>\n      <td>3</td>\n      <td>3010.0</td>\n    </tr>\n    <tr>\n      <th>...</th>\n      <td>...</td>\n      <td>...</td>\n    </tr>\n    <tr>\n      <th>82405.0</th>\n      <td>5</td>\n      <td>82405.0</td>\n    </tr>\n    <tr>\n      <th>82430.0</th>\n      <td>6</td>\n      <td>82430.0</td>\n    </tr>\n    <tr>\n      <th>83010.0</th>\n      <td>5</td>\n      <td>83010.0</td>\n    </tr>\n    <tr>\n      <th>83060.0</th>\n      <td>1</td>\n      <td>83060.0</td>\n    </tr>\n    <tr>\n      <th>83070.0</th>\n      <td>1</td>\n      <td>83070.0</td>\n    </tr>\n  </tbody>\n</table>\n<p>537 rows × 2 columns</p>\n</div>"
     },
     "metadata": {},
     "execution_count": 238
    }
   ],
   "source": [
    "## Vendo o total de escolas por distrito\n",
    "escolas = pd.DataFrame(df.groupby('distid')['schid'].count())\n",
    "escolas['distid'] = escolas.index\n",
    "escolas"
   ]
  },
  {
   "cell_type": "code",
   "execution_count": 239,
   "metadata": {},
   "outputs": [
    {
     "output_type": "execute_result",
     "data": {
      "text/plain": [
       "271"
      ]
     },
     "metadata": {},
     "execution_count": 239
    }
   ],
   "source": [
    "## vendo quantos distritos tem uma escola\n",
    "len(escolas.loc[escolas['schid'] == 1])"
   ]
  },
  {
   "cell_type": "code",
   "execution_count": 240,
   "metadata": {},
   "outputs": [
    {
     "output_type": "stream",
     "name": "stdout",
     "text": [
      "O valor mínimo de escolas por distrito é 1.\nO valor máximo de escolas por distrito é 162.\nO valor médio de escolas por distrito é 3.441340782122905.\n"
     ]
    }
   ],
   "source": [
    "print(f\"O valor mínimo de escolas por distrito é {min(escolas['schid'])}.\")\n",
    "print(f\"O valor máximo de escolas por distrito é {max(escolas['schid'])}.\")\n",
    "print(f\"O valor médio de escolas por distrito é {escolas['schid'].mean()}.\")"
   ]
  },
  {
   "cell_type": "code",
   "execution_count": 241,
   "metadata": {},
   "outputs": [
    {
     "output_type": "execute_result",
     "data": {
      "text/plain": [
       "                   lunch  enrol       staff   exppp   avgsal   avgben  \\\n",
       "distid  schid                                                           \n",
       "1010.0  4937   48.299999  539.0   71.099998  3586.0  39383.0  13656.0   \n",
       "2010.0  4959   51.500000   59.0  127.099998  4357.0  25622.0  10004.0   \n",
       "2020.0  4999   51.200001   82.0  122.599998  5667.0  31318.0  12645.0   \n",
       "2070.0  597    33.700001  409.0   77.500000  2752.0  27873.0   9657.0   \n",
       "3010.0  790    11.900000  259.0   87.599998  3253.0  31264.0  10017.0   \n",
       "...                  ...    ...         ...     ...      ...      ...   \n",
       "83010.0 2210   62.799999  303.0   64.199997  3049.0  37658.0  12231.0   \n",
       "        2480   50.000000  281.0   65.500000  2997.0  33885.0  11884.0   \n",
       "        5101   41.000000  281.0   64.800003  2983.0  36244.0  12120.0   \n",
       "83060.0 5901    0.000000  506.0   76.599998  3302.0  31165.0  11462.0   \n",
       "83070.0 2527    0.000000  528.0   58.700001  2482.0  30549.0  10685.0   \n",
       "\n",
       "                   math4     story4        bs    lavgsal    lenrol    lstaff  \\\n",
       "distid  schid                                                                  \n",
       "1010.0  4937   68.000000  70.699997  0.346749  10.581090  6.289716  4.264087   \n",
       "2010.0  4959   40.000000  40.000000  0.390446  10.151207  4.077538  4.844974   \n",
       "2020.0  4999   57.099998  57.099998  0.403761  10.351949  4.406719  4.808927   \n",
       "2070.0  597    63.200001  73.500000  0.346464  10.235414  6.013715  4.350278   \n",
       "3010.0  790    56.400002  64.099998  0.320400  10.350223  5.556828  4.472781   \n",
       "...                  ...        ...       ...        ...       ...       ...   \n",
       "83010.0 2210   52.000000  58.000000  0.324792  10.536301  5.713733  4.162003   \n",
       "        2480   49.000000  74.500000  0.350716  10.430728  5.638355  4.182050   \n",
       "        5101   70.400002  77.800003  0.334400  10.498029  5.638355  4.171306   \n",
       "83060.0 5901   53.400002  66.099998  0.367784  10.347051  6.226537  4.338597   \n",
       "83070.0 2527   43.900002  62.099998  0.349766  10.327087  6.269096  4.072440   \n",
       "\n",
       "              schid  \n",
       "distid  schid        \n",
       "1010.0  4937   4937  \n",
       "2010.0  4959   4959  \n",
       "2020.0  4999   4999  \n",
       "2070.0  597     597  \n",
       "3010.0  790     790  \n",
       "...             ...  \n",
       "83010.0 2210   2210  \n",
       "        2480   2480  \n",
       "        5101   5101  \n",
       "83060.0 5901   5901  \n",
       "83070.0 2527   2527  \n",
       "\n",
       "[1848 rows x 13 columns]"
      ],
      "text/html": "<div>\n<style scoped>\n    .dataframe tbody tr th:only-of-type {\n        vertical-align: middle;\n    }\n\n    .dataframe tbody tr th {\n        vertical-align: top;\n    }\n\n    .dataframe thead th {\n        text-align: right;\n    }\n</style>\n<table border=\"1\" class=\"dataframe\">\n  <thead>\n    <tr style=\"text-align: right;\">\n      <th></th>\n      <th></th>\n      <th>lunch</th>\n      <th>enrol</th>\n      <th>staff</th>\n      <th>exppp</th>\n      <th>avgsal</th>\n      <th>avgben</th>\n      <th>math4</th>\n      <th>story4</th>\n      <th>bs</th>\n      <th>lavgsal</th>\n      <th>lenrol</th>\n      <th>lstaff</th>\n      <th>schid</th>\n    </tr>\n    <tr>\n      <th>distid</th>\n      <th>schid</th>\n      <th></th>\n      <th></th>\n      <th></th>\n      <th></th>\n      <th></th>\n      <th></th>\n      <th></th>\n      <th></th>\n      <th></th>\n      <th></th>\n      <th></th>\n      <th></th>\n      <th></th>\n    </tr>\n  </thead>\n  <tbody>\n    <tr>\n      <th>1010.0</th>\n      <th>4937</th>\n      <td>48.299999</td>\n      <td>539.0</td>\n      <td>71.099998</td>\n      <td>3586.0</td>\n      <td>39383.0</td>\n      <td>13656.0</td>\n      <td>68.000000</td>\n      <td>70.699997</td>\n      <td>0.346749</td>\n      <td>10.581090</td>\n      <td>6.289716</td>\n      <td>4.264087</td>\n      <td>4937</td>\n    </tr>\n    <tr>\n      <th>2010.0</th>\n      <th>4959</th>\n      <td>51.500000</td>\n      <td>59.0</td>\n      <td>127.099998</td>\n      <td>4357.0</td>\n      <td>25622.0</td>\n      <td>10004.0</td>\n      <td>40.000000</td>\n      <td>40.000000</td>\n      <td>0.390446</td>\n      <td>10.151207</td>\n      <td>4.077538</td>\n      <td>4.844974</td>\n      <td>4959</td>\n    </tr>\n    <tr>\n      <th>2020.0</th>\n      <th>4999</th>\n      <td>51.200001</td>\n      <td>82.0</td>\n      <td>122.599998</td>\n      <td>5667.0</td>\n      <td>31318.0</td>\n      <td>12645.0</td>\n      <td>57.099998</td>\n      <td>57.099998</td>\n      <td>0.403761</td>\n      <td>10.351949</td>\n      <td>4.406719</td>\n      <td>4.808927</td>\n      <td>4999</td>\n    </tr>\n    <tr>\n      <th>2070.0</th>\n      <th>597</th>\n      <td>33.700001</td>\n      <td>409.0</td>\n      <td>77.500000</td>\n      <td>2752.0</td>\n      <td>27873.0</td>\n      <td>9657.0</td>\n      <td>63.200001</td>\n      <td>73.500000</td>\n      <td>0.346464</td>\n      <td>10.235414</td>\n      <td>6.013715</td>\n      <td>4.350278</td>\n      <td>597</td>\n    </tr>\n    <tr>\n      <th>3010.0</th>\n      <th>790</th>\n      <td>11.900000</td>\n      <td>259.0</td>\n      <td>87.599998</td>\n      <td>3253.0</td>\n      <td>31264.0</td>\n      <td>10017.0</td>\n      <td>56.400002</td>\n      <td>64.099998</td>\n      <td>0.320400</td>\n      <td>10.350223</td>\n      <td>5.556828</td>\n      <td>4.472781</td>\n      <td>790</td>\n    </tr>\n    <tr>\n      <th>...</th>\n      <th>...</th>\n      <td>...</td>\n      <td>...</td>\n      <td>...</td>\n      <td>...</td>\n      <td>...</td>\n      <td>...</td>\n      <td>...</td>\n      <td>...</td>\n      <td>...</td>\n      <td>...</td>\n      <td>...</td>\n      <td>...</td>\n      <td>...</td>\n    </tr>\n    <tr>\n      <th rowspan=\"3\" valign=\"top\">83010.0</th>\n      <th>2210</th>\n      <td>62.799999</td>\n      <td>303.0</td>\n      <td>64.199997</td>\n      <td>3049.0</td>\n      <td>37658.0</td>\n      <td>12231.0</td>\n      <td>52.000000</td>\n      <td>58.000000</td>\n      <td>0.324792</td>\n      <td>10.536301</td>\n      <td>5.713733</td>\n      <td>4.162003</td>\n      <td>2210</td>\n    </tr>\n    <tr>\n      <th>2480</th>\n      <td>50.000000</td>\n      <td>281.0</td>\n      <td>65.500000</td>\n      <td>2997.0</td>\n      <td>33885.0</td>\n      <td>11884.0</td>\n      <td>49.000000</td>\n      <td>74.500000</td>\n      <td>0.350716</td>\n      <td>10.430728</td>\n      <td>5.638355</td>\n      <td>4.182050</td>\n      <td>2480</td>\n    </tr>\n    <tr>\n      <th>5101</th>\n      <td>41.000000</td>\n      <td>281.0</td>\n      <td>64.800003</td>\n      <td>2983.0</td>\n      <td>36244.0</td>\n      <td>12120.0</td>\n      <td>70.400002</td>\n      <td>77.800003</td>\n      <td>0.334400</td>\n      <td>10.498029</td>\n      <td>5.638355</td>\n      <td>4.171306</td>\n      <td>5101</td>\n    </tr>\n    <tr>\n      <th>83060.0</th>\n      <th>5901</th>\n      <td>0.000000</td>\n      <td>506.0</td>\n      <td>76.599998</td>\n      <td>3302.0</td>\n      <td>31165.0</td>\n      <td>11462.0</td>\n      <td>53.400002</td>\n      <td>66.099998</td>\n      <td>0.367784</td>\n      <td>10.347051</td>\n      <td>6.226537</td>\n      <td>4.338597</td>\n      <td>5901</td>\n    </tr>\n    <tr>\n      <th>83070.0</th>\n      <th>2527</th>\n      <td>0.000000</td>\n      <td>528.0</td>\n      <td>58.700001</td>\n      <td>2482.0</td>\n      <td>30549.0</td>\n      <td>10685.0</td>\n      <td>43.900002</td>\n      <td>62.099998</td>\n      <td>0.349766</td>\n      <td>10.327087</td>\n      <td>6.269096</td>\n      <td>4.072440</td>\n      <td>2527</td>\n    </tr>\n  </tbody>\n</table>\n<p>1848 rows × 13 columns</p>\n</div>"
     },
     "metadata": {},
     "execution_count": 241
    }
   ],
   "source": [
    "Arrumar_Painel()"
   ]
  },
  {
   "cell_type": "code",
   "execution_count": 242,
   "metadata": {},
   "outputs": [
    {
     "output_type": "stream",
     "name": "stdout",
     "text": [
      "                          PooledOLS Estimation Summary                          \n================================================================================\nDep. Variable:                lavgsal   R-squared:                        0.4882\nEstimator:                  PooledOLS   R-squared (Between):              0.2866\nNo. Observations:                1848   R-squared (Within):               0.5393\nDate:                Tue, Mar 16 2021   R-squared (Overall):              0.4882\nTime:                        08:08:59   Log-likelihood                    689.98\nCov. Estimator:            Unadjusted                                           \n                                        F-statistic:                      439.43\nEntities:                         537   P-value                           0.0000\nAvg Obs:                       3.4413   Distribution:                  F(4,1843)\nMin Obs:                       1.0000                                           \nMax Obs:                       162.00   F-statistic (robust):             439.43\n                                        P-value                           0.0000\nTime periods:                    1848   Distribution:                  F(4,1843)\nAvg Obs:                       1.0000                                           \nMin Obs:                       1.0000                                           \nMax Obs:                       1.0000                                           \n                                                                                \n                             Parameter Estimates                              \n==============================================================================\n            Parameter  Std. Err.     T-stat    P-value    Lower CI    Upper CI\n------------------------------------------------------------------------------\nconst          13.831     0.1097     126.06     0.0000      13.616      14.047\nbs            -0.5161     0.1098    -4.7017     0.0000     -0.7314     -0.3008\nlenrol        -0.0284     0.0085    -3.3596     0.0008     -0.0450     -0.0118\nlstaff        -0.6906     0.0184    -37.615     0.0000     -0.7266     -0.6546\nlunch         -0.0008     0.0002    -4.6946     0.0000     -0.0011     -0.0004\n==============================================================================\n"
     ]
    }
   ],
   "source": [
    "## fazendo um mqo agrupado\n",
    "x = df[['bs','lenrol','lstaff','lunch']]\n",
    "y = df['lavgsal']\n",
    "\n",
    "Reg_Painel_MQO_Agrupado(x,y)"
   ]
  },
  {
   "cell_type": "code",
   "execution_count": 9,
   "metadata": {},
   "outputs": [],
   "source": [
    "def Reg_Painel_MQO_Agrupado(x, y, constante = \"S\", cov = \"normal\"):\n",
    "    '''\n",
    "    Função que calcula uma regressão por MQO agrupado, sendo, por default, computada com um intercepto e com erros padrões  robustos.\n",
    "    **IMPORTANTE: para o painel estar arrumado, os dados devem estar multi-indexados por indíviduo e por tempo, nesta ordem.\n",
    "    Caso contrário, transformar o dataframe usando a função 'Arrumar Painel'\n",
    "    x: lista ou array com os valores das variáveis independentes;\n",
    "    y: lista ou array com os valores da variável dependente;\n",
    "    constante: \"S\" para regressão com intercepto e qualquer outro valor para sem intercepto. Caso em branco, a regressão é computada com intercepto;\n",
    "    cov: \"normal\" para regressão com erros-padrão tradicionais (caso padrão);\n",
    "        \"robust\" para erros-padrões robustos.\n",
    "        \"cluster\" ou \"clustered\" para erros-padrões clusterizados\n",
    "    '''\n",
    "    global df, Resultado\n",
    "    \n",
    "    # formando o vetor de variáveis independentes\n",
    "    if constante == \"S\":\n",
    "        X = sm.add_constant(x)\n",
    "    else:\n",
    "        X = x\n",
    "    \n",
    "    #Criando o Modelo levando em conta a opção do erro padrão\n",
    "    Modelo = PooledOLS(y,X)\n",
    "\n",
    "    if cov == \"robusta\":\n",
    "        Resultado = Modelo.fit(cov_type = 'robust')\n",
    "    elif cov == 'clustered' or cov == 'cluster':\n",
    "        Resultado = Modelo.fit(cov_type = 'clustered',cluster_entity=True)\n",
    "    else:\n",
    "        Resultado = Modelo.fit()\n",
    "    print(Resultado)"
   ]
  },
  {
   "cell_type": "code",
   "execution_count": 10,
   "metadata": {},
   "outputs": [
    {
     "output_type": "stream",
     "name": "stdout",
     "text": [
      "                          PooledOLS Estimation Summary                          \n================================================================================\nDep. Variable:                lavgsal   R-squared:                        0.4882\nEstimator:                  PooledOLS   R-squared (Between):              0.2866\nNo. Observations:                1848   R-squared (Within):               0.5393\nDate:                Sun, Mar 14 2021   R-squared (Overall):              0.4882\nTime:                        19:01:19   Log-likelihood                    689.98\nCov. Estimator:             Clustered                                           \n                                        F-statistic:                      439.43\nEntities:                         537   P-value                           0.0000\nAvg Obs:                       3.4413   Distribution:                  F(4,1843)\nMin Obs:                       1.0000                                           \nMax Obs:                       162.00   F-statistic (robust):             129.94\n                                        P-value                           0.0000\nTime periods:                    1848   Distribution:                  F(4,1843)\nAvg Obs:                       1.0000                                           \nMin Obs:                       1.0000                                           \nMax Obs:                       1.0000                                           \n                                                                                \n                             Parameter Estimates                              \n==============================================================================\n            Parameter  Std. Err.     T-stat    P-value    Lower CI    Upper CI\n------------------------------------------------------------------------------\nconst          13.831     0.3131     44.177     0.0000      13.217      14.446\nbs            -0.5161     0.2528    -2.0415     0.0413     -1.0120     -0.0203\nlenrol        -0.0284     0.0254    -1.1199     0.2629     -0.0782      0.0213\nlstaff        -0.6906     0.0356    -19.417     0.0000     -0.7604     -0.6209\nlunch         -0.0008     0.0005    -1.4436     0.1490     -0.0018      0.0003\n==============================================================================\n"
     ]
    }
   ],
   "source": [
    "## Fazendo MQO Agrupado com erros clusterizados\n",
    "Reg_Painel_MQO_Agrupado(x,y,cov='cluster')"
   ]
  },
  {
   "cell_type": "code",
   "execution_count": 11,
   "metadata": {},
   "outputs": [
    {
     "output_type": "stream",
     "name": "stdout",
     "text": [
      "                          PooledOLS Estimation Summary                          \n================================================================================\nDep. Variable:                lavgsal   R-squared:                        0.4889\nEstimator:                  PooledOLS   R-squared (Between):              0.2908\nNo. Observations:                1844   R-squared (Within):               0.5412\nDate:                Sun, Mar 14 2021   R-squared (Overall):              0.4889\nTime:                        19:01:24   Log-likelihood                    707.02\nCov. Estimator:             Clustered                                           \n                                        F-statistic:                      439.70\nEntities:                         537   P-value                           0.0000\nAvg Obs:                       3.4339   Distribution:                  F(4,1839)\nMin Obs:                       1.0000                                           \nMax Obs:                       161.00   F-statistic (robust):             133.60\n                                        P-value                           0.0000\nTime periods:                    1848   Distribution:                  F(4,1839)\nAvg Obs:                       0.9978                                           \nMin Obs:                       0.0000                                           \nMax Obs:                       1.0000                                           \n                                                                                \n                             Parameter Estimates                              \n==============================================================================\n            Parameter  Std. Err.     T-stat    P-value    Lower CI    Upper CI\n------------------------------------------------------------------------------\nconst          13.710     0.2531     54.179     0.0000      13.214      14.206\nbs            -0.1865     0.2728    -0.6835     0.4944     -0.7216      0.3486\nlenrol        -0.0270     0.0241    -1.1212     0.2623     -0.0743      0.0203\nlstaff        -0.6901     0.0353    -19.553     0.0000     -0.7593     -0.6209\nlunch         -0.0008     0.0006    -1.4506     0.1471     -0.0019      0.0003\n==============================================================================\n"
     ]
    }
   ],
   "source": [
    "## Pegando apenas as observações com bs < 0.5\n",
    "df = df.loc[df['bs'] <= 0.5]\n",
    "\n",
    "x = df[['bs','lenrol','lstaff','lunch']]\n",
    "y = df['lavgsal']\n",
    "\n",
    "Reg_Painel_MQO_Agrupado(x,y,cov='cluster')"
   ]
  },
  {
   "cell_type": "code",
   "execution_count": 12,
   "metadata": {},
   "outputs": [
    {
     "output_type": "stream",
     "name": "stdout",
     "text": [
      "                          PanelOLS Estimation Summary                           \n================================================================================\nDep. Variable:                lavgsal   R-squared:                        0.5759\nEstimator:                   PanelOLS   R-squared (Between):              0.2774\nNo. Observations:                1844   R-squared (Within):               0.5759\nDate:                Sun, Mar 14 2021   R-squared (Overall):              0.4555\nTime:                        19:01:27   Log-likelihood                    2045.4\nCov. Estimator:            Unadjusted                                           \n                                        F-statistic:                      442.37\nEntities:                         537   P-value                           0.0000\nAvg Obs:                       3.4339   Distribution:                  F(4,1303)\nMin Obs:                       1.0000                                           \nMax Obs:                       161.00   F-statistic (robust):             442.37\n                                        P-value                           0.0000\nTime periods:                    1848   Distribution:                  F(4,1303)\nAvg Obs:                       0.9978                                           \nMin Obs:                       0.0000                                           \nMax Obs:                       1.0000                                           \n                                                                                \n                             Parameter Estimates                              \n==============================================================================\n            Parameter  Std. Err.     T-stat    P-value    Lower CI    Upper CI\n------------------------------------------------------------------------------\nconst          13.615     0.1100     123.82     0.0000      13.399      13.831\nbs            -0.5234     0.1467    -3.5693     0.0004     -0.8111     -0.2357\nlenrol        -0.0481     0.0089    -5.3846     0.0000     -0.0657     -0.0306\nlstaff        -0.6235     0.0159    -39.146     0.0000     -0.6548     -0.5923\nlunch          0.0005     0.0002     2.6529     0.0081      0.0001      0.0009\n==============================================================================\n\nF-test for Poolability: 7.9495\nP-value: 0.0000\nDistribution: F(536,1303)\n\nIncluded effects: Entity\n"
     ]
    }
   ],
   "source": [
    "## fazendo estimações por efeitos fixos\n",
    "x = df[['bs','lenrol','lstaff','lunch']]\n",
    "y = df['lavgsal']\n",
    "\n",
    "Reg_Painel_Efeitos_Fixos(x,y)"
   ]
  }
 ]
}