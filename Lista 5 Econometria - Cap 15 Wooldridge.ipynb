{
 "metadata": {
  "language_info": {
   "codemirror_mode": {
    "name": "ipython",
    "version": 3
   },
   "file_extension": ".py",
   "mimetype": "text/x-python",
   "name": "python",
   "nbconvert_exporter": "python",
   "pygments_lexer": "ipython3",
   "version": "3.7.7-final"
  },
  "orig_nbformat": 2,
  "kernelspec": {
   "name": "python3",
   "display_name": "Python 3.7.7 64-bit ('myenv': conda)",
   "metadata": {
    "interpreter": {
     "hash": "8b633cbbc14e145906599cefe47c3dba10dc0e2c3bc4a9e7fbbaa016a7f81938"
    }
   }
  }
 },
 "nbformat": 4,
 "nbformat_minor": 2,
 "cells": [
  {
   "cell_type": "code",
   "execution_count": 1,
   "metadata": {},
   "outputs": [],
   "source": [
    "#Criado por: Vinícius de Almeida Nery Ferreira (ECO - UnB)\n",
    "#Github: https://github.com/vnery5/Econometria\n",
    "\n",
    "#######################################################################################################################\n",
    "###COMO USAR AS FUNÇÕES EM UM NOTEBOOK\n",
    "##Antes, copie e cole todos os imports e definições daqui na primeira célula do notebook e pressione Shift + Enter\n",
    "##Para coletar os dados do arquivo \"carros.dta\" (só funciona com arquivos .dta):\n",
    "#coletar_dados(\"carros\")\n",
    "\n",
    "## Exportar resultados como imagem ou texto: https://stackoverflow.com/questions/46664082/python-how-to-save-statsmodels-results-as-image-file\n",
    "#######################################################################################################################\n",
    "\n",
    "##Importando os pacotes e módulos necessários\n",
    "import pandas as pd\n",
    "import numpy as np\n",
    "import math\n",
    "\n",
    "#Para Regressão Linear Simples e Teste F\n",
    "from scipy import stats\n",
    "\n",
    "#Para Regressão Linear Múltipla (OLS, GLS e WLS) e Testes Estatísticos\n",
    "import statsmodels.api as sm\n",
    "import econtools\n",
    "import econtools.metrics as mt\n",
    "\n",
    "#Para Regressão em Painel\n",
    "from linearmodels import PanelOLS, FirstDifferenceOLS, PooledOLS, RandomEffects\n",
    "from linearmodels.panel import compare\n",
    "\n",
    "#Pacotes para gráficos (caso precise)\n",
    "import matplotlib\n",
    "import matplotlib.pyplot as plt\n",
    "import seaborn as sns\n",
    "import plotly.express as px\n",
    "import plotly.graph_objects as go\n",
    "\n",
    "#Pacotes para fazer a coleta dos dados armazenados no mesmo diretório e outros pacotes gerais\n",
    "import os\n",
    "import pathlib\n",
    "import glob\n",
    "from IPython.display import clear_output\n",
    "import gc\n",
    "import subprocess #permite a cópia para o clipboard das equações gerados com as funções equation()\n",
    "\n",
    "####################################### Criando as Funções ###############################################################\n",
    "\n",
    "def coletar_dados(nome = \"\"):\n",
    "    '''\n",
    "    Função que le os arquivos do Stata (.dta) - NÃO COLOQUE A EXTENSÃO NA HORA DE NOMEAR O \"NOME\"!\n",
    "    O arquivo deve estar na mesma pasta do arquivo de Python ou do notebook do jupyter.\n",
    "    Deixe em branco para ler o arquivo mais recentemente adicionado à pasta.\n",
    "    '''\n",
    "\n",
    "    global df\n",
    "\n",
    "    #Pegando qual a pasta do arquivo que está sendo usado pra programar\n",
    "    caminho = pathlib.Path().absolute()\n",
    "\n",
    "    #No meu caso específico:\n",
    "    caminho_vinicius = f\"{caminho}/datasets\"\n",
    "\n",
    "    #checando se o nome foi inserido ou não; caso não, pegar o arquivo .dta mais recente\n",
    "    if nome == \"\":\n",
    "        try:\n",
    "            arquivo = max(glob.glob(f\"{str(caminho)}/*.dta\"), key=os.path.getctime)\n",
    "            df = pd.read_stata(arquivo)\n",
    "            print(f\"{arquivo}.dta foi lido com sucesso!\")\n",
    "            return df\n",
    "        except:\n",
    "            arquivo = max(glob.glob(f\"{str(caminho_vinicius)}/*.dta\"), key=os.path.getctime)\n",
    "            df = pd.read_stata(arquivo)\n",
    "            print(f\"{arquivo}.dta foi lido com sucesso!\")\n",
    "            return df\n",
    "    else:\n",
    "        try:\n",
    "            arquivo = f\"{str(caminho)}/{str(nome)}.dta\"\n",
    "            df = pd.read_stata(arquivo)\n",
    "            print(f\"{nome}.dta foi lido com sucesso!\")\n",
    "            return df\n",
    "        except:\n",
    "            try:\n",
    "                arquivo = f\"{str(caminho_vinicius)}/{str(nome)}.dta\"\n",
    "                df = pd.read_stata(arquivo)\n",
    "                print(f\"{nome}.dta foi lido com sucesso!\")\n",
    "                return df\n",
    "            except: #caso não tenha sido encontrado o arquivo com o nome inserido\n",
    "                print('''\n",
    "                Não foi possível achar o arquivo :(\\n\n",
    "                Verifique se seu nome está correto (sem a extensão) e se ele está no mesmo diretório do programa!\n",
    "                ''')\n",
    "\n",
    "def Regressao_Multipla(x, y, constante = \"S\", cov = \"normal\"):\n",
    "    '''\n",
    "    Função que calcula uma regressão múltipla, sendo, por default, computada com um intercepto e com erros padrões não robustos.\n",
    "\n",
    "    x: lista ou array com os valores das variáveis independentes;\n",
    "    y: lista ou array com os valores da variável dependente;\n",
    "    constante: \"S\" para regressão com intercepto e qualquer outro valor para sem intercepto. Caso em branco, a regressão é computada com intercepto;\n",
    "    cov: \"normal\" para regressão com erros-padrão tradicionais (caso padrão);\n",
    "        \"robust\" para erros-padrões robustos.\n",
    "        \"cluster\" ou \"clustered\" para erros-padrões clusterizados\n",
    "    '''\n",
    "\n",
    "    global Resultado, Lista_ychapeu, Resíduos, SQR, EPR\n",
    "\n",
    "    #adicionando uma constante ao modelo de Ordinary Least Squares (OLS)\n",
    "    if constante == \"S\":\n",
    "        X = sm.add_constant(x)\n",
    "    else:\n",
    "        X = x\n",
    "\n",
    "    #Criando o Modelo levando em conta a opção de erros padrão\n",
    "    Modelo = sm.OLS(y,X)\n",
    "\n",
    "    if cov == \"robust\":\n",
    "        Resultado = Modelo.fit(cov_type = 'HC1', use_t = True)\n",
    "    elif cov == \"cluster\" or cov == \"clustered\":\n",
    "        group = str(input(\"Qual o rótulo da coluna de grupo?\"))\n",
    "        try:\n",
    "            Resultado = Modelo.fit(cov_type = 'cluster',cov_kwds  ={'groups':df[group]}, use_t = True)\n",
    "        except:\n",
    "            erro = \"Não foi possível encontrar o grupo selecionado. Tente novamente!\"\n",
    "            return erro\n",
    "    else:\n",
    "        Resultado = Modelo.fit()\n",
    "    \n",
    "    Lista_ychapeu = Resultado.predict()\n",
    "    Resíduos = y - Lista_ychapeu\n",
    "\n",
    "    #Calculando o Erro Padrão da Regressão (EPR)\n",
    "    SQR =sum([i**2 for i in Resíduos])\n",
    "    Número_de_Observações = len(y)\n",
    "    GL = Número_de_Observações - len(Resultado.params)\n",
    "    VarianciaReg = SQR/GL\n",
    "    EPR = math.sqrt(VarianciaReg)\n",
    "    \n",
    "    ##Printando o Resultado\n",
    "    print(Resultado.summary())\n",
    "\n",
    "    print(f\"O erro padrão da regressão é {round(EPR,5)} e a SQR é {round(SQR,5)}\")\n",
    "    print(\"\\nPara ver os valores previstos ou os resídudos, basta chamar 'Lista_ychapeu' e 'Resíduos'.\")\n",
    "    print(\"Os resultados do modelo podem ser obtidos através de métodos usando a variável 'Resultado'.\")\n",
    "    print(\"\"\"\n",
    "    Valores de condição maiores que 20 indicam problemas de multicolinearidade.\n",
    "    Para ver como achar esse número, entre em https://www.statsmodels.org/dev/examples/notebooks/generated/ols.html\"\"\"\n",
    "    )\n",
    "\n",
    "def Regressao_MQP(x, y, pesos, constante = \"S\", cov = \"normal\"):\n",
    "    '''\n",
    "    Função que calcula uma regressão múltipla usando mínimos quadrados ponderados, ou seja,\n",
    "    recomendada quando o erro é heteroscedástico E se sabe a função da constante. Ela é, por default, computada com um intercepto e com erros padrões não robustos.\n",
    "\n",
    "    x: lista ou array com os valores das variáveis independentes;\n",
    "    y: lista ou array com os valores da variável dependente;\n",
    "    pesos: 1/h, sendo h a constante multiplicativa da variância do erro (ou seja, sem a raiz);\n",
    "    constante: \"S\" para regressão com intercepto e qualquer outro valor para sem intercepto. Caso em branco, a regressão é computada com intercepto;\n",
    "    cov: \"normal\" para regressão com erros-padrão tradicionais (caso padrão);\n",
    "        \"robust\" para erros-padrões robustos.\n",
    "        \"cluster\" para erros-padrões clusterizados\n",
    "    '''\n",
    "\n",
    "    global Resultado, Lista_ychapeu, Resíduos, SQR, EPR\n",
    "\n",
    "    #adicionando uma constante ao modelo de Ordinary Least Squares(OLS)\n",
    "    if constante == \"S\":\n",
    "        X = sm.add_constant(x)\n",
    "    else:\n",
    "        X = x\n",
    "\n",
    "    #Criando o Modelo levando em conta a opção de erros padrão\n",
    "    Modelo = sm.WLS(y,X, weights = pesos)\n",
    "\n",
    "    if cov == \"robust\":\n",
    "        Resultado = Modelo.fit(cov_type = 'HC1', use_t = True)\n",
    "    elif cov == \"cluster\" or cov == \"clustered\":\n",
    "        group = str(input(\"Qual o rótulo da coluna de grupo?\"))\n",
    "        try:\n",
    "            Resultado = Modelo.fit(cov_type = 'cluster',cov_kwds  ={'groups':df[group]}, use_t = True)\n",
    "        except:\n",
    "            erro = \"Não foi possível encontrar o grupo selecionado. Tente novamente!\"\n",
    "            return erro\n",
    "    else:\n",
    "        Resultado = Modelo.fit()\n",
    "\n",
    "    Lista_ychapeu = Resultado.predict()\n",
    "    Resíduos = y - Lista_ychapeu\n",
    "\n",
    "    #Calculando o Erro Padrão da Regressão (EPR)\n",
    "    SQR =sum([i**2 for i in Resíduos])\n",
    "    Número_de_Observações = len(y)\n",
    "    GL = Número_de_Observações - len(Resultado.params)\n",
    "    VarianciaReg = SQR/GL\n",
    "    EPR = math.sqrt(VarianciaReg)\n",
    "    \n",
    "    ##Printando o Resultado\n",
    "    print(f\"O erro padrão da regressão é {round(EPR,5)} e a SQR é {round(SQR,5)}\\n\")\n",
    "    print(Resultado.summary())\n",
    "\n",
    "    print(\"\\nPara ver os valores previstos ou os resídudos, basta chamar 'Lista_ychapeu' e 'Resíduos'.\")\n",
    "    print(\"Os resultados do modelo podem ser obtidos através de métodos usando a variável 'Resultado'.\")\n",
    "    print(\"\"\"\n",
    "    Valores de condição maiores que 20 indicam problemas de multicolinearidade\n",
    "    Para ver como achar esse número, entre em https://www.statsmodels.org/dev/examples/notebooks/generated/ols.html\"\"\"\n",
    "    )\n",
    "    \n",
    "def Regressao_MQGF(x, y, constante = \"S\", cov = \"normal\"):\n",
    "    '''\n",
    "    Função que calcula uma regressão múltipla usando mínimos quadrados generalizados factíveis, ou seja,\n",
    "    recomendada quando o erro é heteroscedástico E NÃO se sabe a função da constante multiplicativa da variância do erro, sendo os pesos estimados\n",
    "    regridindo o log dos quadrados dos resíduos sobre as variáveis explicativas. Os estimadores MQP são gerados com o peso estimado.\n",
    "    Ela é, por default, computada com um intercepto e com erros padrões não robustos.\n",
    "\n",
    "    x: lista ou array com os valores das variáveis independentes;\n",
    "    y: lista ou array com os valores da variável dependente;\n",
    "    constante: \"S\" para regressão com intercepto e qualquer outro valor para sem intercepto. Caso em branco, a regressão é computada com intercepto;\n",
    "    cov: \"normal\" para regressão com erros-padrão tradicionais (caso padrão);\n",
    "        \"robust\" para erros-padrões robustos.\n",
    "        \"cluster\" ou \"clustered\" para erros-padrões clusterizados\n",
    "    '''\n",
    "\n",
    "    global Resultado, Lista_ychapeu, Resíduos, SQR, EPR\n",
    "\n",
    "    #Regredindo os valores normalmente a fim de pegar os resíduos\n",
    "    Regressao_Multipla(x,y, constante, cov)\n",
    "    clear_output()\n",
    "\n",
    "    #Coletando o log dos quadrados dos resíduos\n",
    "    Log_Res_Quad = np.log(Resíduos**2)\n",
    "\n",
    "    #Regredindo Log_Res_Quad sobre as variáveis explicativas\n",
    "    Regressao_Multipla(x,Log_Res_Quad, constante, cov)\n",
    "    clear_output()\n",
    "\n",
    "    #Estimando os pesos\n",
    "    Pesos = np.exp(Lista_ychapeu)\n",
    "\n",
    "    #Fazendo uma Regressão MQP\n",
    "    Regressao_MQP(x,y, 1/Pesos, constante, cov)\n",
    "\n",
    "def Teste_LM(x, y, Restrições, Nivel_de_Significância = 0.05):\n",
    "    '''\n",
    "    Função que calcula um teste LM e dá o resultado teste de hipótese para o caso de todas as restrições serem conjuntamente estatisticamente não-significantes.\n",
    "\n",
    "    x: lista ou array com os valores das variáveis independentes;\n",
    "    y: lista ou array com os valores da variável dependente;\n",
    "    Restrições: lista ou array com os valores a serem tirados do modelo restrito;\n",
    "    Nivel_de_Significância: nível de significância do teste. Caso branco, o nível de significancia padrão é de 5%.\n",
    "    '''\n",
    "\n",
    "    ##Definindo as variáveis de cada modelo\n",
    "    ModeloIrrestrito = list(x)\n",
    "    ModeloRestrito = []\n",
    "    Restrições = list(Restrições)\n",
    "\n",
    "    Numero_de_Observações = len(y)\n",
    "    GL_r = len(Restrições)\n",
    "\n",
    "    for i in ModeloIrrestrito:\n",
    "        if i not in Restrições:\n",
    "            ModeloRestrito.append(i)\n",
    "    \n",
    "    #Fazendo a regressão do modelo restrito e armazenando os resíduos\n",
    "    Regressao_Multipla(df[ModeloRestrito], y)\n",
    "    Resíduos_r = Resíduos\n",
    "\n",
    "    #Fazendo a regressão dos resíduos sobre as variáveis independentes e armazenando o R2\n",
    "    Regressao_Multipla(x, Resíduos_r)\n",
    "    Ru = Resultado.rsquared\n",
    "\n",
    "    #Calculando a estatística LM\n",
    "    LM = Numero_de_Observações*Ru\n",
    "\n",
    "    #Calculando o p-valor\n",
    "    ##Calculando o P-valor de F\n",
    "    P_valor = stats.chi2.sf(LM,GL_r)\n",
    "\n",
    "    #Limpando a tela\n",
    "    clear_output()\n",
    "\n",
    "    #Printando o resultado\n",
    "    if Nivel_de_Significância > P_valor:\n",
    "        print(f\"O valor de LM é {round(LM,3)} e seu p-valor é {round(P_valor,7)}. Portanto, rejeita-se Ho a um nível de significância de {Nivel_de_Significância*100}%.\")\n",
    "    else:\n",
    "        print(f\"O valor de LM é {round(LM,3)} e seu p-valor é {round(P_valor,7)}. Portanto, não se rejeita Ho a um nível de significância de {Nivel_de_Significância*100}%.\")\n",
    "\n",
    "\n",
    "def Teste_F(x, y, Restrições, Nivel_de_Significância = 0.05):\n",
    "    '''\n",
    "    Função que calcula um teste F e dá o resultado teste de hipótese para o caso de todas as restrições serem conjuntamente estatisticamente não-significantes.\n",
    "\n",
    "    x: lista ou array com os valores das variáveis independentes;\n",
    "    y: lista ou array com os valores da variável dependente;\n",
    "    Restrições: lista ou array com os valores a serem tirados do modelo restrito;\n",
    "    Nivel_de_Significância: nível de significância do teste. Caso branco, o nível de significancia padrão é de 5%.\n",
    "    '''\n",
    "\n",
    "    ##Definindo as variáveis de cada modelo\n",
    "    #para testar igualdade dos coeficientes, F2, p_valueF2 = results.Ftest(['ACT', 'skipped'], equal=True)\n",
    "    ModeloIrrestrito = list(x)\n",
    "    ModeloRestrito = []\n",
    "    Restrições = list(Restrições)\n",
    "\n",
    "    Numero_de_Observações = len(y)\n",
    "    GL_ir = Numero_de_Observações - (len(ModeloIrrestrito) + 1)\n",
    "    GL_r = len(Restrições)\n",
    "\n",
    "    for i in ModeloIrrestrito:\n",
    "        if i not in Restrições:\n",
    "            ModeloRestrito.append(i)\n",
    "\n",
    "    ##Fazendo as regressões de cada modelo\n",
    "    Regressao_Multipla(x, y)\n",
    "    SQR_ir = SQR\n",
    "    VarianciaReg_ir = EPR**2\n",
    "\n",
    "    Regressao_Multipla(df[ModeloRestrito], y)\n",
    "    SQR_r = SQR\n",
    "\n",
    "    #Limpando a tela\n",
    "    clear_output()\n",
    "    \n",
    "    ##Calculando F\n",
    "    F = (SQR_r - SQR_ir)/(len(Restrições)*VarianciaReg_ir)\n",
    "\n",
    "    ##Calculando o P-valor de F\n",
    "    P_valor = stats.f.sf(F,GL_r,GL_ir)\n",
    "\n",
    "    if Nivel_de_Significância > P_valor:\n",
    "        print(f\"O valor de F é {round(F,3)} e seu p-valor é {round(P_valor,7)}. Portanto, rejeita-se Ho à significância de {Nivel_de_Significância*100}%.\")\n",
    "    else:\n",
    "        print(f\"O valor de F é {round(F,3)} e seu p-valor é {round(P_valor,7)}. Portanto, não se rejeita Ho à significância de {Nivel_de_Significância*100}%.\")\n",
    "\n",
    "def Teste_F_Rapido_Robusto(H0, Nivel_de_Significância = 0.05):\n",
    "    '''\n",
    "    Função que calcula um teste F de forma mais rápida com base nas restrições de H0, podendo ser robusto se o Resultado for fruto de uma regressão robusta.\n",
    "    H0 deve estar na forma B1 = B2 =...= Valor que deseja ser testado (0 na maioria das vezes)\n",
    "    '''\n",
    "    global Resultado\n",
    "    ## A função utiliza o método wald_test dos resultados das regressões\n",
    "    # Para modelos de painel - cujo método usa a estatística LM -, devemos especificar o parâmetro 'formula', o que não ocorre com cortes transversais\n",
    "    try:\n",
    "        teste = 'LM'\n",
    "        est = Resultado.wald_test(formula=H0).stat\n",
    "        p = Resultado.wald_test(formula=H0).pval\n",
    "    except:\n",
    "        teste = 'F'\n",
    "        est = float(str(Resultado.wald_test(H0))[19:29])\n",
    "        p = float(str(Resultado.wald_test(H0))[36:47])\n",
    "\n",
    "    if Nivel_de_Significância > p:\n",
    "        print(f\"O valor de {teste} é {round(est,6)} e seu p-valor é {round(p,7)}.\\nPortanto, rejeita-se Ho à significância de {Nivel_de_Significância*100}%, ou seja, as variáveis são conjuntamente significantes.\")\n",
    "    else:\n",
    "        print(f\"O valor de {teste} é {round(est,6)} e seu p-valor é {round(p,7)}.\\nPortanto, NÃO se rejeita Ho à significância de {Nivel_de_Significância*100}%, ou seja, as variáveis NÃO são conjuntamente significantes.\")\n",
    "\n",
    "def Teste_t_Dois_Coeficientes_Iguais(x, y, Coeficientes_Testados_para_serem_iguais, Nivel_de_Significância = 0.05):\n",
    "    '''\n",
    "    Função que executa um teste t para verificar se dois coeficientes são iguais.\n",
    "\n",
    "    x: lista ou array com os valores das variáveis independentes;\n",
    "    y: lista ou array com os valores da variável dependente;\n",
    "    Coeficientes_Testados_para_serem_iguais: array com os valores dos coeficientes que querem ser testados;\n",
    "    Nivel_de_Significância: nível de significância do teste. Caso branco, o nível de significancia padrão é de 5%.\n",
    "    '''\n",
    "    \n",
    "    ##Fazendo a regressão do modelo irrestrito\n",
    "    Regressao_Multipla(x, y)\n",
    "    clear_output()\n",
    "\n",
    "    #Fazendo o objeto de lista que será usado no teste\n",
    "    Teste =[0]\n",
    "    Num_de_Variaveis = 1\n",
    "\n",
    "    for i in list(x):\n",
    "        if i not in list(Coeficientes_Testados_para_serem_iguais):\n",
    "            Teste.append(0)\n",
    "        elif (Num_de_Variaveis % 2 == 0):\n",
    "            Teste.append(-1)\n",
    "        else:\n",
    "            Teste.append(1)\n",
    "            Num_de_Variaveis += 1\n",
    "\n",
    "    Teste_t = Resultado.t_test(Teste)\n",
    "    print(f\"A estatística do teste é {Teste_t.tvalue}, o que resulta em um p-valor bilateral de {Teste_t.pvalue} e em um p-valor unilateral de {Teste_t.pvalue/2}.\")\n",
    "\n",
    "def Teste_Heteroscedasticidade_BP(x, y, constante = \"S\", Nivel_de_Significância = 0.05, Estatística = \"LM\"):\n",
    "    '''\n",
    "    Função que executa o teste de Breusch-Pagan para a heteroscedasticidade.\n",
    "\n",
    "    x: lista ou array com os valores das variáveis independentes;\n",
    "    y: lista ou array com os valores da variável dependente;\n",
    "    constante: \"S\" para regressão com intercepto e qualquer outro valor para sem intercepto. Caso em branco, a regressão é computada com intercepto;\n",
    "    Nivel_de_Significância: nível de significância do teste. Caso branco, o nível de significancia padrão é de 5%.\n",
    "    Estatística = LM ou F\n",
    "    '''\n",
    "\n",
    "    #Fazendo a regressão e limpando a tela\n",
    "    Regressao_Multipla(x,y,constante)\n",
    "    clear_output()\n",
    "\n",
    "    #Calculando o quadrado dos resíduos\n",
    "    Res_Quad = Resíduos**2\n",
    "\n",
    "    #Realizando o teste F ou LM de Res_Quad sobre as variaveis dependentes para ver se há correlação\n",
    "    if Estatística == \"LM\":\n",
    "        Teste_LM(x, Res_Quad, x, Nivel_de_Significância)\n",
    "        print(\"Ho: O erro é homoscedástico\")\n",
    "    else:\n",
    "        Teste_F(x, Res_Quad, x, Nivel_de_Significância)\n",
    "        print(\"Ho: O erro é homoscedástico\")\n",
    "\n",
    "def Teste_Heteroscedasticidade_White(x, y, constante = \"S\", Nivel_de_Significância = 0.05, Estatística = \"LM\"):\n",
    "    '''\n",
    "    Função que executa o teste de White (modificado por Wooldridge) para a heteroscedasticidade.\n",
    "\n",
    "    x: lista ou array com os valores das variáveis independentes;\n",
    "    y: lista ou array com os valores da variável dependente;\n",
    "    constante: \"S\" para regressão com intercepto e qualquer outro valor para sem intercepto. Caso em branco, a regressão é computada com intercepto;\n",
    "    Nivel_de_Significância: nível de significância do teste. Caso branco, o nível de significancia padrão é de 5%.\n",
    "    Estatística: LM ou F\n",
    "    '''\n",
    "\n",
    "    #Fazendo a regressão e limpando a tela\n",
    "    Regressao_Multipla(x,y,constante)\n",
    "    clear_output()\n",
    "\n",
    "    #Calculando o quadrado dos resíduos\n",
    "    Res_Quad = Resultado.resid**2\n",
    "\n",
    "    #Calculando o quadrado dos valores previstos\n",
    "    Previstos = Lista_ychapeu\n",
    "    Previstos2 = Previstos**2\n",
    "\n",
    "    #Criando um dataframe pra armazenar esses valores\n",
    "    dfy_y2 = pd.DataFrame({\"y\":Previstos,\"y2\":Previstos2})\n",
    "    y_y2 = dfy_y2[['y','y2']]\n",
    "\n",
    "    #Realizando o teste F ou LM de Res_Quad sobre y e y^2\n",
    "    if Estatística == \"LM\":\n",
    "        Teste_LM(y_y2, Res_Quad, y_y2, Nivel_de_Significância)\n",
    "        print(\"Ho: O erro é homoscedástico\")\n",
    "    else:\n",
    "        Teste_F(y_y2, Res_Quad, y_y2, Nivel_de_Significância)\n",
    "        print(\"Ho: O erro é homoscedástico\")\n",
    "\n",
    "def RESET(x, y, constante = \"S\", robusta = \"N\", Nivel_de_Significância = 0.05):\n",
    "    '''\n",
    "    Função que executa um teste RESET para verificar a adequação das formas funcionais.\n",
    "    Ho: o modelo está bem especificado.\n",
    "\n",
    "    x: lista ou array com os valores das variáveis independentes;\n",
    "    y: lista ou array com os valores da variável dependente;\n",
    "    constante: \"S\" para regressão com intercepto e qualquer outro valor para sem intercepto. Caso em branco, a regressão é computada com intercepto;\n",
    "    robusta: \"N\" para regressão com erros-padrão tradicionais e qualquer outro valor para erros-padrões robustos. Caso em branco, a regressão é computada com erros-padrão comuns;\n",
    "    Nivel_de_Significância: nível de significância do teste. Caso branco, o nível de significancia padrão é de 5%.\n",
    "    '''\n",
    "    #Fazendo uma regressão múltipla e limpando a tela\n",
    "    Regressao_Multipla(x, y, constante)\n",
    "    clear_output()\n",
    "\n",
    "    #Verificando o tipo da covariância selecionada\n",
    "    if robusta == \"N\":\n",
    "        tipo = 'nonrobust'\n",
    "    else:\n",
    "        tipo = 'HC1'\n",
    "\n",
    "    Teste = sm.stats.diagnostic.linear_reset(Resultado, power = 2, use_f = False, cov_type = tipo)\n",
    "    \n",
    "    if Teste.pvalue < Nivel_de_Significância:\n",
    "        print(f\"\"\"\n",
    "        O p-valor do teste foi de {np.around(Teste.pvalue,6)}, menor que o nível de significância de {Nivel_de_Significância*100}%.\\n\n",
    "        Assim, rejeita-se Ho (o modelo está MAL especificado).\"\"\"\n",
    "        )\n",
    "    else:\n",
    "        print(f\"\"\"\n",
    "        O p-valor do teste foi de {np.around(Teste.pvalue,6)}, maior que o nível de significância de {Nivel_de_Significância*100}%.\\n\n",
    "        Assim, não se rejeita Ho (o modelo NÃO está MAL especificado)\"\"\"\n",
    "        )\n",
    "\n",
    "def Teste_J_Davidson_MacKinnon(x1,x2, y, constante = \"S\", robusta = \"N\", Nivel_de_Significância = 0.05):\n",
    "    '''\n",
    "    Função que executa um teste J para verificar qual o modelo mais adequado (dentre os dois colocados).\n",
    "    Ho: o modelo 1 é preferível (ver o p-valor do último coeficiente).\n",
    "\n",
    "    x1: lista ou array com os valores das variáveis independentes do primeiro modelo;\n",
    "    x2: lista ou array com os valores das variáveis independentes do segundo modelo;\n",
    "    y: lista ou array com os valores da variável dependente;\n",
    "    constante: \"S\" para regressão com intercepto e qualquer outro valor para sem intercepto. Caso em branco, a regressão é computada com intercepto;\n",
    "    robusta: \"N\" para regressão com erros-padrão tradicionais e qualquer outro valor para erros-padrões robustos. Caso em branco, a regressão é computada com erros-padrão comuns;\n",
    "    Nivel_de_Significância: nível de significância do teste. Caso branco, o nível de significancia padrão é de 5%.\n",
    "    '''\n",
    "    \n",
    "    #Fazendo a regressão do segundo modelo\n",
    "    Regressao_Multipla(x2, y, constante, robusta)\n",
    "    clear_output()\n",
    "\n",
    "    #Criando um novo dataframe e adicionando os valores previstos do modelo 2 à x\n",
    "    Valores_Previstos_2 = pd.DataFrame({'Previsão M1':Lista_ychapeu})\n",
    "    x = pd.concat([x1, Valores_Previstos_2], axis=1, sort=False)\n",
    "\n",
    "    #Fazendo a regressão do primeiro modelo sobre x\n",
    "    Regressao_Multipla(x, y, constante, robusta)\n",
    "    clear_output()\n",
    "\n",
    "    #Pegando o p-valor do teste\n",
    "    P_valor = Resultado.pvalues[-1]\n",
    "\n",
    "    if P_valor < Nivel_de_Significância:\n",
    "        print(f\"\"\"\n",
    "        O p-valor do teste foi de {np.around(P_valor,6)}, menor que o nível de significância de {Nivel_de_Significância*100}%.\\n\n",
    "        Assim, rejeita-se Ho (ou seja, o modelo 2 ({list(x2)}) é mais bem especificado).\"\"\"\n",
    "        )\n",
    "    else:\n",
    "        print(f\"\"\"\n",
    "        O p-valor do teste foi de {np.around(P_valor,6)}, menor que o nível de significância de {Nivel_de_Significância*100}%.\\n\n",
    "        Assim, não se rejeita Ho (ou seja, o modelo 1 ({list(x1)}) é mais bem especificado).\"\"\"\n",
    "        )\n",
    "\n",
    "######### Funções de Dados em Painel #########\n",
    "def Arrumar_Painel():\n",
    "    '''\n",
    "    Função que transforma o painel num formato que o PanelOLS consegue ler (index multinível e coluna do tipo categoria para os anos)\n",
    "    '''\n",
    "    global df\n",
    "\n",
    "    # pedir a coluna com os indivíduos; se o nome for inválido, sair da função.\n",
    "    coluna_individuos = str(input('Qual o rótulo da coluna de indivíduos/clusters?\\n'))\n",
    "    if coluna_individuos not in df.columns:\n",
    "        print(\"Coluna de indivíduos/clusters não está no dataframe. Insira uma coluna válida e tente novamente!\")\n",
    "        return None\n",
    "    \n",
    "    # pedir a coluna com os períodos de tempo; se o valor for inválido, sair da função.\n",
    "    coluna_tempo = str(input('Qual o rótulo da coluna de tempo/observações dos clusters?\\n'))\n",
    "    if coluna_tempo not in df.columns:\n",
    "        print(\"Coluna de tempo/observações não está no dataframe. Insira uma coluna válida e tente novamente!\")\n",
    "        return None\n",
    "\n",
    "    ## arrumando o painel\n",
    "    periodos = pd.Categorical(df[coluna_tempo])\n",
    "    df = df.set_index([coluna_individuos,coluna_tempo])\n",
    "    df[coluna_tempo] = periodos\n",
    "    return df\n",
    "\n",
    "def Reg_Painel_Primeiras_Diferenças (x,y, cov = \"normal\"):\n",
    "    '''\n",
    "    Função que calcula uma regressão de primeiras diferenças SEM um intercepto, sendo, por default, computada com erros padrões não robustos.\n",
    "    Para calcular a regressão com um intercepto, ver o notebook \"Cap 13 e 14\".\n",
    "    **IMPORTANTE: para o painel estar arrumado, os dados devem estar multi-indexados por indíviduo e por tempo, nesta ordem.\n",
    "    Caso contrário, transformar o dataframe usando a função 'Arrumar Painel'\n",
    "    x: lista ou array com os valores das variáveis independentes;\n",
    "    y: lista ou array com os valores da variável dependente;\n",
    "    cov: \"normal\" para regressão com erros-padrão tradicionais (caso padrão);\n",
    "        \"robust\" para erros-padrões robustos.\n",
    "        \"cluster\" para erros-padrões clusterizados\n",
    "    '''\n",
    "    global df, Resultado\n",
    "\n",
    "    Modelo = FirstDifferenceOLS(y, x)\n",
    "\n",
    "    if cov == \"robust\":\n",
    "        Resultado = Modelo.fit(cov_type = 'robust')\n",
    "    elif cov == 'kernel': ## correlação robusta à heteroscedasticidade e autocorrelação serial\n",
    "        Resultado = Modelo.fit(cov_type = 'kernel')\n",
    "    elif cov == 'clustered' or cov == 'cluster':\n",
    "        Resultado = Modelo.fit(cov_type = 'clustered', cluster_entity = True)\n",
    "    else:\n",
    "        Resultado = Modelo.fit()\n",
    "\n",
    "    print(Resultado)\n",
    "\n",
    "def Reg_Painel_Efeitos_Fixos(x, y, constante = \"S\", cov='normal'):\n",
    "    '''\n",
    "    Função que calcula uma regressão de efeitos fixos, sendo, por default, computada com um intercepto e com erros padrões não robustos.\n",
    "    **IMPORTANTE: para o painel estar arrumado, os dados devem estar multi-indexados por indíviduo e por tempo, nesta ordem.\n",
    "    Caso contrário, transformar o dataframe usando a função 'Arrumar Painel'\n",
    "    x: lista ou array com os valores das variáveis independentes;\n",
    "    y: lista ou array com os valores da variável dependente;\n",
    "    constante: \"S\" para regressão com intercepto e qualquer outro valor para sem intercepto. Caso em branco, a regressão é computada com intercepto;\n",
    "    cov: \"normal\" para regressão com erros-padrão tradicionais (caso padrão);\n",
    "        \"robust\" para erros-padrões robustos.\n",
    "        \"cluster\" ou \"clustered\" para erros-padrões clusterizados\n",
    "    '''\n",
    "    global df, Resultado\n",
    "    \n",
    "    # formando o vetor de variáveis independentes\n",
    "    if constante == \"S\":\n",
    "        X = sm.add_constant(x)\n",
    "    else:\n",
    "        X = x\n",
    "    \n",
    "    #Criando o Modelo levando em conta a opção dos erros padrão\n",
    "    Modelo = PanelOLS(y,X, entity_effects=True, drop_absorbed=True)\n",
    "\n",
    "    if cov == \"robust\":\n",
    "        Resultado = Modelo.fit(cov_type = 'robust')\n",
    "    elif cov == 'kernel': ## correlação robusta à heteroscedasticidade e autocorrelação serial\n",
    "        Resultado = Modelo.fit(cov_type = 'kernel')\n",
    "    elif cov == 'clustered' or cov == 'cluster':\n",
    "        Resultado = Modelo.fit(cov_type = 'clustered', cluster_entity = True)\n",
    "    else:\n",
    "        Resultado = Modelo.fit()\n",
    "\n",
    "    print(Resultado)\n",
    "\n",
    "def Reg_Painel_MQO_Agrupado(x, y, constante = \"S\", cov = \"normal\"):\n",
    "    '''\n",
    "    Função que calcula uma regressão por MQO agrupado, sendo, por default, computada com um intercepto e com erros padrões  robustos.\n",
    "    **IMPORTANTE: para o painel estar arrumado, os dados devem estar multi-indexados por indíviduo e por tempo, nesta ordem.\n",
    "    Caso contrário, transformar o dataframe usando a função 'Arrumar Painel'\n",
    "    x: lista ou array com os valores das variáveis independentes;\n",
    "    y: lista ou array com os valores da variável dependente;\n",
    "    constante: \"S\" para regressão com intercepto e qualquer outro valor para sem intercepto. Caso em branco, a regressão é computada com intercepto;\n",
    "    cov: \"normal\" para regressão com erros-padrão tradicionais (caso padrão);\n",
    "        \"robust\" para erros-padrões robustos.\n",
    "        \"cluster\" ou \"clustered\" para erros-padrões clusterizados\n",
    "    '''\n",
    "    global df, Resultado\n",
    "    \n",
    "    # formando o vetor de variáveis independentes\n",
    "    if constante == \"S\":\n",
    "        X = sm.add_constant(x)\n",
    "    else:\n",
    "        X = x\n",
    "    \n",
    "    #Criando o Modelo levando em conta a opção do erro padrão\n",
    "    Modelo = PooledOLS(y,X)\n",
    "\n",
    "    if cov == \"robust\":\n",
    "        Resultado = Modelo.fit(cov_type = 'robust')\n",
    "    elif cov == 'kernel': ## correlação robusta à heteroscedasticidade e autocorrelação serial\n",
    "        Resultado = Modelo.fit(cov_type = 'kernel')\n",
    "    elif cov == 'clustered' or cov == 'cluster':\n",
    "        Resultado = Modelo.fit(cov_type = 'clustered', cluster_entity = True)\n",
    "    else:\n",
    "        Resultado = Modelo.fit()\n",
    "    print(Resultado)\n",
    "\n",
    "def Reg_Painel_Efeitos_Aleatórios(x, y, constante = \"S\", cov = \"normal\"):\n",
    "    '''\n",
    "    Função que calcula uma regressão de efeitos fixos, sendo, por default, computada com um intercepto e com erros padrões  robustos.\n",
    "    **IMPORTANTE: para o painel estar arrumado, os dados devem estar multi-indexados por indíviduo e por tempo, nesta ordem.\n",
    "    Caso contrário, transformar o dataframe usando a função 'Arrumar Painel'\n",
    "    x: lista ou array com os valores das variáveis independentes;\n",
    "    y: lista ou array com os valores da variável dependente;\n",
    "    constante: \"S\" para regressão com intercepto e qualquer outro valor para sem intercepto. Caso em branco, a regressão é computada com intercepto;\n",
    "    robusta: \"N\" para regressão com erros-padrão tradicionais e qualquer outro valor para erros-padrões robustos. Caso em branco, a regressão é computada com erros-padrão robustos.\n",
    "    '''\n",
    "    global df, Resultado\n",
    "    \n",
    "    # formando o vetor de variáveis independentes\n",
    "    if constante == \"S\":\n",
    "        X = sm.add_constant(x)\n",
    "    else:\n",
    "        X = x\n",
    "    \n",
    "    #Criando o Modelo\n",
    "    Modelo = RandomEffects(y,X)\n",
    "    if cov == \"robust\":\n",
    "        Resultado = Modelo.fit(cov_type = 'robust')\n",
    "    elif cov == 'kernel': ## correlação robusta à heteroscedasticidade e autocorrelação serial\n",
    "        Resultado = Modelo.fit(cov_type = 'kernel')\n",
    "    elif cov == 'clustered' or cov == 'cluster':\n",
    "        Resultado = Modelo.fit(cov_type = 'clustered', cluster_entity = True)\n",
    "    else:\n",
    "        Resultado = Modelo.fit()\n",
    "    print(Resultado)\n",
    "\n",
    "def hausman_EF_EA(x_inef, y, Nivel_de_Significância = 0.05):\n",
    "    '''\n",
    "    Função que faz um teste de Hausman, em que H0: Não há correlação entre os efeitos não-observados e as variáveis explicativas\n",
    "    x_inef: variáveis explicativas do modelo ineficiente sob H0 (EF);\n",
    "    y: variável explicativa\n",
    "    '''\n",
    "    ## Fazendo a regressão de efeitos fixos e guardando o resultado\n",
    "    Reg_Painel_Efeitos_Fixos(x,y)\n",
    "    clear_output()\n",
    "    fixed = Resultado\n",
    "\n",
    "    ## Fazendo a regressão de efeitos aleatórios e guardando o resultado\n",
    "    Reg_Painel_Efeitos_Aleatórios(x,y)\n",
    "    clear_output()\n",
    "    random = Resultado\n",
    "\n",
    "    ## Calculando a estatística de Hausman\n",
    "    # calculando a diferença entre os parametros e a variância assíntótica da diferença entre os parametros\n",
    "    var_assin = fixed.cov - random.cov\n",
    "    d = fixed.params - random.params\n",
    "    \n",
    "    # calculando H\n",
    "    H = d.dot(np.linalg.inv(var_assin)).dot(d)\n",
    "    # calculando os graus de liberdade\n",
    "    gl = random.params.size -1\n",
    "    # Calculando o P-valor do teste\n",
    "    p = stats.chi2(gl).sf(H)\n",
    "\n",
    "    if p < Nivel_de_Significância:\n",
    "        print(f\"O valor de H é {round(H,6)} com {gl} graus de liberdade na distribuição chi2. O p-valor do teste é {round(p,6)} e, portanto, se rejeita H0 e prefere-se o modelo de efeitos fixos.\")\n",
    "    else:\n",
    "        print(f\"O valor de H é {round(H,6)} com {gl} graus de liberdade na distribuição chi2. O p-valor do teste é {round(p,6)} e, portanto, não se rejeita H0 e prefere-se o modelo de efeitos aleatórios.\")\n",
    "\n",
    "def equation(sep_erros= \"(\"):\n",
    "    '''\n",
    "    Função que gera uma equação formatada do word\n",
    "    '''\n",
    "    \n",
    "    ## capturando os parametros e os erros\n",
    "    params = dict(np.around(Resultado.params,3))\n",
    "    ## linearmodels usa .std_erros para capturar os erros padrão, sm usa .bse\n",
    "    try:\n",
    "        std_errors = dict(np.around(Resultado.std_errors,5))\n",
    "    except:\n",
    "        std_errors = dict(np.around(Resultado.bse,5))\n",
    "\n",
    "    ## fazendo o loop para pegar os coeficientes*nome das variáveis e os seus erros-padrão entre parênteses\n",
    "    parametros = \"\"\n",
    "    erros = \"\"\n",
    "    for i in params.keys():\n",
    "        # levando em conta a chave escolhida pelo usuário\n",
    "        if sep_erros == \"(\":\n",
    "            erros += f\" & ({std_errors[i]})\"\n",
    "        else:\n",
    "            erros += f\" & [{std_errors[i]}]\"\n",
    "\n",
    "        if i != 'const':\n",
    "            if params[i] > 0:\n",
    "                parametros += f\" & + {params[i]}{i}\"\n",
    "            else:\n",
    "                parametros += f\" & - {-params[i]}{i}\"\n",
    "        else:\n",
    "            parametros += f\"{params[i]}\"\n",
    "    \n",
    "    ## Fazendo a str que irá pro word (em forma de matriz)\n",
    "    inicio = \"\\matrix{\"\n",
    "    fim = \"}\"\n",
    "\n",
    "    # linearmodels usa model.dependente; sm usa model.endog_names\n",
    "    try:\n",
    "        y = Resultado.model.dependent.dataframe.columns[0]\n",
    "    except:\n",
    "        y = Resultado.model.endog_names\n",
    "    word = f\"{inicio}{y} & = & {parametros} \\\\\\ & {erros}{fim}\"\n",
    "\n",
    "    ## Adicionando o numero de obs e os r2\n",
    "    # linearmodels usa .entity_info['total'] no numero de observações, sm usa nobs\n",
    "    try:\n",
    "        word += f\"\\nn = {int(dict(Resultado.entity_info)['total'])}; R^2 = {np.around(Resultado.rsquared,3)}\"\n",
    "    except:\n",
    "         word += f\"\\nn = {int(Resultado.nobs)}; R^2 = {np.around(Resultado.rsquared,3)}; R\\\\bar^2 = {np.around(Resultado.rsquared_adj,3)}\"\n",
    "\n",
    "    ## substituindo os . por ,\n",
    "    word = word.replace(\".\",\",\")\n",
    "    \n",
    "    ## copiando para o clipboard e printando o sucesso\n",
    "    subprocess.run(\"pbcopy\", universal_newlines=True, input=word)\n",
    "    print(\"O código da equação foi copiado para o clipboard!\")"
   ]
  },
  {
   "source": [
    "## Exemplos Cap. 15"
   ],
   "cell_type": "markdown",
   "metadata": {}
  },
  {
   "cell_type": "code",
   "execution_count": 6,
   "metadata": {},
   "outputs": [
    {
     "output_type": "stream",
     "name": "stdout",
     "text": [
      "MROZ.dta foi lido com sucesso!\n"
     ]
    },
    {
     "output_type": "execute_result",
     "data": {
      "text/plain": [
       "     inlf  hours  kidslt6  kidsge6  age  educ    wage  repwage  hushrs  \\\n",
       "0       1   1610        1        0   32    12  3.3540     2.65    2708   \n",
       "1       1   1656        0        2   30    12  1.3889     2.65    2310   \n",
       "2       1   1980        1        3   35    12  4.5455     4.04    3072   \n",
       "3       1    456        0        3   34    12  1.0965     3.25    1920   \n",
       "4       1   1568        1        2   31    14  4.5918     3.60    2000   \n",
       "..    ...    ...      ...      ...  ...   ...     ...      ...     ...   \n",
       "748     0      0        0        2   40    13     NaN     0.00    3020   \n",
       "749     0      0        2        3   31    12     NaN     0.00    2056   \n",
       "750     0      0        0        0   43    12     NaN     0.00    2383   \n",
       "751     0      0        0        0   60    12     NaN     0.00    1705   \n",
       "752     0      0        0        3   39     9     NaN     0.00    3120   \n",
       "\n",
       "     husage  ...   faminc     mtr  motheduc  fatheduc  unem  city  exper  \\\n",
       "0        34  ...  16310.0  0.7215        12         7   5.0     0     14   \n",
       "1        30  ...  21800.0  0.6615         7         7  11.0     1      5   \n",
       "2        40  ...  21040.0  0.6915        12         7   5.0     0     15   \n",
       "3        53  ...   7300.0  0.7815         7         7   5.0     0      6   \n",
       "4        32  ...  27300.0  0.6215        12        14   9.5     1      7   \n",
       "..      ...  ...      ...     ...       ...       ...   ...   ...    ...   \n",
       "748      43  ...  28200.0  0.6215        10        10   9.5     1      5   \n",
       "749      33  ...  10000.0  0.7715        12        12   7.5     0     14   \n",
       "750      43  ...   9952.0  0.7515        10         3   7.5     0      4   \n",
       "751      55  ...  24984.0  0.6215        12        12  14.0     1     15   \n",
       "752      48  ...  28363.0  0.6915         7         7  11.0     1     12   \n",
       "\n",
       "      nwifeinc     lwage  expersq  \n",
       "0    10.910060  1.210154      196  \n",
       "1    19.499981  0.328512       25  \n",
       "2    12.039910  1.514138      225  \n",
       "3     6.799996  0.092123       36  \n",
       "4    20.100058  1.524272       49  \n",
       "..         ...       ...      ...  \n",
       "748  28.200001       NaN       25  \n",
       "749  10.000000       NaN      196  \n",
       "750   9.952000       NaN       16  \n",
       "751  24.983999       NaN      225  \n",
       "752  28.363001       NaN      144  \n",
       "\n",
       "[753 rows x 22 columns]"
      ],
      "text/html": "<div>\n<style scoped>\n    .dataframe tbody tr th:only-of-type {\n        vertical-align: middle;\n    }\n\n    .dataframe tbody tr th {\n        vertical-align: top;\n    }\n\n    .dataframe thead th {\n        text-align: right;\n    }\n</style>\n<table border=\"1\" class=\"dataframe\">\n  <thead>\n    <tr style=\"text-align: right;\">\n      <th></th>\n      <th>inlf</th>\n      <th>hours</th>\n      <th>kidslt6</th>\n      <th>kidsge6</th>\n      <th>age</th>\n      <th>educ</th>\n      <th>wage</th>\n      <th>repwage</th>\n      <th>hushrs</th>\n      <th>husage</th>\n      <th>...</th>\n      <th>faminc</th>\n      <th>mtr</th>\n      <th>motheduc</th>\n      <th>fatheduc</th>\n      <th>unem</th>\n      <th>city</th>\n      <th>exper</th>\n      <th>nwifeinc</th>\n      <th>lwage</th>\n      <th>expersq</th>\n    </tr>\n  </thead>\n  <tbody>\n    <tr>\n      <th>0</th>\n      <td>1</td>\n      <td>1610</td>\n      <td>1</td>\n      <td>0</td>\n      <td>32</td>\n      <td>12</td>\n      <td>3.3540</td>\n      <td>2.65</td>\n      <td>2708</td>\n      <td>34</td>\n      <td>...</td>\n      <td>16310.0</td>\n      <td>0.7215</td>\n      <td>12</td>\n      <td>7</td>\n      <td>5.0</td>\n      <td>0</td>\n      <td>14</td>\n      <td>10.910060</td>\n      <td>1.210154</td>\n      <td>196</td>\n    </tr>\n    <tr>\n      <th>1</th>\n      <td>1</td>\n      <td>1656</td>\n      <td>0</td>\n      <td>2</td>\n      <td>30</td>\n      <td>12</td>\n      <td>1.3889</td>\n      <td>2.65</td>\n      <td>2310</td>\n      <td>30</td>\n      <td>...</td>\n      <td>21800.0</td>\n      <td>0.6615</td>\n      <td>7</td>\n      <td>7</td>\n      <td>11.0</td>\n      <td>1</td>\n      <td>5</td>\n      <td>19.499981</td>\n      <td>0.328512</td>\n      <td>25</td>\n    </tr>\n    <tr>\n      <th>2</th>\n      <td>1</td>\n      <td>1980</td>\n      <td>1</td>\n      <td>3</td>\n      <td>35</td>\n      <td>12</td>\n      <td>4.5455</td>\n      <td>4.04</td>\n      <td>3072</td>\n      <td>40</td>\n      <td>...</td>\n      <td>21040.0</td>\n      <td>0.6915</td>\n      <td>12</td>\n      <td>7</td>\n      <td>5.0</td>\n      <td>0</td>\n      <td>15</td>\n      <td>12.039910</td>\n      <td>1.514138</td>\n      <td>225</td>\n    </tr>\n    <tr>\n      <th>3</th>\n      <td>1</td>\n      <td>456</td>\n      <td>0</td>\n      <td>3</td>\n      <td>34</td>\n      <td>12</td>\n      <td>1.0965</td>\n      <td>3.25</td>\n      <td>1920</td>\n      <td>53</td>\n      <td>...</td>\n      <td>7300.0</td>\n      <td>0.7815</td>\n      <td>7</td>\n      <td>7</td>\n      <td>5.0</td>\n      <td>0</td>\n      <td>6</td>\n      <td>6.799996</td>\n      <td>0.092123</td>\n      <td>36</td>\n    </tr>\n    <tr>\n      <th>4</th>\n      <td>1</td>\n      <td>1568</td>\n      <td>1</td>\n      <td>2</td>\n      <td>31</td>\n      <td>14</td>\n      <td>4.5918</td>\n      <td>3.60</td>\n      <td>2000</td>\n      <td>32</td>\n      <td>...</td>\n      <td>27300.0</td>\n      <td>0.6215</td>\n      <td>12</td>\n      <td>14</td>\n      <td>9.5</td>\n      <td>1</td>\n      <td>7</td>\n      <td>20.100058</td>\n      <td>1.524272</td>\n      <td>49</td>\n    </tr>\n    <tr>\n      <th>...</th>\n      <td>...</td>\n      <td>...</td>\n      <td>...</td>\n      <td>...</td>\n      <td>...</td>\n      <td>...</td>\n      <td>...</td>\n      <td>...</td>\n      <td>...</td>\n      <td>...</td>\n      <td>...</td>\n      <td>...</td>\n      <td>...</td>\n      <td>...</td>\n      <td>...</td>\n      <td>...</td>\n      <td>...</td>\n      <td>...</td>\n      <td>...</td>\n      <td>...</td>\n      <td>...</td>\n    </tr>\n    <tr>\n      <th>748</th>\n      <td>0</td>\n      <td>0</td>\n      <td>0</td>\n      <td>2</td>\n      <td>40</td>\n      <td>13</td>\n      <td>NaN</td>\n      <td>0.00</td>\n      <td>3020</td>\n      <td>43</td>\n      <td>...</td>\n      <td>28200.0</td>\n      <td>0.6215</td>\n      <td>10</td>\n      <td>10</td>\n      <td>9.5</td>\n      <td>1</td>\n      <td>5</td>\n      <td>28.200001</td>\n      <td>NaN</td>\n      <td>25</td>\n    </tr>\n    <tr>\n      <th>749</th>\n      <td>0</td>\n      <td>0</td>\n      <td>2</td>\n      <td>3</td>\n      <td>31</td>\n      <td>12</td>\n      <td>NaN</td>\n      <td>0.00</td>\n      <td>2056</td>\n      <td>33</td>\n      <td>...</td>\n      <td>10000.0</td>\n      <td>0.7715</td>\n      <td>12</td>\n      <td>12</td>\n      <td>7.5</td>\n      <td>0</td>\n      <td>14</td>\n      <td>10.000000</td>\n      <td>NaN</td>\n      <td>196</td>\n    </tr>\n    <tr>\n      <th>750</th>\n      <td>0</td>\n      <td>0</td>\n      <td>0</td>\n      <td>0</td>\n      <td>43</td>\n      <td>12</td>\n      <td>NaN</td>\n      <td>0.00</td>\n      <td>2383</td>\n      <td>43</td>\n      <td>...</td>\n      <td>9952.0</td>\n      <td>0.7515</td>\n      <td>10</td>\n      <td>3</td>\n      <td>7.5</td>\n      <td>0</td>\n      <td>4</td>\n      <td>9.952000</td>\n      <td>NaN</td>\n      <td>16</td>\n    </tr>\n    <tr>\n      <th>751</th>\n      <td>0</td>\n      <td>0</td>\n      <td>0</td>\n      <td>0</td>\n      <td>60</td>\n      <td>12</td>\n      <td>NaN</td>\n      <td>0.00</td>\n      <td>1705</td>\n      <td>55</td>\n      <td>...</td>\n      <td>24984.0</td>\n      <td>0.6215</td>\n      <td>12</td>\n      <td>12</td>\n      <td>14.0</td>\n      <td>1</td>\n      <td>15</td>\n      <td>24.983999</td>\n      <td>NaN</td>\n      <td>225</td>\n    </tr>\n    <tr>\n      <th>752</th>\n      <td>0</td>\n      <td>0</td>\n      <td>0</td>\n      <td>3</td>\n      <td>39</td>\n      <td>9</td>\n      <td>NaN</td>\n      <td>0.00</td>\n      <td>3120</td>\n      <td>48</td>\n      <td>...</td>\n      <td>28363.0</td>\n      <td>0.6915</td>\n      <td>7</td>\n      <td>7</td>\n      <td>11.0</td>\n      <td>1</td>\n      <td>12</td>\n      <td>28.363001</td>\n      <td>NaN</td>\n      <td>144</td>\n    </tr>\n  </tbody>\n</table>\n<p>753 rows × 22 columns</p>\n</div>"
     },
     "metadata": {},
     "execution_count": 6
    }
   ],
   "source": [
    "from linearmodels.iv import IV2SLS\n",
    "coletar_dados('MROZ')"
   ]
  },
  {
   "cell_type": "code",
   "execution_count": 8,
   "metadata": {},
   "outputs": [
    {
     "output_type": "execute_result",
     "data": {
      "text/plain": [
       "     inlf  hours  kidslt6  kidsge6  age  educ    wage  repwage  hushrs  \\\n",
       "0       1   1610        1        0   32    12  3.3540     2.65    2708   \n",
       "1       1   1656        0        2   30    12  1.3889     2.65    2310   \n",
       "2       1   1980        1        3   35    12  4.5455     4.04    3072   \n",
       "3       1    456        0        3   34    12  1.0965     3.25    1920   \n",
       "4       1   1568        1        2   31    14  4.5918     3.60    2000   \n",
       "..    ...    ...      ...      ...  ...   ...     ...      ...     ...   \n",
       "423     1    680        0        5   36    10  2.3118     0.00    3430   \n",
       "424     1   2450        0        1   40    12  5.3061     6.50    2008   \n",
       "425     1   2144        0        2   43    13  5.8675     0.00    2140   \n",
       "426     1   1760        0        1   33    12  3.4091     3.21    3380   \n",
       "427     1    490        0        1   30    12  4.0816     2.46    2430   \n",
       "\n",
       "     husage  ...   faminc     mtr  motheduc  fatheduc  unem  city  exper  \\\n",
       "0        34  ...  16310.0  0.7215        12         7   5.0     0     14   \n",
       "1        30  ...  21800.0  0.6615         7         7  11.0     1      5   \n",
       "2        40  ...  21040.0  0.6915        12         7   5.0     0     15   \n",
       "3        53  ...   7300.0  0.7815         7         7   5.0     0      6   \n",
       "4        32  ...  27300.0  0.6215        12        14   9.5     1      7   \n",
       "..      ...  ...      ...     ...       ...       ...   ...   ...    ...   \n",
       "423      43  ...  19772.0  0.7215         7         7   7.5     0      2   \n",
       "424      40  ...  35641.0  0.6215         7         7   5.0     1     21   \n",
       "425      43  ...  34220.0  0.5815         7         7   7.5     1     22   \n",
       "426      34  ...  30000.0  0.5815        12        16  11.0     1     14   \n",
       "427      33  ...  18000.0  0.6915        12        12   7.5     1      7   \n",
       "\n",
       "      nwifeinc     lwage  expersq  \n",
       "0    10.910060  1.210154      196  \n",
       "1    19.499981  0.328512       25  \n",
       "2    12.039910  1.514138      225  \n",
       "3     6.799996  0.092123       36  \n",
       "4    20.100058  1.524272       49  \n",
       "..         ...       ...      ...  \n",
       "423  18.199976  0.838026        4  \n",
       "424  22.641056  1.668857      441  \n",
       "425  21.640079  1.769429      484  \n",
       "426  23.999985  1.226448      196  \n",
       "427  16.000015  1.406489       49  \n",
       "\n",
       "[428 rows x 22 columns]"
      ],
      "text/html": "<div>\n<style scoped>\n    .dataframe tbody tr th:only-of-type {\n        vertical-align: middle;\n    }\n\n    .dataframe tbody tr th {\n        vertical-align: top;\n    }\n\n    .dataframe thead th {\n        text-align: right;\n    }\n</style>\n<table border=\"1\" class=\"dataframe\">\n  <thead>\n    <tr style=\"text-align: right;\">\n      <th></th>\n      <th>inlf</th>\n      <th>hours</th>\n      <th>kidslt6</th>\n      <th>kidsge6</th>\n      <th>age</th>\n      <th>educ</th>\n      <th>wage</th>\n      <th>repwage</th>\n      <th>hushrs</th>\n      <th>husage</th>\n      <th>...</th>\n      <th>faminc</th>\n      <th>mtr</th>\n      <th>motheduc</th>\n      <th>fatheduc</th>\n      <th>unem</th>\n      <th>city</th>\n      <th>exper</th>\n      <th>nwifeinc</th>\n      <th>lwage</th>\n      <th>expersq</th>\n    </tr>\n  </thead>\n  <tbody>\n    <tr>\n      <th>0</th>\n      <td>1</td>\n      <td>1610</td>\n      <td>1</td>\n      <td>0</td>\n      <td>32</td>\n      <td>12</td>\n      <td>3.3540</td>\n      <td>2.65</td>\n      <td>2708</td>\n      <td>34</td>\n      <td>...</td>\n      <td>16310.0</td>\n      <td>0.7215</td>\n      <td>12</td>\n      <td>7</td>\n      <td>5.0</td>\n      <td>0</td>\n      <td>14</td>\n      <td>10.910060</td>\n      <td>1.210154</td>\n      <td>196</td>\n    </tr>\n    <tr>\n      <th>1</th>\n      <td>1</td>\n      <td>1656</td>\n      <td>0</td>\n      <td>2</td>\n      <td>30</td>\n      <td>12</td>\n      <td>1.3889</td>\n      <td>2.65</td>\n      <td>2310</td>\n      <td>30</td>\n      <td>...</td>\n      <td>21800.0</td>\n      <td>0.6615</td>\n      <td>7</td>\n      <td>7</td>\n      <td>11.0</td>\n      <td>1</td>\n      <td>5</td>\n      <td>19.499981</td>\n      <td>0.328512</td>\n      <td>25</td>\n    </tr>\n    <tr>\n      <th>2</th>\n      <td>1</td>\n      <td>1980</td>\n      <td>1</td>\n      <td>3</td>\n      <td>35</td>\n      <td>12</td>\n      <td>4.5455</td>\n      <td>4.04</td>\n      <td>3072</td>\n      <td>40</td>\n      <td>...</td>\n      <td>21040.0</td>\n      <td>0.6915</td>\n      <td>12</td>\n      <td>7</td>\n      <td>5.0</td>\n      <td>0</td>\n      <td>15</td>\n      <td>12.039910</td>\n      <td>1.514138</td>\n      <td>225</td>\n    </tr>\n    <tr>\n      <th>3</th>\n      <td>1</td>\n      <td>456</td>\n      <td>0</td>\n      <td>3</td>\n      <td>34</td>\n      <td>12</td>\n      <td>1.0965</td>\n      <td>3.25</td>\n      <td>1920</td>\n      <td>53</td>\n      <td>...</td>\n      <td>7300.0</td>\n      <td>0.7815</td>\n      <td>7</td>\n      <td>7</td>\n      <td>5.0</td>\n      <td>0</td>\n      <td>6</td>\n      <td>6.799996</td>\n      <td>0.092123</td>\n      <td>36</td>\n    </tr>\n    <tr>\n      <th>4</th>\n      <td>1</td>\n      <td>1568</td>\n      <td>1</td>\n      <td>2</td>\n      <td>31</td>\n      <td>14</td>\n      <td>4.5918</td>\n      <td>3.60</td>\n      <td>2000</td>\n      <td>32</td>\n      <td>...</td>\n      <td>27300.0</td>\n      <td>0.6215</td>\n      <td>12</td>\n      <td>14</td>\n      <td>9.5</td>\n      <td>1</td>\n      <td>7</td>\n      <td>20.100058</td>\n      <td>1.524272</td>\n      <td>49</td>\n    </tr>\n    <tr>\n      <th>...</th>\n      <td>...</td>\n      <td>...</td>\n      <td>...</td>\n      <td>...</td>\n      <td>...</td>\n      <td>...</td>\n      <td>...</td>\n      <td>...</td>\n      <td>...</td>\n      <td>...</td>\n      <td>...</td>\n      <td>...</td>\n      <td>...</td>\n      <td>...</td>\n      <td>...</td>\n      <td>...</td>\n      <td>...</td>\n      <td>...</td>\n      <td>...</td>\n      <td>...</td>\n      <td>...</td>\n    </tr>\n    <tr>\n      <th>423</th>\n      <td>1</td>\n      <td>680</td>\n      <td>0</td>\n      <td>5</td>\n      <td>36</td>\n      <td>10</td>\n      <td>2.3118</td>\n      <td>0.00</td>\n      <td>3430</td>\n      <td>43</td>\n      <td>...</td>\n      <td>19772.0</td>\n      <td>0.7215</td>\n      <td>7</td>\n      <td>7</td>\n      <td>7.5</td>\n      <td>0</td>\n      <td>2</td>\n      <td>18.199976</td>\n      <td>0.838026</td>\n      <td>4</td>\n    </tr>\n    <tr>\n      <th>424</th>\n      <td>1</td>\n      <td>2450</td>\n      <td>0</td>\n      <td>1</td>\n      <td>40</td>\n      <td>12</td>\n      <td>5.3061</td>\n      <td>6.50</td>\n      <td>2008</td>\n      <td>40</td>\n      <td>...</td>\n      <td>35641.0</td>\n      <td>0.6215</td>\n      <td>7</td>\n      <td>7</td>\n      <td>5.0</td>\n      <td>1</td>\n      <td>21</td>\n      <td>22.641056</td>\n      <td>1.668857</td>\n      <td>441</td>\n    </tr>\n    <tr>\n      <th>425</th>\n      <td>1</td>\n      <td>2144</td>\n      <td>0</td>\n      <td>2</td>\n      <td>43</td>\n      <td>13</td>\n      <td>5.8675</td>\n      <td>0.00</td>\n      <td>2140</td>\n      <td>43</td>\n      <td>...</td>\n      <td>34220.0</td>\n      <td>0.5815</td>\n      <td>7</td>\n      <td>7</td>\n      <td>7.5</td>\n      <td>1</td>\n      <td>22</td>\n      <td>21.640079</td>\n      <td>1.769429</td>\n      <td>484</td>\n    </tr>\n    <tr>\n      <th>426</th>\n      <td>1</td>\n      <td>1760</td>\n      <td>0</td>\n      <td>1</td>\n      <td>33</td>\n      <td>12</td>\n      <td>3.4091</td>\n      <td>3.21</td>\n      <td>3380</td>\n      <td>34</td>\n      <td>...</td>\n      <td>30000.0</td>\n      <td>0.5815</td>\n      <td>12</td>\n      <td>16</td>\n      <td>11.0</td>\n      <td>1</td>\n      <td>14</td>\n      <td>23.999985</td>\n      <td>1.226448</td>\n      <td>196</td>\n    </tr>\n    <tr>\n      <th>427</th>\n      <td>1</td>\n      <td>490</td>\n      <td>0</td>\n      <td>1</td>\n      <td>30</td>\n      <td>12</td>\n      <td>4.0816</td>\n      <td>2.46</td>\n      <td>2430</td>\n      <td>33</td>\n      <td>...</td>\n      <td>18000.0</td>\n      <td>0.6915</td>\n      <td>12</td>\n      <td>12</td>\n      <td>7.5</td>\n      <td>1</td>\n      <td>7</td>\n      <td>16.000015</td>\n      <td>1.406489</td>\n      <td>49</td>\n    </tr>\n  </tbody>\n</table>\n<p>428 rows × 22 columns</p>\n</div>"
     },
     "metadata": {},
     "execution_count": 8
    }
   ],
   "source": [
    "## limpando os nans\n",
    "df.dropna(inplace=True, subset=['lwage','educ'], axis = 0)\n",
    "df"
   ]
  },
  {
   "cell_type": "code",
   "execution_count": 9,
   "metadata": {},
   "outputs": [
    {
     "output_type": "stream",
     "name": "stdout",
     "text": [
      "                            OLS Regression Results                            \n==============================================================================\nDep. Variable:                  lwage   R-squared:                       0.118\nModel:                            OLS   Adj. R-squared:                  0.116\nMethod:                 Least Squares   F-statistic:                     56.93\nDate:                Thu, 25 Mar 2021   Prob (F-statistic):           2.76e-13\nTime:                        09:28:40   Log-Likelihood:                -441.26\nNo. Observations:                 428   AIC:                             886.5\nDf Residuals:                     426   BIC:                             894.6\nDf Model:                           1                                         \nCovariance Type:            nonrobust                                         \n==============================================================================\n                 coef    std err          t      P>|t|      [0.025      0.975]\n------------------------------------------------------------------------------\nconst         -0.1852      0.185     -1.000      0.318      -0.549       0.179\neduc           0.1086      0.014      7.545      0.000       0.080       0.137\n==============================================================================\nOmnibus:                       91.833   Durbin-Watson:                   1.985\nProb(Omnibus):                  0.000   Jarque-Bera (JB):              303.790\nSkew:                          -0.956   Prob(JB):                     1.08e-66\nKurtosis:                       6.658   Cond. No.                         72.9\n==============================================================================\n\nWarnings:\n[1] Standard Errors assume that the covariance matrix of the errors is correctly specified.\nO erro padrão da regressão é 0.68003 e a SQR é 197.00102\n\nPara ver os valores previstos ou os resídudos, basta chamar 'Lista_ychapeu' e 'Resíduos'.\nOs resultados do modelo podem ser obtidos através de métodos usando a variável 'Resultado'.\n\n    Valores de condição maiores que 20 indicam problemas de multicolinearidade.\n    Para ver como achar esse número, entre em https://www.statsmodels.org/dev/examples/notebooks/generated/ols.html\n"
     ]
    }
   ],
   "source": [
    "## Fazendo a estimação por MQO\n",
    "y = df['lwage']\n",
    "x = df[['educ']]\n",
    "Regressao_Multipla(x,y)"
   ]
  },
  {
   "cell_type": "code",
   "execution_count": 11,
   "metadata": {},
   "outputs": [
    {
     "output_type": "stream",
     "name": "stdout",
     "text": [
      "                            OLS Regression Results                            \n==============================================================================\nDep. Variable:                   educ   R-squared:                       0.173\nModel:                            OLS   Adj. R-squared:                  0.171\nMethod:                 Least Squares   F-statistic:                     88.84\nDate:                Thu, 25 Mar 2021   Prob (F-statistic):           2.76e-19\nTime:                        09:29:55   Log-Likelihood:                -920.02\nNo. Observations:                 428   AIC:                             1844.\nDf Residuals:                     426   BIC:                             1852.\nDf Model:                           1                                         \nCovariance Type:            nonrobust                                         \n==============================================================================\n                 coef    std err          t      P>|t|      [0.025      0.975]\n------------------------------------------------------------------------------\nconst         10.2371      0.276     37.099      0.000       9.695      10.779\nfatheduc       0.2694      0.029      9.426      0.000       0.213       0.326\n==============================================================================\nOmnibus:                        9.919   Durbin-Watson:                   1.919\nProb(Omnibus):                  0.007   Jarque-Bera (JB):               16.651\nSkew:                          -0.093   Prob(JB):                     0.000242\nKurtosis:                       3.948   Cond. No.                         26.7\n==============================================================================\n\nWarnings:\n[1] Standard Errors assume that the covariance matrix of the errors is correctly specified.\nO erro padrão da regressão é 2.0813 e a SQR é 1845.35428\n\nPara ver os valores previstos ou os resídudos, basta chamar 'Lista_ychapeu' e 'Resíduos'.\nOs resultados do modelo podem ser obtidos através de métodos usando a variável 'Resultado'.\n\n    Valores de condição maiores que 20 indicam problemas de multicolinearidade.\n    Para ver como achar esse número, entre em https://www.statsmodels.org/dev/examples/notebooks/generated/ols.html\n"
     ]
    }
   ],
   "source": [
    "## obtendo a eq reduzida com educp como instrumento\n",
    "x = df[['fatheduc']]\n",
    "y = df['educ']\n",
    "Regressao_Multipla(x,y)"
   ]
  },
  {
   "cell_type": "code",
   "execution_count": 12,
   "metadata": {},
   "outputs": [
    {
     "output_type": "stream",
     "name": "stdout",
     "text": [
      "                            OLS Regression Results                            \n==============================================================================\nDep. Variable:                  lwage   R-squared:                       0.006\nModel:                            OLS   Adj. R-squared:                  0.004\nMethod:                 Least Squares   F-statistic:                     2.586\nDate:                Thu, 25 Mar 2021   Prob (F-statistic):              0.109\nTime:                        09:30:32   Log-Likelihood:                -466.81\nNo. Observations:                 428   AIC:                             937.6\nDf Residuals:                     426   BIC:                             945.7\nDf Model:                           1                                         \nCovariance Type:            nonrobust                                         \n==============================================================================\n                 coef    std err          t      P>|t|      [0.025      0.975]\n------------------------------------------------------------------------------\nconst          0.4411      0.467      0.944      0.346      -0.477       1.359\nx1             0.0592      0.037      1.608      0.109      -0.013       0.131\n==============================================================================\nOmnibus:                       63.908   Durbin-Watson:                   1.973\nProb(Omnibus):                  0.000   Jarque-Bera (JB):              167.384\nSkew:                          -0.730   Prob(JB):                     4.50e-37\nKurtosis:                       5.693   Cond. No.                         171.\n==============================================================================\n\nWarnings:\n[1] Standard Errors assume that the covariance matrix of the errors is correctly specified.\nO erro padrão da regressão é 0.72186 e a SQR é 221.97992\n\nPara ver os valores previstos ou os resídudos, basta chamar 'Lista_ychapeu' e 'Resíduos'.\nOs resultados do modelo podem ser obtidos através de métodos usando a variável 'Resultado'.\n\n    Valores de condição maiores que 20 indicam problemas de multicolinearidade.\n    Para ver como achar esse número, entre em https://www.statsmodels.org/dev/examples/notebooks/generated/ols.html\n"
     ]
    }
   ],
   "source": [
    "## Regredindo lwage sobre educ_chapeu\n",
    "x = Lista_ychapeu\n",
    "y = df['lwage']\n",
    "Regressao_Multipla(x,y)"
   ]
  },
  {
   "cell_type": "code",
   "execution_count": 25,
   "metadata": {},
   "outputs": [
    {
     "output_type": "stream",
     "name": "stdout",
     "text": [
      "                          IV-2SLS Estimation Summary                          \n==============================================================================\nDep. Variable:                  lwage   R-squared:                      0.1357\nEstimator:                    IV-2SLS   Adj. R-squared:                 0.1296\nNo. Observations:                 428   F-statistic:                    18.611\nDate:                Thu, Mar 25 2021   P-value (F-stat)                0.0003\nTime:                        09:46:17   Distribution:                  chi2(3)\nCov. Estimator:                robust                                         \n                                                                              \n                             Parameter Estimates                              \n==============================================================================\n            Parameter  Std. Err.     T-stat    P-value    Lower CI    Upper CI\n------------------------------------------------------------------------------\nconst          0.0481     0.4278     0.1124     0.9105     -0.7903      0.8865\nexper          0.0442     0.0155     2.8546     0.0043      0.0138      0.0745\nexpersq       -0.0009     0.0004    -2.1001     0.0357     -0.0017  -5.997e-05\neduc           0.0614     0.0332     1.8503     0.0643     -0.0036      0.1264\n==============================================================================\n\nEndogenous: educ\nInstruments: motheduc, fatheduc\nRobust Covariance (Heteroskedastic)\nDebiased: False\n"
     ]
    }
   ],
   "source": [
    "## Fazendo uma regressão por MQ2E\n",
    "exog = df[['exper','expersq']]\n",
    "exog = sm.add_constant(exog)\n",
    "y = df['lwage']\n",
    "endog = df[['educ']]\n",
    "instrumentos = df[['motheduc','fatheduc']]\n",
    "\n",
    "modelo = IV2SLS(y,exog,endog,instrumentos)\n",
    "resultado = modelo.fit()\n",
    "print(resultado)"
   ]
  },
  {
   "cell_type": "code",
   "execution_count": 26,
   "metadata": {},
   "outputs": [
    {
     "output_type": "stream",
     "name": "stdout",
     "text": [
      "    First Stage Estimation Results    \n======================================\n                                  educ\n--------------------------------------\nR-squared                       0.2115\nPartial R-squared               0.2076\nShea's R-squared                0.2076\nPartial F-statistic             100.22\nP-value (Partial F-stat)        0.0000\nPartial F-stat Distn           chi2(2)\n========================== ===========\nconst                           9.1026\n                              (21.588)\nexper                           0.0452\n                              (1.0854)\nexpersq                        -0.0010\n                             (-0.7671)\nmotheduc                        0.1576\n                              (4.4718)\nfatheduc                        0.1895\n                              (5.8771)\n--------------------------------------\n\nT-stats reported in parentheses\nT-stats use same covariance type as original model\n"
     ]
    }
   ],
   "source": [
    "## vendo as estatísticas da equação reduzida/1º estágio\n",
    "# note que IV2SLS pode ser igual à MQO sendo endog e instrumentos igual a None\n",
    "print(resultado.first_stage)"
   ]
  },
  {
   "cell_type": "code",
   "execution_count": 27,
   "metadata": {},
   "outputs": [
    {
     "output_type": "execute_result",
     "data": {
      "text/plain": [
       "Wooldridge's regression test of exogeneity\n",
       "H0: Endogenous variables are exogenous\n",
       "Statistic: 2.5818\n",
       "P-value: 0.1081\n",
       "Distributed: chi2(1)\n",
       "WaldTestStatistic, id: 0x7fb959363750"
      ]
     },
     "metadata": {},
     "execution_count": 27
    }
   ],
   "source": [
    "## Testando para a exogeneidade da variável instrumentos\n",
    "resultado.wooldridge_regression\n",
    "# o p-valor do teste robusto é 0,1081, de modo que não rejeitamos a hipotese de exogeneidade das variáveis instrumentadas"
   ]
  },
  {
   "cell_type": "code",
   "execution_count": 28,
   "metadata": {},
   "outputs": [
    {
     "output_type": "execute_result",
     "data": {
      "text/plain": [
       "Wooldridge's score test of overidentification\n",
       "H0: Model is not overidentified.\n",
       "Statistic: 0.4435\n",
       "P-value: 0.5055\n",
       "Distributed: chi2(1)\n",
       "WaldTestStatistic, id: 0x7fb95c6c7a50"
      ]
     },
     "metadata": {},
     "execution_count": 28
    }
   ],
   "source": [
    "## testando para restrições sobreidentificadores (se os intrumentos são realmente exógenos)\n",
    "# como temos dois instrumentos para educ, podemos realizar o teste\n",
    "resultado.wooldridge_overid\n",
    "# o p-valor é >0,5; não se rejeita h0 (os intrumentos são realmente exógenos)"
   ]
  },
  {
   "cell_type": "code",
   "execution_count": 2,
   "metadata": {},
   "outputs": [],
   "source": [
    "def Regressao_IV_MQ2E(exog, endog, instrumentos, y, constante=\"S\",cov='normal'):\n",
    "    global df, Resultado\n",
    "    ## formando o vetor de variáveis exógenas\n",
    "    if constante == \"S\":\n",
    "        try:\n",
    "            exog = sm.add_constant(exog)\n",
    "        except Exception: ## se não houver exógenas no modelo\n",
    "            exog = np.resize([1],endog.shape[0])\n",
    "            exog = pd.DataFrame({'const':exog})\n",
    "    else:\n",
    "        exog = exog\n",
    "    \n",
    "    ## criando o modelo levando em conta a opção de covariância\n",
    "    Modelo = IV2SLS(y,exog,endog,instrumentos)\n",
    "    if cov == \"robust\":\n",
    "        Resultado = Modelo.fit(cov_type = 'robust')\n",
    "    elif cov == 'kernel': ## correlação robusta à heteroscedasticidade e autocorrelação serial\n",
    "        Resultado = Modelo.fit(cov_type = 'kernel')\n",
    "    elif cov == 'clustered' or cov == 'cluster':\n",
    "        Resultado = Modelo.fit(cov_type = 'clustered', cluster_entity = True)\n",
    "    else:\n",
    "        Resultado = Modelo.fit(cov_type='unadjusted')\n",
    "    \n",
    "    print(Resultado)\n",
    "    print(\"\\nPara ver os resultados do 1º estágio/equação reduzida (e ver se os instrumentos são relevantes, chame 'Resultado.first_stage'.\")\n",
    "    print(\"\\nPara testar a exogeneidade da variável instrumentada, chame 'Resultado.wooldridge_regression' ou 'Resultado.wooldridge_score' ou 'Resultado.wu_hausman([variaveis])'.\")\n",
    "    print(\"\\nPara testar a exogeneidade dos instrumentos (quando eles forem mais numerosos que as variáveis endógenas), chame 'Resultado.wooldridge_overid', onde Ho: todos os instrumentos são exógenos.\")"
   ]
  },
  {
   "cell_type": "code",
   "execution_count": 3,
   "metadata": {},
   "outputs": [],
   "source": [
    "def equation(sep_erros= \"(\"):\n",
    "    '''\n",
    "    Função que gera uma equação formatada do word\n",
    "    '''\n",
    "    \n",
    "    ## capturando os parametros, p-valores e os erros\n",
    "    params = dict(np.around(Resultado.params,3))\n",
    "    p_values = dict(np.around(Resultado.pvalues,4))\n",
    "\n",
    "    ## linearmodels usa .std_erros para capturar os erros padrão, sm usa .bse\n",
    "    try:\n",
    "        std_errors = dict(np.around(Resultado.std_errors,5))\n",
    "    except Exception:\n",
    "        std_errors = dict(np.around(Resultado.bse,5))\n",
    "\n",
    "    ## fazendo o loop para pegar os coeficientes*nome das variáveis \n",
    "    # e os seus erros-padrão e p-valores entre parênteses\n",
    "    parametros = \"\"\n",
    "    erros = \"\"\n",
    "    p = \"\"\n",
    "    for i in params.keys():\n",
    "        # levando em conta a chave escolhida pelo usuário\n",
    "        if sep_erros == \"(\":\n",
    "            erros += f\" & ({std_errors[i]})\"\n",
    "            p += f\" & ({p_values[i]})\"\n",
    "        else:\n",
    "            erros += f\" & [{std_errors[i]}]\"\n",
    "            p += f\" & [{p_values[i]}]\"\n",
    "\n",
    "        if i != 'const':\n",
    "            if params[i] > 0:\n",
    "                parametros += f\" & + {params[i]}{i}\"\n",
    "            else:\n",
    "                parametros += f\" & - {-params[i]}{i}\"\n",
    "        else:\n",
    "            parametros += f\"{params[i]}\"\n",
    "    \n",
    "    ## Fazendo a str que irá pro word (em forma de matriz)\n",
    "    inicio = \"\\matrix{\"\n",
    "    fim = \"}\"\n",
    "\n",
    "    ## pegando o nome da variável dependente\n",
    "    # linearmodels usa model.dependent.dataframe.columns[0] para modelos de painel \n",
    "    # e model.dependent.cols para modelos de IV;\n",
    "    # sm usa model.endog_names\n",
    "    try:\n",
    "        try: # modelos de painel\n",
    "            y = Resultado.model.dependent.dataframe.columns[0]\n",
    "        except Exception: # modelos de IV 2SLS\n",
    "            y = Resultado.model.dependent.pandas.columns[0]\n",
    "    except Exception: # modelos comuns\n",
    "        y = Resultado.model.endog_names\n",
    "\n",
    "    word = f\"{inicio}{y} & = & {parametros} \\\\\\ erros\\_padrão & = {erros} \\\\\\ p\\_valores & = {p}{fim}\"\n",
    "\n",
    "    ## Adicionando o numero de obs e os r2 (quando rsquared_adj estiver disponível)\n",
    "    try:\n",
    "        word += f\"\\nn = {int(Resultado.nobs)}; R^2 = {np.around(Resultado.rsquared,4)}; \\\\bar{{R^2}} = {np.around(Resultado.rsquared_adj,4)}\"\n",
    "    except Exception:\n",
    "        word += f\"\\nn = {int(Resultado.nobs)}; R^2 = {np.around(Resultado.rsquared,4)}\"\n",
    "\n",
    "    ## substituindo os . por ,\n",
    "    word = word.replace(\".\",\",\")\n",
    "    \n",
    "    ## copiando para o clipboard e printando o sucesso\n",
    "    subprocess.run(\"pbcopy\", universal_newlines=True, input=word)\n",
    "    print(\"O código da equação foi copiado para o clipboard!\")"
   ]
  },
  {
   "cell_type": "code",
   "execution_count": 46,
   "metadata": {},
   "outputs": [
    {
     "output_type": "stream",
     "name": "stdout",
     "text": [
      "                          IV-2SLS Estimation Summary                          \n==============================================================================\nDep. Variable:                  lwage   R-squared:                      0.1357\nEstimator:                    IV-2SLS   Adj. R-squared:                 0.1296\nNo. Observations:                 428   F-statistic:                    24.653\nDate:                Thu, Mar 25 2021   P-value (F-stat)                0.0000\nTime:                        10:16:03   Distribution:                  chi2(3)\nCov. Estimator:            unadjusted                                         \n                                                                              \n                             Parameter Estimates                              \n==============================================================================\n            Parameter  Std. Err.     T-stat    P-value    Lower CI    Upper CI\n------------------------------------------------------------------------------\nconst          0.0481     0.3985     0.1207     0.9039     -0.7329      0.8291\nexper          0.0442     0.0134     3.3038     0.0010      0.0180      0.0704\nexpersq       -0.0009     0.0004    -2.2485     0.0245     -0.0017     -0.0001\neduc           0.0614     0.0313     1.9622     0.0497   7.043e-05      0.1227\n==============================================================================\n\nEndogenous: educ\nInstruments: motheduc, fatheduc\nUnadjusted Covariance (Homoskedastic)\nDebiased: False\n\nPara ver os resultados do 1º estágio/equação reduzida (e ver se os instrumentos são relevantes, chame 'Resultado.first_stage'.\n\nPara testar a exogeneidade da variável instrumentada, chame 'Resultado.wooldridge_regression' ou 'Resultado.wooldridge_score' ou 'Resultado.wu_hausman([variaveis])'.\n\nPara testar a exogeneidade dos instrumentos (quando eles forem mais numerosos que as variáveis endógenas), chame 'Resultado.wooldridge_overid', onde Ho: todos os instrumentos são exógenos.\n"
     ]
    }
   ],
   "source": [
    "## Fazendo uma regressão por MQ2E\n",
    "exog = df[['exper','expersq']]\n",
    "exog = sm.add_constant(exog)\n",
    "y = df['lwage']\n",
    "endog = df[['educ']]\n",
    "instrumentos = df[['motheduc','fatheduc']]\n",
    "\n",
    "Regressao_IV_MQ2E(exog,endog,instrumentos,y)"
   ]
  },
  {
   "cell_type": "code",
   "execution_count": 47,
   "metadata": {},
   "outputs": [],
   "source": [
    "## Podemos, por último, combinar PD e IV ('PANEL IV'): https://bashtage.github.io/linearmodels/iv/examples/basic-examples.html"
   ]
  },
  {
   "source": [
    "## Exercício C1"
   ],
   "cell_type": "markdown",
   "metadata": {}
  },
  {
   "cell_type": "code",
   "execution_count": 167,
   "metadata": {},
   "outputs": [
    {
     "output_type": "stream",
     "name": "stdout",
     "text": [
      "WAGE2.dta foi lido com sucesso!\n"
     ]
    },
    {
     "output_type": "execute_result",
     "data": {
      "text/plain": [
       "     wage  hours   IQ  KWW  educ  exper  tenure  age  married  black  south  \\\n",
       "0     769     40   93   35    12     11       2   31        1      0      0   \n",
       "1     808     50  119   41    18     11      16   37        1      0      0   \n",
       "2     825     40  108   46    14     11       9   33        1      0      0   \n",
       "3     650     40   96   32    12     13       7   32        1      0      0   \n",
       "4     562     40   74   27    11     14       5   34        1      0      0   \n",
       "..    ...    ...  ...  ...   ...    ...     ...  ...      ...    ...    ...   \n",
       "930   520     40   79   28    16      6       1   30        1      1      1   \n",
       "931  1202     40  102   32    13     10       3   31        1      0      1   \n",
       "932   538     45   77   22    12     12      10   28        1      1      1   \n",
       "933   873     44  109   25    12     12      12   28        1      0      1   \n",
       "934  1000     40  107   32    12     17      18   35        1      0      1   \n",
       "\n",
       "     urban  sibs  brthord  meduc  feduc     lwage  \n",
       "0        1     1      2.0    8.0    8.0  6.645091  \n",
       "1        1     1      NaN   14.0   14.0  6.694562  \n",
       "2        1     1      2.0   14.0   14.0  6.715384  \n",
       "3        1     4      3.0   12.0   12.0  6.476973  \n",
       "4        1    10      6.0    6.0   11.0  6.331502  \n",
       "..     ...   ...      ...    ...    ...       ...  \n",
       "930      0     0      1.0   11.0    NaN  6.253829  \n",
       "931      1     7      7.0    8.0    6.0  7.091742  \n",
       "932      0     9      NaN    7.0    NaN  6.287858  \n",
       "933      0     1      1.0    NaN   11.0  6.771935  \n",
       "934      0     5      1.0    NaN    NaN  6.907755  \n",
       "\n",
       "[935 rows x 17 columns]"
      ],
      "text/html": "<div>\n<style scoped>\n    .dataframe tbody tr th:only-of-type {\n        vertical-align: middle;\n    }\n\n    .dataframe tbody tr th {\n        vertical-align: top;\n    }\n\n    .dataframe thead th {\n        text-align: right;\n    }\n</style>\n<table border=\"1\" class=\"dataframe\">\n  <thead>\n    <tr style=\"text-align: right;\">\n      <th></th>\n      <th>wage</th>\n      <th>hours</th>\n      <th>IQ</th>\n      <th>KWW</th>\n      <th>educ</th>\n      <th>exper</th>\n      <th>tenure</th>\n      <th>age</th>\n      <th>married</th>\n      <th>black</th>\n      <th>south</th>\n      <th>urban</th>\n      <th>sibs</th>\n      <th>brthord</th>\n      <th>meduc</th>\n      <th>feduc</th>\n      <th>lwage</th>\n    </tr>\n  </thead>\n  <tbody>\n    <tr>\n      <th>0</th>\n      <td>769</td>\n      <td>40</td>\n      <td>93</td>\n      <td>35</td>\n      <td>12</td>\n      <td>11</td>\n      <td>2</td>\n      <td>31</td>\n      <td>1</td>\n      <td>0</td>\n      <td>0</td>\n      <td>1</td>\n      <td>1</td>\n      <td>2.0</td>\n      <td>8.0</td>\n      <td>8.0</td>\n      <td>6.645091</td>\n    </tr>\n    <tr>\n      <th>1</th>\n      <td>808</td>\n      <td>50</td>\n      <td>119</td>\n      <td>41</td>\n      <td>18</td>\n      <td>11</td>\n      <td>16</td>\n      <td>37</td>\n      <td>1</td>\n      <td>0</td>\n      <td>0</td>\n      <td>1</td>\n      <td>1</td>\n      <td>NaN</td>\n      <td>14.0</td>\n      <td>14.0</td>\n      <td>6.694562</td>\n    </tr>\n    <tr>\n      <th>2</th>\n      <td>825</td>\n      <td>40</td>\n      <td>108</td>\n      <td>46</td>\n      <td>14</td>\n      <td>11</td>\n      <td>9</td>\n      <td>33</td>\n      <td>1</td>\n      <td>0</td>\n      <td>0</td>\n      <td>1</td>\n      <td>1</td>\n      <td>2.0</td>\n      <td>14.0</td>\n      <td>14.0</td>\n      <td>6.715384</td>\n    </tr>\n    <tr>\n      <th>3</th>\n      <td>650</td>\n      <td>40</td>\n      <td>96</td>\n      <td>32</td>\n      <td>12</td>\n      <td>13</td>\n      <td>7</td>\n      <td>32</td>\n      <td>1</td>\n      <td>0</td>\n      <td>0</td>\n      <td>1</td>\n      <td>4</td>\n      <td>3.0</td>\n      <td>12.0</td>\n      <td>12.0</td>\n      <td>6.476973</td>\n    </tr>\n    <tr>\n      <th>4</th>\n      <td>562</td>\n      <td>40</td>\n      <td>74</td>\n      <td>27</td>\n      <td>11</td>\n      <td>14</td>\n      <td>5</td>\n      <td>34</td>\n      <td>1</td>\n      <td>0</td>\n      <td>0</td>\n      <td>1</td>\n      <td>10</td>\n      <td>6.0</td>\n      <td>6.0</td>\n      <td>11.0</td>\n      <td>6.331502</td>\n    </tr>\n    <tr>\n      <th>...</th>\n      <td>...</td>\n      <td>...</td>\n      <td>...</td>\n      <td>...</td>\n      <td>...</td>\n      <td>...</td>\n      <td>...</td>\n      <td>...</td>\n      <td>...</td>\n      <td>...</td>\n      <td>...</td>\n      <td>...</td>\n      <td>...</td>\n      <td>...</td>\n      <td>...</td>\n      <td>...</td>\n      <td>...</td>\n    </tr>\n    <tr>\n      <th>930</th>\n      <td>520</td>\n      <td>40</td>\n      <td>79</td>\n      <td>28</td>\n      <td>16</td>\n      <td>6</td>\n      <td>1</td>\n      <td>30</td>\n      <td>1</td>\n      <td>1</td>\n      <td>1</td>\n      <td>0</td>\n      <td>0</td>\n      <td>1.0</td>\n      <td>11.0</td>\n      <td>NaN</td>\n      <td>6.253829</td>\n    </tr>\n    <tr>\n      <th>931</th>\n      <td>1202</td>\n      <td>40</td>\n      <td>102</td>\n      <td>32</td>\n      <td>13</td>\n      <td>10</td>\n      <td>3</td>\n      <td>31</td>\n      <td>1</td>\n      <td>0</td>\n      <td>1</td>\n      <td>1</td>\n      <td>7</td>\n      <td>7.0</td>\n      <td>8.0</td>\n      <td>6.0</td>\n      <td>7.091742</td>\n    </tr>\n    <tr>\n      <th>932</th>\n      <td>538</td>\n      <td>45</td>\n      <td>77</td>\n      <td>22</td>\n      <td>12</td>\n      <td>12</td>\n      <td>10</td>\n      <td>28</td>\n      <td>1</td>\n      <td>1</td>\n      <td>1</td>\n      <td>0</td>\n      <td>9</td>\n      <td>NaN</td>\n      <td>7.0</td>\n      <td>NaN</td>\n      <td>6.287858</td>\n    </tr>\n    <tr>\n      <th>933</th>\n      <td>873</td>\n      <td>44</td>\n      <td>109</td>\n      <td>25</td>\n      <td>12</td>\n      <td>12</td>\n      <td>12</td>\n      <td>28</td>\n      <td>1</td>\n      <td>0</td>\n      <td>1</td>\n      <td>0</td>\n      <td>1</td>\n      <td>1.0</td>\n      <td>NaN</td>\n      <td>11.0</td>\n      <td>6.771935</td>\n    </tr>\n    <tr>\n      <th>934</th>\n      <td>1000</td>\n      <td>40</td>\n      <td>107</td>\n      <td>32</td>\n      <td>12</td>\n      <td>17</td>\n      <td>18</td>\n      <td>35</td>\n      <td>1</td>\n      <td>0</td>\n      <td>1</td>\n      <td>0</td>\n      <td>5</td>\n      <td>1.0</td>\n      <td>NaN</td>\n      <td>NaN</td>\n      <td>6.907755</td>\n    </tr>\n  </tbody>\n</table>\n<p>935 rows × 17 columns</p>\n</div>"
     },
     "metadata": {},
     "execution_count": 167
    }
   ],
   "source": [
    "coletar_dados('WAGE2')"
   ]
  },
  {
   "cell_type": "code",
   "execution_count": 168,
   "metadata": {},
   "outputs": [
    {
     "output_type": "stream",
     "name": "stdout",
     "text": [
      "                            OLS Estimation Summary                            \n==============================================================================\nDep. Variable:                  lwage   R-squared:                      0.0974\nEstimator:                        OLS   Adj. R-squared:                 0.0964\nNo. Observations:                 935   F-statistic:                    100.92\nDate:                Sat, Mar 27 2021   P-value (F-stat)                0.0000\nTime:                        11:05:48   Distribution:                  chi2(1)\nCov. Estimator:            unadjusted                                         \n                                                                              \n                             Parameter Estimates                              \n==============================================================================\n            Parameter  Std. Err.     T-stat    P-value    Lower CI    Upper CI\n------------------------------------------------------------------------------\nconst          5.9731     0.0813     73.482     0.0000      5.8137      6.1324\neduc           0.0598     0.0060     10.046     0.0000      0.0482      0.0715\n==============================================================================\n\nPara ver os resultados do 1º estágio/equação reduzida (e ver se os instrumentos são relevantes, chame 'Resultado.first_stage'.\n\nPara testar a exogeneidade da variável instrumentada, chame 'Resultado.wooldridge_regression' ou 'Resultado.wooldridge_score' ou 'Resultado.wu_hausman([variaveis])'.\n\nPara testar a exogeneidade dos instrumentos (quando eles forem mais numerosos que as variáveis endógenas), chame 'Resultado.wooldridge_overid', onde Ho: todos os instrumentos são exógenos.\n"
     ]
    }
   ],
   "source": [
    "## o modelo do exemplo 15.2 é\n",
    "x = df[['educ']]\n",
    "y = df['lwage']\n",
    "\n",
    "Regressao_IV_MQ2E(exog= x, endog= None, instrumentos= None, y=y)"
   ]
  },
  {
   "cell_type": "code",
   "execution_count": 182,
   "metadata": {},
   "outputs": [
    {
     "output_type": "stream",
     "name": "stdout",
     "text": [
      "                          IV-2SLS Estimation Summary                          \n==============================================================================\nDep. Variable:                  lwage   R-squared:                     -0.0092\nEstimator:                    IV-2SLS   Adj. R-squared:                -0.0103\nNo. Observations:                 935   F-statistic:                    21.634\nDate:                Sat, Mar 27 2021   P-value (F-stat)                0.0000\nTime:                        11:14:22   Distribution:                  chi2(1)\nCov. Estimator:            unadjusted                                         \n                                                                              \n                             Parameter Estimates                              \n==============================================================================\n            Parameter  Std. Err.     T-stat    P-value    Lower CI    Upper CI\n------------------------------------------------------------------------------\nconst          5.1300     0.3548     14.459     0.0000      4.4346      5.8254\neduc           0.1224     0.0263     4.6513     0.0000      0.0708      0.1740\n==============================================================================\n\nEndogenous: educ\nInstruments: sibs\nUnadjusted Covariance (Homoskedastic)\nDebiased: False\n\nPara ver os resultados do 1º estágio/equação reduzida (e ver se os instrumentos são relevantes, chame 'Resultado.first_stage'.\n\nPara testar a exogeneidade da variável instrumentada, chame 'Resultado.wooldridge_regression' ou 'Resultado.wooldridge_score' ou 'Resultado.wu_hausman([variaveis])'.\n\nPara testar a exogeneidade dos instrumentos (quando eles forem mais numerosos que as variáveis endógenas), chame 'Resultado.wooldridge_overid', onde Ho: todos os instrumentos são exógenos.\n"
     ]
    }
   ],
   "source": [
    "## usando sibs como IV de educ\n",
    "exog = None\n",
    "endog = df[['educ']]\n",
    "instrumentos = df[['sibs']]\n",
    "y = df['lwage']\n",
    "\n",
    "Regressao_IV_MQ2E(exog= exog, endog= endog, instrumentos= instrumentos, y=y)"
   ]
  },
  {
   "cell_type": "code",
   "execution_count": 183,
   "metadata": {},
   "outputs": [
    {
     "output_type": "stream",
     "name": "stdout",
     "text": [
      "                            OLS Estimation Summary                            \n==============================================================================\nDep. Variable:                  lwage   R-squared:                      0.0234\nEstimator:                        OLS   Adj. R-squared:                 0.0223\nNo. Observations:                 935   F-statistic:                    22.355\nDate:                Sat, Mar 27 2021   P-value (F-stat)                0.0000\nTime:                        11:14:24   Distribution:                  chi2(1)\nCov. Estimator:            unadjusted                                         \n                                                                              \n                             Parameter Estimates                              \n==============================================================================\n            Parameter  Std. Err.     T-stat    P-value    Lower CI    Upper CI\n------------------------------------------------------------------------------\nconst          6.8611     0.0221     311.10     0.0000      6.8179      6.9043\nsibs          -0.0279     0.0059    -4.7281     0.0000     -0.0395     -0.0163\n==============================================================================\n\nPara ver os resultados do 1º estágio/equação reduzida (e ver se os instrumentos são relevantes, chame 'Resultado.first_stage'.\n\nPara testar a exogeneidade da variável instrumentada, chame 'Resultado.wooldridge_regression' ou 'Resultado.wooldridge_score' ou 'Resultado.wu_hausman([variaveis])'.\n\nPara testar a exogeneidade dos instrumentos (quando eles forem mais numerosos que as variáveis endógenas), chame 'Resultado.wooldridge_overid', onde Ho: todos os instrumentos são exógenos.\n"
     ]
    }
   ],
   "source": [
    "## fazendo uma regressao simples de lwage sobre sibs\n",
    "exog = df[['sibs']]\n",
    "endog = None\n",
    "instrumentos = None\n",
    "y = df['lwage']\n",
    "\n",
    "Regressao_IV_MQ2E(exog= exog, endog= endog, instrumentos= instrumentos, y=y)"
   ]
  },
  {
   "cell_type": "code",
   "execution_count": 184,
   "metadata": {},
   "outputs": [
    {
     "output_type": "stream",
     "name": "stdout",
     "text": [
      "O código da equação foi copiado para o clipboard!\n"
     ]
    }
   ],
   "source": [
    "equation()"
   ]
  },
  {
   "cell_type": "code",
   "execution_count": 185,
   "metadata": {},
   "outputs": [
    {
     "output_type": "stream",
     "name": "stdout",
     "text": [
      "                            OLS Estimation Summary                            \n==============================================================================\nDep. Variable:                   educ   R-squared:                      0.0573\nEstimator:                        OLS   Adj. R-squared:                 0.0562\nNo. Observations:                 935   F-statistic:                    56.789\nDate:                Sat, Mar 27 2021   P-value (F-stat)                0.0000\nTime:                        11:14:46   Distribution:                  chi2(1)\nCov. Estimator:            unadjusted                                         \n                                                                              \n                             Parameter Estimates                              \n==============================================================================\n            Parameter  Std. Err.     T-stat    P-value    Lower CI    Upper CI\n------------------------------------------------------------------------------\nconst          14.139     0.1130     125.10     0.0000      13.917      14.360\nsibs          -0.2279     0.0302    -7.5358     0.0000     -0.2872     -0.1686\n==============================================================================\n\nPara ver os resultados do 1º estágio/equação reduzida (e ver se os instrumentos são relevantes, chame 'Resultado.first_stage'.\n\nPara testar a exogeneidade da variável instrumentada, chame 'Resultado.wooldridge_regression' ou 'Resultado.wooldridge_score' ou 'Resultado.wu_hausman([variaveis])'.\n\nPara testar a exogeneidade dos instrumentos (quando eles forem mais numerosos que as variáveis endógenas), chame 'Resultado.wooldridge_overid', onde Ho: todos os instrumentos são exógenos.\nO código da equação foi copiado para o clipboard!\n"
     ]
    }
   ],
   "source": [
    "## regredindo educ sobre sibs\n",
    "exog = df[['sibs']]\n",
    "endog = None\n",
    "instrumentos = None\n",
    "y = df['educ']\n",
    "Regressao_IV_MQ2E(exog= exog, endog= endog, instrumentos= instrumentos, y=y)\n",
    "equation()"
   ]
  },
  {
   "cell_type": "code",
   "execution_count": 187,
   "metadata": {},
   "outputs": [
    {
     "output_type": "stream",
     "name": "stdout",
     "text": [
      "                            OLS Estimation Summary                            \n",
      "==============================================================================\n",
      "Dep. Variable:                   educ   R-squared:                      0.0420\n",
      "Estimator:                        OLS   Adj. R-squared:                 0.0409\n",
      "No. Observations:                 852   F-statistic:                    37.373\n",
      "Date:                Sat, Mar 27 2021   P-value (F-stat)                0.0000\n",
      "Time:                        11:19:53   Distribution:                  chi2(1)\n",
      "Cov. Estimator:            unadjusted                                         \n",
      "                                                                              \n",
      "                             Parameter Estimates                              \n",
      "==============================================================================\n",
      "            Parameter  Std. Err.     T-stat    P-value    Lower CI    Upper CI\n",
      "------------------------------------------------------------------------------\n",
      "const          14.149     0.1285     110.09     0.0000      13.898      14.401\n",
      "brthord       -0.2826     0.0462    -6.1134     0.0000     -0.3733     -0.1920\n",
      "==============================================================================\n",
      "\n",
      "Para ver os resultados do 1º estágio/equação reduzida (e ver se os instrumentos são relevantes, chame 'Resultado.first_stage'.\n",
      "\n",
      "Para testar a exogeneidade da variável instrumentada, chame 'Resultado.wooldridge_regression' ou 'Resultado.wooldridge_score' ou 'Resultado.wu_hausman([variaveis])'.\n",
      "\n",
      "Para testar a exogeneidade dos instrumentos (quando eles forem mais numerosos que as variáveis endógenas), chame 'Resultado.wooldridge_overid', onde Ho: todos os instrumentos são exógenos.\n",
      "O código da equação foi copiado para o clipboard!\n",
      "/Users/vinicius/opt/anaconda3/envs/myenv/lib/python3.7/site-packages/linearmodels/shared/exceptions.py:35: MissingValueWarning:\n",
      "\n",
      "\n",
      "Inputs contain missing values. Dropping rows with missing observations.\n",
      "\n"
     ]
    }
   ],
   "source": [
    "## regredindo educ sobre brthord (geralmente, por motivos orçamentários, apenas o primeiro filho pode ter verba pra ir a faculdade, por exemplo)\n",
    "exog = df[['brthord']]\n",
    "endog = None\n",
    "instrumentos = None\n",
    "y = df['educ']\n",
    "\n",
    "Regressao_IV_MQ2E(exog= exog, endog= endog, instrumentos= instrumentos, y=y)\n",
    "equation()"
   ]
  },
  {
   "cell_type": "code",
   "execution_count": 189,
   "metadata": {},
   "outputs": [
    {
     "output_type": "stream",
     "name": "stdout",
     "text": [
      "                          IV-2SLS Estimation Summary                          \n",
      "==============================================================================\n",
      "Dep. Variable:                  lwage   R-squared:                     -0.0286\n",
      "Estimator:                    IV-2SLS   Adj. R-squared:                -0.0298\n",
      "No. Observations:                 852   F-statistic:                    16.667\n",
      "Date:                Sat, Mar 27 2021   P-value (F-stat)                0.0000\n",
      "Time:                        11:27:52   Distribution:                  chi2(1)\n",
      "Cov. Estimator:            unadjusted                                         \n",
      "                                                                              \n",
      "                             Parameter Estimates                              \n",
      "==============================================================================\n",
      "            Parameter  Std. Err.     T-stat    P-value    Lower CI    Upper CI\n",
      "------------------------------------------------------------------------------\n",
      "const          5.0304     0.4324     11.633     0.0000      4.1828      5.8780\n",
      "educ           0.1306     0.0320     4.0825     0.0000      0.0679      0.1934\n",
      "==============================================================================\n",
      "\n",
      "Endogenous: educ\n",
      "Instruments: brthord\n",
      "Unadjusted Covariance (Homoskedastic)\n",
      "Debiased: False\n",
      "\n",
      "Para ver os resultados do 1º estágio/equação reduzida (e ver se os instrumentos são relevantes, chame 'Resultado.first_stage'.\n",
      "\n",
      "Para testar a exogeneidade da variável instrumentada, chame 'Resultado.wooldridge_regression' ou 'Resultado.wooldridge_score' ou 'Resultado.wu_hausman([variaveis])'.\n",
      "\n",
      "Para testar a exogeneidade dos instrumentos (quando eles forem mais numerosos que as variáveis endógenas), chame 'Resultado.wooldridge_overid', onde Ho: todos os instrumentos são exógenos.\n",
      "O código da equação foi copiado para o clipboard!\n",
      "/Users/vinicius/opt/anaconda3/envs/myenv/lib/python3.7/site-packages/linearmodels/shared/exceptions.py:35: MissingValueWarning:\n",
      "\n",
      "\n",
      "Inputs contain missing values. Dropping rows with missing observations.\n",
      "\n"
     ]
    }
   ],
   "source": [
    "## usando brthord como IV de educ\n",
    "exog = None\n",
    "endog = df[['educ']]\n",
    "instrumentos = df[['brthord']]\n",
    "y = df['lwage']\n",
    "\n",
    "Regressao_IV_MQ2E(exog= exog, endog= endog, instrumentos= instrumentos, y=y)\n",
    "equation()"
   ]
  },
  {
   "cell_type": "code",
   "execution_count": 190,
   "metadata": {},
   "outputs": [
    {
     "output_type": "execute_result",
     "data": {
      "text/plain": [
       "Wooldridge's regression test of exogeneity\n",
       "H0: Endogenous variables are exogenous\n",
       "Statistic: 5.6569\n",
       "P-value: 0.0174\n",
       "Distributed: chi2(1)\n",
       "WaldTestStatistic, id: 0x7fb9402a9390"
      ]
     },
     "metadata": {},
     "execution_count": 190
    }
   ],
   "source": [
    "## fazendo o teste de endogeneidade\n",
    "Resultado.wooldridge_regression"
   ]
  },
  {
   "cell_type": "code",
   "execution_count": 194,
   "metadata": {},
   "outputs": [
    {
     "output_type": "stream",
     "name": "stdout",
     "text": [
      "                          IV-2SLS Estimation Summary                          \n",
      "==============================================================================\n",
      "Dep. Variable:                  lwage   R-squared:                     -0.0543\n",
      "Estimator:                    IV-2SLS   Adj. R-squared:                -0.0568\n",
      "No. Observations:                 852   F-statistic:                    21.871\n",
      "Date:                Sat, Mar 27 2021   P-value (F-stat)                0.0000\n",
      "Time:                        11:35:21   Distribution:                  chi2(2)\n",
      "Cov. Estimator:            unadjusted                                         \n",
      "                                                                              \n",
      "                             Parameter Estimates                              \n",
      "==============================================================================\n",
      "            Parameter  Std. Err.     T-stat    P-value    Lower CI    Upper CI\n",
      "------------------------------------------------------------------------------\n",
      "const          4.9385     1.0538     4.6863     0.0000      2.8731      7.0040\n",
      "sibs           0.0021     0.0173     0.1217     0.9031     -0.0319      0.0361\n",
      "educ           0.1370     0.0745     1.8376     0.0661     -0.0091      0.2831\n",
      "==============================================================================\n",
      "\n",
      "Endogenous: educ\n",
      "Instruments: brthord\n",
      "Unadjusted Covariance (Homoskedastic)\n",
      "Debiased: False\n",
      "\n",
      "Para ver os resultados do 1º estágio/equação reduzida (e ver se os instrumentos são relevantes, chame 'Resultado.first_stage'.\n",
      "\n",
      "Para testar a exogeneidade da variável instrumentada, chame 'Resultado.wooldridge_regression' ou 'Resultado.wooldridge_score' ou 'Resultado.wu_hausman([variaveis])'.\n",
      "\n",
      "Para testar a exogeneidade dos instrumentos (quando eles forem mais numerosos que as variáveis endógenas), chame 'Resultado.wooldridge_overid', onde Ho: todos os instrumentos são exógenos.\n",
      "O código da equação foi copiado para o clipboard!\n",
      "/Users/vinicius/opt/anaconda3/envs/myenv/lib/python3.7/site-packages/linearmodels/shared/exceptions.py:35: MissingValueWarning:\n",
      "\n",
      "\n",
      "Inputs contain missing values. Dropping rows with missing observations.\n",
      "\n"
     ]
    }
   ],
   "source": [
    "## usando brthord como IV de educ e controlando para sibs\n",
    "exog = df[['sibs']]\n",
    "endog = df[['educ']]\n",
    "instrumentos = df[['brthord']]\n",
    "y = df['lwage']\n",
    "\n",
    "Regressao_IV_MQ2E(exog= exog, endog= endog, instrumentos= instrumentos, y=y)\n",
    "equation()"
   ]
  },
  {
   "cell_type": "code",
   "execution_count": 193,
   "metadata": {},
   "outputs": [
    {
     "output_type": "stream",
     "name": "stdout",
     "text": [
      "    First Stage Estimation Results    \n======================================\n                                  educ\n--------------------------------------\nR-squared                       0.0583\nPartial R-squared               0.0084\nShea's R-squared                0.0084\nPartial F-statistic             7.1804\nP-value (Partial F-stat)        0.0074\nPartial F-stat Distn           chi2(1)\n========================== ===========\nconst                           14.296\n                              (107.45)\nsibs                           -0.1529\n                             (-3.8409)\nbrthord                        -0.1527\n                             (-2.6796)\n--------------------------------------\n\nT-stats reported in parentheses\nT-stats use same covariance type as original model\n"
     ]
    }
   ],
   "source": [
    "## coletando os dados de primeiro estágio\n",
    "print(Resultado.first_stage)"
   ]
  },
  {
   "cell_type": "code",
   "execution_count": 164,
   "metadata": {},
   "outputs": [
    {
     "output_type": "execute_result",
     "data": {
      "text/plain": [
       "                 sibs  educ_chapeu\n",
       "sibs         1.000000    -0.929482\n",
       "educ_chapeu -0.929482     1.000000"
      ],
      "text/html": "<div>\n<style scoped>\n    .dataframe tbody tr th:only-of-type {\n        vertical-align: middle;\n    }\n\n    .dataframe tbody tr th {\n        vertical-align: top;\n    }\n\n    .dataframe thead th {\n        text-align: right;\n    }\n</style>\n<table border=\"1\" class=\"dataframe\">\n  <thead>\n    <tr style=\"text-align: right;\">\n      <th></th>\n      <th>sibs</th>\n      <th>educ_chapeu</th>\n    </tr>\n  </thead>\n  <tbody>\n    <tr>\n      <th>sibs</th>\n      <td>1.000000</td>\n      <td>-0.929482</td>\n    </tr>\n    <tr>\n      <th>educ_chapeu</th>\n      <td>-0.929482</td>\n      <td>1.000000</td>\n    </tr>\n  </tbody>\n</table>\n</div>"
     },
     "metadata": {},
     "execution_count": 164
    }
   ],
   "source": [
    "## coletando os dados da regressão de primeiro estágio\n",
    "# criando um df droppando os valores nulos de brthord\n",
    "df1 = df.dropna(subset=['brthord'], axis = 0)\n",
    "x = df1[['sibs','brthord']]\n",
    "y = df1['educ']\n",
    "\n",
    "Regressao_Multipla(x,y)\n",
    "\n",
    "## coletando os dados preditos\n",
    "educ_chapeu = Resultado.fittedvalues\n",
    "\n",
    "# vendo a correlação\n",
    "df1['educ_chapeu'] = educ_chapeu\n",
    "clear_output()\n",
    "df1[['sibs','educ_chapeu']].corr()"
   ]
  },
  {
   "source": [
    "## Exercício C2"
   ],
   "cell_type": "markdown",
   "metadata": {}
  },
  {
   "cell_type": "code",
   "execution_count": 8,
   "metadata": {},
   "outputs": [
    {
     "output_type": "stream",
     "name": "stdout",
     "text": [
      "FERTIL2.dta foi lido com sucesso!\n"
     ]
    },
    {
     "output_type": "execute_result",
     "data": {
      "text/plain": [
       "      mnthborn  yearborn  age  electric  radio   tv  bicycle  educ  ceb  \\\n",
       "0            5        64   24       1.0    1.0  1.0      1.0    12    0   \n",
       "1            1        56   32       1.0    1.0  1.0      1.0    13    3   \n",
       "2            7        58   30       1.0    0.0  0.0      0.0     5    1   \n",
       "3           11        45   42       1.0    0.0  1.0      0.0     4    3   \n",
       "4            5        45   43       1.0    1.0  1.0      1.0    11    2   \n",
       "...        ...       ...  ...       ...    ...  ...      ...   ...  ...   \n",
       "4356         6        72   16       0.0    1.0  0.0      0.0     7    0   \n",
       "4357         1        60   28       0.0    1.0  0.0      0.0     7    2   \n",
       "4358        11        63   24       0.0    1.0  0.0      0.0     5    4   \n",
       "4359         1        62   26       0.0    1.0  0.0      0.0     0    1   \n",
       "4360        12        51   36       0.0    1.0  0.0      0.0     3    6   \n",
       "\n",
       "      agefbrth  ...  heduc  agesq  urban  urb_educ  spirit  protest  catholic  \\\n",
       "0          NaN  ...    NaN    576      1        12       0        0         0   \n",
       "1         25.0  ...   12.0   1024      1        13       0        0         0   \n",
       "2         27.0  ...    7.0    900      1         5       1        0         0   \n",
       "3         17.0  ...   11.0   1764      1         4       0        0         0   \n",
       "4         24.0  ...   14.0   1849      1        11       0        1         0   \n",
       "...        ...  ...    ...    ...    ...       ...     ...      ...       ...   \n",
       "4356       NaN  ...    NaN    256      0         0       0        1         0   \n",
       "4357      19.0  ...    NaN    784      0         0       0        1         0   \n",
       "4358      13.0  ...    NaN    576      0         0       0        1         0   \n",
       "4359      25.0  ...    7.0    676      0         0       1        0         0   \n",
       "4360      22.0  ...    0.0   1296      0         0       0        1         0   \n",
       "\n",
       "      frsthalf  educ0  evermarr  \n",
       "0            1      0         0  \n",
       "1            1      0         1  \n",
       "2            0      0         1  \n",
       "3            0      0         1  \n",
       "4            1      0         1  \n",
       "...        ...    ...       ...  \n",
       "4356         1      0         0  \n",
       "4357         1      0         0  \n",
       "4358         0      0         0  \n",
       "4359         1      1         1  \n",
       "4360         0      0         1  \n",
       "\n",
       "[4361 rows x 27 columns]"
      ],
      "text/html": "<div>\n<style scoped>\n    .dataframe tbody tr th:only-of-type {\n        vertical-align: middle;\n    }\n\n    .dataframe tbody tr th {\n        vertical-align: top;\n    }\n\n    .dataframe thead th {\n        text-align: right;\n    }\n</style>\n<table border=\"1\" class=\"dataframe\">\n  <thead>\n    <tr style=\"text-align: right;\">\n      <th></th>\n      <th>mnthborn</th>\n      <th>yearborn</th>\n      <th>age</th>\n      <th>electric</th>\n      <th>radio</th>\n      <th>tv</th>\n      <th>bicycle</th>\n      <th>educ</th>\n      <th>ceb</th>\n      <th>agefbrth</th>\n      <th>...</th>\n      <th>heduc</th>\n      <th>agesq</th>\n      <th>urban</th>\n      <th>urb_educ</th>\n      <th>spirit</th>\n      <th>protest</th>\n      <th>catholic</th>\n      <th>frsthalf</th>\n      <th>educ0</th>\n      <th>evermarr</th>\n    </tr>\n  </thead>\n  <tbody>\n    <tr>\n      <th>0</th>\n      <td>5</td>\n      <td>64</td>\n      <td>24</td>\n      <td>1.0</td>\n      <td>1.0</td>\n      <td>1.0</td>\n      <td>1.0</td>\n      <td>12</td>\n      <td>0</td>\n      <td>NaN</td>\n      <td>...</td>\n      <td>NaN</td>\n      <td>576</td>\n      <td>1</td>\n      <td>12</td>\n      <td>0</td>\n      <td>0</td>\n      <td>0</td>\n      <td>1</td>\n      <td>0</td>\n      <td>0</td>\n    </tr>\n    <tr>\n      <th>1</th>\n      <td>1</td>\n      <td>56</td>\n      <td>32</td>\n      <td>1.0</td>\n      <td>1.0</td>\n      <td>1.0</td>\n      <td>1.0</td>\n      <td>13</td>\n      <td>3</td>\n      <td>25.0</td>\n      <td>...</td>\n      <td>12.0</td>\n      <td>1024</td>\n      <td>1</td>\n      <td>13</td>\n      <td>0</td>\n      <td>0</td>\n      <td>0</td>\n      <td>1</td>\n      <td>0</td>\n      <td>1</td>\n    </tr>\n    <tr>\n      <th>2</th>\n      <td>7</td>\n      <td>58</td>\n      <td>30</td>\n      <td>1.0</td>\n      <td>0.0</td>\n      <td>0.0</td>\n      <td>0.0</td>\n      <td>5</td>\n      <td>1</td>\n      <td>27.0</td>\n      <td>...</td>\n      <td>7.0</td>\n      <td>900</td>\n      <td>1</td>\n      <td>5</td>\n      <td>1</td>\n      <td>0</td>\n      <td>0</td>\n      <td>0</td>\n      <td>0</td>\n      <td>1</td>\n    </tr>\n    <tr>\n      <th>3</th>\n      <td>11</td>\n      <td>45</td>\n      <td>42</td>\n      <td>1.0</td>\n      <td>0.0</td>\n      <td>1.0</td>\n      <td>0.0</td>\n      <td>4</td>\n      <td>3</td>\n      <td>17.0</td>\n      <td>...</td>\n      <td>11.0</td>\n      <td>1764</td>\n      <td>1</td>\n      <td>4</td>\n      <td>0</td>\n      <td>0</td>\n      <td>0</td>\n      <td>0</td>\n      <td>0</td>\n      <td>1</td>\n    </tr>\n    <tr>\n      <th>4</th>\n      <td>5</td>\n      <td>45</td>\n      <td>43</td>\n      <td>1.0</td>\n      <td>1.0</td>\n      <td>1.0</td>\n      <td>1.0</td>\n      <td>11</td>\n      <td>2</td>\n      <td>24.0</td>\n      <td>...</td>\n      <td>14.0</td>\n      <td>1849</td>\n      <td>1</td>\n      <td>11</td>\n      <td>0</td>\n      <td>1</td>\n      <td>0</td>\n      <td>1</td>\n      <td>0</td>\n      <td>1</td>\n    </tr>\n    <tr>\n      <th>...</th>\n      <td>...</td>\n      <td>...</td>\n      <td>...</td>\n      <td>...</td>\n      <td>...</td>\n      <td>...</td>\n      <td>...</td>\n      <td>...</td>\n      <td>...</td>\n      <td>...</td>\n      <td>...</td>\n      <td>...</td>\n      <td>...</td>\n      <td>...</td>\n      <td>...</td>\n      <td>...</td>\n      <td>...</td>\n      <td>...</td>\n      <td>...</td>\n      <td>...</td>\n      <td>...</td>\n    </tr>\n    <tr>\n      <th>4356</th>\n      <td>6</td>\n      <td>72</td>\n      <td>16</td>\n      <td>0.0</td>\n      <td>1.0</td>\n      <td>0.0</td>\n      <td>0.0</td>\n      <td>7</td>\n      <td>0</td>\n      <td>NaN</td>\n      <td>...</td>\n      <td>NaN</td>\n      <td>256</td>\n      <td>0</td>\n      <td>0</td>\n      <td>0</td>\n      <td>1</td>\n      <td>0</td>\n      <td>1</td>\n      <td>0</td>\n      <td>0</td>\n    </tr>\n    <tr>\n      <th>4357</th>\n      <td>1</td>\n      <td>60</td>\n      <td>28</td>\n      <td>0.0</td>\n      <td>1.0</td>\n      <td>0.0</td>\n      <td>0.0</td>\n      <td>7</td>\n      <td>2</td>\n      <td>19.0</td>\n      <td>...</td>\n      <td>NaN</td>\n      <td>784</td>\n      <td>0</td>\n      <td>0</td>\n      <td>0</td>\n      <td>1</td>\n      <td>0</td>\n      <td>1</td>\n      <td>0</td>\n      <td>0</td>\n    </tr>\n    <tr>\n      <th>4358</th>\n      <td>11</td>\n      <td>63</td>\n      <td>24</td>\n      <td>0.0</td>\n      <td>1.0</td>\n      <td>0.0</td>\n      <td>0.0</td>\n      <td>5</td>\n      <td>4</td>\n      <td>13.0</td>\n      <td>...</td>\n      <td>NaN</td>\n      <td>576</td>\n      <td>0</td>\n      <td>0</td>\n      <td>0</td>\n      <td>1</td>\n      <td>0</td>\n      <td>0</td>\n      <td>0</td>\n      <td>0</td>\n    </tr>\n    <tr>\n      <th>4359</th>\n      <td>1</td>\n      <td>62</td>\n      <td>26</td>\n      <td>0.0</td>\n      <td>1.0</td>\n      <td>0.0</td>\n      <td>0.0</td>\n      <td>0</td>\n      <td>1</td>\n      <td>25.0</td>\n      <td>...</td>\n      <td>7.0</td>\n      <td>676</td>\n      <td>0</td>\n      <td>0</td>\n      <td>1</td>\n      <td>0</td>\n      <td>0</td>\n      <td>1</td>\n      <td>1</td>\n      <td>1</td>\n    </tr>\n    <tr>\n      <th>4360</th>\n      <td>12</td>\n      <td>51</td>\n      <td>36</td>\n      <td>0.0</td>\n      <td>1.0</td>\n      <td>0.0</td>\n      <td>0.0</td>\n      <td>3</td>\n      <td>6</td>\n      <td>22.0</td>\n      <td>...</td>\n      <td>0.0</td>\n      <td>1296</td>\n      <td>0</td>\n      <td>0</td>\n      <td>0</td>\n      <td>1</td>\n      <td>0</td>\n      <td>0</td>\n      <td>0</td>\n      <td>1</td>\n    </tr>\n  </tbody>\n</table>\n<p>4361 rows × 27 columns</p>\n</div>"
     },
     "metadata": {},
     "execution_count": 8
    }
   ],
   "source": [
    "coletar_dados('FERTIL2')"
   ]
  },
  {
   "cell_type": "code",
   "execution_count": 196,
   "metadata": {},
   "outputs": [
    {
     "output_type": "stream",
     "name": "stdout",
     "text": [
      "                            OLS Estimation Summary                            \n==============================================================================\nDep. Variable:               children   R-squared:                      0.5687\nEstimator:                        OLS   Adj. R-squared:                 0.5684\nNo. Observations:                4361   F-statistic:                    5750.9\nDate:                Sat, Mar 27 2021   P-value (F-stat)                0.0000\nTime:                        11:39:59   Distribution:                  chi2(3)\nCov. Estimator:            unadjusted                                         \n                                                                              \n                             Parameter Estimates                              \n==============================================================================\n            Parameter  Std. Err.     T-stat    P-value    Lower CI    Upper CI\n------------------------------------------------------------------------------\nconst         -4.1383     0.2405    -17.208     0.0000     -4.6096     -3.6670\neduc          -0.0906     0.0059    -15.305     0.0000     -0.1022     -0.0790\nage            0.3324     0.0165     20.097     0.0000      0.3000      0.3649\nagesq         -0.0026     0.0003    -9.6556     0.0000     -0.0032     -0.0021\n==============================================================================\n\nPara ver os resultados do 1º estágio/equação reduzida (e ver se os instrumentos são relevantes, chame 'Resultado.first_stage'.\n\nPara testar a exogeneidade da variável instrumentada, chame 'Resultado.wooldridge_regression' ou 'Resultado.wooldridge_score' ou 'Resultado.wu_hausman([variaveis])'.\n\nPara testar a exogeneidade dos instrumentos (quando eles forem mais numerosos que as variáveis endógenas), chame 'Resultado.wooldridge_overid', onde Ho: todos os instrumentos são exógenos.\nO código da equação foi copiado para o clipboard!\n"
     ]
    }
   ],
   "source": [
    "## estimando o modelo proposto por MQO\n",
    "exog = df[['educ','age','agesq']]\n",
    "endog = None\n",
    "instrumentos = None\n",
    "y = df['children']\n",
    "\n",
    "Regressao_IV_MQ2E(exog= exog, endog= endog, instrumentos= instrumentos, y=y)\n",
    "equation()"
   ]
  },
  {
   "cell_type": "code",
   "execution_count": 200,
   "metadata": {},
   "outputs": [
    {
     "output_type": "stream",
     "name": "stdout",
     "text": [
      "                            OLS Estimation Summary                            \n==============================================================================\nDep. Variable:                   educ   R-squared:                      0.1077\nEstimator:                        OLS   Adj. R-squared:                 0.1070\nNo. Observations:                4361   F-statistic:                    526.10\nDate:                Sat, Mar 27 2021   P-value (F-stat)                0.0000\nTime:                        11:49:26   Distribution:                  chi2(3)\nCov. Estimator:            unadjusted                                         \n                                                                              \n                             Parameter Estimates                              \n==============================================================================\n            Parameter  Std. Err.     T-stat    P-value    Lower CI    Upper CI\n------------------------------------------------------------------------------\nconst          9.6929     0.5978     16.214     0.0000      8.5212      10.865\nfrsthalf      -0.8523     0.1128    -7.5572     0.0000     -1.0733     -0.6312\nage           -0.1080     0.0420    -2.5690     0.0102     -0.1903     -0.0256\nagesq         -0.0005     0.0007    -0.7299     0.4654     -0.0019      0.0009\n==============================================================================\n\nPara ver os resultados do 1º estágio/equação reduzida (e ver se os instrumentos são relevantes, chame 'Resultado.first_stage'.\n\nPara testar a exogeneidade da variável instrumentada, chame 'Resultado.wooldridge_regression' ou 'Resultado.wooldridge_score' ou 'Resultado.wu_hausman([variaveis])'.\n\nPara testar a exogeneidade dos instrumentos (quando eles forem mais numerosos que as variáveis endógenas), chame 'Resultado.wooldridge_overid', onde Ho: todos os instrumentos são exógenos.\nO código da equação foi copiado para o clipboard!\n"
     ]
    }
   ],
   "source": [
    "## sendo frsthalf exógena, resta testar sua relevância\n",
    "exog = df[['frsthalf','age','agesq']]\n",
    "endog = None\n",
    "instrumentos = None\n",
    "y = df['educ']\n",
    "\n",
    "Regressao_IV_MQ2E(exog= exog, endog= endog, instrumentos= instrumentos, y=y)\n",
    "equation()"
   ]
  },
  {
   "cell_type": "code",
   "execution_count": 20,
   "metadata": {},
   "outputs": [
    {
     "output_type": "stream",
     "name": "stdout",
     "text": [
      "                          IV-2SLS Estimation Summary                          \n==============================================================================\nDep. Variable:               children   R-squared:                      0.5502\nEstimator:                    IV-2SLS   Adj. R-squared:                 0.5499\nNo. Observations:                4361   F-statistic:                    5300.2\nDate:                Fri, Apr 02 2021   P-value (F-stat)                0.0000\nTime:                        10:15:43   Distribution:                  chi2(3)\nCov. Estimator:            unadjusted                                         \n                                                                              \n                             Parameter Estimates                              \n==============================================================================\n            Parameter  Std. Err.     T-stat    P-value    Lower CI    Upper CI\n------------------------------------------------------------------------------\nconst         -3.3878     0.5479    -6.1833     0.0000     -4.4617     -2.3139\nage            0.3236     0.0179     18.128     0.0000      0.2886      0.3586\nagesq         -0.0027     0.0003    -9.5589     0.0000     -0.0032     -0.0021\neduc          -0.1715     0.0532    -3.2264     0.0013     -0.2757     -0.0673\n==============================================================================\n\nEndogenous: educ\nInstruments: frsthalf\nUnadjusted Covariance (Homoskedastic)\nDebiased: False\n\nPara ver os resultados do 1º estágio/equação reduzida (e ver se os instrumentos são relevantes, chame 'Resultado.first_stage'.\n\nPara testar a exogeneidade da variável instrumentada, chame 'Resultado.wooldridge_regression' ou 'Resultado.wooldridge_score' ou 'Resultado.wu_hausman([variaveis])'.\n\nPara testar a exogeneidade dos instrumentos (quando eles forem mais numerosos que as variáveis endógenas), chame 'Resultado.wooldridge_overid', onde Ho: todos os instrumentos são exógenos.\nO código da equação foi copiado para o clipboard!\n"
     ]
    }
   ],
   "source": [
    "## estimando o modelo proposto por MQ2E com frsthalf como vi de educ\n",
    "exog = df[['age','agesq']]\n",
    "endog = df[['educ']]\n",
    "instrumentos = df[['frsthalf']]\n",
    "y = df['children']\n",
    "\n",
    "Regressao_IV_MQ2E(exog= exog, endog= endog, instrumentos= instrumentos, y=y)\n",
    "equation()"
   ]
  },
  {
   "cell_type": "code",
   "execution_count": 76,
   "metadata": {},
   "outputs": [],
   "source": [
    "## ajustando a equation() pra fazer tudo caber na linha do word\n",
    "def equation(sep_erros= \"(\"):\n",
    "    '''\n",
    "    Função que gera uma equação formatada do word\n",
    "    '''\n",
    "    ## Fazendo a str que irá pro word (em forma de matriz)\n",
    "    inicio = \"\\matrix{\"\n",
    "    fim = \"}\"\n",
    "\n",
    "    ## capturando os parametros, p-valores e os erros\n",
    "    params = dict(np.around(Resultado.params,3))\n",
    "    p_values = dict(np.around(Resultado.pvalues,4))\n",
    "\n",
    "    ## linearmodels usa .std_erros para capturar os erros padrão, sm usa .bse\n",
    "    try:\n",
    "        std_errors = dict(np.around(Resultado.std_errors,4))\n",
    "    except Exception:\n",
    "        std_errors = dict(np.around(Resultado.bse,4))\n",
    "    \n",
    "    ## capturando as variáveis independentes indexadas por seu numero\n",
    "    enum_params = dict(enumerate(params.keys()))\n",
    "    enum_params = {value:key for key, value in enum_params.items()}\n",
    "    \n",
    "    ## pegando o nome da variável dependente\n",
    "        # linearmodels usa model.dependent.dataframe.columns[0] para modelos de painel \n",
    "        # e model.dependent.cols para modelos de IV;\n",
    "        # sm usa model.endog_names\n",
    "    try:\n",
    "        try: # modelos de painel\n",
    "            y = Resultado.model.dependent.dataframe.columns[0]\n",
    "        except Exception: # modelos de IV 2SLS\n",
    "            y = Resultado.model.dependent.pandas.columns[0]\n",
    "    except Exception: # modelos comuns\n",
    "        y = Resultado.model.endog_names\n",
    "    \n",
    "    ## criando uma lista com ints até o número de linhas definido pelo usuário\n",
    "    # temos que nos lembrar que no word só cabe ≈ 4 parâmetros por linha\n",
    "        # math.ceil arredonda para cima; o + 1 é por conta de o python não considerar range como um intervalo fechado superiormente\n",
    "    linhas = [num for num in range (1,math.ceil(len(Resultado.params)/4) + 1)]\n",
    "    breaks = [4*num for num in range (1,math.ceil(len(Resultado.params)/4) + 1)]\n",
    "\n",
    "\n",
    "    ## fazendo o loop para pegar os coeficientes*nome das variáveis e os seus erros-padrão entre o separador de erros\n",
    "    parametros = \"\"\n",
    "    erros = \"\"\n",
    "    word = f\"{inicio}{y} & = &\"\n",
    "    for i in params.keys():\n",
    "        if enum_params[i] in breaks:\n",
    "            ## adicionando tudo junto\n",
    "            word += f\"{parametros} \\\\\\ & {erros} \\\\\\ & \"\n",
    "            parametros = \"\"\n",
    "            erros = \"\"\n",
    "            # levando em conta a chave escolhida pelo usuário\n",
    "            if sep_erros == \"(\":\n",
    "                erros += f\" & ({std_errors[i]})\"\n",
    "            else:\n",
    "                erros += f\" & [{std_errors[i]}]\"\n",
    "            # fazendo a string dos parâmetros:\n",
    "                # *: p<0.1; **: p<0.05; ***: p<0.01\n",
    "            if i != 'const':\n",
    "                p = p_values[i]\n",
    "                if params[i] > 0:\n",
    "                    if p > 0.1:\n",
    "                        parametros += f\" & + {params[i]}{i}\"\n",
    "                    elif p < 0.01:\n",
    "                        parametros += f\" & + {params[i]}{i}^{{***}}\"\n",
    "                    elif p < 0.05:\n",
    "                        parametros += f\" & + {params[i]}{i}^{{**}}\"\n",
    "                    else:\n",
    "                        parametros += f\" & + {params[i]}{i}^{{*}}\"\n",
    "                else:\n",
    "                    if p > 0.1:\n",
    "                        parametros += f\" & - {-params[i]}{i}\"\n",
    "                    elif p < 0.01:\n",
    "                        parametros += f\" & - {-params[i]}{i}^{{***}}\"\n",
    "                    elif p < 0.05:\n",
    "                        parametros += f\" & - {-params[i]}{i}^{{**}}\"\n",
    "                    else:\n",
    "                        parametros += f\" & - {-params[i]}{i}^{{*}}\"\n",
    "            else:\n",
    "                parametros += f\"{params[i]}\"\n",
    "        else:\n",
    "            # levando em conta a chave escolhida pelo usuário\n",
    "            if sep_erros == \"(\":\n",
    "                erros += f\" & ({std_errors[i]})\"\n",
    "            else:\n",
    "                erros += f\" & [{std_errors[i]}]\"\n",
    "            # fazendo a string dos parâmetros:\n",
    "                # *: p<0.1; **: p<0.05; ***: p<0.01\n",
    "            if i != 'const':\n",
    "                p = p_values[i]\n",
    "                if params[i] > 0:\n",
    "                    if p > 0.1:\n",
    "                        parametros += f\" & + {params[i]}{i}\"\n",
    "                    elif p < 0.01:\n",
    "                        parametros += f\" & + {params[i]}{i}^{{***}}\"\n",
    "                    elif p < 0.05:\n",
    "                        parametros += f\" & + {params[i]}{i}^{{**}}\"\n",
    "                    else:\n",
    "                        parametros += f\" & + {params[i]}{i}^{{*}}\"\n",
    "                else:\n",
    "                    if p > 0.1:\n",
    "                        parametros += f\" & - {-params[i]}{i}\"\n",
    "                    elif p < 0.01:\n",
    "                        parametros += f\" & - {-params[i]}{i}^{{***}}\"\n",
    "                    elif p < 0.05:\n",
    "                        parametros += f\" & - {-params[i]}{i}^{{**}}\"\n",
    "                    else:\n",
    "                        parametros += f\" & - {-params[i]}{i}^{{*}}\"\n",
    "            else:\n",
    "                parametros += f\"{params[i]}\"\n",
    "\n",
    "    word += f\"{parametros} \\\\\\ & {erros}\"\n",
    "    word += fim\n",
    "    ## Adicionando o numero de obs e os r2 (quando rsquared_adj estiver disponível)\n",
    "    try:\n",
    "        word += f\"\\nn = {int(Resultado.nobs)}; R^2 = {np.around(Resultado.rsquared,4)}; \\\\bar{{R^2}} = {np.around(Resultado.rsquared_adj,4)}\"\n",
    "    except Exception:\n",
    "        word += f\"\\nn = {int(Resultado.nobs)}; R^2 = {np.around(Resultado.rsquared,4)}\"\n",
    "\n",
    "    ## adicionando a explicação dos p-valores\n",
    "    word += \"\\n^* p<0.1; ^{**} p<0.05; ^{***} p<0.01\"\n",
    "    ## substituindo os . por ,\n",
    "    word = word.replace(\".\",\",\")\n",
    "    \n",
    "    ## copiando para o clipboard e printando o sucesso\n",
    "    subprocess.run(\"pbcopy\", universal_newlines=True, input=word)\n",
    "    print(\"O código da equação foi copiado para o clipboard!\")"
   ]
  },
  {
   "cell_type": "code",
   "execution_count": 80,
   "metadata": {},
   "outputs": [
    {
     "output_type": "stream",
     "name": "stdout",
     "text": [
      "                          IV-2SLS Estimation Summary                          \n",
      "==============================================================================\n",
      "Dep. Variable:               children   R-squared:                      0.5012\n",
      "Estimator:                    IV-2SLS   Adj. R-squared:                 0.5000\n",
      "No. Observations:                4282   F-statistic:                    4877.2\n",
      "Date:                Fri, Apr 02 2021   P-value (F-stat)                0.0000\n",
      "Time:                        11:16:47   Distribution:                 chi2(10)\n",
      "Cov. Estimator:            unadjusted                                         \n",
      "                                                                              \n",
      "                             Parameter Estimates                              \n",
      "==============================================================================\n",
      "            Parameter  Std. Err.     T-stat    P-value    Lower CI    Upper CI\n",
      "------------------------------------------------------------------------------\n",
      "const          10.138     6.9202     1.4650     0.1429     -3.4252      23.702\n",
      "age            0.0446     0.0993     0.4494     0.6531     -0.1499      0.2391\n",
      "agesq         -0.0007     0.0005    -1.4205     0.1555     -0.0017      0.0003\n",
      "electric       0.0510     0.2003     0.2546     0.7991     -0.3416      0.4436\n",
      "tv             0.2607     0.2586     1.0079     0.3135     -0.2462      0.7676\n",
      "bicycle        0.2615     0.0570     4.5868     0.0000      0.1498      0.3732\n",
      "yearborn      -0.1371     0.0734    -1.8691     0.0616     -0.2809      0.0067\n",
      "radio          0.2510     0.1527     1.6437     0.1002     -0.0483      0.5503\n",
      "usemeth        0.9179     0.1718     5.3437     0.0000      0.5812      1.2546\n",
      "knowmeth       0.7478     0.2153     3.4741     0.0005      0.3259      1.1698\n",
      "educ          -0.2973     0.0982    -3.0274     0.0025     -0.4897     -0.1048\n",
      "==============================================================================\n",
      "\n",
      "Endogenous: educ\n",
      "Instruments: frsthalf\n",
      "Unadjusted Covariance (Homoskedastic)\n",
      "Debiased: False\n",
      "\n",
      "Para ver os resultados do 1º estágio/equação reduzida (e ver se os instrumentos são relevantes, chame 'Resultado.first_stage'.\n",
      "\n",
      "Para testar a exogeneidade da variável instrumentada, chame 'Resultado.wooldridge_regression' ou 'Resultado.wooldridge_score' ou 'Resultado.wu_hausman([variaveis])'.\n",
      "\n",
      "Para testar a exogeneidade dos instrumentos (quando eles forem mais numerosos que as variáveis endógenas), chame 'Resultado.wooldridge_overid', onde Ho: todos os instrumentos são exógenos.\n",
      "O código da equação foi copiado para o clipboard!\n",
      "/Users/vinicius/opt/anaconda3/envs/myenv/lib/python3.7/site-packages/linearmodels/shared/exceptions.py:35: MissingValueWarning:\n",
      "\n",
      "\n",
      "Inputs contain missing values. Dropping rows with missing observations.\n",
      "\n"
     ]
    }
   ],
   "source": [
    "## adicionando dummies exógenas e estimando por MQ2E\n",
    "exog = df[['age','agesq','electric','tv','bicycle','yearborn','radio','usemeth','knowmeth']]\n",
    "endog = df[['educ']]\n",
    "instrumentos = df[['frsthalf']]\n",
    "y = df['children']\n",
    "\n",
    "Regressao_IV_MQ2E(exog= exog, endog= endog, instrumentos= instrumentos, y=y)\n",
    "equation()"
   ]
  },
  {
   "cell_type": "code",
   "execution_count": 78,
   "metadata": {},
   "outputs": [
    {
     "output_type": "execute_result",
     "data": {
      "text/plain": [
       "Index(['mnthborn', 'yearborn', 'age', 'electric', 'radio', 'tv', 'bicycle',\n",
       "       'educ', 'ceb', 'agefbrth', 'children', 'knowmeth', 'usemeth', 'monthfm',\n",
       "       'yearfm', 'agefm', 'idlnchld', 'heduc', 'agesq', 'urban', 'urb_educ',\n",
       "       'spirit', 'protest', 'catholic', 'frsthalf', 'educ0', 'evermarr'],\n",
       "      dtype='object')"
      ]
     },
     "metadata": {},
     "execution_count": 78
    }
   ],
   "source": [
    "df.columns"
   ]
  },
  {
   "cell_type": "code",
   "execution_count": 217,
   "metadata": {},
   "outputs": [
    {
     "output_type": "stream",
     "name": "stdout",
     "text": [
      "O valor de LM é 0.770748 e seu p-valor é 0.6801963.\nPortanto, NÃO se rejeita Ho à significância de 5.0%, ou seja, as variáveis NÃO são conjuntamente significantes.\n"
     ]
    }
   ],
   "source": [
    "## vendo se as dummies sao relevantes\n",
    "Teste_F_Rapido_Robusto('electric = tv = 0')"
   ]
  },
  {
   "cell_type": "code",
   "execution_count": 214,
   "metadata": {},
   "outputs": [
    {
     "output_type": "stream",
     "name": "stderr",
     "text": [
      "/Users/vinicius/opt/anaconda3/envs/myenv/lib/python3.7/site-packages/linearmodels/shared/exceptions.py:35: MissingValueWarning:\n",
      "\n",
      "\n",
      "Inputs contain missing values. Dropping rows with missing observations.\n",
      "\n",
      "                            OLS Estimation Summary                            \n",
      "==============================================================================\n",
      "Dep. Variable:               children   R-squared:                      0.5761\n",
      "Estimator:                        OLS   Adj. R-squared:                 0.5755\n",
      "No. Observations:                4356   F-statistic:                    5919.0\n",
      "Date:                Sat, Mar 27 2021   P-value (F-stat)                0.0000\n",
      "Time:                        12:02:30   Distribution:                  chi2(6)\n",
      "Cov. Estimator:            unadjusted                                         \n",
      "                                                                              \n",
      "                             Parameter Estimates                              \n",
      "==============================================================================\n",
      "            Parameter  Std. Err.     T-stat    P-value    Lower CI    Upper CI\n",
      "------------------------------------------------------------------------------\n",
      "const         -4.3898     0.2401    -18.281     0.0000     -4.8604     -3.9191\n",
      "age            0.3402     0.0164     20.708     0.0000      0.3080      0.3724\n",
      "agesq         -0.0027     0.0003    -10.018     0.0000     -0.0032     -0.0022\n",
      "electric      -0.3027     0.0761    -3.9767     0.0001     -0.4519     -0.1535\n",
      "tv            -0.2531     0.0914    -2.7707     0.0056     -0.4322     -0.0741\n",
      "bicycle        0.3179     0.0493     6.4447     0.0000      0.2212      0.4146\n",
      "educ          -0.0767     0.0063    -12.085     0.0000     -0.0892     -0.0643\n",
      "==============================================================================\n",
      "\n",
      "Para ver os resultados do 1º estágio/equação reduzida (e ver se os instrumentos são relevantes, chame 'Resultado.first_stage'.\n",
      "\n",
      "Para testar a exogeneidade da variável instrumentada, chame 'Resultado.wooldridge_regression' ou 'Resultado.wooldridge_score' ou 'Resultado.wu_hausman([variaveis])'.\n",
      "\n",
      "Para testar a exogeneidade dos instrumentos (quando eles forem mais numerosos que as variáveis endógenas), chame 'Resultado.wooldridge_overid', onde Ho: todos os instrumentos são exógenos.\n",
      "O código da equação foi copiado para o clipboard!\n"
     ]
    }
   ],
   "source": [
    "## adicionando dummies exógenas e estimando por MQ0\n",
    "exog = df[['age','agesq','electric','tv','bicycle','educ']]\n",
    "endog = None\n",
    "instrumentos = None\n",
    "y = df['children']\n",
    "\n",
    "Regressao_IV_MQ2E(exog= exog, endog= endog, instrumentos= instrumentos, y=y)\n",
    "equation()"
   ]
  },
  {
   "source": [
    "## Exercício C3"
   ],
   "cell_type": "markdown",
   "metadata": {}
  },
  {
   "cell_type": "code",
   "execution_count": 219,
   "metadata": {},
   "outputs": [
    {
     "output_type": "stream",
     "name": "stdout",
     "text": [
      "card.dta foi lido com sucesso!\n"
     ]
    },
    {
     "output_type": "execute_result",
     "data": {
      "text/plain": [
       "        id  nearc2  nearc4  educ  age  fatheduc  motheduc    weight  momdad14  \\\n",
       "0        2       0       0     7   29       NaN       NaN  158413.0         1   \n",
       "1        3       0       0    12   27       8.0       8.0  380166.0         1   \n",
       "2        4       0       0    12   34      14.0      12.0  367470.0         1   \n",
       "3        5       1       1    11   27      11.0      12.0  380166.0         1   \n",
       "4        6       1       1    12   34       8.0       7.0  367470.0         1   \n",
       "...    ...     ...     ...   ...  ...       ...       ...       ...       ...   \n",
       "3005  5218       0       1    12   25       8.0      12.0   82135.0         1   \n",
       "3006  5219       0       1    13   34       NaN       NaN   88765.0         1   \n",
       "3007  5220       0       1    12   24      11.0       NaN   89271.0         0   \n",
       "3008  5221       0       1    12   31       NaN       NaN  110376.0         1   \n",
       "3009  5225       0       1    13   26       NaN       NaN   81081.0         0   \n",
       "\n",
       "      sinmom14  ...  smsa66  wage  enroll   KWW     IQ  married  libcrd14  \\\n",
       "0            0  ...       1   548       0  15.0    NaN      1.0       0.0   \n",
       "1            0  ...       1   481       0  35.0   93.0      1.0       1.0   \n",
       "2            0  ...       1   721       0  42.0  103.0      1.0       1.0   \n",
       "3            0  ...       1   250       0  25.0   88.0      1.0       1.0   \n",
       "4            0  ...       1   729       0  34.0  108.0      1.0       0.0   \n",
       "...        ...  ...     ...   ...     ...   ...    ...      ...       ...   \n",
       "3005         0  ...       0   335       0  15.0    NaN      1.0       0.0   \n",
       "3006         0  ...       0   481       0  43.0    NaN      1.0       1.0   \n",
       "3007         0  ...       0   500       0  25.0  109.0      1.0       0.0   \n",
       "3008         0  ...       0   713       0  32.0  107.0      1.0       1.0   \n",
       "3009         0  ...       0   525       1  27.0    NaN      1.0       0.0   \n",
       "\n",
       "      exper     lwage  expersq  \n",
       "0        16  6.306275      256  \n",
       "1         9  6.175867       81  \n",
       "2        16  6.580639      256  \n",
       "3        10  5.521461      100  \n",
       "4        16  6.591674      256  \n",
       "...     ...       ...      ...  \n",
       "3005      7  5.814130       49  \n",
       "3006     15  6.175867      225  \n",
       "3007      6  6.214608       36  \n",
       "3008     13  6.569481      169  \n",
       "3009      7  6.263398       49  \n",
       "\n",
       "[3010 rows x 34 columns]"
      ],
      "text/html": "<div>\n<style scoped>\n    .dataframe tbody tr th:only-of-type {\n        vertical-align: middle;\n    }\n\n    .dataframe tbody tr th {\n        vertical-align: top;\n    }\n\n    .dataframe thead th {\n        text-align: right;\n    }\n</style>\n<table border=\"1\" class=\"dataframe\">\n  <thead>\n    <tr style=\"text-align: right;\">\n      <th></th>\n      <th>id</th>\n      <th>nearc2</th>\n      <th>nearc4</th>\n      <th>educ</th>\n      <th>age</th>\n      <th>fatheduc</th>\n      <th>motheduc</th>\n      <th>weight</th>\n      <th>momdad14</th>\n      <th>sinmom14</th>\n      <th>...</th>\n      <th>smsa66</th>\n      <th>wage</th>\n      <th>enroll</th>\n      <th>KWW</th>\n      <th>IQ</th>\n      <th>married</th>\n      <th>libcrd14</th>\n      <th>exper</th>\n      <th>lwage</th>\n      <th>expersq</th>\n    </tr>\n  </thead>\n  <tbody>\n    <tr>\n      <th>0</th>\n      <td>2</td>\n      <td>0</td>\n      <td>0</td>\n      <td>7</td>\n      <td>29</td>\n      <td>NaN</td>\n      <td>NaN</td>\n      <td>158413.0</td>\n      <td>1</td>\n      <td>0</td>\n      <td>...</td>\n      <td>1</td>\n      <td>548</td>\n      <td>0</td>\n      <td>15.0</td>\n      <td>NaN</td>\n      <td>1.0</td>\n      <td>0.0</td>\n      <td>16</td>\n      <td>6.306275</td>\n      <td>256</td>\n    </tr>\n    <tr>\n      <th>1</th>\n      <td>3</td>\n      <td>0</td>\n      <td>0</td>\n      <td>12</td>\n      <td>27</td>\n      <td>8.0</td>\n      <td>8.0</td>\n      <td>380166.0</td>\n      <td>1</td>\n      <td>0</td>\n      <td>...</td>\n      <td>1</td>\n      <td>481</td>\n      <td>0</td>\n      <td>35.0</td>\n      <td>93.0</td>\n      <td>1.0</td>\n      <td>1.0</td>\n      <td>9</td>\n      <td>6.175867</td>\n      <td>81</td>\n    </tr>\n    <tr>\n      <th>2</th>\n      <td>4</td>\n      <td>0</td>\n      <td>0</td>\n      <td>12</td>\n      <td>34</td>\n      <td>14.0</td>\n      <td>12.0</td>\n      <td>367470.0</td>\n      <td>1</td>\n      <td>0</td>\n      <td>...</td>\n      <td>1</td>\n      <td>721</td>\n      <td>0</td>\n      <td>42.0</td>\n      <td>103.0</td>\n      <td>1.0</td>\n      <td>1.0</td>\n      <td>16</td>\n      <td>6.580639</td>\n      <td>256</td>\n    </tr>\n    <tr>\n      <th>3</th>\n      <td>5</td>\n      <td>1</td>\n      <td>1</td>\n      <td>11</td>\n      <td>27</td>\n      <td>11.0</td>\n      <td>12.0</td>\n      <td>380166.0</td>\n      <td>1</td>\n      <td>0</td>\n      <td>...</td>\n      <td>1</td>\n      <td>250</td>\n      <td>0</td>\n      <td>25.0</td>\n      <td>88.0</td>\n      <td>1.0</td>\n      <td>1.0</td>\n      <td>10</td>\n      <td>5.521461</td>\n      <td>100</td>\n    </tr>\n    <tr>\n      <th>4</th>\n      <td>6</td>\n      <td>1</td>\n      <td>1</td>\n      <td>12</td>\n      <td>34</td>\n      <td>8.0</td>\n      <td>7.0</td>\n      <td>367470.0</td>\n      <td>1</td>\n      <td>0</td>\n      <td>...</td>\n      <td>1</td>\n      <td>729</td>\n      <td>0</td>\n      <td>34.0</td>\n      <td>108.0</td>\n      <td>1.0</td>\n      <td>0.0</td>\n      <td>16</td>\n      <td>6.591674</td>\n      <td>256</td>\n    </tr>\n    <tr>\n      <th>...</th>\n      <td>...</td>\n      <td>...</td>\n      <td>...</td>\n      <td>...</td>\n      <td>...</td>\n      <td>...</td>\n      <td>...</td>\n      <td>...</td>\n      <td>...</td>\n      <td>...</td>\n      <td>...</td>\n      <td>...</td>\n      <td>...</td>\n      <td>...</td>\n      <td>...</td>\n      <td>...</td>\n      <td>...</td>\n      <td>...</td>\n      <td>...</td>\n      <td>...</td>\n      <td>...</td>\n    </tr>\n    <tr>\n      <th>3005</th>\n      <td>5218</td>\n      <td>0</td>\n      <td>1</td>\n      <td>12</td>\n      <td>25</td>\n      <td>8.0</td>\n      <td>12.0</td>\n      <td>82135.0</td>\n      <td>1</td>\n      <td>0</td>\n      <td>...</td>\n      <td>0</td>\n      <td>335</td>\n      <td>0</td>\n      <td>15.0</td>\n      <td>NaN</td>\n      <td>1.0</td>\n      <td>0.0</td>\n      <td>7</td>\n      <td>5.814130</td>\n      <td>49</td>\n    </tr>\n    <tr>\n      <th>3006</th>\n      <td>5219</td>\n      <td>0</td>\n      <td>1</td>\n      <td>13</td>\n      <td>34</td>\n      <td>NaN</td>\n      <td>NaN</td>\n      <td>88765.0</td>\n      <td>1</td>\n      <td>0</td>\n      <td>...</td>\n      <td>0</td>\n      <td>481</td>\n      <td>0</td>\n      <td>43.0</td>\n      <td>NaN</td>\n      <td>1.0</td>\n      <td>1.0</td>\n      <td>15</td>\n      <td>6.175867</td>\n      <td>225</td>\n    </tr>\n    <tr>\n      <th>3007</th>\n      <td>5220</td>\n      <td>0</td>\n      <td>1</td>\n      <td>12</td>\n      <td>24</td>\n      <td>11.0</td>\n      <td>NaN</td>\n      <td>89271.0</td>\n      <td>0</td>\n      <td>0</td>\n      <td>...</td>\n      <td>0</td>\n      <td>500</td>\n      <td>0</td>\n      <td>25.0</td>\n      <td>109.0</td>\n      <td>1.0</td>\n      <td>0.0</td>\n      <td>6</td>\n      <td>6.214608</td>\n      <td>36</td>\n    </tr>\n    <tr>\n      <th>3008</th>\n      <td>5221</td>\n      <td>0</td>\n      <td>1</td>\n      <td>12</td>\n      <td>31</td>\n      <td>NaN</td>\n      <td>NaN</td>\n      <td>110376.0</td>\n      <td>1</td>\n      <td>0</td>\n      <td>...</td>\n      <td>0</td>\n      <td>713</td>\n      <td>0</td>\n      <td>32.0</td>\n      <td>107.0</td>\n      <td>1.0</td>\n      <td>1.0</td>\n      <td>13</td>\n      <td>6.569481</td>\n      <td>169</td>\n    </tr>\n    <tr>\n      <th>3009</th>\n      <td>5225</td>\n      <td>0</td>\n      <td>1</td>\n      <td>13</td>\n      <td>26</td>\n      <td>NaN</td>\n      <td>NaN</td>\n      <td>81081.0</td>\n      <td>0</td>\n      <td>0</td>\n      <td>...</td>\n      <td>0</td>\n      <td>525</td>\n      <td>1</td>\n      <td>27.0</td>\n      <td>NaN</td>\n      <td>1.0</td>\n      <td>0.0</td>\n      <td>7</td>\n      <td>6.263398</td>\n      <td>49</td>\n    </tr>\n  </tbody>\n</table>\n<p>3010 rows × 34 columns</p>\n</div>"
     },
     "metadata": {},
     "execution_count": 219
    }
   ],
   "source": [
    "coletar_dados('card')"
   ]
  },
  {
   "cell_type": "code",
   "execution_count": 220,
   "metadata": {},
   "outputs": [
    {
     "output_type": "stream",
     "name": "stdout",
     "text": [
      "                            OLS Estimation Summary                            \n",
      "==============================================================================\n",
      "Dep. Variable:                     IQ   R-squared:                      0.0059\n",
      "Estimator:                        OLS   Adj. R-squared:                 0.0054\n",
      "No. Observations:                2061   F-statistic:                    12.140\n",
      "Date:                Sat, Mar 27 2021   P-value (F-stat)                0.0005\n",
      "Time:                        12:21:45   Distribution:                  chi2(1)\n",
      "Cov. Estimator:            unadjusted                                         \n",
      "                                                                              \n",
      "                             Parameter Estimates                              \n",
      "==============================================================================\n",
      "            Parameter  Std. Err.     T-stat    P-value    Lower CI    Upper CI\n",
      "------------------------------------------------------------------------------\n",
      "const          100.61     0.6272     160.42     0.0000      99.381      101.84\n",
      "nearc4         2.5962     0.7451     3.4842     0.0005      1.1358      4.0566\n",
      "==============================================================================\n",
      "\n",
      "Para ver os resultados do 1º estágio/equação reduzida (e ver se os instrumentos são relevantes, chame 'Resultado.first_stage'.\n",
      "\n",
      "Para testar a exogeneidade da variável instrumentada, chame 'Resultado.wooldridge_regression' ou 'Resultado.wooldridge_score' ou 'Resultado.wu_hausman([variaveis])'.\n",
      "\n",
      "Para testar a exogeneidade dos instrumentos (quando eles forem mais numerosos que as variáveis endógenas), chame 'Resultado.wooldridge_overid', onde Ho: todos os instrumentos são exógenos.\n",
      "O código da equação foi copiado para o clipboard!\n",
      "/Users/vinicius/opt/anaconda3/envs/myenv/lib/python3.7/site-packages/linearmodels/shared/exceptions.py:35: MissingValueWarning:\n",
      "\n",
      "\n",
      "Inputs contain missing values. Dropping rows with missing observations.\n",
      "\n"
     ]
    }
   ],
   "source": [
    "## regredindo IQ (proxy para aptidao) sobre nearc4\n",
    "exog = df[['nearc4']]\n",
    "endog = None\n",
    "instrumentos = None\n",
    "y = df['IQ']\n",
    "\n",
    "Regressao_IV_MQ2E(exog= exog, endog= endog, instrumentos= instrumentos, y=y)\n",
    "equation()"
   ]
  },
  {
   "cell_type": "code",
   "execution_count": 222,
   "metadata": {},
   "outputs": [
    {
     "output_type": "stream",
     "name": "stdout",
     "text": [
      "                            OLS Estimation Summary                            \n",
      "==============================================================================\n",
      "Dep. Variable:                     IQ   R-squared:                      0.0626\n",
      "Estimator:                        OLS   Adj. R-squared:                 0.0581\n",
      "No. Observations:                2061   F-statistic:                    137.74\n",
      "Date:                Sat, Mar 27 2021   P-value (F-stat)                0.0000\n",
      "Time:                        12:24:40   Distribution:                 chi2(10)\n",
      "Cov. Estimator:            unadjusted                                         \n",
      "                                                                              \n",
      "                             Parameter Estimates                              \n",
      "==============================================================================\n",
      "            Parameter  Std. Err.     T-stat    P-value    Lower CI    Upper CI\n",
      "------------------------------------------------------------------------------\n",
      "const          104.77     1.6206     64.650     0.0000      101.60      107.95\n",
      "nearc4         0.3479     0.8122     0.4283     0.6684     -1.2440      1.9398\n",
      "smsa66         1.0892     0.8065     1.3504     0.1769     -0.4916      2.6700\n",
      "reg662         1.0993     1.6453     0.6681     0.5041     -2.1255      4.3241\n",
      "reg663        -1.5593     1.6187    -0.9633     0.3354     -4.7318      1.6132\n",
      "reg664        -0.5425     1.9111    -0.2839     0.7765     -4.2883      3.2033\n",
      "reg665        -8.4755     1.6611    -5.1024     0.0000     -11.731     -5.2198\n",
      "reg666        -7.4212     1.9686    -3.7698     0.0002     -11.280     -3.5628\n",
      "reg667        -8.3944     1.8249    -4.6000     0.0000     -11.971     -4.8177\n",
      "reg668        -2.9250     2.3384    -1.2509     0.2110     -7.5081      1.6581\n",
      "reg669        -2.8919     1.7926    -1.6133     0.1067     -6.4053      0.6215\n",
      "==============================================================================\n",
      "\n",
      "Para ver os resultados do 1º estágio/equação reduzida (e ver se os instrumentos são relevantes, chame 'Resultado.first_stage'.\n",
      "\n",
      "Para testar a exogeneidade da variável instrumentada, chame 'Resultado.wooldridge_regression' ou 'Resultado.wooldridge_score' ou 'Resultado.wu_hausman([variaveis])'.\n",
      "\n",
      "Para testar a exogeneidade dos instrumentos (quando eles forem mais numerosos que as variáveis endógenas), chame 'Resultado.wooldridge_overid', onde Ho: todos os instrumentos são exógenos.\n",
      "O código da equação foi copiado para o clipboard!\n",
      "/Users/vinicius/opt/anaconda3/envs/myenv/lib/python3.7/site-packages/linearmodels/shared/exceptions.py:35: MissingValueWarning:\n",
      "\n",
      "\n",
      "Inputs contain missing values. Dropping rows with missing observations.\n",
      "\n"
     ]
    }
   ],
   "source": [
    "## regredindo IQ (proxy para aptidao) sobre nearc4 e outras variáveis geográficas\n",
    "exog = df[['nearc4','smsa66','reg662','reg663', 'reg664', 'reg665', 'reg666', 'reg667', 'reg668', 'reg669']]\n",
    "endog = None\n",
    "instrumentos = None\n",
    "y = df['IQ']\n",
    "\n",
    "Regressao_IV_MQ2E(exog= exog, endog= endog, instrumentos= instrumentos, y=y)\n",
    "equation()"
   ]
  },
  {
   "source": [
    "## Exercício C5"
   ],
   "cell_type": "markdown",
   "metadata": {}
  },
  {
   "cell_type": "code",
   "execution_count": 7,
   "metadata": {},
   "outputs": [
    {
     "output_type": "stream",
     "name": "stdout",
     "text": [
      "card.dta foi lido com sucesso!\n"
     ]
    },
    {
     "output_type": "execute_result",
     "data": {
      "text/plain": [
       "        id  nearc2  nearc4  educ  age  fatheduc  motheduc    weight  momdad14  \\\n",
       "0        2       0       0     7   29       NaN       NaN  158413.0         1   \n",
       "1        3       0       0    12   27       8.0       8.0  380166.0         1   \n",
       "2        4       0       0    12   34      14.0      12.0  367470.0         1   \n",
       "3        5       1       1    11   27      11.0      12.0  380166.0         1   \n",
       "4        6       1       1    12   34       8.0       7.0  367470.0         1   \n",
       "...    ...     ...     ...   ...  ...       ...       ...       ...       ...   \n",
       "3005  5218       0       1    12   25       8.0      12.0   82135.0         1   \n",
       "3006  5219       0       1    13   34       NaN       NaN   88765.0         1   \n",
       "3007  5220       0       1    12   24      11.0       NaN   89271.0         0   \n",
       "3008  5221       0       1    12   31       NaN       NaN  110376.0         1   \n",
       "3009  5225       0       1    13   26       NaN       NaN   81081.0         0   \n",
       "\n",
       "      sinmom14  ...  smsa66  wage  enroll   KWW     IQ  married  libcrd14  \\\n",
       "0            0  ...       1   548       0  15.0    NaN      1.0       0.0   \n",
       "1            0  ...       1   481       0  35.0   93.0      1.0       1.0   \n",
       "2            0  ...       1   721       0  42.0  103.0      1.0       1.0   \n",
       "3            0  ...       1   250       0  25.0   88.0      1.0       1.0   \n",
       "4            0  ...       1   729       0  34.0  108.0      1.0       0.0   \n",
       "...        ...  ...     ...   ...     ...   ...    ...      ...       ...   \n",
       "3005         0  ...       0   335       0  15.0    NaN      1.0       0.0   \n",
       "3006         0  ...       0   481       0  43.0    NaN      1.0       1.0   \n",
       "3007         0  ...       0   500       0  25.0  109.0      1.0       0.0   \n",
       "3008         0  ...       0   713       0  32.0  107.0      1.0       1.0   \n",
       "3009         0  ...       0   525       1  27.0    NaN      1.0       0.0   \n",
       "\n",
       "      exper     lwage  expersq  \n",
       "0        16  6.306275      256  \n",
       "1         9  6.175867       81  \n",
       "2        16  6.580639      256  \n",
       "3        10  5.521461      100  \n",
       "4        16  6.591674      256  \n",
       "...     ...       ...      ...  \n",
       "3005      7  5.814130       49  \n",
       "3006     15  6.175867      225  \n",
       "3007      6  6.214608       36  \n",
       "3008     13  6.569481      169  \n",
       "3009      7  6.263398       49  \n",
       "\n",
       "[3010 rows x 34 columns]"
      ],
      "text/html": "<div>\n<style scoped>\n    .dataframe tbody tr th:only-of-type {\n        vertical-align: middle;\n    }\n\n    .dataframe tbody tr th {\n        vertical-align: top;\n    }\n\n    .dataframe thead th {\n        text-align: right;\n    }\n</style>\n<table border=\"1\" class=\"dataframe\">\n  <thead>\n    <tr style=\"text-align: right;\">\n      <th></th>\n      <th>id</th>\n      <th>nearc2</th>\n      <th>nearc4</th>\n      <th>educ</th>\n      <th>age</th>\n      <th>fatheduc</th>\n      <th>motheduc</th>\n      <th>weight</th>\n      <th>momdad14</th>\n      <th>sinmom14</th>\n      <th>...</th>\n      <th>smsa66</th>\n      <th>wage</th>\n      <th>enroll</th>\n      <th>KWW</th>\n      <th>IQ</th>\n      <th>married</th>\n      <th>libcrd14</th>\n      <th>exper</th>\n      <th>lwage</th>\n      <th>expersq</th>\n    </tr>\n  </thead>\n  <tbody>\n    <tr>\n      <th>0</th>\n      <td>2</td>\n      <td>0</td>\n      <td>0</td>\n      <td>7</td>\n      <td>29</td>\n      <td>NaN</td>\n      <td>NaN</td>\n      <td>158413.0</td>\n      <td>1</td>\n      <td>0</td>\n      <td>...</td>\n      <td>1</td>\n      <td>548</td>\n      <td>0</td>\n      <td>15.0</td>\n      <td>NaN</td>\n      <td>1.0</td>\n      <td>0.0</td>\n      <td>16</td>\n      <td>6.306275</td>\n      <td>256</td>\n    </tr>\n    <tr>\n      <th>1</th>\n      <td>3</td>\n      <td>0</td>\n      <td>0</td>\n      <td>12</td>\n      <td>27</td>\n      <td>8.0</td>\n      <td>8.0</td>\n      <td>380166.0</td>\n      <td>1</td>\n      <td>0</td>\n      <td>...</td>\n      <td>1</td>\n      <td>481</td>\n      <td>0</td>\n      <td>35.0</td>\n      <td>93.0</td>\n      <td>1.0</td>\n      <td>1.0</td>\n      <td>9</td>\n      <td>6.175867</td>\n      <td>81</td>\n    </tr>\n    <tr>\n      <th>2</th>\n      <td>4</td>\n      <td>0</td>\n      <td>0</td>\n      <td>12</td>\n      <td>34</td>\n      <td>14.0</td>\n      <td>12.0</td>\n      <td>367470.0</td>\n      <td>1</td>\n      <td>0</td>\n      <td>...</td>\n      <td>1</td>\n      <td>721</td>\n      <td>0</td>\n      <td>42.0</td>\n      <td>103.0</td>\n      <td>1.0</td>\n      <td>1.0</td>\n      <td>16</td>\n      <td>6.580639</td>\n      <td>256</td>\n    </tr>\n    <tr>\n      <th>3</th>\n      <td>5</td>\n      <td>1</td>\n      <td>1</td>\n      <td>11</td>\n      <td>27</td>\n      <td>11.0</td>\n      <td>12.0</td>\n      <td>380166.0</td>\n      <td>1</td>\n      <td>0</td>\n      <td>...</td>\n      <td>1</td>\n      <td>250</td>\n      <td>0</td>\n      <td>25.0</td>\n      <td>88.0</td>\n      <td>1.0</td>\n      <td>1.0</td>\n      <td>10</td>\n      <td>5.521461</td>\n      <td>100</td>\n    </tr>\n    <tr>\n      <th>4</th>\n      <td>6</td>\n      <td>1</td>\n      <td>1</td>\n      <td>12</td>\n      <td>34</td>\n      <td>8.0</td>\n      <td>7.0</td>\n      <td>367470.0</td>\n      <td>1</td>\n      <td>0</td>\n      <td>...</td>\n      <td>1</td>\n      <td>729</td>\n      <td>0</td>\n      <td>34.0</td>\n      <td>108.0</td>\n      <td>1.0</td>\n      <td>0.0</td>\n      <td>16</td>\n      <td>6.591674</td>\n      <td>256</td>\n    </tr>\n    <tr>\n      <th>...</th>\n      <td>...</td>\n      <td>...</td>\n      <td>...</td>\n      <td>...</td>\n      <td>...</td>\n      <td>...</td>\n      <td>...</td>\n      <td>...</td>\n      <td>...</td>\n      <td>...</td>\n      <td>...</td>\n      <td>...</td>\n      <td>...</td>\n      <td>...</td>\n      <td>...</td>\n      <td>...</td>\n      <td>...</td>\n      <td>...</td>\n      <td>...</td>\n      <td>...</td>\n      <td>...</td>\n    </tr>\n    <tr>\n      <th>3005</th>\n      <td>5218</td>\n      <td>0</td>\n      <td>1</td>\n      <td>12</td>\n      <td>25</td>\n      <td>8.0</td>\n      <td>12.0</td>\n      <td>82135.0</td>\n      <td>1</td>\n      <td>0</td>\n      <td>...</td>\n      <td>0</td>\n      <td>335</td>\n      <td>0</td>\n      <td>15.0</td>\n      <td>NaN</td>\n      <td>1.0</td>\n      <td>0.0</td>\n      <td>7</td>\n      <td>5.814130</td>\n      <td>49</td>\n    </tr>\n    <tr>\n      <th>3006</th>\n      <td>5219</td>\n      <td>0</td>\n      <td>1</td>\n      <td>13</td>\n      <td>34</td>\n      <td>NaN</td>\n      <td>NaN</td>\n      <td>88765.0</td>\n      <td>1</td>\n      <td>0</td>\n      <td>...</td>\n      <td>0</td>\n      <td>481</td>\n      <td>0</td>\n      <td>43.0</td>\n      <td>NaN</td>\n      <td>1.0</td>\n      <td>1.0</td>\n      <td>15</td>\n      <td>6.175867</td>\n      <td>225</td>\n    </tr>\n    <tr>\n      <th>3007</th>\n      <td>5220</td>\n      <td>0</td>\n      <td>1</td>\n      <td>12</td>\n      <td>24</td>\n      <td>11.0</td>\n      <td>NaN</td>\n      <td>89271.0</td>\n      <td>0</td>\n      <td>0</td>\n      <td>...</td>\n      <td>0</td>\n      <td>500</td>\n      <td>0</td>\n      <td>25.0</td>\n      <td>109.0</td>\n      <td>1.0</td>\n      <td>0.0</td>\n      <td>6</td>\n      <td>6.214608</td>\n      <td>36</td>\n    </tr>\n    <tr>\n      <th>3008</th>\n      <td>5221</td>\n      <td>0</td>\n      <td>1</td>\n      <td>12</td>\n      <td>31</td>\n      <td>NaN</td>\n      <td>NaN</td>\n      <td>110376.0</td>\n      <td>1</td>\n      <td>0</td>\n      <td>...</td>\n      <td>0</td>\n      <td>713</td>\n      <td>0</td>\n      <td>32.0</td>\n      <td>107.0</td>\n      <td>1.0</td>\n      <td>1.0</td>\n      <td>13</td>\n      <td>6.569481</td>\n      <td>169</td>\n    </tr>\n    <tr>\n      <th>3009</th>\n      <td>5225</td>\n      <td>0</td>\n      <td>1</td>\n      <td>13</td>\n      <td>26</td>\n      <td>NaN</td>\n      <td>NaN</td>\n      <td>81081.0</td>\n      <td>0</td>\n      <td>0</td>\n      <td>...</td>\n      <td>0</td>\n      <td>525</td>\n      <td>1</td>\n      <td>27.0</td>\n      <td>NaN</td>\n      <td>1.0</td>\n      <td>0.0</td>\n      <td>7</td>\n      <td>6.263398</td>\n      <td>49</td>\n    </tr>\n  </tbody>\n</table>\n<p>3010 rows × 34 columns</p>\n</div>"
     },
     "metadata": {},
     "execution_count": 7
    }
   ],
   "source": [
    "coletar_dados('card')"
   ]
  },
  {
   "cell_type": "code",
   "execution_count": 8,
   "metadata": {},
   "outputs": [
    {
     "output_type": "stream",
     "name": "stdout",
     "text": [
      "                            OLS Estimation Summary                            \n==============================================================================\nDep. Variable:                   educ   R-squared:                      0.4771\nEstimator:                        OLS   Adj. R-squared:                 0.4745\nNo. Observations:                3010   F-statistic:                    2746.5\nDate:                Sat, Mar 27 2021   P-value (F-stat)                0.0000\nTime:                        14:03:22   Distribution:                 chi2(15)\nCov. Estimator:            unadjusted                                         \n                                                                              \n                             Parameter Estimates                              \n==============================================================================\n            Parameter  Std. Err.     T-stat    P-value    Lower CI    Upper CI\n------------------------------------------------------------------------------\nconst          16.638     0.2400     69.329     0.0000      16.168      17.109\nnearc4         0.3199     0.0876     3.6506     0.0003      0.1481      0.4917\nexper         -0.4125     0.0336    -12.274     0.0000     -0.4784     -0.3467\nexpersq        0.0009     0.0016     0.5277     0.5977     -0.0024      0.0041\nblack         -0.9355     0.0935    -10.007     0.0000     -1.1188     -0.7523\nsmsa           0.4022     0.1045     3.8474     0.0001      0.1973      0.6071\nsouth         -0.0516     0.1351    -0.3821     0.7024     -0.3163      0.2131\nsmsa66         0.0255     0.1055     0.2415     0.8091     -0.1813      0.2322\nreg662        -0.0786     0.1866    -0.4214     0.6735     -0.4444      0.2871\nreg663        -0.0279     0.1829    -0.1528     0.8786     -0.3864      0.3305\nreg664         0.1172     0.2167     0.5408     0.5886     -0.3075      0.5419\nreg665        -0.2726     0.2178    -1.2515     0.2108     -0.6996      0.1543\nreg666        -0.3028     0.2364    -1.2807     0.2003     -0.7662      0.1606\nreg667        -0.2168     0.2338    -0.9275     0.3537     -0.6750      0.2414\nreg668         0.5239     0.2668     1.9639     0.0495      0.0010      1.0467\nreg669         0.2103     0.2019     1.0414     0.2977     -0.1855      0.6060\n==============================================================================\n\nPara ver os resultados do 1º estágio/equação reduzida (e ver se os instrumentos são relevantes, chame 'Resultado.first_stage'.\n\nPara testar a exogeneidade da variável instrumentada, chame 'Resultado.wooldridge_regression' ou 'Resultado.wooldridge_score' ou 'Resultado.wu_hausman([variaveis])'.\n\nPara testar a exogeneidade dos instrumentos (quando eles forem mais numerosos que as variáveis endógenas), chame 'Resultado.wooldridge_overid', onde Ho: todos os instrumentos são exógenos.\n"
     ]
    }
   ],
   "source": [
    "## regredindo educ sobre os controles da tabela 15.1 e coletando os resíduos v2\n",
    "exog = df[['nearc4','exper','expersq','black','smsa','south','smsa66','reg662','reg663', 'reg664', 'reg665', 'reg666', 'reg667', 'reg668', 'reg669']]\n",
    "endog = None\n",
    "instrumentos = None\n",
    "y = df['educ']\n",
    "\n",
    "Regressao_IV_MQ2E(exog= exog, endog= endog, instrumentos= instrumentos, y=y)\n",
    "v2 = Resultado.resids\n",
    "df['v2'] = v2"
   ]
  },
  {
   "cell_type": "code",
   "execution_count": 9,
   "metadata": {},
   "outputs": [
    {
     "output_type": "stream",
     "name": "stdout",
     "text": [
      "                          IV-2SLS Estimation Summary                          \n==============================================================================\nDep. Variable:                  lwage   R-squared:                      0.3001\nEstimator:                    IV-2SLS   Adj. R-squared:                 0.2964\nNo. Observations:                3010   F-statistic:                    1290.7\nDate:                Sat, Mar 27 2021   P-value (F-stat)                0.0000\nTime:                        14:03:35   Distribution:                 chi2(16)\nCov. Estimator:            unadjusted                                         \n                                                                              \n                             Parameter Estimates                              \n==============================================================================\n            Parameter  Std. Err.     T-stat    P-value    Lower CI    Upper CI\n------------------------------------------------------------------------------\nconst          3.6662     0.8841     4.1469     0.0000      1.9334      5.3989\nexper          0.1083     0.0226     4.7874     0.0000      0.0639      0.1526\nexpersq       -0.0023     0.0003    -7.3241     0.0000     -0.0030     -0.0017\nblack         -0.1468     0.0515    -2.8487     0.0044     -0.2478     -0.0458\nsmsa           0.1118     0.0303     3.6941     0.0002      0.0525      0.1711\nsouth         -0.1447     0.0261    -5.5467     0.0000     -0.1958     -0.0936\nsmsa66         0.0185     0.0207     0.8971     0.3697     -0.0220      0.0590\nreg662         0.1008     0.0360     2.7972     0.0052      0.0302      0.1714\nreg663         0.1483     0.0352     4.2129     0.0000      0.0793      0.2172\nreg664         0.0499     0.0418     1.1934     0.2327     -0.0321      0.1318\nreg665         0.1463     0.0450     3.2512     0.0011      0.0581      0.2345\nreg666         0.1629     0.0496     3.2829     0.0010      0.0656      0.2602\nreg667         0.1346     0.0472     2.8496     0.0044      0.0420      0.2271\nreg668        -0.0831     0.0567    -1.4648     0.1430     -0.1942      0.0281\nreg669         0.1078     0.0400     2.6973     0.0070      0.0295      0.1862\nv2            -0.0571     0.0527    -1.0836     0.2785     -0.1603      0.0461\neduc           0.1315     0.0525     2.5029     0.0123      0.0285      0.2345\n==============================================================================\n\nEndogenous: educ\nInstruments: nearc4\nUnadjusted Covariance (Homoskedastic)\nDebiased: False\n\nPara ver os resultados do 1º estágio/equação reduzida (e ver se os instrumentos são relevantes, chame 'Resultado.first_stage'.\n\nPara testar a exogeneidade da variável instrumentada, chame 'Resultado.wooldridge_regression' ou 'Resultado.wooldridge_score' ou 'Resultado.wu_hausman([variaveis])'.\n\nPara testar a exogeneidade dos instrumentos (quando eles forem mais numerosos que as variáveis endógenas), chame 'Resultado.wooldridge_overid', onde Ho: todos os instrumentos são exógenos.\nO código da equação foi copiado para o clipboard!\n"
     ]
    }
   ],
   "source": [
    "## fazendo o teste de endogeneidade na mão\n",
    "exog = df[['exper','expersq','black','smsa','south','smsa66','reg662','reg663', 'reg664', 'reg665', 'reg666', 'reg667', 'reg668', 'reg669','v2']]\n",
    "endog = df[['educ']]\n",
    "instrumentos = df[['nearc4']]\n",
    "y = df['lwage']\n",
    "\n",
    "Regressao_IV_MQ2E(exog= exog, endog= endog, instrumentos= instrumentos, y=y)\n",
    "equation()\n",
    "## como o p-valor de v2 é 0,2785, não rejeitamos h0: educ é exógeno"
   ]
  },
  {
   "cell_type": "code",
   "execution_count": 230,
   "metadata": {},
   "outputs": [
    {
     "output_type": "stream",
     "name": "stdout",
     "text": [
      "                          IV-2SLS Estimation Summary                          \n==============================================================================\nDep. Variable:                  lwage   R-squared:                      0.2382\nEstimator:                    IV-2SLS   Adj. R-squared:                 0.2343\nNo. Observations:                3010   F-statistic:                    769.20\nDate:                Sat, Mar 27 2021   P-value (F-stat)                0.0000\nTime:                        12:45:08   Distribution:                 chi2(15)\nCov. Estimator:            unadjusted                                         \n                                                                              \n                             Parameter Estimates                              \n==============================================================================\n            Parameter  Std. Err.     T-stat    P-value    Lower CI    Upper CI\n------------------------------------------------------------------------------\nconst          3.6662     0.9224     3.9747     0.0001      1.8583      5.4740\nexper          0.1083     0.0236     4.5886     0.0000      0.0620      0.1545\nexpersq       -0.0023     0.0003    -7.0201     0.0000     -0.0030     -0.0017\nblack         -0.1468     0.0538    -2.7304     0.0063     -0.2521     -0.0414\nsmsa           0.1118     0.0316     3.5407     0.0004      0.0499      0.1737\nsouth         -0.1447     0.0272    -5.3165     0.0000     -0.1980     -0.0913\nsmsa66         0.0185     0.0216     0.8599     0.3899     -0.0237      0.0608\nreg662         0.1008     0.0376     2.6810     0.0073      0.0271      0.1744\nreg663         0.1483     0.0367     4.0380     0.0001      0.0763      0.2202\nreg664         0.0499     0.0436     1.1438     0.2527     -0.0356      0.1354\nreg665         0.1463     0.0469     3.1162     0.0018      0.0543      0.2383\nreg666         0.1629     0.0518     3.1466     0.0017      0.0614      0.2644\nreg667         0.1346     0.0493     2.7313     0.0063      0.0380      0.2311\nreg668        -0.0831     0.0592    -1.4040     0.1603     -0.1991      0.0329\nreg669         0.1078     0.0417     2.5853     0.0097      0.0261      0.1895\neduc           0.1315     0.0548     2.3989     0.0164      0.0241      0.2389\n==============================================================================\n\nEndogenous: educ\nInstruments: nearc4\nUnadjusted Covariance (Homoskedastic)\nDebiased: False\n\nPara ver os resultados do 1º estágio/equação reduzida (e ver se os instrumentos são relevantes, chame 'Resultado.first_stage'.\n\nPara testar a exogeneidade da variável instrumentada, chame 'Resultado.wooldridge_regression' ou 'Resultado.wooldridge_score' ou 'Resultado.wu_hausman([variaveis])'.\n\nPara testar a exogeneidade dos instrumentos (quando eles forem mais numerosos que as variáveis endógenas), chame 'Resultado.wooldridge_overid', onde Ho: todos os instrumentos são exógenos.\n"
     ]
    },
    {
     "output_type": "execute_result",
     "data": {
      "text/plain": [
       "Wooldridge's regression test of exogeneity\n",
       "H0: Endogenous variables are exogenous\n",
       "Statistic: 1.1743\n",
       "P-value: 0.2785\n",
       "Distributed: chi2(1)\n",
       "WaldTestStatistic, id: 0x7fb942a1f110"
      ]
     },
     "metadata": {},
     "execution_count": 230
    }
   ],
   "source": [
    "## alternativamente, \n",
    "exog = df[['exper','expersq','black','smsa','south','smsa66','reg662','reg663', 'reg664', 'reg665', 'reg666', 'reg667', 'reg668', 'reg669']]\n",
    "endog = df[['educ']]\n",
    "instrumentos = df[['nearc4']]\n",
    "y = df['lwage']\n",
    "\n",
    "Regressao_IV_MQ2E(exog= exog, endog= endog, instrumentos= instrumentos, y=y)\n",
    "Resultado.wooldridge_regression"
   ]
  },
  {
   "cell_type": "code",
   "execution_count": 232,
   "metadata": {},
   "outputs": [
    {
     "output_type": "stream",
     "name": "stdout",
     "text": [
      "                          IV-2SLS Estimation Summary                          \n==============================================================================\nDep. Variable:                  lwage   R-squared:                      0.1702\nEstimator:                    IV-2SLS   Adj. R-squared:                 0.1660\nNo. Observations:                3010   F-statistic:                    709.89\nDate:                Sat, Mar 27 2021   P-value (F-stat)                0.0000\nTime:                        12:45:58   Distribution:                 chi2(15)\nCov. Estimator:            unadjusted                                         \n                                                                              \n                             Parameter Estimates                              \n==============================================================================\n            Parameter  Std. Err.     T-stat    P-value    Lower CI    Upper CI\n------------------------------------------------------------------------------\nconst          3.2367     0.8826     3.6674     0.0002      1.5069      4.9665\nexper          0.1188     0.0227     5.2237     0.0000      0.0742      0.1634\nexpersq       -0.0024     0.0003    -6.7990     0.0000     -0.0030     -0.0017\nblack         -0.1233     0.0520    -2.3702     0.0178     -0.2252     -0.0213\nsmsa           0.1008     0.0314     3.2051     0.0014      0.0391      0.1624\nsouth         -0.1432     0.0284    -5.0476     0.0000     -0.1988     -0.0876\nsmsa66         0.0151     0.0223     0.6762     0.4989     -0.0286      0.0587\nreg662         0.1027     0.0392     2.6220     0.0087      0.0259      0.1796\nreg663         0.1499     0.0383     3.9157     0.0001      0.0749      0.2250\nreg664         0.0476     0.0455     1.0459     0.2956     -0.0416      0.1367\nreg665         0.1545     0.0484     3.1895     0.0014      0.0596      0.2494\nreg666         0.1730     0.0533     3.2468     0.0012      0.0686      0.2774\nreg667         0.1420     0.0510     2.7858     0.0053      0.0421      0.2420\nreg668        -0.0951     0.0608    -1.5630     0.1180     -0.2143      0.0241\nreg669         0.1030     0.0433     2.3778     0.0174      0.0181      0.1879\neduc           0.1571     0.0524     2.9951     0.0027      0.0543      0.2598\n==============================================================================\n\nEndogenous: educ\nInstruments: nearc4, nearc2\nUnadjusted Covariance (Homoskedastic)\nDebiased: False\n\nPara ver os resultados do 1º estágio/equação reduzida (e ver se os instrumentos são relevantes, chame 'Resultado.first_stage'.\n\nPara testar a exogeneidade da variável instrumentada, chame 'Resultado.wooldridge_regression' ou 'Resultado.wooldridge_score' ou 'Resultado.wu_hausman([variaveis])'.\n\nPara testar a exogeneidade dos instrumentos (quando eles forem mais numerosos que as variáveis endógenas), chame 'Resultado.wooldridge_overid', onde Ho: todos os instrumentos são exógenos.\n"
     ]
    }
   ],
   "source": [
    "## fazendo o mesmo modelo mas adicionando nearc2 como instrumento\n",
    "exog = df[['exper','expersq','black','smsa','south','smsa66','reg662','reg663', 'reg664', 'reg665', 'reg666', 'reg667', 'reg668', 'reg669']]\n",
    "endog = df[['educ']]\n",
    "instrumentos = df[['nearc4','nearc2']]\n",
    "y = df['lwage']\n",
    "\n",
    "Regressao_IV_MQ2E(exog= exog, endog= endog, instrumentos= instrumentos, y=y)"
   ]
  },
  {
   "cell_type": "code",
   "execution_count": 233,
   "metadata": {},
   "outputs": [
    {
     "output_type": "execute_result",
     "data": {
      "text/plain": [
       "Wooldridge's score test of overidentification\n",
       "H0: Model is not overidentified.\n",
       "Statistic: 1.2689\n",
       "P-value: 0.2600\n",
       "Distributed: chi2(1)\n",
       "WaldTestStatistic, id: 0x7fb9408e7dd0"
      ]
     },
     "metadata": {},
     "execution_count": 233
    }
   ],
   "source": [
    "## testando a sobreidentificacao das restricoes\n",
    "Resultado.wooldridge_overid\n",
    "## como o p-valor é 0,26, não se rejeita h0: os instrumentos são exógenos"
   ]
  },
  {
   "source": [
    "## Exercício C9"
   ],
   "cell_type": "markdown",
   "metadata": {}
  },
  {
   "cell_type": "code",
   "execution_count": 234,
   "metadata": {},
   "outputs": [
    {
     "output_type": "stream",
     "name": "stdout",
     "text": [
      "wage2.dta foi lido com sucesso!\n"
     ]
    },
    {
     "output_type": "execute_result",
     "data": {
      "text/plain": [
       "     wage  hours   IQ  KWW  educ  exper  tenure  age  married  black  south  \\\n",
       "0     769     40   93   35    12     11       2   31        1      0      0   \n",
       "1     808     50  119   41    18     11      16   37        1      0      0   \n",
       "2     825     40  108   46    14     11       9   33        1      0      0   \n",
       "3     650     40   96   32    12     13       7   32        1      0      0   \n",
       "4     562     40   74   27    11     14       5   34        1      0      0   \n",
       "..    ...    ...  ...  ...   ...    ...     ...  ...      ...    ...    ...   \n",
       "930   520     40   79   28    16      6       1   30        1      1      1   \n",
       "931  1202     40  102   32    13     10       3   31        1      0      1   \n",
       "932   538     45   77   22    12     12      10   28        1      1      1   \n",
       "933   873     44  109   25    12     12      12   28        1      0      1   \n",
       "934  1000     40  107   32    12     17      18   35        1      0      1   \n",
       "\n",
       "     urban  sibs  brthord  meduc  feduc     lwage  \n",
       "0        1     1      2.0    8.0    8.0  6.645091  \n",
       "1        1     1      NaN   14.0   14.0  6.694562  \n",
       "2        1     1      2.0   14.0   14.0  6.715384  \n",
       "3        1     4      3.0   12.0   12.0  6.476973  \n",
       "4        1    10      6.0    6.0   11.0  6.331502  \n",
       "..     ...   ...      ...    ...    ...       ...  \n",
       "930      0     0      1.0   11.0    NaN  6.253829  \n",
       "931      1     7      7.0    8.0    6.0  7.091742  \n",
       "932      0     9      NaN    7.0    NaN  6.287858  \n",
       "933      0     1      1.0    NaN   11.0  6.771935  \n",
       "934      0     5      1.0    NaN    NaN  6.907755  \n",
       "\n",
       "[935 rows x 17 columns]"
      ],
      "text/html": "<div>\n<style scoped>\n    .dataframe tbody tr th:only-of-type {\n        vertical-align: middle;\n    }\n\n    .dataframe tbody tr th {\n        vertical-align: top;\n    }\n\n    .dataframe thead th {\n        text-align: right;\n    }\n</style>\n<table border=\"1\" class=\"dataframe\">\n  <thead>\n    <tr style=\"text-align: right;\">\n      <th></th>\n      <th>wage</th>\n      <th>hours</th>\n      <th>IQ</th>\n      <th>KWW</th>\n      <th>educ</th>\n      <th>exper</th>\n      <th>tenure</th>\n      <th>age</th>\n      <th>married</th>\n      <th>black</th>\n      <th>south</th>\n      <th>urban</th>\n      <th>sibs</th>\n      <th>brthord</th>\n      <th>meduc</th>\n      <th>feduc</th>\n      <th>lwage</th>\n    </tr>\n  </thead>\n  <tbody>\n    <tr>\n      <th>0</th>\n      <td>769</td>\n      <td>40</td>\n      <td>93</td>\n      <td>35</td>\n      <td>12</td>\n      <td>11</td>\n      <td>2</td>\n      <td>31</td>\n      <td>1</td>\n      <td>0</td>\n      <td>0</td>\n      <td>1</td>\n      <td>1</td>\n      <td>2.0</td>\n      <td>8.0</td>\n      <td>8.0</td>\n      <td>6.645091</td>\n    </tr>\n    <tr>\n      <th>1</th>\n      <td>808</td>\n      <td>50</td>\n      <td>119</td>\n      <td>41</td>\n      <td>18</td>\n      <td>11</td>\n      <td>16</td>\n      <td>37</td>\n      <td>1</td>\n      <td>0</td>\n      <td>0</td>\n      <td>1</td>\n      <td>1</td>\n      <td>NaN</td>\n      <td>14.0</td>\n      <td>14.0</td>\n      <td>6.694562</td>\n    </tr>\n    <tr>\n      <th>2</th>\n      <td>825</td>\n      <td>40</td>\n      <td>108</td>\n      <td>46</td>\n      <td>14</td>\n      <td>11</td>\n      <td>9</td>\n      <td>33</td>\n      <td>1</td>\n      <td>0</td>\n      <td>0</td>\n      <td>1</td>\n      <td>1</td>\n      <td>2.0</td>\n      <td>14.0</td>\n      <td>14.0</td>\n      <td>6.715384</td>\n    </tr>\n    <tr>\n      <th>3</th>\n      <td>650</td>\n      <td>40</td>\n      <td>96</td>\n      <td>32</td>\n      <td>12</td>\n      <td>13</td>\n      <td>7</td>\n      <td>32</td>\n      <td>1</td>\n      <td>0</td>\n      <td>0</td>\n      <td>1</td>\n      <td>4</td>\n      <td>3.0</td>\n      <td>12.0</td>\n      <td>12.0</td>\n      <td>6.476973</td>\n    </tr>\n    <tr>\n      <th>4</th>\n      <td>562</td>\n      <td>40</td>\n      <td>74</td>\n      <td>27</td>\n      <td>11</td>\n      <td>14</td>\n      <td>5</td>\n      <td>34</td>\n      <td>1</td>\n      <td>0</td>\n      <td>0</td>\n      <td>1</td>\n      <td>10</td>\n      <td>6.0</td>\n      <td>6.0</td>\n      <td>11.0</td>\n      <td>6.331502</td>\n    </tr>\n    <tr>\n      <th>...</th>\n      <td>...</td>\n      <td>...</td>\n      <td>...</td>\n      <td>...</td>\n      <td>...</td>\n      <td>...</td>\n      <td>...</td>\n      <td>...</td>\n      <td>...</td>\n      <td>...</td>\n      <td>...</td>\n      <td>...</td>\n      <td>...</td>\n      <td>...</td>\n      <td>...</td>\n      <td>...</td>\n      <td>...</td>\n    </tr>\n    <tr>\n      <th>930</th>\n      <td>520</td>\n      <td>40</td>\n      <td>79</td>\n      <td>28</td>\n      <td>16</td>\n      <td>6</td>\n      <td>1</td>\n      <td>30</td>\n      <td>1</td>\n      <td>1</td>\n      <td>1</td>\n      <td>0</td>\n      <td>0</td>\n      <td>1.0</td>\n      <td>11.0</td>\n      <td>NaN</td>\n      <td>6.253829</td>\n    </tr>\n    <tr>\n      <th>931</th>\n      <td>1202</td>\n      <td>40</td>\n      <td>102</td>\n      <td>32</td>\n      <td>13</td>\n      <td>10</td>\n      <td>3</td>\n      <td>31</td>\n      <td>1</td>\n      <td>0</td>\n      <td>1</td>\n      <td>1</td>\n      <td>7</td>\n      <td>7.0</td>\n      <td>8.0</td>\n      <td>6.0</td>\n      <td>7.091742</td>\n    </tr>\n    <tr>\n      <th>932</th>\n      <td>538</td>\n      <td>45</td>\n      <td>77</td>\n      <td>22</td>\n      <td>12</td>\n      <td>12</td>\n      <td>10</td>\n      <td>28</td>\n      <td>1</td>\n      <td>1</td>\n      <td>1</td>\n      <td>0</td>\n      <td>9</td>\n      <td>NaN</td>\n      <td>7.0</td>\n      <td>NaN</td>\n      <td>6.287858</td>\n    </tr>\n    <tr>\n      <th>933</th>\n      <td>873</td>\n      <td>44</td>\n      <td>109</td>\n      <td>25</td>\n      <td>12</td>\n      <td>12</td>\n      <td>12</td>\n      <td>28</td>\n      <td>1</td>\n      <td>0</td>\n      <td>1</td>\n      <td>0</td>\n      <td>1</td>\n      <td>1.0</td>\n      <td>NaN</td>\n      <td>11.0</td>\n      <td>6.771935</td>\n    </tr>\n    <tr>\n      <th>934</th>\n      <td>1000</td>\n      <td>40</td>\n      <td>107</td>\n      <td>32</td>\n      <td>12</td>\n      <td>17</td>\n      <td>18</td>\n      <td>35</td>\n      <td>1</td>\n      <td>0</td>\n      <td>1</td>\n      <td>0</td>\n      <td>5</td>\n      <td>1.0</td>\n      <td>NaN</td>\n      <td>NaN</td>\n      <td>6.907755</td>\n    </tr>\n  </tbody>\n</table>\n<p>935 rows × 17 columns</p>\n</div>"
     },
     "metadata": {},
     "execution_count": 234
    }
   ],
   "source": [
    "coletar_dados('wage2')"
   ]
  },
  {
   "cell_type": "code",
   "execution_count": 235,
   "metadata": {},
   "outputs": [
    {
     "output_type": "stream",
     "name": "stdout",
     "text": [
      "                          IV-2SLS Estimation Summary                          \n==============================================================================\nDep. Variable:                  lwage   R-squared:                      0.1685\nEstimator:                    IV-2SLS   Adj. R-squared:                 0.1650\nNo. Observations:                 935   F-statistic:                    100.22\nDate:                Sat, Mar 27 2021   P-value (F-stat)                0.0000\nTime:                        13:35:34   Distribution:                  chi2(4)\nCov. Estimator:            unadjusted                                         \n                                                                              \n                             Parameter Estimates                              \n==============================================================================\n            Parameter  Std. Err.     T-stat    P-value    Lower CI    Upper CI\n------------------------------------------------------------------------------\nconst          5.2160     0.5420     9.6236     0.0000      4.1537      6.2783\nexper          0.0209     0.0084     2.5010     0.0124      0.0045      0.0373\ntenure         0.0115     0.0027     4.2265     0.0000      0.0062      0.0169\nblack         -0.1833     0.0500    -3.6665     0.0002     -0.2813     -0.0853\neduc           0.0936     0.0336     2.7843     0.0054      0.0277      0.1595\n==============================================================================\n\nEndogenous: educ\nInstruments: sibs\nUnadjusted Covariance (Homoskedastic)\nDebiased: False\n\nPara ver os resultados do 1º estágio/equação reduzida (e ver se os instrumentos são relevantes, chame 'Resultado.first_stage'.\n\nPara testar a exogeneidade da variável instrumentada, chame 'Resultado.wooldridge_regression' ou 'Resultado.wooldridge_score' ou 'Resultado.wu_hausman([variaveis])'.\n\nPara testar a exogeneidade dos instrumentos (quando eles forem mais numerosos que as variáveis endógenas), chame 'Resultado.wooldridge_overid', onde Ho: todos os instrumentos são exógenos.\n"
     ]
    }
   ],
   "source": [
    "## fazendo o modelo por mq2e\n",
    "exog = df[['exper','tenure','black']]\n",
    "endog = df[['educ']]\n",
    "instrumentos = df[['sibs']]\n",
    "y = df['lwage']\n",
    "\n",
    "Regressao_IV_MQ2E(exog= exog, endog= endog, instrumentos= instrumentos, y=y)"
   ]
  },
  {
   "cell_type": "code",
   "execution_count": 237,
   "metadata": {},
   "outputs": [
    {
     "output_type": "stream",
     "name": "stdout",
     "text": [
      "                            OLS Regression Results                            \n==============================================================================\nDep. Variable:                  lwage   R-squared:                       0.089\nModel:                            OLS   Adj. R-squared:                  0.085\nMethod:                 Least Squares   F-statistic:                     22.75\nDate:                Sat, 27 Mar 2021   Prob (F-statistic):           5.99e-18\nTime:                        13:38:20   Log-Likelihood:                -474.00\nNo. Observations:                 935   AIC:                             958.0\nDf Residuals:                     930   BIC:                             982.2\nDf Model:                           4                                         \nCovariance Type:            nonrobust                                         \n===============================================================================\n                  coef    std err          t      P>|t|      [0.025      0.975]\n-------------------------------------------------------------------------------\nconst           5.2160      0.569      9.170      0.000       4.100       6.332\nexper           0.0209      0.009      2.383      0.017       0.004       0.038\ntenure          0.0115      0.003      4.027      0.000       0.006       0.017\nblack          -0.1833      0.052     -3.494      0.000      -0.286      -0.080\neduc_chapeu     0.0936      0.035      2.653      0.008       0.024       0.163\n==============================================================================\nOmnibus:                       19.516   Durbin-Watson:                   1.717\nProb(Omnibus):                  0.000   Jarque-Bera (JB):               29.824\nSkew:                          -0.182   Prob(JB):                     3.34e-07\nKurtosis:                       3.795   Cond. No.                         844.\n==============================================================================\n\nWarnings:\n[1] Standard Errors assume that the covariance matrix of the errors is correctly specified.\nO erro padrão da regressão é 0.4028 e a SQR é 150.89313\n\nPara ver os valores previstos ou os resídudos, basta chamar 'Lista_ychapeu' e 'Resíduos'.\nOs resultados do modelo podem ser obtidos através de métodos usando a variável 'Resultado'.\n\n    Valores de condição maiores que 20 indicam problemas de multicolinearidade.\n    Para ver como achar esse número, entre em https://www.statsmodels.org/dev/examples/notebooks/generated/ols.html\n"
     ]
    }
   ],
   "source": [
    "## fazendo a regressao de dois estagios na mão\n",
    "x = df[['sibs','exper','tenure','black']]\n",
    "y = df['educ']\n",
    "\n",
    "Regressao_Multipla(x,y)\n",
    "clear_output()\n",
    "\n",
    "df['educ_chapeu'] = Lista_ychapeu\n",
    "\n",
    "x = df[['exper','tenure','black','educ_chapeu']]\n",
    "y = df['lwage']\n",
    "\n",
    "Regressao_Multipla(x,y)"
   ]
  },
  {
   "cell_type": "code",
   "execution_count": 238,
   "metadata": {},
   "outputs": [
    {
     "output_type": "stream",
     "name": "stdout",
     "text": [
      "                            OLS Regression Results                            \n==============================================================================\nDep. Variable:                  lwage   R-squared:                       0.089\nModel:                            OLS   Adj. R-squared:                  0.085\nMethod:                 Least Squares   F-statistic:                     22.75\nDate:                Sat, 27 Mar 2021   Prob (F-statistic):           5.99e-18\nTime:                        13:39:09   Log-Likelihood:                -474.00\nNo. Observations:                 935   AIC:                             958.0\nDf Residuals:                     930   BIC:                             982.2\nDf Model:                           4                                         \nCovariance Type:            nonrobust                                         \n===============================================================================\n                  coef    std err          t      P>|t|      [0.025      0.975]\n-------------------------------------------------------------------------------\nconst           5.7710      0.360     16.014      0.000       5.064       6.478\nexper          -0.0004      0.003     -0.126      0.900      -0.007       0.006\ntenure          0.0140      0.003      5.193      0.000       0.009       0.019\nblack          -0.2416      0.042     -5.819      0.000      -0.323      -0.160\neduc_chapeu     0.0700      0.026      2.653      0.008       0.018       0.122\n==============================================================================\nOmnibus:                       19.516   Durbin-Watson:                   1.717\nProb(Omnibus):                  0.000   Jarque-Bera (JB):               29.824\nSkew:                          -0.182   Prob(JB):                     3.34e-07\nKurtosis:                       3.795   Cond. No.                         536.\n==============================================================================\n\nWarnings:\n[1] Standard Errors assume that the covariance matrix of the errors is correctly specified.\nO erro padrão da regressão é 0.4028 e a SQR é 150.89313\n\nPara ver os valores previstos ou os resídudos, basta chamar 'Lista_ychapeu' e 'Resíduos'.\nOs resultados do modelo podem ser obtidos através de métodos usando a variável 'Resultado'.\n\n    Valores de condição maiores que 20 indicam problemas de multicolinearidade.\n    Para ver como achar esse número, entre em https://www.statsmodels.org/dev/examples/notebooks/generated/ols.html\n"
     ]
    }
   ],
   "source": [
    "## fazendo a regressao de dois estagios na mão, sem levar em conta as outras variaveis exógenas do modelo\n",
    "x = df[['sibs']]\n",
    "y = df['educ']\n",
    "\n",
    "Regressao_Multipla(x,y)\n",
    "clear_output()\n",
    "\n",
    "df['educ_chapeu'] = Lista_ychapeu\n",
    "\n",
    "x = df[['exper','tenure','black','educ_chapeu']]\n",
    "y = df['lwage']\n",
    "\n",
    "Regressao_Multipla(x,y)"
   ]
  },
  {
   "source": [
    "## Exercício C11"
   ],
   "cell_type": "markdown",
   "metadata": {}
  },
  {
   "cell_type": "code",
   "execution_count": 239,
   "metadata": {},
   "outputs": [
    {
     "output_type": "stream",
     "name": "stdout",
     "text": [
      "voucher.dta foi lido com sucesso!\n"
     ]
    },
    {
     "output_type": "execute_result",
     "data": {
      "text/plain": [
       "     studyid  black  hispanic  female  appyear  mnce  select  choice  \\\n",
       "0         21      1         0       1       90    44       1       0   \n",
       "1         26      1         0       0       90    46       1       1   \n",
       "2         30      1         0       0       90    20       1       1   \n",
       "3         31      1         0       1       90    36       1       1   \n",
       "4         33      1         0       0       90    32       1       1   \n",
       "..       ...    ...       ...     ...      ...   ...     ...     ...   \n",
       "985    20708      1         0       0       93    34       1       0   \n",
       "986    20709      1         0       1       93    90       1       1   \n",
       "987    20717      1         0       0       93    34       1       1   \n",
       "988    20718      1         0       0       93    10       1       1   \n",
       "989    20720      1         0       0       93    28       1       1   \n",
       "\n",
       "     selectyrs  choiceyrs  mnce90  selectyrs1  selectyrs2  selectyrs3  \\\n",
       "0            4          1     NaN           0           0           0   \n",
       "1            4          4     NaN           0           0           0   \n",
       "2            4          4     NaN           0           0           0   \n",
       "3            4          4     NaN           0           0           0   \n",
       "4            4          4     NaN           0           0           0   \n",
       "..         ...        ...     ...         ...         ...         ...   \n",
       "985          1          0     NaN           1           0           0   \n",
       "986          1          1     NaN           1           0           0   \n",
       "987          1          1     NaN           1           0           0   \n",
       "988          1          1     NaN           1           0           0   \n",
       "989          1          1     NaN           1           0           0   \n",
       "\n",
       "     selectyrs4  choiceyrs1  choiceyrs2  choiceyrs3  choiceyrs4  \n",
       "0             1           1           0           0           0  \n",
       "1             1           0           0           0           1  \n",
       "2             1           0           0           0           1  \n",
       "3             1           0           0           0           1  \n",
       "4             1           0           0           0           1  \n",
       "..          ...         ...         ...         ...         ...  \n",
       "985           0           0           0           0           0  \n",
       "986           0           1           0           0           0  \n",
       "987           0           1           0           0           0  \n",
       "988           0           1           0           0           0  \n",
       "989           0           1           0           0           0  \n",
       "\n",
       "[990 rows x 19 columns]"
      ],
      "text/html": "<div>\n<style scoped>\n    .dataframe tbody tr th:only-of-type {\n        vertical-align: middle;\n    }\n\n    .dataframe tbody tr th {\n        vertical-align: top;\n    }\n\n    .dataframe thead th {\n        text-align: right;\n    }\n</style>\n<table border=\"1\" class=\"dataframe\">\n  <thead>\n    <tr style=\"text-align: right;\">\n      <th></th>\n      <th>studyid</th>\n      <th>black</th>\n      <th>hispanic</th>\n      <th>female</th>\n      <th>appyear</th>\n      <th>mnce</th>\n      <th>select</th>\n      <th>choice</th>\n      <th>selectyrs</th>\n      <th>choiceyrs</th>\n      <th>mnce90</th>\n      <th>selectyrs1</th>\n      <th>selectyrs2</th>\n      <th>selectyrs3</th>\n      <th>selectyrs4</th>\n      <th>choiceyrs1</th>\n      <th>choiceyrs2</th>\n      <th>choiceyrs3</th>\n      <th>choiceyrs4</th>\n    </tr>\n  </thead>\n  <tbody>\n    <tr>\n      <th>0</th>\n      <td>21</td>\n      <td>1</td>\n      <td>0</td>\n      <td>1</td>\n      <td>90</td>\n      <td>44</td>\n      <td>1</td>\n      <td>0</td>\n      <td>4</td>\n      <td>1</td>\n      <td>NaN</td>\n      <td>0</td>\n      <td>0</td>\n      <td>0</td>\n      <td>1</td>\n      <td>1</td>\n      <td>0</td>\n      <td>0</td>\n      <td>0</td>\n    </tr>\n    <tr>\n      <th>1</th>\n      <td>26</td>\n      <td>1</td>\n      <td>0</td>\n      <td>0</td>\n      <td>90</td>\n      <td>46</td>\n      <td>1</td>\n      <td>1</td>\n      <td>4</td>\n      <td>4</td>\n      <td>NaN</td>\n      <td>0</td>\n      <td>0</td>\n      <td>0</td>\n      <td>1</td>\n      <td>0</td>\n      <td>0</td>\n      <td>0</td>\n      <td>1</td>\n    </tr>\n    <tr>\n      <th>2</th>\n      <td>30</td>\n      <td>1</td>\n      <td>0</td>\n      <td>0</td>\n      <td>90</td>\n      <td>20</td>\n      <td>1</td>\n      <td>1</td>\n      <td>4</td>\n      <td>4</td>\n      <td>NaN</td>\n      <td>0</td>\n      <td>0</td>\n      <td>0</td>\n      <td>1</td>\n      <td>0</td>\n      <td>0</td>\n      <td>0</td>\n      <td>1</td>\n    </tr>\n    <tr>\n      <th>3</th>\n      <td>31</td>\n      <td>1</td>\n      <td>0</td>\n      <td>1</td>\n      <td>90</td>\n      <td>36</td>\n      <td>1</td>\n      <td>1</td>\n      <td>4</td>\n      <td>4</td>\n      <td>NaN</td>\n      <td>0</td>\n      <td>0</td>\n      <td>0</td>\n      <td>1</td>\n      <td>0</td>\n      <td>0</td>\n      <td>0</td>\n      <td>1</td>\n    </tr>\n    <tr>\n      <th>4</th>\n      <td>33</td>\n      <td>1</td>\n      <td>0</td>\n      <td>0</td>\n      <td>90</td>\n      <td>32</td>\n      <td>1</td>\n      <td>1</td>\n      <td>4</td>\n      <td>4</td>\n      <td>NaN</td>\n      <td>0</td>\n      <td>0</td>\n      <td>0</td>\n      <td>1</td>\n      <td>0</td>\n      <td>0</td>\n      <td>0</td>\n      <td>1</td>\n    </tr>\n    <tr>\n      <th>...</th>\n      <td>...</td>\n      <td>...</td>\n      <td>...</td>\n      <td>...</td>\n      <td>...</td>\n      <td>...</td>\n      <td>...</td>\n      <td>...</td>\n      <td>...</td>\n      <td>...</td>\n      <td>...</td>\n      <td>...</td>\n      <td>...</td>\n      <td>...</td>\n      <td>...</td>\n      <td>...</td>\n      <td>...</td>\n      <td>...</td>\n      <td>...</td>\n    </tr>\n    <tr>\n      <th>985</th>\n      <td>20708</td>\n      <td>1</td>\n      <td>0</td>\n      <td>0</td>\n      <td>93</td>\n      <td>34</td>\n      <td>1</td>\n      <td>0</td>\n      <td>1</td>\n      <td>0</td>\n      <td>NaN</td>\n      <td>1</td>\n      <td>0</td>\n      <td>0</td>\n      <td>0</td>\n      <td>0</td>\n      <td>0</td>\n      <td>0</td>\n      <td>0</td>\n    </tr>\n    <tr>\n      <th>986</th>\n      <td>20709</td>\n      <td>1</td>\n      <td>0</td>\n      <td>1</td>\n      <td>93</td>\n      <td>90</td>\n      <td>1</td>\n      <td>1</td>\n      <td>1</td>\n      <td>1</td>\n      <td>NaN</td>\n      <td>1</td>\n      <td>0</td>\n      <td>0</td>\n      <td>0</td>\n      <td>1</td>\n      <td>0</td>\n      <td>0</td>\n      <td>0</td>\n    </tr>\n    <tr>\n      <th>987</th>\n      <td>20717</td>\n      <td>1</td>\n      <td>0</td>\n      <td>0</td>\n      <td>93</td>\n      <td>34</td>\n      <td>1</td>\n      <td>1</td>\n      <td>1</td>\n      <td>1</td>\n      <td>NaN</td>\n      <td>1</td>\n      <td>0</td>\n      <td>0</td>\n      <td>0</td>\n      <td>1</td>\n      <td>0</td>\n      <td>0</td>\n      <td>0</td>\n    </tr>\n    <tr>\n      <th>988</th>\n      <td>20718</td>\n      <td>1</td>\n      <td>0</td>\n      <td>0</td>\n      <td>93</td>\n      <td>10</td>\n      <td>1</td>\n      <td>1</td>\n      <td>1</td>\n      <td>1</td>\n      <td>NaN</td>\n      <td>1</td>\n      <td>0</td>\n      <td>0</td>\n      <td>0</td>\n      <td>1</td>\n      <td>0</td>\n      <td>0</td>\n      <td>0</td>\n    </tr>\n    <tr>\n      <th>989</th>\n      <td>20720</td>\n      <td>1</td>\n      <td>0</td>\n      <td>0</td>\n      <td>93</td>\n      <td>28</td>\n      <td>1</td>\n      <td>1</td>\n      <td>1</td>\n      <td>1</td>\n      <td>NaN</td>\n      <td>1</td>\n      <td>0</td>\n      <td>0</td>\n      <td>0</td>\n      <td>1</td>\n      <td>0</td>\n      <td>0</td>\n      <td>0</td>\n    </tr>\n  </tbody>\n</table>\n<p>990 rows × 19 columns</p>\n</div>"
     },
     "metadata": {},
     "execution_count": 239
    }
   ],
   "source": [
    "coletar_dados('voucher')"
   ]
  },
  {
   "cell_type": "code",
   "execution_count": 242,
   "metadata": {},
   "outputs": [
    {
     "output_type": "execute_result",
     "data": {
      "text/plain": [
       "468"
      ]
     },
     "metadata": {},
     "execution_count": 242
    }
   ],
   "source": [
    "## vendo quantos estudantes nunca receberam um voucher\n",
    "len(df.loc[df['selectyrs'] == 0])"
   ]
  },
  {
   "cell_type": "code",
   "execution_count": 243,
   "metadata": {},
   "outputs": [
    {
     "output_type": "execute_result",
     "data": {
      "text/plain": [
       "108"
      ]
     },
     "metadata": {},
     "execution_count": 243
    }
   ],
   "source": [
    "## vendo quantos estudantes receberam um voucher por 4 anos\n",
    "len(df.loc[df['selectyrs'] == 4])"
   ]
  },
  {
   "cell_type": "code",
   "execution_count": 244,
   "metadata": {},
   "outputs": [
    {
     "output_type": "execute_result",
     "data": {
      "text/plain": [
       "56"
      ]
     },
     "metadata": {},
     "execution_count": 244
    }
   ],
   "source": [
    "## vendo quantos estudantes foram a uma escola por 4 anos\n",
    "len(df.loc[df['choiceyrs'] == 4])"
   ]
  },
  {
   "cell_type": "code",
   "execution_count": 245,
   "metadata": {},
   "outputs": [
    {
     "output_type": "stream",
     "name": "stdout",
     "text": [
      "                            OLS Estimation Summary                            \n==============================================================================\nDep. Variable:              choiceyrs   R-squared:                      0.7898\nEstimator:                        OLS   Adj. R-squared:                 0.7896\nNo. Observations:                 990   F-statistic:                    3720.0\nDate:                Sat, Mar 27 2021   P-value (F-stat)                0.0000\nTime:                        13:47:50   Distribution:                  chi2(1)\nCov. Estimator:            unadjusted                                         \n                                                                              \n                             Parameter Estimates                              \n==============================================================================\n            Parameter  Std. Err.     T-stat    P-value    Lower CI    Upper CI\n------------------------------------------------------------------------------\nconst          0.0199     0.0246     0.8102     0.4179     -0.0283      0.0681\nselectyrs      0.7668     0.0126     60.992     0.0000      0.7422      0.7915\n==============================================================================\n\nPara ver os resultados do 1º estágio/equação reduzida (e ver se os instrumentos são relevantes, chame 'Resultado.first_stage'.\n\nPara testar a exogeneidade da variável instrumentada, chame 'Resultado.wooldridge_regression' ou 'Resultado.wooldridge_score' ou 'Resultado.wu_hausman([variaveis])'.\n\nPara testar a exogeneidade dos instrumentos (quando eles forem mais numerosos que as variáveis endógenas), chame 'Resultado.wooldridge_overid', onde Ho: todos os instrumentos são exógenos.\n"
     ]
    }
   ],
   "source": [
    "## fazendo uma regressao simples de choiceyrs sobre selectyrs\n",
    "exog = df[['selectyrs']]\n",
    "endog = None\n",
    "instrumentos = None\n",
    "y = df['choiceyrs']\n",
    "\n",
    "Regressao_IV_MQ2E(exog= exog, endog= endog, instrumentos= instrumentos, y=y)\n",
    "\n",
    "## dado que selectyrs é fruto de um sorteio em cada um dos anos, ela é exógena. os resultados dessa regressão simples mostra que, se não quisermos controlar para nenhum outro fator exógeno, selectyrs é relevante para explicar choiceyrs"
   ]
  },
  {
   "cell_type": "code",
   "execution_count": 246,
   "metadata": {},
   "outputs": [
    {
     "output_type": "stream",
     "name": "stdout",
     "text": [
      "                            OLS Estimation Summary                            \n==============================================================================\nDep. Variable:                   mnce   R-squared:                      0.0122\nEstimator:                        OLS   Adj. R-squared:                 0.0112\nNo. Observations:                 990   F-statistic:                    12.243\nDate:                Sat, Mar 27 2021   P-value (F-stat)                0.0005\nTime:                        13:49:28   Distribution:                  chi2(1)\nCov. Estimator:            unadjusted                                         \n                                                                              \n                             Parameter Estimates                              \n==============================================================================\n            Parameter  Std. Err.     T-stat    P-value    Lower CI    Upper CI\n------------------------------------------------------------------------------\nconst          46.234     0.8498     54.403     0.0000      44.569      47.900\nchoiceyrs     -1.8370     0.5250    -3.4990     0.0005     -2.8660     -0.8080\n==============================================================================\n\nPara ver os resultados do 1º estágio/equação reduzida (e ver se os instrumentos são relevantes, chame 'Resultado.first_stage'.\n\nPara testar a exogeneidade da variável instrumentada, chame 'Resultado.wooldridge_regression' ou 'Resultado.wooldridge_score' ou 'Resultado.wu_hausman([variaveis])'.\n\nPara testar a exogeneidade dos instrumentos (quando eles forem mais numerosos que as variáveis endógenas), chame 'Resultado.wooldridge_overid', onde Ho: todos os instrumentos são exógenos.\n"
     ]
    }
   ],
   "source": [
    "## fazendo uma regressao simples de mnce sobre choiceyrs\n",
    "exog = df[['choiceyrs']]\n",
    "endog = None\n",
    "instrumentos = None\n",
    "y = df['mnce']\n",
    "\n",
    "Regressao_IV_MQ2E(exog= exog, endog= endog, instrumentos= instrumentos, y=y)\n",
    "\n",
    "## definitivamente nao era o esperado: ter atendido escolas especiais por mais tempo diminui a nota do teste"
   ]
  },
  {
   "cell_type": "code",
   "execution_count": 247,
   "metadata": {},
   "outputs": [
    {
     "output_type": "stream",
     "name": "stdout",
     "text": [
      "                            OLS Estimation Summary                            \n==============================================================================\nDep. Variable:                   mnce   R-squared:                      0.0868\nEstimator:                        OLS   Adj. R-squared:                 0.0831\nNo. Observations:                 990   F-statistic:                    94.069\nDate:                Sat, Mar 27 2021   P-value (F-stat)                0.0000\nTime:                        13:51:03   Distribution:                  chi2(4)\nCov. Estimator:            unadjusted                                         \n                                                                              \n                             Parameter Estimates                              \n==============================================================================\n            Parameter  Std. Err.     T-stat    P-value    Lower CI    Upper CI\n------------------------------------------------------------------------------\nconst          57.122     1.6525     34.567     0.0000      53.883      60.361\nchoiceyrs     -0.5652     0.5294    -1.0677     0.2856     -1.6028      0.4723\nblack         -16.017     1.7899    -8.9487     0.0000     -19.526     -12.509\nhispanic      -13.403     2.3109    -5.7998     0.0000     -17.932     -8.8735\nfemale         1.3527     1.2725     1.0630     0.2878     -1.1414      3.8469\n==============================================================================\n\nPara ver os resultados do 1º estágio/equação reduzida (e ver se os instrumentos são relevantes, chame 'Resultado.first_stage'.\n\nPara testar a exogeneidade da variável instrumentada, chame 'Resultado.wooldridge_regression' ou 'Resultado.wooldridge_score' ou 'Resultado.wu_hausman([variaveis])'.\n\nPara testar a exogeneidade dos instrumentos (quando eles forem mais numerosos que as variáveis endógenas), chame 'Resultado.wooldridge_overid', onde Ho: todos os instrumentos são exógenos.\n"
     ]
    }
   ],
   "source": [
    "## fazendo uma regressao simples de mnce sobre choiceyrs e controlando para caracteristicas individuais\n",
    "exog = df[['choiceyrs','black','hispanic','female']]\n",
    "endog = None\n",
    "instrumentos = None\n",
    "y = df['mnce']\n",
    "\n",
    "Regressao_IV_MQ2E(exog= exog, endog= endog, instrumentos= instrumentos, y=y)"
   ]
  },
  {
   "cell_type": "code",
   "execution_count": 248,
   "metadata": {},
   "outputs": [
    {
     "output_type": "stream",
     "name": "stdout",
     "text": [
      "                          IV-2SLS Estimation Summary                          \n==============================================================================\nDep. Variable:                   mnce   R-squared:                      0.0864\nEstimator:                    IV-2SLS   Adj. R-squared:                 0.0827\nNo. Observations:                 990   F-statistic:                    93.054\nDate:                Sat, Mar 27 2021   P-value (F-stat)                0.0000\nTime:                        13:52:23   Distribution:                  chi2(4)\nCov. Estimator:            unadjusted                                         \n                                                                              \n                             Parameter Estimates                              \n==============================================================================\n            Parameter  Std. Err.     T-stat    P-value    Lower CI    Upper CI\n------------------------------------------------------------------------------\nconst          57.068     1.6535     34.513     0.0000      53.827      60.309\nblack         -16.317     1.8102    -9.0137     0.0000     -19.865     -12.769\nhispanic      -13.775     2.3353    -5.8987     0.0000     -18.353     -9.1982\nfemale         1.3197     1.2731     1.0366     0.2999     -1.1756      3.8150\nchoiceyrs     -0.2413     0.6037    -0.3997     0.6894     -1.4246      0.9420\n==============================================================================\n\nEndogenous: choiceyrs\nInstruments: selectyrs\nUnadjusted Covariance (Homoskedastic)\nDebiased: False\n\nPara ver os resultados do 1º estágio/equação reduzida (e ver se os instrumentos são relevantes, chame 'Resultado.first_stage'.\n\nPara testar a exogeneidade da variável instrumentada, chame 'Resultado.wooldridge_regression' ou 'Resultado.wooldridge_score' ou 'Resultado.wu_hausman([variaveis])'.\n\nPara testar a exogeneidade dos instrumentos (quando eles forem mais numerosos que as variáveis endógenas), chame 'Resultado.wooldridge_overid', onde Ho: todos os instrumentos são exógenos.\n"
     ]
    }
   ],
   "source": [
    "## contudo, choiceyrs pode ser endógeno, haja vista estar correlacionado com renda e até aptidão, ambas variáveis que afetam a nota de matemática\n",
    "# usando uma VI para choiceyrs, o resultado do coeficiente ainda é negativo, mas bastante insignificante\n",
    "# ser de uma cor marginalizada prejudica a nota, enquanto mulheres tiram, em média, notas maiores\n",
    "\n",
    "exog = df[['black','hispanic','female']]\n",
    "endog = df[['choiceyrs']]\n",
    "instrumentos = df[['selectyrs']]\n",
    "y = df['mnce']\n",
    "\n",
    "Regressao_IV_MQ2E(exog= exog, endog= endog, instrumentos= instrumentos, y=y)"
   ]
  },
  {
   "cell_type": "code",
   "execution_count": 249,
   "metadata": {},
   "outputs": [
    {
     "output_type": "stream",
     "name": "stdout",
     "text": [
      "                          IV-2SLS Estimation Summary                          \n",
      "==============================================================================\n",
      "Dep. Variable:                   mnce   R-squared:                      0.4173\n",
      "Estimator:                    IV-2SLS   Adj. R-squared:                 0.4082\n",
      "No. Observations:                 328   F-statistic:                    242.62\n",
      "Date:                Sat, Mar 27 2021   P-value (F-stat)                0.0000\n",
      "Time:                        13:53:52   Distribution:                  chi2(5)\n",
      "Cov. Estimator:            unadjusted                                         \n",
      "                                                                              \n",
      "                             Parameter Estimates                              \n",
      "==============================================================================\n",
      "            Parameter  Std. Err.     T-stat    P-value    Lower CI    Upper CI\n",
      "------------------------------------------------------------------------------\n",
      "const          21.539     3.6120     5.9632     0.0000      14.459      28.618\n",
      "black         -9.0671     2.5478    -3.5588     0.0004     -14.061     -4.0735\n",
      "hispanic      -5.0037     3.3616    -1.4885     0.1366     -11.592      1.5849\n",
      "female        -1.0205     1.7699    -0.5766     0.5642     -4.4894      2.4484\n",
      "mnce90         0.6288     0.0483     13.020     0.0000      0.5342      0.7235\n",
      "choiceyrs      1.7994     0.8523     2.1112     0.0348      0.1289      3.4698\n",
      "==============================================================================\n",
      "\n",
      "Endogenous: choiceyrs\n",
      "Instruments: selectyrs\n",
      "Unadjusted Covariance (Homoskedastic)\n",
      "Debiased: False\n",
      "\n",
      "Para ver os resultados do 1º estágio/equação reduzida (e ver se os instrumentos são relevantes, chame 'Resultado.first_stage'.\n",
      "\n",
      "Para testar a exogeneidade da variável instrumentada, chame 'Resultado.wooldridge_regression' ou 'Resultado.wooldridge_score' ou 'Resultado.wu_hausman([variaveis])'.\n",
      "\n",
      "Para testar a exogeneidade dos instrumentos (quando eles forem mais numerosos que as variáveis endógenas), chame 'Resultado.wooldridge_overid', onde Ho: todos os instrumentos são exógenos.\n",
      "/Users/vinicius/opt/anaconda3/envs/myenv/lib/python3.7/site-packages/linearmodels/shared/exceptions.py:35: MissingValueWarning:\n",
      "\n",
      "\n",
      "Inputs contain missing values. Dropping rows with missing observations.\n",
      "\n"
     ]
    }
   ],
   "source": [
    "# controlando as notas de teste passada (≈ aptidão)\n",
    "# AGORA CHOICEYRS FAZ SENTIDO, aumeentando em 1,8 a nota no teste\n",
    "# contudo, o numero de observacoes cai bastante: pode haver uma autosseleção de pessoas mais dedicadas que fazem o exame em múltiplos anos\n",
    "\n",
    "exog = df[['black','hispanic','female','mnce90']]\n",
    "endog = df[['choiceyrs']]\n",
    "instrumentos = df[['selectyrs']]\n",
    "y = df['mnce']\n",
    "\n",
    "Regressao_IV_MQ2E(exog= exog, endog= endog, instrumentos= instrumentos, y=y)"
   ]
  },
  {
   "cell_type": "code",
   "execution_count": 250,
   "metadata": {},
   "outputs": [
    {
     "output_type": "stream",
     "name": "stdout",
     "text": [
      "                          IV-2SLS Estimation Summary                          \n==============================================================================\nDep. Variable:                   mnce   R-squared:                      0.0850\nEstimator:                    IV-2SLS   Adj. R-squared:                 0.0785\nNo. Observations:                 990   F-statistic:                    94.494\nDate:                Sat, Mar 27 2021   P-value (F-stat)                0.0000\nTime:                        13:57:16   Distribution:                  chi2(7)\nCov. Estimator:            unadjusted                                         \n                                                                              \n                             Parameter Estimates                              \n==============================================================================\n            Parameter  Std. Err.     T-stat    P-value    Lower CI    Upper CI\n------------------------------------------------------------------------------\nconst          56.886     1.6631     34.205     0.0000      53.626      60.145\nblack         -16.297     1.8709    -8.7111     0.0000     -19.964     -12.630\nhispanic      -13.366     2.4531    -5.4486     0.0000     -18.174     -8.5580\nfemale         1.3664     1.2747     1.0719     0.2838     -1.1320      3.8648\nchoiceyrs1     0.3900     2.3535     0.1657     0.8684     -4.2229      5.0028\nchoiceyrs2     0.7737     4.1458     0.1866     0.8520     -7.3520      8.8993\nchoiceyrs3    -4.2848     3.6846    -1.1629     0.2449     -11.506      2.9369\nchoiceyrs4     2.4071     4.1477     0.5803     0.5617     -5.7222      10.536\n==============================================================================\n\nEndogenous: choiceyrs1, choiceyrs2, choiceyrs3, choiceyrs4\nInstruments: selectyrs1, selectyrs2, selectyrs3, selectyrs4\nUnadjusted Covariance (Homoskedastic)\nDebiased: False\n\nPara ver os resultados do 1º estágio/equação reduzida (e ver se os instrumentos são relevantes, chame 'Resultado.first_stage'.\n\nPara testar a exogeneidade da variável instrumentada, chame 'Resultado.wooldridge_regression' ou 'Resultado.wooldridge_score' ou 'Resultado.wu_hausman([variaveis])'.\n\nPara testar a exogeneidade dos instrumentos (quando eles forem mais numerosos que as variáveis endógenas), chame 'Resultado.wooldridge_overid', onde Ho: todos os instrumentos são exógenos.\n"
     ]
    }
   ],
   "source": [
    "## fazendo uma regressao de iv usando as dummies\n",
    "# ser selecionado para uma escola parece, de fato, não afetar a nota no teste (vide p-valores)\n",
    "exog = df[['black','hispanic','female']]\n",
    "endog = df[['choiceyrs1','choiceyrs2','choiceyrs3','choiceyrs4']]\n",
    "instrumentos = df[['selectyrs1','selectyrs2','selectyrs3','selectyrs4']]\n",
    "y = df['mnce']\n",
    "\n",
    "Regressao_IV_MQ2E(exog= exog, endog= endog, instrumentos= instrumentos, y=y)"
   ]
  }
 ]
}