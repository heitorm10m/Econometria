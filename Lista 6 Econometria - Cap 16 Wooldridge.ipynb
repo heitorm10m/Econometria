{
 "metadata": {
  "language_info": {
   "codemirror_mode": {
    "name": "ipython",
    "version": 3
   },
   "file_extension": ".py",
   "mimetype": "text/x-python",
   "name": "python",
   "nbconvert_exporter": "python",
   "pygments_lexer": "ipython3",
   "version": "3.7.7-final"
  },
  "orig_nbformat": 2,
  "kernelspec": {
   "name": "python37764bitmyenvconda3d1bafc1aa974ba28648dc51e09b6a19",
   "display_name": "Python 3.7.7 64-bit ('myenv': conda)"
  },
  "metadata": {
   "interpreter": {
    "hash": "8b633cbbc14e145906599cefe47c3dba10dc0e2c3bc4a9e7fbbaa016a7f81938"
   }
  }
 },
 "nbformat": 4,
 "nbformat_minor": 2,
 "cells": [
  {
   "cell_type": "code",
   "execution_count": 1,
   "metadata": {},
   "outputs": [],
   "source": [
    "#Criado por: Vinícius de Almeida Nery Ferreira (ECO - UnB)\n",
    "#Github: https://github.com/vnery5/Econometria\n",
    "\n",
    "#######################################################################################################################\n",
    "###COMO USAR AS FUNÇÕES EM UM NOTEBOOK\n",
    "##Antes, copie e cole todos os imports e definições daqui na primeira célula do notebook e pressione Shift + Enter\n",
    "##Para coletar os dados do arquivo \"carros.dta\" (só funciona com arquivos .dta):\n",
    "#coletar_dados(\"carros\")\n",
    "\n",
    "## Exportar resultados como imagem ou texto: https://stackoverflow.com/questions/46664082/python-how-to-save-statsmodels-results-as-image-file\n",
    "#######################################################################################################################\n",
    "\n",
    "##Importando os pacotes e módulos necessários\n",
    "import pandas as pd\n",
    "import numpy as np\n",
    "import math\n",
    "\n",
    "#Para Regressão Linear Simples e Teste F\n",
    "from scipy import stats\n",
    "\n",
    "#Para Regressão Linear Múltipla (OLS, GLS e WLS) e Testes Estatísticos\n",
    "import statsmodels.api as sm\n",
    "import econtools\n",
    "import econtools.metrics as mt\n",
    "\n",
    "#Para Regressão em Painel e IV\n",
    "from linearmodels import PanelOLS, FirstDifferenceOLS, PooledOLS, RandomEffects\n",
    "from linearmodels.panel import compare\n",
    "from linearmodels.iv import IV2SLS\n",
    "\n",
    "#Pacotes para gráficos (caso precise)\n",
    "import matplotlib\n",
    "import matplotlib.pyplot as plt\n",
    "import seaborn as sns\n",
    "import plotly.express as px\n",
    "import plotly.graph_objects as go\n",
    "\n",
    "#Pacotes para fazer a coleta dos dados armazenados no mesmo diretório e outros pacotes gerais\n",
    "import os\n",
    "import pathlib\n",
    "import glob\n",
    "from IPython.display import clear_output\n",
    "import gc\n",
    "import subprocess #permite a cópia para o clipboard das equações gerados com as funções equation()\n",
    "\n",
    "####################################### Criando as Funções ###############################################################\n",
    "\n",
    "def coletar_dados(nome = \"\"):\n",
    "    '''\n",
    "    Função que le os arquivos do Stata (.dta) - NÃO COLOQUE A EXTENSÃO NA HORA DE NOMEAR O \"NOME\"!\n",
    "    O arquivo deve estar na mesma pasta do arquivo de Python ou do notebook do jupyter.\n",
    "    Deixe em branco para ler o arquivo mais recentemente adicionado à pasta.\n",
    "    '''\n",
    "\n",
    "    global df\n",
    "\n",
    "    #Pegando qual a pasta do arquivo que está sendo usado pra programar\n",
    "    caminho = pathlib.Path().absolute()\n",
    "\n",
    "    #No meu caso específico:\n",
    "    caminho_vinicius = f\"{caminho}/datasets\"\n",
    "\n",
    "    #checando se o nome foi inserido ou não; caso não, pegar o arquivo .dta mais recente\n",
    "    if nome == \"\":\n",
    "        try:\n",
    "            arquivo = max(glob.glob(f\"{str(caminho)}/*.dta\"), key=os.path.getctime)\n",
    "            df = pd.read_stata(arquivo)\n",
    "            print(f\"{arquivo}.dta foi lido com sucesso!\")\n",
    "            return df\n",
    "        except:\n",
    "            arquivo = max(glob.glob(f\"{str(caminho_vinicius)}/*.dta\"), key=os.path.getctime)\n",
    "            df = pd.read_stata(arquivo)\n",
    "            print(f\"{arquivo}.dta foi lido com sucesso!\")\n",
    "            return df\n",
    "    else:\n",
    "        try:\n",
    "            arquivo = f\"{str(caminho)}/{str(nome)}.dta\"\n",
    "            df = pd.read_stata(arquivo)\n",
    "            print(f\"{nome}.dta foi lido com sucesso!\")\n",
    "            return df\n",
    "        except:\n",
    "            try:\n",
    "                arquivo = f\"{str(caminho_vinicius)}/{str(nome)}.dta\"\n",
    "                df = pd.read_stata(arquivo)\n",
    "                print(f\"{nome}.dta foi lido com sucesso!\")\n",
    "                return df\n",
    "            except: #caso não tenha sido encontrado o arquivo com o nome inserido\n",
    "                print('''\n",
    "                Não foi possível achar o arquivo :(\\n\n",
    "                Verifique se seu nome está correto (sem a extensão) e se ele está no mesmo diretório do programa!\n",
    "                ''')\n",
    "\n",
    "def Regressao_Multipla(x, y, constante = \"S\", cov = \"normal\"):\n",
    "    '''\n",
    "    Função que calcula uma regressão múltipla, sendo, por default, computada com um intercepto e com erros padrões não robustos.\n",
    "\n",
    "    x: lista ou array com os valores das variáveis independentes;\n",
    "    y: lista ou array com os valores da variável dependente;\n",
    "    constante: \"S\" para regressão com intercepto e qualquer outro valor para sem intercepto. Caso em branco, a regressão é computada com intercepto;\n",
    "    cov: \"normal\" para regressão com erros-padrão tradicionais (caso padrão);\n",
    "        \"robust\" para erros-padrões robustos.\n",
    "        \"cluster\" ou \"clustered\" para erros-padrões clusterizados\n",
    "    '''\n",
    "\n",
    "    global Resultado, Lista_ychapeu, Resíduos, SQR, EPR\n",
    "\n",
    "    #adicionando uma constante ao modelo de Ordinary Least Squares (OLS)\n",
    "    if constante == \"S\":\n",
    "        X = sm.add_constant(x)\n",
    "    else:\n",
    "        X = x\n",
    "\n",
    "    #Criando o Modelo levando em conta a opção de erros padrão\n",
    "    Modelo = sm.OLS(y,X)\n",
    "\n",
    "    if cov == \"robust\":\n",
    "        Resultado = Modelo.fit(cov_type = 'HC1', use_t = True)\n",
    "    elif cov == \"cluster\" or cov == \"clustered\":\n",
    "        group = str(input(\"Qual o rótulo da coluna de grupo?\"))\n",
    "        try:\n",
    "            Resultado = Modelo.fit(cov_type = 'cluster',cov_kwds  ={'groups':df[group]}, use_t = True)\n",
    "        except:\n",
    "            erro = \"Não foi possível encontrar o grupo selecionado. Tente novamente!\"\n",
    "            return erro\n",
    "    else:\n",
    "        Resultado = Modelo.fit()\n",
    "    \n",
    "    Lista_ychapeu = Resultado.predict()\n",
    "    Resíduos = y - Lista_ychapeu\n",
    "\n",
    "    #Calculando o Erro Padrão da Regressão (EPR)\n",
    "    SQR =sum([i**2 for i in Resíduos])\n",
    "    Número_de_Observações = len(y)\n",
    "    GL = Número_de_Observações - len(Resultado.params)\n",
    "    VarianciaReg = SQR/GL\n",
    "    EPR = math.sqrt(VarianciaReg)\n",
    "    \n",
    "    ##Printando o Resultado\n",
    "    print(Resultado.summary())\n",
    "\n",
    "    print(f\"O erro padrão da regressão é {round(EPR,5)} e a SQR é {round(SQR,5)}\")\n",
    "    print(\"\\nPara ver os valores previstos ou os resídudos, basta chamar 'Lista_ychapeu' e 'Resíduos'.\")\n",
    "    print(\"Os resultados do modelo podem ser obtidos através de métodos usando a variável 'Resultado'.\")\n",
    "    print(\"\"\"\n",
    "    Valores de condição maiores que 20 indicam problemas de multicolinearidade.\n",
    "    Para ver como achar esse número, entre em https://www.statsmodels.org/dev/examples/notebooks/generated/ols.html\"\"\"\n",
    "    )\n",
    "\n",
    "def Regressao_MQP(x, y, pesos, constante = \"S\", cov = \"normal\"):\n",
    "    '''\n",
    "    Função que calcula uma regressão múltipla usando mínimos quadrados ponderados, ou seja,\n",
    "    recomendada quando o erro é heteroscedástico E se sabe a função da constante. Ela é, por default, computada com um intercepto e com erros padrões não robustos.\n",
    "\n",
    "    x: lista ou array com os valores das variáveis independentes;\n",
    "    y: lista ou array com os valores da variável dependente;\n",
    "    pesos: 1/h, sendo h a constante multiplicativa da variância do erro (ou seja, sem a raiz);\n",
    "    constante: \"S\" para regressão com intercepto e qualquer outro valor para sem intercepto. Caso em branco, a regressão é computada com intercepto;\n",
    "    cov: \"normal\" para regressão com erros-padrão tradicionais (caso padrão);\n",
    "        \"robust\" para erros-padrões robustos.\n",
    "        \"cluster\" para erros-padrões clusterizados\n",
    "    '''\n",
    "\n",
    "    global Resultado, Lista_ychapeu, Resíduos, SQR, EPR\n",
    "\n",
    "    #adicionando uma constante ao modelo de Ordinary Least Squares(OLS)\n",
    "    if constante == \"S\":\n",
    "        X = sm.add_constant(x)\n",
    "    else:\n",
    "        X = x\n",
    "\n",
    "    #Criando o Modelo levando em conta a opção de erros padrão\n",
    "    Modelo = sm.WLS(y,X, weights = pesos)\n",
    "\n",
    "    if cov == \"robust\":\n",
    "        Resultado = Modelo.fit(cov_type = 'HC1', use_t = True)\n",
    "    elif cov == \"cluster\" or cov == \"clustered\":\n",
    "        group = str(input(\"Qual o rótulo da coluna de grupo?\"))\n",
    "        try:\n",
    "            Resultado = Modelo.fit(cov_type = 'cluster',cov_kwds  ={'groups':df[group]}, use_t = True)\n",
    "        except:\n",
    "            erro = \"Não foi possível encontrar o grupo selecionado. Tente novamente!\"\n",
    "            return erro\n",
    "    else:\n",
    "        Resultado = Modelo.fit()\n",
    "\n",
    "    Lista_ychapeu = Resultado.predict()\n",
    "    Resíduos = y - Lista_ychapeu\n",
    "\n",
    "    #Calculando o Erro Padrão da Regressão (EPR)\n",
    "    SQR =sum([i**2 for i in Resíduos])\n",
    "    Número_de_Observações = len(y)\n",
    "    GL = Número_de_Observações - len(Resultado.params)\n",
    "    VarianciaReg = SQR/GL\n",
    "    EPR = math.sqrt(VarianciaReg)\n",
    "    \n",
    "    ##Printando o Resultado\n",
    "    print(f\"O erro padrão da regressão é {round(EPR,5)} e a SQR é {round(SQR,5)}\\n\")\n",
    "    print(Resultado.summary())\n",
    "\n",
    "    print(\"\\nPara ver os valores previstos ou os resídudos, basta chamar 'Lista_ychapeu' e 'Resíduos'.\")\n",
    "    print(\"Os resultados do modelo podem ser obtidos através de métodos usando a variável 'Resultado'.\")\n",
    "    print(\"\"\"\n",
    "    Valores de condição maiores que 20 indicam problemas de multicolinearidade\n",
    "    Para ver como achar esse número, entre em https://www.statsmodels.org/dev/examples/notebooks/generated/ols.html\"\"\"\n",
    "    )\n",
    "    \n",
    "def Regressao_MQGF(x, y, constante = \"S\", cov = \"normal\"):\n",
    "    '''\n",
    "    Função que calcula uma regressão múltipla usando mínimos quadrados generalizados factíveis, ou seja,\n",
    "    recomendada quando o erro é heteroscedástico E NÃO se sabe a função da constante multiplicativa da variância do erro, sendo os pesos estimados\n",
    "    regridindo o log dos quadrados dos resíduos sobre as variáveis explicativas. Os estimadores MQP são gerados com o peso estimado.\n",
    "    Ela é, por default, computada com um intercepto e com erros padrões não robustos.\n",
    "\n",
    "    x: lista ou array com os valores das variáveis independentes;\n",
    "    y: lista ou array com os valores da variável dependente;\n",
    "    constante: \"S\" para regressão com intercepto e qualquer outro valor para sem intercepto. Caso em branco, a regressão é computada com intercepto;\n",
    "    cov: \"normal\" para regressão com erros-padrão tradicionais (caso padrão);\n",
    "        \"robust\" para erros-padrões robustos.\n",
    "        \"cluster\" ou \"clustered\" para erros-padrões clusterizados\n",
    "    '''\n",
    "\n",
    "    global Resultado, Lista_ychapeu, Resíduos, SQR, EPR\n",
    "\n",
    "    #Regredindo os valores normalmente a fim de pegar os resíduos\n",
    "    Regressao_Multipla(x,y, constante, cov)\n",
    "    clear_output()\n",
    "\n",
    "    #Coletando o log dos quadrados dos resíduos\n",
    "    Log_Res_Quad = np.log(Resíduos**2)\n",
    "\n",
    "    #Regredindo Log_Res_Quad sobre as variáveis explicativas\n",
    "    Regressao_Multipla(x,Log_Res_Quad, constante, cov)\n",
    "    clear_output()\n",
    "\n",
    "    #Estimando os pesos\n",
    "    Pesos = np.exp(Lista_ychapeu)\n",
    "\n",
    "    #Fazendo uma Regressão MQP\n",
    "    Regressao_MQP(x,y, 1/Pesos, constante, cov)\n",
    "\n",
    "def Teste_LM(x, y, Restrições, Nivel_de_Significância = 0.05):\n",
    "    '''\n",
    "    Função que calcula um teste LM e dá o resultado teste de hipótese para o caso de todas as restrições serem conjuntamente estatisticamente não-significantes.\n",
    "\n",
    "    x: lista ou array com os valores das variáveis independentes;\n",
    "    y: lista ou array com os valores da variável dependente;\n",
    "    Restrições: lista ou array com os valores a serem tirados do modelo restrito;\n",
    "    Nivel_de_Significância: nível de significância do teste. Caso branco, o nível de significancia padrão é de 5%.\n",
    "    '''\n",
    "\n",
    "    ##Definindo as variáveis de cada modelo\n",
    "    ModeloIrrestrito = list(x)\n",
    "    ModeloRestrito = []\n",
    "    Restrições = list(Restrições)\n",
    "\n",
    "    Numero_de_Observações = len(y)\n",
    "    GL_r = len(Restrições)\n",
    "\n",
    "    for i in ModeloIrrestrito:\n",
    "        if i not in Restrições:\n",
    "            ModeloRestrito.append(i)\n",
    "    \n",
    "    #Fazendo a regressão do modelo restrito e armazenando os resíduos\n",
    "    Regressao_Multipla(df[ModeloRestrito], y)\n",
    "    Resíduos_r = Resíduos\n",
    "\n",
    "    #Fazendo a regressão dos resíduos sobre as variáveis independentes e armazenando o R2\n",
    "    Regressao_Multipla(x, Resíduos_r)\n",
    "    Ru = Resultado.rsquared\n",
    "\n",
    "    #Calculando a estatística LM\n",
    "    LM = Numero_de_Observações*Ru\n",
    "\n",
    "    #Calculando o p-valor\n",
    "    ##Calculando o P-valor de F\n",
    "    P_valor = stats.chi2.sf(LM,GL_r)\n",
    "\n",
    "    #Limpando a tela\n",
    "    clear_output()\n",
    "\n",
    "    #Printando o resultado\n",
    "    if Nivel_de_Significância > P_valor:\n",
    "        print(f\"O valor de LM é {round(LM,3)} e seu p-valor é {round(P_valor,7)}. Portanto, rejeita-se Ho a um nível de significância de {Nivel_de_Significância*100}%.\")\n",
    "    else:\n",
    "        print(f\"O valor de LM é {round(LM,3)} e seu p-valor é {round(P_valor,7)}. Portanto, não se rejeita Ho a um nível de significância de {Nivel_de_Significância*100}%.\")\n",
    "\n",
    "\n",
    "def Teste_F(x, y, Restrições, Nivel_de_Significância = 0.05):\n",
    "    '''\n",
    "    Função que calcula um teste F e dá o resultado teste de hipótese para o caso de todas as restrições serem conjuntamente estatisticamente não-significantes.\n",
    "\n",
    "    x: lista ou array com os valores das variáveis independentes;\n",
    "    y: lista ou array com os valores da variável dependente;\n",
    "    Restrições: lista ou array com os valores a serem tirados do modelo restrito;\n",
    "    Nivel_de_Significância: nível de significância do teste. Caso branco, o nível de significancia padrão é de 5%.\n",
    "    '''\n",
    "\n",
    "    ##Definindo as variáveis de cada modelo\n",
    "    #para testar igualdade dos coeficientes, F2, p_valueF2 = results.Ftest(['ACT', 'skipped'], equal=True)\n",
    "    ModeloIrrestrito = list(x)\n",
    "    ModeloRestrito = []\n",
    "    Restrições = list(Restrições)\n",
    "\n",
    "    Numero_de_Observações = len(y)\n",
    "    GL_ir = Numero_de_Observações - (len(ModeloIrrestrito) + 1)\n",
    "    GL_r = len(Restrições)\n",
    "\n",
    "    for i in ModeloIrrestrito:\n",
    "        if i not in Restrições:\n",
    "            ModeloRestrito.append(i)\n",
    "\n",
    "    ##Fazendo as regressões de cada modelo\n",
    "    Regressao_Multipla(x, y)\n",
    "    SQR_ir = SQR\n",
    "    VarianciaReg_ir = EPR**2\n",
    "\n",
    "    Regressao_Multipla(df[ModeloRestrito], y)\n",
    "    SQR_r = SQR\n",
    "\n",
    "    #Limpando a tela\n",
    "    clear_output()\n",
    "    \n",
    "    ##Calculando F\n",
    "    F = (SQR_r - SQR_ir)/(len(Restrições)*VarianciaReg_ir)\n",
    "\n",
    "    ##Calculando o P-valor de F\n",
    "    P_valor = stats.f.sf(F,GL_r,GL_ir)\n",
    "\n",
    "    if Nivel_de_Significância > P_valor:\n",
    "        print(f\"O valor de F é {round(F,3)} e seu p-valor é {round(P_valor,7)}. Portanto, rejeita-se Ho à significância de {Nivel_de_Significância*100}%.\")\n",
    "    else:\n",
    "        print(f\"O valor de F é {round(F,3)} e seu p-valor é {round(P_valor,7)}. Portanto, não se rejeita Ho à significância de {Nivel_de_Significância*100}%.\")\n",
    "\n",
    "def Teste_F_Rapido_Robusto(H0, Nivel_de_Significância = 0.05):\n",
    "    '''\n",
    "    Função que calcula um teste F de forma mais rápida com base nas restrições de H0, podendo ser robusto se o Resultado for fruto de uma regressão robusta.\n",
    "    H0 deve estar na forma B1 = B2 =...= Valor que deseja ser testado (0 na maioria das vezes)\n",
    "    '''\n",
    "    global Resultado\n",
    "    ## A função utiliza o método wald_test dos resultados das regressões\n",
    "    # Para modelos de painel - cujo método usa a estatística LM -, devemos especificar o parâmetro 'formula', o que não ocorre com cortes transversais\n",
    "    try:\n",
    "        teste = 'LM'\n",
    "        est = Resultado.wald_test(formula=H0).stat\n",
    "        p = Resultado.wald_test(formula=H0).pval\n",
    "    except:\n",
    "        teste = 'F'\n",
    "        est = float(str(Resultado.wald_test(H0))[19:29])\n",
    "        p = float(str(Resultado.wald_test(H0))[36:47])\n",
    "\n",
    "    if Nivel_de_Significância > p:\n",
    "        print(f\"O valor de {teste} é {round(est,6)} e seu p-valor é {round(p,7)}.\\nPortanto, rejeita-se Ho à significância de {Nivel_de_Significância*100}%, ou seja, as variáveis são conjuntamente significantes.\")\n",
    "    else:\n",
    "        print(f\"O valor de {teste} é {round(est,6)} e seu p-valor é {round(p,7)}.\\nPortanto, NÃO se rejeita Ho à significância de {Nivel_de_Significância*100}%, ou seja, as variáveis NÃO são conjuntamente significantes.\")\n",
    "\n",
    "def Teste_t_Dois_Coeficientes_Iguais(x, y, Coeficientes_Testados_para_serem_iguais, Nivel_de_Significância = 0.05):\n",
    "    '''\n",
    "    Função que executa um teste t para verificar se dois coeficientes são iguais.\n",
    "\n",
    "    x: lista ou array com os valores das variáveis independentes;\n",
    "    y: lista ou array com os valores da variável dependente;\n",
    "    Coeficientes_Testados_para_serem_iguais: array com os valores dos coeficientes que querem ser testados;\n",
    "    Nivel_de_Significância: nível de significância do teste. Caso branco, o nível de significancia padrão é de 5%.\n",
    "    '''\n",
    "    \n",
    "    ##Fazendo a regressão do modelo irrestrito\n",
    "    Regressao_Multipla(x, y)\n",
    "    clear_output()\n",
    "\n",
    "    #Fazendo o objeto de lista que será usado no teste\n",
    "    Teste =[0]\n",
    "    Num_de_Variaveis = 1\n",
    "\n",
    "    for i in list(x):\n",
    "        if i not in list(Coeficientes_Testados_para_serem_iguais):\n",
    "            Teste.append(0)\n",
    "        elif (Num_de_Variaveis % 2 == 0):\n",
    "            Teste.append(-1)\n",
    "        else:\n",
    "            Teste.append(1)\n",
    "            Num_de_Variaveis += 1\n",
    "\n",
    "    Teste_t = Resultado.t_test(Teste)\n",
    "    print(f\"A estatística do teste é {Teste_t.tvalue}, o que resulta em um p-valor bilateral de {Teste_t.pvalue} e em um p-valor unilateral de {Teste_t.pvalue/2}.\")\n",
    "\n",
    "def Teste_Heteroscedasticidade_BP(x, y, constante = \"S\", Nivel_de_Significância = 0.05, Estatística = \"LM\"):\n",
    "    '''\n",
    "    Função que executa o teste de Breusch-Pagan para a heteroscedasticidade.\n",
    "\n",
    "    x: lista ou array com os valores das variáveis independentes;\n",
    "    y: lista ou array com os valores da variável dependente;\n",
    "    constante: \"S\" para regressão com intercepto e qualquer outro valor para sem intercepto. Caso em branco, a regressão é computada com intercepto;\n",
    "    Nivel_de_Significância: nível de significância do teste. Caso branco, o nível de significancia padrão é de 5%.\n",
    "    Estatística = LM ou F\n",
    "    '''\n",
    "    global Resultado \n",
    "\n",
    "    #Fazendo a regressão e limpando a tela\n",
    "    Regressao_Multipla(x,y,constante)\n",
    "    clear_output()\n",
    "\n",
    "    #Calculando o quadrado dos resíduos\n",
    "    Res_Quad = Resíduos**2\n",
    "\n",
    "    #Realizando o teste F ou LM de Res_Quad sobre as variaveis dependentes para ver se há correlação\n",
    "    if Estatística == \"LM\":\n",
    "        Teste_LM(x, Res_Quad, x, Nivel_de_Significância)\n",
    "        print(\"Ho: O erro é homoscedástico\")\n",
    "    else:\n",
    "        Teste_F(x, Res_Quad, x, Nivel_de_Significância)\n",
    "        print(\"Ho: O erro é homoscedástico\")\n",
    "\n",
    "def Teste_Heteroscedasticidade_White(modelo, constante = \"S\", Nivel_de_Significância = 0.05, Estatística = \"LM\"):\n",
    "    '''\n",
    "    Função que executa o teste de White (modificado por Wooldridge) para a heteroscedasticidade.\n",
    "\n",
    "    modelo: objeto do fit\n",
    "    constante: \"S\" para regressão com intercepto e qualquer outro valor para sem intercepto. Caso em branco, a regressão é computada com intercepto;\n",
    "    Nivel_de_Significância: nível de significância do teste. Caso branco, o nível de significancia padrão é de 5%.\n",
    "    Estatística: LM ou F\n",
    "    '''\n",
    "    global Resultado\n",
    "\n",
    "    ## Calculando o quadrado dos resíduos\n",
    "    try: # para objetos do sm\n",
    "        Res_Quad = Resultado.resid**2\n",
    "    except Exception: # para objetos do linearmodels\n",
    "        Res_Quad = Resultado.resids**2\n",
    "\n",
    "    #Calculando o quadrado dos valores previstos\n",
    "    Previstos = Resultado.predict()\n",
    "    Previstos2 = Previstos**2\n",
    "\n",
    "    #Criando um dataframe pra armazenar esses valores\n",
    "    dfy_y2 = pd.DataFrame({\"y\":Previstos,\"y2\":Previstos2})\n",
    "    y_y2 = dfy_y2[['y','y2']]\n",
    "\n",
    "    #Realizando o teste F ou LM de Res_Quad sobre y e y^2\n",
    "    if Estatística == \"LM\":\n",
    "        Teste_LM(y_y2, Res_Quad, y_y2, Nivel_de_Significância)\n",
    "        print(\"Ho: O erro é homoscedástico\")\n",
    "    else:\n",
    "        Teste_F(y_y2, Res_Quad, y_y2, Nivel_de_Significância)\n",
    "        print(\"Ho: O erro é homoscedástico\")\n",
    "\n",
    "def RESET(x, y, constante = \"S\", robusta = \"N\", Nivel_de_Significância = 0.05):\n",
    "    '''\n",
    "    Função que executa um teste RESET para verificar a adequação das formas funcionais.\n",
    "    Ho: o modelo está bem especificado.\n",
    "\n",
    "    x: lista ou array com os valores das variáveis independentes;\n",
    "    y: lista ou array com os valores da variável dependente;\n",
    "    constante: \"S\" para regressão com intercepto e qualquer outro valor para sem intercepto. Caso em branco, a regressão é computada com intercepto;\n",
    "    robusta: \"N\" para regressão com erros-padrão tradicionais e qualquer outro valor para erros-padrões robustos. Caso em branco, a regressão é computada com erros-padrão comuns;\n",
    "    Nivel_de_Significância: nível de significância do teste. Caso branco, o nível de significancia padrão é de 5%.\n",
    "    '''\n",
    "    #Fazendo uma regressão múltipla e limpando a tela\n",
    "    Regressao_Multipla(x, y, constante)\n",
    "    clear_output()\n",
    "\n",
    "    #Verificando o tipo da covariância selecionada\n",
    "    if robusta == \"N\":\n",
    "        tipo = 'nonrobust'\n",
    "    else:\n",
    "        tipo = 'HC1'\n",
    "\n",
    "    Teste = sm.stats.diagnostic.linear_reset(Resultado, power = 2, use_f = False, cov_type = tipo)\n",
    "    \n",
    "    if Teste.pvalue < Nivel_de_Significância:\n",
    "        print(f\"\"\"\n",
    "        O p-valor do teste foi de {np.around(Teste.pvalue,6)}, menor que o nível de significância de {Nivel_de_Significância*100}%.\\n\n",
    "        Assim, rejeita-se Ho (o modelo está MAL especificado).\"\"\"\n",
    "        )\n",
    "    else:\n",
    "        print(f\"\"\"\n",
    "        O p-valor do teste foi de {np.around(Teste.pvalue,6)}, maior que o nível de significância de {Nivel_de_Significância*100}%.\\n\n",
    "        Assim, não se rejeita Ho (o modelo NÃO está MAL especificado)\"\"\"\n",
    "        )\n",
    "\n",
    "def Teste_J_Davidson_MacKinnon(x1,x2, y, constante = \"S\", robusta = \"N\", Nivel_de_Significância = 0.05):\n",
    "    '''\n",
    "    Função que executa um teste J para verificar qual o modelo mais adequado (dentre os dois colocados).\n",
    "    Ho: o modelo 1 é preferível (ver o p-valor do último coeficiente).\n",
    "\n",
    "    x1: lista ou array com os valores das variáveis independentes do primeiro modelo;\n",
    "    x2: lista ou array com os valores das variáveis independentes do segundo modelo;\n",
    "    y: lista ou array com os valores da variável dependente;\n",
    "    constante: \"S\" para regressão com intercepto e qualquer outro valor para sem intercepto. Caso em branco, a regressão é computada com intercepto;\n",
    "    robusta: \"N\" para regressão com erros-padrão tradicionais e qualquer outro valor para erros-padrões robustos. Caso em branco, a regressão é computada com erros-padrão comuns;\n",
    "    Nivel_de_Significância: nível de significância do teste. Caso branco, o nível de significancia padrão é de 5%.\n",
    "    '''\n",
    "    \n",
    "    #Fazendo a regressão do segundo modelo\n",
    "    Regressao_Multipla(x2, y, constante, robusta)\n",
    "    clear_output()\n",
    "\n",
    "    #Criando um novo dataframe e adicionando os valores previstos do modelo 2 à x\n",
    "    Valores_Previstos_2 = pd.DataFrame({'Previsão M1':Lista_ychapeu})\n",
    "    x = pd.concat([x1, Valores_Previstos_2], axis=1, sort=False)\n",
    "\n",
    "    #Fazendo a regressão do primeiro modelo sobre x\n",
    "    Regressao_Multipla(x, y, constante, robusta)\n",
    "    clear_output()\n",
    "\n",
    "    #Pegando o p-valor do teste\n",
    "    P_valor = Resultado.pvalues[-1]\n",
    "\n",
    "    if P_valor < Nivel_de_Significância:\n",
    "        print(f\"\"\"\n",
    "        O p-valor do teste foi de {np.around(P_valor,6)}, menor que o nível de significância de {Nivel_de_Significância*100}%.\\n\n",
    "        Assim, rejeita-se Ho (ou seja, o modelo 2 ({list(x2)}) é mais bem especificado).\"\"\"\n",
    "        )\n",
    "    else:\n",
    "        print(f\"\"\"\n",
    "        O p-valor do teste foi de {np.around(P_valor,6)}, menor que o nível de significância de {Nivel_de_Significância*100}%.\\n\n",
    "        Assim, não se rejeita Ho (ou seja, o modelo 1 ({list(x1)}) é mais bem especificado).\"\"\"\n",
    "        )\n",
    "\n",
    "######### Funções de Dados em Painel #########\n",
    "def Arrumar_Painel():\n",
    "    '''\n",
    "    Função que transforma o painel num formato que o PanelOLS consegue ler (index multinível e coluna do tipo categoria para os anos)\n",
    "    '''\n",
    "    global df\n",
    "\n",
    "    # pedir a coluna com os indivíduos; se o nome for inválido, sair da função.\n",
    "    coluna_individuos = str(input('Qual o rótulo da coluna de indivíduos/clusters?\\n'))\n",
    "    if coluna_individuos not in df.columns:\n",
    "        print(\"Coluna de indivíduos/clusters não está no dataframe. Insira uma coluna válida e tente novamente!\")\n",
    "        return None\n",
    "    \n",
    "    # pedir a coluna com os períodos de tempo; se o valor for inválido, sair da função.\n",
    "    coluna_tempo = str(input('Qual o rótulo da coluna de tempo/observações dos clusters?\\n'))\n",
    "    if coluna_tempo not in df.columns:\n",
    "        print(\"Coluna de tempo/observações não está no dataframe. Insira uma coluna válida e tente novamente!\")\n",
    "        return None\n",
    "\n",
    "    ## arrumando o painel\n",
    "    periodos = pd.Categorical(df[coluna_tempo])\n",
    "    df = df.set_index([coluna_individuos,coluna_tempo])\n",
    "    df[coluna_tempo] = periodos\n",
    "    return df\n",
    "\n",
    "def Reg_Painel_Primeiras_Diferenças (x,y, cov = \"normal\"):\n",
    "    '''\n",
    "    Função que calcula uma regressão de primeiras diferenças SEM um intercepto, sendo, por default, computada com erros padrões não robustos.\n",
    "    Para calcular a regressão com um intercepto, ver o notebook \"Cap 13 e 14\".\n",
    "    **IMPORTANTE: para o painel estar arrumado, os dados devem estar multi-indexados por indíviduo e por tempo, nesta ordem.\n",
    "    Caso contrário, transformar o dataframe usando a função 'Arrumar Painel'\n",
    "    x: lista ou array com os valores das variáveis independentes;\n",
    "    y: lista ou array com os valores da variável dependente;\n",
    "    cov: \"normal\" para regressão com erros-padrão tradicionais (caso padrão);\n",
    "        \"robust\" para erros-padrões robustos.\n",
    "        \"cluster\" para erros-padrões clusterizados\n",
    "    '''\n",
    "    global df, Resultado\n",
    "\n",
    "    Modelo = FirstDifferenceOLS(y, x)\n",
    "\n",
    "    if cov == \"robust\":\n",
    "        Resultado = Modelo.fit(cov_type = 'robust')\n",
    "    elif cov == 'kernel': ## correlação robusta à heteroscedasticidade e autocorrelação serial\n",
    "        Resultado = Modelo.fit(cov_type = 'kernel')\n",
    "    elif cov == 'clustered' or cov == 'cluster':\n",
    "        Resultado = Modelo.fit(cov_type = 'clustered', cluster_entity = True)\n",
    "    else:\n",
    "        Resultado = Modelo.fit()\n",
    "\n",
    "    print(Resultado)\n",
    "\n",
    "def Reg_Painel_Efeitos_Fixos(x, y, constante = \"S\", cov='normal'):\n",
    "    '''\n",
    "    Função que calcula uma regressão de efeitos fixos, sendo, por default, computada com um intercepto e com erros padrões não robustos.\n",
    "    **IMPORTANTE: para o painel estar arrumado, os dados devem estar multi-indexados por indíviduo e por tempo, nesta ordem.\n",
    "    Caso contrário, transformar o dataframe usando a função 'Arrumar Painel'\n",
    "    x: lista ou array com os valores das variáveis independentes;\n",
    "    y: lista ou array com os valores da variável dependente;\n",
    "    constante: \"S\" para regressão com intercepto e qualquer outro valor para sem intercepto. Caso em branco, a regressão é computada com intercepto;\n",
    "    cov: \"normal\" para regressão com erros-padrão tradicionais (caso padrão);\n",
    "        \"robust\" para erros-padrões robustos.\n",
    "        \"cluster\" ou \"clustered\" para erros-padrões clusterizados\n",
    "    '''\n",
    "    global df, Resultado\n",
    "    \n",
    "    # formando o vetor de variáveis independentes\n",
    "    if constante == \"S\":\n",
    "        X = sm.add_constant(x)\n",
    "    else:\n",
    "        X = x\n",
    "    \n",
    "    #Criando o Modelo levando em conta a opção dos erros padrão\n",
    "    Modelo = PanelOLS(y,X, entity_effects=True, drop_absorbed=True)\n",
    "\n",
    "    if cov == \"robust\":\n",
    "        Resultado = Modelo.fit(cov_type = 'robust')\n",
    "    elif cov == 'kernel': ## correlação robusta à heteroscedasticidade e autocorrelação serial\n",
    "        Resultado = Modelo.fit(cov_type = 'kernel')\n",
    "    elif cov == 'clustered' or cov == 'cluster':\n",
    "        Resultado = Modelo.fit(cov_type = 'clustered', cluster_entity = True)\n",
    "    else:\n",
    "        Resultado = Modelo.fit()\n",
    "\n",
    "    print(Resultado)\n",
    "\n",
    "def Reg_Painel_MQO_Agrupado(x, y, constante = \"S\", cov = \"normal\"):\n",
    "    '''\n",
    "    Função que calcula uma regressão por MQO agrupado, sendo, por default, computada com um intercepto e com erros padrões  robustos.\n",
    "    **IMPORTANTE: para o painel estar arrumado, os dados devem estar multi-indexados por indíviduo e por tempo, nesta ordem.\n",
    "    Caso contrário, transformar o dataframe usando a função 'Arrumar Painel'\n",
    "    x: lista ou array com os valores das variáveis independentes;\n",
    "    y: lista ou array com os valores da variável dependente;\n",
    "    constante: \"S\" para regressão com intercepto e qualquer outro valor para sem intercepto. Caso em branco, a regressão é computada com intercepto;\n",
    "    cov: \"normal\" para regressão com erros-padrão tradicionais (caso padrão);\n",
    "        \"robust\" para erros-padrões robustos.\n",
    "        \"cluster\" ou \"clustered\" para erros-padrões clusterizados\n",
    "    '''\n",
    "    global df, Resultado\n",
    "    \n",
    "    # formando o vetor de variáveis independentes\n",
    "    if constante == \"S\":\n",
    "        X = sm.add_constant(x)\n",
    "    else:\n",
    "        X = x\n",
    "    \n",
    "    #Criando o Modelo levando em conta a opção do erro padrão\n",
    "    Modelo = PooledOLS(y,X)\n",
    "\n",
    "    if cov == \"robust\":\n",
    "        Resultado = Modelo.fit(cov_type = 'robust')\n",
    "    elif cov == 'kernel': ## correlação robusta à heteroscedasticidade e autocorrelação serial\n",
    "        Resultado = Modelo.fit(cov_type = 'kernel')\n",
    "    elif cov == 'clustered' or cov == 'cluster':\n",
    "        Resultado = Modelo.fit(cov_type = 'clustered', cluster_entity = True)\n",
    "    else:\n",
    "        Resultado = Modelo.fit()\n",
    "    print(Resultado)\n",
    "\n",
    "def Reg_Painel_Efeitos_Aleatórios(x, y, constante = \"S\", cov = \"normal\"):\n",
    "    '''\n",
    "    Função que calcula uma regressão de efeitos fixos, sendo, por default, computada com um intercepto e com erros padrões  robustos.\n",
    "    **IMPORTANTE: para o painel estar arrumado, os dados devem estar multi-indexados por indíviduo e por tempo, nesta ordem.\n",
    "    Caso contrário, transformar o dataframe usando a função 'Arrumar Painel'\n",
    "    x: lista ou array com os valores das variáveis independentes;\n",
    "    y: lista ou array com os valores da variável dependente;\n",
    "    constante: \"S\" para regressão com intercepto e qualquer outro valor para sem intercepto. Caso em branco, a regressão é computada com intercepto;\n",
    "    robusta: \"N\" para regressão com erros-padrão tradicionais e qualquer outro valor para erros-padrões robustos. Caso em branco, a regressão é computada com erros-padrão robustos.\n",
    "    '''\n",
    "    global df, Resultado\n",
    "    \n",
    "    # formando o vetor de variáveis independentes\n",
    "    if constante == \"S\":\n",
    "        X = sm.add_constant(x)\n",
    "    else:\n",
    "        X = x\n",
    "    \n",
    "    #Criando o Modelo\n",
    "    Modelo = RandomEffects(y,X)\n",
    "    if cov == \"robust\":\n",
    "        Resultado = Modelo.fit(cov_type = 'robust')\n",
    "    elif cov == 'kernel': ## correlação robusta à heteroscedasticidade e autocorrelação serial\n",
    "        Resultado = Modelo.fit(cov_type = 'kernel')\n",
    "    elif cov == 'clustered' or cov == 'cluster':\n",
    "        Resultado = Modelo.fit(cov_type = 'clustered', cluster_entity = True)\n",
    "    else:\n",
    "        Resultado = Modelo.fit()\n",
    "    print(Resultado)\n",
    "\n",
    "def hausman_EF_EA(x_inef, y, Nivel_de_Significância = 0.05):\n",
    "    '''\n",
    "    Função que faz um teste de Hausman, em que H0: Não há correlação entre os efeitos não-observados e as variáveis explicativas\n",
    "    x_inef: variáveis explicativas do modelo ineficiente sob H0 (EF);\n",
    "    y: variável explicativa\n",
    "    '''\n",
    "    ## Fazendo a regressão de efeitos fixos e guardando o resultado\n",
    "    Reg_Painel_Efeitos_Fixos(x_inef,y)\n",
    "    clear_output()\n",
    "    fixed = Resultado\n",
    "\n",
    "    ## Fazendo a regressão de efeitos aleatórios e guardando o resultado\n",
    "    Reg_Painel_Efeitos_Aleatórios(x_inef,y)\n",
    "    clear_output()\n",
    "    random = Resultado\n",
    "\n",
    "    ## Calculando a estatística de Hausman\n",
    "    # calculando a diferença entre os parametros e a variância assíntótica da diferença entre os parametros\n",
    "    var_assin = fixed.cov - random.cov\n",
    "    d = fixed.params - random.params\n",
    "    \n",
    "    # calculando H\n",
    "    H = d.dot(np.linalg.inv(var_assin)).dot(d)\n",
    "    # calculando os graus de liberdade\n",
    "    gl = random.params.size -1\n",
    "    # Calculando o P-valor do teste\n",
    "    p = stats.chi2(gl).sf(H)\n",
    "\n",
    "    if p < Nivel_de_Significância:\n",
    "        print(f\"O valor de H é {round(H,6)} com {gl} graus de liberdade na distribuição chi2. O p-valor do teste é {round(p,6)} e, portanto, se rejeita H0 e prefere-se o modelo de efeitos fixos.\")\n",
    "    else:\n",
    "        print(f\"O valor de H é {round(H,6)} com {gl} graus de liberdade na distribuição chi2. O p-valor do teste é {round(p,6)} e, portanto, não se rejeita H0 e prefere-se o modelo de efeitos aleatórios.\")\n",
    "\n",
    "def Regressao_IV_MQ2E(exog, endog, instrumentos, y, constante=\"S\",cov='normal'):\n",
    "    global df, Resultado\n",
    "    ## formando o vetor de variáveis exógenas\n",
    "    if constante == \"S\":\n",
    "        try:\n",
    "            exog = sm.add_constant(exog)\n",
    "        except Exception: ## se não houver exógenas no modelo\n",
    "            #criando um vetor de uns com o mesmo número de observações da variável endógena\n",
    "            exog = np.resize([1],endog.shape[0]) \n",
    "            # renomeando para const\n",
    "            exog = pd.DataFrame({'const':exog})\n",
    "    else:\n",
    "        exog = exog\n",
    "    \n",
    "    ## criando o modelo levando em conta a opção de covariância\n",
    "    Modelo = IV2SLS(y,exog,endog,instrumentos)\n",
    "    if cov == \"robust\":\n",
    "        Resultado = Modelo.fit(cov_type = 'robust')\n",
    "    elif cov == 'kernel': ## correlação robusta à heteroscedasticidade e autocorrelação serial\n",
    "        Resultado = Modelo.fit(cov_type = 'kernel')\n",
    "    elif cov == 'clustered' or cov == 'cluster':\n",
    "        Resultado = Modelo.fit(cov_type = 'clustered', cluster_entity = True)\n",
    "    else:\n",
    "        Resultado = Modelo.fit(cov_type='unadjusted')\n",
    "    \n",
    "    print(Resultado)\n",
    "    print(\"\\nPara ver os resultados do 1º estágio/equação reduzida (e ver se os instrumentos são relevantes com o Partial P-Value, chame 'Resultado.first_stage'.\")\n",
    "    print(\"\\nPara testar a exogeneidade da variável instrumentada, chame 'Resultado.wooldridge_regression' ou 'Resultado.wooldridge_score' ou 'Resultado.wu_hausman([variaveis])'.\")\n",
    "    print(\"\\nPara testar a exogeneidade dos instrumentos (quando eles forem mais numerosos que as variáveis endógenas (restrições sobreidentificadoras)), chame 'Resultado.wooldridge_overid', onde Ho: todos os instrumentos são exógenos.\\n\")\n",
    "\n",
    "def equation(sep_erros= \"(\"):\n",
    "    '''\n",
    "    Função que gera uma equação formatada do word\n",
    "    '''\n",
    "    ## Fazendo a str que irá pro word (em forma de matriz)\n",
    "    inicio = \"\\matrix{\"\n",
    "    fim = \"}\"\n",
    "\n",
    "    ## capturando os parametros, p-valores e os erros\n",
    "    params = dict(np.around(Resultado.params,3))\n",
    "    p_values = dict(np.around(Resultado.pvalues,4))\n",
    "\n",
    "    ## linearmodels usa .std_erros para capturar os erros padrão, sm usa .bse\n",
    "    try:\n",
    "        std_errors = dict(np.around(Resultado.std_errors,4))\n",
    "    except Exception:\n",
    "        std_errors = dict(np.around(Resultado.bse,4))\n",
    "    \n",
    "    ## capturando as variáveis independentes indexadas por seu numero\n",
    "    enum_params = dict(enumerate(params.keys()))\n",
    "    enum_params = {value:key for key, value in enum_params.items()}\n",
    "    \n",
    "    ## pegando o nome da variável dependente\n",
    "        # linearmodels usa model.dependent.dataframe.columns[0] para modelos de painel \n",
    "        # e model.dependent.cols para modelos de IV;\n",
    "        # sm usa model.endog_names\n",
    "    try:\n",
    "        try: # modelos de painel\n",
    "            y = Resultado.model.dependent.dataframe.columns[0]\n",
    "        except Exception: # modelos de IV 2SLS\n",
    "            y = Resultado.model.dependent.pandas.columns[0]\n",
    "    except Exception: # modelos comuns\n",
    "        y = Resultado.model.endog_names\n",
    "    \n",
    "    ## criando uma lista com ints até o número de linhas definido pelo usuário\n",
    "    # temos que nos lembrar que no word só cabe ≈ 4 parâmetros por linha\n",
    "        # math.ceil arredonda para cima; o + 1 é por conta de o python não considerar range como um intervalo fechado superiormente\n",
    "    breaks = [4*num for num in range (1,math.ceil(len(Resultado.params)/4) + 1)]\n",
    "\n",
    "    ## fazendo o loop para pegar os coeficientes*nome das variáveis e os seus erros-padrão entre o separador de erros\n",
    "    parametros = \"\"\n",
    "    erros = \"\"\n",
    "    # criando o início da string, com o identificador de matriz, o nome de y e o sinal de = \n",
    "    word = f\"{inicio}{y} & = &\"\n",
    "    # loop compllicado: pra cada variável dependente, queremos checar se ela é a 5a, 9a...\n",
    "        # caso seja, adicionamos a string criada até então e resetamos os parametros e erros, continuando o processo\n",
    "        # caso não seja, o processo é realizado normalmente\n",
    "    for i in params.keys():\n",
    "        if enum_params[i] in breaks: # se for a 5a, 9a, 13a...\n",
    "            ## adicionando os parametros e erros à matriz e resetando seu valores\n",
    "            word += f\"{parametros} \\\\\\ & {erros} \\\\\\ & \"\n",
    "            parametros = \"\"\n",
    "            erros = \"\"\n",
    "\n",
    "            # levando em conta a chave escolhida pelo usuário\n",
    "            if sep_erros == \"(\":\n",
    "                erros += f\" & ({std_errors[i]})\"\n",
    "            else:\n",
    "                erros += f\" & [{std_errors[i]}]\"\n",
    "            # fazendo a string dos parâmetros:\n",
    "                # *: p<0.1; **: p<0.05; ***: p<0.01\n",
    "            if i != 'const':\n",
    "                p = p_values[i]\n",
    "                if params[i] > 0:\n",
    "                    if p > 0.1:\n",
    "                        parametros += f\" & + {params[i]}{i}\"\n",
    "                    elif p < 0.01:\n",
    "                        parametros += f\" & + {params[i]}{i}^{{***}}\"\n",
    "                    elif p < 0.05:\n",
    "                        parametros += f\" & + {params[i]}{i}^{{**}}\"\n",
    "                    else:\n",
    "                        parametros += f\" & + {params[i]}{i}^{{*}}\"\n",
    "                else:\n",
    "                    if p > 0.1:\n",
    "                        parametros += f\" & - {-params[i]}{i}\"\n",
    "                    elif p < 0.01:\n",
    "                        parametros += f\" & - {-params[i]}{i}^{{***}}\"\n",
    "                    elif p < 0.05:\n",
    "                        parametros += f\" & - {-params[i]}{i}^{{**}}\"\n",
    "                    else:\n",
    "                        parametros += f\" & - {-params[i]}{i}^{{*}}\"\n",
    "            else:\n",
    "                parametros += f\"{params[i]}\"\n",
    "        else: # se não for a última variável independente da linha\n",
    "            # levando em conta a chave escolhida pelo usuário\n",
    "            if sep_erros == \"(\":\n",
    "                erros += f\" & ({std_errors[i]})\"\n",
    "            else:\n",
    "                erros += f\" & [{std_errors[i]}]\"\n",
    "            # fazendo a string dos parâmetros:\n",
    "                # *: p<0.1; **: p<0.05; ***: p<0.01\n",
    "            if i != 'const':\n",
    "                p = p_values[i]\n",
    "                if params[i] > 0:\n",
    "                    if p > 0.1:\n",
    "                        parametros += f\" & + {params[i]}{i}\"\n",
    "                    elif p < 0.01:\n",
    "                        parametros += f\" & + {params[i]}{i}^{{***}}\"\n",
    "                    elif p < 0.05:\n",
    "                        parametros += f\" & + {params[i]}{i}^{{**}}\"\n",
    "                    else:\n",
    "                        parametros += f\" & + {params[i]}{i}^{{*}}\"\n",
    "                else:\n",
    "                    if p > 0.1:\n",
    "                        parametros += f\" & - {-params[i]}{i}\"\n",
    "                    elif p < 0.01:\n",
    "                        parametros += f\" & - {-params[i]}{i}^{{***}}\"\n",
    "                    elif p < 0.05:\n",
    "                        parametros += f\" & - {-params[i]}{i}^{{**}}\"\n",
    "                    else:\n",
    "                        parametros += f\" & - {-params[i]}{i}^{{*}}\"\n",
    "            else:\n",
    "                parametros += f\"{params[i]}\"\n",
    "\n",
    "    ## adicionando os termos residuais e fechando a sintaxe da matriz\n",
    "    word += f\"{parametros} \\\\\\ & {erros}\"\n",
    "    word += fim\n",
    "\n",
    "    ## Adicionando o numero de obs e os r2 (quando rsquared_adj estiver disponível)\n",
    "    try:\n",
    "        word += f\"\\nn = {int(Resultado.nobs)}; R^2 = {np.around(Resultado.rsquared,4)}; \\\\bar{{R^2}} = {np.around(Resultado.rsquared_adj,4)}\"\n",
    "    except Exception:\n",
    "        word += f\"\\nn = {int(Resultado.nobs)}; R^2 = {np.around(Resultado.rsquared,4)}\"\n",
    "\n",
    "    ## adicionando a explicação dos p-valores\n",
    "    word += \"\\n^* p<0.1; ^{**} p<0.05; ^{***} p<0.01\"\n",
    "    ## substituindo os . por ,\n",
    "    word = word.replace(\".\",\",\")\n",
    "    \n",
    "    ## copiando para o clipboard e printando o sucesso\n",
    "    subprocess.run(\"pbcopy\", universal_newlines=True, input=word)\n",
    "    print(\"O código da equação foi copiado para o clipboard!\")"
   ]
  },
  {
   "source": [
    "## Exemplos 16.3 e 16.5"
   ],
   "cell_type": "markdown",
   "metadata": {}
  },
  {
   "cell_type": "code",
   "execution_count": 2,
   "metadata": {},
   "outputs": [
    {
     "output_type": "stream",
     "name": "stdout",
     "text": [
      "MROZ.dta foi lido com sucesso!\n"
     ]
    },
    {
     "output_type": "execute_result",
     "data": {
      "text/plain": [
       "     inlf  hours  kidslt6  kidsge6  age  educ    wage  repwage  hushrs  \\\n",
       "0       1   1610        1        0   32    12  3.3540     2.65    2708   \n",
       "1       1   1656        0        2   30    12  1.3889     2.65    2310   \n",
       "2       1   1980        1        3   35    12  4.5455     4.04    3072   \n",
       "3       1    456        0        3   34    12  1.0965     3.25    1920   \n",
       "4       1   1568        1        2   31    14  4.5918     3.60    2000   \n",
       "..    ...    ...      ...      ...  ...   ...     ...      ...     ...   \n",
       "748     0      0        0        2   40    13     NaN     0.00    3020   \n",
       "749     0      0        2        3   31    12     NaN     0.00    2056   \n",
       "750     0      0        0        0   43    12     NaN     0.00    2383   \n",
       "751     0      0        0        0   60    12     NaN     0.00    1705   \n",
       "752     0      0        0        3   39     9     NaN     0.00    3120   \n",
       "\n",
       "     husage  ...   faminc     mtr  motheduc  fatheduc  unem  city  exper  \\\n",
       "0        34  ...  16310.0  0.7215        12         7   5.0     0     14   \n",
       "1        30  ...  21800.0  0.6615         7         7  11.0     1      5   \n",
       "2        40  ...  21040.0  0.6915        12         7   5.0     0     15   \n",
       "3        53  ...   7300.0  0.7815         7         7   5.0     0      6   \n",
       "4        32  ...  27300.0  0.6215        12        14   9.5     1      7   \n",
       "..      ...  ...      ...     ...       ...       ...   ...   ...    ...   \n",
       "748      43  ...  28200.0  0.6215        10        10   9.5     1      5   \n",
       "749      33  ...  10000.0  0.7715        12        12   7.5     0     14   \n",
       "750      43  ...   9952.0  0.7515        10         3   7.5     0      4   \n",
       "751      55  ...  24984.0  0.6215        12        12  14.0     1     15   \n",
       "752      48  ...  28363.0  0.6915         7         7  11.0     1     12   \n",
       "\n",
       "      nwifeinc     lwage  expersq  \n",
       "0    10.910060  1.210154      196  \n",
       "1    19.499981  0.328512       25  \n",
       "2    12.039910  1.514138      225  \n",
       "3     6.799996  0.092123       36  \n",
       "4    20.100058  1.524272       49  \n",
       "..         ...       ...      ...  \n",
       "748  28.200001       NaN       25  \n",
       "749  10.000000       NaN      196  \n",
       "750   9.952000       NaN       16  \n",
       "751  24.983999       NaN      225  \n",
       "752  28.363001       NaN      144  \n",
       "\n",
       "[753 rows x 22 columns]"
      ],
      "text/html": "<div>\n<style scoped>\n    .dataframe tbody tr th:only-of-type {\n        vertical-align: middle;\n    }\n\n    .dataframe tbody tr th {\n        vertical-align: top;\n    }\n\n    .dataframe thead th {\n        text-align: right;\n    }\n</style>\n<table border=\"1\" class=\"dataframe\">\n  <thead>\n    <tr style=\"text-align: right;\">\n      <th></th>\n      <th>inlf</th>\n      <th>hours</th>\n      <th>kidslt6</th>\n      <th>kidsge6</th>\n      <th>age</th>\n      <th>educ</th>\n      <th>wage</th>\n      <th>repwage</th>\n      <th>hushrs</th>\n      <th>husage</th>\n      <th>...</th>\n      <th>faminc</th>\n      <th>mtr</th>\n      <th>motheduc</th>\n      <th>fatheduc</th>\n      <th>unem</th>\n      <th>city</th>\n      <th>exper</th>\n      <th>nwifeinc</th>\n      <th>lwage</th>\n      <th>expersq</th>\n    </tr>\n  </thead>\n  <tbody>\n    <tr>\n      <th>0</th>\n      <td>1</td>\n      <td>1610</td>\n      <td>1</td>\n      <td>0</td>\n      <td>32</td>\n      <td>12</td>\n      <td>3.3540</td>\n      <td>2.65</td>\n      <td>2708</td>\n      <td>34</td>\n      <td>...</td>\n      <td>16310.0</td>\n      <td>0.7215</td>\n      <td>12</td>\n      <td>7</td>\n      <td>5.0</td>\n      <td>0</td>\n      <td>14</td>\n      <td>10.910060</td>\n      <td>1.210154</td>\n      <td>196</td>\n    </tr>\n    <tr>\n      <th>1</th>\n      <td>1</td>\n      <td>1656</td>\n      <td>0</td>\n      <td>2</td>\n      <td>30</td>\n      <td>12</td>\n      <td>1.3889</td>\n      <td>2.65</td>\n      <td>2310</td>\n      <td>30</td>\n      <td>...</td>\n      <td>21800.0</td>\n      <td>0.6615</td>\n      <td>7</td>\n      <td>7</td>\n      <td>11.0</td>\n      <td>1</td>\n      <td>5</td>\n      <td>19.499981</td>\n      <td>0.328512</td>\n      <td>25</td>\n    </tr>\n    <tr>\n      <th>2</th>\n      <td>1</td>\n      <td>1980</td>\n      <td>1</td>\n      <td>3</td>\n      <td>35</td>\n      <td>12</td>\n      <td>4.5455</td>\n      <td>4.04</td>\n      <td>3072</td>\n      <td>40</td>\n      <td>...</td>\n      <td>21040.0</td>\n      <td>0.6915</td>\n      <td>12</td>\n      <td>7</td>\n      <td>5.0</td>\n      <td>0</td>\n      <td>15</td>\n      <td>12.039910</td>\n      <td>1.514138</td>\n      <td>225</td>\n    </tr>\n    <tr>\n      <th>3</th>\n      <td>1</td>\n      <td>456</td>\n      <td>0</td>\n      <td>3</td>\n      <td>34</td>\n      <td>12</td>\n      <td>1.0965</td>\n      <td>3.25</td>\n      <td>1920</td>\n      <td>53</td>\n      <td>...</td>\n      <td>7300.0</td>\n      <td>0.7815</td>\n      <td>7</td>\n      <td>7</td>\n      <td>5.0</td>\n      <td>0</td>\n      <td>6</td>\n      <td>6.799996</td>\n      <td>0.092123</td>\n      <td>36</td>\n    </tr>\n    <tr>\n      <th>4</th>\n      <td>1</td>\n      <td>1568</td>\n      <td>1</td>\n      <td>2</td>\n      <td>31</td>\n      <td>14</td>\n      <td>4.5918</td>\n      <td>3.60</td>\n      <td>2000</td>\n      <td>32</td>\n      <td>...</td>\n      <td>27300.0</td>\n      <td>0.6215</td>\n      <td>12</td>\n      <td>14</td>\n      <td>9.5</td>\n      <td>1</td>\n      <td>7</td>\n      <td>20.100058</td>\n      <td>1.524272</td>\n      <td>49</td>\n    </tr>\n    <tr>\n      <th>...</th>\n      <td>...</td>\n      <td>...</td>\n      <td>...</td>\n      <td>...</td>\n      <td>...</td>\n      <td>...</td>\n      <td>...</td>\n      <td>...</td>\n      <td>...</td>\n      <td>...</td>\n      <td>...</td>\n      <td>...</td>\n      <td>...</td>\n      <td>...</td>\n      <td>...</td>\n      <td>...</td>\n      <td>...</td>\n      <td>...</td>\n      <td>...</td>\n      <td>...</td>\n      <td>...</td>\n    </tr>\n    <tr>\n      <th>748</th>\n      <td>0</td>\n      <td>0</td>\n      <td>0</td>\n      <td>2</td>\n      <td>40</td>\n      <td>13</td>\n      <td>NaN</td>\n      <td>0.00</td>\n      <td>3020</td>\n      <td>43</td>\n      <td>...</td>\n      <td>28200.0</td>\n      <td>0.6215</td>\n      <td>10</td>\n      <td>10</td>\n      <td>9.5</td>\n      <td>1</td>\n      <td>5</td>\n      <td>28.200001</td>\n      <td>NaN</td>\n      <td>25</td>\n    </tr>\n    <tr>\n      <th>749</th>\n      <td>0</td>\n      <td>0</td>\n      <td>2</td>\n      <td>3</td>\n      <td>31</td>\n      <td>12</td>\n      <td>NaN</td>\n      <td>0.00</td>\n      <td>2056</td>\n      <td>33</td>\n      <td>...</td>\n      <td>10000.0</td>\n      <td>0.7715</td>\n      <td>12</td>\n      <td>12</td>\n      <td>7.5</td>\n      <td>0</td>\n      <td>14</td>\n      <td>10.000000</td>\n      <td>NaN</td>\n      <td>196</td>\n    </tr>\n    <tr>\n      <th>750</th>\n      <td>0</td>\n      <td>0</td>\n      <td>0</td>\n      <td>0</td>\n      <td>43</td>\n      <td>12</td>\n      <td>NaN</td>\n      <td>0.00</td>\n      <td>2383</td>\n      <td>43</td>\n      <td>...</td>\n      <td>9952.0</td>\n      <td>0.7515</td>\n      <td>10</td>\n      <td>3</td>\n      <td>7.5</td>\n      <td>0</td>\n      <td>4</td>\n      <td>9.952000</td>\n      <td>NaN</td>\n      <td>16</td>\n    </tr>\n    <tr>\n      <th>751</th>\n      <td>0</td>\n      <td>0</td>\n      <td>0</td>\n      <td>0</td>\n      <td>60</td>\n      <td>12</td>\n      <td>NaN</td>\n      <td>0.00</td>\n      <td>1705</td>\n      <td>55</td>\n      <td>...</td>\n      <td>24984.0</td>\n      <td>0.6215</td>\n      <td>12</td>\n      <td>12</td>\n      <td>14.0</td>\n      <td>1</td>\n      <td>15</td>\n      <td>24.983999</td>\n      <td>NaN</td>\n      <td>225</td>\n    </tr>\n    <tr>\n      <th>752</th>\n      <td>0</td>\n      <td>0</td>\n      <td>0</td>\n      <td>3</td>\n      <td>39</td>\n      <td>9</td>\n      <td>NaN</td>\n      <td>0.00</td>\n      <td>3120</td>\n      <td>48</td>\n      <td>...</td>\n      <td>28363.0</td>\n      <td>0.6915</td>\n      <td>7</td>\n      <td>7</td>\n      <td>11.0</td>\n      <td>1</td>\n      <td>12</td>\n      <td>28.363001</td>\n      <td>NaN</td>\n      <td>144</td>\n    </tr>\n  </tbody>\n</table>\n<p>753 rows × 22 columns</p>\n</div>"
     },
     "metadata": {},
     "execution_count": 2
    }
   ],
   "source": [
    "coletar_dados('MROZ')"
   ]
  },
  {
   "cell_type": "code",
   "execution_count": 3,
   "metadata": {},
   "outputs": [
    {
     "output_type": "stream",
     "name": "stdout",
     "text": [
      "                          IV-2SLS Estimation Summary                          \n",
      "==============================================================================\n",
      "Dep. Variable:                  hours   R-squared:                     -2.0076\n",
      "Estimator:                    IV-2SLS   Adj. R-squared:                -2.0433\n",
      "No. Observations:                 428   F-statistic:                    17.450\n",
      "Date:                Mon, Apr 05 2021   P-value (F-stat)                0.0037\n",
      "Time:                        22:14:37   Distribution:                  chi2(5)\n",
      "Cov. Estimator:            unadjusted                                         \n",
      "                                                                              \n",
      "                             Parameter Estimates                              \n",
      "==============================================================================\n",
      "            Parameter  Std. Err.     T-stat    P-value    Lower CI    Upper CI\n",
      "------------------------------------------------------------------------------\n",
      "const          2225.7     570.52     3.9011     0.0001      1107.5      3343.9\n",
      "educ          -183.75     58.684    -3.1312     0.0017     -298.77     -68.733\n",
      "age           -7.8061     9.3120    -0.8383     0.4019     -26.057      10.445\n",
      "kidslt6       -198.15     181.64    -1.0909     0.2753     -554.17      157.86\n",
      "nwifeinc      -10.170     6.5682    -1.5483     0.1215     -23.043      2.7039\n",
      "lwage          1639.6     467.27     3.5088     0.0005      723.73      2555.4\n",
      "==============================================================================\n",
      "\n",
      "Endogenous: lwage\n",
      "Instruments: exper, expersq\n",
      "Unadjusted Covariance (Homoskedastic)\n",
      "Debiased: False\n",
      "\n",
      "Para ver os resultados do 1º estágio/equação reduzida (e ver se os instrumentos são relevantes com o Partial P-Value, chame 'Resultado.first_stage'.\n",
      "\n",
      "Para testar a exogeneidade da variável instrumentada, chame 'Resultado.wooldridge_regression' ou 'Resultado.wooldridge_score' ou 'Resultado.wu_hausman([variaveis])'.\n",
      "\n",
      "Para testar a exogeneidade dos instrumentos (quando eles forem mais numerosos que as variáveis endógenas (restrições sobreidentificadoras)), chame 'Resultado.wooldridge_overid', onde Ho: todos os instrumentos são exógenos.\n",
      "\n",
      "/Users/vinicius/opt/anaconda3/envs/myenv/lib/python3.7/site-packages/linearmodels/shared/exceptions.py:35: MissingValueWarning:\n",
      "\n",
      "\n",
      "Inputs contain missing values. Dropping rows with missing observations.\n",
      "\n"
     ]
    }
   ],
   "source": [
    "## estimando lwage com MQ2E\n",
    "exog = df[['educ','age','kidslt6','nwifeinc']]\n",
    "endog = df[['lwage']]\n",
    "instrumentos = df[['exper','expersq']]\n",
    "y = df['hours']\n",
    "\n",
    "Regressao_IV_MQ2E(exog=exog, endog=endog, instrumentos=instrumentos, y=y)"
   ]
  },
  {
   "cell_type": "code",
   "execution_count": 4,
   "metadata": {},
   "outputs": [
    {
     "output_type": "execute_result",
     "data": {
      "text/plain": [
       "    First Stage Estimation Results    \n",
       "======================================\n",
       "                                 lwage\n",
       "--------------------------------------\n",
       "R-squared                       0.1633\n",
       "Partial R-squared               0.0424\n",
       "Shea's R-squared                0.0424\n",
       "Partial F-statistic             18.969\n",
       "P-value (Partial F-stat)     7.602e-05\n",
       "Partial F-stat Distn           chi2(2)\n",
       "========================== ===========\n",
       "const                          -0.4472\n",
       "                             (-1.5809)\n",
       "educ                            0.1011\n",
       "                              (6.8139)\n",
       "age                            -0.0026\n",
       "                             (-0.4964)\n",
       "kidslt6                        -0.0532\n",
       "                             (-0.6067)\n",
       "nwifeinc                        0.0056\n",
       "                              (1.6935)\n",
       "exper                           0.0419\n",
       "                              (3.1887)\n",
       "expersq                        -0.0008\n",
       "                             (-1.9183)\n",
       "--------------------------------------\n",
       "\n",
       "T-stats reported in parentheses\n",
       "T-stats use same covariance type as original model\n",
       "FirstStageResults, id: 0x7f947bb37890"
      ],
      "text/html": "<table class=\"simpletable\">\n<caption>First Stage Estimation Results</caption>\n<tr>\n               <td></td>                 <th>lwage</th>   \n</tr>\n<tr>\n  <th>R-squared</th>                    <td>0.1633</td>   \n</tr>\n<tr>\n  <th>Partial R-squared</th>            <td>0.0424</td>   \n</tr>\n<tr>\n  <th>Shea's R-squared</th>             <td>0.0424</td>   \n</tr>\n<tr>\n  <th>Partial F-statistic</th>          <td>18.969</td>   \n</tr>\n<tr>\n  <th>P-value (Partial F-stat)</th>    <td>7.602e-05</td> \n</tr>\n<tr>\n  <th>Partial F-stat Distn</th>         <td>chi2(2)</td>  \n</tr>\n<tr>\n  <th>==========================</th> <td>===========</td>\n</tr>\n<tr>\n  <th>const</th>                        <td>-0.4472</td>  \n</tr>\n<tr>\n  <th></th>                            <td>(-1.5809)</td> \n</tr>\n<tr>\n  <th>educ</th>                         <td>0.1011</td>   \n</tr>\n<tr>\n  <th></th>                            <td>(6.8139)</td>  \n</tr>\n<tr>\n  <th>age</th>                          <td>-0.0026</td>  \n</tr>\n<tr>\n  <th></th>                            <td>(-0.4964)</td> \n</tr>\n<tr>\n  <th>kidslt6</th>                      <td>-0.0532</td>  \n</tr>\n<tr>\n  <th></th>                            <td>(-0.6067)</td> \n</tr>\n<tr>\n  <th>nwifeinc</th>                     <td>0.0056</td>   \n</tr>\n<tr>\n  <th></th>                            <td>(1.6935)</td>  \n</tr>\n<tr>\n  <th>exper</th>                        <td>0.0419</td>   \n</tr>\n<tr>\n  <th></th>                            <td>(3.1887)</td>  \n</tr>\n<tr>\n  <th>expersq</th>                      <td>-0.0008</td>  \n</tr>\n<tr>\n  <th></th>                            <td>(-1.9183)</td> \n</tr>\n</table><br/><br/>T-stats reported in parentheses<br/>T-stats use same covariance type as original model<br/>id: 0x7f947bb37890"
     },
     "metadata": {},
     "execution_count": 4
    }
   ],
   "source": [
    "## vendo os resultados de primeiro estágio; o p-valor parcial é baixissismo, ou seja, a condição de posto é satisfeita\n",
    "Resultado.first_stage"
   ]
  },
  {
   "cell_type": "code",
   "execution_count": 5,
   "metadata": {},
   "outputs": [
    {
     "output_type": "execute_result",
     "data": {
      "text/plain": [
       "Wooldridge's regression test of exogeneity\n",
       "H0: Endogenous variables are exogenous\n",
       "Statistic: 44.3908\n",
       "P-value: 0.0000\n",
       "Distributed: chi2(1)\n",
       "WaldTestStatistic, id: 0x7f948175bf90"
      ]
     },
     "metadata": {},
     "execution_count": 5
    }
   ],
   "source": [
    "## fazendo um teste de endogeneidade\n",
    "Resultado.wooldridge_regression"
   ]
  },
  {
   "cell_type": "code",
   "execution_count": 6,
   "metadata": {},
   "outputs": [
    {
     "output_type": "stream",
     "name": "stdout",
     "text": [
      "                          IV-2SLS Estimation Summary                          \n==============================================================================\nDep. Variable:                  lwage   R-squared:                      0.1257\nEstimator:                    IV-2SLS   Adj. R-squared:                 0.1174\nNo. Observations:                 428   F-statistic:                    77.012\nDate:                Mon, Apr 05 2021   P-value (F-stat)                0.0000\nTime:                        22:14:38   Distribution:                  chi2(4)\nCov. Estimator:            unadjusted                                         \n                                                                              \n                             Parameter Estimates                              \n==============================================================================\n            Parameter  Std. Err.     T-stat    P-value    Lower CI    Upper CI\n------------------------------------------------------------------------------\nconst         -0.6557     0.3358    -1.9527     0.0509     -1.3139      0.0024\neduc           0.1103     0.0154     7.1488     0.0000      0.0801      0.1406\nexper          0.0346     0.0194     1.7847     0.0743     -0.0034      0.0726\nexpersq       -0.0007     0.0005    -1.5634     0.1179     -0.0016      0.0002\nhours          0.0001     0.0003     0.4974     0.6189     -0.0004      0.0006\n==============================================================================\n\nEndogenous: hours\nInstruments: kidslt6, nwifeinc, age\nUnadjusted Covariance (Homoskedastic)\nDebiased: False\n\nPara ver os resultados do 1º estágio/equação reduzida (e ver se os instrumentos são relevantes com o Partial P-Value, chame 'Resultado.first_stage'.\n\nPara testar a exogeneidade da variável instrumentada, chame 'Resultado.wooldridge_regression' ou 'Resultado.wooldridge_score' ou 'Resultado.wu_hausman([variaveis])'.\n\nPara testar a exogeneidade dos instrumentos (quando eles forem mais numerosos que as variáveis endógenas (restrições sobreidentificadoras)), chame 'Resultado.wooldridge_overid', onde Ho: todos os instrumentos são exógenos.\n\n"
     ]
    }
   ],
   "source": [
    "## estimando hours por MQ2E\n",
    "exog = df[['educ','exper','expersq']]\n",
    "endog = df[['hours']]\n",
    "instrumentos = df[['kidslt6','nwifeinc','age']]\n",
    "y = df['lwage']\n",
    "\n",
    "Regressao_IV_MQ2E(exog=exog, endog=endog, instrumentos=instrumentos, y=y)"
   ]
  },
  {
   "source": [
    "## Exercício C1"
   ],
   "cell_type": "markdown",
   "metadata": {}
  },
  {
   "cell_type": "code",
   "execution_count": 7,
   "metadata": {},
   "outputs": [
    {
     "output_type": "stream",
     "name": "stdout",
     "text": [
      "SMOKE.dta foi lido com sucesso!\n"
     ]
    },
    {
     "output_type": "execute_result",
     "data": {
      "text/plain": [
       "     educ    cigpric  white  age  income  cigs  restaurn    lincome  agesq  \\\n",
       "0    16.0  60.506001      1   46   20000     0         0   9.903487   2116   \n",
       "1    16.0  57.882999      1   40   30000     0         0  10.308952   1600   \n",
       "2    12.0  57.664001      1   58   30000     3         0  10.308952   3364   \n",
       "3    13.5  57.882999      1   30   20000     0         0   9.903487    900   \n",
       "4    10.0  58.320000      1   17   20000     0         0   9.903487    289   \n",
       "..    ...        ...    ...  ...     ...   ...       ...        ...    ...   \n",
       "802  18.0  61.818001      0   52   30000    20         0  10.308952   2704   \n",
       "803  18.0  61.675999      1   31   12500     0         0   9.433484    961   \n",
       "804  16.0  60.707001      1   30   20000     0         0   9.903487    900   \n",
       "805  10.0  59.987999      1   18   20000     0         0   9.903487    324   \n",
       "806  10.0  59.652000      1   47   30000    20         0  10.308952   2209   \n",
       "\n",
       "     lcigpric  \n",
       "0    4.102743  \n",
       "1    4.058424  \n",
       "2    4.054633  \n",
       "3    4.058424  \n",
       "4    4.065945  \n",
       "..        ...  \n",
       "802  4.124195  \n",
       "803  4.121895  \n",
       "804  4.106059  \n",
       "805  4.094144  \n",
       "806  4.088528  \n",
       "\n",
       "[807 rows x 10 columns]"
      ],
      "text/html": "<div>\n<style scoped>\n    .dataframe tbody tr th:only-of-type {\n        vertical-align: middle;\n    }\n\n    .dataframe tbody tr th {\n        vertical-align: top;\n    }\n\n    .dataframe thead th {\n        text-align: right;\n    }\n</style>\n<table border=\"1\" class=\"dataframe\">\n  <thead>\n    <tr style=\"text-align: right;\">\n      <th></th>\n      <th>educ</th>\n      <th>cigpric</th>\n      <th>white</th>\n      <th>age</th>\n      <th>income</th>\n      <th>cigs</th>\n      <th>restaurn</th>\n      <th>lincome</th>\n      <th>agesq</th>\n      <th>lcigpric</th>\n    </tr>\n  </thead>\n  <tbody>\n    <tr>\n      <th>0</th>\n      <td>16.0</td>\n      <td>60.506001</td>\n      <td>1</td>\n      <td>46</td>\n      <td>20000</td>\n      <td>0</td>\n      <td>0</td>\n      <td>9.903487</td>\n      <td>2116</td>\n      <td>4.102743</td>\n    </tr>\n    <tr>\n      <th>1</th>\n      <td>16.0</td>\n      <td>57.882999</td>\n      <td>1</td>\n      <td>40</td>\n      <td>30000</td>\n      <td>0</td>\n      <td>0</td>\n      <td>10.308952</td>\n      <td>1600</td>\n      <td>4.058424</td>\n    </tr>\n    <tr>\n      <th>2</th>\n      <td>12.0</td>\n      <td>57.664001</td>\n      <td>1</td>\n      <td>58</td>\n      <td>30000</td>\n      <td>3</td>\n      <td>0</td>\n      <td>10.308952</td>\n      <td>3364</td>\n      <td>4.054633</td>\n    </tr>\n    <tr>\n      <th>3</th>\n      <td>13.5</td>\n      <td>57.882999</td>\n      <td>1</td>\n      <td>30</td>\n      <td>20000</td>\n      <td>0</td>\n      <td>0</td>\n      <td>9.903487</td>\n      <td>900</td>\n      <td>4.058424</td>\n    </tr>\n    <tr>\n      <th>4</th>\n      <td>10.0</td>\n      <td>58.320000</td>\n      <td>1</td>\n      <td>17</td>\n      <td>20000</td>\n      <td>0</td>\n      <td>0</td>\n      <td>9.903487</td>\n      <td>289</td>\n      <td>4.065945</td>\n    </tr>\n    <tr>\n      <th>...</th>\n      <td>...</td>\n      <td>...</td>\n      <td>...</td>\n      <td>...</td>\n      <td>...</td>\n      <td>...</td>\n      <td>...</td>\n      <td>...</td>\n      <td>...</td>\n      <td>...</td>\n    </tr>\n    <tr>\n      <th>802</th>\n      <td>18.0</td>\n      <td>61.818001</td>\n      <td>0</td>\n      <td>52</td>\n      <td>30000</td>\n      <td>20</td>\n      <td>0</td>\n      <td>10.308952</td>\n      <td>2704</td>\n      <td>4.124195</td>\n    </tr>\n    <tr>\n      <th>803</th>\n      <td>18.0</td>\n      <td>61.675999</td>\n      <td>1</td>\n      <td>31</td>\n      <td>12500</td>\n      <td>0</td>\n      <td>0</td>\n      <td>9.433484</td>\n      <td>961</td>\n      <td>4.121895</td>\n    </tr>\n    <tr>\n      <th>804</th>\n      <td>16.0</td>\n      <td>60.707001</td>\n      <td>1</td>\n      <td>30</td>\n      <td>20000</td>\n      <td>0</td>\n      <td>0</td>\n      <td>9.903487</td>\n      <td>900</td>\n      <td>4.106059</td>\n    </tr>\n    <tr>\n      <th>805</th>\n      <td>10.0</td>\n      <td>59.987999</td>\n      <td>1</td>\n      <td>18</td>\n      <td>20000</td>\n      <td>0</td>\n      <td>0</td>\n      <td>9.903487</td>\n      <td>324</td>\n      <td>4.094144</td>\n    </tr>\n    <tr>\n      <th>806</th>\n      <td>10.0</td>\n      <td>59.652000</td>\n      <td>1</td>\n      <td>47</td>\n      <td>30000</td>\n      <td>20</td>\n      <td>0</td>\n      <td>10.308952</td>\n      <td>2209</td>\n      <td>4.088528</td>\n    </tr>\n  </tbody>\n</table>\n<p>807 rows × 10 columns</p>\n</div>"
     },
     "metadata": {},
     "execution_count": 7
    }
   ],
   "source": [
    "coletar_dados('SMOKE')"
   ]
  },
  {
   "cell_type": "code",
   "execution_count": 8,
   "metadata": {},
   "outputs": [],
   "source": [
    "## B1 é a elasticidade da renda com relação ao consumo de cigarros; mostra a variação percentual na renda dado um aumento marginal de um cigarro por dia.\n",
    "\n",
    "## Na equação de cigarros - um bem viciante -, espera-se que ele seja preço-inelástico e, portanto, que o coeficiente de log(cigpric) seja próximo de 0. A proibição do fumo em restaurantes tende a diminuir o consumo de cigarros, de modo que espera-se que seu coeficiente seja negativo.\n",
    "\n",
    "## Para que a equação em que log(income) é a variável dependente seja identificada, precisamos que a tanto condição de ordem (o que ocorre, graças a cigpric e restarun não aparecem na 1a equação) quanto a condição de posto (seus coeficientes populacionais serem diferentes de 0) sejam satisfeitas."
   ]
  },
  {
   "cell_type": "code",
   "execution_count": 9,
   "metadata": {},
   "outputs": [
    {
     "output_type": "stream",
     "name": "stdout",
     "text": [
      "                            OLS Estimation Summary                            \n==============================================================================\nDep. Variable:                lincome   R-squared:                      0.1650\nEstimator:                        OLS   Adj. R-squared:                 0.1608\nNo. Observations:                 807   F-statistic:                    159.44\nDate:                Mon, Apr 05 2021   P-value (F-stat)                0.0000\nTime:                        22:14:38   Distribution:                  chi2(4)\nCov. Estimator:            unadjusted                                         \n                                                                              \n                             Parameter Estimates                              \n==============================================================================\n            Parameter  Std. Err.     T-stat    P-value    Lower CI    Upper CI\n------------------------------------------------------------------------------\nconst          7.7954     0.1699     45.883     0.0000      7.4624      8.1284\ncigs           0.0017     0.0017     1.0130     0.3111     -0.0016      0.0051\neduc           0.0604     0.0079     7.6660     0.0000      0.0449      0.0758\nage            0.0577     0.0076     7.5711     0.0000      0.0428      0.0726\nagesq         -0.0006  8.312e-05    -7.5862     0.0000     -0.0008     -0.0005\n==============================================================================\n\nPara ver os resultados do 1º estágio/equação reduzida (e ver se os instrumentos são relevantes com o Partial P-Value, chame 'Resultado.first_stage'.\n\nPara testar a exogeneidade da variável instrumentada, chame 'Resultado.wooldridge_regression' ou 'Resultado.wooldridge_score' ou 'Resultado.wu_hausman([variaveis])'.\n\nPara testar a exogeneidade dos instrumentos (quando eles forem mais numerosos que as variáveis endógenas (restrições sobreidentificadoras)), chame 'Resultado.wooldridge_overid', onde Ho: todos os instrumentos são exógenos.\n\n"
     ]
    }
   ],
   "source": [
    "## estimando o modelo por OLS\n",
    "## estimando hours por MQ2E\n",
    "exog = df[['cigs','educ','age','agesq']]\n",
    "endog = None\n",
    "instrumentos = None\n",
    "y = df['lincome']\n",
    "\n",
    "Regressao_IV_MQ2E(exog=exog, endog=endog, instrumentos=instrumentos, y=y)\n",
    "\n",
    "## B1 é est insignificante, o que mostra que, segundo a estimativa de OLS, o numero de cigarros consumidos por dia não afeta a renda"
   ]
  },
  {
   "cell_type": "code",
   "execution_count": 10,
   "metadata": {},
   "outputs": [
    {
     "output_type": "stream",
     "name": "stdout",
     "text": [
      "                            OLS Estimation Summary                            \n==============================================================================\nDep. Variable:                   cigs   R-squared:                      0.0510\nEstimator:                        OLS   Adj. R-squared:                 0.0451\nNo. Observations:                 807   F-statistic:                    43.373\nDate:                Mon, Apr 05 2021   P-value (F-stat)                0.0000\nTime:                        22:14:38   Distribution:                  chi2(5)\nCov. Estimator:            unadjusted                                         \n                                                                              \n                             Parameter Estimates                              \n==============================================================================\n            Parameter  Std. Err.     T-stat    P-value    Lower CI    Upper CI\n------------------------------------------------------------------------------\nconst          1.5801     23.607     0.0669     0.9466     -44.689      47.850\neduc          -0.4501     0.1610    -2.7953     0.0052     -0.7658     -0.1345\nage            0.8225     0.1537     5.3499     0.0000      0.5212      1.1239\nagesq         -0.0096     0.0017    -5.7327     0.0000     -0.0129     -0.0063\nlcigpric      -0.3513     5.7441    -0.0612     0.9512     -11.609      10.907\nrestaurn      -2.7364     1.1056    -2.4751     0.0133     -4.9032     -0.5695\n==============================================================================\n\nPara ver os resultados do 1º estágio/equação reduzida (e ver se os instrumentos são relevantes com o Partial P-Value, chame 'Resultado.first_stage'.\n\nPara testar a exogeneidade da variável instrumentada, chame 'Resultado.wooldridge_regression' ou 'Resultado.wooldridge_score' ou 'Resultado.wu_hausman([variaveis])'.\n\nPara testar a exogeneidade dos instrumentos (quando eles forem mais numerosos que as variáveis endógenas (restrições sobreidentificadoras)), chame 'Resultado.wooldridge_overid', onde Ho: todos os instrumentos são exógenos.\n\n"
     ]
    }
   ],
   "source": [
    "## a forma reduzida de cigs é (regredindo sobre todas as variaveis exógenas)\n",
    "exog = df[['educ','age','agesq','lcigpric','restaurn']]\n",
    "endog = None\n",
    "instrumentos = None\n",
    "y = df['cigs']\n",
    "\n",
    "Regressao_IV_MQ2E(exog=exog, endog=endog, instrumentos=instrumentos, y=y)\n",
    "## cigpric é insignificante, como esperado; restaurn tem um efeito negativo significativo"
   ]
  },
  {
   "cell_type": "code",
   "execution_count": 11,
   "metadata": {},
   "outputs": [
    {
     "output_type": "stream",
     "name": "stdout",
     "text": [
      "O valor de LM é 6.312233 e seu p-valor é 0.0425908.\nPortanto, rejeita-se Ho à significância de 5.0%, ou seja, as variáveis são conjuntamente significantes.\n"
     ]
    }
   ],
   "source": [
    "## testando a condição de posto; o p-valor é 0,03, ou seja, as variáveis são conjuntamente est significantes ao nível de 5%\n",
    "Teste_F_Rapido_Robusto('lcigpric = restaurn = 0')"
   ]
  },
  {
   "cell_type": "code",
   "execution_count": 12,
   "metadata": {},
   "outputs": [
    {
     "output_type": "stream",
     "name": "stdout",
     "text": [
      "                          IV-2SLS Estimation Summary                          \n==============================================================================\nDep. Variable:                lincome   R-squared:                     -0.5169\nEstimator:                    IV-2SLS   Adj. R-squared:                -0.5245\nNo. Observations:                 807   F-statistic:                    89.802\nDate:                Mon, Apr 05 2021   P-value (F-stat)                0.0000\nTime:                        22:14:39   Distribution:                  chi2(4)\nCov. Estimator:            unadjusted                                         \n                                                                              \n                             Parameter Estimates                              \n==============================================================================\n            Parameter  Std. Err.     T-stat    P-value    Lower CI    Upper CI\n------------------------------------------------------------------------------\nconst          7.7809     0.2292     33.955     0.0000      7.3318      8.2300\neduc           0.0397     0.0162     2.4444     0.0145      0.0079      0.0715\nage            0.0938     0.0238     3.9454     0.0001      0.0472      0.1404\nagesq         -0.0011     0.0003    -3.8424     0.0001     -0.0016     -0.0005\ncigs          -0.0421     0.0261    -1.6117     0.1070     -0.0934      0.0091\n==============================================================================\n\nEndogenous: cigs\nInstruments: lcigpric, restaurn\nUnadjusted Covariance (Homoskedastic)\nDebiased: False\n\nPara ver os resultados do 1º estágio/equação reduzida (e ver se os instrumentos são relevantes com o Partial P-Value, chame 'Resultado.first_stage'.\n\nPara testar a exogeneidade da variável instrumentada, chame 'Resultado.wooldridge_regression' ou 'Resultado.wooldridge_score' ou 'Resultado.wu_hausman([variaveis])'.\n\nPara testar a exogeneidade dos instrumentos (quando eles forem mais numerosos que as variáveis endógenas (restrições sobreidentificadoras)), chame 'Resultado.wooldridge_overid', onde Ho: todos os instrumentos são exógenos.\n\n"
     ]
    }
   ],
   "source": [
    "## estimando lincome por MQ2E\n",
    "exog = df[['educ','age','agesq']]\n",
    "endog = df[['cigs']]\n",
    "instrumentos = df[['lcigpric','restaurn']]\n",
    "y = df['lincome']\n",
    "\n",
    "Regressao_IV_MQ2E(exog=exog, endog=endog, instrumentos=instrumentos, y=y)\n",
    "# o coeficiente de cigs é marginalmente significante ao nível de 10%; apesar de um intervalo de confiança bem grande, o centro do intervalo nos diz que o fumo de um cigarro adicional por dia diminui a renda em ≈4,21%\n",
    "\n",
    "## cabe ressaltar que ao menos o preço do cigarro na região não deve ser exógeno, ja que regioes com maiores rendas possuem custos de vida maiores. além disso, estados com maior renda podem ter maiores restrições ao fumo em restaurantes"
   ]
  },
  {
   "source": [
    "## Exercício C2"
   ],
   "cell_type": "markdown",
   "metadata": {}
  },
  {
   "cell_type": "code",
   "execution_count": 13,
   "metadata": {},
   "outputs": [
    {
     "output_type": "stream",
     "name": "stdout",
     "text": [
      "MROZ.dta foi lido com sucesso!\n"
     ]
    },
    {
     "output_type": "execute_result",
     "data": {
      "text/plain": [
       "     inlf  hours  kidslt6  kidsge6  age  educ    wage  repwage  hushrs  \\\n",
       "0       1   1610        1        0   32    12  3.3540     2.65    2708   \n",
       "1       1   1656        0        2   30    12  1.3889     2.65    2310   \n",
       "2       1   1980        1        3   35    12  4.5455     4.04    3072   \n",
       "3       1    456        0        3   34    12  1.0965     3.25    1920   \n",
       "4       1   1568        1        2   31    14  4.5918     3.60    2000   \n",
       "..    ...    ...      ...      ...  ...   ...     ...      ...     ...   \n",
       "748     0      0        0        2   40    13     NaN     0.00    3020   \n",
       "749     0      0        2        3   31    12     NaN     0.00    2056   \n",
       "750     0      0        0        0   43    12     NaN     0.00    2383   \n",
       "751     0      0        0        0   60    12     NaN     0.00    1705   \n",
       "752     0      0        0        3   39     9     NaN     0.00    3120   \n",
       "\n",
       "     husage  ...   faminc     mtr  motheduc  fatheduc  unem  city  exper  \\\n",
       "0        34  ...  16310.0  0.7215        12         7   5.0     0     14   \n",
       "1        30  ...  21800.0  0.6615         7         7  11.0     1      5   \n",
       "2        40  ...  21040.0  0.6915        12         7   5.0     0     15   \n",
       "3        53  ...   7300.0  0.7815         7         7   5.0     0      6   \n",
       "4        32  ...  27300.0  0.6215        12        14   9.5     1      7   \n",
       "..      ...  ...      ...     ...       ...       ...   ...   ...    ...   \n",
       "748      43  ...  28200.0  0.6215        10        10   9.5     1      5   \n",
       "749      33  ...  10000.0  0.7715        12        12   7.5     0     14   \n",
       "750      43  ...   9952.0  0.7515        10         3   7.5     0      4   \n",
       "751      55  ...  24984.0  0.6215        12        12  14.0     1     15   \n",
       "752      48  ...  28363.0  0.6915         7         7  11.0     1     12   \n",
       "\n",
       "      nwifeinc     lwage  expersq  \n",
       "0    10.910060  1.210154      196  \n",
       "1    19.499981  0.328512       25  \n",
       "2    12.039910  1.514138      225  \n",
       "3     6.799996  0.092123       36  \n",
       "4    20.100058  1.524272       49  \n",
       "..         ...       ...      ...  \n",
       "748  28.200001       NaN       25  \n",
       "749  10.000000       NaN      196  \n",
       "750   9.952000       NaN       16  \n",
       "751  24.983999       NaN      225  \n",
       "752  28.363001       NaN      144  \n",
       "\n",
       "[753 rows x 22 columns]"
      ],
      "text/html": "<div>\n<style scoped>\n    .dataframe tbody tr th:only-of-type {\n        vertical-align: middle;\n    }\n\n    .dataframe tbody tr th {\n        vertical-align: top;\n    }\n\n    .dataframe thead th {\n        text-align: right;\n    }\n</style>\n<table border=\"1\" class=\"dataframe\">\n  <thead>\n    <tr style=\"text-align: right;\">\n      <th></th>\n      <th>inlf</th>\n      <th>hours</th>\n      <th>kidslt6</th>\n      <th>kidsge6</th>\n      <th>age</th>\n      <th>educ</th>\n      <th>wage</th>\n      <th>repwage</th>\n      <th>hushrs</th>\n      <th>husage</th>\n      <th>...</th>\n      <th>faminc</th>\n      <th>mtr</th>\n      <th>motheduc</th>\n      <th>fatheduc</th>\n      <th>unem</th>\n      <th>city</th>\n      <th>exper</th>\n      <th>nwifeinc</th>\n      <th>lwage</th>\n      <th>expersq</th>\n    </tr>\n  </thead>\n  <tbody>\n    <tr>\n      <th>0</th>\n      <td>1</td>\n      <td>1610</td>\n      <td>1</td>\n      <td>0</td>\n      <td>32</td>\n      <td>12</td>\n      <td>3.3540</td>\n      <td>2.65</td>\n      <td>2708</td>\n      <td>34</td>\n      <td>...</td>\n      <td>16310.0</td>\n      <td>0.7215</td>\n      <td>12</td>\n      <td>7</td>\n      <td>5.0</td>\n      <td>0</td>\n      <td>14</td>\n      <td>10.910060</td>\n      <td>1.210154</td>\n      <td>196</td>\n    </tr>\n    <tr>\n      <th>1</th>\n      <td>1</td>\n      <td>1656</td>\n      <td>0</td>\n      <td>2</td>\n      <td>30</td>\n      <td>12</td>\n      <td>1.3889</td>\n      <td>2.65</td>\n      <td>2310</td>\n      <td>30</td>\n      <td>...</td>\n      <td>21800.0</td>\n      <td>0.6615</td>\n      <td>7</td>\n      <td>7</td>\n      <td>11.0</td>\n      <td>1</td>\n      <td>5</td>\n      <td>19.499981</td>\n      <td>0.328512</td>\n      <td>25</td>\n    </tr>\n    <tr>\n      <th>2</th>\n      <td>1</td>\n      <td>1980</td>\n      <td>1</td>\n      <td>3</td>\n      <td>35</td>\n      <td>12</td>\n      <td>4.5455</td>\n      <td>4.04</td>\n      <td>3072</td>\n      <td>40</td>\n      <td>...</td>\n      <td>21040.0</td>\n      <td>0.6915</td>\n      <td>12</td>\n      <td>7</td>\n      <td>5.0</td>\n      <td>0</td>\n      <td>15</td>\n      <td>12.039910</td>\n      <td>1.514138</td>\n      <td>225</td>\n    </tr>\n    <tr>\n      <th>3</th>\n      <td>1</td>\n      <td>456</td>\n      <td>0</td>\n      <td>3</td>\n      <td>34</td>\n      <td>12</td>\n      <td>1.0965</td>\n      <td>3.25</td>\n      <td>1920</td>\n      <td>53</td>\n      <td>...</td>\n      <td>7300.0</td>\n      <td>0.7815</td>\n      <td>7</td>\n      <td>7</td>\n      <td>5.0</td>\n      <td>0</td>\n      <td>6</td>\n      <td>6.799996</td>\n      <td>0.092123</td>\n      <td>36</td>\n    </tr>\n    <tr>\n      <th>4</th>\n      <td>1</td>\n      <td>1568</td>\n      <td>1</td>\n      <td>2</td>\n      <td>31</td>\n      <td>14</td>\n      <td>4.5918</td>\n      <td>3.60</td>\n      <td>2000</td>\n      <td>32</td>\n      <td>...</td>\n      <td>27300.0</td>\n      <td>0.6215</td>\n      <td>12</td>\n      <td>14</td>\n      <td>9.5</td>\n      <td>1</td>\n      <td>7</td>\n      <td>20.100058</td>\n      <td>1.524272</td>\n      <td>49</td>\n    </tr>\n    <tr>\n      <th>...</th>\n      <td>...</td>\n      <td>...</td>\n      <td>...</td>\n      <td>...</td>\n      <td>...</td>\n      <td>...</td>\n      <td>...</td>\n      <td>...</td>\n      <td>...</td>\n      <td>...</td>\n      <td>...</td>\n      <td>...</td>\n      <td>...</td>\n      <td>...</td>\n      <td>...</td>\n      <td>...</td>\n      <td>...</td>\n      <td>...</td>\n      <td>...</td>\n      <td>...</td>\n      <td>...</td>\n    </tr>\n    <tr>\n      <th>748</th>\n      <td>0</td>\n      <td>0</td>\n      <td>0</td>\n      <td>2</td>\n      <td>40</td>\n      <td>13</td>\n      <td>NaN</td>\n      <td>0.00</td>\n      <td>3020</td>\n      <td>43</td>\n      <td>...</td>\n      <td>28200.0</td>\n      <td>0.6215</td>\n      <td>10</td>\n      <td>10</td>\n      <td>9.5</td>\n      <td>1</td>\n      <td>5</td>\n      <td>28.200001</td>\n      <td>NaN</td>\n      <td>25</td>\n    </tr>\n    <tr>\n      <th>749</th>\n      <td>0</td>\n      <td>0</td>\n      <td>2</td>\n      <td>3</td>\n      <td>31</td>\n      <td>12</td>\n      <td>NaN</td>\n      <td>0.00</td>\n      <td>2056</td>\n      <td>33</td>\n      <td>...</td>\n      <td>10000.0</td>\n      <td>0.7715</td>\n      <td>12</td>\n      <td>12</td>\n      <td>7.5</td>\n      <td>0</td>\n      <td>14</td>\n      <td>10.000000</td>\n      <td>NaN</td>\n      <td>196</td>\n    </tr>\n    <tr>\n      <th>750</th>\n      <td>0</td>\n      <td>0</td>\n      <td>0</td>\n      <td>0</td>\n      <td>43</td>\n      <td>12</td>\n      <td>NaN</td>\n      <td>0.00</td>\n      <td>2383</td>\n      <td>43</td>\n      <td>...</td>\n      <td>9952.0</td>\n      <td>0.7515</td>\n      <td>10</td>\n      <td>3</td>\n      <td>7.5</td>\n      <td>0</td>\n      <td>4</td>\n      <td>9.952000</td>\n      <td>NaN</td>\n      <td>16</td>\n    </tr>\n    <tr>\n      <th>751</th>\n      <td>0</td>\n      <td>0</td>\n      <td>0</td>\n      <td>0</td>\n      <td>60</td>\n      <td>12</td>\n      <td>NaN</td>\n      <td>0.00</td>\n      <td>1705</td>\n      <td>55</td>\n      <td>...</td>\n      <td>24984.0</td>\n      <td>0.6215</td>\n      <td>12</td>\n      <td>12</td>\n      <td>14.0</td>\n      <td>1</td>\n      <td>15</td>\n      <td>24.983999</td>\n      <td>NaN</td>\n      <td>225</td>\n    </tr>\n    <tr>\n      <th>752</th>\n      <td>0</td>\n      <td>0</td>\n      <td>0</td>\n      <td>3</td>\n      <td>39</td>\n      <td>9</td>\n      <td>NaN</td>\n      <td>0.00</td>\n      <td>3120</td>\n      <td>48</td>\n      <td>...</td>\n      <td>28363.0</td>\n      <td>0.6915</td>\n      <td>7</td>\n      <td>7</td>\n      <td>11.0</td>\n      <td>1</td>\n      <td>12</td>\n      <td>28.363001</td>\n      <td>NaN</td>\n      <td>144</td>\n    </tr>\n  </tbody>\n</table>\n<p>753 rows × 22 columns</p>\n</div>"
     },
     "metadata": {},
     "execution_count": 13
    }
   ],
   "source": [
    "coletar_dados('MROZ')"
   ]
  },
  {
   "cell_type": "code",
   "execution_count": 14,
   "metadata": {},
   "outputs": [
    {
     "output_type": "stream",
     "name": "stdout",
     "text": [
      "                          IV-2SLS Estimation Summary                          \n",
      "==============================================================================\n",
      "Dep. Variable:                  hours   R-squared:                     -2.0076\n",
      "Estimator:                    IV-2SLS   Adj. R-squared:                -2.0433\n",
      "No. Observations:                 428   F-statistic:                    17.450\n",
      "Date:                Mon, Apr 05 2021   P-value (F-stat)                0.0037\n",
      "Time:                        22:14:39   Distribution:                  chi2(5)\n",
      "Cov. Estimator:            unadjusted                                         \n",
      "                                                                              \n",
      "                             Parameter Estimates                              \n",
      "==============================================================================\n",
      "            Parameter  Std. Err.     T-stat    P-value    Lower CI    Upper CI\n",
      "------------------------------------------------------------------------------\n",
      "const          2225.7     570.52     3.9011     0.0001      1107.5      3343.9\n",
      "educ          -183.75     58.684    -3.1312     0.0017     -298.77     -68.733\n",
      "age           -7.8061     9.3120    -0.8383     0.4019     -26.057      10.445\n",
      "kidslt6       -198.15     181.64    -1.0909     0.2753     -554.17      157.86\n",
      "nwifeinc      -10.170     6.5682    -1.5483     0.1215     -23.043      2.7039\n",
      "lwage          1639.6     467.27     3.5088     0.0005      723.73      2555.4\n",
      "==============================================================================\n",
      "\n",
      "Endogenous: lwage\n",
      "Instruments: exper, expersq\n",
      "Unadjusted Covariance (Homoskedastic)\n",
      "Debiased: False\n",
      "\n",
      "Para ver os resultados do 1º estágio/equação reduzida (e ver se os instrumentos são relevantes com o Partial P-Value, chame 'Resultado.first_stage'.\n",
      "\n",
      "Para testar a exogeneidade da variável instrumentada, chame 'Resultado.wooldridge_regression' ou 'Resultado.wooldridge_score' ou 'Resultado.wu_hausman([variaveis])'.\n",
      "\n",
      "Para testar a exogeneidade dos instrumentos (quando eles forem mais numerosos que as variáveis endógenas (restrições sobreidentificadoras)), chame 'Resultado.wooldridge_overid', onde Ho: todos os instrumentos são exógenos.\n",
      "\n",
      "/Users/vinicius/opt/anaconda3/envs/myenv/lib/python3.7/site-packages/linearmodels/shared/exceptions.py:35: MissingValueWarning:\n",
      "\n",
      "\n",
      "Inputs contain missing values. Dropping rows with missing observations.\n",
      "\n"
     ]
    }
   ],
   "source": [
    "## estimando hours com MQ2E\n",
    "exog = df[['educ','age','kidslt6','nwifeinc']]\n",
    "endog = df[['lwage']]\n",
    "instrumentos = df[['exper','expersq']]\n",
    "y = df['hours']\n",
    "\n",
    "Regressao_IV_MQ2E(exog=exog, endog=endog, instrumentos=instrumentos, y=y)"
   ]
  },
  {
   "cell_type": "code",
   "execution_count": 15,
   "metadata": {},
   "outputs": [
    {
     "output_type": "stream",
     "name": "stderr",
     "text": [
      "/Users/vinicius/opt/anaconda3/envs/myenv/lib/python3.7/site-packages/pandas/core/series.py:726: RuntimeWarning:\n",
      "\n",
      "divide by zero encountered in log\n",
      "\n",
      "                          IV-2SLS Estimation Summary                          \n",
      "==============================================================================\n",
      "Dep. Variable:                 lhours   R-squared:                     -1.7762\n",
      "Estimator:                    IV-2SLS   Adj. R-squared:                -1.8091\n",
      "No. Observations:                 428   F-statistic:                    24.395\n",
      "Date:                Mon, Apr 05 2021   P-value (F-stat)                0.0002\n",
      "Time:                        22:14:39   Distribution:                  chi2(5)\n",
      "Cov. Estimator:            unadjusted                                         \n",
      "                                                                              \n",
      "                             Parameter Estimates                              \n",
      "==============================================================================\n",
      "            Parameter  Std. Err.     T-stat    P-value    Lower CI    Upper CI\n",
      "------------------------------------------------------------------------------\n",
      "const          8.3702     0.6842     12.234     0.0000      7.0293      9.7112\n",
      "educ          -0.2355     0.0704    -3.3459     0.0008     -0.3734     -0.0975\n",
      "age           -0.0135     0.0112    -1.2111     0.2258     -0.0354      0.0084\n",
      "kidslt6       -0.4654     0.2178    -2.1368     0.0326     -0.8924     -0.0385\n",
      "nwifeinc      -0.0139     0.0079    -1.7653     0.0775     -0.0293      0.0015\n",
      "lwage          1.9943     0.5603     3.5592     0.0004      0.8961      3.0926\n",
      "==============================================================================\n",
      "\n",
      "Endogenous: lwage\n",
      "Instruments: exper, expersq\n",
      "Unadjusted Covariance (Homoskedastic)\n",
      "Debiased: False\n",
      "\n",
      "Para ver os resultados do 1º estágio/equação reduzida (e ver se os instrumentos são relevantes com o Partial P-Value, chame 'Resultado.first_stage'.\n",
      "\n",
      "Para testar a exogeneidade da variável instrumentada, chame 'Resultado.wooldridge_regression' ou 'Resultado.wooldridge_score' ou 'Resultado.wu_hausman([variaveis])'.\n",
      "\n",
      "Para testar a exogeneidade dos instrumentos (quando eles forem mais numerosos que as variáveis endógenas (restrições sobreidentificadoras)), chame 'Resultado.wooldridge_overid', onde Ho: todos os instrumentos são exógenos.\n",
      "\n"
     ]
    }
   ],
   "source": [
    "## estimando lhours com MQ2E\n",
    "df['lhours'] = np.log(df['hours'])\n",
    "\n",
    "exog = df[['educ','age','kidslt6','nwifeinc']]\n",
    "endog = df[['lwage']]\n",
    "instrumentos = df[['exper','expersq']]\n",
    "y = df['lhours']\n",
    "\n",
    "Regressao_IV_MQ2E(exog=exog, endog=endog, instrumentos=instrumentos, y=y)\n",
    "## um aumento de 1,99% no salário leva a um aumento de 1% nas horas ofertadas; o efeito estimado é maior que o usando a variável hours em nível, mas os intervalos de confiança das duas se interseccionam em vários pontos"
   ]
  },
  {
   "cell_type": "code",
   "execution_count": 16,
   "metadata": {},
   "outputs": [
    {
     "output_type": "stream",
     "name": "stdout",
     "text": [
      "                          IV-2SLS Estimation Summary                          \n==============================================================================\nDep. Variable:                 lhours   R-squared:                     -1.4820\nEstimator:                    IV-2SLS   Adj. R-squared:                -1.5114\nNo. Observations:                 428   F-statistic:                    26.282\nDate:                Mon, Apr 05 2021   P-value (F-stat)                0.0001\nTime:                        22:14:40   Distribution:                  chi2(5)\nCov. Estimator:            unadjusted                                         \n                                                                              \n                             Parameter Estimates                              \n==============================================================================\n            Parameter  Std. Err.     T-stat    P-value    Lower CI    Upper CI\n------------------------------------------------------------------------------\nconst          7.2608     1.0122     7.1731     0.0000      5.2768      9.2447\nage           -0.0116     0.0105    -1.1037     0.2697     -0.0322      0.0090\nkidslt6       -0.5432     0.2098    -2.5885     0.0096     -0.9545     -0.1319\nnwifeinc      -0.0189     0.0087    -2.1677     0.0302     -0.0360     -0.0018\nlwage          1.8109     0.4943     3.6638     0.0002      0.8422      2.7797\neduc          -0.1286     0.0868    -1.4813     0.1385     -0.2988      0.0416\n==============================================================================\n\nEndogenous: lwage, educ\nInstruments: exper, expersq, motheduc, fatheduc\nUnadjusted Covariance (Homoskedastic)\nDebiased: False\n\nPara ver os resultados do 1º estágio/equação reduzida (e ver se os instrumentos são relevantes com o Partial P-Value, chame 'Resultado.first_stage'.\n\nPara testar a exogeneidade da variável instrumentada, chame 'Resultado.wooldridge_regression' ou 'Resultado.wooldridge_score' ou 'Resultado.wu_hausman([variaveis])'.\n\nPara testar a exogeneidade dos instrumentos (quando eles forem mais numerosos que as variáveis endógenas (restrições sobreidentificadoras)), chame 'Resultado.wooldridge_overid', onde Ho: todos os instrumentos são exógenos.\n\n"
     ]
    }
   ],
   "source": [
    "## educ também sendo endógenna\n",
    "exog = df[['age','kidslt6','nwifeinc']]\n",
    "endog = df[['lwage','educ']]\n",
    "instrumentos = df[['exper','expersq','motheduc','fatheduc']]\n",
    "y = df['lhours']\n",
    "\n",
    "Regressao_IV_MQ2E(exog=exog, endog=endog, instrumentos=instrumentos, y=y)"
   ]
  },
  {
   "cell_type": "code",
   "execution_count": 17,
   "metadata": {},
   "outputs": [
    {
     "output_type": "stream",
     "name": "stdout",
     "text": [
      "Wooldridge's score test of overidentification\nH0: Model is not overidentified.\nStatistic: 0.6487\nP-value: 0.7230\nDistributed: chi2(2)\n"
     ]
    }
   ],
   "source": [
    "## testando para as restrições sobreidentificadoras; o modelo não está sobreidentificado, ou seja, os instrumentos são realmente exógenos\n",
    "print(Resultado.wooldridge_overid)"
   ]
  },
  {
   "source": [
    "## Exercício C6"
   ],
   "cell_type": "markdown",
   "metadata": {}
  },
  {
   "cell_type": "code",
   "execution_count": 18,
   "metadata": {},
   "outputs": [
    {
     "output_type": "stream",
     "name": "stdout",
     "text": [
      "cement.dta foi lido com sucesso!\n"
     ]
    },
    {
     "output_type": "execute_result",
     "data": {
      "text/plain": [
       "     year  month  prccem    ipcem     prcpet     rresc     rnonc          ip  \\\n",
       "0    1964      1     NaN  0.47425  13.400000  115401.0  142180.0   44.599998   \n",
       "1    1964      2     NaN  0.53123  13.400000  115118.0  144190.0   45.900002   \n",
       "2    1964      3     NaN  0.64255  13.400000  123663.0  145577.0   46.200001   \n",
       "3    1964      4     NaN  0.82585  13.400000  116178.0  150793.0   46.900002   \n",
       "4    1964      5     NaN  1.02720  13.400000  111034.0  149259.0   47.099998   \n",
       "..    ...    ...     ...      ...        ...       ...       ...         ...   \n",
       "307  1989      8  1009.0  1.28470  53.500000  164461.0  181205.0  110.500000   \n",
       "308  1989      9  1016.0  1.19510  56.200001  162946.0  182793.0  110.900002   \n",
       "309  1989     10  1017.0  1.27390  57.599998  163195.0  178832.0  109.199997   \n",
       "310  1989     11  1016.0      NaN  57.599998  163079.0  182570.0  107.699997   \n",
       "311  1989     12  1017.0      NaN  59.799999  163180.0  182283.0  106.800003   \n",
       "\n",
       "      rdefs  milemp  ...  mar  apr  may  jun  jul  aug  sep  oct  nov  dec  \n",
       "0       NaN  2687.0  ...    0    0    0    0    0    0    0    0    0    0  \n",
       "1    1.6634  2696.0  ...    0    0    0    0    0    0    0    0    0    0  \n",
       "2    1.6626  2693.0  ...    1    0    0    0    0    0    0    0    0    0  \n",
       "3    1.6626  2694.0  ...    0    1    0    0    0    0    0    0    0    0  \n",
       "4    1.6610  2690.0  ...    0    0    1    0    0    0    0    0    0    0  \n",
       "..      ...     ...  ...  ...  ...  ...  ...  ...  ...  ...  ...  ...  ...  \n",
       "307  1.7145     NaN  ...    0    0    0    0    0    1    0    0    0    0  \n",
       "308     NaN     NaN  ...    0    0    0    0    0    0    1    0    0    0  \n",
       "309     NaN     NaN  ...    0    0    0    0    0    0    0    1    0    0  \n",
       "310     NaN     NaN  ...    0    0    0    0    0    0    0    0    1    0  \n",
       "311     NaN     NaN  ...    0    0    0    0    0    0    0    0    0    1  \n",
       "\n",
       "[312 rows x 30 columns]"
      ],
      "text/html": "<div>\n<style scoped>\n    .dataframe tbody tr th:only-of-type {\n        vertical-align: middle;\n    }\n\n    .dataframe tbody tr th {\n        vertical-align: top;\n    }\n\n    .dataframe thead th {\n        text-align: right;\n    }\n</style>\n<table border=\"1\" class=\"dataframe\">\n  <thead>\n    <tr style=\"text-align: right;\">\n      <th></th>\n      <th>year</th>\n      <th>month</th>\n      <th>prccem</th>\n      <th>ipcem</th>\n      <th>prcpet</th>\n      <th>rresc</th>\n      <th>rnonc</th>\n      <th>ip</th>\n      <th>rdefs</th>\n      <th>milemp</th>\n      <th>...</th>\n      <th>mar</th>\n      <th>apr</th>\n      <th>may</th>\n      <th>jun</th>\n      <th>jul</th>\n      <th>aug</th>\n      <th>sep</th>\n      <th>oct</th>\n      <th>nov</th>\n      <th>dec</th>\n    </tr>\n  </thead>\n  <tbody>\n    <tr>\n      <th>0</th>\n      <td>1964</td>\n      <td>1</td>\n      <td>NaN</td>\n      <td>0.47425</td>\n      <td>13.400000</td>\n      <td>115401.0</td>\n      <td>142180.0</td>\n      <td>44.599998</td>\n      <td>NaN</td>\n      <td>2687.0</td>\n      <td>...</td>\n      <td>0</td>\n      <td>0</td>\n      <td>0</td>\n      <td>0</td>\n      <td>0</td>\n      <td>0</td>\n      <td>0</td>\n      <td>0</td>\n      <td>0</td>\n      <td>0</td>\n    </tr>\n    <tr>\n      <th>1</th>\n      <td>1964</td>\n      <td>2</td>\n      <td>NaN</td>\n      <td>0.53123</td>\n      <td>13.400000</td>\n      <td>115118.0</td>\n      <td>144190.0</td>\n      <td>45.900002</td>\n      <td>1.6634</td>\n      <td>2696.0</td>\n      <td>...</td>\n      <td>0</td>\n      <td>0</td>\n      <td>0</td>\n      <td>0</td>\n      <td>0</td>\n      <td>0</td>\n      <td>0</td>\n      <td>0</td>\n      <td>0</td>\n      <td>0</td>\n    </tr>\n    <tr>\n      <th>2</th>\n      <td>1964</td>\n      <td>3</td>\n      <td>NaN</td>\n      <td>0.64255</td>\n      <td>13.400000</td>\n      <td>123663.0</td>\n      <td>145577.0</td>\n      <td>46.200001</td>\n      <td>1.6626</td>\n      <td>2693.0</td>\n      <td>...</td>\n      <td>1</td>\n      <td>0</td>\n      <td>0</td>\n      <td>0</td>\n      <td>0</td>\n      <td>0</td>\n      <td>0</td>\n      <td>0</td>\n      <td>0</td>\n      <td>0</td>\n    </tr>\n    <tr>\n      <th>3</th>\n      <td>1964</td>\n      <td>4</td>\n      <td>NaN</td>\n      <td>0.82585</td>\n      <td>13.400000</td>\n      <td>116178.0</td>\n      <td>150793.0</td>\n      <td>46.900002</td>\n      <td>1.6626</td>\n      <td>2694.0</td>\n      <td>...</td>\n      <td>0</td>\n      <td>1</td>\n      <td>0</td>\n      <td>0</td>\n      <td>0</td>\n      <td>0</td>\n      <td>0</td>\n      <td>0</td>\n      <td>0</td>\n      <td>0</td>\n    </tr>\n    <tr>\n      <th>4</th>\n      <td>1964</td>\n      <td>5</td>\n      <td>NaN</td>\n      <td>1.02720</td>\n      <td>13.400000</td>\n      <td>111034.0</td>\n      <td>149259.0</td>\n      <td>47.099998</td>\n      <td>1.6610</td>\n      <td>2690.0</td>\n      <td>...</td>\n      <td>0</td>\n      <td>0</td>\n      <td>1</td>\n      <td>0</td>\n      <td>0</td>\n      <td>0</td>\n      <td>0</td>\n      <td>0</td>\n      <td>0</td>\n      <td>0</td>\n    </tr>\n    <tr>\n      <th>...</th>\n      <td>...</td>\n      <td>...</td>\n      <td>...</td>\n      <td>...</td>\n      <td>...</td>\n      <td>...</td>\n      <td>...</td>\n      <td>...</td>\n      <td>...</td>\n      <td>...</td>\n      <td>...</td>\n      <td>...</td>\n      <td>...</td>\n      <td>...</td>\n      <td>...</td>\n      <td>...</td>\n      <td>...</td>\n      <td>...</td>\n      <td>...</td>\n      <td>...</td>\n      <td>...</td>\n    </tr>\n    <tr>\n      <th>307</th>\n      <td>1989</td>\n      <td>8</td>\n      <td>1009.0</td>\n      <td>1.28470</td>\n      <td>53.500000</td>\n      <td>164461.0</td>\n      <td>181205.0</td>\n      <td>110.500000</td>\n      <td>1.7145</td>\n      <td>NaN</td>\n      <td>...</td>\n      <td>0</td>\n      <td>0</td>\n      <td>0</td>\n      <td>0</td>\n      <td>0</td>\n      <td>1</td>\n      <td>0</td>\n      <td>0</td>\n      <td>0</td>\n      <td>0</td>\n    </tr>\n    <tr>\n      <th>308</th>\n      <td>1989</td>\n      <td>9</td>\n      <td>1016.0</td>\n      <td>1.19510</td>\n      <td>56.200001</td>\n      <td>162946.0</td>\n      <td>182793.0</td>\n      <td>110.900002</td>\n      <td>NaN</td>\n      <td>NaN</td>\n      <td>...</td>\n      <td>0</td>\n      <td>0</td>\n      <td>0</td>\n      <td>0</td>\n      <td>0</td>\n      <td>0</td>\n      <td>1</td>\n      <td>0</td>\n      <td>0</td>\n      <td>0</td>\n    </tr>\n    <tr>\n      <th>309</th>\n      <td>1989</td>\n      <td>10</td>\n      <td>1017.0</td>\n      <td>1.27390</td>\n      <td>57.599998</td>\n      <td>163195.0</td>\n      <td>178832.0</td>\n      <td>109.199997</td>\n      <td>NaN</td>\n      <td>NaN</td>\n      <td>...</td>\n      <td>0</td>\n      <td>0</td>\n      <td>0</td>\n      <td>0</td>\n      <td>0</td>\n      <td>0</td>\n      <td>0</td>\n      <td>1</td>\n      <td>0</td>\n      <td>0</td>\n    </tr>\n    <tr>\n      <th>310</th>\n      <td>1989</td>\n      <td>11</td>\n      <td>1016.0</td>\n      <td>NaN</td>\n      <td>57.599998</td>\n      <td>163079.0</td>\n      <td>182570.0</td>\n      <td>107.699997</td>\n      <td>NaN</td>\n      <td>NaN</td>\n      <td>...</td>\n      <td>0</td>\n      <td>0</td>\n      <td>0</td>\n      <td>0</td>\n      <td>0</td>\n      <td>0</td>\n      <td>0</td>\n      <td>0</td>\n      <td>1</td>\n      <td>0</td>\n    </tr>\n    <tr>\n      <th>311</th>\n      <td>1989</td>\n      <td>12</td>\n      <td>1017.0</td>\n      <td>NaN</td>\n      <td>59.799999</td>\n      <td>163180.0</td>\n      <td>182283.0</td>\n      <td>106.800003</td>\n      <td>NaN</td>\n      <td>NaN</td>\n      <td>...</td>\n      <td>0</td>\n      <td>0</td>\n      <td>0</td>\n      <td>0</td>\n      <td>0</td>\n      <td>0</td>\n      <td>0</td>\n      <td>0</td>\n      <td>0</td>\n      <td>1</td>\n    </tr>\n  </tbody>\n</table>\n<p>312 rows × 30 columns</p>\n</div>"
     },
     "metadata": {},
     "execution_count": 18
    }
   ],
   "source": [
    "coletar_dados('cement')"
   ]
  },
  {
   "cell_type": "code",
   "execution_count": 19,
   "metadata": {},
   "outputs": [
    {
     "output_type": "stream",
     "name": "stdout",
     "text": [
      "                            OLS Estimation Summary                            \n",
      "==============================================================================\n",
      "Dep. Variable:                   gprc   R-squared:                      0.3857\n",
      "Estimator:                        OLS   Adj. R-squared:                 0.3576\n",
      "No. Observations:                 298   F-statistic:                    187.13\n",
      "Date:                Mon, Apr 05 2021   P-value (F-stat)                0.0000\n",
      "Time:                        22:14:41   Distribution:                 chi2(13)\n",
      "Cov. Estimator:            unadjusted                                         \n",
      "                                                                              \n",
      "                             Parameter Estimates                              \n",
      "==============================================================================\n",
      "            Parameter  Std. Err.     T-stat    P-value    Lower CI    Upper CI\n",
      "------------------------------------------------------------------------------\n",
      "const          0.0144     0.0031     4.6257     0.0000      0.0083      0.0205\n",
      "gcem          -0.0443     0.0089    -4.9847     0.0000     -0.0617     -0.0269\n",
      "gprcpet        0.0628     0.0149     4.2115     0.0000      0.0336      0.0920\n",
      "feb           -0.0034     0.0047    -0.7311     0.4647     -0.0126      0.0058\n",
      "mar            0.0009     0.0053     0.1618     0.8714     -0.0096      0.0113\n",
      "apr            0.0055     0.0051     1.0703     0.2845     -0.0046      0.0156\n",
      "may           -0.0087     0.0043    -2.0119     0.0442     -0.0171     -0.0002\n",
      "jun           -0.0109     0.0044    -2.4695     0.0135     -0.0196     -0.0023\n",
      "jul           -0.0111     0.0036    -3.1098     0.0019     -0.0181     -0.0041\n",
      "aug           -0.0098     0.0042    -2.3562     0.0185     -0.0180     -0.0017\n",
      "sep           -0.0165     0.0036    -4.6373     0.0000     -0.0235     -0.0096\n",
      "oct           -0.0147     0.0039    -3.7794     0.0002     -0.0223     -0.0071\n",
      "nov           -0.0265     0.0031    -8.4965     0.0000     -0.0326     -0.0204\n",
      "dec           -0.0302     0.0032    -9.5873     0.0000     -0.0364     -0.0240\n",
      "==============================================================================\n",
      "\n",
      "Para ver os resultados do 1º estágio/equação reduzida (e ver se os instrumentos são relevantes com o Partial P-Value, chame 'Resultado.first_stage'.\n",
      "\n",
      "Para testar a exogeneidade da variável instrumentada, chame 'Resultado.wooldridge_regression' ou 'Resultado.wooldridge_score' ou 'Resultado.wu_hausman([variaveis])'.\n",
      "\n",
      "Para testar a exogeneidade dos instrumentos (quando eles forem mais numerosos que as variáveis endógenas (restrições sobreidentificadoras)), chame 'Resultado.wooldridge_overid', onde Ho: todos os instrumentos são exógenos.\n",
      "\n",
      "/Users/vinicius/opt/anaconda3/envs/myenv/lib/python3.7/site-packages/linearmodels/shared/exceptions.py:35: MissingValueWarning:\n",
      "\n",
      "\n",
      "Inputs contain missing values. Dropping rows with missing observations.\n",
      "\n"
     ]
    }
   ],
   "source": [
    "## estimando a oferta inversa do crescimennto do preço de cimento em função do crescimento da oferta\n",
    "# espera-se a1 positivo (uma maior oferta é resultado de um aumento de preço); espera-se que b1 seja positivo, já que o petróleo é um insumo para o cimento\n",
    "\n",
    "exog = df[['gcem','gprcpet','feb','mar','apr','may','jun','jul','aug','sep','oct','nov','dec']]\n",
    "endog = None\n",
    "instrumentos = None\n",
    "y = df['gprc']\n",
    "\n",
    "Regressao_IV_MQ2E(exog=exog, endog=endog, instrumentos=instrumentos, y=y)\n",
    "\n",
    "## a curva de oferta é negativamente inclinada, com o coeficiente do crescimento da produção de petroleo sendo bastante estatisticamente significante e negativo"
   ]
  },
  {
   "cell_type": "code",
   "execution_count": 20,
   "metadata": {},
   "outputs": [
    {
     "output_type": "stream",
     "name": "stdout",
     "text": [
      "                            OLS Estimation Summary                            \n==============================================================================\nDep. Variable:                   gcem   R-squared:                      0.8580\nEstimator:                        OLS   Adj. R-squared:                 0.8517\nNo. Observations:                 306   F-statistic:                    1848.6\nDate:                Mon, Apr 05 2021   P-value (F-stat)                0.0000\nTime:                        22:14:41   Distribution:                 chi2(13)\nCov. Estimator:            unadjusted                                         \n                                                                              \n                             Parameter Estimates                              \n==============================================================================\n            Parameter  Std. Err.     T-stat    P-value    Lower CI    Upper CI\n------------------------------------------------------------------------------\nconst         -0.2482     0.0144    -17.272     0.0000     -0.2763     -0.2200\ngdefs         -1.0541     3.4968    -0.3014     0.7631     -7.9078      5.7996\ngprcpet        0.0670     0.0975     0.6876     0.4917     -0.1240      0.2581\nfeb            0.3972     0.0202     19.688     0.0000      0.3577      0.4368\nmar            0.4870     0.0202     24.145     0.0000      0.4474      0.5265\napr            0.4631     0.0200     23.171     0.0000      0.4239      0.5022\nmay            0.3446     0.0200     17.203     0.0000      0.3053      0.3839\njun            0.3568     0.0199     17.908     0.0000      0.3177      0.3958\njul            0.2051     0.0200     10.258     0.0000      0.1659      0.2443\naug            0.3133     0.0200     15.659     0.0000      0.2741      0.3525\nsep            0.2037     0.0201     10.128     0.0000      0.1643      0.2431\noct            0.2636     0.0202     13.061     0.0000      0.2240      0.3031\nnov            0.0100     0.0201     0.4980     0.6185     -0.0295      0.0495\ndec           -0.0606     0.0201    -3.0173     0.0026     -0.1000     -0.0213\n==============================================================================\n\nPara ver os resultados do 1º estágio/equação reduzida (e ver se os instrumentos são relevantes com o Partial P-Value, chame 'Resultado.first_stage'.\n\nPara testar a exogeneidade da variável instrumentada, chame 'Resultado.wooldridge_regression' ou 'Resultado.wooldridge_score' ou 'Resultado.wu_hausman([variaveis])'.\n\nPara testar a exogeneidade dos instrumentos (quando eles forem mais numerosos que as variáveis endógenas (restrições sobreidentificadoras)), chame 'Resultado.wooldridge_overid', onde Ho: todos os instrumentos são exógenos.\n\n"
     ]
    }
   ],
   "source": [
    "## para que gdefs seja uma boa vi de gcem, ela deve ser não correlacionada com o termo de erro e correlacionada com gcem;\n",
    "# testando a correlação parcial, ve-se que a condição de relevancia não é satisfeita\n",
    "exog = df[['gdefs','gprcpet','feb','mar','apr','may','jun','jul','aug','sep','oct','nov','dec']]\n",
    "endog = None\n",
    "instrumentos = None\n",
    "y = df['gcem']\n",
    "\n",
    "Regressao_IV_MQ2E(exog=exog, endog=endog, instrumentos=instrumentos, y=y)"
   ]
  },
  {
   "cell_type": "code",
   "execution_count": 21,
   "metadata": {},
   "outputs": [
    {
     "output_type": "stream",
     "name": "stdout",
     "text": [
      "                            OLS Estimation Summary                            \n==============================================================================\nDep. Variable:                   gcem   R-squared:                      0.8722\nEstimator:                        OLS   Adj. R-squared:                 0.8661\nNo. Observations:                 309   F-statistic:                    2109.0\nDate:                Mon, Apr 05 2021   P-value (F-stat)                0.0000\nTime:                        22:14:41   Distribution:                 chi2(14)\nCov. Estimator:            unadjusted                                         \n                                                                              \n                             Parameter Estimates                              \n==============================================================================\n            Parameter  Std. Err.     T-stat    P-value    Lower CI    Upper CI\n------------------------------------------------------------------------------\nconst         -0.2437     0.0136    -17.924     0.0000     -0.2704     -0.2171\ngres           0.1361     0.1350     1.0084     0.3133     -0.1285      0.4008\ngnon           1.1455     0.2044     5.6036     0.0000      0.7448      1.5461\ngprcpet        0.0369     0.0922     0.4005     0.6888     -0.1438      0.2177\nfeb            0.3976     0.0189     21.021     0.0000      0.3605      0.4346\nmar            0.4709     0.0194     24.314     0.0000      0.4329      0.5088\napr            0.4576     0.0190     24.144     0.0000      0.4204      0.4947\nmay            0.3402     0.0189     17.998     0.0000      0.3032      0.3773\njun            0.3555     0.0188     18.873     0.0000      0.3186      0.3925\njul            0.1977     0.0189     10.431     0.0000      0.1605      0.2348\naug            0.3084     0.0189     16.283     0.0000      0.2713      0.3456\nsep            0.1878     0.0190     9.8895     0.0000      0.1506      0.2250\noct            0.2705     0.0189     14.299     0.0000      0.2334      0.3075\nnov            0.0031     0.0191     0.1620     0.8713     -0.0343      0.0405\ndec           -0.0713     0.0191    -3.7357     0.0002     -0.1087     -0.0339\n==============================================================================\n\nPara ver os resultados do 1º estágio/equação reduzida (e ver se os instrumentos são relevantes com o Partial P-Value, chame 'Resultado.first_stage'.\n\nPara testar a exogeneidade da variável instrumentada, chame 'Resultado.wooldridge_regression' ou 'Resultado.wooldridge_score' ou 'Resultado.wu_hausman([variaveis])'.\n\nPara testar a exogeneidade dos instrumentos (quando eles forem mais numerosos que as variáveis endógenas (restrições sobreidentificadoras)), chame 'Resultado.wooldridge_overid', onde Ho: todos os instrumentos são exógenos.\n\n"
     ]
    }
   ],
   "source": [
    "## testando se gres (crescimento no produto de construção residental) e gnon (crescimento no produto de construção não residencial residental) são boas VIs para gcem (crescimento da oferta de cimento)\n",
    "exog = df[['gres','gnon','gprcpet','feb','mar','apr','may','jun','jul','aug','sep','oct','nov','dec']]\n",
    "endog = None\n",
    "instrumentos = None\n",
    "y = df['gcem']\n",
    "\n",
    "Regressao_IV_MQ2E(exog=exog, endog=endog, instrumentos=instrumentos, y=y)"
   ]
  },
  {
   "cell_type": "code",
   "execution_count": 22,
   "metadata": {},
   "outputs": [
    {
     "output_type": "stream",
     "name": "stdout",
     "text": [
      "O valor de LM é 34.761842 e seu p-valor é 0.0.\nPortanto, rejeita-se Ho à significância de 5.0%, ou seja, as variáveis são conjuntamente significantes.\n"
     ]
    }
   ],
   "source": [
    "## o teste F é; as candidatas são boas VIs\n",
    "Teste_F_Rapido_Robusto('gres = gnon = 0')"
   ]
  },
  {
   "cell_type": "code",
   "execution_count": 23,
   "metadata": {},
   "outputs": [
    {
     "output_type": "stream",
     "name": "stdout",
     "text": [
      "                          IV-2SLS Estimation Summary                          \n==============================================================================\nDep. Variable:                   gprc   R-squared:                      0.3560\nEstimator:                    IV-2SLS   Adj. R-squared:                 0.3265\nNo. Observations:                 298   F-statistic:                    154.94\nDate:                Mon, Apr 05 2021   P-value (F-stat)                0.0000\nTime:                        22:14:41   Distribution:                 chi2(13)\nCov. Estimator:            unadjusted                                         \n                                                                              \n                             Parameter Estimates                              \n==============================================================================\n            Parameter  Std. Err.     T-stat    P-value    Lower CI    Upper CI\n------------------------------------------------------------------------------\nconst          0.0228     0.0071     3.2147     0.0013      0.0089      0.0367\ngprcpet        0.0605     0.0154     3.9404     0.0001      0.0304      0.0906\nfeb           -0.0168     0.0112    -1.5009     0.1334     -0.0388      0.0051\nmar           -0.0156     0.0136    -1.1472     0.2513     -0.0423      0.0111\napr           -0.0101     0.0129    -0.7810     0.4348     -0.0353      0.0152\nmay           -0.0201     0.0097    -2.0714     0.0383     -0.0391     -0.0011\njun           -0.0230     0.0102    -2.2570     0.0240     -0.0430     -0.0030\njul           -0.0180     0.0063    -2.8345     0.0046     -0.0304     -0.0055\naug           -0.0204     0.0091    -2.2486     0.0245     -0.0382     -0.0026\nsep           -0.0234     0.0063    -3.6928     0.0002     -0.0358     -0.0110\noct           -0.0236     0.0078    -3.0149     0.0026     -0.0389     -0.0082\nnov           -0.0269     0.0032    -8.3908     0.0000     -0.0332     -0.0206\ndec           -0.0283     0.0035    -8.0221     0.0000     -0.0352     -0.0214\ngcem          -0.0106     0.0271    -0.3899     0.6966     -0.0636      0.0425\n==============================================================================\n\nEndogenous: gcem\nInstruments: gres, gnon\nUnadjusted Covariance (Homoskedastic)\nDebiased: False\n\nPara ver os resultados do 1º estágio/equação reduzida (e ver se os instrumentos são relevantes com o Partial P-Value, chame 'Resultado.first_stage'.\n\nPara testar a exogeneidade da variável instrumentada, chame 'Resultado.wooldridge_regression' ou 'Resultado.wooldridge_score' ou 'Resultado.wu_hausman([variaveis])'.\n\nPara testar a exogeneidade dos instrumentos (quando eles forem mais numerosos que as variáveis endógenas (restrições sobreidentificadoras)), chame 'Resultado.wooldridge_overid', onde Ho: todos os instrumentos são exógenos.\n\n"
     ]
    }
   ],
   "source": [
    "## usando gres e gnon como VI, o coeficiente de gcen é bem menos negativo e agora é estatisticamente insignificante; a curva de oferta inversa é horizontal (qualquer quantidade pode ser produzida a determinado preço)\n",
    "exog = df[['gprcpet','feb','mar','apr','may','jun','jul','aug','sep','oct','nov','dec']]\n",
    "endog = df[['gcem']]\n",
    "instrumentos = df[['gres','gnon']]\n",
    "y = df['gprc']\n",
    "\n",
    "Regressao_IV_MQ2E(exog=exog, endog=endog, instrumentos=instrumentos, y=y)"
   ]
  },
  {
   "source": [
    "## Exercício C9"
   ],
   "cell_type": "markdown",
   "metadata": {}
  },
  {
   "cell_type": "code",
   "execution_count": 38,
   "metadata": {},
   "outputs": [
    {
     "output_type": "stream",
     "name": "stdout",
     "text": [
      "airfare.dta foi lido com sucesso!\n"
     ]
    }
   ],
   "source": [
    "coletar_dados('airfare')\n",
    "df = df.loc[df['year'] == 1997]"
   ]
  },
  {
   "cell_type": "code",
   "execution_count": 39,
   "metadata": {},
   "outputs": [
    {
     "output_type": "stream",
     "name": "stdout",
     "text": [
      "                            OLS Estimation Summary                            \n==============================================================================\nDep. Variable:                lpassen   R-squared:                      0.0567\nEstimator:                        OLS   Adj. R-squared:                 0.0543\nNo. Observations:                1149   F-statistic:                    69.110\nDate:                Tue, Apr 06 2021   P-value (F-stat)                0.0000\nTime:                        08:39:59   Distribution:                  chi2(3)\nCov. Estimator:            unadjusted                                         \n                                                                              \n                             Parameter Estimates                              \n==============================================================================\n            Parameter  Std. Err.     T-stat    P-value    Lower CI    Upper CI\n------------------------------------------------------------------------------\nconst          13.230     2.0965     6.3104     0.0000      9.1206      17.339\nlfare         -0.3912     0.0671    -5.8269     0.0000     -0.5227     -0.2596\nldist         -1.5705     0.6274    -2.5031     0.0123     -2.8002     -0.3408\nldistsq        0.1158     0.0476     2.4302     0.0151      0.0224      0.2091\n==============================================================================\n\nPara ver os resultados do 1º estágio/equação reduzida (e ver se os instrumentos são relevantes com o Partial P-Value, chame 'Resultado.first_stage'.\n\nPara testar a exogeneidade da variável instrumentada, chame 'Resultado.wooldridge_regression' ou 'Resultado.wooldridge_score' ou 'Resultado.wu_hausman([variaveis])'.\n\nPara testar a exogeneidade dos instrumentos (quando eles forem mais numerosos que as variáveis endógenas (restrições sobreidentificadoras)), chame 'Resultado.wooldridge_overid', onde Ho: todos os instrumentos são exógenos.\n\nO código da equação foi copiado para o clipboard!\n"
     ]
    }
   ],
   "source": [
    "## estimando a demanda por poltronas de avião\n",
    "# caso fosse uma curva de demanda clássica, a1 - o coeficiente da tarifa - seria negativo\n",
    "# de fato, a elasticidade-preço da demanda é -0,391\n",
    "exog = df[['lfare','ldist','ldistsq']]\n",
    "endog = None\n",
    "instrumentos = None\n",
    "y = df['lpassen']\n",
    "\n",
    "Regressao_IV_MQ2E(exog=exog, endog=endog, instrumentos=instrumentos, y=y)\n",
    "equation()"
   ]
  },
  {
   "cell_type": "code",
   "execution_count": 27,
   "metadata": {},
   "outputs": [],
   "source": [
    "## para que concen seja exógena, o tamanho do mercado obtido pelo maior player não poderia ter um numero maior de passageiros. Assim, a escolha dos passageiros não depende do tamanho de mercado das linhas áereas"
   ]
  },
  {
   "cell_type": "code",
   "execution_count": 28,
   "metadata": {},
   "outputs": [
    {
     "output_type": "stream",
     "name": "stdout",
     "text": [
      "                            OLS Estimation Summary                            \n==============================================================================\nDep. Variable:                  lfare   R-squared:                      0.4076\nEstimator:                        OLS   Adj. R-squared:                 0.4060\nNo. Observations:                1149   F-statistic:                    790.55\nDate:                Mon, Apr 05 2021   P-value (F-stat)                0.0000\nTime:                        22:14:42   Distribution:                  chi2(3)\nCov. Estimator:            unadjusted                                         \n                                                                              \n                             Parameter Estimates                              \n==============================================================================\n            Parameter  Std. Err.     T-stat    P-value    Lower CI    Upper CI\n------------------------------------------------------------------------------\nconst          6.1901     0.8883     6.9682     0.0000      4.4490      7.9311\nconcen         0.3950     0.0626     6.3096     0.0000      0.2723      0.5177\nldist         -0.9361     0.2714    -3.4494     0.0006     -1.4679     -0.4042\nldistsq        0.1081     0.0206     5.2495     0.0000      0.0677      0.1484\n==============================================================================\n\nPara ver os resultados do 1º estágio/equação reduzida (e ver se os instrumentos são relevantes com o Partial P-Value, chame 'Resultado.first_stage'.\n\nPara testar a exogeneidade da variável instrumentada, chame 'Resultado.wooldridge_regression' ou 'Resultado.wooldridge_score' ou 'Resultado.wu_hausman([variaveis])'.\n\nPara testar a exogeneidade dos instrumentos (quando eles forem mais numerosos que as variáveis endógenas (restrições sobreidentificadoras)), chame 'Resultado.wooldridge_overid', onde Ho: todos os instrumentos são exógenos.\n\n"
     ]
    }
   ],
   "source": [
    "## estimando a equação reduzida de lfare com concen como exógena; o efeito de concen é positivo e estatisticamente significante\n",
    "exog = df[['concen','ldist','ldistsq']]\n",
    "endog = None\n",
    "instrumentos = None\n",
    "y = df['lfare']\n",
    "\n",
    "Regressao_IV_MQ2E(exog=exog, endog=endog, instrumentos=instrumentos, y=y)"
   ]
  },
  {
   "cell_type": "code",
   "execution_count": 29,
   "metadata": {},
   "outputs": [
    {
     "output_type": "stream",
     "name": "stdout",
     "text": [
      "                          IV-2SLS Estimation Summary                          \n==============================================================================\nDep. Variable:                lpassen   R-squared:                     -0.0549\nEstimator:                    IV-2SLS   Adj. R-squared:                -0.0577\nNo. Observations:                1149   F-statistic:                    40.594\nDate:                Mon, Apr 05 2021   P-value (F-stat)                0.0000\nTime:                        22:14:43   Distribution:                  chi2(3)\nCov. Estimator:            unadjusted                                         \n                                                                              \n                             Parameter Estimates                              \n==============================================================================\n            Parameter  Std. Err.     T-stat    P-value    Lower CI    Upper CI\n------------------------------------------------------------------------------\nconst          18.014     3.2169     5.5998     0.0000      11.709      24.319\nldist         -2.1757     0.7261    -2.9965     0.0027     -3.5987     -0.7526\nldistsq        0.1870     0.0612     3.0569     0.0022      0.0671      0.3069\nlfare         -1.1740     0.3879    -3.0262     0.0025     -1.9344     -0.4136\n==============================================================================\n\nEndogenous: lfare\nInstruments: concen\nUnadjusted Covariance (Homoskedastic)\nDebiased: False\n\nPara ver os resultados do 1º estágio/equação reduzida (e ver se os instrumentos são relevantes com o Partial P-Value, chame 'Resultado.first_stage'.\n\nPara testar a exogeneidade da variável instrumentada, chame 'Resultado.wooldridge_regression' ou 'Resultado.wooldridge_score' ou 'Resultado.wu_hausman([variaveis])'.\n\nPara testar a exogeneidade dos instrumentos (quando eles forem mais numerosos que as variáveis endógenas (restrições sobreidentificadoras)), chame 'Resultado.wooldridge_overid', onde Ho: todos os instrumentos são exógenos.\n\n"
     ]
    }
   ],
   "source": [
    "## usando concen como vi do preço, a elasticidade do preço aumenta para -1,17, mas seu intervalo de confiança é bem mais amplo que o da estimativa de OLS: um aumento de 1% no preço reduz a demanda em mais de 1%\n",
    "## a demanda por poltronas é uma função quadrática do preço, tendo um formato em U (a demanda por passagens é menor em distância menores e cresce com o passar do tempo)\n",
    "exog = df[['ldist','ldistsq']]\n",
    "endog = df[['lfare']]\n",
    "instrumentos = df[['concen']]\n",
    "y = df['lpassen']\n",
    "\n",
    "Regressao_IV_MQ2E(exog=exog, endog=endog, instrumentos=instrumentos, y=y)"
   ]
  },
  {
   "cell_type": "code",
   "execution_count": 41,
   "metadata": {},
   "outputs": [
    {
     "output_type": "execute_result",
     "data": {
      "text/plain": [
       "0.10791993037423847"
      ]
     },
     "metadata": {},
     "execution_count": 41
    }
   ],
   "source": [
    "## vendo a proporção de voos com ldist <5,8\n",
    "len(df['ldist'].loc[df['ldist'] < 5.8])/len(df['ldist'])"
   ]
  },
  {
   "source": [
    "## Exercício C11"
   ],
   "cell_type": "markdown",
   "metadata": {}
  },
  {
   "cell_type": "code",
   "execution_count": 43,
   "metadata": {},
   "outputs": [
    {
     "output_type": "stream",
     "name": "stdout",
     "text": [
      "EXPENDSHARES.dta foi lido com sucesso!\n"
     ]
    },
    {
     "output_type": "execute_result",
     "data": {
      "text/plain": [
       "       sfood   sfuel  sclothes  salcohol  stransport  sother  totexpend  \\\n",
       "0     0.4272  0.1342    0.0000    0.0106      0.1458  0.2822         50   \n",
       "1     0.3739  0.1686    0.0091    0.0825      0.1215  0.2444         90   \n",
       "2     0.1941  0.4056    0.0012    0.0513      0.2063  0.1415        180   \n",
       "3     0.4438  0.1258    0.0539    0.0397      0.0652  0.2716         80   \n",
       "4     0.3331  0.0824    0.0399    0.1571      0.2403  0.1472         90   \n",
       "...      ...     ...       ...       ...         ...     ...        ...   \n",
       "1514  0.4106  0.0402    0.0054    0.0700      0.2256  0.2482         90   \n",
       "1515  0.2787  0.1066    0.0176    0.0000      0.2196  0.3775         70   \n",
       "1516  0.3298  0.0759    0.2566    0.0292      0.1309  0.1776        100   \n",
       "1517  0.6061  0.0459    0.0787    0.0679      0.0259  0.1755        130   \n",
       "1518  0.1885  0.0328    0.1279    0.2162      0.1575  0.2771        140   \n",
       "\n",
       "      income  age  kids  ltotexpend   lincome  agesq  \n",
       "0        130   25     2    3.912023  4.867535    625  \n",
       "1        150   39     2    4.499810  5.010635   1521  \n",
       "2        230   47     2    5.192957  5.438079   2209  \n",
       "3        100   33     2    4.382027  4.605170   1089  \n",
       "4        100   31     1    4.499810  4.605170    961  \n",
       "...      ...  ...   ...         ...       ...    ...  \n",
       "1514     120   29     2    4.499810  4.787492    841  \n",
       "1515      90   34     2    4.248495  4.499810   1156  \n",
       "1516     260   38     2    4.605170  5.560682   1444  \n",
       "1517     160   44     2    4.867535  5.075174   1936  \n",
       "1518     140   27     1    4.941642  4.941642    729  \n",
       "\n",
       "[1519 rows x 13 columns]"
      ],
      "text/html": "<div>\n<style scoped>\n    .dataframe tbody tr th:only-of-type {\n        vertical-align: middle;\n    }\n\n    .dataframe tbody tr th {\n        vertical-align: top;\n    }\n\n    .dataframe thead th {\n        text-align: right;\n    }\n</style>\n<table border=\"1\" class=\"dataframe\">\n  <thead>\n    <tr style=\"text-align: right;\">\n      <th></th>\n      <th>sfood</th>\n      <th>sfuel</th>\n      <th>sclothes</th>\n      <th>salcohol</th>\n      <th>stransport</th>\n      <th>sother</th>\n      <th>totexpend</th>\n      <th>income</th>\n      <th>age</th>\n      <th>kids</th>\n      <th>ltotexpend</th>\n      <th>lincome</th>\n      <th>agesq</th>\n    </tr>\n  </thead>\n  <tbody>\n    <tr>\n      <th>0</th>\n      <td>0.4272</td>\n      <td>0.1342</td>\n      <td>0.0000</td>\n      <td>0.0106</td>\n      <td>0.1458</td>\n      <td>0.2822</td>\n      <td>50</td>\n      <td>130</td>\n      <td>25</td>\n      <td>2</td>\n      <td>3.912023</td>\n      <td>4.867535</td>\n      <td>625</td>\n    </tr>\n    <tr>\n      <th>1</th>\n      <td>0.3739</td>\n      <td>0.1686</td>\n      <td>0.0091</td>\n      <td>0.0825</td>\n      <td>0.1215</td>\n      <td>0.2444</td>\n      <td>90</td>\n      <td>150</td>\n      <td>39</td>\n      <td>2</td>\n      <td>4.499810</td>\n      <td>5.010635</td>\n      <td>1521</td>\n    </tr>\n    <tr>\n      <th>2</th>\n      <td>0.1941</td>\n      <td>0.4056</td>\n      <td>0.0012</td>\n      <td>0.0513</td>\n      <td>0.2063</td>\n      <td>0.1415</td>\n      <td>180</td>\n      <td>230</td>\n      <td>47</td>\n      <td>2</td>\n      <td>5.192957</td>\n      <td>5.438079</td>\n      <td>2209</td>\n    </tr>\n    <tr>\n      <th>3</th>\n      <td>0.4438</td>\n      <td>0.1258</td>\n      <td>0.0539</td>\n      <td>0.0397</td>\n      <td>0.0652</td>\n      <td>0.2716</td>\n      <td>80</td>\n      <td>100</td>\n      <td>33</td>\n      <td>2</td>\n      <td>4.382027</td>\n      <td>4.605170</td>\n      <td>1089</td>\n    </tr>\n    <tr>\n      <th>4</th>\n      <td>0.3331</td>\n      <td>0.0824</td>\n      <td>0.0399</td>\n      <td>0.1571</td>\n      <td>0.2403</td>\n      <td>0.1472</td>\n      <td>90</td>\n      <td>100</td>\n      <td>31</td>\n      <td>1</td>\n      <td>4.499810</td>\n      <td>4.605170</td>\n      <td>961</td>\n    </tr>\n    <tr>\n      <th>...</th>\n      <td>...</td>\n      <td>...</td>\n      <td>...</td>\n      <td>...</td>\n      <td>...</td>\n      <td>...</td>\n      <td>...</td>\n      <td>...</td>\n      <td>...</td>\n      <td>...</td>\n      <td>...</td>\n      <td>...</td>\n      <td>...</td>\n    </tr>\n    <tr>\n      <th>1514</th>\n      <td>0.4106</td>\n      <td>0.0402</td>\n      <td>0.0054</td>\n      <td>0.0700</td>\n      <td>0.2256</td>\n      <td>0.2482</td>\n      <td>90</td>\n      <td>120</td>\n      <td>29</td>\n      <td>2</td>\n      <td>4.499810</td>\n      <td>4.787492</td>\n      <td>841</td>\n    </tr>\n    <tr>\n      <th>1515</th>\n      <td>0.2787</td>\n      <td>0.1066</td>\n      <td>0.0176</td>\n      <td>0.0000</td>\n      <td>0.2196</td>\n      <td>0.3775</td>\n      <td>70</td>\n      <td>90</td>\n      <td>34</td>\n      <td>2</td>\n      <td>4.248495</td>\n      <td>4.499810</td>\n      <td>1156</td>\n    </tr>\n    <tr>\n      <th>1516</th>\n      <td>0.3298</td>\n      <td>0.0759</td>\n      <td>0.2566</td>\n      <td>0.0292</td>\n      <td>0.1309</td>\n      <td>0.1776</td>\n      <td>100</td>\n      <td>260</td>\n      <td>38</td>\n      <td>2</td>\n      <td>4.605170</td>\n      <td>5.560682</td>\n      <td>1444</td>\n    </tr>\n    <tr>\n      <th>1517</th>\n      <td>0.6061</td>\n      <td>0.0459</td>\n      <td>0.0787</td>\n      <td>0.0679</td>\n      <td>0.0259</td>\n      <td>0.1755</td>\n      <td>130</td>\n      <td>160</td>\n      <td>44</td>\n      <td>2</td>\n      <td>4.867535</td>\n      <td>5.075174</td>\n      <td>1936</td>\n    </tr>\n    <tr>\n      <th>1518</th>\n      <td>0.1885</td>\n      <td>0.0328</td>\n      <td>0.1279</td>\n      <td>0.2162</td>\n      <td>0.1575</td>\n      <td>0.2771</td>\n      <td>140</td>\n      <td>140</td>\n      <td>27</td>\n      <td>1</td>\n      <td>4.941642</td>\n      <td>4.941642</td>\n      <td>729</td>\n    </tr>\n  </tbody>\n</table>\n<p>1519 rows × 13 columns</p>\n</div>"
     },
     "metadata": {},
     "execution_count": 43
    }
   ],
   "source": [
    "coletar_dados('EXPENDSHARES')"
   ]
  },
  {
   "cell_type": "code",
   "execution_count": 45,
   "metadata": {},
   "outputs": [
    {
     "output_type": "execute_result",
     "data": {
      "text/plain": [
       "count    1519.000000\n",
       "mean        0.356459\n",
       "std         0.105125\n",
       "min         0.057100\n",
       "25%         0.281700\n",
       "50%         0.354000\n",
       "75%         0.425750\n",
       "max         0.789000\n",
       "Name: sfood, dtype: float64"
      ]
     },
     "metadata": {},
     "execution_count": 45
    }
   ],
   "source": [
    "## vendo a distribuição do % de gastos em comida; o mínimo é 5%, já que nenhuma pessoa não gasta nada com comida (é um bem essencial/inelástico)\n",
    "df['sfood'].describe()"
   ]
  },
  {
   "cell_type": "code",
   "execution_count": 46,
   "metadata": {},
   "outputs": [
    {
     "output_type": "execute_result",
     "data": {
      "text/plain": [
       "Text(0.5, 1.0, 'Distribuição do percentual de gastos com comida')"
      ]
     },
     "metadata": {},
     "execution_count": 46
    },
    {
     "output_type": "display_data",
     "data": {
      "text/plain": "<Figure size 576x360 with 1 Axes>",
      "image/svg+xml": "<?xml version=\"1.0\" encoding=\"utf-8\" standalone=\"no\"?>\n<!DOCTYPE svg PUBLIC \"-//W3C//DTD SVG 1.1//EN\"\n  \"http://www.w3.org/Graphics/SVG/1.1/DTD/svg11.dtd\">\n<!-- Created with matplotlib (https://matplotlib.org/) -->\n<svg height=\"305.0225pt\" version=\"1.1\" viewBox=\"0 0 497.38125 305.0225\" width=\"497.38125pt\" xmlns=\"http://www.w3.org/2000/svg\" xmlns:xlink=\"http://www.w3.org/1999/xlink\">\n <defs>\n  <style type=\"text/css\">\n*{stroke-linecap:butt;stroke-linejoin:round;}\n  </style>\n </defs>\n <g id=\"figure_1\">\n  <g id=\"patch_1\">\n   <path d=\"M 0 305.0225 \nL 497.38125 305.0225 \nL 497.38125 0 \nL 0 0 \nz\n\" style=\"fill:none;\"/>\n  </g>\n  <g id=\"axes_1\">\n   <g id=\"patch_2\">\n    <path d=\"M 43.78125 294.3225 \nL 490.18125 294.3225 \nL 490.18125 22.5225 \nL 43.78125 22.5225 \nz\n\" style=\"fill:#ffffff;\"/>\n   </g>\n   <g id=\"patch_3\">\n    <path clip-path=\"url(#pc434cbc593)\" d=\"M 88.42125 206.142541 \nL 445.54125 206.142541 \nL 445.54125 157.51097 \nL 88.42125 157.51097 \nL 88.42125 206.142541 \nz\n\" style=\"fill:#3274a1;stroke:#3f3f3f;stroke-linejoin:miter;stroke-width:1.5;\"/>\n   </g>\n   <g id=\"matplotlib.axis_1\">\n    <g id=\"xtick_1\">\n     <g id=\"line2d_1\">\n      <defs>\n       <path d=\"M 0 0 \nL 0 3.5 \n\" id=\"m7ee5589758\" style=\"stroke:#000000;stroke-width:0.8;\"/>\n      </defs>\n      <g>\n       <use style=\"stroke:#000000;stroke-width:0.8;\" x=\"266.98125\" xlink:href=\"#m7ee5589758\" y=\"294.3225\"/>\n      </g>\n     </g>\n    </g>\n   </g>\n   <g id=\"matplotlib.axis_2\">\n    <g id=\"ytick_1\">\n     <g id=\"line2d_2\">\n      <defs>\n       <path d=\"M 0 0 \nL -3.5 0 \n\" id=\"m45de73dfc4\" style=\"stroke:#000000;stroke-width:0.8;\"/>\n      </defs>\n      <g>\n       <use style=\"stroke:#000000;stroke-width:0.8;\" x=\"43.78125\" xlink:href=\"#m45de73dfc4\" y=\"267.484828\"/>\n      </g>\n     </g>\n     <g id=\"text_1\">\n      <!-- 0.1 -->\n      <defs>\n       <path d=\"M 31.78125 66.40625 \nQ 24.171875 66.40625 20.328125 58.90625 \nQ 16.5 51.421875 16.5 36.375 \nQ 16.5 21.390625 20.328125 13.890625 \nQ 24.171875 6.390625 31.78125 6.390625 \nQ 39.453125 6.390625 43.28125 13.890625 \nQ 47.125 21.390625 47.125 36.375 \nQ 47.125 51.421875 43.28125 58.90625 \nQ 39.453125 66.40625 31.78125 66.40625 \nz\nM 31.78125 74.21875 \nQ 44.046875 74.21875 50.515625 64.515625 \nQ 56.984375 54.828125 56.984375 36.375 \nQ 56.984375 17.96875 50.515625 8.265625 \nQ 44.046875 -1.421875 31.78125 -1.421875 \nQ 19.53125 -1.421875 13.0625 8.265625 \nQ 6.59375 17.96875 6.59375 36.375 \nQ 6.59375 54.828125 13.0625 64.515625 \nQ 19.53125 74.21875 31.78125 74.21875 \nz\n\" id=\"DejaVuSans-48\"/>\n       <path d=\"M 10.6875 12.40625 \nL 21 12.40625 \nL 21 0 \nL 10.6875 0 \nz\n\" id=\"DejaVuSans-46\"/>\n       <path d=\"M 12.40625 8.296875 \nL 28.515625 8.296875 \nL 28.515625 63.921875 \nL 10.984375 60.40625 \nL 10.984375 69.390625 \nL 28.421875 72.90625 \nL 38.28125 72.90625 \nL 38.28125 8.296875 \nL 54.390625 8.296875 \nL 54.390625 0 \nL 12.40625 0 \nz\n\" id=\"DejaVuSans-49\"/>\n      </defs>\n      <g transform=\"translate(20.878125 271.284047)scale(0.1 -0.1)\">\n       <use xlink:href=\"#DejaVuSans-48\"/>\n       <use x=\"63.623047\" xlink:href=\"#DejaVuSans-46\"/>\n       <use x=\"95.410156\" xlink:href=\"#DejaVuSans-49\"/>\n      </g>\n     </g>\n    </g>\n    <g id=\"ytick_2\">\n     <g id=\"line2d_3\">\n      <g>\n       <use style=\"stroke:#000000;stroke-width:0.8;\" x=\"43.78125\" xlink:href=\"#m45de73dfc4\" y=\"233.724627\"/>\n      </g>\n     </g>\n     <g id=\"text_2\">\n      <!-- 0.2 -->\n      <defs>\n       <path d=\"M 19.1875 8.296875 \nL 53.609375 8.296875 \nL 53.609375 0 \nL 7.328125 0 \nL 7.328125 8.296875 \nQ 12.9375 14.109375 22.625 23.890625 \nQ 32.328125 33.6875 34.8125 36.53125 \nQ 39.546875 41.84375 41.421875 45.53125 \nQ 43.3125 49.21875 43.3125 52.78125 \nQ 43.3125 58.59375 39.234375 62.25 \nQ 35.15625 65.921875 28.609375 65.921875 \nQ 23.96875 65.921875 18.8125 64.3125 \nQ 13.671875 62.703125 7.8125 59.421875 \nL 7.8125 69.390625 \nQ 13.765625 71.78125 18.9375 73 \nQ 24.125 74.21875 28.421875 74.21875 \nQ 39.75 74.21875 46.484375 68.546875 \nQ 53.21875 62.890625 53.21875 53.421875 \nQ 53.21875 48.921875 51.53125 44.890625 \nQ 49.859375 40.875 45.40625 35.40625 \nQ 44.1875 33.984375 37.640625 27.21875 \nQ 31.109375 20.453125 19.1875 8.296875 \nz\n\" id=\"DejaVuSans-50\"/>\n      </defs>\n      <g transform=\"translate(20.878125 237.523845)scale(0.1 -0.1)\">\n       <use xlink:href=\"#DejaVuSans-48\"/>\n       <use x=\"63.623047\" xlink:href=\"#DejaVuSans-46\"/>\n       <use x=\"95.410156\" xlink:href=\"#DejaVuSans-50\"/>\n      </g>\n     </g>\n    </g>\n    <g id=\"ytick_3\">\n     <g id=\"line2d_4\">\n      <g>\n       <use style=\"stroke:#000000;stroke-width:0.8;\" x=\"43.78125\" xlink:href=\"#m45de73dfc4\" y=\"199.964425\"/>\n      </g>\n     </g>\n     <g id=\"text_3\">\n      <!-- 0.3 -->\n      <defs>\n       <path d=\"M 40.578125 39.3125 \nQ 47.65625 37.796875 51.625 33 \nQ 55.609375 28.21875 55.609375 21.1875 \nQ 55.609375 10.40625 48.1875 4.484375 \nQ 40.765625 -1.421875 27.09375 -1.421875 \nQ 22.515625 -1.421875 17.65625 -0.515625 \nQ 12.796875 0.390625 7.625 2.203125 \nL 7.625 11.71875 \nQ 11.71875 9.328125 16.59375 8.109375 \nQ 21.484375 6.890625 26.8125 6.890625 \nQ 36.078125 6.890625 40.9375 10.546875 \nQ 45.796875 14.203125 45.796875 21.1875 \nQ 45.796875 27.640625 41.28125 31.265625 \nQ 36.765625 34.90625 28.71875 34.90625 \nL 20.21875 34.90625 \nL 20.21875 43.015625 \nL 29.109375 43.015625 \nQ 36.375 43.015625 40.234375 45.921875 \nQ 44.09375 48.828125 44.09375 54.296875 \nQ 44.09375 59.90625 40.109375 62.90625 \nQ 36.140625 65.921875 28.71875 65.921875 \nQ 24.65625 65.921875 20.015625 65.03125 \nQ 15.375 64.15625 9.8125 62.3125 \nL 9.8125 71.09375 \nQ 15.4375 72.65625 20.34375 73.4375 \nQ 25.25 74.21875 29.59375 74.21875 \nQ 40.828125 74.21875 47.359375 69.109375 \nQ 53.90625 64.015625 53.90625 55.328125 \nQ 53.90625 49.265625 50.4375 45.09375 \nQ 46.96875 40.921875 40.578125 39.3125 \nz\n\" id=\"DejaVuSans-51\"/>\n      </defs>\n      <g transform=\"translate(20.878125 203.763643)scale(0.1 -0.1)\">\n       <use xlink:href=\"#DejaVuSans-48\"/>\n       <use x=\"63.623047\" xlink:href=\"#DejaVuSans-46\"/>\n       <use x=\"95.410156\" xlink:href=\"#DejaVuSans-51\"/>\n      </g>\n     </g>\n    </g>\n    <g id=\"ytick_4\">\n     <g id=\"line2d_5\">\n      <g>\n       <use style=\"stroke:#000000;stroke-width:0.8;\" x=\"43.78125\" xlink:href=\"#m45de73dfc4\" y=\"166.204223\"/>\n      </g>\n     </g>\n     <g id=\"text_4\">\n      <!-- 0.4 -->\n      <defs>\n       <path d=\"M 37.796875 64.3125 \nL 12.890625 25.390625 \nL 37.796875 25.390625 \nz\nM 35.203125 72.90625 \nL 47.609375 72.90625 \nL 47.609375 25.390625 \nL 58.015625 25.390625 \nL 58.015625 17.1875 \nL 47.609375 17.1875 \nL 47.609375 0 \nL 37.796875 0 \nL 37.796875 17.1875 \nL 4.890625 17.1875 \nL 4.890625 26.703125 \nz\n\" id=\"DejaVuSans-52\"/>\n      </defs>\n      <g transform=\"translate(20.878125 170.003441)scale(0.1 -0.1)\">\n       <use xlink:href=\"#DejaVuSans-48\"/>\n       <use x=\"63.623047\" xlink:href=\"#DejaVuSans-46\"/>\n       <use x=\"95.410156\" xlink:href=\"#DejaVuSans-52\"/>\n      </g>\n     </g>\n    </g>\n    <g id=\"ytick_5\">\n     <g id=\"line2d_6\">\n      <g>\n       <use style=\"stroke:#000000;stroke-width:0.8;\" x=\"43.78125\" xlink:href=\"#m45de73dfc4\" y=\"132.444021\"/>\n      </g>\n     </g>\n     <g id=\"text_5\">\n      <!-- 0.5 -->\n      <defs>\n       <path d=\"M 10.796875 72.90625 \nL 49.515625 72.90625 \nL 49.515625 64.59375 \nL 19.828125 64.59375 \nL 19.828125 46.734375 \nQ 21.96875 47.46875 24.109375 47.828125 \nQ 26.265625 48.1875 28.421875 48.1875 \nQ 40.625 48.1875 47.75 41.5 \nQ 54.890625 34.8125 54.890625 23.390625 \nQ 54.890625 11.625 47.5625 5.09375 \nQ 40.234375 -1.421875 26.90625 -1.421875 \nQ 22.3125 -1.421875 17.546875 -0.640625 \nQ 12.796875 0.140625 7.71875 1.703125 \nL 7.71875 11.625 \nQ 12.109375 9.234375 16.796875 8.0625 \nQ 21.484375 6.890625 26.703125 6.890625 \nQ 35.15625 6.890625 40.078125 11.328125 \nQ 45.015625 15.765625 45.015625 23.390625 \nQ 45.015625 31 40.078125 35.4375 \nQ 35.15625 39.890625 26.703125 39.890625 \nQ 22.75 39.890625 18.8125 39.015625 \nQ 14.890625 38.140625 10.796875 36.28125 \nz\n\" id=\"DejaVuSans-53\"/>\n      </defs>\n      <g transform=\"translate(20.878125 136.243239)scale(0.1 -0.1)\">\n       <use xlink:href=\"#DejaVuSans-48\"/>\n       <use x=\"63.623047\" xlink:href=\"#DejaVuSans-46\"/>\n       <use x=\"95.410156\" xlink:href=\"#DejaVuSans-53\"/>\n      </g>\n     </g>\n    </g>\n    <g id=\"ytick_6\">\n     <g id=\"line2d_7\">\n      <g>\n       <use style=\"stroke:#000000;stroke-width:0.8;\" x=\"43.78125\" xlink:href=\"#m45de73dfc4\" y=\"98.683819\"/>\n      </g>\n     </g>\n     <g id=\"text_6\">\n      <!-- 0.6 -->\n      <defs>\n       <path d=\"M 33.015625 40.375 \nQ 26.375 40.375 22.484375 35.828125 \nQ 18.609375 31.296875 18.609375 23.390625 \nQ 18.609375 15.53125 22.484375 10.953125 \nQ 26.375 6.390625 33.015625 6.390625 \nQ 39.65625 6.390625 43.53125 10.953125 \nQ 47.40625 15.53125 47.40625 23.390625 \nQ 47.40625 31.296875 43.53125 35.828125 \nQ 39.65625 40.375 33.015625 40.375 \nz\nM 52.59375 71.296875 \nL 52.59375 62.3125 \nQ 48.875 64.0625 45.09375 64.984375 \nQ 41.3125 65.921875 37.59375 65.921875 \nQ 27.828125 65.921875 22.671875 59.328125 \nQ 17.53125 52.734375 16.796875 39.40625 \nQ 19.671875 43.65625 24.015625 45.921875 \nQ 28.375 48.1875 33.59375 48.1875 \nQ 44.578125 48.1875 50.953125 41.515625 \nQ 57.328125 34.859375 57.328125 23.390625 \nQ 57.328125 12.15625 50.6875 5.359375 \nQ 44.046875 -1.421875 33.015625 -1.421875 \nQ 20.359375 -1.421875 13.671875 8.265625 \nQ 6.984375 17.96875 6.984375 36.375 \nQ 6.984375 53.65625 15.1875 63.9375 \nQ 23.390625 74.21875 37.203125 74.21875 \nQ 40.921875 74.21875 44.703125 73.484375 \nQ 48.484375 72.75 52.59375 71.296875 \nz\n\" id=\"DejaVuSans-54\"/>\n      </defs>\n      <g transform=\"translate(20.878125 102.483037)scale(0.1 -0.1)\">\n       <use xlink:href=\"#DejaVuSans-48\"/>\n       <use x=\"63.623047\" xlink:href=\"#DejaVuSans-46\"/>\n       <use x=\"95.410156\" xlink:href=\"#DejaVuSans-54\"/>\n      </g>\n     </g>\n    </g>\n    <g id=\"ytick_7\">\n     <g id=\"line2d_8\">\n      <g>\n       <use style=\"stroke:#000000;stroke-width:0.8;\" x=\"43.78125\" xlink:href=\"#m45de73dfc4\" y=\"64.923617\"/>\n      </g>\n     </g>\n     <g id=\"text_7\">\n      <!-- 0.7 -->\n      <defs>\n       <path d=\"M 8.203125 72.90625 \nL 55.078125 72.90625 \nL 55.078125 68.703125 \nL 28.609375 0 \nL 18.3125 0 \nL 43.21875 64.59375 \nL 8.203125 64.59375 \nz\n\" id=\"DejaVuSans-55\"/>\n      </defs>\n      <g transform=\"translate(20.878125 68.722835)scale(0.1 -0.1)\">\n       <use xlink:href=\"#DejaVuSans-48\"/>\n       <use x=\"63.623047\" xlink:href=\"#DejaVuSans-46\"/>\n       <use x=\"95.410156\" xlink:href=\"#DejaVuSans-55\"/>\n      </g>\n     </g>\n    </g>\n    <g id=\"ytick_8\">\n     <g id=\"line2d_9\">\n      <g>\n       <use style=\"stroke:#000000;stroke-width:0.8;\" x=\"43.78125\" xlink:href=\"#m45de73dfc4\" y=\"31.163415\"/>\n      </g>\n     </g>\n     <g id=\"text_8\">\n      <!-- 0.8 -->\n      <defs>\n       <path d=\"M 31.78125 34.625 \nQ 24.75 34.625 20.71875 30.859375 \nQ 16.703125 27.09375 16.703125 20.515625 \nQ 16.703125 13.921875 20.71875 10.15625 \nQ 24.75 6.390625 31.78125 6.390625 \nQ 38.8125 6.390625 42.859375 10.171875 \nQ 46.921875 13.96875 46.921875 20.515625 \nQ 46.921875 27.09375 42.890625 30.859375 \nQ 38.875 34.625 31.78125 34.625 \nz\nM 21.921875 38.8125 \nQ 15.578125 40.375 12.03125 44.71875 \nQ 8.5 49.078125 8.5 55.328125 \nQ 8.5 64.0625 14.71875 69.140625 \nQ 20.953125 74.21875 31.78125 74.21875 \nQ 42.671875 74.21875 48.875 69.140625 \nQ 55.078125 64.0625 55.078125 55.328125 \nQ 55.078125 49.078125 51.53125 44.71875 \nQ 48 40.375 41.703125 38.8125 \nQ 48.828125 37.15625 52.796875 32.3125 \nQ 56.78125 27.484375 56.78125 20.515625 \nQ 56.78125 9.90625 50.3125 4.234375 \nQ 43.84375 -1.421875 31.78125 -1.421875 \nQ 19.734375 -1.421875 13.25 4.234375 \nQ 6.78125 9.90625 6.78125 20.515625 \nQ 6.78125 27.484375 10.78125 32.3125 \nQ 14.796875 37.15625 21.921875 38.8125 \nz\nM 18.3125 54.390625 \nQ 18.3125 48.734375 21.84375 45.5625 \nQ 25.390625 42.390625 31.78125 42.390625 \nQ 38.140625 42.390625 41.71875 45.5625 \nQ 45.3125 48.734375 45.3125 54.390625 \nQ 45.3125 60.0625 41.71875 63.234375 \nQ 38.140625 66.40625 31.78125 66.40625 \nQ 25.390625 66.40625 21.84375 63.234375 \nQ 18.3125 60.0625 18.3125 54.390625 \nz\n\" id=\"DejaVuSans-56\"/>\n      </defs>\n      <g transform=\"translate(20.878125 34.962633)scale(0.1 -0.1)\">\n       <use xlink:href=\"#DejaVuSans-48\"/>\n       <use x=\"63.623047\" xlink:href=\"#DejaVuSans-46\"/>\n       <use x=\"95.410156\" xlink:href=\"#DejaVuSans-56\"/>\n      </g>\n     </g>\n    </g>\n    <g id=\"text_9\">\n     <!-- sfood -->\n     <defs>\n      <path d=\"M 44.28125 53.078125 \nL 44.28125 44.578125 \nQ 40.484375 46.53125 36.375 47.5 \nQ 32.28125 48.484375 27.875 48.484375 \nQ 21.1875 48.484375 17.84375 46.4375 \nQ 14.5 44.390625 14.5 40.28125 \nQ 14.5 37.15625 16.890625 35.375 \nQ 19.28125 33.59375 26.515625 31.984375 \nL 29.59375 31.296875 \nQ 39.15625 29.25 43.1875 25.515625 \nQ 47.21875 21.78125 47.21875 15.09375 \nQ 47.21875 7.46875 41.1875 3.015625 \nQ 35.15625 -1.421875 24.609375 -1.421875 \nQ 20.21875 -1.421875 15.453125 -0.5625 \nQ 10.6875 0.296875 5.421875 2 \nL 5.421875 11.28125 \nQ 10.40625 8.6875 15.234375 7.390625 \nQ 20.0625 6.109375 24.8125 6.109375 \nQ 31.15625 6.109375 34.5625 8.28125 \nQ 37.984375 10.453125 37.984375 14.40625 \nQ 37.984375 18.0625 35.515625 20.015625 \nQ 33.0625 21.96875 24.703125 23.78125 \nL 21.578125 24.515625 \nQ 13.234375 26.265625 9.515625 29.90625 \nQ 5.8125 33.546875 5.8125 39.890625 \nQ 5.8125 47.609375 11.28125 51.796875 \nQ 16.75 56 26.8125 56 \nQ 31.78125 56 36.171875 55.265625 \nQ 40.578125 54.546875 44.28125 53.078125 \nz\n\" id=\"DejaVuSans-115\"/>\n      <path d=\"M 37.109375 75.984375 \nL 37.109375 68.5 \nL 28.515625 68.5 \nQ 23.6875 68.5 21.796875 66.546875 \nQ 19.921875 64.59375 19.921875 59.515625 \nL 19.921875 54.6875 \nL 34.71875 54.6875 \nL 34.71875 47.703125 \nL 19.921875 47.703125 \nL 19.921875 0 \nL 10.890625 0 \nL 10.890625 47.703125 \nL 2.296875 47.703125 \nL 2.296875 54.6875 \nL 10.890625 54.6875 \nL 10.890625 58.5 \nQ 10.890625 67.625 15.140625 71.796875 \nQ 19.390625 75.984375 28.609375 75.984375 \nz\n\" id=\"DejaVuSans-102\"/>\n      <path d=\"M 30.609375 48.390625 \nQ 23.390625 48.390625 19.1875 42.75 \nQ 14.984375 37.109375 14.984375 27.296875 \nQ 14.984375 17.484375 19.15625 11.84375 \nQ 23.34375 6.203125 30.609375 6.203125 \nQ 37.796875 6.203125 41.984375 11.859375 \nQ 46.1875 17.53125 46.1875 27.296875 \nQ 46.1875 37.015625 41.984375 42.703125 \nQ 37.796875 48.390625 30.609375 48.390625 \nz\nM 30.609375 56 \nQ 42.328125 56 49.015625 48.375 \nQ 55.71875 40.765625 55.71875 27.296875 \nQ 55.71875 13.875 49.015625 6.21875 \nQ 42.328125 -1.421875 30.609375 -1.421875 \nQ 18.84375 -1.421875 12.171875 6.21875 \nQ 5.515625 13.875 5.515625 27.296875 \nQ 5.515625 40.765625 12.171875 48.375 \nQ 18.84375 56 30.609375 56 \nz\n\" id=\"DejaVuSans-111\"/>\n      <path d=\"M 45.40625 46.390625 \nL 45.40625 75.984375 \nL 54.390625 75.984375 \nL 54.390625 0 \nL 45.40625 0 \nL 45.40625 8.203125 \nQ 42.578125 3.328125 38.25 0.953125 \nQ 33.9375 -1.421875 27.875 -1.421875 \nQ 17.96875 -1.421875 11.734375 6.484375 \nQ 5.515625 14.40625 5.515625 27.296875 \nQ 5.515625 40.1875 11.734375 48.09375 \nQ 17.96875 56 27.875 56 \nQ 33.9375 56 38.25 53.625 \nQ 42.578125 51.265625 45.40625 46.390625 \nz\nM 14.796875 27.296875 \nQ 14.796875 17.390625 18.875 11.75 \nQ 22.953125 6.109375 30.078125 6.109375 \nQ 37.203125 6.109375 41.296875 11.75 \nQ 45.40625 17.390625 45.40625 27.296875 \nQ 45.40625 37.203125 41.296875 42.84375 \nQ 37.203125 48.484375 30.078125 48.484375 \nQ 22.953125 48.484375 18.875 42.84375 \nQ 14.796875 37.203125 14.796875 27.296875 \nz\n\" id=\"DejaVuSans-100\"/>\n     </defs>\n     <g transform=\"translate(14.798438 172.080312)rotate(-90)scale(0.1 -0.1)\">\n      <use xlink:href=\"#DejaVuSans-115\"/>\n      <use x=\"52.099609\" xlink:href=\"#DejaVuSans-102\"/>\n      <use x=\"87.304688\" xlink:href=\"#DejaVuSans-111\"/>\n      <use x=\"148.486328\" xlink:href=\"#DejaVuSans-111\"/>\n      <use x=\"209.667969\" xlink:href=\"#DejaVuSans-100\"/>\n     </g>\n    </g>\n   </g>\n   <g id=\"line2d_10\">\n    <path clip-path=\"url(#pc434cbc593)\" d=\"M 266.98125 206.142541 \nL 266.98125 275.249675 \n\" style=\"fill:none;stroke:#3f3f3f;stroke-linecap:square;stroke-width:1.5;\"/>\n   </g>\n   <g id=\"line2d_11\">\n    <path clip-path=\"url(#pc434cbc593)\" d=\"M 266.98125 157.51097 \nL 266.98125 87.644224 \n\" style=\"fill:none;stroke:#3f3f3f;stroke-linecap:square;stroke-width:1.5;\"/>\n   </g>\n   <g id=\"line2d_12\">\n    <path clip-path=\"url(#pc434cbc593)\" d=\"M 177.70125 275.249675 \nL 356.26125 275.249675 \n\" style=\"fill:none;stroke:#3f3f3f;stroke-linecap:square;stroke-width:1.5;\"/>\n   </g>\n   <g id=\"line2d_13\">\n    <path clip-path=\"url(#pc434cbc593)\" d=\"M 177.70125 87.644224 \nL 356.26125 87.644224 \n\" style=\"fill:none;stroke:#3f3f3f;stroke-linecap:square;stroke-width:1.5;\"/>\n   </g>\n   <g id=\"line2d_14\">\n    <defs>\n     <path d=\"M -0 3.535534 \nL 2.12132 0 \nL -0 -3.535534 \nL -2.12132 -0 \nz\n\" id=\"m9657af6ba9\" style=\"stroke:#3f3f3f;stroke-linejoin:miter;\"/>\n    </defs>\n    <g clip-path=\"url(#pc434cbc593)\">\n     <use style=\"fill:#3f3f3f;stroke:#3f3f3f;stroke-linejoin:miter;\" x=\"266.98125\" xlink:href=\"#m9657af6ba9\" y=\"279.233378\"/>\n     <use style=\"fill:#3f3f3f;stroke:#3f3f3f;stroke-linejoin:miter;\" x=\"266.98125\" xlink:href=\"#m9657af6ba9\" y=\"281.967955\"/>\n     <use style=\"fill:#3f3f3f;stroke:#3f3f3f;stroke-linejoin:miter;\" x=\"266.98125\" xlink:href=\"#m9657af6ba9\" y=\"82.985328\"/>\n     <use style=\"fill:#3f3f3f;stroke:#3f3f3f;stroke-linejoin:miter;\" x=\"266.98125\" xlink:href=\"#m9657af6ba9\" y=\"34.877045\"/>\n     <use style=\"fill:#3f3f3f;stroke:#3f3f3f;stroke-linejoin:miter;\" x=\"266.98125\" xlink:href=\"#m9657af6ba9\" y=\"78.900349\"/>\n     <use style=\"fill:#3f3f3f;stroke:#3f3f3f;stroke-linejoin:miter;\" x=\"266.98125\" xlink:href=\"#m9657af6ba9\" y=\"79.541779\"/>\n    </g>\n   </g>\n   <g id=\"line2d_15\">\n    <path clip-path=\"url(#pc434cbc593)\" d=\"M 88.42125 181.733915 \nL 445.54125 181.733915 \n\" style=\"fill:none;stroke:#3f3f3f;stroke-linecap:square;stroke-width:1.5;\"/>\n   </g>\n   <g id=\"patch_4\">\n    <path d=\"M 43.78125 294.3225 \nL 43.78125 22.5225 \n\" style=\"fill:none;stroke:#000000;stroke-linecap:square;stroke-linejoin:miter;stroke-width:0.8;\"/>\n   </g>\n   <g id=\"patch_5\">\n    <path d=\"M 490.18125 294.3225 \nL 490.18125 22.5225 \n\" style=\"fill:none;stroke:#000000;stroke-linecap:square;stroke-linejoin:miter;stroke-width:0.8;\"/>\n   </g>\n   <g id=\"patch_6\">\n    <path d=\"M 43.78125 294.3225 \nL 490.18125 294.3225 \n\" style=\"fill:none;stroke:#000000;stroke-linecap:square;stroke-linejoin:miter;stroke-width:0.8;\"/>\n   </g>\n   <g id=\"patch_7\">\n    <path d=\"M 43.78125 22.5225 \nL 490.18125 22.5225 \n\" style=\"fill:none;stroke:#000000;stroke-linecap:square;stroke-linejoin:miter;stroke-width:0.8;\"/>\n   </g>\n   <g id=\"text_10\">\n    <!-- Distribuição do percentual de gastos com comida -->\n    <defs>\n     <path d=\"M 19.671875 64.796875 \nL 19.671875 8.109375 \nL 31.59375 8.109375 \nQ 46.6875 8.109375 53.6875 14.9375 \nQ 60.6875 21.78125 60.6875 36.53125 \nQ 60.6875 51.171875 53.6875 57.984375 \nQ 46.6875 64.796875 31.59375 64.796875 \nz\nM 9.8125 72.90625 \nL 30.078125 72.90625 \nQ 51.265625 72.90625 61.171875 64.09375 \nQ 71.09375 55.28125 71.09375 36.53125 \nQ 71.09375 17.671875 61.125 8.828125 \nQ 51.171875 0 30.078125 0 \nL 9.8125 0 \nz\n\" id=\"DejaVuSans-68\"/>\n     <path d=\"M 9.421875 54.6875 \nL 18.40625 54.6875 \nL 18.40625 0 \nL 9.421875 0 \nz\nM 9.421875 75.984375 \nL 18.40625 75.984375 \nL 18.40625 64.59375 \nL 9.421875 64.59375 \nz\n\" id=\"DejaVuSans-105\"/>\n     <path d=\"M 18.3125 70.21875 \nL 18.3125 54.6875 \nL 36.8125 54.6875 \nL 36.8125 47.703125 \nL 18.3125 47.703125 \nL 18.3125 18.015625 \nQ 18.3125 11.328125 20.140625 9.421875 \nQ 21.96875 7.515625 27.59375 7.515625 \nL 36.8125 7.515625 \nL 36.8125 0 \nL 27.59375 0 \nQ 17.1875 0 13.234375 3.875 \nQ 9.28125 7.765625 9.28125 18.015625 \nL 9.28125 47.703125 \nL 2.6875 47.703125 \nL 2.6875 54.6875 \nL 9.28125 54.6875 \nL 9.28125 70.21875 \nz\n\" id=\"DejaVuSans-116\"/>\n     <path d=\"M 41.109375 46.296875 \nQ 39.59375 47.171875 37.8125 47.578125 \nQ 36.03125 48 33.890625 48 \nQ 26.265625 48 22.1875 43.046875 \nQ 18.109375 38.09375 18.109375 28.8125 \nL 18.109375 0 \nL 9.078125 0 \nL 9.078125 54.6875 \nL 18.109375 54.6875 \nL 18.109375 46.1875 \nQ 20.953125 51.171875 25.484375 53.578125 \nQ 30.03125 56 36.53125 56 \nQ 37.453125 56 38.578125 55.875 \nQ 39.703125 55.765625 41.0625 55.515625 \nz\n\" id=\"DejaVuSans-114\"/>\n     <path d=\"M 48.6875 27.296875 \nQ 48.6875 37.203125 44.609375 42.84375 \nQ 40.53125 48.484375 33.40625 48.484375 \nQ 26.265625 48.484375 22.1875 42.84375 \nQ 18.109375 37.203125 18.109375 27.296875 \nQ 18.109375 17.390625 22.1875 11.75 \nQ 26.265625 6.109375 33.40625 6.109375 \nQ 40.53125 6.109375 44.609375 11.75 \nQ 48.6875 17.390625 48.6875 27.296875 \nz\nM 18.109375 46.390625 \nQ 20.953125 51.265625 25.265625 53.625 \nQ 29.59375 56 35.59375 56 \nQ 45.5625 56 51.78125 48.09375 \nQ 58.015625 40.1875 58.015625 27.296875 \nQ 58.015625 14.40625 51.78125 6.484375 \nQ 45.5625 -1.421875 35.59375 -1.421875 \nQ 29.59375 -1.421875 25.265625 0.953125 \nQ 20.953125 3.328125 18.109375 8.203125 \nL 18.109375 0 \nL 9.078125 0 \nL 9.078125 75.984375 \nL 18.109375 75.984375 \nz\n\" id=\"DejaVuSans-98\"/>\n     <path d=\"M 8.5 21.578125 \nL 8.5 54.6875 \nL 17.484375 54.6875 \nL 17.484375 21.921875 \nQ 17.484375 14.15625 20.5 10.265625 \nQ 23.53125 6.390625 29.59375 6.390625 \nQ 36.859375 6.390625 41.078125 11.03125 \nQ 45.3125 15.671875 45.3125 23.6875 \nL 45.3125 54.6875 \nL 54.296875 54.6875 \nL 54.296875 0 \nL 45.3125 0 \nL 45.3125 8.40625 \nQ 42.046875 3.421875 37.71875 1 \nQ 33.40625 -1.421875 27.6875 -1.421875 \nQ 18.265625 -1.421875 13.375 4.4375 \nQ 8.5 10.296875 8.5 21.578125 \nz\nM 31.109375 56 \nz\n\" id=\"DejaVuSans-117\"/>\n     <path d=\"M 48.78125 52.59375 \nL 48.78125 44.1875 \nQ 44.96875 46.296875 41.140625 47.34375 \nQ 37.3125 48.390625 33.40625 48.390625 \nQ 24.65625 48.390625 19.8125 42.84375 \nQ 14.984375 37.3125 14.984375 27.296875 \nQ 14.984375 17.28125 19.8125 11.734375 \nQ 24.65625 6.203125 33.40625 6.203125 \nQ 37.3125 6.203125 41.140625 7.25 \nQ 44.96875 8.296875 48.78125 10.40625 \nL 48.78125 2.09375 \nQ 45.015625 0.34375 40.984375 -0.53125 \nQ 36.96875 -1.421875 32.421875 -1.421875 \nQ 20.0625 -1.421875 12.78125 6.34375 \nQ 5.515625 14.109375 5.515625 27.296875 \nQ 5.515625 40.671875 12.859375 48.328125 \nQ 20.21875 56 33.015625 56 \nQ 37.15625 56 41.109375 55.140625 \nQ 45.0625 54.296875 48.78125 52.59375 \nz\nM 36.078125 0 \nQ 38.765625 -3.03125 40.078125 -5.59375 \nQ 41.40625 -8.15625 41.40625 -10.5 \nQ 41.40625 -14.84375 38.46875 -17.0625 \nQ 35.546875 -19.28125 29.78125 -19.28125 \nQ 27.546875 -19.28125 25.421875 -18.984375 \nQ 23.296875 -18.703125 21.1875 -18.109375 \nL 21.1875 -11.71875 \nQ 22.859375 -12.546875 24.65625 -12.90625 \nQ 26.46875 -13.28125 28.765625 -13.28125 \nQ 31.640625 -13.28125 33.109375 -12.109375 \nQ 34.578125 -10.9375 34.578125 -8.6875 \nQ 34.578125 -7.234375 33.515625 -5.109375 \nQ 32.46875 -2.984375 30.28125 0 \nz\n\" id=\"DejaVuSans-231\"/>\n     <path d=\"M 34.28125 27.484375 \nQ 23.390625 27.484375 19.1875 25 \nQ 14.984375 22.515625 14.984375 16.5 \nQ 14.984375 11.71875 18.140625 8.90625 \nQ 21.296875 6.109375 26.703125 6.109375 \nQ 34.1875 6.109375 38.703125 11.40625 \nQ 43.21875 16.703125 43.21875 25.484375 \nL 43.21875 27.484375 \nz\nM 52.203125 31.203125 \nL 52.203125 0 \nL 43.21875 0 \nL 43.21875 8.296875 \nQ 40.140625 3.328125 35.546875 0.953125 \nQ 30.953125 -1.421875 24.3125 -1.421875 \nQ 15.921875 -1.421875 10.953125 3.296875 \nQ 6 8.015625 6 15.921875 \nQ 6 25.140625 12.171875 29.828125 \nQ 18.359375 34.515625 30.609375 34.515625 \nL 43.21875 34.515625 \nL 43.21875 35.40625 \nQ 43.21875 41.609375 39.140625 45 \nQ 35.0625 48.390625 27.6875 48.390625 \nQ 23 48.390625 18.546875 47.265625 \nQ 14.109375 46.140625 10.015625 43.890625 \nL 10.015625 52.203125 \nQ 14.9375 54.109375 19.578125 55.046875 \nQ 24.21875 56 28.609375 56 \nQ 40.484375 56 46.34375 49.84375 \nQ 52.203125 43.703125 52.203125 31.203125 \nz\nM 28.8125 66.890625 \nL 26.03125 69.578125 \nQ 24.953125 70.5625 24.140625 71.015625 \nQ 23.34375 71.484375 22.703125 71.484375 \nQ 20.84375 71.484375 19.96875 69.703125 \nQ 19.09375 67.921875 19 63.921875 \nL 12.890625 63.921875 \nQ 12.984375 70.515625 15.46875 74.09375 \nQ 17.96875 77.6875 22.40625 77.6875 \nQ 24.265625 77.6875 25.828125 77 \nQ 27.390625 76.3125 29.203125 74.703125 \nL 31.984375 72.015625 \nQ 33.0625 71.046875 33.859375 70.578125 \nQ 34.671875 70.125 35.296875 70.125 \nQ 37.15625 70.125 38.03125 71.90625 \nQ 38.921875 73.6875 39.015625 77.6875 \nL 45.125 77.6875 \nQ 45.015625 71.09375 42.53125 67.5 \nQ 40.046875 63.921875 35.59375 63.921875 \nQ 33.734375 63.921875 32.171875 64.59375 \nQ 30.609375 65.28125 28.8125 66.890625 \nz\n\" id=\"DejaVuSans-227\"/>\n     <path id=\"DejaVuSans-32\"/>\n     <path d=\"M 18.109375 8.203125 \nL 18.109375 -20.796875 \nL 9.078125 -20.796875 \nL 9.078125 54.6875 \nL 18.109375 54.6875 \nL 18.109375 46.390625 \nQ 20.953125 51.265625 25.265625 53.625 \nQ 29.59375 56 35.59375 56 \nQ 45.5625 56 51.78125 48.09375 \nQ 58.015625 40.1875 58.015625 27.296875 \nQ 58.015625 14.40625 51.78125 6.484375 \nQ 45.5625 -1.421875 35.59375 -1.421875 \nQ 29.59375 -1.421875 25.265625 0.953125 \nQ 20.953125 3.328125 18.109375 8.203125 \nz\nM 48.6875 27.296875 \nQ 48.6875 37.203125 44.609375 42.84375 \nQ 40.53125 48.484375 33.40625 48.484375 \nQ 26.265625 48.484375 22.1875 42.84375 \nQ 18.109375 37.203125 18.109375 27.296875 \nQ 18.109375 17.390625 22.1875 11.75 \nQ 26.265625 6.109375 33.40625 6.109375 \nQ 40.53125 6.109375 44.609375 11.75 \nQ 48.6875 17.390625 48.6875 27.296875 \nz\n\" id=\"DejaVuSans-112\"/>\n     <path d=\"M 56.203125 29.59375 \nL 56.203125 25.203125 \nL 14.890625 25.203125 \nQ 15.484375 15.921875 20.484375 11.0625 \nQ 25.484375 6.203125 34.421875 6.203125 \nQ 39.59375 6.203125 44.453125 7.46875 \nQ 49.3125 8.734375 54.109375 11.28125 \nL 54.109375 2.78125 \nQ 49.265625 0.734375 44.1875 -0.34375 \nQ 39.109375 -1.421875 33.890625 -1.421875 \nQ 20.796875 -1.421875 13.15625 6.1875 \nQ 5.515625 13.8125 5.515625 26.8125 \nQ 5.515625 40.234375 12.765625 48.109375 \nQ 20.015625 56 32.328125 56 \nQ 43.359375 56 49.78125 48.890625 \nQ 56.203125 41.796875 56.203125 29.59375 \nz\nM 47.21875 32.234375 \nQ 47.125 39.59375 43.09375 43.984375 \nQ 39.0625 48.390625 32.421875 48.390625 \nQ 24.90625 48.390625 20.390625 44.140625 \nQ 15.875 39.890625 15.1875 32.171875 \nz\n\" id=\"DejaVuSans-101\"/>\n     <path d=\"M 48.78125 52.59375 \nL 48.78125 44.1875 \nQ 44.96875 46.296875 41.140625 47.34375 \nQ 37.3125 48.390625 33.40625 48.390625 \nQ 24.65625 48.390625 19.8125 42.84375 \nQ 14.984375 37.3125 14.984375 27.296875 \nQ 14.984375 17.28125 19.8125 11.734375 \nQ 24.65625 6.203125 33.40625 6.203125 \nQ 37.3125 6.203125 41.140625 7.25 \nQ 44.96875 8.296875 48.78125 10.40625 \nL 48.78125 2.09375 \nQ 45.015625 0.34375 40.984375 -0.53125 \nQ 36.96875 -1.421875 32.421875 -1.421875 \nQ 20.0625 -1.421875 12.78125 6.34375 \nQ 5.515625 14.109375 5.515625 27.296875 \nQ 5.515625 40.671875 12.859375 48.328125 \nQ 20.21875 56 33.015625 56 \nQ 37.15625 56 41.109375 55.140625 \nQ 45.0625 54.296875 48.78125 52.59375 \nz\n\" id=\"DejaVuSans-99\"/>\n     <path d=\"M 54.890625 33.015625 \nL 54.890625 0 \nL 45.90625 0 \nL 45.90625 32.71875 \nQ 45.90625 40.484375 42.875 44.328125 \nQ 39.84375 48.1875 33.796875 48.1875 \nQ 26.515625 48.1875 22.3125 43.546875 \nQ 18.109375 38.921875 18.109375 30.90625 \nL 18.109375 0 \nL 9.078125 0 \nL 9.078125 54.6875 \nL 18.109375 54.6875 \nL 18.109375 46.1875 \nQ 21.34375 51.125 25.703125 53.5625 \nQ 30.078125 56 35.796875 56 \nQ 45.21875 56 50.046875 50.171875 \nQ 54.890625 44.34375 54.890625 33.015625 \nz\n\" id=\"DejaVuSans-110\"/>\n     <path d=\"M 34.28125 27.484375 \nQ 23.390625 27.484375 19.1875 25 \nQ 14.984375 22.515625 14.984375 16.5 \nQ 14.984375 11.71875 18.140625 8.90625 \nQ 21.296875 6.109375 26.703125 6.109375 \nQ 34.1875 6.109375 38.703125 11.40625 \nQ 43.21875 16.703125 43.21875 25.484375 \nL 43.21875 27.484375 \nz\nM 52.203125 31.203125 \nL 52.203125 0 \nL 43.21875 0 \nL 43.21875 8.296875 \nQ 40.140625 3.328125 35.546875 0.953125 \nQ 30.953125 -1.421875 24.3125 -1.421875 \nQ 15.921875 -1.421875 10.953125 3.296875 \nQ 6 8.015625 6 15.921875 \nQ 6 25.140625 12.171875 29.828125 \nQ 18.359375 34.515625 30.609375 34.515625 \nL 43.21875 34.515625 \nL 43.21875 35.40625 \nQ 43.21875 41.609375 39.140625 45 \nQ 35.0625 48.390625 27.6875 48.390625 \nQ 23 48.390625 18.546875 47.265625 \nQ 14.109375 46.140625 10.015625 43.890625 \nL 10.015625 52.203125 \nQ 14.9375 54.109375 19.578125 55.046875 \nQ 24.21875 56 28.609375 56 \nQ 40.484375 56 46.34375 49.84375 \nQ 52.203125 43.703125 52.203125 31.203125 \nz\n\" id=\"DejaVuSans-97\"/>\n     <path d=\"M 9.421875 75.984375 \nL 18.40625 75.984375 \nL 18.40625 0 \nL 9.421875 0 \nz\n\" id=\"DejaVuSans-108\"/>\n     <path d=\"M 45.40625 27.984375 \nQ 45.40625 37.75 41.375 43.109375 \nQ 37.359375 48.484375 30.078125 48.484375 \nQ 22.859375 48.484375 18.828125 43.109375 \nQ 14.796875 37.75 14.796875 27.984375 \nQ 14.796875 18.265625 18.828125 12.890625 \nQ 22.859375 7.515625 30.078125 7.515625 \nQ 37.359375 7.515625 41.375 12.890625 \nQ 45.40625 18.265625 45.40625 27.984375 \nz\nM 54.390625 6.78125 \nQ 54.390625 -7.171875 48.1875 -13.984375 \nQ 42 -20.796875 29.203125 -20.796875 \nQ 24.46875 -20.796875 20.265625 -20.09375 \nQ 16.0625 -19.390625 12.109375 -17.921875 \nL 12.109375 -9.1875 \nQ 16.0625 -11.328125 19.921875 -12.34375 \nQ 23.78125 -13.375 27.78125 -13.375 \nQ 36.625 -13.375 41.015625 -8.765625 \nQ 45.40625 -4.15625 45.40625 5.171875 \nL 45.40625 9.625 \nQ 42.625 4.78125 38.28125 2.390625 \nQ 33.9375 0 27.875 0 \nQ 17.828125 0 11.671875 7.65625 \nQ 5.515625 15.328125 5.515625 27.984375 \nQ 5.515625 40.671875 11.671875 48.328125 \nQ 17.828125 56 27.875 56 \nQ 33.9375 56 38.28125 53.609375 \nQ 42.625 51.21875 45.40625 46.390625 \nL 45.40625 54.6875 \nL 54.390625 54.6875 \nz\n\" id=\"DejaVuSans-103\"/>\n     <path d=\"M 52 44.1875 \nQ 55.375 50.25 60.0625 53.125 \nQ 64.75 56 71.09375 56 \nQ 79.640625 56 84.28125 50.015625 \nQ 88.921875 44.046875 88.921875 33.015625 \nL 88.921875 0 \nL 79.890625 0 \nL 79.890625 32.71875 \nQ 79.890625 40.578125 77.09375 44.375 \nQ 74.3125 48.1875 68.609375 48.1875 \nQ 61.625 48.1875 57.5625 43.546875 \nQ 53.515625 38.921875 53.515625 30.90625 \nL 53.515625 0 \nL 44.484375 0 \nL 44.484375 32.71875 \nQ 44.484375 40.625 41.703125 44.40625 \nQ 38.921875 48.1875 33.109375 48.1875 \nQ 26.21875 48.1875 22.15625 43.53125 \nQ 18.109375 38.875 18.109375 30.90625 \nL 18.109375 0 \nL 9.078125 0 \nL 9.078125 54.6875 \nL 18.109375 54.6875 \nL 18.109375 46.1875 \nQ 21.1875 51.21875 25.484375 53.609375 \nQ 29.78125 56 35.6875 56 \nQ 41.65625 56 45.828125 52.96875 \nQ 50 49.953125 52 44.1875 \nz\n\" id=\"DejaVuSans-109\"/>\n    </defs>\n    <g transform=\"translate(117.934687 16.5225)scale(0.12 -0.12)\">\n     <use xlink:href=\"#DejaVuSans-68\"/>\n     <use x=\"77.001953\" xlink:href=\"#DejaVuSans-105\"/>\n     <use x=\"104.785156\" xlink:href=\"#DejaVuSans-115\"/>\n     <use x=\"156.884766\" xlink:href=\"#DejaVuSans-116\"/>\n     <use x=\"196.09375\" xlink:href=\"#DejaVuSans-114\"/>\n     <use x=\"237.207031\" xlink:href=\"#DejaVuSans-105\"/>\n     <use x=\"264.990234\" xlink:href=\"#DejaVuSans-98\"/>\n     <use x=\"328.466797\" xlink:href=\"#DejaVuSans-117\"/>\n     <use x=\"391.845703\" xlink:href=\"#DejaVuSans-105\"/>\n     <use x=\"419.628906\" xlink:href=\"#DejaVuSans-231\"/>\n     <use x=\"474.609375\" xlink:href=\"#DejaVuSans-227\"/>\n     <use x=\"535.888672\" xlink:href=\"#DejaVuSans-111\"/>\n     <use x=\"597.070312\" xlink:href=\"#DejaVuSans-32\"/>\n     <use x=\"628.857422\" xlink:href=\"#DejaVuSans-100\"/>\n     <use x=\"692.333984\" xlink:href=\"#DejaVuSans-111\"/>\n     <use x=\"753.515625\" xlink:href=\"#DejaVuSans-32\"/>\n     <use x=\"785.302734\" xlink:href=\"#DejaVuSans-112\"/>\n     <use x=\"848.779297\" xlink:href=\"#DejaVuSans-101\"/>\n     <use x=\"910.302734\" xlink:href=\"#DejaVuSans-114\"/>\n     <use x=\"951.384766\" xlink:href=\"#DejaVuSans-99\"/>\n     <use x=\"1006.365234\" xlink:href=\"#DejaVuSans-101\"/>\n     <use x=\"1067.888672\" xlink:href=\"#DejaVuSans-110\"/>\n     <use x=\"1131.267578\" xlink:href=\"#DejaVuSans-116\"/>\n     <use x=\"1170.476562\" xlink:href=\"#DejaVuSans-117\"/>\n     <use x=\"1233.855469\" xlink:href=\"#DejaVuSans-97\"/>\n     <use x=\"1295.134766\" xlink:href=\"#DejaVuSans-108\"/>\n     <use x=\"1322.917969\" xlink:href=\"#DejaVuSans-32\"/>\n     <use x=\"1354.705078\" xlink:href=\"#DejaVuSans-100\"/>\n     <use x=\"1418.181641\" xlink:href=\"#DejaVuSans-101\"/>\n     <use x=\"1479.705078\" xlink:href=\"#DejaVuSans-32\"/>\n     <use x=\"1511.492188\" xlink:href=\"#DejaVuSans-103\"/>\n     <use x=\"1574.96875\" xlink:href=\"#DejaVuSans-97\"/>\n     <use x=\"1636.248047\" xlink:href=\"#DejaVuSans-115\"/>\n     <use x=\"1688.347656\" xlink:href=\"#DejaVuSans-116\"/>\n     <use x=\"1727.556641\" xlink:href=\"#DejaVuSans-111\"/>\n     <use x=\"1788.738281\" xlink:href=\"#DejaVuSans-115\"/>\n     <use x=\"1840.837891\" xlink:href=\"#DejaVuSans-32\"/>\n     <use x=\"1872.625\" xlink:href=\"#DejaVuSans-99\"/>\n     <use x=\"1927.605469\" xlink:href=\"#DejaVuSans-111\"/>\n     <use x=\"1988.787109\" xlink:href=\"#DejaVuSans-109\"/>\n     <use x=\"2086.199219\" xlink:href=\"#DejaVuSans-32\"/>\n     <use x=\"2117.986328\" xlink:href=\"#DejaVuSans-99\"/>\n     <use x=\"2172.966797\" xlink:href=\"#DejaVuSans-111\"/>\n     <use x=\"2234.148438\" xlink:href=\"#DejaVuSans-109\"/>\n     <use x=\"2331.560547\" xlink:href=\"#DejaVuSans-105\"/>\n     <use x=\"2359.34375\" xlink:href=\"#DejaVuSans-100\"/>\n     <use x=\"2422.820312\" xlink:href=\"#DejaVuSans-97\"/>\n    </g>\n   </g>\n  </g>\n </g>\n <defs>\n  <clipPath id=\"pc434cbc593\">\n   <rect height=\"271.8\" width=\"446.4\" x=\"43.78125\" y=\"22.5225\"/>\n  </clipPath>\n </defs>\n</svg>\n",
      "image/png": "[encoded data removed]"
     },
     "metadata": {
      "needs_background": "light"
     }
    }
   ],
   "source": [
    "## plotando um boxplot\n",
    "fig, axs = plt.subplots(ncols=1, figsize = (8,5))\n",
    "\n",
    "ax0 = sns.boxplot(y=\"sfood\", data=df)\n",
    "ax0.set_title(\"Distribuição do percentual de gastos com comida\")"
   ]
  },
  {
   "cell_type": "code",
   "execution_count": 32,
   "metadata": {},
   "outputs": [
    {
     "output_type": "stream",
     "name": "stdout",
     "text": [
      "                            OLS Estimation Summary                            \n==============================================================================\nDep. Variable:                  sfood   R-squared:                      0.2862\nEstimator:                        OLS   Adj. R-squared:                 0.2848\nNo. Observations:                1519   F-statistic:                    589.55\nDate:                Mon, Apr 05 2021   P-value (F-stat)                0.0000\nTime:                        22:14:43   Distribution:                  chi2(3)\nCov. Estimator:                robust                                         \n                                                                              \n                             Parameter Estimates                              \n==============================================================================\n            Parameter  Std. Err.     T-stat    P-value    Lower CI    Upper CI\n------------------------------------------------------------------------------\nconst          0.8959     0.0291     30.750     0.0000      0.8388      0.9530\nltotexpend    -0.1459     0.0062    -23.400     0.0000     -0.1581     -0.1337\nage            0.0018     0.0003     6.1240     0.0000      0.0012      0.0024\nkids           0.0343     0.0047     7.3436     0.0000      0.0251      0.0434\n==============================================================================\n\nPara ver os resultados do 1º estágio/equação reduzida (e ver se os instrumentos são relevantes com o Partial P-Value, chame 'Resultado.first_stage'.\n\nPara testar a exogeneidade da variável instrumentada, chame 'Resultado.wooldridge_regression' ou 'Resultado.wooldridge_score' ou 'Resultado.wu_hausman([variaveis])'.\n\nPara testar a exogeneidade dos instrumentos (quando eles forem mais numerosos que as variáveis endógenas (restrições sobreidentificadoras)), chame 'Resultado.wooldridge_overid', onde Ho: todos os instrumentos são exógenos.\n\n"
     ]
    }
   ],
   "source": [
    "## estimando a equação; quanto maior o total de gastos, menor a proporção gasta com comida (aumento de 10% nos gastos totais diminui a proporção gast com comida em ≈1,46%)\n",
    "exog = df[['ltotexpend','age','kids']]\n",
    "endog = None\n",
    "instrumentos = None\n",
    "y = df['sfood']\n",
    "\n",
    "Regressao_IV_MQ2E(exog=exog, endog=endog, instrumentos=instrumentos, y=y, cov='robust')"
   ]
  },
  {
   "cell_type": "code",
   "execution_count": 33,
   "metadata": {},
   "outputs": [
    {
     "output_type": "stream",
     "name": "stdout",
     "text": [
      "                            OLS Estimation Summary                            \n==============================================================================\nDep. Variable:             ltotexpend   R-squared:                      0.2563\nEstimator:                        OLS   Adj. R-squared:                 0.2548\nNo. Observations:                1519   F-statistic:                    407.44\nDate:                Mon, Apr 05 2021   P-value (F-stat)                0.0000\nTime:                        22:14:43   Distribution:                  chi2(3)\nCov. Estimator:                robust                                         \n                                                                              \n                             Parameter Estimates                              \n==============================================================================\n            Parameter  Std. Err.     T-stat    P-value    Lower CI    Upper CI\n------------------------------------------------------------------------------\nconst          1.9223     0.1312     14.653     0.0000      1.6652      2.1795\nlincome        0.4778     0.0284     16.798     0.0000      0.4221      0.5336\nage            0.0049     0.0012     4.0744     0.0000      0.0025      0.0072\nkids           0.0644     0.0181     3.5556     0.0004      0.0289      0.0999\n==============================================================================\n\nPara ver os resultados do 1º estágio/equação reduzida (e ver se os instrumentos são relevantes com o Partial P-Value, chame 'Resultado.first_stage'.\n\nPara testar a exogeneidade da variável instrumentada, chame 'Resultado.wooldridge_regression' ou 'Resultado.wooldridge_score' ou 'Resultado.wu_hausman([variaveis])'.\n\nPara testar a exogeneidade dos instrumentos (quando eles forem mais numerosos que as variáveis endógenas (restrições sobreidentificadoras)), chame 'Resultado.wooldridge_overid', onde Ho: todos os instrumentos são exógenos.\n\n"
     ]
    }
   ],
   "source": [
    "## usando lincome como vi de ltotexpend; lincome é muito significante, satisfazendo a condição de relevancia\n",
    "exog = df[['lincome','age','kids']]\n",
    "endog = None\n",
    "instrumentos = None\n",
    "y = df['ltotexpend']\n",
    "\n",
    "Regressao_IV_MQ2E(exog=exog, endog=endog, instrumentos=instrumentos, y=y, cov='robust')"
   ]
  },
  {
   "cell_type": "code",
   "execution_count": 34,
   "metadata": {},
   "outputs": [
    {
     "output_type": "stream",
     "name": "stdout",
     "text": [
      "                          IV-2SLS Estimation Summary                          \n==============================================================================\nDep. Variable:                  sfood   R-squared:                      0.2837\nEstimator:                    IV-2SLS   Adj. R-squared:                 0.2822\nNo. Observations:                1519   F-statistic:                    188.48\nDate:                Mon, Apr 05 2021   P-value (F-stat)                0.0000\nTime:                        22:14:43   Distribution:                  chi2(3)\nCov. Estimator:                robust                                         \n                                                                              \n                             Parameter Estimates                              \n==============================================================================\n            Parameter  Std. Err.     T-stat    P-value    Lower CI    Upper CI\n------------------------------------------------------------------------------\nconst          0.9523     0.0540     17.629     0.0000      0.8464      1.0582\nage            0.0019     0.0003     6.1526     0.0000      0.0013      0.0025\nkids           0.0354     0.0047     7.5307     0.0000      0.0262      0.0447\nltotexpend    -0.1600     0.0129    -12.411     0.0000     -0.1853     -0.1347\n==============================================================================\n\nEndogenous: ltotexpend\nInstruments: lincome\nRobust Covariance (Heteroskedastic)\nDebiased: False\n\nPara ver os resultados do 1º estágio/equação reduzida (e ver se os instrumentos são relevantes com o Partial P-Value, chame 'Resultado.first_stage'.\n\nPara testar a exogeneidade da variável instrumentada, chame 'Resultado.wooldridge_regression' ou 'Resultado.wooldridge_score' ou 'Resultado.wu_hausman([variaveis])'.\n\nPara testar a exogeneidade dos instrumentos (quando eles forem mais numerosos que as variáveis endógenas (restrições sobreidentificadoras)), chame 'Resultado.wooldridge_overid', onde Ho: todos os instrumentos são exógenos.\n\n"
     ]
    }
   ],
   "source": [
    "## estimando a equação estrutural com lincome como vi de ltotexpend; a estimativa de ltotexpend é quase a mesma (1% mais negativa), apesar do diametro do IC ser bastante maior e conter a estimativa de MQO. De fato, parece que ltotexpend é exógena\n",
    "exog = df[['age','kids']]\n",
    "endog = df[['ltotexpend']]\n",
    "instrumentos = df[['lincome']]\n",
    "y = df['sfood']\n",
    "\n",
    "Regressao_IV_MQ2E(exog=exog, endog=endog, instrumentos=instrumentos, y=y, cov='robust')"
   ]
  },
  {
   "cell_type": "code",
   "execution_count": 35,
   "metadata": {},
   "outputs": [
    {
     "output_type": "stream",
     "name": "stdout",
     "text": [
      "Wooldridge's regression test of exogeneity\nH0: Endogenous variables are exogenous\nStatistic: 1.3057\nP-value: 0.2532\nDistributed: chi2(1)\n"
     ]
    }
   ],
   "source": [
    "## testando se ltotexpend é exog; não podemos rejeitar a hipótese de que ltotexpend é exógena, ou seja, prefere-se estimar por MQO\n",
    "## não há nenhuma restrição sobreidentificadora para ser testada\n",
    "print(Resultado.wooldridge_regression)"
   ]
  },
  {
   "cell_type": "code",
   "execution_count": 36,
   "metadata": {},
   "outputs": [
    {
     "output_type": "stream",
     "name": "stdout",
     "text": [
      "                            OLS Estimation Summary                            \n==============================================================================\nDep. Variable:               salcohol   R-squared:                      0.0549\nEstimator:                        OLS   Adj. R-squared:                 0.0530\nNo. Observations:                1519   F-statistic:                    80.623\nDate:                Mon, Apr 05 2021   P-value (F-stat)                0.0000\nTime:                        22:14:44   Distribution:                  chi2(3)\nCov. Estimator:                robust                                         \n                                                                              \n                             Parameter Estimates                              \n==============================================================================\n            Parameter  Std. Err.     T-stat    P-value    Lower CI    Upper CI\n------------------------------------------------------------------------------\nconst          0.0091     0.0189     0.4800     0.6312     -0.0279      0.0460\nltotexpend     0.0276     0.0041     6.6710     0.0000      0.0195      0.0358\nage           -0.0014     0.0002    -6.6213     0.0000     -0.0019     -0.0010\nkids          -0.0133     0.0033    -3.9877     0.0001     -0.0198     -0.0068\n==============================================================================\n\nPara ver os resultados do 1º estágio/equação reduzida (e ver se os instrumentos são relevantes com o Partial P-Value, chame 'Resultado.first_stage'.\n\nPara testar a exogeneidade da variável instrumentada, chame 'Resultado.wooldridge_regression' ou 'Resultado.wooldridge_score' ou 'Resultado.wu_hausman([variaveis])'.\n\nPara testar a exogeneidade dos instrumentos (quando eles forem mais numerosos que as variáveis endógenas (restrições sobreidentificadoras)), chame 'Resultado.wooldridge_overid', onde Ho: todos os instrumentos são exógenos.\n\n"
     ]
    }
   ],
   "source": [
    "## ao invés de sfood, usando salcohol\n",
    "# MQO\n",
    "exog = df[['ltotexpend','age','kids']]\n",
    "endog = None\n",
    "instrumentos = None\n",
    "y = df['salcohol']\n",
    "\n",
    "Regressao_IV_MQ2E(exog=exog, endog=endog, instrumentos=instrumentos, y=y, cov='robust')"
   ]
  },
  {
   "cell_type": "code",
   "execution_count": 37,
   "metadata": {},
   "outputs": [
    {
     "output_type": "stream",
     "name": "stdout",
     "text": [
      "                          IV-2SLS Estimation Summary                          \n==============================================================================\nDep. Variable:               salcohol   R-squared:                      0.0547\nEstimator:                    IV-2SLS   Adj. R-squared:                 0.0529\nNo. Observations:                1519   F-statistic:                    53.092\nDate:                Mon, Apr 05 2021   P-value (F-stat)                0.0000\nTime:                        22:14:44   Distribution:                  chi2(3)\nCov. Estimator:                robust                                         \n                                                                              \n                             Parameter Estimates                              \n==============================================================================\n            Parameter  Std. Err.     T-stat    P-value    Lower CI    Upper CI\n------------------------------------------------------------------------------\nconst      -1.983e-05     0.0403    -0.0005     0.9996     -0.0789      0.0789\nage           -0.0015     0.0002    -6.4359     0.0000     -0.0019     -0.0010\nkids          -0.0135     0.0033    -4.0281     0.0001     -0.0200     -0.0069\nltotexpend     0.0299     0.0095     3.1420     0.0017      0.0113      0.0486\n==============================================================================\n\nEndogenous: ltotexpend\nInstruments: lincome\nRobust Covariance (Heteroskedastic)\nDebiased: False\n\nPara ver os resultados do 1º estágio/equação reduzida (e ver se os instrumentos são relevantes com o Partial P-Value, chame 'Resultado.first_stage'.\n\nPara testar a exogeneidade da variável instrumentada, chame 'Resultado.wooldridge_regression' ou 'Resultado.wooldridge_score' ou 'Resultado.wu_hausman([variaveis])'.\n\nPara testar a exogeneidade dos instrumentos (quando eles forem mais numerosos que as variáveis endógenas (restrições sobreidentificadoras)), chame 'Resultado.wooldridge_overid', onde Ho: todos os instrumentos são exógenos.\n\n"
     ]
    }
   ],
   "source": [
    "# MQ2E; as estimativas de ltotexpend agora são positivas, indicando que o álcool é um bem não-essencial e de luxo (renda-elástico)\n",
    "exog = df[['age','kids']]\n",
    "endog = df[['ltotexpend']]\n",
    "instrumentos = df[['lincome']]\n",
    "y = df['salcohol']\n",
    "\n",
    "Regressao_IV_MQ2E(exog=exog, endog=endog, instrumentos=instrumentos, y=y, cov='robust')"
   ]
  },
  {
   "cell_type": "code",
   "execution_count": null,
   "metadata": {},
   "outputs": [],
   "source": []
  }
 ]
}