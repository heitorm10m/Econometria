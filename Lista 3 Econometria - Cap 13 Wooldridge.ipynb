{
 "metadata": {
  "language_info": {
   "codemirror_mode": {
    "name": "ipython",
    "version": 3
   },
   "file_extension": ".py",
   "mimetype": "text/x-python",
   "name": "python",
   "nbconvert_exporter": "python",
   "pygments_lexer": "ipython3",
   "version": "3.7.7-final"
  },
  "orig_nbformat": 2,
  "kernelspec": {
   "name": "python3",
   "display_name": "Python 3.7.7 64-bit ('myenv': conda)",
   "metadata": {
    "interpreter": {
     "hash": "8b633cbbc14e145906599cefe47c3dba10dc0e2c3bc4a9e7fbbaa016a7f81938"
    }
   }
  }
 },
 "nbformat": 4,
 "nbformat_minor": 2,
 "cells": [
  {
   "cell_type": "code",
   "execution_count": 1,
   "metadata": {},
   "outputs": [],
   "source": [
    "##Importando os pacotes e módulos necessários\n",
    "import pandas as pd\n",
    "import numpy as np\n",
    "import math\n",
    "\n",
    "#Para Regressão Linear Simples e Teste F\n",
    "from scipy import stats\n",
    "#Para Regressão Linear Múltipla (OLS, GLS e WLS) e Testes Estatísticos\n",
    "import statsmodels.api as sm\n",
    "import econtools\n",
    "import econtools.metrics as mt\n",
    "#Para Regressão em Painel\n",
    "from linearmodels import PanelOLS, FirstDifferenceOLS, PooledOLS, RandomEffects\n",
    "\n",
    "#Pacotes para gráficos (caso precise)\n",
    "import matplotlib\n",
    "import matplotlib.pyplot as plt\n",
    "import seaborn as sns\n",
    "import plotly.express as px\n",
    "import plotly.graph_objects as go\n",
    "\n",
    "#Pacotes para fazer a coleta dos dados armazenados no mesmo diretório e outros pacotes gerais\n",
    "import os\n",
    "import pathlib\n",
    "import glob\n",
    "from IPython.display import clear_output\n",
    "import gc\n",
    "\n",
    "####################################### Criando as Funções ###############################################################\n",
    "\n",
    "def coletar_dados(nome = \"\"):\n",
    "    '''\n",
    "    Função que le os arquivos do Stata (.dta) - NÃO COLOQUE A EXTENSÃO NA HORA DE NOMEAR O \"NOME\"!\n",
    "    O arquivo deve estar na mesma pasta do arquivo de Python ou do notebook do jupyter.\n",
    "    Deixe em branco para ler o arquivo mais recentemente adicionado à pasta.\n",
    "    '''\n",
    "\n",
    "    global df\n",
    "\n",
    "    #Pegando qual a pasta do arquivo que está sendo usado pra programar\n",
    "    caminho = pathlib.Path().absolute()\n",
    "\n",
    "    #No meu caso específico:\n",
    "    caminho_vinicius = f\"{caminho}/datasets\"\n",
    "\n",
    "    #checando se o nome foi inserido ou não; caso não, pegar o arquivo .dta mais recente\n",
    "    if nome == \"\":\n",
    "        try:\n",
    "            arquivo = max(glob.glob(f\"{str(caminho)}/*.dta\"), key=os.path.getctime)\n",
    "            df = pd.read_stata(arquivo)\n",
    "            print(f\"{arquivo}.dta foi lido com sucesso!\")\n",
    "            return df\n",
    "        except:\n",
    "            arquivo = max(glob.glob(f\"{str(caminho_vinicius)}/*.dta\"), key=os.path.getctime)\n",
    "            df = pd.read_stata(arquivo)\n",
    "            print(f\"{arquivo}.dta foi lido com sucesso!\")\n",
    "            return df\n",
    "    else:\n",
    "        try:\n",
    "            arquivo = f\"{str(caminho)}/{str(nome)}.dta\"\n",
    "            df = pd.read_stata(arquivo)\n",
    "            print(f\"{nome}.dta foi lido com sucesso!\")\n",
    "            return df\n",
    "        except:\n",
    "            try:\n",
    "                arquivo = f\"{str(caminho_vinicius)}/{str(nome)}.dta\"\n",
    "                df = pd.read_stata(arquivo)\n",
    "                print(f\"{nome}.dta foi lido com sucesso!\")\n",
    "                return df\n",
    "            except: #caso não tenha sido encontrado o arquivo com o nome inserido\n",
    "                print('''\n",
    "                Não foi possível achar o arquivo :(\\n\n",
    "                Verifique se seu nome está correto (sem a extensão) e se ele está no mesmo diretório do programa!\n",
    "                ''')\n",
    "\n",
    "def Regressao_Multipla(x, y, constante = \"S\", robusta = \"N\"):\n",
    "    '''\n",
    "    Função que calcula uma regressão múltipla, sendo, por default, computada com um intercepto e com erros padrões não robustos.\n",
    "\n",
    "    x: lista ou array com os valores das variáveis independentes;\n",
    "    y: lista ou array com os valores da variável dependente;\n",
    "    constante: \"S\" para regressão com intercepto e qualquer outro valor para sem intercepto. Caso em branco, a regressão é computada com intercepto;\n",
    "    robusta: \"N\" para regressão com erros-padrão tradicionais e qualquer outro valor para erros-padrões robustos. Caso em branco, a regressão é computada com erros-padrão comuns.\n",
    "    '''\n",
    "\n",
    "    global Resultado, Lista_ychapeu, Resíduos, SQR, EPR\n",
    "\n",
    "    #adicionando uma constante ao modelo de Ordinary Least Squares (OLS)\n",
    "    if constante == \"S\":\n",
    "        X = sm.add_constant(x)\n",
    "    else:\n",
    "        X = x\n",
    "\n",
    "    #Criando o Modelo levando em conta a opção de ser uma regressão robusta p/ heteroscedasticidade ou não\n",
    "    Modelo = sm.OLS(y,X)\n",
    "\n",
    "    if robusta == \"N\":\n",
    "        Resultado = Modelo.fit()\n",
    "    else:\n",
    "        Resultado = Modelo.fit(cov_type = 'HC1', use_t = True)\n",
    "    \n",
    "    Lista_ychapeu = Resultado.predict()\n",
    "    Resíduos = y - Lista_ychapeu\n",
    "\n",
    "    #Calculando o Erro Padrão da Regressão (EPR)\n",
    "    SQR =sum([i**2 for i in Resíduos])\n",
    "    Número_de_Observações = len(y)\n",
    "    GL = Número_de_Observações - len(Resultado.params)\n",
    "    VarianciaReg = SQR/GL\n",
    "    EPR = math.sqrt(VarianciaReg)\n",
    "    \n",
    "    ##Printando o Resultado\n",
    "    print(Resultado.summary())\n",
    "\n",
    "    print(f\"O erro padrão da regressão é {round(EPR,5)} e a SQR é {round(SQR,5)}\")\n",
    "    print(\"\\nPara ver os valores previstos ou os resídudos, basta chamar 'Lista_ychapeu' e 'Resíduos'.\")\n",
    "    print(\"Os resultados do modelo podem ser obtidos através de métodos usando a variável 'Resultado'.\")\n",
    "    print(\"\"\"\n",
    "    Valores de condição maiores que 20 indicam problemas de multicolinearidade.\n",
    "    Para ver como achar esse número, entre em https://www.statsmodels.org/dev/examples/notebooks/generated/ols.html\"\"\"\n",
    "    )\n",
    "\n",
    "def Regressao_MQP(x, y, pesos, constante = \"S\", robusta = \"N\"):\n",
    "    '''\n",
    "    Função que calcula uma regressão múltipla usando mínimos quadrados ponderados, ou seja,\n",
    "    recomendada quando o erro é heteroscedástico E se sabe a função da constante. Ela é, por default, computada com um intercepto e com erros padrões não robustos.\n",
    "    multiplicativa da variância do erro.\n",
    "\n",
    "    x: lista ou array com os valores das variáveis independentes;\n",
    "    y: lista ou array com os valores da variável dependente;\n",
    "    pesos: 1/h, sendo h a constante multiplicativa da variância do erro;\n",
    "    constante: \"S\" para regressão com intercepto e qualquer outro valor para sem intercepto. Caso em branco, a regressão é computada com intercepto;\n",
    "    robusta: \"N\" para regressão com erros-padrão tradicionais e qualquer outro valor para erros-padrões robustos. Caso em branco, a regressão é computada com erros-padrão comuns.\n",
    "    '''\n",
    "\n",
    "    global Resultado, Lista_ychapeu, Resíduos, SQR, EPR\n",
    "\n",
    "    #adicionando uma constante ao modelo de Ordinary Least Squares(OLS)\n",
    "    if constante == \"S\":\n",
    "        X = sm.add_constant(x)\n",
    "    else:\n",
    "        X = x\n",
    "    #Criando o Modelo levando em conta a opção de ser uma regressão robusta p/ heteroscedasticidade ou não\n",
    "    Modelo = sm.WLS(y,X, weights = pesos)\n",
    "    if robusta == \"N\":\n",
    "        Resultado = Modelo.fit()\n",
    "    else:\n",
    "        Resultado = Modelo.fit(cov_type = 'HC1', use_t = True)\n",
    "    \n",
    "    Lista_ychapeu = Resultado.predict()\n",
    "    Resíduos = y - Lista_ychapeu\n",
    "\n",
    "    #Calculando o Erro Padrão da Regressão (EPR)\n",
    "    SQR =sum([i**2 for i in Resíduos])\n",
    "    Número_de_Observações = len(y)\n",
    "    GL = Número_de_Observações - len(Resultado.params)\n",
    "    VarianciaReg = SQR/GL\n",
    "    EPR = math.sqrt(VarianciaReg)\n",
    "    \n",
    "    ##Printando o Resultado\n",
    "    print(f\"O erro padrão da regressão é {round(EPR,5)} e a SQR é {round(SQR,5)}\\n\")\n",
    "    print(Resultado.summary())\n",
    "\n",
    "    print(\"\\nPara ver os valores previstos ou os resídudos, basta chamar 'Lista_ychapeu' e 'Resíduos'.\")\n",
    "    print(\"Os resultados do modelo podem ser obtidos através de métodos usando a variável 'Resultado'.\")\n",
    "    print(\"\"\"\n",
    "    Valores de condição maiores que 20 indicam problemas de multicolinearidade\n",
    "    Para ver como achar esse número, entre em https://www.statsmodels.org/dev/examples/notebooks/generated/ols.html\"\"\"\n",
    "    )\n",
    "    \n",
    "def Regressao_MQGF(x, y, constante = \"S\", robusta = \"N\"):\n",
    "    '''\n",
    "    Função que calcula uma regressão múltipla usando mínimos quadrados generalizados factíveis, ou seja,\n",
    "    recomendada quando o erro é heteroscedástico E NÃO se sabe a função da constante multiplicativa da variância do erro, sendo os pesos estimados\n",
    "    regridindo o log dos quadrados dos resíduos sobre as variáveis explicativas. Os estimadores MQP são gerados com o peso estimado.\n",
    "    Ela é, por default, computada com um intercepto e com erros padrões não robustos.\n",
    "\n",
    "    x: lista ou array com os valores das variáveis independentes;\n",
    "    y: lista ou array com os valores da variável dependente;\n",
    "    constante: \"S\" para regressão com intercepto e qualquer outro valor para sem intercepto. Caso em branco, a regressão é computada com intercepto;\n",
    "    robusta: \"N\" para regressão com erros-padrão tradicionais e qualquer outro valor para erros-padrões robustos. Caso em branco, a regressão é computada com erros-padrão comuns.\n",
    "    '''\n",
    "\n",
    "    global Resultado, Lista_ychapeu, Resíduos, SQR, EPR\n",
    "\n",
    "    #Regredindo os valores normalmente a fim de pegar os resíduos\n",
    "    Regressao_Multipla(x,y, constante, robusta)\n",
    "    clear_output()\n",
    "\n",
    "    #Coletando o log dos quadrados dos resíduos\n",
    "    Log_Res_Quad = np.log(Resíduos**2)\n",
    "\n",
    "    #Regredindo Log_Res_Quad sobre as variáveis explicativas\n",
    "    Regressao_Multipla(x,Log_Res_Quad, constante, robusta)\n",
    "    clear_output()\n",
    "\n",
    "    #Estimando os pesos\n",
    "    Pesos = np.exp(Lista_ychapeu)\n",
    "\n",
    "    #Fazendo uma Regressão MQP\n",
    "    Regressao_MQP(x,y, 1/Pesos, constante, robusta)\n",
    "\n",
    "def Teste_LM(x, y, Restrições, Nivel_de_Significância = 0.05):\n",
    "    '''\n",
    "    Função que calcula um teste LM e dá o resultado teste de hipótese para o caso de todas as restrições serem conjuntamente estatisticamente não-significantes.\n",
    "\n",
    "    x: lista ou array com os valores das variáveis independentes;\n",
    "    y: lista ou array com os valores da variável dependente;\n",
    "    Restrições: lista ou array com os valores a serem tirados do modelo restrito;\n",
    "    Nivel_de_Significância: nível de significância do teste. Caso branco, o nível de significancia padrão é de 5%.\n",
    "    '''\n",
    "\n",
    "    ##Definindo as variáveis de cada modelo\n",
    "    ModeloIrrestrito = list(x)\n",
    "    ModeloRestrito = []\n",
    "    Restrições = list(Restrições)\n",
    "\n",
    "    Numero_de_Observações = len(y)\n",
    "    GL_ir = Numero_de_Observações - (len(ModeloIrrestrito) + 1)\n",
    "    GL_r = len(Restrições)\n",
    "\n",
    "    for i in ModeloIrrestrito:\n",
    "        if i not in Restrições:\n",
    "            ModeloRestrito.append(i)\n",
    "    \n",
    "    #Fazendo a regressão do modelo restrito e armazenando os resíduos\n",
    "    Regressao_Multipla(df[ModeloRestrito], y)\n",
    "    Resíduos_r = Resíduos\n",
    "\n",
    "    #Fazendo a regressão dos resíduos sobre as variáveis independentes e armazenando o R2\n",
    "    Regressao_Multipla(x, Resíduos_r)\n",
    "    Ru = Resultado.rsquared\n",
    "\n",
    "    #Calculando a estatística LM\n",
    "    LM = Numero_de_Observações*Ru\n",
    "\n",
    "    #Calculando o p-valor\n",
    "    ##Calculando o P-valor de F\n",
    "    P_valor = stats.chi2.sf(LM,GL_r)\n",
    "\n",
    "    #Limpando a tela\n",
    "    clear_output()\n",
    "\n",
    "    #Printando o resultado\n",
    "    if Nivel_de_Significância > P_valor:\n",
    "        print(f\"O valor de LM é {round(LM,3)} e seu p-valor é {round(P_valor,7)}. Portanto, rejeita-se Ho a um nível de significância de {Nivel_de_Significância*100}%.\")\n",
    "    else:\n",
    "        print(f\"O valor de LM é {round(LM,3)} e seu p-valor é {round(P_valor,7)}. Portanto, não se rejeita Ho a um nível de significância de {Nivel_de_Significância*100}%.\")\n",
    "\n",
    "\n",
    "def Teste_F(x, y, Restrições, Nivel_de_Significância = 0.05):\n",
    "    '''\n",
    "    Função que calcula um teste F e dá o resultado teste de hipótese para o caso de todas as restrições serem conjuntamente estatisticamente não-significantes.\n",
    "\n",
    "    x: lista ou array com os valores das variáveis independentes;\n",
    "    y: lista ou array com os valores da variável dependente;\n",
    "    Restrições: lista ou array com os valores a serem tirados do modelo restrito;\n",
    "    Nivel_de_Significância: nível de significância do teste. Caso branco, o nível de significancia padrão é de 5%.\n",
    "    '''\n",
    "\n",
    "    ##Definindo as variáveis de cada modelo\n",
    "    #para testar igualdade dos coeficientes, F2, p_valueF2 = results.Ftest(['ACT', 'skipped'], equal=True)\n",
    "    ModeloIrrestrito = list(x)\n",
    "    ModeloRestrito = []\n",
    "    Restrições = list(Restrições)\n",
    "\n",
    "    Numero_de_Observações = len(y)\n",
    "    GL_ir = Numero_de_Observações - (len(ModeloIrrestrito) + 1)\n",
    "    GL_r = len(Restrições)\n",
    "\n",
    "    for i in ModeloIrrestrito:\n",
    "        if i not in Restrições:\n",
    "            ModeloRestrito.append(i)\n",
    "\n",
    "    ##Fazendo as regressões de cada modelo\n",
    "    Regressao_Multipla(x, y)\n",
    "    SQR_ir = SQR\n",
    "    VarianciaReg_ir = EPR**2\n",
    "\n",
    "    Regressao_Multipla(df[ModeloRestrito], y)\n",
    "    SQR_r = SQR\n",
    "\n",
    "    #Limpando a tela\n",
    "    clear_output()\n",
    "    \n",
    "    ##Calculando F\n",
    "    F = (SQR_r - SQR_ir)/(len(Restrições)*VarianciaReg_ir)\n",
    "\n",
    "    ##Calculando o P-valor de F\n",
    "    P_valor = stats.f.sf(F,GL_r,GL_ir)\n",
    "\n",
    "    if Nivel_de_Significância > P_valor:\n",
    "        print(f\"O valor de F é {round(F,3)} e seu p-valor é {round(P_valor,7)}. Portanto, rejeita-se Ho à significância de {Nivel_de_Significância*100}%.\")\n",
    "    else:\n",
    "        print(f\"O valor de F é {round(F,3)} e seu p-valor é {round(P_valor,7)}. Portanto, não se rejeita Ho à significância de {Nivel_de_Significância*100}%.\")\n",
    "\n",
    "def Teste_t_Dois_Coeficientes_Iguais(x, y, Coeficientes_Testados_para_serem_iguais, Nivel_de_Significância = 0.05):\n",
    "    '''\n",
    "    Função que executa um teste t para verificar se dois coeficientes são iguais.\n",
    "\n",
    "    x: lista ou array com os valores das variáveis independentes;\n",
    "    y: lista ou array com os valores da variável dependente;\n",
    "    Coeficientes_Testados_para_serem_iguais: array com os valores dos coeficientes que querem ser testados;\n",
    "    Nivel_de_Significância: nível de significância do teste. Caso branco, o nível de significancia padrão é de 5%.\n",
    "    '''\n",
    "    \n",
    "    ##Fazendo a regressão do modelo irrestrito\n",
    "    Regressao_Multipla(x, y)\n",
    "    clear_output()\n",
    "\n",
    "    #Fazendo o objeto de lista que será usado no teste\n",
    "    Teste =[0]\n",
    "    Num_de_Variaveis = 1\n",
    "\n",
    "    for i in list(x):\n",
    "        if i not in list(Coeficientes_Testados_para_serem_iguais):\n",
    "            Teste.append(0)\n",
    "        elif (Num_de_Variaveis % 2 == 0):\n",
    "            Teste.append(-1)\n",
    "        else:\n",
    "            Teste.append(1)\n",
    "            Num_de_Variaveis += 1\n",
    "\n",
    "    Teste_t = Resultado.t_test(Teste)\n",
    "    print(f\"A estatística do teste é {Teste_t.tvalue}, o que resulta em um p-valor bilateral de {Teste_t.pvalue} e em um p-valor unilateral de {Teste_t.pvalue/2}.\")\n",
    "\n",
    "def Teste_Heteroscedasticidade_BP(x, y, constante = \"S\", Nivel_de_Significância = 0.05, Estatística = \"LM\"):\n",
    "    '''\n",
    "    Função que executa o teste de Breusch-Pagan para a heteroscedasticidade.\n",
    "\n",
    "    x: lista ou array com os valores das variáveis independentes;\n",
    "    y: lista ou array com os valores da variável dependente;\n",
    "    constante: \"S\" para regressão com intercepto e qualquer outro valor para sem intercepto. Caso em branco, a regressão é computada com intercepto;\n",
    "    Nivel_de_Significância: nível de significância do teste. Caso branco, o nível de significancia padrão é de 5%.\n",
    "    Estatística = LM ou F\n",
    "    '''\n",
    "\n",
    "    #Fazendo a regressão e limpando a tela\n",
    "    Regressao_Multipla(x,y,constante)\n",
    "    clear_output()\n",
    "\n",
    "    #Calculando o quadrado dos resíduos\n",
    "    Res_Quad = Resíduos**2\n",
    "\n",
    "    #Realizando o teste F ou LM de Res_Quad sobre as variaveis dependentes para ver se há correlação\n",
    "    if Estatística == \"LM\":\n",
    "        Teste_LM(x, Res_Quad, x, Nivel_de_Significância)\n",
    "        print(\"Ho: O erro é homoscedástico\")\n",
    "    else:\n",
    "        Teste_F(x, Res_Quad, x, Nivel_de_Significância)\n",
    "        print(\"Ho: O erro é homoscedástico\")\n",
    "\n",
    "def Teste_Heteroscedasticidade_White(x, y, constante = \"S\", Nivel_de_Significância = 0.05, Estatística = \"LM\"):\n",
    "    '''\n",
    "    Função que executa o teste de White (modificado por Wooldridge) para a heteroscedasticidade.\n",
    "\n",
    "    x: lista ou array com os valores das variáveis independentes;\n",
    "    y: lista ou array com os valores da variável dependente;\n",
    "    constante: \"S\" para regressão com intercepto e qualquer outro valor para sem intercepto. Caso em branco, a regressão é computada com intercepto;\n",
    "    Nivel_de_Significância: nível de significância do teste. Caso branco, o nível de significancia padrão é de 5%.\n",
    "    Estatística: LM ou F\n",
    "    '''\n",
    "\n",
    "    #Fazendo a regressão e limpando a tela\n",
    "    Regressao_Multipla(x,y,constante)\n",
    "    clear_output()\n",
    "\n",
    "    #Calculando o quadrado dos resíduos\n",
    "    Res_Quad = Resultado.resid**2\n",
    "\n",
    "    #Calculando o quadrado dos valores previstos\n",
    "    Previstos = Lista_ychapeu\n",
    "    Previstos2 = Previstos**2\n",
    "\n",
    "    #Criando um dataframe pra armazenar esses valores\n",
    "    dfy_y2 = pd.DataFrame({\"y\":Previstos,\"y2\":Previstos2})\n",
    "    y_y2 = dfy_y2[['y','y2']]\n",
    "\n",
    "    #Realizando o teste F ou LM de Res_Quad sobre y e y^2\n",
    "    if Estatística == \"LM\":\n",
    "        Teste_LM(y_y2, Res_Quad, y_y2, Nivel_de_Significância)\n",
    "        print(\"Ho: O erro é homoscedástico\")\n",
    "    else:\n",
    "        Teste_F(y_y2, Res_Quad, y_y2, Nivel_de_Significância)\n",
    "        print(\"Ho: O erro é homoscedástico\")\n",
    "\n",
    "def RESET(x, y, constante = \"S\", robusta = \"N\", Nivel_de_Significância = 0.05):\n",
    "    '''\n",
    "    Função que executa um teste RESET para verificar a adequação das formas funcionais.\n",
    "    Ho: o modelo está bem especificado.\n",
    "\n",
    "    x: lista ou array com os valores das variáveis independentes;\n",
    "    y: lista ou array com os valores da variável dependente;\n",
    "    constante: \"S\" para regressão com intercepto e qualquer outro valor para sem intercepto. Caso em branco, a regressão é computada com intercepto;\n",
    "    robusta: \"N\" para regressão com erros-padrão tradicionais e qualquer outro valor para erros-padrões robustos. Caso em branco, a regressão é computada com erros-padrão comuns;\n",
    "    Nivel_de_Significância: nível de significância do teste. Caso branco, o nível de significancia padrão é de 5%.\n",
    "    '''\n",
    "    #Fazendo uma regressão múltipla e limpando a tela\n",
    "    Regressao_Multipla(x, y, constante)\n",
    "    clear_output()\n",
    "\n",
    "    #Verificando o tipo da covariância selecionada\n",
    "    if robusta == \"N\":\n",
    "        tipo = 'nonrobust'\n",
    "    else:\n",
    "        tipo = 'HC1'\n",
    "\n",
    "    Teste = sm.stats.diagnostic.linear_reset(Resultado, power = 2, use_f = False, cov_type = tipo)\n",
    "    \n",
    "    if Teste.pvalue < Nivel_de_Significância:\n",
    "        print(f\"\"\"\n",
    "        O p-valor do teste foi de {np.around(Teste.pvalue,6)}, menor que o nível de significância de {Nivel_de_Significância*100}%.\\n\n",
    "        Assim, rejeita-se Ho (o modelo está MAL especificado).\"\"\"\n",
    "        )\n",
    "    else:\n",
    "        print(f\"\"\"\n",
    "        O p-valor do teste foi de {np.around(Teste.pvalue,6)}, maior que o nível de significância de {Nivel_de_Significância*100}%.\\n\n",
    "        Assim, não se rejeita Ho (o modelo NÃO está MAL especificado)\"\"\"\n",
    "        )\n",
    "\n",
    "def Teste_J_Davidson_MacKinnon(x1,x2, y, constante = \"S\", robusta = \"N\", Nivel_de_Significância = 0.05):\n",
    "    '''\n",
    "    Função que executa um teste J para verificar qual o modelo mais adequado (dentre os dois colocados).\n",
    "    Ho: o modelo 1 é preferível (ver o p-valor do último coeficiente).\n",
    "\n",
    "    x1: lista ou array com os valores das variáveis independentes do primeiro modelo;\n",
    "    x2: lista ou array com os valores das variáveis independentes do segundo modelo;\n",
    "    y: lista ou array com os valores da variável dependente;\n",
    "    constante: \"S\" para regressão com intercepto e qualquer outro valor para sem intercepto. Caso em branco, a regressão é computada com intercepto;\n",
    "    robusta: \"N\" para regressão com erros-padrão tradicionais e qualquer outro valor para erros-padrões robustos. Caso em branco, a regressão é computada com erros-padrão comuns;\n",
    "    Nivel_de_Significância: nível de significância do teste. Caso branco, o nível de significancia padrão é de 5%.\n",
    "    '''\n",
    "    \n",
    "    #Fazendo a regressão do segundo modelo\n",
    "    Regressao_Multipla(x2, y, constante, robusta)\n",
    "    clear_output()\n",
    "\n",
    "    #Criando um novo dataframe e adicionando os valores previstos do modelo 2 à x\n",
    "    Valores_Previstos_2 = pd.DataFrame({'Previsão M1':Lista_ychapeu})\n",
    "    x = pd.concat([x1, Valores_Previstos_2], axis=1, sort=False)\n",
    "\n",
    "    #Fazendo a regressão do primeiro modelo sobre x\n",
    "    Regressao_Multipla(x, y, constante, robusta)\n",
    "    clear_output()\n",
    "\n",
    "    #Pegando o p-valor do teste\n",
    "    P_valor = Resultado.pvalues[-1]\n",
    "\n",
    "    if P_valor < Nivel_de_Significância:\n",
    "        print(f\"\"\"\n",
    "        O p-valor do teste foi de {np.around(P_valor,6)}, menor que o nível de significância de {Nivel_de_Significância*100}%.\\n\n",
    "        Assim, rejeita-se Ho (ou seja, o modelo 2 ({list(x2)}) é mais bem especificado).\"\"\"\n",
    "        )\n",
    "    else:\n",
    "        print(f\"\"\"\n",
    "        O p-valor do teste foi de {np.around(P_valor,6)}, menor que o nível de significância de {Nivel_de_Significância*100}%.\\n\n",
    "        Assim, não se rejeita Ho (ou seja, o modelo 1 ({list(x1)}) é mais bem especificado).\"\"\"\n",
    "        )\n",
    "\n",
    "######### Funções de Dados em Painel #########\n",
    "def Arrumar_Painel():\n",
    "    '''\n",
    "    Função que transforma o painel num formato que o PanelOLS consegue ler (index multinível e coluna do tipo categoria para os anos)\n",
    "    '''\n",
    "    global df\n",
    "\n",
    "    # pedir a coluna com os indivíduos; se o nome for inválido, sair da função.\n",
    "    coluna_individuos = str(input('Qual o rótulo da coluna de indivíduos/observações?\\n'))\n",
    "    if coluna_individuos not in df.columns:\n",
    "        print(\"Coluna de indivíduos não está no dataframe. Insira uma coluna válida e tente novamente!\")\n",
    "        return None\n",
    "    \n",
    "    # pedir a coluna com os períodos de tempo; se o valor for inválido, sair da função.\n",
    "    coluna_tempo = str(input('Qual o rótulo da coluna de tempo?\\n'))\n",
    "    if coluna_tempo not in df.columns:\n",
    "        print(\"Coluna de tempo não está no dataframe. Insira uma coluna válida e tente novamente!\")\n",
    "        return None\n",
    "\n",
    "    ## arrumando o painel\n",
    "    periodos = pd.Categorical(df[coluna_tempo])\n",
    "    df = df.set_index([coluna_individuos,coluna_tempo])\n",
    "    df[coluna_tempo] = periodos\n",
    "    return df\n",
    "\n",
    "def Reg_Painel_Primeiras_Diferenças (x,y, robusta = \"N\"):\n",
    "    '''\n",
    "    Função que calcula uma regressão de primeiras diferenças SEM um intercepto, sendo, por default, computada com erros padrões não robustos.\n",
    "    Para calcular a regressão com um intercepto, ver o notebook \"Cap 13 e 14\".\n",
    "    **IMPORTANTE: para o painel estar arrumado, os dados devem estar multi-indexados por indíviduo e por tempo, nesta ordem.\n",
    "    Caso contrário, transformar o dataframe usando a função 'Arrumar Painel'\n",
    "    x: lista ou array com os valores das variáveis independentes;\n",
    "    y: lista ou array com os valores da variável dependente;\n",
    "    robusta: \"N\" para regressão com erros-padrão tradicionais e qualquer outro valor para erros-padrões robustos. Caso em branco, a regressão é computada com erros-padrão comuns.\n",
    "    '''\n",
    "    Modelo = FirstDifferenceOLS(y, x)\n",
    "    Resultado = Modelo.fit()\n",
    "    print(Resultado)\n",
    "\n",
    "def Reg_Painel_Efeitos_Fixos(x, y, constante = \"S\", robusta = \"N\"):\n",
    "    '''\n",
    "    Função que calcula uma regressão de efeitos fixos, sendo, por default, computada com um intercepto e com erros padrões não robustos.\n",
    "    **IMPORTANTE: para o painel estar arrumado, os dados devem estar multi-indexados por indíviduo e por tempo, nesta ordem.\n",
    "    Caso contrário, transformar o dataframe usando a função 'Arrumar Painel'\n",
    "    x: lista ou array com os valores das variáveis independentes;\n",
    "    y: lista ou array com os valores da variável dependente;\n",
    "    constante: \"S\" para regressão com intercepto e qualquer outro valor para sem intercepto. Caso em branco, a regressão é computada com intercepto;\n",
    "    robusta: \"N\" para regressão com erros-padrão tradicionais e qualquer outro valor para erros-padrões robustos. Caso em branco, a regressão é computada com erros-padrão comuns.\n",
    "    '''\n",
    "    global df, Resultado\n",
    "    \n",
    "    # formando o vetor de variáveis independentes\n",
    "    if constante == \"S\":\n",
    "        X = sm.add_constant(x)\n",
    "    else:\n",
    "        X = x\n",
    "    \n",
    "    #Criando o Modelo levando em conta a opção de ser uma regressão robusta p/ heteroscedasticidade ou não\n",
    "    Modelo = PanelOLS(y,X, entity_effects=True)\n",
    "    if robusta == \"N\":\n",
    "        Resultado = Modelo.fit()\n",
    "    else:\n",
    "        Resultado = Modelo.fit(cov_type = 'robust')\n",
    "    print(Resultado)\n",
    "\n",
    "def Reg_Painel_MQO_Agrupado(x, y, constante = \"S\", robusta = \"S\"):\n",
    "    '''\n",
    "    Função que calcula uma regressão por MQO agrupado, sendo, por default, computada com um intercepto e com erros padrões  robustos.\n",
    "    **IMPORTANTE: para o painel estar arrumado, os dados devem estar multi-indexados por indíviduo e por tempo, nesta ordem.\n",
    "    Caso contrário, transformar o dataframe usando a função 'Arrumar Painel'\n",
    "    x: lista ou array com os valores das variáveis independentes;\n",
    "    y: lista ou array com os valores da variável dependente;\n",
    "    constante: \"S\" para regressão com intercepto e qualquer outro valor para sem intercepto. Caso em branco, a regressão é computada com intercepto;\n",
    "    robusta: \"N\" para regressão com erros-padrão tradicionais e qualquer outro valor para erros-padrões robustos. Caso em branco, a regressão é computada com erros-padrão robustos.\n",
    "    '''\n",
    "    global df, Resultado\n",
    "    \n",
    "    # formando o vetor de variáveis independentes\n",
    "    if constante == \"S\":\n",
    "        X = sm.add_constant(x)\n",
    "    else:\n",
    "        X = x\n",
    "    \n",
    "    #Criando o Modelo levando em conta a opção de ser uma regressão robusta p/ heteroscedasticidade ou não\n",
    "    Modelo = PooledOLS(y,X)\n",
    "    if robusta == \"N\":\n",
    "        Resultado = Modelo.fit()\n",
    "    else:\n",
    "        Resultado = Modelo.fit(cov_type = 'robust')\n",
    "    print(Resultado)\n",
    "\n",
    "def Reg_Painel_Efeitos_Aleatórios(x, y, constante = \"S\"):\n",
    "    '''\n",
    "    Função que calcula uma regressão de efeitos fixos, sendo, por default, computada com um intercepto e com erros padrões  robustos.\n",
    "    **IMPORTANTE: para o painel estar arrumado, os dados devem estar multi-indexados por indíviduo e por tempo, nesta ordem.\n",
    "    Caso contrário, transformar o dataframe usando a função 'Arrumar Painel'\n",
    "    x: lista ou array com os valores das variáveis independentes;\n",
    "    y: lista ou array com os valores da variável dependente;\n",
    "    constante: \"S\" para regressão com intercepto e qualquer outro valor para sem intercepto. Caso em branco, a regressão é computada com intercepto;\n",
    "    robusta: \"N\" para regressão com erros-padrão tradicionais e qualquer outro valor para erros-padrões robustos. Caso em branco, a regressão é computada com erros-padrão robustos.\n",
    "    '''\n",
    "    global df, Resultado\n",
    "    \n",
    "    # formando o vetor de variáveis independentes\n",
    "    if constante == \"S\":\n",
    "        X = sm.add_constant(x)\n",
    "    else:\n",
    "        X = x\n",
    "    \n",
    "    #Criando o Modelo\n",
    "    Modelo = RandomEffects(y,X)\n",
    "    Resultado = Modelo.fit()\n",
    "    print(Resultado)"
   ]
  },
  {
   "source": [
    "## Exercício C1"
   ],
   "cell_type": "markdown",
   "metadata": {}
  },
  {
   "cell_type": "code",
   "execution_count": 2,
   "metadata": {},
   "outputs": [
    {
     "output_type": "stream",
     "name": "stdout",
     "text": [
      "fertil1.dta foi lido com sucesso!\n"
     ]
    },
    {
     "output_type": "execute_result",
     "data": {
      "text/plain": [
       "      year  educ  meduc  feduc  age  kids  black  east  northcen  west  ...  \\\n",
       "0       72    12      8      8   48     4      0     0         1     0  ...   \n",
       "1       72    17      8     18   46     3      0     0         0     0  ...   \n",
       "2       72    12      7      8   53     2      0     0         1     0  ...   \n",
       "3       72    12     12     10   42     2      0     0         1     0  ...   \n",
       "4       72    12      3      8   51     2      0     0         0     0  ...   \n",
       "...    ...   ...    ...    ...  ...   ...    ...   ...       ...   ...  ...   \n",
       "1124    84    12     12     12   41     1      0     0         0     1  ...   \n",
       "1125    84    19     10     15   42     0      0     0         0     1  ...   \n",
       "1126    84    15     12     10   35     3      0     0         0     1  ...   \n",
       "1127    84    12     12     12   46     2      0     0         1     0  ...   \n",
       "1128    84    12      6      8   46     2      0     0         0     1  ...   \n",
       "\n",
       "      y80  y82  y84  agesq  y74educ  y76educ  y78educ  y80educ  y82educ  \\\n",
       "0       0    0    0   2304        0        0        0        0        0   \n",
       "1       0    0    0   2116        0        0        0        0        0   \n",
       "2       0    0    0   2809        0        0        0        0        0   \n",
       "3       0    0    0   1764        0        0        0        0        0   \n",
       "4       0    0    0   2601        0        0        0        0        0   \n",
       "...   ...  ...  ...    ...      ...      ...      ...      ...      ...   \n",
       "1124    0    0    1   1681        0        0        0        0        0   \n",
       "1125    0    0    1   1764        0        0        0        0        0   \n",
       "1126    0    0    1   1225        0        0        0        0        0   \n",
       "1127    0    0    1   2116        0        0        0        0        0   \n",
       "1128    0    0    1   2116        0        0        0        0        0   \n",
       "\n",
       "      y84educ  \n",
       "0           0  \n",
       "1           0  \n",
       "2           0  \n",
       "3           0  \n",
       "4           0  \n",
       "...       ...  \n",
       "1124       12  \n",
       "1125       19  \n",
       "1126       15  \n",
       "1127       12  \n",
       "1128       12  \n",
       "\n",
       "[1129 rows x 27 columns]"
      ],
      "text/html": "<div>\n<style scoped>\n    .dataframe tbody tr th:only-of-type {\n        vertical-align: middle;\n    }\n\n    .dataframe tbody tr th {\n        vertical-align: top;\n    }\n\n    .dataframe thead th {\n        text-align: right;\n    }\n</style>\n<table border=\"1\" class=\"dataframe\">\n  <thead>\n    <tr style=\"text-align: right;\">\n      <th></th>\n      <th>year</th>\n      <th>educ</th>\n      <th>meduc</th>\n      <th>feduc</th>\n      <th>age</th>\n      <th>kids</th>\n      <th>black</th>\n      <th>east</th>\n      <th>northcen</th>\n      <th>west</th>\n      <th>...</th>\n      <th>y80</th>\n      <th>y82</th>\n      <th>y84</th>\n      <th>agesq</th>\n      <th>y74educ</th>\n      <th>y76educ</th>\n      <th>y78educ</th>\n      <th>y80educ</th>\n      <th>y82educ</th>\n      <th>y84educ</th>\n    </tr>\n  </thead>\n  <tbody>\n    <tr>\n      <th>0</th>\n      <td>72</td>\n      <td>12</td>\n      <td>8</td>\n      <td>8</td>\n      <td>48</td>\n      <td>4</td>\n      <td>0</td>\n      <td>0</td>\n      <td>1</td>\n      <td>0</td>\n      <td>...</td>\n      <td>0</td>\n      <td>0</td>\n      <td>0</td>\n      <td>2304</td>\n      <td>0</td>\n      <td>0</td>\n      <td>0</td>\n      <td>0</td>\n      <td>0</td>\n      <td>0</td>\n    </tr>\n    <tr>\n      <th>1</th>\n      <td>72</td>\n      <td>17</td>\n      <td>8</td>\n      <td>18</td>\n      <td>46</td>\n      <td>3</td>\n      <td>0</td>\n      <td>0</td>\n      <td>0</td>\n      <td>0</td>\n      <td>...</td>\n      <td>0</td>\n      <td>0</td>\n      <td>0</td>\n      <td>2116</td>\n      <td>0</td>\n      <td>0</td>\n      <td>0</td>\n      <td>0</td>\n      <td>0</td>\n      <td>0</td>\n    </tr>\n    <tr>\n      <th>2</th>\n      <td>72</td>\n      <td>12</td>\n      <td>7</td>\n      <td>8</td>\n      <td>53</td>\n      <td>2</td>\n      <td>0</td>\n      <td>0</td>\n      <td>1</td>\n      <td>0</td>\n      <td>...</td>\n      <td>0</td>\n      <td>0</td>\n      <td>0</td>\n      <td>2809</td>\n      <td>0</td>\n      <td>0</td>\n      <td>0</td>\n      <td>0</td>\n      <td>0</td>\n      <td>0</td>\n    </tr>\n    <tr>\n      <th>3</th>\n      <td>72</td>\n      <td>12</td>\n      <td>12</td>\n      <td>10</td>\n      <td>42</td>\n      <td>2</td>\n      <td>0</td>\n      <td>0</td>\n      <td>1</td>\n      <td>0</td>\n      <td>...</td>\n      <td>0</td>\n      <td>0</td>\n      <td>0</td>\n      <td>1764</td>\n      <td>0</td>\n      <td>0</td>\n      <td>0</td>\n      <td>0</td>\n      <td>0</td>\n      <td>0</td>\n    </tr>\n    <tr>\n      <th>4</th>\n      <td>72</td>\n      <td>12</td>\n      <td>3</td>\n      <td>8</td>\n      <td>51</td>\n      <td>2</td>\n      <td>0</td>\n      <td>0</td>\n      <td>0</td>\n      <td>0</td>\n      <td>...</td>\n      <td>0</td>\n      <td>0</td>\n      <td>0</td>\n      <td>2601</td>\n      <td>0</td>\n      <td>0</td>\n      <td>0</td>\n      <td>0</td>\n      <td>0</td>\n      <td>0</td>\n    </tr>\n    <tr>\n      <th>...</th>\n      <td>...</td>\n      <td>...</td>\n      <td>...</td>\n      <td>...</td>\n      <td>...</td>\n      <td>...</td>\n      <td>...</td>\n      <td>...</td>\n      <td>...</td>\n      <td>...</td>\n      <td>...</td>\n      <td>...</td>\n      <td>...</td>\n      <td>...</td>\n      <td>...</td>\n      <td>...</td>\n      <td>...</td>\n      <td>...</td>\n      <td>...</td>\n      <td>...</td>\n      <td>...</td>\n    </tr>\n    <tr>\n      <th>1124</th>\n      <td>84</td>\n      <td>12</td>\n      <td>12</td>\n      <td>12</td>\n      <td>41</td>\n      <td>1</td>\n      <td>0</td>\n      <td>0</td>\n      <td>0</td>\n      <td>1</td>\n      <td>...</td>\n      <td>0</td>\n      <td>0</td>\n      <td>1</td>\n      <td>1681</td>\n      <td>0</td>\n      <td>0</td>\n      <td>0</td>\n      <td>0</td>\n      <td>0</td>\n      <td>12</td>\n    </tr>\n    <tr>\n      <th>1125</th>\n      <td>84</td>\n      <td>19</td>\n      <td>10</td>\n      <td>15</td>\n      <td>42</td>\n      <td>0</td>\n      <td>0</td>\n      <td>0</td>\n      <td>0</td>\n      <td>1</td>\n      <td>...</td>\n      <td>0</td>\n      <td>0</td>\n      <td>1</td>\n      <td>1764</td>\n      <td>0</td>\n      <td>0</td>\n      <td>0</td>\n      <td>0</td>\n      <td>0</td>\n      <td>19</td>\n    </tr>\n    <tr>\n      <th>1126</th>\n      <td>84</td>\n      <td>15</td>\n      <td>12</td>\n      <td>10</td>\n      <td>35</td>\n      <td>3</td>\n      <td>0</td>\n      <td>0</td>\n      <td>0</td>\n      <td>1</td>\n      <td>...</td>\n      <td>0</td>\n      <td>0</td>\n      <td>1</td>\n      <td>1225</td>\n      <td>0</td>\n      <td>0</td>\n      <td>0</td>\n      <td>0</td>\n      <td>0</td>\n      <td>15</td>\n    </tr>\n    <tr>\n      <th>1127</th>\n      <td>84</td>\n      <td>12</td>\n      <td>12</td>\n      <td>12</td>\n      <td>46</td>\n      <td>2</td>\n      <td>0</td>\n      <td>0</td>\n      <td>1</td>\n      <td>0</td>\n      <td>...</td>\n      <td>0</td>\n      <td>0</td>\n      <td>1</td>\n      <td>2116</td>\n      <td>0</td>\n      <td>0</td>\n      <td>0</td>\n      <td>0</td>\n      <td>0</td>\n      <td>12</td>\n    </tr>\n    <tr>\n      <th>1128</th>\n      <td>84</td>\n      <td>12</td>\n      <td>6</td>\n      <td>8</td>\n      <td>46</td>\n      <td>2</td>\n      <td>0</td>\n      <td>0</td>\n      <td>0</td>\n      <td>1</td>\n      <td>...</td>\n      <td>0</td>\n      <td>0</td>\n      <td>1</td>\n      <td>2116</td>\n      <td>0</td>\n      <td>0</td>\n      <td>0</td>\n      <td>0</td>\n      <td>0</td>\n      <td>12</td>\n    </tr>\n  </tbody>\n</table>\n<p>1129 rows × 27 columns</p>\n</div>"
     },
     "metadata": {},
     "execution_count": 2
    }
   ],
   "source": [
    "coletar_dados('fertil1')"
   ]
  },
  {
   "cell_type": "code",
   "execution_count": 3,
   "metadata": {},
   "outputs": [
    {
     "output_type": "execute_result",
     "data": {
      "text/plain": [
       "Index(['year', 'educ', 'meduc', 'feduc', 'age', 'kids', 'black', 'east',\n",
       "       'northcen', 'west', 'farm', 'othrural', 'town', 'smcity', 'y74', 'y76',\n",
       "       'y78', 'y80', 'y82', 'y84', 'agesq', 'y74educ', 'y76educ', 'y78educ',\n",
       "       'y80educ', 'y82educ', 'y84educ'],\n",
       "      dtype='object')"
      ]
     },
     "metadata": {},
     "execution_count": 3
    }
   ],
   "source": [
    "df.columns"
   ]
  },
  {
   "cell_type": "code",
   "execution_count": 4,
   "metadata": {},
   "outputs": [
    {
     "output_type": "stream",
     "name": "stdout",
     "text": [
      "                            OLS Regression Results                            \n==============================================================================\nDep. Variable:                   kids   R-squared:                       0.130\nModel:                            OLS   Adj. R-squared:                  0.116\nMethod:                 Least Squares   F-statistic:                     9.723\nDate:                Sun, 07 Mar 2021   Prob (F-statistic):           2.42e-24\nTime:                        18:01:12   Log-Likelihood:                -2091.2\nNo. Observations:                1129   AIC:                             4218.\nDf Residuals:                    1111   BIC:                             4309.\nDf Model:                          17                                         \nCovariance Type:            nonrobust                                         \n==============================================================================\n                 coef    std err          t      P>|t|      [0.025      0.975]\n------------------------------------------------------------------------------\nconst         -7.7425      3.052     -2.537      0.011     -13.730      -1.755\neduc          -0.1284      0.018     -6.999      0.000      -0.164      -0.092\nage            0.5321      0.138      3.845      0.000       0.261       0.804\nagesq         -0.0058      0.002     -3.710      0.000      -0.009      -0.003\nblack          1.0757      0.174      6.198      0.000       0.735       1.416\neast           0.2173      0.133      1.637      0.102      -0.043       0.478\nnorthcen       0.3631      0.121      3.004      0.003       0.126       0.600\nwest           0.1976      0.167      1.184      0.237      -0.130       0.525\nfarm          -0.0526      0.147     -0.357      0.721      -0.341       0.236\nothrural      -0.1629      0.175     -0.928      0.353      -0.507       0.181\ntown           0.0844      0.125      0.677      0.498      -0.160       0.329\nsmcity         0.2119      0.160      1.322      0.187      -0.103       0.526\ny74            0.2682      0.173      1.553      0.121      -0.071       0.607\ny76           -0.0974      0.179     -0.544      0.587      -0.449       0.254\ny78           -0.0687      0.182     -0.378      0.706      -0.425       0.288\ny80           -0.0713      0.183     -0.390      0.697      -0.430       0.287\ny82           -0.5225      0.172     -3.030      0.003      -0.861      -0.184\ny84           -0.5452      0.175     -3.124      0.002      -0.888      -0.203\n==============================================================================\nOmnibus:                        9.775   Durbin-Watson:                   2.011\nProb(Omnibus):                  0.008   Jarque-Bera (JB):                9.966\nSkew:                           0.227   Prob(JB):                      0.00685\nKurtosis:                       2.920   Cond. No.                     1.32e+05\n==============================================================================\n\nWarnings:\n[1] Standard Errors assume that the covariance matrix of the errors is correctly specified.\n[2] The condition number is large, 1.32e+05. This might indicate that there are\nstrong multicollinearity or other numerical problems.\nO erro padrão da regressão é 1.55485 e a SQR é 2685.89841\n\nPara ver os valores previstos ou os resídudos, basta chamar 'Lista_ychapeu' e 'Resíduos'.\nOs resultados do modelo podem ser obtidos através de métodos usando a variável 'Resultado'.\n\n    Valores de condição maiores que 20 indicam problemas de multicolinearidade.\n    Para ver como achar esse número, entre em https://www.statsmodels.org/dev/examples/notebooks/generated/ols.html\n"
     ]
    }
   ],
   "source": [
    "## Fazendo o modelo de regressão\n",
    "x = df[['educ','age','agesq','black','east','northcen','west','farm','othrural','town','smcity','y74','y76','y78','y80','y82','y84']]\n",
    "y = df['kids']\n",
    "Regressao_Multipla(x,y)"
   ]
  },
  {
   "cell_type": "code",
   "execution_count": 5,
   "metadata": {},
   "outputs": [
    {
     "output_type": "stream",
     "name": "stdout",
     "text": [
      "O valor de F é 1.159 e seu p-valor é 0.327458. Portanto, não se rejeita Ho à significância de 5.0%.\n"
     ]
    }
   ],
   "source": [
    "## Fazendo o Teste F retirando variáveis ambientais\n",
    "restricoes = df[['farm','othrural','town','smcity']]\n",
    "Teste_F(x,y,restricoes)"
   ]
  },
  {
   "cell_type": "code",
   "execution_count": 6,
   "metadata": {},
   "outputs": [
    {
     "output_type": "stream",
     "name": "stdout",
     "text": [
      "O valor de F é 3.012 e seu p-valor é 0.029258. Portanto, rejeita-se Ho à significância de 5.0%.\n"
     ]
    }
   ],
   "source": [
    "## Fazendo o teste F retirando variáveis regionais\n",
    "restricoes = df[['east','northcen','west']]\n",
    "Teste_F(x,y,restricoes)"
   ]
  },
  {
   "cell_type": "code",
   "execution_count": 7,
   "metadata": {},
   "outputs": [
    {
     "output_type": "stream",
     "name": "stdout",
     "text": [
      "                            OLS Regression Results                            \n",
      "==============================================================================\n",
      "Dep. Variable:                   kids   R-squared:                       0.015\n",
      "Model:                            OLS   Adj. R-squared:                  0.010\n",
      "Method:                 Least Squares   F-statistic:                     2.905\n",
      "Date:                Sun, 07 Mar 2021   Prob (F-statistic):            0.00816\n",
      "Time:                        18:01:13   Log-Likelihood:                -2940.1\n",
      "No. Observations:                1129   AIC:                             5894.\n",
      "Df Residuals:                    1122   BIC:                             5929.\n",
      "Df Model:                           6                                         \n",
      "Covariance Type:            nonrobust                                         \n",
      "==============================================================================\n",
      "                 coef    std err          t      P>|t|      [0.025      0.975]\n",
      "------------------------------------------------------------------------------\n",
      "const          3.2873      0.263     12.512      0.000       2.772       3.803\n",
      "y74           -1.0722      0.362     -2.959      0.003      -1.783      -0.361\n",
      "y76           -0.7698      0.374     -2.058      0.040      -1.504      -0.036\n",
      "y78           -0.9559      0.380     -2.516      0.012      -1.701      -0.210\n",
      "y80           -1.2110      0.381     -3.182      0.002      -1.958      -0.464\n",
      "y82           -0.9221      0.356     -2.588      0.010      -1.621      -0.223\n",
      "y84           -1.3719      0.360     -3.807      0.000      -2.079      -0.665\n",
      "==============================================================================\n",
      "Omnibus:                      536.620   Durbin-Watson:                   2.014\n",
      "Prob(Omnibus):                  0.000   Jarque-Bera (JB):             2684.707\n",
      "Skew:                           2.233   Prob(JB):                         0.00\n",
      "Kurtosis:                       9.093   Cond. No.                         8.00\n",
      "==============================================================================\n",
      "\n",
      "Warnings:\n",
      "[1] Standard Errors assume that the covariance matrix of the errors is correctly specified.\n",
      "O erro padrão da regressão é 3.28153 e a SQR é 12082.21997\n",
      "\n",
      "Para ver os valores previstos ou os resídudos, basta chamar 'Lista_ychapeu' e 'Resíduos'.\n",
      "Os resultados do modelo podem ser obtidos através de métodos usando a variável 'Resultado'.\n",
      "\n",
      "    Valores de condição maiores que 20 indicam problemas de multicolinearidade.\n",
      "    Para ver como achar esse número, entre em https://www.statsmodels.org/dev/examples/notebooks/generated/ols.html\n"
     ]
    }
   ],
   "source": [
    "## Fazendo o modelo de regressão\n",
    "x = df[['educ','age','agesq','black','east','northcen','west','farm','othrural','town','smcity','y74','y76','y78','y80','y82','y84']]\n",
    "y = df['kids']\n",
    "Regressao_Multipla(x,y)\n",
    "\n",
    "## Coletando os Residuos quadráticos e aplicando a regressão\n",
    "clear_output()\n",
    "u = Resíduos**2\n",
    "dummies_temporais = df[['y74','y76','y78','y80','y82','y84']]\n",
    "Regressao_Multipla(dummies_temporais,u)"
   ]
  },
  {
   "cell_type": "code",
   "execution_count": 8,
   "metadata": {},
   "outputs": [
    {
     "output_type": "stream",
     "name": "stdout",
     "text": [
      "                            OLS Regression Results                            \n==============================================================================\nDep. Variable:                   kids   R-squared:                       0.136\nModel:                            OLS   Adj. R-squared:                  0.118\nMethod:                 Least Squares   F-statistic:                     7.593\nDate:                Sun, 07 Mar 2021   Prob (F-statistic):           3.41e-23\nTime:                        18:01:13   Log-Likelihood:                -2086.7\nNo. Observations:                1129   AIC:                             4221.\nDf Residuals:                    1105   BIC:                             4342.\nDf Model:                          23                                         \nCovariance Type:            nonrobust                                         \n==============================================================================\n                 coef    std err          t      P>|t|      [0.025      0.975]\n------------------------------------------------------------------------------\nconst         -8.4773      3.126     -2.712      0.007     -14.612      -2.343\neduc          -0.0225      0.054     -0.420      0.675      -0.128       0.083\nage            0.5075      0.139      3.653      0.000       0.235       0.780\nagesq         -0.0055      0.002     -3.519      0.000      -0.009      -0.002\nblack          1.0741      0.174      6.183      0.000       0.733       1.415\neast           0.2061      0.133      1.548      0.122      -0.055       0.467\nnorthcen       0.3483      0.121      2.876      0.004       0.111       0.586\nwest           0.1771      0.167      1.058      0.290      -0.151       0.506\nfarm          -0.0722      0.148     -0.489      0.625      -0.362       0.217\nothrural      -0.1912      0.176     -1.087      0.277      -0.536       0.154\ntown           0.0882      0.125      0.708      0.479      -0.156       0.333\nsmcity         0.2054      0.160      1.282      0.200      -0.109       0.520\ny74            0.9469      0.904      1.047      0.295      -0.827       2.721\ny76            1.0200      0.882      1.156      0.248      -0.711       2.751\ny78            1.8060      0.952      1.897      0.058      -0.062       3.674\ny80            1.1142      0.898      1.241      0.215      -0.647       2.875\ny82            1.1998      0.876      1.369      0.171      -0.520       2.919\ny84            1.6713      0.899      1.859      0.063      -0.093       3.435\ny74educ       -0.0564      0.073     -0.778      0.437      -0.199       0.086\ny76educ       -0.0921      0.071     -1.299      0.194      -0.231       0.047\ny78educ       -0.1524      0.075     -2.024      0.043      -0.300      -0.005\ny80educ       -0.0979      0.070     -1.390      0.165      -0.236       0.040\ny82educ       -0.1389      0.068     -2.032      0.042      -0.273      -0.005\ny84educ       -0.1761      0.070     -2.519      0.012      -0.313      -0.039\n==============================================================================\nOmnibus:                       10.028   Durbin-Watson:                   2.013\nProb(Omnibus):                  0.007   Jarque-Bera (JB):               10.214\nSkew:                           0.225   Prob(JB):                      0.00606\nKurtosis:                       2.883   Cond. No.                     1.36e+05\n==============================================================================\n\nWarnings:\n[1] Standard Errors assume that the covariance matrix of the errors is correctly specified.\n[2] The condition number is large, 1.36e+05. This might indicate that there are\nstrong multicollinearity or other numerical problems.\nO erro padrão da regressão é 1.55282 e a SQR é 2664.43484\n\nPara ver os valores previstos ou os resídudos, basta chamar 'Lista_ychapeu' e 'Resíduos'.\nOs resultados do modelo podem ser obtidos através de métodos usando a variável 'Resultado'.\n\n    Valores de condição maiores que 20 indicam problemas de multicolinearidade.\n    Para ver como achar esse número, entre em https://www.statsmodels.org/dev/examples/notebooks/generated/ols.html\n"
     ]
    }
   ],
   "source": [
    "## Adicionando os termos de interação\n",
    "x = df[['educ','age','agesq','black','east','northcen','west','farm','othrural','town','smcity','y74','y76','y78','y80','y82','y84','y74educ', 'y76educ', 'y78educ','y80educ', 'y82educ', 'y84educ']]\n",
    "y = df['kids']\n",
    "\n",
    "Regressao_Multipla(x,y)"
   ]
  },
  {
   "cell_type": "code",
   "execution_count": 9,
   "metadata": {},
   "outputs": [
    {
     "output_type": "stream",
     "name": "stdout",
     "text": [
      "O valor de F é 1.484 e seu p-valor é 0.1803366. Portanto, não se rejeita Ho à significância de 5.0%.\n"
     ]
    }
   ],
   "source": [
    "## Fazendo o teste F retirando os termos de interação\n",
    "restricoes = df[['y74educ', 'y76educ', 'y78educ','y80educ', 'y82educ', 'y84educ']]\n",
    "Teste_F(x,y,restricoes)"
   ]
  },
  {
   "source": [
    "## Exercício C2"
   ],
   "cell_type": "markdown",
   "metadata": {}
  },
  {
   "cell_type": "code",
   "execution_count": 10,
   "metadata": {},
   "outputs": [
    {
     "output_type": "stream",
     "name": "stdout",
     "text": [
      "CPS78_85.dta foi lido com sucesso!\n"
     ]
    },
    {
     "output_type": "execute_result",
     "data": {
      "text/plain": [
       "      educ  south  nonwhite  female  married  exper  expersq  union   lwage  \\\n",
       "0       12      0         0       0        0      8       64      0  1.2150   \n",
       "1       12      0         0       1        1     30      900      1  1.6094   \n",
       "2        6      0         0       0        1     38     1444      1  2.1401   \n",
       "3       12      0         0       0        1     19      361      1  2.0732   \n",
       "4       12      0         0       0        1     11      121      0  1.6490   \n",
       "...    ...    ...       ...     ...      ...    ...      ...    ...     ...   \n",
       "1079    12      0         1       1        1     18      324      0  2.1552   \n",
       "1080    14      0         0       1        0     13      169      0  2.9178   \n",
       "1081    18      0         0       0        1      8       64      0  3.1001   \n",
       "1082    12      0         1       0        0     14      196      1  2.7887   \n",
       "1083    12      0         0       0        0      9       81      0  2.9689   \n",
       "\n",
       "      age  year  y85  y85fem  y85educ  y85union  \n",
       "0      25    78    0       0        0         0  \n",
       "1      47    78    0       0        0         0  \n",
       "2      49    78    0       0        0         0  \n",
       "3      36    78    0       0        0         0  \n",
       "4      28    78    0       0        0         0  \n",
       "...   ...   ...  ...     ...      ...       ...  \n",
       "1079   36    85    1       1       12         0  \n",
       "1080   33    85    1       1       14         0  \n",
       "1081   32    85    1       0       18         0  \n",
       "1082   32    85    1       0       12         1  \n",
       "1083   27    85    1       0       12         0  \n",
       "\n",
       "[1084 rows x 15 columns]"
      ],
      "text/html": "<div>\n<style scoped>\n    .dataframe tbody tr th:only-of-type {\n        vertical-align: middle;\n    }\n\n    .dataframe tbody tr th {\n        vertical-align: top;\n    }\n\n    .dataframe thead th {\n        text-align: right;\n    }\n</style>\n<table border=\"1\" class=\"dataframe\">\n  <thead>\n    <tr style=\"text-align: right;\">\n      <th></th>\n      <th>educ</th>\n      <th>south</th>\n      <th>nonwhite</th>\n      <th>female</th>\n      <th>married</th>\n      <th>exper</th>\n      <th>expersq</th>\n      <th>union</th>\n      <th>lwage</th>\n      <th>age</th>\n      <th>year</th>\n      <th>y85</th>\n      <th>y85fem</th>\n      <th>y85educ</th>\n      <th>y85union</th>\n    </tr>\n  </thead>\n  <tbody>\n    <tr>\n      <th>0</th>\n      <td>12</td>\n      <td>0</td>\n      <td>0</td>\n      <td>0</td>\n      <td>0</td>\n      <td>8</td>\n      <td>64</td>\n      <td>0</td>\n      <td>1.2150</td>\n      <td>25</td>\n      <td>78</td>\n      <td>0</td>\n      <td>0</td>\n      <td>0</td>\n      <td>0</td>\n    </tr>\n    <tr>\n      <th>1</th>\n      <td>12</td>\n      <td>0</td>\n      <td>0</td>\n      <td>1</td>\n      <td>1</td>\n      <td>30</td>\n      <td>900</td>\n      <td>1</td>\n      <td>1.6094</td>\n      <td>47</td>\n      <td>78</td>\n      <td>0</td>\n      <td>0</td>\n      <td>0</td>\n      <td>0</td>\n    </tr>\n    <tr>\n      <th>2</th>\n      <td>6</td>\n      <td>0</td>\n      <td>0</td>\n      <td>0</td>\n      <td>1</td>\n      <td>38</td>\n      <td>1444</td>\n      <td>1</td>\n      <td>2.1401</td>\n      <td>49</td>\n      <td>78</td>\n      <td>0</td>\n      <td>0</td>\n      <td>0</td>\n      <td>0</td>\n    </tr>\n    <tr>\n      <th>3</th>\n      <td>12</td>\n      <td>0</td>\n      <td>0</td>\n      <td>0</td>\n      <td>1</td>\n      <td>19</td>\n      <td>361</td>\n      <td>1</td>\n      <td>2.0732</td>\n      <td>36</td>\n      <td>78</td>\n      <td>0</td>\n      <td>0</td>\n      <td>0</td>\n      <td>0</td>\n    </tr>\n    <tr>\n      <th>4</th>\n      <td>12</td>\n      <td>0</td>\n      <td>0</td>\n      <td>0</td>\n      <td>1</td>\n      <td>11</td>\n      <td>121</td>\n      <td>0</td>\n      <td>1.6490</td>\n      <td>28</td>\n      <td>78</td>\n      <td>0</td>\n      <td>0</td>\n      <td>0</td>\n      <td>0</td>\n    </tr>\n    <tr>\n      <th>...</th>\n      <td>...</td>\n      <td>...</td>\n      <td>...</td>\n      <td>...</td>\n      <td>...</td>\n      <td>...</td>\n      <td>...</td>\n      <td>...</td>\n      <td>...</td>\n      <td>...</td>\n      <td>...</td>\n      <td>...</td>\n      <td>...</td>\n      <td>...</td>\n      <td>...</td>\n    </tr>\n    <tr>\n      <th>1079</th>\n      <td>12</td>\n      <td>0</td>\n      <td>1</td>\n      <td>1</td>\n      <td>1</td>\n      <td>18</td>\n      <td>324</td>\n      <td>0</td>\n      <td>2.1552</td>\n      <td>36</td>\n      <td>85</td>\n      <td>1</td>\n      <td>1</td>\n      <td>12</td>\n      <td>0</td>\n    </tr>\n    <tr>\n      <th>1080</th>\n      <td>14</td>\n      <td>0</td>\n      <td>0</td>\n      <td>1</td>\n      <td>0</td>\n      <td>13</td>\n      <td>169</td>\n      <td>0</td>\n      <td>2.9178</td>\n      <td>33</td>\n      <td>85</td>\n      <td>1</td>\n      <td>1</td>\n      <td>14</td>\n      <td>0</td>\n    </tr>\n    <tr>\n      <th>1081</th>\n      <td>18</td>\n      <td>0</td>\n      <td>0</td>\n      <td>0</td>\n      <td>1</td>\n      <td>8</td>\n      <td>64</td>\n      <td>0</td>\n      <td>3.1001</td>\n      <td>32</td>\n      <td>85</td>\n      <td>1</td>\n      <td>0</td>\n      <td>18</td>\n      <td>0</td>\n    </tr>\n    <tr>\n      <th>1082</th>\n      <td>12</td>\n      <td>0</td>\n      <td>1</td>\n      <td>0</td>\n      <td>0</td>\n      <td>14</td>\n      <td>196</td>\n      <td>1</td>\n      <td>2.7887</td>\n      <td>32</td>\n      <td>85</td>\n      <td>1</td>\n      <td>0</td>\n      <td>12</td>\n      <td>1</td>\n    </tr>\n    <tr>\n      <th>1083</th>\n      <td>12</td>\n      <td>0</td>\n      <td>0</td>\n      <td>0</td>\n      <td>0</td>\n      <td>9</td>\n      <td>81</td>\n      <td>0</td>\n      <td>2.9689</td>\n      <td>27</td>\n      <td>85</td>\n      <td>1</td>\n      <td>0</td>\n      <td>12</td>\n      <td>0</td>\n    </tr>\n  </tbody>\n</table>\n<p>1084 rows × 15 columns</p>\n</div>"
     },
     "metadata": {},
     "execution_count": 10
    }
   ],
   "source": [
    "coletar_dados('CPS78_85')"
   ]
  },
  {
   "cell_type": "code",
   "execution_count": 11,
   "metadata": {},
   "outputs": [
    {
     "output_type": "execute_result",
     "data": {
      "text/plain": [
       "Index(['educ', 'south', 'nonwhite', 'female', 'married', 'exper', 'expersq',\n",
       "       'union', 'lwage', 'age', 'year', 'y85', 'y85fem', 'y85educ',\n",
       "       'y85union'],\n",
       "      dtype='object')"
      ]
     },
     "metadata": {},
     "execution_count": 11
    }
   ],
   "source": [
    "df.columns"
   ]
  },
  {
   "cell_type": "code",
   "execution_count": 12,
   "metadata": {},
   "outputs": [
    {
     "output_type": "stream",
     "name": "stdout",
     "text": [
      "                            OLS Regression Results                            \n==============================================================================\nDep. Variable:                  lwage   R-squared:                       0.426\nModel:                            OLS   Adj. R-squared:                  0.422\nMethod:                 Least Squares   F-statistic:                     99.80\nDate:                Sun, 07 Mar 2021   Prob (F-statistic):          4.46e-124\nTime:                        18:01:13   Log-Likelihood:                -574.24\nNo. Observations:                1084   AIC:                             1166.\nDf Residuals:                    1075   BIC:                             1211.\nDf Model:                           8                                         \nCovariance Type:            nonrobust                                         \n==============================================================================\n                 coef    std err          t      P>|t|      [0.025      0.975]\n------------------------------------------------------------------------------\nconst          0.4589      0.093      4.911      0.000       0.276       0.642\ny85            0.1178      0.124      0.952      0.341      -0.125       0.361\neduc           0.0747      0.007     11.192      0.000       0.062       0.088\ny85educ        0.0185      0.009      1.974      0.049       0.000       0.037\nexper          0.0296      0.004      8.293      0.000       0.023       0.037\nexpersq       -0.0004   7.75e-05     -5.151      0.000      -0.001      -0.000\nunion          0.2021      0.030      6.672      0.000       0.143       0.262\nfemale        -0.3167      0.037     -8.648      0.000      -0.389      -0.245\ny85fem         0.0851      0.051      1.658      0.098      -0.016       0.186\n==============================================================================\nOmnibus:                       83.747   Durbin-Watson:                   1.918\nProb(Omnibus):                  0.000   Jarque-Bera (JB):              317.985\nSkew:                          -0.271   Prob(JB):                     8.92e-70\nKurtosis:                       5.597   Cond. No.                     8.77e+03\n==============================================================================\n\nWarnings:\n[1] Standard Errors assume that the covariance matrix of the errors is correctly specified.\n[2] The condition number is large, 8.77e+03. This might indicate that there are\nstrong multicollinearity or other numerical problems.\nO erro padrão da regressão é 0.4127 e a SQR é 183.09909\n\nPara ver os valores previstos ou os resídudos, basta chamar 'Lista_ychapeu' e 'Resíduos'.\nOs resultados do modelo podem ser obtidos através de métodos usando a variável 'Resultado'.\n\n    Valores de condição maiores que 20 indicam problemas de multicolinearidade.\n    Para ver como achar esse número, entre em https://www.statsmodels.org/dev/examples/notebooks/generated/ols.html\n"
     ]
    }
   ],
   "source": [
    "## Fazendo o modelo de regressão\n",
    "x = df[['y85','educ','y85educ','exper','expersq','union','female','y85fem']]\n",
    "y = df['lwage']\n",
    "Regressao_Multipla(x,y)"
   ]
  },
  {
   "cell_type": "code",
   "execution_count": 13,
   "metadata": {},
   "outputs": [
    {
     "output_type": "stream",
     "name": "stdout",
     "text": [
      "                            OLS Regression Results                            \n==============================================================================\nDep. Variable:                  lwage   R-squared:                       0.426\nModel:                            OLS   Adj. R-squared:                  0.422\nMethod:                 Least Squares   F-statistic:                     99.80\nDate:                Sun, 07 Mar 2021   Prob (F-statistic):          4.46e-124\nTime:                        18:01:14   Log-Likelihood:                -574.24\nNo. Observations:                1084   AIC:                             1166.\nDf Residuals:                    1075   BIC:                             1211.\nDf Model:                           8                                         \nCovariance Type:            nonrobust                                         \n==============================================================================\n                 coef    std err          t      P>|t|      [0.025      0.975]\n------------------------------------------------------------------------------\nconst          1.3556      0.039     35.068      0.000       1.280       1.431\ny85            0.3393      0.034      9.977      0.000       0.273       0.406\neduc_12        0.0747      0.007     11.192      0.000       0.062       0.088\ny85educ_12     0.0185      0.009      1.974      0.049       0.000       0.037\nexper          0.0296      0.004      8.293      0.000       0.023       0.037\nexpersq       -0.0004   7.75e-05     -5.151      0.000      -0.001      -0.000\nunion          0.2021      0.030      6.672      0.000       0.143       0.262\nfemale        -0.3167      0.037     -8.648      0.000      -0.389      -0.245\ny85fem         0.0851      0.051      1.658      0.098      -0.016       0.186\n==============================================================================\nOmnibus:                       83.747   Durbin-Watson:                   1.918\nProb(Omnibus):                  0.000   Jarque-Bera (JB):              317.985\nSkew:                          -0.271   Prob(JB):                     8.92e-70\nKurtosis:                       5.597   Cond. No.                     4.08e+03\n==============================================================================\n\nWarnings:\n[1] Standard Errors assume that the covariance matrix of the errors is correctly specified.\n[2] The condition number is large, 4.08e+03. This might indicate that there are\nstrong multicollinearity or other numerical problems.\nO erro padrão da regressão é 0.4127 e a SQR é 183.09909\n\nPara ver os valores previstos ou os resídudos, basta chamar 'Lista_ychapeu' e 'Resíduos'.\nOs resultados do modelo podem ser obtidos através de métodos usando a variável 'Resultado'.\n\n    Valores de condição maiores que 20 indicam problemas de multicolinearidade.\n    Para ver como achar esse número, entre em https://www.statsmodels.org/dev/examples/notebooks/generated/ols.html\n"
     ]
    }
   ],
   "source": [
    "## Fazendo o modelo de regressão\n",
    "df['educ_12'] = df['educ'] - 12\n",
    "df['y85educ_12'] = df['y85']*df['educ_12']\n",
    "\n",
    "x = df[['y85','educ_12','y85educ_12','exper','expersq','union','female','y85fem']]\n",
    "y = df['lwage']\n",
    "Regressao_Multipla(x,y)"
   ]
  },
  {
   "cell_type": "code",
   "execution_count": 14,
   "metadata": {},
   "outputs": [
    {
     "output_type": "stream",
     "name": "stdout",
     "text": [
      "                            OLS Regression Results                            \n==============================================================================\nDep. Variable:                 lrwage   R-squared:                       0.356\nModel:                            OLS   Adj. R-squared:                  0.351\nMethod:                 Least Squares   F-statistic:                     74.35\nDate:                Sun, 07 Mar 2021   Prob (F-statistic):           1.87e-97\nTime:                        18:01:14   Log-Likelihood:                -574.24\nNo. Observations:                1084   AIC:                             1166.\nDf Residuals:                    1075   BIC:                             1211.\nDf Model:                           8                                         \nCovariance Type:            nonrobust                                         \n==============================================================================\n                 coef    std err          t      P>|t|      [0.025      0.975]\n------------------------------------------------------------------------------\nconst          0.4589      0.093      4.911      0.000       0.276       0.642\ny85           -0.3830      0.124     -3.094      0.002      -0.626      -0.140\neduc           0.0747      0.007     11.192      0.000       0.062       0.088\ny85educ        0.0185      0.009      1.974      0.049       0.000       0.037\nexper          0.0296      0.004      8.293      0.000       0.023       0.037\nexpersq       -0.0004   7.75e-05     -5.151      0.000      -0.001      -0.000\nunion          0.2021      0.030      6.672      0.000       0.143       0.262\nfemale        -0.3167      0.037     -8.648      0.000      -0.389      -0.245\ny85fem         0.0851      0.051      1.658      0.098      -0.016       0.186\n==============================================================================\nOmnibus:                       83.747   Durbin-Watson:                   1.918\nProb(Omnibus):                  0.000   Jarque-Bera (JB):              317.985\nSkew:                          -0.271   Prob(JB):                     8.92e-70\nKurtosis:                       5.597   Cond. No.                     8.77e+03\n==============================================================================\n\nWarnings:\n[1] Standard Errors assume that the covariance matrix of the errors is correctly specified.\n[2] The condition number is large, 8.77e+03. This might indicate that there are\nstrong multicollinearity or other numerical problems.\nO erro padrão da regressão é 0.4127 e a SQR é 183.09909\n\nPara ver os valores previstos ou os resídudos, basta chamar 'Lista_ychapeu' e 'Resíduos'.\nOs resultados do modelo podem ser obtidos através de métodos usando a variável 'Resultado'.\n\n    Valores de condição maiores que 20 indicam problemas de multicolinearidade.\n    Para ver como achar esse número, entre em https://www.statsmodels.org/dev/examples/notebooks/generated/ols.html\n"
     ]
    }
   ],
   "source": [
    "## Criando a coluna de salário real\n",
    "df['lrwage'] = np.where(df['y85'] == 0, df['lwage'], df['lwage']-np.log(1.65))\n",
    "\n",
    "## Fazendo o modelo de regressão\n",
    "x = df[['y85','educ','y85educ','exper','expersq','union','female','y85fem']]\n",
    "y = df['lrwage']\n",
    "Regressao_Multipla(x,y)"
   ]
  },
  {
   "cell_type": "code",
   "execution_count": 15,
   "metadata": {},
   "outputs": [
    {
     "output_type": "stream",
     "name": "stdout",
     "text": [
      "O percentual de sindicalizados em 1978 era 30.55%, enquanto em 1985 foi 17.98%.\nA mudança foi de -12.57%.\n"
     ]
    }
   ],
   "source": [
    "part_union_78 = len(df.loc[(df['y85'] == 0) & (df['union'] == 1)])/len(df.loc[df['y85'] == 0])\n",
    "part_union_85 = len(df.loc[(df['y85'] == 1) & (df['union'] == 1)])/len(df.loc[df['y85'] == 1])\n",
    "\n",
    "print(f\"O percentual de sindicalizados em 1978 era {round(part_union_78*100,2)}%, enquanto em 1985 foi {round(part_union_85*100,2)}%.\\nA mudança foi de {round((part_union_85-part_union_78)*100,2)}%.\")"
   ]
  },
  {
   "cell_type": "code",
   "execution_count": 16,
   "metadata": {},
   "outputs": [
    {
     "output_type": "stream",
     "name": "stdout",
     "text": [
      "                            OLS Regression Results                            \n==============================================================================\nDep. Variable:                  lwage   R-squared:                       0.426\nModel:                            OLS   Adj. R-squared:                  0.421\nMethod:                 Least Squares   F-statistic:                     88.63\nDate:                Sun, 07 Mar 2021   Prob (F-statistic):          4.61e-123\nTime:                        18:01:14   Log-Likelihood:                -574.24\nNo. Observations:                1084   AIC:                             1168.\nDf Residuals:                    1074   BIC:                             1218.\nDf Model:                           9                                         \nCovariance Type:            nonrobust                                         \n==============================================================================\n                 coef    std err          t      P>|t|      [0.025      0.975]\n------------------------------------------------------------------------------\nconst          0.4588      0.095      4.851      0.000       0.273       0.644\ny85            0.1180      0.126      0.934      0.350      -0.130       0.366\neduc           0.0747      0.007     11.158      0.000       0.062       0.088\ny85educ        0.0185      0.009      1.968      0.049    5.58e-05       0.037\nexper          0.0296      0.004      8.289      0.000       0.023       0.037\nexpersq       -0.0004   7.76e-05     -5.148      0.000      -0.001      -0.000\nunion          0.2023      0.039      5.176      0.000       0.126       0.279\nfemale        -0.3167      0.037     -8.620      0.000      -0.389      -0.245\ny85fem         0.0850      0.052      1.640      0.101      -0.017       0.187\ny85union      -0.0004      0.061     -0.006      0.995      -0.120       0.119\n==============================================================================\nOmnibus:                       83.760   Durbin-Watson:                   1.918\nProb(Omnibus):                  0.000   Jarque-Bera (JB):              318.053\nSkew:                          -0.271   Prob(JB):                     8.62e-70\nKurtosis:                       5.598   Cond. No.                     9.01e+03\n==============================================================================\n\nWarnings:\n[1] Standard Errors assume that the covariance matrix of the errors is correctly specified.\n[2] The condition number is large, 9.01e+03. This might indicate that there are\nstrong multicollinearity or other numerical problems.\nO erro padrão da regressão é 0.4129 e a SQR é 183.09909\n\nPara ver os valores previstos ou os resídudos, basta chamar 'Lista_ychapeu' e 'Resíduos'.\nOs resultados do modelo podem ser obtidos através de métodos usando a variável 'Resultado'.\n\n    Valores de condição maiores que 20 indicam problemas de multicolinearidade.\n    Para ver como achar esse número, entre em https://www.statsmodels.org/dev/examples/notebooks/generated/ols.html\n"
     ]
    }
   ],
   "source": [
    "## Fazendo o modelo com o termo de interação pra captar as mudanças do efeito de union ao longo do período\n",
    "x = df[['y85','educ','y85educ','exper','expersq','union','female','y85fem','y85union']]\n",
    "y = df['lwage']\n",
    "Regressao_Multipla(x,y)"
   ]
  },
  {
   "source": [
    "## Exercício C3"
   ],
   "cell_type": "markdown",
   "metadata": {}
  },
  {
   "cell_type": "code",
   "execution_count": 17,
   "metadata": {},
   "outputs": [
    {
     "output_type": "stream",
     "name": "stdout",
     "text": [
      "kielmc.dta foi lido com sucesso!\n"
     ]
    },
    {
     "output_type": "execute_result",
     "data": {
      "text/plain": [
       "     year  age   agesq  nbh      cbd    intst   lintst     price  rooms  area  \\\n",
       "0    1978   48  2304.0    4   3000.0   1000.0   6.9078   60000.0      7  1660   \n",
       "1    1978   83  6889.0    4   4000.0   1000.0   6.9078   40000.0      6  2612   \n",
       "2    1978   58  3364.0    4   4000.0   1000.0   6.9078   34000.0      6  1144   \n",
       "3    1978   11   121.0    4   4000.0   1000.0   6.9078   63900.0      5  1136   \n",
       "4    1978   48  2304.0    4   4000.0   2000.0   7.6009   44000.0      5  1868   \n",
       "..    ...  ...     ...  ...      ...      ...      ...       ...    ...   ...   \n",
       "316  1981   25   625.0    0  10000.0  10000.0   9.2103   60000.0      6  1388   \n",
       "317  1981    0     0.0    6  24000.0  26000.0  10.1660  144500.0      7  3140   \n",
       "318  1981   20   400.0    0  15000.0  15000.0   9.6158   97000.0      6  1296   \n",
       "319  1981   19   361.0    0  14000.0  15000.0   9.6158   95000.0      5  1148   \n",
       "320  1981    0     0.0    0  13000.0  13000.0   9.4727  204080.0      7  2261   \n",
       "\n",
       "     ...     lprice  y81     larea      lland   y81ldist    lintstsq  nearinc  \\\n",
       "0    ...  11.002100    0  7.414573   8.429017   0.000000   47.717705        1   \n",
       "1    ...  10.596635    0  7.867871   9.032409   0.000000   47.717705        1   \n",
       "2    ...  10.434115    0  7.042286   8.517193   0.000000   47.717705        1   \n",
       "3    ...  11.065075    0  7.035269   9.210340   0.000000   47.717705        1   \n",
       "4    ...  10.691945    0  7.532624   9.210340   0.000000   57.773682        1   \n",
       "..   ...        ...  ...       ...        ...        ...         ...      ...   \n",
       "316  ...  11.002100    1  7.235619   8.922658   9.735069   84.829636        0   \n",
       "317  ...  11.881035    1  8.051978  10.795219  10.126630  103.347565        0   \n",
       "318  ...  11.482467    1  7.167038  10.711458   9.966462   92.463608        0   \n",
       "319  ...  11.461632    1  7.045776  10.696073   9.928180   92.463608        0   \n",
       "320  ...  12.226268    1  7.723562  10.724698   9.873028   89.732048        0   \n",
       "\n",
       "     y81nrinc         rprice    lrprice  \n",
       "0           0   60000.000000  11.002100  \n",
       "1           0   40000.000000  10.596635  \n",
       "2           0   34000.000000  10.434115  \n",
       "3           0   63900.000000  11.065075  \n",
       "4           0   44000.000000  10.691945  \n",
       "..        ...            ...        ...  \n",
       "316         0   46082.949219  10.738198  \n",
       "317         0  110983.101562  11.617133  \n",
       "318         0   74500.765625  11.218565  \n",
       "319         0   72964.671875  11.197731  \n",
       "320         0  156743.468750  11.962366  \n",
       "\n",
       "[321 rows x 25 columns]"
      ],
      "text/html": "<div>\n<style scoped>\n    .dataframe tbody tr th:only-of-type {\n        vertical-align: middle;\n    }\n\n    .dataframe tbody tr th {\n        vertical-align: top;\n    }\n\n    .dataframe thead th {\n        text-align: right;\n    }\n</style>\n<table border=\"1\" class=\"dataframe\">\n  <thead>\n    <tr style=\"text-align: right;\">\n      <th></th>\n      <th>year</th>\n      <th>age</th>\n      <th>agesq</th>\n      <th>nbh</th>\n      <th>cbd</th>\n      <th>intst</th>\n      <th>lintst</th>\n      <th>price</th>\n      <th>rooms</th>\n      <th>area</th>\n      <th>...</th>\n      <th>lprice</th>\n      <th>y81</th>\n      <th>larea</th>\n      <th>lland</th>\n      <th>y81ldist</th>\n      <th>lintstsq</th>\n      <th>nearinc</th>\n      <th>y81nrinc</th>\n      <th>rprice</th>\n      <th>lrprice</th>\n    </tr>\n  </thead>\n  <tbody>\n    <tr>\n      <th>0</th>\n      <td>1978</td>\n      <td>48</td>\n      <td>2304.0</td>\n      <td>4</td>\n      <td>3000.0</td>\n      <td>1000.0</td>\n      <td>6.9078</td>\n      <td>60000.0</td>\n      <td>7</td>\n      <td>1660</td>\n      <td>...</td>\n      <td>11.002100</td>\n      <td>0</td>\n      <td>7.414573</td>\n      <td>8.429017</td>\n      <td>0.000000</td>\n      <td>47.717705</td>\n      <td>1</td>\n      <td>0</td>\n      <td>60000.000000</td>\n      <td>11.002100</td>\n    </tr>\n    <tr>\n      <th>1</th>\n      <td>1978</td>\n      <td>83</td>\n      <td>6889.0</td>\n      <td>4</td>\n      <td>4000.0</td>\n      <td>1000.0</td>\n      <td>6.9078</td>\n      <td>40000.0</td>\n      <td>6</td>\n      <td>2612</td>\n      <td>...</td>\n      <td>10.596635</td>\n      <td>0</td>\n      <td>7.867871</td>\n      <td>9.032409</td>\n      <td>0.000000</td>\n      <td>47.717705</td>\n      <td>1</td>\n      <td>0</td>\n      <td>40000.000000</td>\n      <td>10.596635</td>\n    </tr>\n    <tr>\n      <th>2</th>\n      <td>1978</td>\n      <td>58</td>\n      <td>3364.0</td>\n      <td>4</td>\n      <td>4000.0</td>\n      <td>1000.0</td>\n      <td>6.9078</td>\n      <td>34000.0</td>\n      <td>6</td>\n      <td>1144</td>\n      <td>...</td>\n      <td>10.434115</td>\n      <td>0</td>\n      <td>7.042286</td>\n      <td>8.517193</td>\n      <td>0.000000</td>\n      <td>47.717705</td>\n      <td>1</td>\n      <td>0</td>\n      <td>34000.000000</td>\n      <td>10.434115</td>\n    </tr>\n    <tr>\n      <th>3</th>\n      <td>1978</td>\n      <td>11</td>\n      <td>121.0</td>\n      <td>4</td>\n      <td>4000.0</td>\n      <td>1000.0</td>\n      <td>6.9078</td>\n      <td>63900.0</td>\n      <td>5</td>\n      <td>1136</td>\n      <td>...</td>\n      <td>11.065075</td>\n      <td>0</td>\n      <td>7.035269</td>\n      <td>9.210340</td>\n      <td>0.000000</td>\n      <td>47.717705</td>\n      <td>1</td>\n      <td>0</td>\n      <td>63900.000000</td>\n      <td>11.065075</td>\n    </tr>\n    <tr>\n      <th>4</th>\n      <td>1978</td>\n      <td>48</td>\n      <td>2304.0</td>\n      <td>4</td>\n      <td>4000.0</td>\n      <td>2000.0</td>\n      <td>7.6009</td>\n      <td>44000.0</td>\n      <td>5</td>\n      <td>1868</td>\n      <td>...</td>\n      <td>10.691945</td>\n      <td>0</td>\n      <td>7.532624</td>\n      <td>9.210340</td>\n      <td>0.000000</td>\n      <td>57.773682</td>\n      <td>1</td>\n      <td>0</td>\n      <td>44000.000000</td>\n      <td>10.691945</td>\n    </tr>\n    <tr>\n      <th>...</th>\n      <td>...</td>\n      <td>...</td>\n      <td>...</td>\n      <td>...</td>\n      <td>...</td>\n      <td>...</td>\n      <td>...</td>\n      <td>...</td>\n      <td>...</td>\n      <td>...</td>\n      <td>...</td>\n      <td>...</td>\n      <td>...</td>\n      <td>...</td>\n      <td>...</td>\n      <td>...</td>\n      <td>...</td>\n      <td>...</td>\n      <td>...</td>\n      <td>...</td>\n      <td>...</td>\n    </tr>\n    <tr>\n      <th>316</th>\n      <td>1981</td>\n      <td>25</td>\n      <td>625.0</td>\n      <td>0</td>\n      <td>10000.0</td>\n      <td>10000.0</td>\n      <td>9.2103</td>\n      <td>60000.0</td>\n      <td>6</td>\n      <td>1388</td>\n      <td>...</td>\n      <td>11.002100</td>\n      <td>1</td>\n      <td>7.235619</td>\n      <td>8.922658</td>\n      <td>9.735069</td>\n      <td>84.829636</td>\n      <td>0</td>\n      <td>0</td>\n      <td>46082.949219</td>\n      <td>10.738198</td>\n    </tr>\n    <tr>\n      <th>317</th>\n      <td>1981</td>\n      <td>0</td>\n      <td>0.0</td>\n      <td>6</td>\n      <td>24000.0</td>\n      <td>26000.0</td>\n      <td>10.1660</td>\n      <td>144500.0</td>\n      <td>7</td>\n      <td>3140</td>\n      <td>...</td>\n      <td>11.881035</td>\n      <td>1</td>\n      <td>8.051978</td>\n      <td>10.795219</td>\n      <td>10.126630</td>\n      <td>103.347565</td>\n      <td>0</td>\n      <td>0</td>\n      <td>110983.101562</td>\n      <td>11.617133</td>\n    </tr>\n    <tr>\n      <th>318</th>\n      <td>1981</td>\n      <td>20</td>\n      <td>400.0</td>\n      <td>0</td>\n      <td>15000.0</td>\n      <td>15000.0</td>\n      <td>9.6158</td>\n      <td>97000.0</td>\n      <td>6</td>\n      <td>1296</td>\n      <td>...</td>\n      <td>11.482467</td>\n      <td>1</td>\n      <td>7.167038</td>\n      <td>10.711458</td>\n      <td>9.966462</td>\n      <td>92.463608</td>\n      <td>0</td>\n      <td>0</td>\n      <td>74500.765625</td>\n      <td>11.218565</td>\n    </tr>\n    <tr>\n      <th>319</th>\n      <td>1981</td>\n      <td>19</td>\n      <td>361.0</td>\n      <td>0</td>\n      <td>14000.0</td>\n      <td>15000.0</td>\n      <td>9.6158</td>\n      <td>95000.0</td>\n      <td>5</td>\n      <td>1148</td>\n      <td>...</td>\n      <td>11.461632</td>\n      <td>1</td>\n      <td>7.045776</td>\n      <td>10.696073</td>\n      <td>9.928180</td>\n      <td>92.463608</td>\n      <td>0</td>\n      <td>0</td>\n      <td>72964.671875</td>\n      <td>11.197731</td>\n    </tr>\n    <tr>\n      <th>320</th>\n      <td>1981</td>\n      <td>0</td>\n      <td>0.0</td>\n      <td>0</td>\n      <td>13000.0</td>\n      <td>13000.0</td>\n      <td>9.4727</td>\n      <td>204080.0</td>\n      <td>7</td>\n      <td>2261</td>\n      <td>...</td>\n      <td>12.226268</td>\n      <td>1</td>\n      <td>7.723562</td>\n      <td>10.724698</td>\n      <td>9.873028</td>\n      <td>89.732048</td>\n      <td>0</td>\n      <td>0</td>\n      <td>156743.468750</td>\n      <td>11.962366</td>\n    </tr>\n  </tbody>\n</table>\n<p>321 rows × 25 columns</p>\n</div>"
     },
     "metadata": {},
     "execution_count": 17
    }
   ],
   "source": [
    "coletar_dados('kielmc')"
   ]
  },
  {
   "cell_type": "code",
   "execution_count": 18,
   "metadata": {},
   "outputs": [
    {
     "output_type": "execute_result",
     "data": {
      "text/plain": [
       "Index(['year', 'age', 'agesq', 'nbh', 'cbd', 'intst', 'lintst', 'price',\n",
       "       'rooms', 'area', 'land', 'baths', 'dist', 'ldist', 'wind', 'lprice',\n",
       "       'y81', 'larea', 'lland', 'y81ldist', 'lintstsq', 'nearinc', 'y81nrinc',\n",
       "       'rprice', 'lrprice'],\n",
       "      dtype='object')"
      ]
     },
     "metadata": {},
     "execution_count": 18
    }
   ],
   "source": [
    "df.columns"
   ]
  },
  {
   "cell_type": "code",
   "execution_count": 19,
   "metadata": {},
   "outputs": [
    {
     "output_type": "stream",
     "name": "stdout",
     "text": [
      "                            OLS Regression Results                            \n==============================================================================\nDep. Variable:                 lprice   R-squared:                       0.396\nModel:                            OLS   Adj. R-squared:                  0.390\nMethod:                 Least Squares   F-statistic:                     69.22\nDate:                Sun, 07 Mar 2021   Prob (F-statistic):           1.87e-34\nTime:                        18:01:14   Log-Likelihood:                -109.24\nNo. Observations:                 321   AIC:                             226.5\nDf Residuals:                     317   BIC:                             241.6\nDf Model:                           3                                         \nCovariance Type:            nonrobust                                         \n==============================================================================\n                 coef    std err          t      P>|t|      [0.025      0.975]\n------------------------------------------------------------------------------\nconst          8.0585      0.508     15.850      0.000       7.058       9.059\ny81           -0.0113      0.805     -0.014      0.989      -1.595       1.573\nldist          0.3167      0.052      6.145      0.000       0.215       0.418\ny81ldist       0.0482      0.082      0.589      0.556      -0.113       0.209\n==============================================================================\nOmnibus:                       10.892   Durbin-Watson:                   1.395\nProb(Omnibus):                  0.004   Jarque-Bera (JB):               16.703\nSkew:                           0.224   Prob(JB):                     0.000236\nKurtosis:                       4.024   Cond. No.                         512.\n==============================================================================\n\nWarnings:\n[1] Standard Errors assume that the covariance matrix of the errors is correctly specified.\nO erro padrão da regressão é 0.3422 e a SQR é 37.12173\n\nPara ver os valores previstos ou os resídudos, basta chamar 'Lista_ychapeu' e 'Resíduos'.\nOs resultados do modelo podem ser obtidos através de métodos usando a variável 'Resultado'.\n\n    Valores de condição maiores que 20 indicam problemas de multicolinearidade.\n    Para ver como achar esse número, entre em https://www.statsmodels.org/dev/examples/notebooks/generated/ols.html\n"
     ]
    }
   ],
   "source": [
    "## Fazendo o modelo \n",
    "x = df[['y81','ldist','y81ldist']]\n",
    "y = df['lprice']\n",
    "Regressao_Multipla(x,y)"
   ]
  },
  {
   "cell_type": "code",
   "execution_count": 20,
   "metadata": {},
   "outputs": [
    {
     "output_type": "stream",
     "name": "stdout",
     "text": [
      "                            OLS Regression Results                            \n==============================================================================\nDep. Variable:                 lprice   R-squared:                       0.788\nModel:                            OLS   Adj. R-squared:                  0.781\nMethod:                 Least Squares   F-statistic:                     115.1\nDate:                Sun, 07 Mar 2021   Prob (F-statistic):           4.30e-98\nTime:                        18:01:14   Log-Likelihood:                 58.724\nNo. Observations:                 321   AIC:                            -95.45\nDf Residuals:                     310   BIC:                            -53.96\nDf Model:                          10                                         \nCovariance Type:            nonrobust                                         \n==============================================================================\n                 coef    std err          t      P>|t|      [0.025      0.975]\n------------------------------------------------------------------------------\nconst          7.3095      0.531     13.768      0.000       6.265       8.354\ny81           -0.2332      0.494     -0.472      0.637      -1.205       0.738\nldist          0.0121      0.046      0.265      0.791      -0.078       0.102\ny81ldist       0.0632      0.050      1.259      0.209      -0.036       0.162\nage           -0.0081      0.001     -5.732      0.000      -0.011      -0.005\nagesq       3.598e-05   8.66e-06      4.155      0.000    1.89e-05     5.3e-05\nrooms          0.0462      0.017      2.668      0.008       0.012       0.080\nbaths          0.1003      0.028      3.611      0.000       0.046       0.155\nlintstsq      -0.0040      0.002     -2.184      0.030      -0.008      -0.000\nlland          0.1002      0.025      4.023      0.000       0.051       0.149\nlarea          0.3506      0.052      6.762      0.000       0.249       0.453\n==============================================================================\nOmnibus:                       67.317   Durbin-Watson:                   1.692\nProb(Omnibus):                  0.000   Jarque-Bera (JB):              354.857\nSkew:                          -0.735   Prob(JB):                     8.78e-78\nKurtosis:                       7.937   Cond. No.                     2.65e+05\n==============================================================================\n\nWarnings:\n[1] Standard Errors assume that the covariance matrix of the errors is correctly specified.\n[2] The condition number is large, 2.65e+05. This might indicate that there are\nstrong multicollinearity or other numerical problems.\nO erro padrão da regressão é 0.20506 e a SQR é 13.03556\n\nPara ver os valores previstos ou os resídudos, basta chamar 'Lista_ychapeu' e 'Resíduos'.\nOs resultados do modelo podem ser obtidos através de métodos usando a variável 'Resultado'.\n\n    Valores de condição maiores que 20 indicam problemas de multicolinearidade.\n    Para ver como achar esse número, entre em https://www.statsmodels.org/dev/examples/notebooks/generated/ols.html\n"
     ]
    }
   ],
   "source": [
    "## Fazendo o modelo \n",
    "x = df[['y81','ldist','y81ldist','age','agesq','rooms','baths','lintstsq','lland','larea']]\n",
    "y = df['lprice']\n",
    "Regressao_Multipla(x,y)"
   ]
  },
  {
   "source": [
    "## Exercício C4"
   ],
   "cell_type": "markdown",
   "metadata": {}
  },
  {
   "cell_type": "code",
   "execution_count": 21,
   "metadata": {},
   "outputs": [
    {
     "output_type": "stream",
     "name": "stdout",
     "text": [
      "injury.dta foi lido com sucesso!\n"
     ]
    },
    {
     "output_type": "execute_result",
     "data": {
      "text/plain": [
       "      durat  afchnge  highearn  male  married  hosp  indust  injtype   age  \\\n",
       "0       1.0        1         1   1.0      0.0     1     3.0        1  26.0   \n",
       "1       1.0        1         1   1.0      1.0     0     3.0        1  31.0   \n",
       "2      84.0        1         1   1.0      1.0     1     3.0        1  37.0   \n",
       "3       4.0        1         1   1.0      1.0     1     3.0        1  31.0   \n",
       "4       1.0        1         1   1.0      1.0     0     3.0        1  23.0   \n",
       "...     ...      ...       ...   ...      ...   ...     ...      ...   ...   \n",
       "7145    1.0        0         0   1.0      1.0     0     3.0        7  23.0   \n",
       "7146   18.0        0         0   0.0      0.0     0     3.0        7  31.0   \n",
       "7147   14.0        0         0   0.0      0.0     0     3.0        7  66.0   \n",
       "7148   76.0        0         0   0.0      NaN     0     3.0        7  39.0   \n",
       "7149    4.0        0         0   1.0      1.0     0     3.0        7  45.0   \n",
       "\n",
       "         prewage  ...  head  neck  upextr  trunk  lowback  lowextr  occdis  \\\n",
       "0     404.950012  ...     1     0       0      0        0        0       0   \n",
       "1     643.825012  ...     1     0       0      0        0        0       0   \n",
       "2     398.125000  ...     1     0       0      0        0        0       0   \n",
       "3     527.799988  ...     1     0       0      0        0        0       0   \n",
       "4     528.937500  ...     1     0       0      0        0        0       0   \n",
       "...          ...  ...   ...   ...     ...    ...      ...      ...     ...   \n",
       "7145  284.299988  ...     0     0       0      0        0        0       1   \n",
       "7146  304.769592  ...     0     0       0      0        0        0       1   \n",
       "7147  255.869995  ...     0     0       0      0        0        0       1   \n",
       "7148  274.065186  ...     0     0       0      0        0        0       1   \n",
       "7149  304.769592  ...     0     0       0      0        0        0       1   \n",
       "\n",
       "      manuf  construc  highlpre  \n",
       "0       0.0       0.0  6.003764  \n",
       "1       0.0       0.0  6.467427  \n",
       "2       0.0       0.0  5.986766  \n",
       "3       0.0       0.0  6.268717  \n",
       "4       0.0       0.0  6.270870  \n",
       "...     ...       ...       ...  \n",
       "7145    0.0       0.0  0.000000  \n",
       "7146    0.0       0.0  0.000000  \n",
       "7147    0.0       0.0  0.000000  \n",
       "7148    0.0       0.0  0.000000  \n",
       "7149    0.0       0.0  0.000000  \n",
       "\n",
       "[7150 rows x 30 columns]"
      ],
      "text/html": "<div>\n<style scoped>\n    .dataframe tbody tr th:only-of-type {\n        vertical-align: middle;\n    }\n\n    .dataframe tbody tr th {\n        vertical-align: top;\n    }\n\n    .dataframe thead th {\n        text-align: right;\n    }\n</style>\n<table border=\"1\" class=\"dataframe\">\n  <thead>\n    <tr style=\"text-align: right;\">\n      <th></th>\n      <th>durat</th>\n      <th>afchnge</th>\n      <th>highearn</th>\n      <th>male</th>\n      <th>married</th>\n      <th>hosp</th>\n      <th>indust</th>\n      <th>injtype</th>\n      <th>age</th>\n      <th>prewage</th>\n      <th>...</th>\n      <th>head</th>\n      <th>neck</th>\n      <th>upextr</th>\n      <th>trunk</th>\n      <th>lowback</th>\n      <th>lowextr</th>\n      <th>occdis</th>\n      <th>manuf</th>\n      <th>construc</th>\n      <th>highlpre</th>\n    </tr>\n  </thead>\n  <tbody>\n    <tr>\n      <th>0</th>\n      <td>1.0</td>\n      <td>1</td>\n      <td>1</td>\n      <td>1.0</td>\n      <td>0.0</td>\n      <td>1</td>\n      <td>3.0</td>\n      <td>1</td>\n      <td>26.0</td>\n      <td>404.950012</td>\n      <td>...</td>\n      <td>1</td>\n      <td>0</td>\n      <td>0</td>\n      <td>0</td>\n      <td>0</td>\n      <td>0</td>\n      <td>0</td>\n      <td>0.0</td>\n      <td>0.0</td>\n      <td>6.003764</td>\n    </tr>\n    <tr>\n      <th>1</th>\n      <td>1.0</td>\n      <td>1</td>\n      <td>1</td>\n      <td>1.0</td>\n      <td>1.0</td>\n      <td>0</td>\n      <td>3.0</td>\n      <td>1</td>\n      <td>31.0</td>\n      <td>643.825012</td>\n      <td>...</td>\n      <td>1</td>\n      <td>0</td>\n      <td>0</td>\n      <td>0</td>\n      <td>0</td>\n      <td>0</td>\n      <td>0</td>\n      <td>0.0</td>\n      <td>0.0</td>\n      <td>6.467427</td>\n    </tr>\n    <tr>\n      <th>2</th>\n      <td>84.0</td>\n      <td>1</td>\n      <td>1</td>\n      <td>1.0</td>\n      <td>1.0</td>\n      <td>1</td>\n      <td>3.0</td>\n      <td>1</td>\n      <td>37.0</td>\n      <td>398.125000</td>\n      <td>...</td>\n      <td>1</td>\n      <td>0</td>\n      <td>0</td>\n      <td>0</td>\n      <td>0</td>\n      <td>0</td>\n      <td>0</td>\n      <td>0.0</td>\n      <td>0.0</td>\n      <td>5.986766</td>\n    </tr>\n    <tr>\n      <th>3</th>\n      <td>4.0</td>\n      <td>1</td>\n      <td>1</td>\n      <td>1.0</td>\n      <td>1.0</td>\n      <td>1</td>\n      <td>3.0</td>\n      <td>1</td>\n      <td>31.0</td>\n      <td>527.799988</td>\n      <td>...</td>\n      <td>1</td>\n      <td>0</td>\n      <td>0</td>\n      <td>0</td>\n      <td>0</td>\n      <td>0</td>\n      <td>0</td>\n      <td>0.0</td>\n      <td>0.0</td>\n      <td>6.268717</td>\n    </tr>\n    <tr>\n      <th>4</th>\n      <td>1.0</td>\n      <td>1</td>\n      <td>1</td>\n      <td>1.0</td>\n      <td>1.0</td>\n      <td>0</td>\n      <td>3.0</td>\n      <td>1</td>\n      <td>23.0</td>\n      <td>528.937500</td>\n      <td>...</td>\n      <td>1</td>\n      <td>0</td>\n      <td>0</td>\n      <td>0</td>\n      <td>0</td>\n      <td>0</td>\n      <td>0</td>\n      <td>0.0</td>\n      <td>0.0</td>\n      <td>6.270870</td>\n    </tr>\n    <tr>\n      <th>...</th>\n      <td>...</td>\n      <td>...</td>\n      <td>...</td>\n      <td>...</td>\n      <td>...</td>\n      <td>...</td>\n      <td>...</td>\n      <td>...</td>\n      <td>...</td>\n      <td>...</td>\n      <td>...</td>\n      <td>...</td>\n      <td>...</td>\n      <td>...</td>\n      <td>...</td>\n      <td>...</td>\n      <td>...</td>\n      <td>...</td>\n      <td>...</td>\n      <td>...</td>\n      <td>...</td>\n    </tr>\n    <tr>\n      <th>7145</th>\n      <td>1.0</td>\n      <td>0</td>\n      <td>0</td>\n      <td>1.0</td>\n      <td>1.0</td>\n      <td>0</td>\n      <td>3.0</td>\n      <td>7</td>\n      <td>23.0</td>\n      <td>284.299988</td>\n      <td>...</td>\n      <td>0</td>\n      <td>0</td>\n      <td>0</td>\n      <td>0</td>\n      <td>0</td>\n      <td>0</td>\n      <td>1</td>\n      <td>0.0</td>\n      <td>0.0</td>\n      <td>0.000000</td>\n    </tr>\n    <tr>\n      <th>7146</th>\n      <td>18.0</td>\n      <td>0</td>\n      <td>0</td>\n      <td>0.0</td>\n      <td>0.0</td>\n      <td>0</td>\n      <td>3.0</td>\n      <td>7</td>\n      <td>31.0</td>\n      <td>304.769592</td>\n      <td>...</td>\n      <td>0</td>\n      <td>0</td>\n      <td>0</td>\n      <td>0</td>\n      <td>0</td>\n      <td>0</td>\n      <td>1</td>\n      <td>0.0</td>\n      <td>0.0</td>\n      <td>0.000000</td>\n    </tr>\n    <tr>\n      <th>7147</th>\n      <td>14.0</td>\n      <td>0</td>\n      <td>0</td>\n      <td>0.0</td>\n      <td>0.0</td>\n      <td>0</td>\n      <td>3.0</td>\n      <td>7</td>\n      <td>66.0</td>\n      <td>255.869995</td>\n      <td>...</td>\n      <td>0</td>\n      <td>0</td>\n      <td>0</td>\n      <td>0</td>\n      <td>0</td>\n      <td>0</td>\n      <td>1</td>\n      <td>0.0</td>\n      <td>0.0</td>\n      <td>0.000000</td>\n    </tr>\n    <tr>\n      <th>7148</th>\n      <td>76.0</td>\n      <td>0</td>\n      <td>0</td>\n      <td>0.0</td>\n      <td>NaN</td>\n      <td>0</td>\n      <td>3.0</td>\n      <td>7</td>\n      <td>39.0</td>\n      <td>274.065186</td>\n      <td>...</td>\n      <td>0</td>\n      <td>0</td>\n      <td>0</td>\n      <td>0</td>\n      <td>0</td>\n      <td>0</td>\n      <td>1</td>\n      <td>0.0</td>\n      <td>0.0</td>\n      <td>0.000000</td>\n    </tr>\n    <tr>\n      <th>7149</th>\n      <td>4.0</td>\n      <td>0</td>\n      <td>0</td>\n      <td>1.0</td>\n      <td>1.0</td>\n      <td>0</td>\n      <td>3.0</td>\n      <td>7</td>\n      <td>45.0</td>\n      <td>304.769592</td>\n      <td>...</td>\n      <td>0</td>\n      <td>0</td>\n      <td>0</td>\n      <td>0</td>\n      <td>0</td>\n      <td>0</td>\n      <td>1</td>\n      <td>0.0</td>\n      <td>0.0</td>\n      <td>0.000000</td>\n    </tr>\n  </tbody>\n</table>\n<p>7150 rows × 30 columns</p>\n</div>"
     },
     "metadata": {},
     "execution_count": 21
    }
   ],
   "source": [
    "coletar_dados('injury')"
   ]
  },
  {
   "cell_type": "code",
   "execution_count": 22,
   "metadata": {},
   "outputs": [
    {
     "output_type": "execute_result",
     "data": {
      "text/plain": [
       "Index(['durat', 'afchnge', 'highearn', 'male', 'married', 'hosp', 'indust',\n",
       "       'injtype', 'age', 'prewage', 'totmed', 'injdes', 'benefit', 'ky', 'mi',\n",
       "       'ldurat', 'afhigh', 'lprewage', 'lage', 'ltotmed', 'head', 'neck',\n",
       "       'upextr', 'trunk', 'lowback', 'lowextr', 'occdis', 'manuf', 'construc',\n",
       "       'highlpre'],\n",
       "      dtype='object')"
      ]
     },
     "metadata": {},
     "execution_count": 22
    }
   ],
   "source": [
    "df.columns"
   ]
  },
  {
   "cell_type": "code",
   "execution_count": 23,
   "metadata": {},
   "outputs": [],
   "source": [
    "## Tirando dados nulos\n",
    "df.dropna(subset = ['male','married','head','neck','upextr','trunk', 'lowback', 'lowextr', 'occdis', 'manuf', 'construc'],inplace=True, axis=0)"
   ]
  },
  {
   "cell_type": "code",
   "execution_count": 24,
   "metadata": {},
   "outputs": [
    {
     "output_type": "stream",
     "name": "stdout",
     "text": [
      "                            OLS Regression Results                            \n==============================================================================\nDep. Variable:                 ldurat   R-squared:                       0.041\nModel:                            OLS   Adj. R-squared:                  0.039\nMethod:                 Least Squares   F-statistic:                     16.37\nDate:                Sun, 07 Mar 2021   Prob (F-statistic):           4.81e-40\nTime:                        18:01:15   Log-Likelihood:                -8778.2\nNo. Observations:                5349   AIC:                         1.759e+04\nDf Residuals:                    5334   BIC:                         1.769e+04\nDf Model:                          14                                         \nCovariance Type:            nonrobust                                         \n==============================================================================\n                 coef    std err          t      P>|t|      [0.025      0.975]\n------------------------------------------------------------------------------\nconst          1.2459      0.106     11.735      0.000       1.038       1.454\nafchnge        0.0106      0.045      0.237      0.813      -0.077       0.099\nhighearn       0.1758      0.052      3.397      0.001       0.074       0.277\nafhigh         0.2309      0.070      3.321      0.001       0.095       0.367\nmale          -0.0979      0.045     -2.198      0.028      -0.185      -0.011\nmarried        0.1221      0.039      3.121      0.002       0.045       0.199\nhead          -0.5139      0.129     -3.975      0.000      -0.767      -0.260\nneck           0.2699      0.161      1.671      0.095      -0.047       0.586\nupextr        -0.1785      0.101     -1.765      0.078      -0.377       0.020\ntrunk          0.1265      0.109      1.160      0.246      -0.087       0.340\nlowback       -0.0086      0.102     -0.085      0.933      -0.208       0.190\nlowextr       -0.1203      0.102     -1.176      0.240      -0.321       0.080\noccdis         0.2727      0.211      1.294      0.196      -0.140       0.686\nmanuf         -0.1607      0.041     -3.928      0.000      -0.241      -0.080\nconstruc       0.1102      0.052      2.127      0.033       0.009       0.212\n==============================================================================\nOmnibus:                       23.922   Durbin-Watson:                   1.935\nProb(Omnibus):                  0.000   Jarque-Bera (JB):               32.504\nSkew:                          -0.023   Prob(JB):                     8.74e-08\nKurtosis:                       3.379   Cond. No.                         29.5\n==============================================================================\n\nWarnings:\n[1] Standard Errors assume that the covariance matrix of the errors is correctly specified.\nO erro padrão da regressão é 1.25053 e a SQR é 8341.41206\n\nPara ver os valores previstos ou os resídudos, basta chamar 'Lista_ychapeu' e 'Resíduos'.\nOs resultados do modelo podem ser obtidos através de métodos usando a variável 'Resultado'.\n\n    Valores de condição maiores que 20 indicam problemas de multicolinearidade.\n    Para ver como achar esse número, entre em https://www.statsmodels.org/dev/examples/notebooks/generated/ols.html\n"
     ]
    }
   ],
   "source": [
    "## Usando apenas os dados de Kentucky\n",
    "df_ky = df.loc[df['ky'] == 1]\n",
    "\n",
    "## Criando o modelo\n",
    "x = df_ky[['afchnge','highearn','afhigh','male','married','head','neck','upextr','trunk', 'lowback', 'lowextr', 'occdis', 'manuf', 'construc']]\n",
    "y = df_ky['ldurat']\n",
    "Regressao_Multipla(x,y)"
   ]
  },
  {
   "cell_type": "code",
   "execution_count": 25,
   "metadata": {},
   "outputs": [
    {
     "output_type": "stream",
     "name": "stdout",
     "text": [
      "                            OLS Regression Results                            \n==============================================================================\nDep. Variable:                 ldurat   R-squared:                       0.010\nModel:                            OLS   Adj. R-squared:                  0.008\nMethod:                 Least Squares   F-statistic:                     5.039\nDate:                Sun, 07 Mar 2021   Prob (F-statistic):            0.00178\nTime:                        18:01:15   Log-Likelihood:                -2556.1\nNo. Observations:                1475   AIC:                             5120.\nDf Residuals:                    1471   BIC:                             5141.\nDf Model:                           3                                         \nCovariance Type:            nonrobust                                         \n==============================================================================\n                 coef    std err          t      P>|t|      [0.025      0.975]\n------------------------------------------------------------------------------\nconst          1.4317      0.058     24.827      0.000       1.319       1.545\nafchnge        0.0752      0.086      0.875      0.382      -0.093       0.244\nhighearn       0.1499      0.107      1.407      0.160      -0.059       0.359\nafhigh         0.1962      0.156      1.260      0.208      -0.109       0.502\n==============================================================================\nOmnibus:                       22.078   Durbin-Watson:                   1.943\nProb(Omnibus):                  0.000   Jarque-Bera (JB):               34.644\nSkew:                           0.120   Prob(JB):                     3.00e-08\nKurtosis:                       3.712   Cond. No.                         6.16\n==============================================================================\n\nWarnings:\n[1] Standard Errors assume that the covariance matrix of the errors is correctly specified.\nO erro padrão da regressão é 1.37073 e a SQR é 2763.85105\n\nPara ver os valores previstos ou os resídudos, basta chamar 'Lista_ychapeu' e 'Resíduos'.\nOs resultados do modelo podem ser obtidos através de métodos usando a variável 'Resultado'.\n\n    Valores de condição maiores que 20 indicam problemas de multicolinearidade.\n    Para ver como achar esse número, entre em https://www.statsmodels.org/dev/examples/notebooks/generated/ols.html\n"
     ]
    }
   ],
   "source": [
    "## Usando apenas os dados de Michigan\n",
    "df_mi = df.loc[df['mi'] == 1]\n",
    "\n",
    "## Criando o modelo da equação (13.2)\n",
    "x = df_mi[['afchnge','highearn','afhigh']]\n",
    "y = df_mi['ldurat']\n",
    "Regressao_Multipla(x,y)"
   ]
  },
  {
   "source": [
    "## Exercício C5"
   ],
   "cell_type": "markdown",
   "metadata": {}
  },
  {
   "cell_type": "code",
   "execution_count": 26,
   "metadata": {},
   "outputs": [
    {
     "output_type": "stream",
     "name": "stdout",
     "text": [
      "rental.dta foi lido com sucesso!\n"
     ]
    },
    {
     "output_type": "execute_result",
     "data": {
      "text/plain": [
       "     city  year       pop   enroll  rent   rnthsg   tothsg   avginc  \\\n",
       "0       1    80   75211.0  15303.0   197  13475.0  26167.0  11537.0   \n",
       "1       1    90   77759.0  18017.0   342  15660.0  29467.0  19568.0   \n",
       "2       2    80  106743.0  22462.0   323  14580.0  37277.0  19841.0   \n",
       "3       2    90  141865.0  29769.0   496  26895.0  55540.0  31885.0   \n",
       "4       3    80   36608.0  11847.0   216   7026.0  13482.0  11455.0   \n",
       "..    ...   ...       ...      ...   ...      ...      ...      ...   \n",
       "123    62    90   56856.0  10640.0   352   8980.0  21118.0  24735.0   \n",
       "124    63    80   48347.0   9051.0   220   8224.0  18085.0  13458.0   \n",
       "125    63    90   51003.0   9961.0   344  10073.0  19970.0  21947.0   \n",
       "126    64    80  170616.0  37475.0   243  34108.0  66451.0  16510.0   \n",
       "127    64    90  191262.0  44601.0   472  41029.0  77361.0  29420.0   \n",
       "\n",
       "       lenroll       lpop  ...    lavginc      clenroll     clpop    clrent  \\\n",
       "0     9.635804  11.228053  ...   9.353314           NaN       NaN       NaN   \n",
       "1     9.799071  11.261370  ...   9.881651 -15293.201172  0.033317  0.551607   \n",
       "2    10.019580  11.578179  ...   9.895506           NaN       NaN       NaN   \n",
       "3    10.301223  11.862631  ...  10.369891 -22451.699219  0.284451  0.428924   \n",
       "4     9.379830  10.508022  ...   9.346182           NaN       NaN       NaN   \n",
       "..         ...        ...  ...        ...           ...       ...       ...   \n",
       "123   9.272376  10.948277  ...  10.115974  -9600.727539  0.098765  0.447531   \n",
       "124   9.110631  10.786160  ...   9.507329           NaN       NaN       NaN   \n",
       "125   9.206432  10.839640  ...   9.996386  -9041.793945  0.053480  0.447014   \n",
       "126  10.531429  12.047171  ...   9.711721           NaN       NaN       NaN   \n",
       "127  10.705511  12.161400  ...  10.289430 -37464.292969  0.114229  0.663918   \n",
       "\n",
       "     cltothsg  clrnthsg  clavginc     pctstu   cpctstu  y90  \n",
       "0         NaN       NaN       NaN  20.346758       NaN    0  \n",
       "1    0.118772  0.150273  0.528337  23.170309  2.823551    1  \n",
       "2         NaN       NaN       NaN  21.043066       NaN    0  \n",
       "3    0.398727  0.612289  0.474385  20.984034 -0.059032    1  \n",
       "4         NaN       NaN       NaN  32.361778       NaN    0  \n",
       "..        ...       ...       ...        ...       ...  ...  \n",
       "123  0.140006  0.225234  0.537041  18.713943  0.057011    1  \n",
       "124       NaN       NaN       NaN  18.720913       NaN    0  \n",
       "125  0.099148  0.202803  0.489057  19.530224  0.809311    1  \n",
       "126       NaN       NaN       NaN  21.964529       NaN    0  \n",
       "127  0.152018  0.184747  0.577708  23.319321  1.354792    1  \n",
       "\n",
       "[128 rows x 23 columns]"
      ],
      "text/html": "<div>\n<style scoped>\n    .dataframe tbody tr th:only-of-type {\n        vertical-align: middle;\n    }\n\n    .dataframe tbody tr th {\n        vertical-align: top;\n    }\n\n    .dataframe thead th {\n        text-align: right;\n    }\n</style>\n<table border=\"1\" class=\"dataframe\">\n  <thead>\n    <tr style=\"text-align: right;\">\n      <th></th>\n      <th>city</th>\n      <th>year</th>\n      <th>pop</th>\n      <th>enroll</th>\n      <th>rent</th>\n      <th>rnthsg</th>\n      <th>tothsg</th>\n      <th>avginc</th>\n      <th>lenroll</th>\n      <th>lpop</th>\n      <th>...</th>\n      <th>lavginc</th>\n      <th>clenroll</th>\n      <th>clpop</th>\n      <th>clrent</th>\n      <th>cltothsg</th>\n      <th>clrnthsg</th>\n      <th>clavginc</th>\n      <th>pctstu</th>\n      <th>cpctstu</th>\n      <th>y90</th>\n    </tr>\n  </thead>\n  <tbody>\n    <tr>\n      <th>0</th>\n      <td>1</td>\n      <td>80</td>\n      <td>75211.0</td>\n      <td>15303.0</td>\n      <td>197</td>\n      <td>13475.0</td>\n      <td>26167.0</td>\n      <td>11537.0</td>\n      <td>9.635804</td>\n      <td>11.228053</td>\n      <td>...</td>\n      <td>9.353314</td>\n      <td>NaN</td>\n      <td>NaN</td>\n      <td>NaN</td>\n      <td>NaN</td>\n      <td>NaN</td>\n      <td>NaN</td>\n      <td>20.346758</td>\n      <td>NaN</td>\n      <td>0</td>\n    </tr>\n    <tr>\n      <th>1</th>\n      <td>1</td>\n      <td>90</td>\n      <td>77759.0</td>\n      <td>18017.0</td>\n      <td>342</td>\n      <td>15660.0</td>\n      <td>29467.0</td>\n      <td>19568.0</td>\n      <td>9.799071</td>\n      <td>11.261370</td>\n      <td>...</td>\n      <td>9.881651</td>\n      <td>-15293.201172</td>\n      <td>0.033317</td>\n      <td>0.551607</td>\n      <td>0.118772</td>\n      <td>0.150273</td>\n      <td>0.528337</td>\n      <td>23.170309</td>\n      <td>2.823551</td>\n      <td>1</td>\n    </tr>\n    <tr>\n      <th>2</th>\n      <td>2</td>\n      <td>80</td>\n      <td>106743.0</td>\n      <td>22462.0</td>\n      <td>323</td>\n      <td>14580.0</td>\n      <td>37277.0</td>\n      <td>19841.0</td>\n      <td>10.019580</td>\n      <td>11.578179</td>\n      <td>...</td>\n      <td>9.895506</td>\n      <td>NaN</td>\n      <td>NaN</td>\n      <td>NaN</td>\n      <td>NaN</td>\n      <td>NaN</td>\n      <td>NaN</td>\n      <td>21.043066</td>\n      <td>NaN</td>\n      <td>0</td>\n    </tr>\n    <tr>\n      <th>3</th>\n      <td>2</td>\n      <td>90</td>\n      <td>141865.0</td>\n      <td>29769.0</td>\n      <td>496</td>\n      <td>26895.0</td>\n      <td>55540.0</td>\n      <td>31885.0</td>\n      <td>10.301223</td>\n      <td>11.862631</td>\n      <td>...</td>\n      <td>10.369891</td>\n      <td>-22451.699219</td>\n      <td>0.284451</td>\n      <td>0.428924</td>\n      <td>0.398727</td>\n      <td>0.612289</td>\n      <td>0.474385</td>\n      <td>20.984034</td>\n      <td>-0.059032</td>\n      <td>1</td>\n    </tr>\n    <tr>\n      <th>4</th>\n      <td>3</td>\n      <td>80</td>\n      <td>36608.0</td>\n      <td>11847.0</td>\n      <td>216</td>\n      <td>7026.0</td>\n      <td>13482.0</td>\n      <td>11455.0</td>\n      <td>9.379830</td>\n      <td>10.508022</td>\n      <td>...</td>\n      <td>9.346182</td>\n      <td>NaN</td>\n      <td>NaN</td>\n      <td>NaN</td>\n      <td>NaN</td>\n      <td>NaN</td>\n      <td>NaN</td>\n      <td>32.361778</td>\n      <td>NaN</td>\n      <td>0</td>\n    </tr>\n    <tr>\n      <th>...</th>\n      <td>...</td>\n      <td>...</td>\n      <td>...</td>\n      <td>...</td>\n      <td>...</td>\n      <td>...</td>\n      <td>...</td>\n      <td>...</td>\n      <td>...</td>\n      <td>...</td>\n      <td>...</td>\n      <td>...</td>\n      <td>...</td>\n      <td>...</td>\n      <td>...</td>\n      <td>...</td>\n      <td>...</td>\n      <td>...</td>\n      <td>...</td>\n      <td>...</td>\n      <td>...</td>\n    </tr>\n    <tr>\n      <th>123</th>\n      <td>62</td>\n      <td>90</td>\n      <td>56856.0</td>\n      <td>10640.0</td>\n      <td>352</td>\n      <td>8980.0</td>\n      <td>21118.0</td>\n      <td>24735.0</td>\n      <td>9.272376</td>\n      <td>10.948277</td>\n      <td>...</td>\n      <td>10.115974</td>\n      <td>-9600.727539</td>\n      <td>0.098765</td>\n      <td>0.447531</td>\n      <td>0.140006</td>\n      <td>0.225234</td>\n      <td>0.537041</td>\n      <td>18.713943</td>\n      <td>0.057011</td>\n      <td>1</td>\n    </tr>\n    <tr>\n      <th>124</th>\n      <td>63</td>\n      <td>80</td>\n      <td>48347.0</td>\n      <td>9051.0</td>\n      <td>220</td>\n      <td>8224.0</td>\n      <td>18085.0</td>\n      <td>13458.0</td>\n      <td>9.110631</td>\n      <td>10.786160</td>\n      <td>...</td>\n      <td>9.507329</td>\n      <td>NaN</td>\n      <td>NaN</td>\n      <td>NaN</td>\n      <td>NaN</td>\n      <td>NaN</td>\n      <td>NaN</td>\n      <td>18.720913</td>\n      <td>NaN</td>\n      <td>0</td>\n    </tr>\n    <tr>\n      <th>125</th>\n      <td>63</td>\n      <td>90</td>\n      <td>51003.0</td>\n      <td>9961.0</td>\n      <td>344</td>\n      <td>10073.0</td>\n      <td>19970.0</td>\n      <td>21947.0</td>\n      <td>9.206432</td>\n      <td>10.839640</td>\n      <td>...</td>\n      <td>9.996386</td>\n      <td>-9041.793945</td>\n      <td>0.053480</td>\n      <td>0.447014</td>\n      <td>0.099148</td>\n      <td>0.202803</td>\n      <td>0.489057</td>\n      <td>19.530224</td>\n      <td>0.809311</td>\n      <td>1</td>\n    </tr>\n    <tr>\n      <th>126</th>\n      <td>64</td>\n      <td>80</td>\n      <td>170616.0</td>\n      <td>37475.0</td>\n      <td>243</td>\n      <td>34108.0</td>\n      <td>66451.0</td>\n      <td>16510.0</td>\n      <td>10.531429</td>\n      <td>12.047171</td>\n      <td>...</td>\n      <td>9.711721</td>\n      <td>NaN</td>\n      <td>NaN</td>\n      <td>NaN</td>\n      <td>NaN</td>\n      <td>NaN</td>\n      <td>NaN</td>\n      <td>21.964529</td>\n      <td>NaN</td>\n      <td>0</td>\n    </tr>\n    <tr>\n      <th>127</th>\n      <td>64</td>\n      <td>90</td>\n      <td>191262.0</td>\n      <td>44601.0</td>\n      <td>472</td>\n      <td>41029.0</td>\n      <td>77361.0</td>\n      <td>29420.0</td>\n      <td>10.705511</td>\n      <td>12.161400</td>\n      <td>...</td>\n      <td>10.289430</td>\n      <td>-37464.292969</td>\n      <td>0.114229</td>\n      <td>0.663918</td>\n      <td>0.152018</td>\n      <td>0.184747</td>\n      <td>0.577708</td>\n      <td>23.319321</td>\n      <td>1.354792</td>\n      <td>1</td>\n    </tr>\n  </tbody>\n</table>\n<p>128 rows × 23 columns</p>\n</div>"
     },
     "metadata": {},
     "execution_count": 26
    }
   ],
   "source": [
    "coletar_dados('rental')"
   ]
  },
  {
   "cell_type": "code",
   "execution_count": 27,
   "metadata": {},
   "outputs": [
    {
     "output_type": "execute_result",
     "data": {
      "text/plain": [
       "Index(['city', 'year', 'pop', 'enroll', 'rent', 'rnthsg', 'tothsg', 'avginc',\n",
       "       'lenroll', 'lpop', 'lrent', 'ltothsg', 'lrnthsg', 'lavginc', 'clenroll',\n",
       "       'clpop', 'clrent', 'cltothsg', 'clrnthsg', 'clavginc', 'pctstu',\n",
       "       'cpctstu', 'y90'],\n",
       "      dtype='object')"
      ]
     },
     "metadata": {},
     "execution_count": 27
    }
   ],
   "source": [
    "df.columns"
   ]
  },
  {
   "cell_type": "code",
   "execution_count": 28,
   "metadata": {},
   "outputs": [
    {
     "output_type": "stream",
     "name": "stdout",
     "text": [
      "Coluna de indivíduos não está no dataframe. Insira uma coluna válida e tente novamente!\n"
     ]
    }
   ],
   "source": [
    "## Ajustando o formato do dataset\n",
    "Arrumar_Painel()"
   ]
  },
  {
   "cell_type": "code",
   "execution_count": 29,
   "metadata": {},
   "outputs": [
    {
     "output_type": "error",
     "ename": "ValueError",
     "evalue": "Series can only be used with a 2-level MultiIndex",
     "traceback": [
      "\u001b[0;31m---------------------------------------------------------------------------\u001b[0m",
      "\u001b[0;31mValueError\u001b[0m                                Traceback (most recent call last)",
      "\u001b[0;32m<ipython-input-29-2fa0098a3f73>\u001b[0m in \u001b[0;36m<module>\u001b[0;34m\u001b[0m\n\u001b[1;32m      3\u001b[0m \u001b[0mx\u001b[0m \u001b[0;34m=\u001b[0m \u001b[0mdf\u001b[0m\u001b[0;34m[\u001b[0m\u001b[0;34m[\u001b[0m\u001b[0;34m'y90'\u001b[0m\u001b[0;34m,\u001b[0m\u001b[0;34m'lpop'\u001b[0m\u001b[0;34m,\u001b[0m\u001b[0;34m'lavginc'\u001b[0m\u001b[0;34m,\u001b[0m\u001b[0;34m'pctstu'\u001b[0m\u001b[0;34m]\u001b[0m\u001b[0;34m]\u001b[0m\u001b[0;34m\u001b[0m\u001b[0;34m\u001b[0m\u001b[0m\n\u001b[1;32m      4\u001b[0m \u001b[0my\u001b[0m \u001b[0;34m=\u001b[0m \u001b[0mdf\u001b[0m\u001b[0;34m[\u001b[0m\u001b[0;34m'lrent'\u001b[0m\u001b[0;34m]\u001b[0m\u001b[0;34m\u001b[0m\u001b[0;34m\u001b[0m\u001b[0m\n\u001b[0;32m----> 5\u001b[0;31m \u001b[0mReg_Painel_MQO_Agrupado\u001b[0m\u001b[0;34m(\u001b[0m\u001b[0mx\u001b[0m\u001b[0;34m,\u001b[0m\u001b[0my\u001b[0m\u001b[0;34m)\u001b[0m\u001b[0;34m\u001b[0m\u001b[0;34m\u001b[0m\u001b[0m\n\u001b[0m",
      "\u001b[0;32m<ipython-input-1-79e3d7df7c11>\u001b[0m in \u001b[0;36mReg_Painel_MQO_Agrupado\u001b[0;34m(x, y, constante, robusta)\u001b[0m\n\u001b[1;32m    542\u001b[0m \u001b[0;34m\u001b[0m\u001b[0m\n\u001b[1;32m    543\u001b[0m     \u001b[0;31m#Criando o Modelo levando em conta a opção de ser uma regressão robusta p/ heteroscedasticidade ou não\u001b[0m\u001b[0;34m\u001b[0m\u001b[0;34m\u001b[0m\u001b[0;34m\u001b[0m\u001b[0m\n\u001b[0;32m--> 544\u001b[0;31m     \u001b[0mModelo\u001b[0m \u001b[0;34m=\u001b[0m \u001b[0mPooledOLS\u001b[0m\u001b[0;34m(\u001b[0m\u001b[0my\u001b[0m\u001b[0;34m,\u001b[0m\u001b[0mX\u001b[0m\u001b[0;34m)\u001b[0m\u001b[0;34m\u001b[0m\u001b[0;34m\u001b[0m\u001b[0m\n\u001b[0m\u001b[1;32m    545\u001b[0m     \u001b[0;32mif\u001b[0m \u001b[0mrobusta\u001b[0m \u001b[0;34m==\u001b[0m \u001b[0;34m\"N\"\u001b[0m\u001b[0;34m:\u001b[0m\u001b[0;34m\u001b[0m\u001b[0;34m\u001b[0m\u001b[0m\n\u001b[1;32m    546\u001b[0m         \u001b[0mResultado\u001b[0m \u001b[0;34m=\u001b[0m \u001b[0mModelo\u001b[0m\u001b[0;34m.\u001b[0m\u001b[0mfit\u001b[0m\u001b[0;34m(\u001b[0m\u001b[0;34m)\u001b[0m\u001b[0;34m\u001b[0m\u001b[0;34m\u001b[0m\u001b[0m\n",
      "\u001b[0;32m~/opt/anaconda3/envs/myenv/lib/python3.7/site-packages/linearmodels/panel/model.py\u001b[0m in \u001b[0;36m__init__\u001b[0;34m(self, dependent, exog, weights)\u001b[0m\n\u001b[1;32m    776\u001b[0m         \u001b[0mweights\u001b[0m\u001b[0;34m:\u001b[0m \u001b[0mOptional\u001b[0m\u001b[0;34m[\u001b[0m\u001b[0mPanelDataLike\u001b[0m\u001b[0;34m]\u001b[0m \u001b[0;34m=\u001b[0m \u001b[0;32mNone\u001b[0m\u001b[0;34m,\u001b[0m\u001b[0;34m\u001b[0m\u001b[0;34m\u001b[0m\u001b[0m\n\u001b[1;32m    777\u001b[0m     ) -> None:\n\u001b[0;32m--> 778\u001b[0;31m         \u001b[0msuper\u001b[0m\u001b[0;34m(\u001b[0m\u001b[0;34m)\u001b[0m\u001b[0;34m.\u001b[0m\u001b[0m__init__\u001b[0m\u001b[0;34m(\u001b[0m\u001b[0mdependent\u001b[0m\u001b[0;34m,\u001b[0m \u001b[0mexog\u001b[0m\u001b[0;34m,\u001b[0m \u001b[0mweights\u001b[0m\u001b[0;34m=\u001b[0m\u001b[0mweights\u001b[0m\u001b[0;34m)\u001b[0m\u001b[0;34m\u001b[0m\u001b[0;34m\u001b[0m\u001b[0m\n\u001b[0m\u001b[1;32m    779\u001b[0m \u001b[0;34m\u001b[0m\u001b[0m\n\u001b[1;32m    780\u001b[0m     \u001b[0;34m@\u001b[0m\u001b[0mclassmethod\u001b[0m\u001b[0;34m\u001b[0m\u001b[0;34m\u001b[0m\u001b[0m\n",
      "\u001b[0;32m~/opt/anaconda3/envs/myenv/lib/python3.7/site-packages/linearmodels/panel/model.py\u001b[0m in \u001b[0;36m__init__\u001b[0;34m(self, dependent, exog, weights)\u001b[0m\n\u001b[1;32m    228\u001b[0m         \u001b[0mweights\u001b[0m\u001b[0;34m:\u001b[0m \u001b[0mOptional\u001b[0m\u001b[0;34m[\u001b[0m\u001b[0mPanelDataLike\u001b[0m\u001b[0;34m]\u001b[0m \u001b[0;34m=\u001b[0m \u001b[0;32mNone\u001b[0m\u001b[0;34m,\u001b[0m\u001b[0;34m\u001b[0m\u001b[0;34m\u001b[0m\u001b[0m\n\u001b[1;32m    229\u001b[0m     ) -> None:\n\u001b[0;32m--> 230\u001b[0;31m         \u001b[0mself\u001b[0m\u001b[0;34m.\u001b[0m\u001b[0mdependent\u001b[0m \u001b[0;34m=\u001b[0m \u001b[0mPanelData\u001b[0m\u001b[0;34m(\u001b[0m\u001b[0mdependent\u001b[0m\u001b[0;34m,\u001b[0m \u001b[0;34m\"Dep\"\u001b[0m\u001b[0;34m)\u001b[0m\u001b[0;34m\u001b[0m\u001b[0;34m\u001b[0m\u001b[0m\n\u001b[0m\u001b[1;32m    231\u001b[0m         \u001b[0mself\u001b[0m\u001b[0;34m.\u001b[0m\u001b[0mexog\u001b[0m \u001b[0;34m=\u001b[0m \u001b[0mPanelData\u001b[0m\u001b[0;34m(\u001b[0m\u001b[0mexog\u001b[0m\u001b[0;34m,\u001b[0m \u001b[0;34m\"Exog\"\u001b[0m\u001b[0;34m)\u001b[0m\u001b[0;34m\u001b[0m\u001b[0;34m\u001b[0m\u001b[0m\n\u001b[1;32m    232\u001b[0m         \u001b[0mself\u001b[0m\u001b[0;34m.\u001b[0m\u001b[0m_original_shape\u001b[0m \u001b[0;34m=\u001b[0m \u001b[0mself\u001b[0m\u001b[0;34m.\u001b[0m\u001b[0mdependent\u001b[0m\u001b[0;34m.\u001b[0m\u001b[0mshape\u001b[0m\u001b[0;34m\u001b[0m\u001b[0;34m\u001b[0m\u001b[0m\n",
      "\u001b[0;32m~/opt/anaconda3/envs/myenv/lib/python3.7/site-packages/linearmodels/panel/data.py\u001b[0m in \u001b[0;36m__init__\u001b[0;34m(self, x, var_name, convert_dummies, drop_first, copy)\u001b[0m\n\u001b[1;32m    200\u001b[0m             \u001b[0mx\u001b[0m \u001b[0;34m=\u001b[0m \u001b[0mDataFrame\u001b[0m\u001b[0;34m(\u001b[0m\u001b[0mx\u001b[0m\u001b[0;34m)\u001b[0m\u001b[0;34m\u001b[0m\u001b[0;34m\u001b[0m\u001b[0m\n\u001b[1;32m    201\u001b[0m         \u001b[0;32melif\u001b[0m \u001b[0misinstance\u001b[0m\u001b[0;34m(\u001b[0m\u001b[0mx\u001b[0m\u001b[0;34m,\u001b[0m \u001b[0mSeries\u001b[0m\u001b[0;34m)\u001b[0m\u001b[0;34m:\u001b[0m\u001b[0;34m\u001b[0m\u001b[0;34m\u001b[0m\u001b[0m\n\u001b[0;32m--> 202\u001b[0;31m             \u001b[0;32mraise\u001b[0m \u001b[0mValueError\u001b[0m\u001b[0;34m(\u001b[0m\u001b[0;34m\"Series can only be used with a 2-level MultiIndex\"\u001b[0m\u001b[0;34m)\u001b[0m\u001b[0;34m\u001b[0m\u001b[0;34m\u001b[0m\u001b[0m\n\u001b[0m\u001b[1;32m    203\u001b[0m \u001b[0;34m\u001b[0m\u001b[0m\n\u001b[1;32m    204\u001b[0m         \u001b[0;32mif\u001b[0m \u001b[0misinstance\u001b[0m\u001b[0;34m(\u001b[0m\u001b[0mx\u001b[0m\u001b[0;34m,\u001b[0m \u001b[0mDataFrame\u001b[0m\u001b[0;34m)\u001b[0m\u001b[0;34m:\u001b[0m\u001b[0;34m\u001b[0m\u001b[0;34m\u001b[0m\u001b[0m\n",
      "\u001b[0;31mValueError\u001b[0m: Series can only be used with a 2-level MultiIndex"
     ]
    }
   ],
   "source": [
    "## Criando o modelo usando MQO Agrupado\n",
    "\n",
    "x = df[['y90','lpop','lavginc','pctstu']]\n",
    "y = df['lrent']\n",
    "Reg_Painel_MQO_Agrupado(x,y)"
   ]
  },
  {
   "cell_type": "code",
   "execution_count": 80,
   "metadata": {},
   "outputs": [
    {
     "output_type": "stream",
     "name": "stdout",
     "text": [
      "                            OLS Regression Results                            \n==============================================================================\nDep. Variable:                 clrent   R-squared:                       0.322\nModel:                            OLS   Adj. R-squared:                  0.288\nMethod:                 Least Squares   F-statistic:                     9.510\nDate:                Wed, 03 Mar 2021   Prob (F-statistic):           3.14e-05\nTime:                        20:23:09   Log-Likelihood:                 65.272\nNo. Observations:                  64   AIC:                            -122.5\nDf Residuals:                      60   BIC:                            -113.9\nDf Model:                           3                                         \nCovariance Type:            nonrobust                                         \n==============================================================================\n                 coef    std err          t      P>|t|      [0.025      0.975]\n------------------------------------------------------------------------------\ny90            0.3855      0.037     10.469      0.000       0.312       0.459\nclpop          0.0722      0.088      0.818      0.417      -0.104       0.249\nclavginc       0.3100      0.066      4.663      0.000       0.177       0.443\ncpctstu        0.0112      0.004      2.711      0.009       0.003       0.019\n==============================================================================\nOmnibus:                        2.653   Durbin-Watson:                   1.655\nProb(Omnibus):                  0.265   Jarque-Bera (JB):                2.335\nSkew:                           0.467   Prob(JB):                        0.311\nKurtosis:                       2.934   Cond. No.                         23.0\n==============================================================================\n\nWarnings:\n[1] Standard Errors assume that the covariance matrix of the errors is correctly specified.\nO erro padrão da regressão é 0.09013 e a SQR é 0.48736\n\nPara ver os valores previstos ou os resídudos, basta chamar 'Lista_ychapeu' e 'Resíduos'.\nOs resultados do modelo podem ser obtidos através de métodos usando a variável 'Resultado'.\n\n    Valores de condição maiores que 20 indicam problemas de multicolinearidade.\n    Para ver como achar esse número, entre em https://www.statsmodels.org/dev/examples/notebooks/generated/ols.html\n"
     ]
    }
   ],
   "source": [
    "## Criando o modelo usando primeiras diferenças\n",
    "df_90 = df.loc[df['y90'] == 1]\n",
    "\n",
    "x = df_90[['y90','clpop','clavginc','cpctstu']]\n",
    "y = df_90['clrent']\n",
    "Regressao_Multipla(x,y)"
   ]
  },
  {
   "cell_type": "code",
   "execution_count": 81,
   "metadata": {},
   "outputs": [
    {
     "output_type": "execute_result",
     "data": {
      "text/plain": [
       "y90         0.036824\n",
       "clpop       0.088343\n",
       "clavginc    0.066477\n",
       "cpctstu     0.004132\n",
       "dtype: float32"
      ]
     },
     "metadata": {},
     "execution_count": 81
    }
   ],
   "source": [
    "## Vendo os erros padrão dos coeficientes\n",
    "Resultado.bse"
   ]
  },
  {
   "cell_type": "code",
   "execution_count": 82,
   "metadata": {},
   "outputs": [
    {
     "output_type": "stream",
     "name": "stdout",
     "text": [
      "                            OLS Regression Results                            \n==============================================================================\nDep. Variable:                 clrent   R-squared:                       0.322\nModel:                            OLS   Adj. R-squared:                  0.288\nMethod:                 Least Squares   F-statistic:                     11.30\nDate:                Wed, 03 Mar 2021   Prob (F-statistic):           5.64e-06\nTime:                        20:23:11   Log-Likelihood:                 65.272\nNo. Observations:                  64   AIC:                            -122.5\nDf Residuals:                      60   BIC:                            -113.9\nDf Model:                           3                                         \nCovariance Type:                  HC1                                         \n==============================================================================\n                 coef    std err          t      P>|t|      [0.025      0.975]\n------------------------------------------------------------------------------\ny90            0.3855      0.049      7.913      0.000       0.288       0.483\nclpop          0.0722      0.070      1.037      0.304      -0.067       0.212\nclavginc       0.3100      0.089      3.471      0.001       0.131       0.489\ncpctstu        0.0112      0.003      3.816      0.000       0.005       0.017\n==============================================================================\nOmnibus:                        2.653   Durbin-Watson:                   1.655\nProb(Omnibus):                  0.265   Jarque-Bera (JB):                2.335\nSkew:                           0.467   Prob(JB):                        0.311\nKurtosis:                       2.934   Cond. No.                         23.0\n==============================================================================\n\nWarnings:\n[1] Standard Errors are heteroscedasticity robust (HC1)\nO erro padrão da regressão é 0.09013 e a SQR é 0.48736\n\nPara ver os valores previstos ou os resídudos, basta chamar 'Lista_ychapeu' e 'Resíduos'.\nOs resultados do modelo podem ser obtidos através de métodos usando a variável 'Resultado'.\n\n    Valores de condição maiores que 20 indicam problemas de multicolinearidade.\n    Para ver como achar esse número, entre em https://www.statsmodels.org/dev/examples/notebooks/generated/ols.html\n"
     ]
    }
   ],
   "source": [
    "## Criando o modelo usando primeiras diferenças e erros robustos\n",
    "df_90 = df.loc[df['y90'] == 1]\n",
    "\n",
    "x = df_90[['y90','clpop','clavginc','cpctstu']]\n",
    "y = df_90['clrent']\n",
    "Regressao_Multipla(x,y,robusta='S')"
   ]
  },
  {
   "cell_type": "code",
   "execution_count": 83,
   "metadata": {},
   "outputs": [
    {
     "output_type": "execute_result",
     "data": {
      "text/plain": [
       "y90         0.048719\n",
       "clpop       0.069680\n",
       "clavginc    0.089310\n",
       "cpctstu     0.002936\n",
       "dtype: float32"
      ]
     },
     "metadata": {},
     "execution_count": 83
    }
   ],
   "source": [
    "Resultado.bse"
   ]
  },
  {
   "source": [
    "## Exercicio C1O"
   ],
   "cell_type": "markdown",
   "metadata": {}
  },
  {
   "cell_type": "code",
   "execution_count": 30,
   "metadata": {},
   "outputs": [
    {
     "output_type": "stream",
     "name": "stdout",
     "text": [
      "jtrain.dta foi lido com sucesso!\n"
     ]
    },
    {
     "output_type": "execute_result",
     "data": {
      "text/plain": [
       "     year     fcode  employ       sales   avgsal  scrap  rework  tothrs  \\\n",
       "0    1987  410032.0   100.0  47000000.0  35000.0    NaN     NaN    12.0   \n",
       "1    1988  410032.0   131.0  43000000.0  37000.0    NaN     NaN     8.0   \n",
       "2    1989  410032.0   123.0  49000000.0  39000.0    NaN     NaN     8.0   \n",
       "3    1987  410440.0    12.0   1560000.0  10500.0    NaN     NaN    12.0   \n",
       "4    1988  410440.0    13.0   1970000.0  11000.0    NaN     NaN    12.0   \n",
       "..    ...       ...     ...         ...      ...    ...     ...     ...   \n",
       "466  1988  419483.0   108.0  11500000.0  14810.0   25.0     NaN     0.0   \n",
       "467  1989  419483.0   129.0  12000000.0  14227.0   30.0     NaN    20.0   \n",
       "468  1987  419486.0    80.0   7000000.0  16000.0    NaN     NaN     0.0   \n",
       "469  1988  419486.0    90.0   8500000.0  17000.0    NaN     NaN     0.0   \n",
       "470  1989  419486.0   100.0   9900000.0  18000.0    NaN     NaN    40.0   \n",
       "\n",
       "     union  grant  ...  grant_1   clscrap  cgrant  clemploy   clsales  \\\n",
       "0        0      0  ...        0       NaN       0       NaN       NaN   \n",
       "1        0      0  ...        0       NaN       0  0.270027 -0.088949   \n",
       "2        0      0  ...        0       NaN       0 -0.063013  0.130621   \n",
       "3        0      0  ...        0       NaN       0       NaN       NaN   \n",
       "4        0      0  ...        0       NaN       0  0.080043  0.233347   \n",
       "..     ...    ...  ...      ...       ...     ...       ...       ...   \n",
       "466      1      0  ...        0  0.223144       0 -0.208218  0.044453   \n",
       "467      1      0  ...        0  0.182322       0  0.177681  0.042559   \n",
       "468      0      0  ...        0       NaN       0       NaN       NaN   \n",
       "469      0      0  ...        0       NaN       0  0.117783  0.194157   \n",
       "470      0      1  ...        0       NaN       1  0.105361  0.152469   \n",
       "\n",
       "       lavgsal  clavgsal  cgrant_1    chrsemp  clhrsemp  \n",
       "0    10.463103       NaN       NaN        NaN       NaN  \n",
       "1    10.518673  0.055570       0.0  -8.946565 -1.165385  \n",
       "2    10.571317  0.052644       0.0   0.198597  0.047832  \n",
       "3     9.259130       NaN       NaN        NaN       NaN  \n",
       "4     9.305651  0.046520       0.0   0.000000  0.000000  \n",
       "..         ...       ...       ...        ...       ...  \n",
       "466   9.603058  0.059321       0.0   0.000000  0.000000  \n",
       "467   9.562897 -0.040161       0.0   3.100775  1.411176  \n",
       "468   9.680344       NaN       NaN        NaN       NaN  \n",
       "469   9.740969  0.060625       0.0   0.000000  0.000000  \n",
       "470   9.798127  0.057158       0.0  36.000000  3.610918  \n",
       "\n",
       "[471 rows x 30 columns]"
      ],
      "text/html": "<div>\n<style scoped>\n    .dataframe tbody tr th:only-of-type {\n        vertical-align: middle;\n    }\n\n    .dataframe tbody tr th {\n        vertical-align: top;\n    }\n\n    .dataframe thead th {\n        text-align: right;\n    }\n</style>\n<table border=\"1\" class=\"dataframe\">\n  <thead>\n    <tr style=\"text-align: right;\">\n      <th></th>\n      <th>year</th>\n      <th>fcode</th>\n      <th>employ</th>\n      <th>sales</th>\n      <th>avgsal</th>\n      <th>scrap</th>\n      <th>rework</th>\n      <th>tothrs</th>\n      <th>union</th>\n      <th>grant</th>\n      <th>...</th>\n      <th>grant_1</th>\n      <th>clscrap</th>\n      <th>cgrant</th>\n      <th>clemploy</th>\n      <th>clsales</th>\n      <th>lavgsal</th>\n      <th>clavgsal</th>\n      <th>cgrant_1</th>\n      <th>chrsemp</th>\n      <th>clhrsemp</th>\n    </tr>\n  </thead>\n  <tbody>\n    <tr>\n      <th>0</th>\n      <td>1987</td>\n      <td>410032.0</td>\n      <td>100.0</td>\n      <td>47000000.0</td>\n      <td>35000.0</td>\n      <td>NaN</td>\n      <td>NaN</td>\n      <td>12.0</td>\n      <td>0</td>\n      <td>0</td>\n      <td>...</td>\n      <td>0</td>\n      <td>NaN</td>\n      <td>0</td>\n      <td>NaN</td>\n      <td>NaN</td>\n      <td>10.463103</td>\n      <td>NaN</td>\n      <td>NaN</td>\n      <td>NaN</td>\n      <td>NaN</td>\n    </tr>\n    <tr>\n      <th>1</th>\n      <td>1988</td>\n      <td>410032.0</td>\n      <td>131.0</td>\n      <td>43000000.0</td>\n      <td>37000.0</td>\n      <td>NaN</td>\n      <td>NaN</td>\n      <td>8.0</td>\n      <td>0</td>\n      <td>0</td>\n      <td>...</td>\n      <td>0</td>\n      <td>NaN</td>\n      <td>0</td>\n      <td>0.270027</td>\n      <td>-0.088949</td>\n      <td>10.518673</td>\n      <td>0.055570</td>\n      <td>0.0</td>\n      <td>-8.946565</td>\n      <td>-1.165385</td>\n    </tr>\n    <tr>\n      <th>2</th>\n      <td>1989</td>\n      <td>410032.0</td>\n      <td>123.0</td>\n      <td>49000000.0</td>\n      <td>39000.0</td>\n      <td>NaN</td>\n      <td>NaN</td>\n      <td>8.0</td>\n      <td>0</td>\n      <td>0</td>\n      <td>...</td>\n      <td>0</td>\n      <td>NaN</td>\n      <td>0</td>\n      <td>-0.063013</td>\n      <td>0.130621</td>\n      <td>10.571317</td>\n      <td>0.052644</td>\n      <td>0.0</td>\n      <td>0.198597</td>\n      <td>0.047832</td>\n    </tr>\n    <tr>\n      <th>3</th>\n      <td>1987</td>\n      <td>410440.0</td>\n      <td>12.0</td>\n      <td>1560000.0</td>\n      <td>10500.0</td>\n      <td>NaN</td>\n      <td>NaN</td>\n      <td>12.0</td>\n      <td>0</td>\n      <td>0</td>\n      <td>...</td>\n      <td>0</td>\n      <td>NaN</td>\n      <td>0</td>\n      <td>NaN</td>\n      <td>NaN</td>\n      <td>9.259130</td>\n      <td>NaN</td>\n      <td>NaN</td>\n      <td>NaN</td>\n      <td>NaN</td>\n    </tr>\n    <tr>\n      <th>4</th>\n      <td>1988</td>\n      <td>410440.0</td>\n      <td>13.0</td>\n      <td>1970000.0</td>\n      <td>11000.0</td>\n      <td>NaN</td>\n      <td>NaN</td>\n      <td>12.0</td>\n      <td>0</td>\n      <td>0</td>\n      <td>...</td>\n      <td>0</td>\n      <td>NaN</td>\n      <td>0</td>\n      <td>0.080043</td>\n      <td>0.233347</td>\n      <td>9.305651</td>\n      <td>0.046520</td>\n      <td>0.0</td>\n      <td>0.000000</td>\n      <td>0.000000</td>\n    </tr>\n    <tr>\n      <th>...</th>\n      <td>...</td>\n      <td>...</td>\n      <td>...</td>\n      <td>...</td>\n      <td>...</td>\n      <td>...</td>\n      <td>...</td>\n      <td>...</td>\n      <td>...</td>\n      <td>...</td>\n      <td>...</td>\n      <td>...</td>\n      <td>...</td>\n      <td>...</td>\n      <td>...</td>\n      <td>...</td>\n      <td>...</td>\n      <td>...</td>\n      <td>...</td>\n      <td>...</td>\n      <td>...</td>\n    </tr>\n    <tr>\n      <th>466</th>\n      <td>1988</td>\n      <td>419483.0</td>\n      <td>108.0</td>\n      <td>11500000.0</td>\n      <td>14810.0</td>\n      <td>25.0</td>\n      <td>NaN</td>\n      <td>0.0</td>\n      <td>1</td>\n      <td>0</td>\n      <td>...</td>\n      <td>0</td>\n      <td>0.223144</td>\n      <td>0</td>\n      <td>-0.208218</td>\n      <td>0.044453</td>\n      <td>9.603058</td>\n      <td>0.059321</td>\n      <td>0.0</td>\n      <td>0.000000</td>\n      <td>0.000000</td>\n    </tr>\n    <tr>\n      <th>467</th>\n      <td>1989</td>\n      <td>419483.0</td>\n      <td>129.0</td>\n      <td>12000000.0</td>\n      <td>14227.0</td>\n      <td>30.0</td>\n      <td>NaN</td>\n      <td>20.0</td>\n      <td>1</td>\n      <td>0</td>\n      <td>...</td>\n      <td>0</td>\n      <td>0.182322</td>\n      <td>0</td>\n      <td>0.177681</td>\n      <td>0.042559</td>\n      <td>9.562897</td>\n      <td>-0.040161</td>\n      <td>0.0</td>\n      <td>3.100775</td>\n      <td>1.411176</td>\n    </tr>\n    <tr>\n      <th>468</th>\n      <td>1987</td>\n      <td>419486.0</td>\n      <td>80.0</td>\n      <td>7000000.0</td>\n      <td>16000.0</td>\n      <td>NaN</td>\n      <td>NaN</td>\n      <td>0.0</td>\n      <td>0</td>\n      <td>0</td>\n      <td>...</td>\n      <td>0</td>\n      <td>NaN</td>\n      <td>0</td>\n      <td>NaN</td>\n      <td>NaN</td>\n      <td>9.680344</td>\n      <td>NaN</td>\n      <td>NaN</td>\n      <td>NaN</td>\n      <td>NaN</td>\n    </tr>\n    <tr>\n      <th>469</th>\n      <td>1988</td>\n      <td>419486.0</td>\n      <td>90.0</td>\n      <td>8500000.0</td>\n      <td>17000.0</td>\n      <td>NaN</td>\n      <td>NaN</td>\n      <td>0.0</td>\n      <td>0</td>\n      <td>0</td>\n      <td>...</td>\n      <td>0</td>\n      <td>NaN</td>\n      <td>0</td>\n      <td>0.117783</td>\n      <td>0.194157</td>\n      <td>9.740969</td>\n      <td>0.060625</td>\n      <td>0.0</td>\n      <td>0.000000</td>\n      <td>0.000000</td>\n    </tr>\n    <tr>\n      <th>470</th>\n      <td>1989</td>\n      <td>419486.0</td>\n      <td>100.0</td>\n      <td>9900000.0</td>\n      <td>18000.0</td>\n      <td>NaN</td>\n      <td>NaN</td>\n      <td>40.0</td>\n      <td>0</td>\n      <td>1</td>\n      <td>...</td>\n      <td>0</td>\n      <td>NaN</td>\n      <td>1</td>\n      <td>0.105361</td>\n      <td>0.152469</td>\n      <td>9.798127</td>\n      <td>0.057158</td>\n      <td>0.0</td>\n      <td>36.000000</td>\n      <td>3.610918</td>\n    </tr>\n  </tbody>\n</table>\n<p>471 rows × 30 columns</p>\n</div>"
     },
     "metadata": {},
     "execution_count": 30
    }
   ],
   "source": [
    "coletar_dados('jtrain')"
   ]
  },
  {
   "cell_type": "code",
   "execution_count": 31,
   "metadata": {},
   "outputs": [
    {
     "output_type": "execute_result",
     "data": {
      "text/plain": [
       "Index(['year', 'fcode', 'employ', 'sales', 'avgsal', 'scrap', 'rework',\n",
       "       'tothrs', 'union', 'grant', 'd89', 'd88', 'totrain', 'hrsemp', 'lscrap',\n",
       "       'lemploy', 'lsales', 'lrework', 'lhrsemp', 'lscrap_1', 'grant_1',\n",
       "       'clscrap', 'cgrant', 'clemploy', 'clsales', 'lavgsal', 'clavgsal',\n",
       "       'cgrant_1', 'chrsemp', 'clhrsemp'],\n",
       "      dtype='object')"
      ]
     },
     "metadata": {},
     "execution_count": 31
    }
   ],
   "source": [
    "df.columns"
   ]
  },
  {
   "cell_type": "code",
   "execution_count": 54,
   "metadata": {},
   "outputs": [
    {
     "output_type": "execute_result",
     "data": {
      "text/plain": [
       "d89          0\n",
       "cgrant       0\n",
       "cgrant_1     0\n",
       "clemploy    24\n",
       "chrsemp     63\n",
       "dtype: int64"
      ]
     },
     "metadata": {},
     "execution_count": 54
    }
   ],
   "source": [
    "# Capturando apenas os dados de 1988 e 1989\n",
    "df_88_89 = df.loc[df['year'] != 1987]\n",
    "\n",
    "# contando o número de observações nulas\n",
    "df_88_89[['d89','cgrant','cgrant_1','clemploy','chrsemp']].isna().sum()"
   ]
  },
  {
   "cell_type": "code",
   "execution_count": 58,
   "metadata": {},
   "outputs": [],
   "source": [
    "## Arrumando o dataframe para primeiras diferenças\n",
    "df_88_89 = df.loc[df['year'] != 1987]\n",
    "df_88_89 = df_88_89.dropna(subset = ['d89','cgrant','cgrant_1','clemploy','chrsemp'], axis = 0)"
   ]
  },
  {
   "cell_type": "code",
   "execution_count": 56,
   "metadata": {},
   "outputs": [
    {
     "output_type": "stream",
     "name": "stdout",
     "text": [
      "                            OLS Regression Results                            \n==============================================================================\nDep. Variable:                chrsemp   R-squared:                       0.476\nModel:                            OLS   Adj. R-squared:                  0.467\nMethod:                 Least Squares   F-statistic:                     55.80\nDate:                Sun, 07 Mar 2021   Prob (F-statistic):           1.92e-33\nTime:                        18:21:09   Log-Likelihood:                -1098.3\nNo. Observations:                 251   AIC:                             2207.\nDf Residuals:                     246   BIC:                             2224.\nDf Model:                           4                                         \nCovariance Type:            nonrobust                                         \n==============================================================================\n                 coef    std err          t      P>|t|      [0.025      0.975]\n------------------------------------------------------------------------------\nconst         -0.7400      1.942     -0.381      0.703      -4.565       3.084\nd89            5.4232      2.649      2.047      0.042       0.205      10.641\ncgrant        32.6011      2.968     10.983      0.000      26.755      38.447\ncgrant_1       1.9969      5.555      0.359      0.720      -8.944      12.938\nclemploy       0.7440      4.868      0.153      0.879      -8.844      10.332\n==============================================================================\nOmnibus:                      127.706   Durbin-Watson:                   2.391\nProb(Omnibus):                  0.000   Jarque-Bera (JB):             1537.543\nSkew:                           1.695   Prob(JB):                         0.00\nKurtosis:                      14.641   Cond. No.                         5.73\n==============================================================================\n\nWarnings:\n[1] Standard Errors assume that the covariance matrix of the errors is correctly specified.\nO erro padrão da regressão é 19.42984 e a SQR é 92869.62398\n\nPara ver os valores previstos ou os resídudos, basta chamar 'Lista_ychapeu' e 'Resíduos'.\nOs resultados do modelo podem ser obtidos através de métodos usando a variável 'Resultado'.\n\n    Valores de condição maiores que 20 indicam problemas de multicolinearidade.\n    Para ver como achar esse número, entre em https://www.statsmodels.org/dev/examples/notebooks/generated/ols.html\n"
     ]
    }
   ],
   "source": [
    "## Fazendo a regressão de 1as diferenças\n",
    "x = df_88_89[['d89','cgrant','cgrant_1','clemploy']]\n",
    "y = df_88_89['chrsemp']\n",
    "Regressao_Multipla(x,y)"
   ]
  },
  {
   "cell_type": "code",
   "execution_count": 60,
   "metadata": {},
   "outputs": [
    {
     "output_type": "stream",
     "name": "stdout",
     "text": [
      "O número de códigos únicos é: 127\n"
     ]
    }
   ],
   "source": [
    "## Contando quantas firmas tem dados completos\n",
    "print(f\"O número de códigos únicos é: {df_88_89['fcode'].nunique()}\")"
   ]
  },
  {
   "cell_type": "code",
   "execution_count": 47,
   "metadata": {},
   "outputs": [],
   "source": [
    "## O coeficiente de grant indica que a concessão do grant aumenta o numero de horas de treinamento de um trabalhador em 32,6h por ano."
   ]
  },
  {
   "cell_type": "code",
   "execution_count": 48,
   "metadata": {},
   "outputs": [],
   "source": [
    "## Os efeitos de grant_1 sobre o número de horas de treinamento já podem ter sido inteiramente consumidos no ano anterior, uma vez que a firma pode optar por consumir esses recursos de forma mais rápida"
   ]
  },
  {
   "source": [
    "## Exercício C13"
   ],
   "cell_type": "markdown",
   "metadata": {}
  },
  {
   "cell_type": "code",
   "execution_count": 270,
   "metadata": {},
   "outputs": [
    {
     "output_type": "stream",
     "name": "stdout",
     "text": [
      "wagepan.dta foi lido com sucesso!\n"
     ]
    },
    {
     "output_type": "execute_result",
     "data": {
      "text/plain": [
       "         nr  year  agric  black  bus  construc  ent  exper  fin  hisp  ...  \\\n",
       "0        13  1980      0      0    1         0    0      1    0     0  ...   \n",
       "1        13  1981      0      0    0         0    0      2    0     0  ...   \n",
       "2        13  1982      0      0    1         0    0      3    0     0  ...   \n",
       "3        13  1983      0      0    1         0    0      4    0     0  ...   \n",
       "4        13  1984      0      0    0         0    0      5    0     0  ...   \n",
       "...     ...   ...    ...    ...  ...       ...  ...    ...  ...   ...  ...   \n",
       "4355  12548  1983      0      0    0         1    0      8    0     0  ...   \n",
       "4356  12548  1984      0      0    0         1    0      9    0     0  ...   \n",
       "4357  12548  1985      0      0    0         1    0     10    0     0  ...   \n",
       "4358  12548  1986      0      0    0         0    0     11    0     0  ...   \n",
       "4359  12548  1987      0      0    0         0    0     12    0     0  ...   \n",
       "\n",
       "      union     lwage  d81  d82  d83  d84  d85  d86  d87  expersq  \n",
       "0         0  1.197540    0    0    0    0    0    0    0        1  \n",
       "1         1  1.853060    1    0    0    0    0    0    0        4  \n",
       "2         0  1.344462    0    1    0    0    0    0    0        9  \n",
       "3         0  1.433213    0    0    1    0    0    0    0       16  \n",
       "4         0  1.568125    0    0    0    1    0    0    0       25  \n",
       "...     ...       ...  ...  ...  ...  ...  ...  ...  ...      ...  \n",
       "4355      0  1.591879    0    0    1    0    0    0    0       64  \n",
       "4356      1  1.212543    0    0    0    1    0    0    0       81  \n",
       "4357      0  1.765962    0    0    0    0    1    0    0      100  \n",
       "4358      1  1.745894    0    0    0    0    0    1    0      121  \n",
       "4359      1  1.466543    0    0    0    0    0    0    1      144  \n",
       "\n",
       "[4360 rows x 44 columns]"
      ],
      "text/html": "<div>\n<style scoped>\n    .dataframe tbody tr th:only-of-type {\n        vertical-align: middle;\n    }\n\n    .dataframe tbody tr th {\n        vertical-align: top;\n    }\n\n    .dataframe thead th {\n        text-align: right;\n    }\n</style>\n<table border=\"1\" class=\"dataframe\">\n  <thead>\n    <tr style=\"text-align: right;\">\n      <th></th>\n      <th>nr</th>\n      <th>year</th>\n      <th>agric</th>\n      <th>black</th>\n      <th>bus</th>\n      <th>construc</th>\n      <th>ent</th>\n      <th>exper</th>\n      <th>fin</th>\n      <th>hisp</th>\n      <th>...</th>\n      <th>union</th>\n      <th>lwage</th>\n      <th>d81</th>\n      <th>d82</th>\n      <th>d83</th>\n      <th>d84</th>\n      <th>d85</th>\n      <th>d86</th>\n      <th>d87</th>\n      <th>expersq</th>\n    </tr>\n  </thead>\n  <tbody>\n    <tr>\n      <th>0</th>\n      <td>13</td>\n      <td>1980</td>\n      <td>0</td>\n      <td>0</td>\n      <td>1</td>\n      <td>0</td>\n      <td>0</td>\n      <td>1</td>\n      <td>0</td>\n      <td>0</td>\n      <td>...</td>\n      <td>0</td>\n      <td>1.197540</td>\n      <td>0</td>\n      <td>0</td>\n      <td>0</td>\n      <td>0</td>\n      <td>0</td>\n      <td>0</td>\n      <td>0</td>\n      <td>1</td>\n    </tr>\n    <tr>\n      <th>1</th>\n      <td>13</td>\n      <td>1981</td>\n      <td>0</td>\n      <td>0</td>\n      <td>0</td>\n      <td>0</td>\n      <td>0</td>\n      <td>2</td>\n      <td>0</td>\n      <td>0</td>\n      <td>...</td>\n      <td>1</td>\n      <td>1.853060</td>\n      <td>1</td>\n      <td>0</td>\n      <td>0</td>\n      <td>0</td>\n      <td>0</td>\n      <td>0</td>\n      <td>0</td>\n      <td>4</td>\n    </tr>\n    <tr>\n      <th>2</th>\n      <td>13</td>\n      <td>1982</td>\n      <td>0</td>\n      <td>0</td>\n      <td>1</td>\n      <td>0</td>\n      <td>0</td>\n      <td>3</td>\n      <td>0</td>\n      <td>0</td>\n      <td>...</td>\n      <td>0</td>\n      <td>1.344462</td>\n      <td>0</td>\n      <td>1</td>\n      <td>0</td>\n      <td>0</td>\n      <td>0</td>\n      <td>0</td>\n      <td>0</td>\n      <td>9</td>\n    </tr>\n    <tr>\n      <th>3</th>\n      <td>13</td>\n      <td>1983</td>\n      <td>0</td>\n      <td>0</td>\n      <td>1</td>\n      <td>0</td>\n      <td>0</td>\n      <td>4</td>\n      <td>0</td>\n      <td>0</td>\n      <td>...</td>\n      <td>0</td>\n      <td>1.433213</td>\n      <td>0</td>\n      <td>0</td>\n      <td>1</td>\n      <td>0</td>\n      <td>0</td>\n      <td>0</td>\n      <td>0</td>\n      <td>16</td>\n    </tr>\n    <tr>\n      <th>4</th>\n      <td>13</td>\n      <td>1984</td>\n      <td>0</td>\n      <td>0</td>\n      <td>0</td>\n      <td>0</td>\n      <td>0</td>\n      <td>5</td>\n      <td>0</td>\n      <td>0</td>\n      <td>...</td>\n      <td>0</td>\n      <td>1.568125</td>\n      <td>0</td>\n      <td>0</td>\n      <td>0</td>\n      <td>1</td>\n      <td>0</td>\n      <td>0</td>\n      <td>0</td>\n      <td>25</td>\n    </tr>\n    <tr>\n      <th>...</th>\n      <td>...</td>\n      <td>...</td>\n      <td>...</td>\n      <td>...</td>\n      <td>...</td>\n      <td>...</td>\n      <td>...</td>\n      <td>...</td>\n      <td>...</td>\n      <td>...</td>\n      <td>...</td>\n      <td>...</td>\n      <td>...</td>\n      <td>...</td>\n      <td>...</td>\n      <td>...</td>\n      <td>...</td>\n      <td>...</td>\n      <td>...</td>\n      <td>...</td>\n      <td>...</td>\n    </tr>\n    <tr>\n      <th>4355</th>\n      <td>12548</td>\n      <td>1983</td>\n      <td>0</td>\n      <td>0</td>\n      <td>0</td>\n      <td>1</td>\n      <td>0</td>\n      <td>8</td>\n      <td>0</td>\n      <td>0</td>\n      <td>...</td>\n      <td>0</td>\n      <td>1.591879</td>\n      <td>0</td>\n      <td>0</td>\n      <td>1</td>\n      <td>0</td>\n      <td>0</td>\n      <td>0</td>\n      <td>0</td>\n      <td>64</td>\n    </tr>\n    <tr>\n      <th>4356</th>\n      <td>12548</td>\n      <td>1984</td>\n      <td>0</td>\n      <td>0</td>\n      <td>0</td>\n      <td>1</td>\n      <td>0</td>\n      <td>9</td>\n      <td>0</td>\n      <td>0</td>\n      <td>...</td>\n      <td>1</td>\n      <td>1.212543</td>\n      <td>0</td>\n      <td>0</td>\n      <td>0</td>\n      <td>1</td>\n      <td>0</td>\n      <td>0</td>\n      <td>0</td>\n      <td>81</td>\n    </tr>\n    <tr>\n      <th>4357</th>\n      <td>12548</td>\n      <td>1985</td>\n      <td>0</td>\n      <td>0</td>\n      <td>0</td>\n      <td>1</td>\n      <td>0</td>\n      <td>10</td>\n      <td>0</td>\n      <td>0</td>\n      <td>...</td>\n      <td>0</td>\n      <td>1.765962</td>\n      <td>0</td>\n      <td>0</td>\n      <td>0</td>\n      <td>0</td>\n      <td>1</td>\n      <td>0</td>\n      <td>0</td>\n      <td>100</td>\n    </tr>\n    <tr>\n      <th>4358</th>\n      <td>12548</td>\n      <td>1986</td>\n      <td>0</td>\n      <td>0</td>\n      <td>0</td>\n      <td>0</td>\n      <td>0</td>\n      <td>11</td>\n      <td>0</td>\n      <td>0</td>\n      <td>...</td>\n      <td>1</td>\n      <td>1.745894</td>\n      <td>0</td>\n      <td>0</td>\n      <td>0</td>\n      <td>0</td>\n      <td>0</td>\n      <td>1</td>\n      <td>0</td>\n      <td>121</td>\n    </tr>\n    <tr>\n      <th>4359</th>\n      <td>12548</td>\n      <td>1987</td>\n      <td>0</td>\n      <td>0</td>\n      <td>0</td>\n      <td>0</td>\n      <td>0</td>\n      <td>12</td>\n      <td>0</td>\n      <td>0</td>\n      <td>...</td>\n      <td>1</td>\n      <td>1.466543</td>\n      <td>0</td>\n      <td>0</td>\n      <td>0</td>\n      <td>0</td>\n      <td>0</td>\n      <td>0</td>\n      <td>1</td>\n      <td>144</td>\n    </tr>\n  </tbody>\n</table>\n<p>4360 rows × 44 columns</p>\n</div>"
     },
     "metadata": {},
     "execution_count": 270
    }
   ],
   "source": [
    "coletar_dados('wagepan')"
   ]
  },
  {
   "cell_type": "code",
   "execution_count": 271,
   "metadata": {},
   "outputs": [
    {
     "output_type": "execute_result",
     "data": {
      "text/plain": [
       "Index(['nr', 'year', 'agric', 'black', 'bus', 'construc', 'ent', 'exper',\n",
       "       'fin', 'hisp', 'poorhlth', 'hours', 'manuf', 'married', 'min',\n",
       "       'nrthcen', 'nrtheast', 'occ1', 'occ2', 'occ3', 'occ4', 'occ5', 'occ6',\n",
       "       'occ7', 'occ8', 'occ9', 'per', 'pro', 'pub', 'rur', 'south', 'educ',\n",
       "       'tra', 'trad', 'union', 'lwage', 'd81', 'd82', 'd83', 'd84', 'd85',\n",
       "       'd86', 'd87', 'expersq'],\n",
       "      dtype='object')"
      ]
     },
     "metadata": {},
     "execution_count": 271
    }
   ],
   "source": [
    "df.columns"
   ]
  },
  {
   "cell_type": "code",
   "execution_count": 272,
   "metadata": {},
   "outputs": [],
   "source": [
    "## criando as var. de interação\n",
    "df['d81educ'] = df['d81']*df['educ']\n",
    "df['d82educ'] = df['d82']*df['educ']\n",
    "df['d83educ'] = df['d83']*df['educ']\n",
    "df['d84educ'] = df['d84']*df['educ']\n",
    "df['d85educ'] = df['d85']*df['educ']\n",
    "df['d86educ'] = df['d86']*df['educ']\n",
    "df['d87educ'] = df['d87']*df['educ']"
   ]
  },
  {
   "cell_type": "code",
   "execution_count": 273,
   "metadata": {},
   "outputs": [],
   "source": [
    "## Usando PD, poderíamos estimar todos os parametros com a excecao do intercepto de 1980 e educ"
   ]
  },
  {
   "cell_type": "code",
   "execution_count": 274,
   "metadata": {},
   "outputs": [
    {
     "output_type": "execute_result",
     "data": {
      "text/plain": [
       "            agric  black  bus  construc  ent  exper  fin  hisp  poorhlth  \\\n",
       "nr    year                                                                 \n",
       "13    1980      0      0    1         0    0      1    0     0         0   \n",
       "      1981      0      0    0         0    0      2    0     0         0   \n",
       "      1982      0      0    1         0    0      3    0     0         0   \n",
       "      1983      0      0    1         0    0      4    0     0         0   \n",
       "      1984      0      0    0         0    0      5    0     0         0   \n",
       "...           ...    ...  ...       ...  ...    ...  ...   ...       ...   \n",
       "12548 1983      0      0    0         1    0      8    0     0         0   \n",
       "      1984      0      0    0         1    0      9    0     0         0   \n",
       "      1985      0      0    0         1    0     10    0     0         0   \n",
       "      1986      0      0    0         0    0     11    0     0         0   \n",
       "      1987      0      0    0         0    0     12    0     0         0   \n",
       "\n",
       "            hours  ...  d87  expersq  d81educ  d82educ  d83educ  d84educ  \\\n",
       "nr    year         ...                                                     \n",
       "13    1980   2672  ...    0        1        0        0        0        0   \n",
       "      1981   2320  ...    0        4       14        0        0        0   \n",
       "      1982   2940  ...    0        9        0       14        0        0   \n",
       "      1983   2960  ...    0       16        0        0       14        0   \n",
       "      1984   3071  ...    0       25        0        0        0       14   \n",
       "...           ...  ...  ...      ...      ...      ...      ...      ...   \n",
       "12548 1983   2080  ...    0       64        0        0        9        0   \n",
       "      1984   2080  ...    0       81        0        0        0        9   \n",
       "      1985   2080  ...    0      100        0        0        0        0   \n",
       "      1986   2080  ...    0      121        0        0        0        0   \n",
       "      1987   3380  ...    1      144        0        0        0        0   \n",
       "\n",
       "            d85educ  d86educ  d87educ  year  \n",
       "nr    year                                   \n",
       "13    1980        0        0        0  1980  \n",
       "      1981        0        0        0  1981  \n",
       "      1982        0        0        0  1982  \n",
       "      1983        0        0        0  1983  \n",
       "      1984        0        0        0  1984  \n",
       "...             ...      ...      ...   ...  \n",
       "12548 1983        0        0        0  1983  \n",
       "      1984        0        0        0  1984  \n",
       "      1985        9        0        0  1985  \n",
       "      1986        0        9        0  1986  \n",
       "      1987        0        0        9  1987  \n",
       "\n",
       "[4360 rows x 50 columns]"
      ],
      "text/html": "<div>\n<style scoped>\n    .dataframe tbody tr th:only-of-type {\n        vertical-align: middle;\n    }\n\n    .dataframe tbody tr th {\n        vertical-align: top;\n    }\n\n    .dataframe thead th {\n        text-align: right;\n    }\n</style>\n<table border=\"1\" class=\"dataframe\">\n  <thead>\n    <tr style=\"text-align: right;\">\n      <th></th>\n      <th></th>\n      <th>agric</th>\n      <th>black</th>\n      <th>bus</th>\n      <th>construc</th>\n      <th>ent</th>\n      <th>exper</th>\n      <th>fin</th>\n      <th>hisp</th>\n      <th>poorhlth</th>\n      <th>hours</th>\n      <th>...</th>\n      <th>d87</th>\n      <th>expersq</th>\n      <th>d81educ</th>\n      <th>d82educ</th>\n      <th>d83educ</th>\n      <th>d84educ</th>\n      <th>d85educ</th>\n      <th>d86educ</th>\n      <th>d87educ</th>\n      <th>year</th>\n    </tr>\n    <tr>\n      <th>nr</th>\n      <th>year</th>\n      <th></th>\n      <th></th>\n      <th></th>\n      <th></th>\n      <th></th>\n      <th></th>\n      <th></th>\n      <th></th>\n      <th></th>\n      <th></th>\n      <th></th>\n      <th></th>\n      <th></th>\n      <th></th>\n      <th></th>\n      <th></th>\n      <th></th>\n      <th></th>\n      <th></th>\n      <th></th>\n      <th></th>\n    </tr>\n  </thead>\n  <tbody>\n    <tr>\n      <th rowspan=\"5\" valign=\"top\">13</th>\n      <th>1980</th>\n      <td>0</td>\n      <td>0</td>\n      <td>1</td>\n      <td>0</td>\n      <td>0</td>\n      <td>1</td>\n      <td>0</td>\n      <td>0</td>\n      <td>0</td>\n      <td>2672</td>\n      <td>...</td>\n      <td>0</td>\n      <td>1</td>\n      <td>0</td>\n      <td>0</td>\n      <td>0</td>\n      <td>0</td>\n      <td>0</td>\n      <td>0</td>\n      <td>0</td>\n      <td>1980</td>\n    </tr>\n    <tr>\n      <th>1981</th>\n      <td>0</td>\n      <td>0</td>\n      <td>0</td>\n      <td>0</td>\n      <td>0</td>\n      <td>2</td>\n      <td>0</td>\n      <td>0</td>\n      <td>0</td>\n      <td>2320</td>\n      <td>...</td>\n      <td>0</td>\n      <td>4</td>\n      <td>14</td>\n      <td>0</td>\n      <td>0</td>\n      <td>0</td>\n      <td>0</td>\n      <td>0</td>\n      <td>0</td>\n      <td>1981</td>\n    </tr>\n    <tr>\n      <th>1982</th>\n      <td>0</td>\n      <td>0</td>\n      <td>1</td>\n      <td>0</td>\n      <td>0</td>\n      <td>3</td>\n      <td>0</td>\n      <td>0</td>\n      <td>0</td>\n      <td>2940</td>\n      <td>...</td>\n      <td>0</td>\n      <td>9</td>\n      <td>0</td>\n      <td>14</td>\n      <td>0</td>\n      <td>0</td>\n      <td>0</td>\n      <td>0</td>\n      <td>0</td>\n      <td>1982</td>\n    </tr>\n    <tr>\n      <th>1983</th>\n      <td>0</td>\n      <td>0</td>\n      <td>1</td>\n      <td>0</td>\n      <td>0</td>\n      <td>4</td>\n      <td>0</td>\n      <td>0</td>\n      <td>0</td>\n      <td>2960</td>\n      <td>...</td>\n      <td>0</td>\n      <td>16</td>\n      <td>0</td>\n      <td>0</td>\n      <td>14</td>\n      <td>0</td>\n      <td>0</td>\n      <td>0</td>\n      <td>0</td>\n      <td>1983</td>\n    </tr>\n    <tr>\n      <th>1984</th>\n      <td>0</td>\n      <td>0</td>\n      <td>0</td>\n      <td>0</td>\n      <td>0</td>\n      <td>5</td>\n      <td>0</td>\n      <td>0</td>\n      <td>0</td>\n      <td>3071</td>\n      <td>...</td>\n      <td>0</td>\n      <td>25</td>\n      <td>0</td>\n      <td>0</td>\n      <td>0</td>\n      <td>14</td>\n      <td>0</td>\n      <td>0</td>\n      <td>0</td>\n      <td>1984</td>\n    </tr>\n    <tr>\n      <th>...</th>\n      <th>...</th>\n      <td>...</td>\n      <td>...</td>\n      <td>...</td>\n      <td>...</td>\n      <td>...</td>\n      <td>...</td>\n      <td>...</td>\n      <td>...</td>\n      <td>...</td>\n      <td>...</td>\n      <td>...</td>\n      <td>...</td>\n      <td>...</td>\n      <td>...</td>\n      <td>...</td>\n      <td>...</td>\n      <td>...</td>\n      <td>...</td>\n      <td>...</td>\n      <td>...</td>\n      <td>...</td>\n    </tr>\n    <tr>\n      <th rowspan=\"5\" valign=\"top\">12548</th>\n      <th>1983</th>\n      <td>0</td>\n      <td>0</td>\n      <td>0</td>\n      <td>1</td>\n      <td>0</td>\n      <td>8</td>\n      <td>0</td>\n      <td>0</td>\n      <td>0</td>\n      <td>2080</td>\n      <td>...</td>\n      <td>0</td>\n      <td>64</td>\n      <td>0</td>\n      <td>0</td>\n      <td>9</td>\n      <td>0</td>\n      <td>0</td>\n      <td>0</td>\n      <td>0</td>\n      <td>1983</td>\n    </tr>\n    <tr>\n      <th>1984</th>\n      <td>0</td>\n      <td>0</td>\n      <td>0</td>\n      <td>1</td>\n      <td>0</td>\n      <td>9</td>\n      <td>0</td>\n      <td>0</td>\n      <td>0</td>\n      <td>2080</td>\n      <td>...</td>\n      <td>0</td>\n      <td>81</td>\n      <td>0</td>\n      <td>0</td>\n      <td>0</td>\n      <td>9</td>\n      <td>0</td>\n      <td>0</td>\n      <td>0</td>\n      <td>1984</td>\n    </tr>\n    <tr>\n      <th>1985</th>\n      <td>0</td>\n      <td>0</td>\n      <td>0</td>\n      <td>1</td>\n      <td>0</td>\n      <td>10</td>\n      <td>0</td>\n      <td>0</td>\n      <td>0</td>\n      <td>2080</td>\n      <td>...</td>\n      <td>0</td>\n      <td>100</td>\n      <td>0</td>\n      <td>0</td>\n      <td>0</td>\n      <td>0</td>\n      <td>9</td>\n      <td>0</td>\n      <td>0</td>\n      <td>1985</td>\n    </tr>\n    <tr>\n      <th>1986</th>\n      <td>0</td>\n      <td>0</td>\n      <td>0</td>\n      <td>0</td>\n      <td>0</td>\n      <td>11</td>\n      <td>0</td>\n      <td>0</td>\n      <td>0</td>\n      <td>2080</td>\n      <td>...</td>\n      <td>0</td>\n      <td>121</td>\n      <td>0</td>\n      <td>0</td>\n      <td>0</td>\n      <td>0</td>\n      <td>0</td>\n      <td>9</td>\n      <td>0</td>\n      <td>1986</td>\n    </tr>\n    <tr>\n      <th>1987</th>\n      <td>0</td>\n      <td>0</td>\n      <td>0</td>\n      <td>0</td>\n      <td>0</td>\n      <td>12</td>\n      <td>0</td>\n      <td>0</td>\n      <td>0</td>\n      <td>3380</td>\n      <td>...</td>\n      <td>1</td>\n      <td>144</td>\n      <td>0</td>\n      <td>0</td>\n      <td>0</td>\n      <td>0</td>\n      <td>0</td>\n      <td>0</td>\n      <td>9</td>\n      <td>1987</td>\n    </tr>\n  </tbody>\n</table>\n<p>4360 rows × 50 columns</p>\n</div>"
     },
     "metadata": {},
     "execution_count": 274
    }
   ],
   "source": [
    "## Arrumando o  painel para PD\n",
    "Arrumar_Painel()"
   ]
  },
  {
   "cell_type": "code",
   "execution_count": 275,
   "metadata": {},
   "outputs": [],
   "source": [
    "def Reg_Painel_Primeiras_Diferenças (x,y, robusta = \"N\"):\n",
    "    '''\n",
    "    Função que calcula uma regressão de primeiras diferenças SEM um intercepto, sendo, por default, computada com erros padrões não robustos.\n",
    "    Para calcular a regressão com um intercepto, ver o notebook \"Cap 13 e 14\".\n",
    "    **IMPORTANTE: para o painel estar arrumado, os dados devem estar multi-indexados por indíviduo e por tempo, nesta ordem.\n",
    "    Caso contrário, transformar o dataframe usando a função 'Arrumar Painel'\n",
    "    x: lista ou array com os valores das variáveis independentes;\n",
    "    y: lista ou array com os valores da variável dependente;\n",
    "    robusta: \"N\" para regressão com erros-padrão tradicionais e qualquer outro valor para erros-padrões robustos. Caso em branco, a regressão é computada com erros-padrão comuns.\n",
    "    '''\n",
    "    global df, Resultado\n",
    "\n",
    "    Modelo = FirstDifferenceOLS(y, x)\n",
    "\n",
    "    if robusta == \"N\":\n",
    "        Resultado = Modelo.fit()\n",
    "    else:\n",
    "        Resultado = Modelo.fit(cov_type = 'robust')\n",
    "\n",
    "    print(Resultado)"
   ]
  },
  {
   "cell_type": "code",
   "execution_count": 276,
   "metadata": {},
   "outputs": [
    {
     "output_type": "stream",
     "name": "stdout",
     "text": [
      "                     FirstDifferenceOLS Estimation Summary                      \n================================================================================\nDep. Variable:                  lwage   R-squared:                        0.0269\nEstimator:         FirstDifferenceOLS   R-squared (Between):              0.2843\nNo. Observations:                3815   R-squared (Within):               0.1678\nDate:                Tue, Mar 09 2021   R-squared (Overall):              0.2792\nTime:                        11:28:17   Log-likelihood                   -2305.2\nCov. Estimator:                Robust                                           \n                                        F-statistic:                      7.0037\nEntities:                         545   P-value                           0.0000\nAvg Obs:                       8.0000   Distribution:                 F(15,3800)\nMin Obs:                       8.0000                                           \nMax Obs:                       8.0000   F-statistic (robust):             6.4397\n                                        P-value                           0.0000\nTime periods:                       8   Distribution:                 F(15,3800)\nAvg Obs:                       545.00                                           \nMin Obs:                       545.00                                           \nMax Obs:                       545.00                                           \n                                                                                \n                             Parameter Estimates                              \n==============================================================================\n            Parameter  Std. Err.     T-stat    P-value    Lower CI    Upper CI\n------------------------------------------------------------------------------\nyear.1981     -0.0222     0.1434    -0.1550     0.8768     -0.3033      0.2589\nyear.1982     -0.0089     0.1773    -0.0503     0.9599     -0.3565      0.3386\nyear.1983      0.0127     0.2006     0.0633     0.9495     -0.3805      0.4059\nyear.1984      0.0903     0.2298     0.3930     0.6943     -0.3602      0.5408\nyear.1985      0.0445     0.2528     0.1761     0.8602     -0.4512      0.5402\nyear.1986      0.0603     0.2819     0.2140     0.8306     -0.4923      0.6129\nyear.1987      0.0939     0.3062     0.3067     0.7591     -0.5064      0.6942\nd81educ        0.0120     0.0121     0.9932     0.3207     -0.0117      0.0358\nd82educ        0.0159     0.0148     1.0710     0.2842     -0.0132      0.0450\nd83educ        0.0181     0.0168     1.0789     0.2807     -0.0148      0.0511\nd84educ        0.0176     0.0195     0.8999     0.3682     -0.0207      0.0558\nd85educ        0.0257     0.0217     1.1873     0.2352     -0.0167      0.0682\nd86educ        0.0295     0.0242     1.2232     0.2213     -0.0178      0.0769\nd87educ        0.0322     0.0262     1.2304     0.2186     -0.0191      0.0835\nunion          0.0413     0.0198     2.0870     0.0370      0.0025      0.0802\n==============================================================================\n"
     ]
    }
   ],
   "source": [
    "## fazendo a regressão de primeiras diferenças (modelo irrestrito)\n",
    "x = df[['year','d81educ', 'd82educ', 'd83educ', 'd84educ','d85educ', 'd86educ', 'd87educ','union']]\n",
    "y= df['lwage']\n",
    "Reg_Painel_Primeiras_Diferenças(x,y, robusta='S')"
   ]
  },
  {
   "cell_type": "code",
   "execution_count": 255,
   "metadata": {},
   "outputs": [
    {
     "output_type": "execute_result",
     "data": {
      "text/plain": [
       "Linear Equality Hypothesis Test\n",
       "H0: Linear equality constraint is valid\n",
       "Statistic: 2.2231\n",
       "P-value: 0.9465\n",
       "Distributed: chi2(7)\n",
       "WaldTestStatistic, id: 0x7f8014ea6d50"
      ]
     },
     "metadata": {},
     "execution_count": 255
    }
   ],
   "source": [
    "## Fazendo um Teste de Wald robusto\n",
    "restricoes = 'd81educ = d82educ = d83educ = d84educ = d85educ = d86educ = d87educ = 0'\n",
    "Resultado.wald_test(formula=restricoes)"
   ]
  },
  {
   "cell_type": "code",
   "execution_count": 258,
   "metadata": {},
   "outputs": [],
   "source": [
    "for column in df[['d81','d82','d83','d84','d85','d86','d87','d81educ', 'd82educ', 'd83educ', 'd84educ','d85educ', 'd86educ', 'd87educ','union','lwage']].columns:\n",
    "    df[f'c{column}'] = df[column].diff()"
   ]
  },
  {
   "cell_type": "code",
   "execution_count": 259,
   "metadata": {},
   "outputs": [
    {
     "output_type": "stream",
     "name": "stdout",
     "text": [
      "                            OLS Regression Results                            \n==============================================================================\nDep. Variable:                 clwage   R-squared:                       0.004\nModel:                            OLS   Adj. R-squared:                  0.001\nMethod:                 Least Squares   F-statistic:                     6.440\nDate:                Tue, 09 Mar 2021   Prob (F-statistic):           9.03e-14\nTime:                        11:16:57   Log-Likelihood:                -2305.2\nNo. Observations:                3815   AIC:                             4640.\nDf Residuals:                    3800   BIC:                             4734.\nDf Model:                          14                                         \nCovariance Type:                  HC1                                         \n==============================================================================\n                 coef    std err          t      P>|t|      [0.025      0.975]\n------------------------------------------------------------------------------\nconst          0.0114      0.046      0.245      0.806      -0.079       0.102\ncd81          -0.0336      0.121     -0.279      0.781      -0.270       0.203\ncd82          -0.0316      0.124     -0.255      0.798      -0.274       0.211\ncd83          -0.0214      0.115     -0.186      0.852      -0.246       0.203\ncd84           0.0449      0.098      0.460      0.646      -0.147       0.236\ncd85          -0.0123      0.080     -0.153      0.878      -0.169       0.144\ncd86          -0.0078      0.078     -0.101      0.920      -0.160       0.145\ncd87           0.0144      0.115      0.126      0.900      -0.211       0.240\ncd81educ       0.0120      0.012      0.993      0.321      -0.012       0.036\ncd82educ       0.0159      0.015      1.071      0.284      -0.013       0.045\ncd83educ       0.0181      0.017      1.079      0.281      -0.015       0.051\ncd84educ       0.0176      0.020      0.900      0.368      -0.021       0.056\ncd85educ       0.0257      0.022      1.187      0.235      -0.017       0.068\ncd86educ       0.0295      0.024      1.223      0.221      -0.018       0.077\ncd87educ       0.0322      0.026      1.230      0.219      -0.019       0.083\ncunion         0.0413      0.020      2.087      0.037       0.003       0.080\n==============================================================================\nOmnibus:                     1018.677   Durbin-Watson:                   2.716\nProb(Omnibus):                  0.000   Jarque-Bera (JB):            49755.604\nSkew:                           0.461   Prob(JB):                         0.00\nKurtosis:                      20.668   Cond. No.                     6.34e+15\n==============================================================================\n\nWarnings:\n[1] Standard Errors are heteroscedasticity robust (HC1)\n[2] The smallest eigenvalue is 7.4e-27. This might indicate that there are\nstrong multicollinearity problems or that the design matrix is singular.\nO erro padrão da regressão é 0.44371 e a SQR é 747.93546\n\nPara ver os valores previstos ou os resídudos, basta chamar 'Lista_ychapeu' e 'Resíduos'.\nOs resultados do modelo podem ser obtidos através de métodos usando a variável 'Resultado'.\n\n    Valores de condição maiores que 20 indicam problemas de multicolinearidade.\n    Para ver como achar esse número, entre em https://www.statsmodels.org/dev/examples/notebooks/generated/ols.html\n"
     ]
    }
   ],
   "source": [
    "df_pd = df.loc[df['year'] != 1980]\n",
    "x = df_pd[['cd81','cd82','cd83','cd84','cd85','cd86','cd87','cd81educ', 'cd82educ', 'cd83educ', 'cd84educ','cd85educ', 'cd86educ', 'cd87educ','cunion']]\n",
    "y= df_pd['clwage']\n",
    "\n",
    "Regressao_Multipla(x,y, robusta = 'S')"
   ]
  },
  {
   "cell_type": "code",
   "execution_count": 260,
   "metadata": {},
   "outputs": [
    {
     "output_type": "execute_result",
     "data": {
      "text/plain": [
       "<class 'statsmodels.stats.contrast.ContrastResults'>\n",
       "<F test: F=array([[0.31758259]]), p=0.9464166620135541, df_denom=3.8e+03, df_num=7>"
      ]
     },
     "metadata": {},
     "execution_count": 260
    }
   ],
   "source": [
    "h0 = '(cd81educ = 0, cd82educ = 0, cd83educ = 0, cd84educ = 0, cd85educ = 0, cd86educ = 0, cd87educ = 0)'\n",
    "ho = 'cd81educ = cd82educ = cd83educ = cd84educ = cd85educ = cd86educ = cd87educ = 0'\n",
    "Resultado.wald_test(ho)"
   ]
  },
  {
   "cell_type": "code",
   "execution_count": 263,
   "metadata": {},
   "outputs": [],
   "source": [
    "def Teste_F(H0, Nivel_de_Significância = 0.05):\n",
    "    '''\n",
    "    Função que calcula um teste F com base nas restrições de H0\n",
    "    H0 deve estar na forma B1 = B2 =...= Valor que deseja ser testado (0 na maioria das vezes)\n",
    "    '''\n",
    "    global Resultado\n",
    "    ## A função utiliza o método wald_test dos resultados das regressões\n",
    "    # Para modelos de painel - cujo método usa a estatística LM -, devemos especificar o parâmetro 'formula', o que não ocorre com cortes transversais\n",
    "    try:\n",
    "        teste = 'LM'\n",
    "        est = Resultado.wald_test(formula=H0).stat\n",
    "        p = Resultado.wald_test(formula=H0).pval\n",
    "    except:\n",
    "        teste = 'F'\n",
    "        est = float(str(Resultado.wald_test(H0))[19:29])\n",
    "        p = float(str(Resultado.wald_test(H0))[36:47])\n",
    "\n",
    "    if Nivel_de_Significância > p:\n",
    "        print(f\"O valor de {teste} é {round(est,6)} e seu p-valor é {round(p,7)}. Portanto, rejeita-se Ho à significância de {Nivel_de_Significância*100}%, ou seja, as variáveis são conjuntamente significantes.\")\n",
    "    else:\n",
    "        print(f\"O valor de {teste} é {round(est,6)} e seu p-valor é {round(p,7)}. Portanto, não se rejeita Ho à significância de {Nivel_de_Significância*100}%, ou seja, as variáveis NÃO são conjuntamente significantes.\")"
   ]
  },
  {
   "cell_type": "code",
   "execution_count": 264,
   "metadata": {},
   "outputs": [
    {
     "output_type": "stream",
     "name": "stdout",
     "text": [
      "O valor de F é 0.317583 e seu p-valor é 0.9464167. Portanto, não se rejeita Ho à significância de 5.0%, ou seja, as variáveis NÃO são conjuntamente significantes.\n"
     ]
    }
   ],
   "source": [
    "Teste_F(ho)"
   ]
  },
  {
   "source": [
    "### Fazendo um teste robusto para heteroscedasticidade"
   ],
   "cell_type": "markdown",
   "metadata": {}
  },
  {
   "cell_type": "code",
   "execution_count": 265,
   "metadata": {},
   "outputs": [
    {
     "output_type": "stream",
     "name": "stdout",
     "text": [
      "gpa3.dta foi lido com sucesso!\n"
     ]
    },
    {
     "output_type": "execute_result",
     "data": {
      "text/plain": [
       "     term   sat  tothrs  cumgpa  season  frstsem  crsgpa  verbmath  trmgpa  \\\n",
       "0       1   920      31    2.25       0        0  2.6464   0.48387    1.50   \n",
       "1       2   920      43    2.04       1        0  2.5077   0.48387    2.25   \n",
       "2       1   780      28    2.03       0        0  2.8679   0.81395    2.20   \n",
       "3       2   780      43    2.09       1        0  2.8839   0.81395    1.60   \n",
       "4       1   810       0    0.00       0        1  2.7634   0.88372    1.60   \n",
       "..    ...   ...     ...     ...     ...      ...     ...       ...     ...   \n",
       "727     2  1170      76    2.21       0        0  2.8945   0.74627    2.80   \n",
       "728     1  1010      27    2.44       1        0  2.7771   0.83636    2.20   \n",
       "729     2  1010      42    2.35       1        0  3.1293   0.83636    2.50   \n",
       "730     1   700       0    0.00       1        1  2.6287   0.89189    2.50   \n",
       "731     2   700      12    2.50       1        0  2.7945   0.89189    2.80   \n",
       "\n",
       "     hssize  ...  female  black  white  ctrmgpa  ctothrs  ccrsgpa     ccrspop  \\\n",
       "0        10  ...       1      0      0      NaN      NaN      NaN         NaN   \n",
       "1        10  ...       1      0      0     0.75     12.0  -0.1387  -62.250000   \n",
       "2       123  ...       0      0      1      NaN      NaN      NaN         NaN   \n",
       "3       123  ...       0      0      1    -0.60     15.0   0.0160  -73.250000   \n",
       "4       119  ...       0      0      1      NaN      NaN      NaN         NaN   \n",
       "..      ...  ...     ...    ...    ...      ...      ...      ...         ...   \n",
       "727     177  ...       0      0      1     0.63     12.0   0.2601 -207.799988   \n",
       "728     322  ...       0      0      1      NaN      NaN      NaN         NaN   \n",
       "729     322  ...       0      0      1     0.30     15.0   0.3522  -81.100006   \n",
       "730     200  ...       1      0      0      NaN      NaN      NaN         NaN   \n",
       "731     200  ...       1      0      0     0.30     12.0   0.1658  313.299988   \n",
       "\n",
       "     cseason     hsperc  football  \n",
       "0        NaN  40.000000         0  \n",
       "1        1.0  40.000000         0  \n",
       "2        NaN  82.926826         0  \n",
       "3        1.0  82.926826         0  \n",
       "4        NaN  35.294117         0  \n",
       "..       ...        ...       ...  \n",
       "727     -1.0  29.943502         1  \n",
       "728      NaN  52.173912         0  \n",
       "729      0.0  52.173912         0  \n",
       "730      NaN  40.000000         0  \n",
       "731      0.0  40.000000         0  \n",
       "\n",
       "[732 rows x 23 columns]"
      ],
      "text/html": "<div>\n<style scoped>\n    .dataframe tbody tr th:only-of-type {\n        vertical-align: middle;\n    }\n\n    .dataframe tbody tr th {\n        vertical-align: top;\n    }\n\n    .dataframe thead th {\n        text-align: right;\n    }\n</style>\n<table border=\"1\" class=\"dataframe\">\n  <thead>\n    <tr style=\"text-align: right;\">\n      <th></th>\n      <th>term</th>\n      <th>sat</th>\n      <th>tothrs</th>\n      <th>cumgpa</th>\n      <th>season</th>\n      <th>frstsem</th>\n      <th>crsgpa</th>\n      <th>verbmath</th>\n      <th>trmgpa</th>\n      <th>hssize</th>\n      <th>...</th>\n      <th>female</th>\n      <th>black</th>\n      <th>white</th>\n      <th>ctrmgpa</th>\n      <th>ctothrs</th>\n      <th>ccrsgpa</th>\n      <th>ccrspop</th>\n      <th>cseason</th>\n      <th>hsperc</th>\n      <th>football</th>\n    </tr>\n  </thead>\n  <tbody>\n    <tr>\n      <th>0</th>\n      <td>1</td>\n      <td>920</td>\n      <td>31</td>\n      <td>2.25</td>\n      <td>0</td>\n      <td>0</td>\n      <td>2.6464</td>\n      <td>0.48387</td>\n      <td>1.50</td>\n      <td>10</td>\n      <td>...</td>\n      <td>1</td>\n      <td>0</td>\n      <td>0</td>\n      <td>NaN</td>\n      <td>NaN</td>\n      <td>NaN</td>\n      <td>NaN</td>\n      <td>NaN</td>\n      <td>40.000000</td>\n      <td>0</td>\n    </tr>\n    <tr>\n      <th>1</th>\n      <td>2</td>\n      <td>920</td>\n      <td>43</td>\n      <td>2.04</td>\n      <td>1</td>\n      <td>0</td>\n      <td>2.5077</td>\n      <td>0.48387</td>\n      <td>2.25</td>\n      <td>10</td>\n      <td>...</td>\n      <td>1</td>\n      <td>0</td>\n      <td>0</td>\n      <td>0.75</td>\n      <td>12.0</td>\n      <td>-0.1387</td>\n      <td>-62.250000</td>\n      <td>1.0</td>\n      <td>40.000000</td>\n      <td>0</td>\n    </tr>\n    <tr>\n      <th>2</th>\n      <td>1</td>\n      <td>780</td>\n      <td>28</td>\n      <td>2.03</td>\n      <td>0</td>\n      <td>0</td>\n      <td>2.8679</td>\n      <td>0.81395</td>\n      <td>2.20</td>\n      <td>123</td>\n      <td>...</td>\n      <td>0</td>\n      <td>0</td>\n      <td>1</td>\n      <td>NaN</td>\n      <td>NaN</td>\n      <td>NaN</td>\n      <td>NaN</td>\n      <td>NaN</td>\n      <td>82.926826</td>\n      <td>0</td>\n    </tr>\n    <tr>\n      <th>3</th>\n      <td>2</td>\n      <td>780</td>\n      <td>43</td>\n      <td>2.09</td>\n      <td>1</td>\n      <td>0</td>\n      <td>2.8839</td>\n      <td>0.81395</td>\n      <td>1.60</td>\n      <td>123</td>\n      <td>...</td>\n      <td>0</td>\n      <td>0</td>\n      <td>1</td>\n      <td>-0.60</td>\n      <td>15.0</td>\n      <td>0.0160</td>\n      <td>-73.250000</td>\n      <td>1.0</td>\n      <td>82.926826</td>\n      <td>0</td>\n    </tr>\n    <tr>\n      <th>4</th>\n      <td>1</td>\n      <td>810</td>\n      <td>0</td>\n      <td>0.00</td>\n      <td>0</td>\n      <td>1</td>\n      <td>2.7634</td>\n      <td>0.88372</td>\n      <td>1.60</td>\n      <td>119</td>\n      <td>...</td>\n      <td>0</td>\n      <td>0</td>\n      <td>1</td>\n      <td>NaN</td>\n      <td>NaN</td>\n      <td>NaN</td>\n      <td>NaN</td>\n      <td>NaN</td>\n      <td>35.294117</td>\n      <td>0</td>\n    </tr>\n    <tr>\n      <th>...</th>\n      <td>...</td>\n      <td>...</td>\n      <td>...</td>\n      <td>...</td>\n      <td>...</td>\n      <td>...</td>\n      <td>...</td>\n      <td>...</td>\n      <td>...</td>\n      <td>...</td>\n      <td>...</td>\n      <td>...</td>\n      <td>...</td>\n      <td>...</td>\n      <td>...</td>\n      <td>...</td>\n      <td>...</td>\n      <td>...</td>\n      <td>...</td>\n      <td>...</td>\n      <td>...</td>\n    </tr>\n    <tr>\n      <th>727</th>\n      <td>2</td>\n      <td>1170</td>\n      <td>76</td>\n      <td>2.21</td>\n      <td>0</td>\n      <td>0</td>\n      <td>2.8945</td>\n      <td>0.74627</td>\n      <td>2.80</td>\n      <td>177</td>\n      <td>...</td>\n      <td>0</td>\n      <td>0</td>\n      <td>1</td>\n      <td>0.63</td>\n      <td>12.0</td>\n      <td>0.2601</td>\n      <td>-207.799988</td>\n      <td>-1.0</td>\n      <td>29.943502</td>\n      <td>1</td>\n    </tr>\n    <tr>\n      <th>728</th>\n      <td>1</td>\n      <td>1010</td>\n      <td>27</td>\n      <td>2.44</td>\n      <td>1</td>\n      <td>0</td>\n      <td>2.7771</td>\n      <td>0.83636</td>\n      <td>2.20</td>\n      <td>322</td>\n      <td>...</td>\n      <td>0</td>\n      <td>0</td>\n      <td>1</td>\n      <td>NaN</td>\n      <td>NaN</td>\n      <td>NaN</td>\n      <td>NaN</td>\n      <td>NaN</td>\n      <td>52.173912</td>\n      <td>0</td>\n    </tr>\n    <tr>\n      <th>729</th>\n      <td>2</td>\n      <td>1010</td>\n      <td>42</td>\n      <td>2.35</td>\n      <td>1</td>\n      <td>0</td>\n      <td>3.1293</td>\n      <td>0.83636</td>\n      <td>2.50</td>\n      <td>322</td>\n      <td>...</td>\n      <td>0</td>\n      <td>0</td>\n      <td>1</td>\n      <td>0.30</td>\n      <td>15.0</td>\n      <td>0.3522</td>\n      <td>-81.100006</td>\n      <td>0.0</td>\n      <td>52.173912</td>\n      <td>0</td>\n    </tr>\n    <tr>\n      <th>730</th>\n      <td>1</td>\n      <td>700</td>\n      <td>0</td>\n      <td>0.00</td>\n      <td>1</td>\n      <td>1</td>\n      <td>2.6287</td>\n      <td>0.89189</td>\n      <td>2.50</td>\n      <td>200</td>\n      <td>...</td>\n      <td>1</td>\n      <td>0</td>\n      <td>0</td>\n      <td>NaN</td>\n      <td>NaN</td>\n      <td>NaN</td>\n      <td>NaN</td>\n      <td>NaN</td>\n      <td>40.000000</td>\n      <td>0</td>\n    </tr>\n    <tr>\n      <th>731</th>\n      <td>2</td>\n      <td>700</td>\n      <td>12</td>\n      <td>2.50</td>\n      <td>1</td>\n      <td>0</td>\n      <td>2.7945</td>\n      <td>0.89189</td>\n      <td>2.80</td>\n      <td>200</td>\n      <td>...</td>\n      <td>1</td>\n      <td>0</td>\n      <td>0</td>\n      <td>0.30</td>\n      <td>12.0</td>\n      <td>0.1658</td>\n      <td>313.299988</td>\n      <td>0.0</td>\n      <td>40.000000</td>\n      <td>0</td>\n    </tr>\n  </tbody>\n</table>\n<p>732 rows × 23 columns</p>\n</div>"
     },
     "metadata": {},
     "execution_count": 265
    }
   ],
   "source": [
    "coletar_dados('gpa3')"
   ]
  },
  {
   "cell_type": "code",
   "execution_count": 266,
   "metadata": {},
   "outputs": [
    {
     "output_type": "execute_result",
     "data": {
      "text/plain": [
       "Index(['term', 'sat', 'tothrs', 'cumgpa', 'season', 'frstsem', 'crsgpa',\n",
       "       'verbmath', 'trmgpa', 'hssize', 'hsrank', 'id', 'spring', 'female',\n",
       "       'black', 'white', 'ctrmgpa', 'ctothrs', 'ccrsgpa', 'ccrspop', 'cseason',\n",
       "       'hsperc', 'football'],\n",
       "      dtype='object')"
      ]
     },
     "metadata": {},
     "execution_count": 266
    }
   ],
   "source": [
    "df.columns"
   ]
  },
  {
   "cell_type": "code",
   "execution_count": 267,
   "metadata": {},
   "outputs": [
    {
     "output_type": "stream",
     "name": "stdout",
     "text": [
      "                            OLS Regression Results                            \n==============================================================================\nDep. Variable:                 cumgpa   R-squared:                       0.401\nModel:                            OLS   Adj. R-squared:                  0.391\nMethod:                 Least Squares   F-statistic:                     39.30\nDate:                Tue, 09 Mar 2021   Prob (F-statistic):           1.15e-36\nTime:                        11:20:04   Log-Likelihood:                -238.90\nNo. Observations:                 366   AIC:                             491.8\nDf Residuals:                     359   BIC:                             519.1\nDf Model:                           6                                         \nCovariance Type:                  HC1                                         \n==============================================================================\n                 coef    std err          t      P>|t|      [0.025      0.975]\n------------------------------------------------------------------------------\nconst          1.4701      0.221      6.662      0.000       1.036       1.904\nsat            0.0011      0.000      5.956      0.000       0.001       0.002\ntothrs         0.0025      0.001      3.381      0.001       0.001       0.004\nhsperc        -0.0086      0.001     -6.041      0.000      -0.011      -0.006\nfemale         0.3034      0.059      5.131      0.000       0.187       0.420\nblack         -0.1283      0.119     -1.076      0.283      -0.363       0.106\nwhite         -0.0587      0.111     -0.527      0.598      -0.278       0.160\n==============================================================================\nOmnibus:                        5.271   Durbin-Watson:                   1.865\nProb(Omnibus):                  0.072   Jarque-Bera (JB):                6.429\nSkew:                          -0.123   Prob(JB):                       0.0402\nKurtosis:                       3.601   Cond. No.                     1.01e+04\n==============================================================================\n\nWarnings:\n[1] Standard Errors are heteroscedasticity robust (HC1)\n[2] The condition number is large, 1.01e+04. This might indicate that there are\nstrong multicollinearity or other numerical problems.\nO erro padrão da regressão é 0.46929 e a SQR é 79.06233\n\nPara ver os valores previstos ou os resídudos, basta chamar 'Lista_ychapeu' e 'Resíduos'.\nOs resultados do modelo podem ser obtidos através de métodos usando a variável 'Resultado'.\n\n    Valores de condição maiores que 20 indicam problemas de multicolinearidade.\n    Para ver como achar esse número, entre em https://www.statsmodels.org/dev/examples/notebooks/generated/ols.html\n"
     ]
    }
   ],
   "source": [
    "df = df.loc[df['spring'] == 1]\n",
    "x = df[['sat','tothrs','hsperc','female','black','white']]\n",
    "y = df['cumgpa']\n",
    "Regressao_Multipla(x,y,robusta='S')"
   ]
  },
  {
   "cell_type": "code",
   "execution_count": 269,
   "metadata": {},
   "outputs": [
    {
     "output_type": "stream",
     "name": "stdout",
     "text": [
      "O valor de F é 0.733495 e seu p-valor é 0.480946. Portanto, não se rejeita Ho à significância de 5.0%, ou seja, as variáveis NÃO são conjuntamente significantes.\n"
     ]
    }
   ],
   "source": [
    "h0 = '(black = 0, white = 0)'\n",
    "Teste_F(h0)"
   ]
  },
  {
   "cell_type": "code",
   "execution_count": 160,
   "metadata": {},
   "outputs": [
    {
     "output_type": "execute_result",
     "data": {
      "text/plain": [
       "'<F test: F=array([[0.73349485]]), p=0.48094600268223997, df_denom=359, df_num=2>'"
      ]
     },
     "metadata": {},
     "execution_count": 160
    }
   ],
   "source": [
    "Resultado.wald_test(h0, cov_p=Resultado.cov_HC1).summary()"
   ]
  },
  {
   "cell_type": "code",
   "execution_count": 161,
   "metadata": {},
   "outputs": [
    {
     "output_type": "execute_result",
     "data": {
      "text/plain": [
       "'<F test: F=array([[0.74779698]]), p=0.4741442714738484, df_denom=359, df_num=2>'"
      ]
     },
     "metadata": {},
     "execution_count": 161
    }
   ],
   "source": [
    "Resultado.wald_test(h0, cov_p=Resultado.cov_HC0).summary()"
   ]
  }
 ]
}